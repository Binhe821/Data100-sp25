{
  "cells": [
    {
      "cell_type": "markdown",
      "metadata": {
        "tags": []
      },
      "source": [
        "# Lecture 12 – Data 100, Spring 2025\n",
        "\n",
        "Data 100, Spring 2025\n",
        "\n",
        "[Acknowledgments Page](https://ds100.org/sp25/acks/)"
      ]
    },
    {
      "cell_type": "code",
      "execution_count": 2,
      "metadata": {},
      "outputs": [],
      "source": [
        "import numpy as np\n",
        "import pandas as pd\n",
        "import matplotlib.pyplot as plt\n",
        "%matplotlib inline\n",
        "import seaborn as sns"
      ]
    },
    {
      "cell_type": "markdown",
      "metadata": {},
      "source": [
        "## Multiple Linear Regression"
      ]
    },
    {
      "cell_type": "markdown",
      "metadata": {},
      "source": [
        "Let's load in a new dataset. This is aggregate per-player data from the 2018-19 NBA season, downloaded from [Kaggle](https://www.kaggle.com/schmadam97/nba-regular-season-stats-20182019)."
      ]
    },
    {
      "cell_type": "code",
      "execution_count": 3,
      "metadata": {},
      "outputs": [],
      "source": [
        "nba = pd.read_csv('data/nba18-19.csv', index_col=0)\n",
        "nba.index.name = None # Drops name of index (players are ordered by rank)"
      ]
    },
    {
      "cell_type": "code",
      "execution_count": 4,
      "metadata": {},
      "outputs": [
        {
          "data": {
            "text/html": [
              "<div>\n",
              "<style scoped>\n",
              "    .dataframe tbody tr th:only-of-type {\n",
              "        vertical-align: middle;\n",
              "    }\n",
              "\n",
              "    .dataframe tbody tr th {\n",
              "        vertical-align: top;\n",
              "    }\n",
              "\n",
              "    .dataframe thead th {\n",
              "        text-align: right;\n",
              "    }\n",
              "</style>\n",
              "<table border=\"1\" class=\"dataframe\">\n",
              "  <thead>\n",
              "    <tr style=\"text-align: right;\">\n",
              "      <th></th>\n",
              "      <th>Player</th>\n",
              "      <th>Pos</th>\n",
              "      <th>Age</th>\n",
              "      <th>Tm</th>\n",
              "      <th>G</th>\n",
              "      <th>GS</th>\n",
              "      <th>MP</th>\n",
              "      <th>FG</th>\n",
              "      <th>FGA</th>\n",
              "      <th>FG%</th>\n",
              "      <th>...</th>\n",
              "      <th>FT%</th>\n",
              "      <th>ORB</th>\n",
              "      <th>DRB</th>\n",
              "      <th>TRB</th>\n",
              "      <th>AST</th>\n",
              "      <th>STL</th>\n",
              "      <th>BLK</th>\n",
              "      <th>TOV</th>\n",
              "      <th>PF</th>\n",
              "      <th>PTS</th>\n",
              "    </tr>\n",
              "  </thead>\n",
              "  <tbody>\n",
              "    <tr>\n",
              "      <th>1</th>\n",
              "      <td>Álex Abrines\\abrinal01</td>\n",
              "      <td>SG</td>\n",
              "      <td>25</td>\n",
              "      <td>OKC</td>\n",
              "      <td>31</td>\n",
              "      <td>2</td>\n",
              "      <td>19.0</td>\n",
              "      <td>1.8</td>\n",
              "      <td>5.1</td>\n",
              "      <td>0.357</td>\n",
              "      <td>...</td>\n",
              "      <td>0.923</td>\n",
              "      <td>0.2</td>\n",
              "      <td>1.4</td>\n",
              "      <td>1.5</td>\n",
              "      <td>0.6</td>\n",
              "      <td>0.5</td>\n",
              "      <td>0.2</td>\n",
              "      <td>0.5</td>\n",
              "      <td>1.7</td>\n",
              "      <td>5.3</td>\n",
              "    </tr>\n",
              "    <tr>\n",
              "      <th>2</th>\n",
              "      <td>Quincy Acy\\acyqu01</td>\n",
              "      <td>PF</td>\n",
              "      <td>28</td>\n",
              "      <td>PHO</td>\n",
              "      <td>10</td>\n",
              "      <td>0</td>\n",
              "      <td>12.3</td>\n",
              "      <td>0.4</td>\n",
              "      <td>1.8</td>\n",
              "      <td>0.222</td>\n",
              "      <td>...</td>\n",
              "      <td>0.700</td>\n",
              "      <td>0.3</td>\n",
              "      <td>2.2</td>\n",
              "      <td>2.5</td>\n",
              "      <td>0.8</td>\n",
              "      <td>0.1</td>\n",
              "      <td>0.4</td>\n",
              "      <td>0.4</td>\n",
              "      <td>2.4</td>\n",
              "      <td>1.7</td>\n",
              "    </tr>\n",
              "    <tr>\n",
              "      <th>3</th>\n",
              "      <td>Jaylen Adams\\adamsja01</td>\n",
              "      <td>PG</td>\n",
              "      <td>22</td>\n",
              "      <td>ATL</td>\n",
              "      <td>34</td>\n",
              "      <td>1</td>\n",
              "      <td>12.6</td>\n",
              "      <td>1.1</td>\n",
              "      <td>3.2</td>\n",
              "      <td>0.345</td>\n",
              "      <td>...</td>\n",
              "      <td>0.778</td>\n",
              "      <td>0.3</td>\n",
              "      <td>1.4</td>\n",
              "      <td>1.8</td>\n",
              "      <td>1.9</td>\n",
              "      <td>0.4</td>\n",
              "      <td>0.1</td>\n",
              "      <td>0.8</td>\n",
              "      <td>1.3</td>\n",
              "      <td>3.2</td>\n",
              "    </tr>\n",
              "    <tr>\n",
              "      <th>4</th>\n",
              "      <td>Steven Adams\\adamsst01</td>\n",
              "      <td>C</td>\n",
              "      <td>25</td>\n",
              "      <td>OKC</td>\n",
              "      <td>80</td>\n",
              "      <td>80</td>\n",
              "      <td>33.4</td>\n",
              "      <td>6.0</td>\n",
              "      <td>10.1</td>\n",
              "      <td>0.595</td>\n",
              "      <td>...</td>\n",
              "      <td>0.500</td>\n",
              "      <td>4.9</td>\n",
              "      <td>4.6</td>\n",
              "      <td>9.5</td>\n",
              "      <td>1.6</td>\n",
              "      <td>1.5</td>\n",
              "      <td>1.0</td>\n",
              "      <td>1.7</td>\n",
              "      <td>2.6</td>\n",
              "      <td>13.9</td>\n",
              "    </tr>\n",
              "    <tr>\n",
              "      <th>5</th>\n",
              "      <td>Bam Adebayo\\adebaba01</td>\n",
              "      <td>C</td>\n",
              "      <td>21</td>\n",
              "      <td>MIA</td>\n",
              "      <td>82</td>\n",
              "      <td>28</td>\n",
              "      <td>23.3</td>\n",
              "      <td>3.4</td>\n",
              "      <td>5.9</td>\n",
              "      <td>0.576</td>\n",
              "      <td>...</td>\n",
              "      <td>0.735</td>\n",
              "      <td>2.0</td>\n",
              "      <td>5.3</td>\n",
              "      <td>7.3</td>\n",
              "      <td>2.2</td>\n",
              "      <td>0.9</td>\n",
              "      <td>0.8</td>\n",
              "      <td>1.5</td>\n",
              "      <td>2.5</td>\n",
              "      <td>8.9</td>\n",
              "    </tr>\n",
              "  </tbody>\n",
              "</table>\n",
              "<p>5 rows × 29 columns</p>\n",
              "</div>"
            ],
            "text/plain": [
              "                   Player Pos  Age   Tm   G  GS    MP   FG   FGA    FG%  ...  \\\n",
              "1  Álex Abrines\\abrinal01  SG   25  OKC  31   2  19.0  1.8   5.1  0.357  ...   \n",
              "2      Quincy Acy\\acyqu01  PF   28  PHO  10   0  12.3  0.4   1.8  0.222  ...   \n",
              "3  Jaylen Adams\\adamsja01  PG   22  ATL  34   1  12.6  1.1   3.2  0.345  ...   \n",
              "4  Steven Adams\\adamsst01   C   25  OKC  80  80  33.4  6.0  10.1  0.595  ...   \n",
              "5   Bam Adebayo\\adebaba01   C   21  MIA  82  28  23.3  3.4   5.9  0.576  ...   \n",
              "\n",
              "     FT%  ORB  DRB  TRB  AST  STL  BLK  TOV   PF   PTS  \n",
              "1  0.923  0.2  1.4  1.5  0.6  0.5  0.2  0.5  1.7   5.3  \n",
              "2  0.700  0.3  2.2  2.5  0.8  0.1  0.4  0.4  2.4   1.7  \n",
              "3  0.778  0.3  1.4  1.8  1.9  0.4  0.1  0.8  1.3   3.2  \n",
              "4  0.500  4.9  4.6  9.5  1.6  1.5  1.0  1.7  2.6  13.9  \n",
              "5  0.735  2.0  5.3  7.3  2.2  0.9  0.8  1.5  2.5   8.9  \n",
              "\n",
              "[5 rows x 29 columns]"
            ]
          },
          "execution_count": 4,
          "metadata": {},
          "output_type": "execute_result"
        }
      ],
      "source": [
        "nba.head(5)"
      ]
    },
    {
      "cell_type": "markdown",
      "metadata": {},
      "source": [
        "<br/>\n",
        "\n",
        "We are interested in predicting the number of points, `PTS`, an athlete will score in a basketball game this season.\n",
        "\n",
        "Suppose we want to fit a linear model by using some characteristics, or **features** of a player. Specifically, we'll focus on field goals, assists, and 3-point attempts.\n",
        "\n",
        "- `FG`, the number of (2-point) field goals per game\n",
        "- `AST`, the average number of assists per game, and\n",
        "- `3PA`, the number of 3-point field goals attempted per game\n",
        "\n",
        "This is how we express that model:\n",
        "\n",
        "$$\n",
        "\\hat{y}\n",
        "=\n",
        "\\theta_0 + \n",
        "\\theta_1 \\cdot \\textbf{FG} +\n",
        "\\theta_2 \\cdot \\textbf{AST} +\n",
        "\\theta_3 \\cdot \\textbf{3PA} \n",
        "$$"
      ]
    },
    {
      "cell_type": "code",
      "execution_count": 5,
      "metadata": {},
      "outputs": [
        {
          "data": {
            "text/html": [
              "<div>\n",
              "<style scoped>\n",
              "    .dataframe tbody tr th:only-of-type {\n",
              "        vertical-align: middle;\n",
              "    }\n",
              "\n",
              "    .dataframe tbody tr th {\n",
              "        vertical-align: top;\n",
              "    }\n",
              "\n",
              "    .dataframe thead th {\n",
              "        text-align: right;\n",
              "    }\n",
              "</style>\n",
              "<table border=\"1\" class=\"dataframe\">\n",
              "  <thead>\n",
              "    <tr style=\"text-align: right;\">\n",
              "      <th></th>\n",
              "      <th>FG</th>\n",
              "      <th>AST</th>\n",
              "      <th>3PA</th>\n",
              "      <th>PTS</th>\n",
              "    </tr>\n",
              "  </thead>\n",
              "  <tbody>\n",
              "    <tr>\n",
              "      <th>1</th>\n",
              "      <td>1.8</td>\n",
              "      <td>0.6</td>\n",
              "      <td>4.1</td>\n",
              "      <td>5.3</td>\n",
              "    </tr>\n",
              "    <tr>\n",
              "      <th>2</th>\n",
              "      <td>0.4</td>\n",
              "      <td>0.8</td>\n",
              "      <td>1.5</td>\n",
              "      <td>1.7</td>\n",
              "    </tr>\n",
              "    <tr>\n",
              "      <th>3</th>\n",
              "      <td>1.1</td>\n",
              "      <td>1.9</td>\n",
              "      <td>2.2</td>\n",
              "      <td>3.2</td>\n",
              "    </tr>\n",
              "    <tr>\n",
              "      <th>4</th>\n",
              "      <td>6.0</td>\n",
              "      <td>1.6</td>\n",
              "      <td>0.0</td>\n",
              "      <td>13.9</td>\n",
              "    </tr>\n",
              "    <tr>\n",
              "      <th>5</th>\n",
              "      <td>3.4</td>\n",
              "      <td>2.2</td>\n",
              "      <td>0.2</td>\n",
              "      <td>8.9</td>\n",
              "    </tr>\n",
              "    <tr>\n",
              "      <th>...</th>\n",
              "      <td>...</td>\n",
              "      <td>...</td>\n",
              "      <td>...</td>\n",
              "      <td>...</td>\n",
              "    </tr>\n",
              "    <tr>\n",
              "      <th>528</th>\n",
              "      <td>4.0</td>\n",
              "      <td>0.8</td>\n",
              "      <td>0.0</td>\n",
              "      <td>11.5</td>\n",
              "    </tr>\n",
              "    <tr>\n",
              "      <th>529</th>\n",
              "      <td>3.1</td>\n",
              "      <td>0.9</td>\n",
              "      <td>0.0</td>\n",
              "      <td>7.8</td>\n",
              "    </tr>\n",
              "    <tr>\n",
              "      <th>530</th>\n",
              "      <td>3.6</td>\n",
              "      <td>1.1</td>\n",
              "      <td>0.0</td>\n",
              "      <td>8.9</td>\n",
              "    </tr>\n",
              "    <tr>\n",
              "      <th>530</th>\n",
              "      <td>3.4</td>\n",
              "      <td>0.8</td>\n",
              "      <td>0.0</td>\n",
              "      <td>8.5</td>\n",
              "    </tr>\n",
              "    <tr>\n",
              "      <th>530</th>\n",
              "      <td>3.8</td>\n",
              "      <td>1.5</td>\n",
              "      <td>0.0</td>\n",
              "      <td>9.4</td>\n",
              "    </tr>\n",
              "  </tbody>\n",
              "</table>\n",
              "<p>708 rows × 4 columns</p>\n",
              "</div>"
            ],
            "text/plain": [
              "      FG  AST  3PA   PTS\n",
              "1    1.8  0.6  4.1   5.3\n",
              "2    0.4  0.8  1.5   1.7\n",
              "3    1.1  1.9  2.2   3.2\n",
              "4    6.0  1.6  0.0  13.9\n",
              "5    3.4  2.2  0.2   8.9\n",
              "..   ...  ...  ...   ...\n",
              "528  4.0  0.8  0.0  11.5\n",
              "529  3.1  0.9  0.0   7.8\n",
              "530  3.6  1.1  0.0   8.9\n",
              "530  3.4  0.8  0.0   8.5\n",
              "530  3.8  1.5  0.0   9.4\n",
              "\n",
              "[708 rows x 4 columns]"
            ]
          },
          "execution_count": 5,
          "metadata": {},
          "output_type": "execute_result"
        }
      ],
      "source": [
        "nba[['FG', 'AST', '3PA', 'PTS']]"
      ]
    },
    {
      "cell_type": "markdown",
      "metadata": {},
      "source": [
        "<br/>\n",
        "In the lecture, we saw that the predictions for the entire data set $\\hat{\\mathbb{Y}}$ can be computed as:\n",
        "\n",
        "$$ \\Large\n",
        "\\hat{\\mathbb{Y}} = \\mathbb{X} \\theta  \n",
        "$$\n",
        "\n",
        "The **design matrix** $\\mathbb{X} \\in \\mathbb{R}^{n\\times d+1}$ has $n$ rows corresponding to each record in the dataset and $d+1$ columns corresponding to the original $d$ columns in the data plus an additional 1s column vector (**bias/intercept feature**).\n",
        "\n",
        "Let's build this design matrix using `pandas`:"
      ]
    },
    {
      "cell_type": "code",
      "execution_count": 6,
      "metadata": {},
      "outputs": [
        {
          "data": {
            "text/html": [
              "<div>\n",
              "<style scoped>\n",
              "    .dataframe tbody tr th:only-of-type {\n",
              "        vertical-align: middle;\n",
              "    }\n",
              "\n",
              "    .dataframe tbody tr th {\n",
              "        vertical-align: top;\n",
              "    }\n",
              "\n",
              "    .dataframe thead th {\n",
              "        text-align: right;\n",
              "    }\n",
              "</style>\n",
              "<table border=\"1\" class=\"dataframe\">\n",
              "  <thead>\n",
              "    <tr style=\"text-align: right;\">\n",
              "      <th></th>\n",
              "      <th>Bias</th>\n",
              "      <th>FG</th>\n",
              "      <th>AST</th>\n",
              "      <th>3PA</th>\n",
              "    </tr>\n",
              "  </thead>\n",
              "  <tbody>\n",
              "    <tr>\n",
              "      <th>1</th>\n",
              "      <td>1</td>\n",
              "      <td>1.8</td>\n",
              "      <td>0.6</td>\n",
              "      <td>4.1</td>\n",
              "    </tr>\n",
              "    <tr>\n",
              "      <th>2</th>\n",
              "      <td>1</td>\n",
              "      <td>0.4</td>\n",
              "      <td>0.8</td>\n",
              "      <td>1.5</td>\n",
              "    </tr>\n",
              "    <tr>\n",
              "      <th>3</th>\n",
              "      <td>1</td>\n",
              "      <td>1.1</td>\n",
              "      <td>1.9</td>\n",
              "      <td>2.2</td>\n",
              "    </tr>\n",
              "    <tr>\n",
              "      <th>4</th>\n",
              "      <td>1</td>\n",
              "      <td>6.0</td>\n",
              "      <td>1.6</td>\n",
              "      <td>0.0</td>\n",
              "    </tr>\n",
              "    <tr>\n",
              "      <th>5</th>\n",
              "      <td>1</td>\n",
              "      <td>3.4</td>\n",
              "      <td>2.2</td>\n",
              "      <td>0.2</td>\n",
              "    </tr>\n",
              "    <tr>\n",
              "      <th>...</th>\n",
              "      <td>...</td>\n",
              "      <td>...</td>\n",
              "      <td>...</td>\n",
              "      <td>...</td>\n",
              "    </tr>\n",
              "    <tr>\n",
              "      <th>528</th>\n",
              "      <td>1</td>\n",
              "      <td>4.0</td>\n",
              "      <td>0.8</td>\n",
              "      <td>0.0</td>\n",
              "    </tr>\n",
              "    <tr>\n",
              "      <th>529</th>\n",
              "      <td>1</td>\n",
              "      <td>3.1</td>\n",
              "      <td>0.9</td>\n",
              "      <td>0.0</td>\n",
              "    </tr>\n",
              "    <tr>\n",
              "      <th>530</th>\n",
              "      <td>1</td>\n",
              "      <td>3.6</td>\n",
              "      <td>1.1</td>\n",
              "      <td>0.0</td>\n",
              "    </tr>\n",
              "    <tr>\n",
              "      <th>530</th>\n",
              "      <td>1</td>\n",
              "      <td>3.4</td>\n",
              "      <td>0.8</td>\n",
              "      <td>0.0</td>\n",
              "    </tr>\n",
              "    <tr>\n",
              "      <th>530</th>\n",
              "      <td>1</td>\n",
              "      <td>3.8</td>\n",
              "      <td>1.5</td>\n",
              "      <td>0.0</td>\n",
              "    </tr>\n",
              "  </tbody>\n",
              "</table>\n",
              "<p>708 rows × 4 columns</p>\n",
              "</div>"
            ],
            "text/plain": [
              "     Bias   FG  AST  3PA\n",
              "1       1  1.8  0.6  4.1\n",
              "2       1  0.4  0.8  1.5\n",
              "3       1  1.1  1.9  2.2\n",
              "4       1  6.0  1.6  0.0\n",
              "5       1  3.4  2.2  0.2\n",
              "..    ...  ...  ...  ...\n",
              "528     1  4.0  0.8  0.0\n",
              "529     1  3.1  0.9  0.0\n",
              "530     1  3.6  1.1  0.0\n",
              "530     1  3.4  0.8  0.0\n",
              "530     1  3.8  1.5  0.0\n",
              "\n",
              "[708 rows x 4 columns]"
            ]
          },
          "execution_count": 6,
          "metadata": {},
          "output_type": "execute_result"
        }
      ],
      "source": [
        "X = nba[['FG', 'AST', '3PA']]\n",
        "X.insert(0, 'Bias', 1)\n",
        "X"
      ]
    },
    {
      "cell_type": "code",
      "execution_count": 7,
      "metadata": {},
      "outputs": [
        {
          "data": {
            "text/plain": [
              "(708, 4)"
            ]
          },
          "execution_count": 7,
          "metadata": {},
          "output_type": "execute_result"
        }
      ],
      "source": [
        "X = X.to_numpy()\n",
        "X.shape"
      ]
    },
    {
      "cell_type": "markdown",
      "metadata": {},
      "source": [
        "While we're at it, let's build the $\\mathbb{Y}$ vector of our true `PTS` values."
      ]
    },
    {
      "cell_type": "code",
      "execution_count": 8,
      "metadata": {},
      "outputs": [
        {
          "name": "stdout",
          "output_type": "stream",
          "text": [
            "number datapoints 708\n"
          ]
        },
        {
          "data": {
            "text/plain": [
              "array([[ 5.3],\n",
              "       [ 1.7],\n",
              "       [ 3.2],\n",
              "       [13.9],\n",
              "       [ 8.9]])"
            ]
          },
          "execution_count": 8,
          "metadata": {},
          "output_type": "execute_result"
        }
      ],
      "source": [
        "# For NBA data\n",
        "Y = nba[[\"PTS\"]].to_numpy()\n",
        "n = len(Y)\n",
        "print(\"number datapoints\", n)\n",
        "Y[:5]"
      ]
    },
    {
      "cell_type": "markdown",
      "metadata": {},
      "source": [
        "---\n",
        "### Example prediction\n",
        "\n",
        "Suppose we decide to pick an arbitrary parameter $\\theta$:\n",
        "\n",
        "$$\\theta = \\begin{bmatrix}0.50 \\\\ -0.14 \\\\ 0.65 \\\\ 1.52 \\end{bmatrix}$$\n",
        "\n",
        "(For those interested: I drew these from random values simulated from a standard normal distribution using `np.random.randn`.)"
      ]
    },
    {
      "cell_type": "code",
      "execution_count": 9,
      "metadata": {},
      "outputs": [
        {
          "data": {
            "text/plain": [
              "array([[ 0.5 ],\n",
              "       [-1.14],\n",
              "       [ 0.65],\n",
              "       [ 1.52]])"
            ]
          },
          "execution_count": 9,
          "metadata": {},
          "output_type": "execute_result"
        }
      ],
      "source": [
        "theta_arbitrary = np.array([[0.5], [-1.14], [0.65], [1.52]])\n",
        "theta_arbitrary"
      ]
    },
    {
      "cell_type": "markdown",
      "metadata": {},
      "source": [
        "For this value of $\\theta$, we can make a prediction using our model with matrix multiplication.\n",
        "\n",
        "The `@` symbol is the matrix multiply operation and is equivalent to writing `xt.dot(theta)`."
      ]
    },
    {
      "cell_type": "code",
      "execution_count": 10,
      "metadata": {},
      "outputs": [
        {
          "data": {
            "text/plain": [
              "array([[ 5.07 ],\n",
              "       [ 2.844],\n",
              "       [ 3.825],\n",
              "       [-5.3  ],\n",
              "       [-1.642]])"
            ]
          },
          "metadata": {},
          "output_type": "display_data"
        },
        {
          "data": {
            "text/plain": [
              "array([[ 5.3],\n",
              "       [ 1.7],\n",
              "       [ 3.2],\n",
              "       [13.9],\n",
              "       [ 8.9]])"
            ]
          },
          "metadata": {},
          "output_type": "display_data"
        }
      ],
      "source": [
        "display((X @ theta_arbitrary)[:5])\n",
        "\n",
        "display(Y[:5])"
      ]
    },
    {
      "cell_type": "markdown",
      "metadata": {},
      "source": [
        "## Computing MSE\n",
        "\n",
        "For Ordinary Least Squares, the average loss is MSE:\n",
        "\n",
        "$$ \\Large R(\\theta) = \\frac{1}{n} (|| \\mathbb{Y} - \\mathbb{X}\\theta||_2)^2 $$\n",
        "\n",
        "`NumPy` has a handy function `np.linalg.norm` that computes the norm of a matrix (default is $L2$ norm)."
      ]
    },
    {
      "cell_type": "code",
      "execution_count": 24,
      "metadata": {},
      "outputs": [
        {
          "data": {
            "text/plain": [
              "np.float64(57637.901845474575)"
            ]
          },
          "execution_count": 24,
          "metadata": {},
          "output_type": "execute_result"
        }
      ],
      "source": [
        "theta_arbitrary = np.array([0.5, -1.14, 0.65, 1.52])\n",
        "def mse_nba(theta):\n",
        "    \"\"\"\n",
        "    Y is PTS.\n",
        "    X includes intercept, FG, AST, and 3PA.\n",
        "    \"\"\"\n",
        "    return (1/n) * (np.linalg.norm(Y - X @ theta) ** 2)\n",
        "\n",
        "mse_nba(theta_arbitrary)"
      ]
    },
    {
      "cell_type": "markdown",
      "metadata": {},
      "source": [
        "Is this good? Is this bad? Let's compute the optimal theta and compare!"
      ]
    },
    {
      "cell_type": "markdown",
      "metadata": {},
      "source": [
        "---\n",
        "## Implementing Least Squares\n",
        "\n",
        "From the lecture, the Least Squares Estimate $\\hat{\\theta}$ is:\n",
        "$$\n",
        "\\Large \\hat{\\theta} = \\left( \\mathbb{X}^{\\top} \\mathbb{X} \\right)^{-1} \\mathbb{X}^{\\top} \\mathbb{Y}\n",
        "$$"
      ]
    },
    {
      "cell_type": "markdown",
      "metadata": {},
      "source": [
        "While it is not as numerically stable or efficient, we can compute $\\hat{\\theta}$ by direction using matrix inversion. To do this, we import the `inv` function for the `numPy` linear algebra library:"
      ]
    },
    {
      "cell_type": "code",
      "execution_count": 12,
      "metadata": {},
      "outputs": [],
      "source": [
        "from numpy.linalg import inv"
      ]
    },
    {
      "cell_type": "code",
      "execution_count": 13,
      "metadata": {},
      "outputs": [
        {
          "data": {
            "text/plain": [
              "array([[-0.29253798],\n",
              "       [ 2.51705703],\n",
              "       [ 0.05075571],\n",
              "       [ 0.31307653]])"
            ]
          },
          "execution_count": 13,
          "metadata": {},
          "output_type": "execute_result"
        }
      ],
      "source": [
        "def least_squares_estimate(X, Y):\n",
        "    return inv(X.T @ X) @ X.T @ Y\n",
        "\n",
        "theta_hat = least_squares_estimate(X, Y)\n",
        "theta_hat"
      ]
    },
    {
      "cell_type": "code",
      "execution_count": 14,
      "metadata": {},
      "outputs": [
        {
          "name": "stdout",
          "output_type": "stream",
          "text": [
            "Arbitrary theta MSE: 57637.901845474575\n",
            "Optimal theta MSE: 0.3963133329080335\n"
          ]
        }
      ],
      "source": [
        "print(\"Arbitrary theta MSE:\", mse_nba(theta_arbitrary))\n",
        "print(\"Optimal theta MSE:\"  , mse_nba(theta_hat))"
      ]
    },
    {
      "cell_type": "markdown",
      "metadata": {},
      "source": [
        "Nice!!!\n",
        "\n",
        "---\n",
        "## Making Least Squares Predictions\n",
        "\n",
        "Now that we have estimated the model parameters, $\\hat{\\theta}$, we can now also predict the points scored $\\hat{\\mathbb{Y}}$ for each of our players."
      ]
    },
    {
      "cell_type": "code",
      "execution_count": 15,
      "metadata": {},
      "outputs": [],
      "source": [
        "Y_hat = X @ theta_hat"
      ]
    },
    {
      "cell_type": "markdown",
      "metadata": {},
      "source": [
        "<br/>\n",
        "\n",
        "---\n",
        "\n",
        "## Model Performance/Diagnosing the Model\n",
        "\n",
        "In previous lectures, we have plotted the residual vs. our single input feature $x$.\n",
        "\n",
        "For higher dimensional regression models, we often graph the residual with respect to the fitted values $\\hat{y}$."
      ]
    },
    {
      "cell_type": "code",
      "execution_count": 16,
      "metadata": {},
      "outputs": [
        {
          "name": "stderr",
          "output_type": "stream",
          "text": [
            "<>:2: SyntaxWarning: invalid escape sequence '\\h'\n",
            "<>:3: SyntaxWarning: invalid escape sequence '\\h'\n",
            "<>:4: SyntaxWarning: invalid escape sequence '\\h'\n",
            "<>:2: SyntaxWarning: invalid escape sequence '\\h'\n",
            "<>:3: SyntaxWarning: invalid escape sequence '\\h'\n",
            "<>:4: SyntaxWarning: invalid escape sequence '\\h'\n",
            "C:\\Users\\LENOVO\\AppData\\Local\\Temp\\ipykernel_9600\\2883588621.py:2: SyntaxWarning: invalid escape sequence '\\h'\n",
            "  sns.lineplot(x=[-1, 35], y=[0,0], label=\"$\\hat{Y}=Y$\", color = 'orange', linewidth = 3)\n",
            "C:\\Users\\LENOVO\\AppData\\Local\\Temp\\ipykernel_9600\\2883588621.py:3: SyntaxWarning: invalid escape sequence '\\h'\n",
            "  plt.xlabel(\"$\\hat{Y}$\")\n",
            "C:\\Users\\LENOVO\\AppData\\Local\\Temp\\ipykernel_9600\\2883588621.py:4: SyntaxWarning: invalid escape sequence '\\h'\n",
            "  plt.ylabel(\"$\\hat{Y} - Y$\")\n"
          ]
        },
        {
          "data": {
            "image/png": "[encoded data removed]",
            "text/plain": [
              "<Figure size 640x480 with 1 Axes>"
            ]
          },
          "metadata": {},
          "output_type": "display_data"
        }
      ],
      "source": [
        "sns.scatterplot(x = Y_hat.flatten(), y = (Y - Y_hat).flatten())\n",
        "sns.lineplot(x=[-1, 35], y=[0,0], label=\"$\\hat{Y}=Y$\", color = 'orange', linewidth = 3)\n",
        "plt.xlabel(\"$\\hat{Y}$\")\n",
        "plt.ylabel(\"$\\hat{Y} - Y$\")\n",
        "plt.xlim([0, 32])\n",
        "plt.show()"
      ]
    },
    {
      "cell_type": "markdown",
      "metadata": {},
      "source": [
        "Overall while the residuals are roughly centered around 0 ($\\hat{y} = y$), we see **heteroskedasticity**: Our regression spread is uneven, particularly as predictions get big."
      ]
    },
    {
      "cell_type": "markdown",
      "metadata": {},
      "source": [
        "## Multiple $R^2$"
      ]
    },
    {
      "cell_type": "markdown",
      "metadata": {},
      "source": [
        "Let's compute the coefficient of determination, or **multiple $R^2$**, for our model."
      ]
    },
    {
      "cell_type": "code",
      "execution_count": 17,
      "metadata": {},
      "outputs": [
        {
          "data": {
            "text/plain": [
              "np.float64(0.9883162128703241)"
            ]
          },
          "execution_count": 17,
          "metadata": {},
          "output_type": "execute_result"
        }
      ],
      "source": [
        "r2_ast_fg_3pa = np.var(Y_hat) / np.var(Y)\n",
        "r2_ast_fg_3pa"
      ]
    },
    {
      "cell_type": "markdown",
      "metadata": {},
      "source": [
        "That's super high!!! Wait, what's up with that?\n",
        "\n",
        "(Hint: Basketball facts)\n",
        "\n",
        "Let's try reducing the number of features to see how this Multiple $R^2$ metric changes."
      ]
    },
    {
      "cell_type": "code",
      "execution_count": 18,
      "metadata": {},
      "outputs": [
        {
          "data": {
            "text/plain": [
              "np.float64(0.6087862763665719)"
            ]
          },
          "execution_count": 18,
          "metadata": {},
          "output_type": "execute_result"
        }
      ],
      "source": [
        "# Use intercept, AST, 3PA\n",
        "X_3d = nba[['AST', '3PA']]\n",
        "X_3d.insert(0, 'Bias', 1)\n",
        "X_3d = X_3d.to_numpy()\n",
        "\n",
        "theta_ast_3pa = least_squares_estimate(X_3d, Y)\n",
        "Y_hat_ast_3pa = X_3d @ theta_ast_3pa\n",
        "\n",
        "r2_ast_3pa = np.var(Y_hat_ast_3pa) / np.var(Y)\n",
        "r2_ast_3pa"
      ]
    },
    {
      "cell_type": "code",
      "execution_count": 19,
      "metadata": {},
      "outputs": [
        {
          "data": {
            "text/plain": [
              "np.float64(0.4570055507968593)"
            ]
          },
          "execution_count": 19,
          "metadata": {},
          "output_type": "execute_result"
        }
      ],
      "source": [
        "# Use intercept, AST only (SLR)\n",
        "X_slr = nba[['AST']]\n",
        "X_slr.insert(0, 'Bias', 1)\n",
        "X_slr = X_slr.to_numpy()\n",
        "\n",
        "theta_ast_only = least_squares_estimate(X_slr, Y)\n",
        "Y_hat_ast_only = X_slr @ theta_ast_only\n",
        "\n",
        "r2_ast_only = np.var(Y_hat_ast_only) / np.var(Y)\n",
        "r2_ast_only"
      ]
    },
    {
      "cell_type": "code",
      "execution_count": 20,
      "metadata": {},
      "outputs": [
        {
          "data": {
            "text/plain": [
              "array([[3.98332315],\n",
              "       [2.39888152]])"
            ]
          },
          "execution_count": 20,
          "metadata": {},
          "output_type": "execute_result"
        }
      ],
      "source": [
        "theta_ast_only"
      ]
    },
    {
      "cell_type": "code",
      "execution_count": 21,
      "metadata": {},
      "outputs": [
        {
          "data": {
            "text/plain": [
              "array([[-0.29253798],\n",
              "       [ 2.51705703],\n",
              "       [ 0.05075571],\n",
              "       [ 0.31307653]])"
            ]
          },
          "execution_count": 21,
          "metadata": {},
          "output_type": "execute_result"
        }
      ],
      "source": [
        "theta_hat"
      ]
    },
    {
      "cell_type": "markdown",
      "metadata": {},
      "source": [
        "Comparing these Multiple $R^2$ together:"
      ]
    },
    {
      "cell_type": "code",
      "execution_count": 22,
      "metadata": {},
      "outputs": [
        {
          "name": "stdout",
          "output_type": "stream",
          "text": [
            "(SLR) intercept, AST:     0.4570055507968593\n",
            "intercept, 3PA, AST:      0.6087862763665719\n",
            "intercept, FG, 3PA, AST:  0.9883162128703241\n"
          ]
        }
      ],
      "source": [
        "print(\"(SLR) intercept, AST:    \", r2_ast_only)\n",
        "print(\"intercept, 3PA, AST:     \", r2_ast_3pa)\n",
        "print(\"intercept, FG, 3PA, AST: \", r2_ast_fg_3pa)"
      ]
    },
    {
      "cell_type": "markdown",
      "metadata": {},
      "source": [
        "Because of how basketball is scored, knowing Field Goals `FG` *and* 3 point goal attempts `3PA` will reliably tell you how many total points a player scored in that game. This is assuming NBA players make a good number of their 3-pointers."
      ]
    },
    {
      "cell_type": "markdown",
      "metadata": {},
      "source": [
        "Side note, if you wanted to check that Multiple R^2 for Simple Linear Regression is indeed correlation coefficient $r^2$:"
      ]
    },
    {
      "cell_type": "code",
      "execution_count": 23,
      "metadata": {},
      "outputs": [
        {
          "data": {
            "text/plain": [
              "np.float64(0.4570055507968598)"
            ]
          },
          "execution_count": 23,
          "metadata": {},
          "output_type": "execute_result"
        }
      ],
      "source": [
        "r = np.corrcoef(nba['AST'], nba['PTS'])[0,1]\n",
        "r ** 2"
      ]
    }
  ],
  "metadata": {
    "kernelspec": {
      "display_name": "Python 3",
      "language": "python",
      "name": "python3"
    },
    "language_info": {
      "codemirror_mode": {
        "name": "ipython",
        "version": 3
      },
      "file_extension": ".py",
      "mimetype": "text/x-python",
      "name": "python",
      "nbconvert_exporter": "python",
      "pygments_lexer": "ipython3",
      "version": "3.12.1"
    }
  },
  "nbformat": 4,
  "nbformat_minor": 4
}
