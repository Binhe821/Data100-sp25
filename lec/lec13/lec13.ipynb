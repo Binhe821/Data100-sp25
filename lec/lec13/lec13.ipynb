{
 "cells": [
  {
   "cell_type": "markdown",
   "metadata": {},
   "source": [
    "# ⛰️ Lecture 13 – Data 100, Spring 2025\n",
    "\n",
    "Data 100, Spring 2025\n",
    "\n",
    "[Acknowledgments Page](https://ds100.org/sp25/acks/)"
   ]
  },
  {
   "cell_type": "code",
   "execution_count": null,
   "metadata": {},
   "outputs": [],
   "source": [
    "import pandas as pd\n",
    "import seaborn as sns\n",
    "import plotly.express as px\n",
    "import plotly.graph_objects as go\n",
    "import matplotlib.pyplot as plt\n",
    "import numpy as np\n",
    "pd.options.mode.chained_assignment = None  # default='warn'"
   ]
  },
  {
   "cell_type": "markdown",
   "metadata": {},
   "source": [
    "<br/><br/>\n",
    "<hr style=\"border: 5px solid #003262;\" />\n",
    "<hr style=\"border: 1px solid #fdb515;\" />\n",
    "\n",
    "## Fiting our Multiple Linear Regression Model"
   ]
  },
  {
   "cell_type": "markdown",
   "metadata": {},
   "source": [
    "Consider the `penguins` dataset."
   ]
  },
  {
   "cell_type": "code",
   "execution_count": null,
   "metadata": {},
   "outputs": [
    {
     "data": {
      "text/html": [
       "<div>\n",
       "<style scoped>\n",
       "    .dataframe tbody tr th:only-of-type {\n",
       "        vertical-align: middle;\n",
       "    }\n",
       "\n",
       "    .dataframe tbody tr th {\n",
       "        vertical-align: top;\n",
       "    }\n",
       "\n",
       "    .dataframe thead th {\n",
       "        text-align: right;\n",
       "    }\n",
       "</style>\n",
       "<table border=\"1\" class=\"dataframe\">\n",
       "  <thead>\n",
       "    <tr style=\"text-align: right;\">\n",
       "      <th></th>\n",
       "      <th>species</th>\n",
       "      <th>island</th>\n",
       "      <th>bill_length_mm</th>\n",
       "      <th>bill_depth_mm</th>\n",
       "      <th>flipper_length_mm</th>\n",
       "      <th>body_mass_g</th>\n",
       "      <th>sex</th>\n",
       "    </tr>\n",
       "  </thead>\n",
       "  <tbody>\n",
       "    <tr>\n",
       "      <th>0</th>\n",
       "      <td>Adelie</td>\n",
       "      <td>Torgersen</td>\n",
       "      <td>39.1</td>\n",
       "      <td>18.7</td>\n",
       "      <td>181.0</td>\n",
       "      <td>3750.0</td>\n",
       "      <td>Male</td>\n",
       "    </tr>\n",
       "    <tr>\n",
       "      <th>1</th>\n",
       "      <td>Adelie</td>\n",
       "      <td>Torgersen</td>\n",
       "      <td>39.5</td>\n",
       "      <td>17.4</td>\n",
       "      <td>186.0</td>\n",
       "      <td>3800.0</td>\n",
       "      <td>Female</td>\n",
       "    </tr>\n",
       "    <tr>\n",
       "      <th>2</th>\n",
       "      <td>Adelie</td>\n",
       "      <td>Torgersen</td>\n",
       "      <td>40.3</td>\n",
       "      <td>18.0</td>\n",
       "      <td>195.0</td>\n",
       "      <td>3250.0</td>\n",
       "      <td>Female</td>\n",
       "    </tr>\n",
       "    <tr>\n",
       "      <th>4</th>\n",
       "      <td>Adelie</td>\n",
       "      <td>Torgersen</td>\n",
       "      <td>36.7</td>\n",
       "      <td>19.3</td>\n",
       "      <td>193.0</td>\n",
       "      <td>3450.0</td>\n",
       "      <td>Female</td>\n",
       "    </tr>\n",
       "    <tr>\n",
       "      <th>5</th>\n",
       "      <td>Adelie</td>\n",
       "      <td>Torgersen</td>\n",
       "      <td>39.3</td>\n",
       "      <td>20.6</td>\n",
       "      <td>190.0</td>\n",
       "      <td>3650.0</td>\n",
       "      <td>Male</td>\n",
       "    </tr>\n",
       "    <tr>\n",
       "      <th>...</th>\n",
       "      <td>...</td>\n",
       "      <td>...</td>\n",
       "      <td>...</td>\n",
       "      <td>...</td>\n",
       "      <td>...</td>\n",
       "      <td>...</td>\n",
       "      <td>...</td>\n",
       "    </tr>\n",
       "    <tr>\n",
       "      <th>147</th>\n",
       "      <td>Adelie</td>\n",
       "      <td>Dream</td>\n",
       "      <td>36.6</td>\n",
       "      <td>18.4</td>\n",
       "      <td>184.0</td>\n",
       "      <td>3475.0</td>\n",
       "      <td>Female</td>\n",
       "    </tr>\n",
       "    <tr>\n",
       "      <th>148</th>\n",
       "      <td>Adelie</td>\n",
       "      <td>Dream</td>\n",
       "      <td>36.0</td>\n",
       "      <td>17.8</td>\n",
       "      <td>195.0</td>\n",
       "      <td>3450.0</td>\n",
       "      <td>Female</td>\n",
       "    </tr>\n",
       "    <tr>\n",
       "      <th>149</th>\n",
       "      <td>Adelie</td>\n",
       "      <td>Dream</td>\n",
       "      <td>37.8</td>\n",
       "      <td>18.1</td>\n",
       "      <td>193.0</td>\n",
       "      <td>3750.0</td>\n",
       "      <td>Male</td>\n",
       "    </tr>\n",
       "    <tr>\n",
       "      <th>150</th>\n",
       "      <td>Adelie</td>\n",
       "      <td>Dream</td>\n",
       "      <td>36.0</td>\n",
       "      <td>17.1</td>\n",
       "      <td>187.0</td>\n",
       "      <td>3700.0</td>\n",
       "      <td>Female</td>\n",
       "    </tr>\n",
       "    <tr>\n",
       "      <th>151</th>\n",
       "      <td>Adelie</td>\n",
       "      <td>Dream</td>\n",
       "      <td>41.5</td>\n",
       "      <td>18.5</td>\n",
       "      <td>201.0</td>\n",
       "      <td>4000.0</td>\n",
       "      <td>Male</td>\n",
       "    </tr>\n",
       "  </tbody>\n",
       "</table>\n",
       "<p>146 rows × 7 columns</p>\n",
       "</div>"
      ],
      "text/plain": [
       "    species     island  bill_length_mm  bill_depth_mm  flipper_length_mm  \\\n",
       "0    Adelie  Torgersen            39.1           18.7              181.0   \n",
       "1    Adelie  Torgersen            39.5           17.4              186.0   \n",
       "2    Adelie  Torgersen            40.3           18.0              195.0   \n",
       "4    Adelie  Torgersen            36.7           19.3              193.0   \n",
       "5    Adelie  Torgersen            39.3           20.6              190.0   \n",
       "..      ...        ...             ...            ...                ...   \n",
       "147  Adelie      Dream            36.6           18.4              184.0   \n",
       "148  Adelie      Dream            36.0           17.8              195.0   \n",
       "149  Adelie      Dream            37.8           18.1              193.0   \n",
       "150  Adelie      Dream            36.0           17.1              187.0   \n",
       "151  Adelie      Dream            41.5           18.5              201.0   \n",
       "\n",
       "     body_mass_g     sex  \n",
       "0         3750.0    Male  \n",
       "1         3800.0  Female  \n",
       "2         3250.0  Female  \n",
       "4         3450.0  Female  \n",
       "5         3650.0    Male  \n",
       "..           ...     ...  \n",
       "147       3475.0  Female  \n",
       "148       3450.0  Female  \n",
       "149       3750.0    Male  \n",
       "150       3700.0  Female  \n",
       "151       4000.0    Male  \n",
       "\n",
       "[146 rows x 7 columns]"
      ]
     },
     "execution_count": 156,
     "metadata": {},
     "output_type": "execute_result"
    }
   ],
   "source": [
    "# Load in the penguins dataset provided by seaborn package\n",
    "df = sns.load_dataset(\"penguins\")\n",
    "\n",
    "# Filter to only include Adelie species and remove any rows with missing values\n",
    "df = df[df[\"species\"] == \"Adelie\"].dropna()\n",
    "\n",
    "df"
   ]
  },
  {
   "cell_type": "markdown",
   "metadata": {},
   "source": [
    "Suppose we could measure flippers and weight easily, but not bill dimensions.\n",
    "How can we predict **bill depth** from flipper length and/or body mass?"
   ]
  },
  {
   "cell_type": "markdown",
   "metadata": {},
   "source": [
    "For demo purposes, we'll drop all columns except the variables whose relationships we're interested in modeling."
   ]
  },
  {
   "cell_type": "code",
   "execution_count": null,
   "metadata": {},
   "outputs": [
    {
     "data": {
      "text/html": [
       "<div>\n",
       "<style scoped>\n",
       "    .dataframe tbody tr th:only-of-type {\n",
       "        vertical-align: middle;\n",
       "    }\n",
       "\n",
       "    .dataframe tbody tr th {\n",
       "        vertical-align: top;\n",
       "    }\n",
       "\n",
       "    .dataframe thead th {\n",
       "        text-align: right;\n",
       "    }\n",
       "</style>\n",
       "<table border=\"1\" class=\"dataframe\">\n",
       "  <thead>\n",
       "    <tr style=\"text-align: right;\">\n",
       "      <th></th>\n",
       "      <th>bill_depth_mm</th>\n",
       "      <th>flipper_length_mm</th>\n",
       "      <th>body_mass_g</th>\n",
       "    </tr>\n",
       "  </thead>\n",
       "  <tbody>\n",
       "    <tr>\n",
       "      <th>0</th>\n",
       "      <td>18.7</td>\n",
       "      <td>181.0</td>\n",
       "      <td>3750.0</td>\n",
       "    </tr>\n",
       "    <tr>\n",
       "      <th>1</th>\n",
       "      <td>17.4</td>\n",
       "      <td>186.0</td>\n",
       "      <td>3800.0</td>\n",
       "    </tr>\n",
       "    <tr>\n",
       "      <th>2</th>\n",
       "      <td>18.0</td>\n",
       "      <td>195.0</td>\n",
       "      <td>3250.0</td>\n",
       "    </tr>\n",
       "    <tr>\n",
       "      <th>4</th>\n",
       "      <td>19.3</td>\n",
       "      <td>193.0</td>\n",
       "      <td>3450.0</td>\n",
       "    </tr>\n",
       "    <tr>\n",
       "      <th>5</th>\n",
       "      <td>20.6</td>\n",
       "      <td>190.0</td>\n",
       "      <td>3650.0</td>\n",
       "    </tr>\n",
       "    <tr>\n",
       "      <th>...</th>\n",
       "      <td>...</td>\n",
       "      <td>...</td>\n",
       "      <td>...</td>\n",
       "    </tr>\n",
       "    <tr>\n",
       "      <th>147</th>\n",
       "      <td>18.4</td>\n",
       "      <td>184.0</td>\n",
       "      <td>3475.0</td>\n",
       "    </tr>\n",
       "    <tr>\n",
       "      <th>148</th>\n",
       "      <td>17.8</td>\n",
       "      <td>195.0</td>\n",
       "      <td>3450.0</td>\n",
       "    </tr>\n",
       "    <tr>\n",
       "      <th>149</th>\n",
       "      <td>18.1</td>\n",
       "      <td>193.0</td>\n",
       "      <td>3750.0</td>\n",
       "    </tr>\n",
       "    <tr>\n",
       "      <th>150</th>\n",
       "      <td>17.1</td>\n",
       "      <td>187.0</td>\n",
       "      <td>3700.0</td>\n",
       "    </tr>\n",
       "    <tr>\n",
       "      <th>151</th>\n",
       "      <td>18.5</td>\n",
       "      <td>201.0</td>\n",
       "      <td>4000.0</td>\n",
       "    </tr>\n",
       "  </tbody>\n",
       "</table>\n",
       "<p>146 rows × 3 columns</p>\n",
       "</div>"
      ],
      "text/plain": [
       "     bill_depth_mm  flipper_length_mm  body_mass_g\n",
       "0             18.7              181.0       3750.0\n",
       "1             17.4              186.0       3800.0\n",
       "2             18.0              195.0       3250.0\n",
       "4             19.3              193.0       3450.0\n",
       "5             20.6              190.0       3650.0\n",
       "..             ...                ...          ...\n",
       "147           18.4              184.0       3475.0\n",
       "148           17.8              195.0       3450.0\n",
       "149           18.1              193.0       3750.0\n",
       "150           17.1              187.0       3700.0\n",
       "151           18.5              201.0       4000.0\n",
       "\n",
       "[146 rows x 3 columns]"
      ]
     },
     "execution_count": 157,
     "metadata": {},
     "output_type": "execute_result"
    }
   ],
   "source": [
    "df = df[[\"bill_depth_mm\", \"flipper_length_mm\", \"body_mass_g\"]]\n",
    "df"
   ]
  },
  {
   "cell_type": "markdown",
   "metadata": {},
   "source": [
    "Suppose we want to create a linear regression model that predicts a penguin's **bill depth** $y$ using both their **flipper length** $x_1$ and **body mass** $x_2$, plus an intercept term."
   ]
  },
  {
   "cell_type": "markdown",
   "metadata": {},
   "source": [
    "$$\\Large \\hat{y} = \\theta_0 + \\theta_1 x_1 + \\theta_2 x_2$$\n",
    "\n",
    "Another way to write this:\n",
    "\n",
    "$$ \\widehat{\\texttt{bill\\_depth\\_mm}} = \\theta_0 + \\theta_1 * \\texttt{flipper\\_length\\_mm} + \\theta_2 * \\texttt{body\\_mass\\_g} $$"
   ]
  },
  {
   "cell_type": "markdown",
   "metadata": {},
   "source": [
    "### OLS Approach 1: Use Solution to Normal Equation"
   ]
  },
  {
   "cell_type": "markdown",
   "metadata": {},
   "source": [
    "We saw in last lecture that we can model the above multiple linear regression equation using matrix multiplication:\n",
    "\n",
    "$$ \\large \\hat{\\mathbb{Y}} = \\mathbb{X} \\theta$$\n",
    "\n",
    "The optimal $\\hat{\\theta}$ that minimizes MSE also solves the **normal equation**:\n",
    "\n",
    "$$ \\left( \\mathbb{X}^T \\mathbb{X} \\right) \\hat{\\theta} = \\mathbb{X}^T \\mathbb{Y}$$\n",
    "\n",
    "If $\\mathbb{X}$ is full column rank, then there is a unique solution to $\\hat{\\theta}$:\n",
    "\n",
    "$$\\large \\hat{\\theta} = \\left( \\mathbb{X}^T \\mathbb{X} \\right)^{-1} \\mathbb{X}^T \\mathbb{Y}$$\n",
    "\n",
    "> Note: This derivation is one of the most challenging in the course, especially for those of you who are learning linear algebra during the same semester. Be kind to yourself! "
   ]
  },
  {
   "cell_type": "markdown",
   "metadata": {},
   "source": [
    "<br/>\n",
    "\n",
    "---\n",
    "\n",
    "Let's try this in code. We have to add a bias column to the design matrix if we want to include an intercept in the model: "
   ]
  },
  {
   "cell_type": "code",
   "execution_count": null,
   "metadata": {},
   "outputs": [
    {
     "data": {
      "text/html": [
       "<div>\n",
       "<style scoped>\n",
       "    .dataframe tbody tr th:only-of-type {\n",
       "        vertical-align: middle;\n",
       "    }\n",
       "\n",
       "    .dataframe tbody tr th {\n",
       "        vertical-align: top;\n",
       "    }\n",
       "\n",
       "    .dataframe thead th {\n",
       "        text-align: right;\n",
       "    }\n",
       "</style>\n",
       "<table border=\"1\" class=\"dataframe\">\n",
       "  <thead>\n",
       "    <tr style=\"text-align: right;\">\n",
       "      <th></th>\n",
       "      <th>flipper_length_mm</th>\n",
       "      <th>body_mass_g</th>\n",
       "      <th>bias</th>\n",
       "    </tr>\n",
       "  </thead>\n",
       "  <tbody>\n",
       "    <tr>\n",
       "      <th>0</th>\n",
       "      <td>181.0</td>\n",
       "      <td>3750.0</td>\n",
       "      <td>1</td>\n",
       "    </tr>\n",
       "    <tr>\n",
       "      <th>1</th>\n",
       "      <td>186.0</td>\n",
       "      <td>3800.0</td>\n",
       "      <td>1</td>\n",
       "    </tr>\n",
       "    <tr>\n",
       "      <th>2</th>\n",
       "      <td>195.0</td>\n",
       "      <td>3250.0</td>\n",
       "      <td>1</td>\n",
       "    </tr>\n",
       "    <tr>\n",
       "      <th>4</th>\n",
       "      <td>193.0</td>\n",
       "      <td>3450.0</td>\n",
       "      <td>1</td>\n",
       "    </tr>\n",
       "    <tr>\n",
       "      <th>5</th>\n",
       "      <td>190.0</td>\n",
       "      <td>3650.0</td>\n",
       "      <td>1</td>\n",
       "    </tr>\n",
       "    <tr>\n",
       "      <th>...</th>\n",
       "      <td>...</td>\n",
       "      <td>...</td>\n",
       "      <td>...</td>\n",
       "    </tr>\n",
       "    <tr>\n",
       "      <th>147</th>\n",
       "      <td>184.0</td>\n",
       "      <td>3475.0</td>\n",
       "      <td>1</td>\n",
       "    </tr>\n",
       "    <tr>\n",
       "      <th>148</th>\n",
       "      <td>195.0</td>\n",
       "      <td>3450.0</td>\n",
       "      <td>1</td>\n",
       "    </tr>\n",
       "    <tr>\n",
       "      <th>149</th>\n",
       "      <td>193.0</td>\n",
       "      <td>3750.0</td>\n",
       "      <td>1</td>\n",
       "    </tr>\n",
       "    <tr>\n",
       "      <th>150</th>\n",
       "      <td>187.0</td>\n",
       "      <td>3700.0</td>\n",
       "      <td>1</td>\n",
       "    </tr>\n",
       "    <tr>\n",
       "      <th>151</th>\n",
       "      <td>201.0</td>\n",
       "      <td>4000.0</td>\n",
       "      <td>1</td>\n",
       "    </tr>\n",
       "  </tbody>\n",
       "</table>\n",
       "<p>146 rows × 3 columns</p>\n",
       "</div>"
      ],
      "text/plain": [
       "     flipper_length_mm  body_mass_g  bias\n",
       "0                181.0       3750.0     1\n",
       "1                186.0       3800.0     1\n",
       "2                195.0       3250.0     1\n",
       "4                193.0       3450.0     1\n",
       "5                190.0       3650.0     1\n",
       "..                 ...          ...   ...\n",
       "147              184.0       3475.0     1\n",
       "148              195.0       3450.0     1\n",
       "149              193.0       3750.0     1\n",
       "150              187.0       3700.0     1\n",
       "151              201.0       4000.0     1\n",
       "\n",
       "[146 rows x 3 columns]"
      ]
     },
     "execution_count": 158,
     "metadata": {},
     "output_type": "execute_result"
    }
   ],
   "source": [
    "# Construct the design matrix X as a dataframe and add a bias column\n",
    "X = df[[\"flipper_length_mm\", \"body_mass_g\"]]\n",
    "X[\"bias\"] = 1\n",
    "X"
   ]
  },
  {
   "cell_type": "code",
   "execution_count": null,
   "metadata": {},
   "outputs": [
    {
     "data": {
      "text/plain": [
       "0      18.7\n",
       "1      17.4\n",
       "2      18.0\n",
       "4      19.3\n",
       "5      20.6\n",
       "       ... \n",
       "147    18.4\n",
       "148    17.8\n",
       "149    18.1\n",
       "150    17.1\n",
       "151    18.5\n",
       "Name: bill_depth_mm, Length: 146, dtype: float64"
      ]
     },
     "execution_count": 159,
     "metadata": {},
     "output_type": "execute_result"
    }
   ],
   "source": [
    "# Construct the outcome vector y\n",
    "y = df[\"bill_depth_mm\"]\n",
    "y"
   ]
  },
  {
   "cell_type": "markdown",
   "metadata": {},
   "source": [
    "Recall the solution to the normal equation if $\\mathbb{X}$ is full column rank:\n",
    "\n",
    "$$\\hat{\\theta} = \\left( \\mathbb{X}^T \\mathbb{X} \\right)^{-1} \\mathbb{X}^T \\mathbb{Y}$$"
   ]
  },
  {
   "cell_type": "code",
   "execution_count": null,
   "metadata": {},
   "outputs": [
    {
     "data": {
      "text/plain": [
       "0     0.009828\n",
       "1     0.001477\n",
       "2    11.002995\n",
       "dtype: float64"
      ]
     },
     "execution_count": 160,
     "metadata": {},
     "output_type": "execute_result"
    }
   ],
   "source": [
    "# M.T transposes a matrix M\n",
    "# X @ Y multiplies matrices X and Y\n",
    "# np.linalg.inv(M) finds the inverse of a matrix M\n",
    "# By default, the dataframe X will be silently converted to a matrix\n",
    "theta_using_normal_equation = np.linalg.inv(X.T @ X) @ X.T @ y\n",
    "theta_using_normal_equation"
   ]
  },
  {
   "cell_type": "markdown",
   "metadata": {},
   "source": [
    "So, our fitted model is as follows:\n",
    "\n",
    "$$ \\widehat{\\texttt{bill\\_depth\\_mm}} = 11 + 0.0098 * \\texttt{flipper\\_length\\_mm} + 0.0015 * \\texttt{body\\_mass\\_g} $$\n",
    "\n",
    "> The bias column is the last column in our design matrix. So, the intercept (11) appears last in the parameter list. More often, the bias column is the first column of the design matrix.\n",
    "\n",
    "Note: The code above is inefficient. We won't go into this in Data 100, but it's better to use `np.linalg.solve` rather than computing the explicit matrix inverse:"
   ]
  },
  {
   "cell_type": "code",
   "execution_count": null,
   "metadata": {},
   "outputs": [
    {
     "data": {
      "text/plain": [
       "array([9.82848689e-03, 1.47749591e-03, 1.10029953e+01])"
      ]
     },
     "execution_count": 161,
     "metadata": {},
     "output_type": "execute_result"
    }
   ],
   "source": [
    "# Solves for θ in (XTX)θ = XTy using a system of linear equations\n",
    "np.linalg.solve(X.T @ X, X.T @ y)"
   ]
  },
  {
   "cell_type": "markdown",
   "metadata": {},
   "source": [
    "#### Make Predictions\n",
    "We'll save the predictions in a column so we can compare them against predictions from `sklearn` in the next section."
   ]
  },
  {
   "cell_type": "code",
   "execution_count": null,
   "metadata": {},
   "outputs": [
    {
     "data": {
      "text/html": [
       "<div>\n",
       "<style scoped>\n",
       "    .dataframe tbody tr th:only-of-type {\n",
       "        vertical-align: middle;\n",
       "    }\n",
       "\n",
       "    .dataframe tbody tr th {\n",
       "        vertical-align: top;\n",
       "    }\n",
       "\n",
       "    .dataframe thead th {\n",
       "        text-align: right;\n",
       "    }\n",
       "</style>\n",
       "<table border=\"1\" class=\"dataframe\">\n",
       "  <thead>\n",
       "    <tr style=\"text-align: right;\">\n",
       "      <th></th>\n",
       "      <th>bill_depth_mm</th>\n",
       "      <th>flipper_length_mm</th>\n",
       "      <th>body_mass_g</th>\n",
       "      <th>pred_bill_depth_mm</th>\n",
       "    </tr>\n",
       "  </thead>\n",
       "  <tbody>\n",
       "    <tr>\n",
       "      <th>0</th>\n",
       "      <td>18.7</td>\n",
       "      <td>181.0</td>\n",
       "      <td>3750.0</td>\n",
       "      <td>18.322561</td>\n",
       "    </tr>\n",
       "    <tr>\n",
       "      <th>1</th>\n",
       "      <td>17.4</td>\n",
       "      <td>186.0</td>\n",
       "      <td>3800.0</td>\n",
       "      <td>18.445578</td>\n",
       "    </tr>\n",
       "    <tr>\n",
       "      <th>2</th>\n",
       "      <td>18.0</td>\n",
       "      <td>195.0</td>\n",
       "      <td>3250.0</td>\n",
       "      <td>17.721412</td>\n",
       "    </tr>\n",
       "    <tr>\n",
       "      <th>4</th>\n",
       "      <td>19.3</td>\n",
       "      <td>193.0</td>\n",
       "      <td>3450.0</td>\n",
       "      <td>17.997254</td>\n",
       "    </tr>\n",
       "    <tr>\n",
       "      <th>5</th>\n",
       "      <td>20.6</td>\n",
       "      <td>190.0</td>\n",
       "      <td>3650.0</td>\n",
       "      <td>18.263268</td>\n",
       "    </tr>\n",
       "    <tr>\n",
       "      <th>...</th>\n",
       "      <td>...</td>\n",
       "      <td>...</td>\n",
       "      <td>...</td>\n",
       "      <td>...</td>\n",
       "    </tr>\n",
       "    <tr>\n",
       "      <th>147</th>\n",
       "      <td>18.4</td>\n",
       "      <td>184.0</td>\n",
       "      <td>3475.0</td>\n",
       "      <td>17.945735</td>\n",
       "    </tr>\n",
       "    <tr>\n",
       "      <th>148</th>\n",
       "      <td>17.8</td>\n",
       "      <td>195.0</td>\n",
       "      <td>3450.0</td>\n",
       "      <td>18.016911</td>\n",
       "    </tr>\n",
       "    <tr>\n",
       "      <th>149</th>\n",
       "      <td>18.1</td>\n",
       "      <td>193.0</td>\n",
       "      <td>3750.0</td>\n",
       "      <td>18.440503</td>\n",
       "    </tr>\n",
       "    <tr>\n",
       "      <th>150</th>\n",
       "      <td>17.1</td>\n",
       "      <td>187.0</td>\n",
       "      <td>3700.0</td>\n",
       "      <td>18.307657</td>\n",
       "    </tr>\n",
       "    <tr>\n",
       "      <th>151</th>\n",
       "      <td>18.5</td>\n",
       "      <td>201.0</td>\n",
       "      <td>4000.0</td>\n",
       "      <td>18.888505</td>\n",
       "    </tr>\n",
       "  </tbody>\n",
       "</table>\n",
       "<p>146 rows × 4 columns</p>\n",
       "</div>"
      ],
      "text/plain": [
       "     bill_depth_mm  flipper_length_mm  body_mass_g  pred_bill_depth_mm\n",
       "0             18.7              181.0       3750.0           18.322561\n",
       "1             17.4              186.0       3800.0           18.445578\n",
       "2             18.0              195.0       3250.0           17.721412\n",
       "4             19.3              193.0       3450.0           17.997254\n",
       "5             20.6              190.0       3650.0           18.263268\n",
       "..             ...                ...          ...                 ...\n",
       "147           18.4              184.0       3475.0           17.945735\n",
       "148           17.8              195.0       3450.0           18.016911\n",
       "149           18.1              193.0       3750.0           18.440503\n",
       "150           17.1              187.0       3700.0           18.307657\n",
       "151           18.5              201.0       4000.0           18.888505\n",
       "\n",
       "[146 rows x 4 columns]"
      ]
     },
     "execution_count": 162,
     "metadata": {},
     "output_type": "execute_result"
    }
   ],
   "source": [
    "# Convert the dataframe representation of the design matrix to a numpy array, \n",
    "# and then multiply it by the theta vector to get the predicted outcomes.\n",
    "# Yhat = Xθ\n",
    "df[\"pred_bill_depth_mm\"] = X.to_numpy() @ theta_using_normal_equation\n",
    "df"
   ]
  },
  {
   "cell_type": "markdown",
   "metadata": {},
   "source": [
    "<br><br><br>\n",
    "\n",
    "**Instructor Note: Return to Lecture!**\n",
    "\n",
    "<br><br>"
   ]
  },
  {
   "cell_type": "markdown",
   "metadata": {},
   "source": [
    "<br/><br/>\n",
    "\n",
    "### Using `sklearn` to fit our Multiple Linear Regression Model\n"
   ]
  },
  {
   "cell_type": "markdown",
   "metadata": {},
   "source": [
    "An alternate approach to optimize our model is to use the `sklearn.linear_model.LinearRegression` class. [(Documentation)](https://scikit-learn.org/stable/modules/generated/sklearn.linear_model.LinearRegression.html) "
   ]
  },
  {
   "cell_type": "code",
   "execution_count": null,
   "metadata": {},
   "outputs": [],
   "source": [
    "# Import the LinearRegression class\n",
    "from sklearn.linear_model import LinearRegression"
   ]
  },
  {
   "cell_type": "markdown",
   "metadata": {},
   "source": [
    "1. **Create an `sklearn` object.**\n",
    "\n",
    "    First we create a model. At this point the model has not been fit so it has no parameters."
   ]
  },
  {
   "cell_type": "code",
   "execution_count": null,
   "metadata": {},
   "outputs": [
    {
     "data": {
      "text/html": [
       "<style>#sk-container-id-9 {\n",
       "  /* Definition of color scheme common for light and dark mode */\n",
       "  --sklearn-color-text: #000;\n",
       "  --sklearn-color-text-muted: #666;\n",
       "  --sklearn-color-line: gray;\n",
       "  /* Definition of color scheme for unfitted estimators */\n",
       "  --sklearn-color-unfitted-level-0: #fff5e6;\n",
       "  --sklearn-color-unfitted-level-1: #f6e4d2;\n",
       "  --sklearn-color-unfitted-level-2: #ffe0b3;\n",
       "  --sklearn-color-unfitted-level-3: chocolate;\n",
       "  /* Definition of color scheme for fitted estimators */\n",
       "  --sklearn-color-fitted-level-0: #f0f8ff;\n",
       "  --sklearn-color-fitted-level-1: #d4ebff;\n",
       "  --sklearn-color-fitted-level-2: #b3dbfd;\n",
       "  --sklearn-color-fitted-level-3: cornflowerblue;\n",
       "\n",
       "  /* Specific color for light theme */\n",
       "  --sklearn-color-text-on-default-background: var(--sg-text-color, var(--theme-code-foreground, var(--jp-content-font-color1, black)));\n",
       "  --sklearn-color-background: var(--sg-background-color, var(--theme-background, var(--jp-layout-color0, white)));\n",
       "  --sklearn-color-border-box: var(--sg-text-color, var(--theme-code-foreground, var(--jp-content-font-color1, black)));\n",
       "  --sklearn-color-icon: #696969;\n",
       "\n",
       "  @media (prefers-color-scheme: dark) {\n",
       "    /* Redefinition of color scheme for dark theme */\n",
       "    --sklearn-color-text-on-default-background: var(--sg-text-color, var(--theme-code-foreground, var(--jp-content-font-color1, white)));\n",
       "    --sklearn-color-background: var(--sg-background-color, var(--theme-background, var(--jp-layout-color0, #111)));\n",
       "    --sklearn-color-border-box: var(--sg-text-color, var(--theme-code-foreground, var(--jp-content-font-color1, white)));\n",
       "    --sklearn-color-icon: #878787;\n",
       "  }\n",
       "}\n",
       "\n",
       "#sk-container-id-9 {\n",
       "  color: var(--sklearn-color-text);\n",
       "}\n",
       "\n",
       "#sk-container-id-9 pre {\n",
       "  padding: 0;\n",
       "}\n",
       "\n",
       "#sk-container-id-9 input.sk-hidden--visually {\n",
       "  border: 0;\n",
       "  clip: rect(1px 1px 1px 1px);\n",
       "  clip: rect(1px, 1px, 1px, 1px);\n",
       "  height: 1px;\n",
       "  margin: -1px;\n",
       "  overflow: hidden;\n",
       "  padding: 0;\n",
       "  position: absolute;\n",
       "  width: 1px;\n",
       "}\n",
       "\n",
       "#sk-container-id-9 div.sk-dashed-wrapped {\n",
       "  border: 1px dashed var(--sklearn-color-line);\n",
       "  margin: 0 0.4em 0.5em 0.4em;\n",
       "  box-sizing: border-box;\n",
       "  padding-bottom: 0.4em;\n",
       "  background-color: var(--sklearn-color-background);\n",
       "}\n",
       "\n",
       "#sk-container-id-9 div.sk-container {\n",
       "  /* jupyter's `normalize.less` sets `[hidden] { display: none; }`\n",
       "     but bootstrap.min.css set `[hidden] { display: none !important; }`\n",
       "     so we also need the `!important` here to be able to override the\n",
       "     default hidden behavior on the sphinx rendered scikit-learn.org.\n",
       "     See: https://github.com/scikit-learn/scikit-learn/issues/21755 */\n",
       "  display: inline-block !important;\n",
       "  position: relative;\n",
       "}\n",
       "\n",
       "#sk-container-id-9 div.sk-text-repr-fallback {\n",
       "  display: none;\n",
       "}\n",
       "\n",
       "div.sk-parallel-item,\n",
       "div.sk-serial,\n",
       "div.sk-item {\n",
       "  /* draw centered vertical line to link estimators */\n",
       "  background-image: linear-gradient(var(--sklearn-color-text-on-default-background), var(--sklearn-color-text-on-default-background));\n",
       "  background-size: 2px 100%;\n",
       "  background-repeat: no-repeat;\n",
       "  background-position: center center;\n",
       "}\n",
       "\n",
       "/* Parallel-specific style estimator block */\n",
       "\n",
       "#sk-container-id-9 div.sk-parallel-item::after {\n",
       "  content: \"\";\n",
       "  width: 100%;\n",
       "  border-bottom: 2px solid var(--sklearn-color-text-on-default-background);\n",
       "  flex-grow: 1;\n",
       "}\n",
       "\n",
       "#sk-container-id-9 div.sk-parallel {\n",
       "  display: flex;\n",
       "  align-items: stretch;\n",
       "  justify-content: center;\n",
       "  background-color: var(--sklearn-color-background);\n",
       "  position: relative;\n",
       "}\n",
       "\n",
       "#sk-container-id-9 div.sk-parallel-item {\n",
       "  display: flex;\n",
       "  flex-direction: column;\n",
       "}\n",
       "\n",
       "#sk-container-id-9 div.sk-parallel-item:first-child::after {\n",
       "  align-self: flex-end;\n",
       "  width: 50%;\n",
       "}\n",
       "\n",
       "#sk-container-id-9 div.sk-parallel-item:last-child::after {\n",
       "  align-self: flex-start;\n",
       "  width: 50%;\n",
       "}\n",
       "\n",
       "#sk-container-id-9 div.sk-parallel-item:only-child::after {\n",
       "  width: 0;\n",
       "}\n",
       "\n",
       "/* Serial-specific style estimator block */\n",
       "\n",
       "#sk-container-id-9 div.sk-serial {\n",
       "  display: flex;\n",
       "  flex-direction: column;\n",
       "  align-items: center;\n",
       "  background-color: var(--sklearn-color-background);\n",
       "  padding-right: 1em;\n",
       "  padding-left: 1em;\n",
       "}\n",
       "\n",
       "\n",
       "/* Toggleable style: style used for estimator/Pipeline/ColumnTransformer box that is\n",
       "clickable and can be expanded/collapsed.\n",
       "- Pipeline and ColumnTransformer use this feature and define the default style\n",
       "- Estimators will overwrite some part of the style using the `sk-estimator` class\n",
       "*/\n",
       "\n",
       "/* Pipeline and ColumnTransformer style (default) */\n",
       "\n",
       "#sk-container-id-9 div.sk-toggleable {\n",
       "  /* Default theme specific background. It is overwritten whether we have a\n",
       "  specific estimator or a Pipeline/ColumnTransformer */\n",
       "  background-color: var(--sklearn-color-background);\n",
       "}\n",
       "\n",
       "/* Toggleable label */\n",
       "#sk-container-id-9 label.sk-toggleable__label {\n",
       "  cursor: pointer;\n",
       "  display: flex;\n",
       "  width: 100%;\n",
       "  margin-bottom: 0;\n",
       "  padding: 0.5em;\n",
       "  box-sizing: border-box;\n",
       "  text-align: center;\n",
       "  align-items: start;\n",
       "  justify-content: space-between;\n",
       "  gap: 0.5em;\n",
       "}\n",
       "\n",
       "#sk-container-id-9 label.sk-toggleable__label .caption {\n",
       "  font-size: 0.6rem;\n",
       "  font-weight: lighter;\n",
       "  color: var(--sklearn-color-text-muted);\n",
       "}\n",
       "\n",
       "#sk-container-id-9 label.sk-toggleable__label-arrow:before {\n",
       "  /* Arrow on the left of the label */\n",
       "  content: \"▸\";\n",
       "  float: left;\n",
       "  margin-right: 0.25em;\n",
       "  color: var(--sklearn-color-icon);\n",
       "}\n",
       "\n",
       "#sk-container-id-9 label.sk-toggleable__label-arrow:hover:before {\n",
       "  color: var(--sklearn-color-text);\n",
       "}\n",
       "\n",
       "/* Toggleable content - dropdown */\n",
       "\n",
       "#sk-container-id-9 div.sk-toggleable__content {\n",
       "  max-height: 0;\n",
       "  max-width: 0;\n",
       "  overflow: hidden;\n",
       "  text-align: left;\n",
       "  /* unfitted */\n",
       "  background-color: var(--sklearn-color-unfitted-level-0);\n",
       "}\n",
       "\n",
       "#sk-container-id-9 div.sk-toggleable__content.fitted {\n",
       "  /* fitted */\n",
       "  background-color: var(--sklearn-color-fitted-level-0);\n",
       "}\n",
       "\n",
       "#sk-container-id-9 div.sk-toggleable__content pre {\n",
       "  margin: 0.2em;\n",
       "  border-radius: 0.25em;\n",
       "  color: var(--sklearn-color-text);\n",
       "  /* unfitted */\n",
       "  background-color: var(--sklearn-color-unfitted-level-0);\n",
       "}\n",
       "\n",
       "#sk-container-id-9 div.sk-toggleable__content.fitted pre {\n",
       "  /* unfitted */\n",
       "  background-color: var(--sklearn-color-fitted-level-0);\n",
       "}\n",
       "\n",
       "#sk-container-id-9 input.sk-toggleable__control:checked~div.sk-toggleable__content {\n",
       "  /* Expand drop-down */\n",
       "  max-height: 200px;\n",
       "  max-width: 100%;\n",
       "  overflow: auto;\n",
       "}\n",
       "\n",
       "#sk-container-id-9 input.sk-toggleable__control:checked~label.sk-toggleable__label-arrow:before {\n",
       "  content: \"▾\";\n",
       "}\n",
       "\n",
       "/* Pipeline/ColumnTransformer-specific style */\n",
       "\n",
       "#sk-container-id-9 div.sk-label input.sk-toggleable__control:checked~label.sk-toggleable__label {\n",
       "  color: var(--sklearn-color-text);\n",
       "  background-color: var(--sklearn-color-unfitted-level-2);\n",
       "}\n",
       "\n",
       "#sk-container-id-9 div.sk-label.fitted input.sk-toggleable__control:checked~label.sk-toggleable__label {\n",
       "  background-color: var(--sklearn-color-fitted-level-2);\n",
       "}\n",
       "\n",
       "/* Estimator-specific style */\n",
       "\n",
       "/* Colorize estimator box */\n",
       "#sk-container-id-9 div.sk-estimator input.sk-toggleable__control:checked~label.sk-toggleable__label {\n",
       "  /* unfitted */\n",
       "  background-color: var(--sklearn-color-unfitted-level-2);\n",
       "}\n",
       "\n",
       "#sk-container-id-9 div.sk-estimator.fitted input.sk-toggleable__control:checked~label.sk-toggleable__label {\n",
       "  /* fitted */\n",
       "  background-color: var(--sklearn-color-fitted-level-2);\n",
       "}\n",
       "\n",
       "#sk-container-id-9 div.sk-label label.sk-toggleable__label,\n",
       "#sk-container-id-9 div.sk-label label {\n",
       "  /* The background is the default theme color */\n",
       "  color: var(--sklearn-color-text-on-default-background);\n",
       "}\n",
       "\n",
       "/* On hover, darken the color of the background */\n",
       "#sk-container-id-9 div.sk-label:hover label.sk-toggleable__label {\n",
       "  color: var(--sklearn-color-text);\n",
       "  background-color: var(--sklearn-color-unfitted-level-2);\n",
       "}\n",
       "\n",
       "/* Label box, darken color on hover, fitted */\n",
       "#sk-container-id-9 div.sk-label.fitted:hover label.sk-toggleable__label.fitted {\n",
       "  color: var(--sklearn-color-text);\n",
       "  background-color: var(--sklearn-color-fitted-level-2);\n",
       "}\n",
       "\n",
       "/* Estimator label */\n",
       "\n",
       "#sk-container-id-9 div.sk-label label {\n",
       "  font-family: monospace;\n",
       "  font-weight: bold;\n",
       "  display: inline-block;\n",
       "  line-height: 1.2em;\n",
       "}\n",
       "\n",
       "#sk-container-id-9 div.sk-label-container {\n",
       "  text-align: center;\n",
       "}\n",
       "\n",
       "/* Estimator-specific */\n",
       "#sk-container-id-9 div.sk-estimator {\n",
       "  font-family: monospace;\n",
       "  border: 1px dotted var(--sklearn-color-border-box);\n",
       "  border-radius: 0.25em;\n",
       "  box-sizing: border-box;\n",
       "  margin-bottom: 0.5em;\n",
       "  /* unfitted */\n",
       "  background-color: var(--sklearn-color-unfitted-level-0);\n",
       "}\n",
       "\n",
       "#sk-container-id-9 div.sk-estimator.fitted {\n",
       "  /* fitted */\n",
       "  background-color: var(--sklearn-color-fitted-level-0);\n",
       "}\n",
       "\n",
       "/* on hover */\n",
       "#sk-container-id-9 div.sk-estimator:hover {\n",
       "  /* unfitted */\n",
       "  background-color: var(--sklearn-color-unfitted-level-2);\n",
       "}\n",
       "\n",
       "#sk-container-id-9 div.sk-estimator.fitted:hover {\n",
       "  /* fitted */\n",
       "  background-color: var(--sklearn-color-fitted-level-2);\n",
       "}\n",
       "\n",
       "/* Specification for estimator info (e.g. \"i\" and \"?\") */\n",
       "\n",
       "/* Common style for \"i\" and \"?\" */\n",
       "\n",
       ".sk-estimator-doc-link,\n",
       "a:link.sk-estimator-doc-link,\n",
       "a:visited.sk-estimator-doc-link {\n",
       "  float: right;\n",
       "  font-size: smaller;\n",
       "  line-height: 1em;\n",
       "  font-family: monospace;\n",
       "  background-color: var(--sklearn-color-background);\n",
       "  border-radius: 1em;\n",
       "  height: 1em;\n",
       "  width: 1em;\n",
       "  text-decoration: none !important;\n",
       "  margin-left: 0.5em;\n",
       "  text-align: center;\n",
       "  /* unfitted */\n",
       "  border: var(--sklearn-color-unfitted-level-1) 1pt solid;\n",
       "  color: var(--sklearn-color-unfitted-level-1);\n",
       "}\n",
       "\n",
       ".sk-estimator-doc-link.fitted,\n",
       "a:link.sk-estimator-doc-link.fitted,\n",
       "a:visited.sk-estimator-doc-link.fitted {\n",
       "  /* fitted */\n",
       "  border: var(--sklearn-color-fitted-level-1) 1pt solid;\n",
       "  color: var(--sklearn-color-fitted-level-1);\n",
       "}\n",
       "\n",
       "/* On hover */\n",
       "div.sk-estimator:hover .sk-estimator-doc-link:hover,\n",
       ".sk-estimator-doc-link:hover,\n",
       "div.sk-label-container:hover .sk-estimator-doc-link:hover,\n",
       ".sk-estimator-doc-link:hover {\n",
       "  /* unfitted */\n",
       "  background-color: var(--sklearn-color-unfitted-level-3);\n",
       "  color: var(--sklearn-color-background);\n",
       "  text-decoration: none;\n",
       "}\n",
       "\n",
       "div.sk-estimator.fitted:hover .sk-estimator-doc-link.fitted:hover,\n",
       ".sk-estimator-doc-link.fitted:hover,\n",
       "div.sk-label-container:hover .sk-estimator-doc-link.fitted:hover,\n",
       ".sk-estimator-doc-link.fitted:hover {\n",
       "  /* fitted */\n",
       "  background-color: var(--sklearn-color-fitted-level-3);\n",
       "  color: var(--sklearn-color-background);\n",
       "  text-decoration: none;\n",
       "}\n",
       "\n",
       "/* Span, style for the box shown on hovering the info icon */\n",
       ".sk-estimator-doc-link span {\n",
       "  display: none;\n",
       "  z-index: 9999;\n",
       "  position: relative;\n",
       "  font-weight: normal;\n",
       "  right: .2ex;\n",
       "  padding: .5ex;\n",
       "  margin: .5ex;\n",
       "  width: min-content;\n",
       "  min-width: 20ex;\n",
       "  max-width: 50ex;\n",
       "  color: var(--sklearn-color-text);\n",
       "  box-shadow: 2pt 2pt 4pt #999;\n",
       "  /* unfitted */\n",
       "  background: var(--sklearn-color-unfitted-level-0);\n",
       "  border: .5pt solid var(--sklearn-color-unfitted-level-3);\n",
       "}\n",
       "\n",
       ".sk-estimator-doc-link.fitted span {\n",
       "  /* fitted */\n",
       "  background: var(--sklearn-color-fitted-level-0);\n",
       "  border: var(--sklearn-color-fitted-level-3);\n",
       "}\n",
       "\n",
       ".sk-estimator-doc-link:hover span {\n",
       "  display: block;\n",
       "}\n",
       "\n",
       "/* \"?\"-specific style due to the `<a>` HTML tag */\n",
       "\n",
       "#sk-container-id-9 a.estimator_doc_link {\n",
       "  float: right;\n",
       "  font-size: 1rem;\n",
       "  line-height: 1em;\n",
       "  font-family: monospace;\n",
       "  background-color: var(--sklearn-color-background);\n",
       "  border-radius: 1rem;\n",
       "  height: 1rem;\n",
       "  width: 1rem;\n",
       "  text-decoration: none;\n",
       "  /* unfitted */\n",
       "  color: var(--sklearn-color-unfitted-level-1);\n",
       "  border: var(--sklearn-color-unfitted-level-1) 1pt solid;\n",
       "}\n",
       "\n",
       "#sk-container-id-9 a.estimator_doc_link.fitted {\n",
       "  /* fitted */\n",
       "  border: var(--sklearn-color-fitted-level-1) 1pt solid;\n",
       "  color: var(--sklearn-color-fitted-level-1);\n",
       "}\n",
       "\n",
       "/* On hover */\n",
       "#sk-container-id-9 a.estimator_doc_link:hover {\n",
       "  /* unfitted */\n",
       "  background-color: var(--sklearn-color-unfitted-level-3);\n",
       "  color: var(--sklearn-color-background);\n",
       "  text-decoration: none;\n",
       "}\n",
       "\n",
       "#sk-container-id-9 a.estimator_doc_link.fitted:hover {\n",
       "  /* fitted */\n",
       "  background-color: var(--sklearn-color-fitted-level-3);\n",
       "}\n",
       "</style><div id=\"sk-container-id-9\" class=\"sk-top-container\"><div class=\"sk-text-repr-fallback\"><pre>LinearRegression()</pre><b>In a Jupyter environment, please rerun this cell to show the HTML representation or trust the notebook. <br />On GitHub, the HTML representation is unable to render, please try loading this page with nbviewer.org.</b></div><div class=\"sk-container\" hidden><div class=\"sk-item\"><div class=\"sk-estimator  sk-toggleable\"><input class=\"sk-toggleable__control sk-hidden--visually\" id=\"sk-estimator-id-9\" type=\"checkbox\" checked><label for=\"sk-estimator-id-9\" class=\"sk-toggleable__label  sk-toggleable__label-arrow\"><div><div>LinearRegression</div></div><div><a class=\"sk-estimator-doc-link \" rel=\"noreferrer\" target=\"_blank\" href=\"https://scikit-learn.org/1.6/modules/generated/sklearn.linear_model.LinearRegression.html\">?<span>Documentation for LinearRegression</span></a><span class=\"sk-estimator-doc-link \">i<span>Not fitted</span></span></div></label><div class=\"sk-toggleable__content \"><pre>LinearRegression()</pre></div> </div></div></div></div>"
      ],
      "text/plain": [
       "LinearRegression()"
      ]
     },
     "execution_count": 164,
     "metadata": {},
     "output_type": "execute_result"
    }
   ],
   "source": [
    "# Construct a blank LinearRegression model object\n",
    "model = LinearRegression()\n",
    "model"
   ]
  },
  {
   "cell_type": "markdown",
   "metadata": {},
   "source": [
    "2. **`fit` the object to data.**\n",
    "\n",
    "Then we \"fit\" the model, which means computing the parameters that minimize the loss function. \n",
    "    \n",
    "The first argument of the fit function should be a matrix (or DataFrame), and the second should be the observations we're trying to predict. \n",
    "\n",
    "Note: The `LinearRegression` class is hard coded to use the **MSE** as its loss function. "
   ]
  },
  {
   "cell_type": "code",
   "execution_count": null,
   "metadata": {},
   "outputs": [
    {
     "data": {
      "text/html": [
       "<style>#sk-container-id-10 {\n",
       "  /* Definition of color scheme common for light and dark mode */\n",
       "  --sklearn-color-text: #000;\n",
       "  --sklearn-color-text-muted: #666;\n",
       "  --sklearn-color-line: gray;\n",
       "  /* Definition of color scheme for unfitted estimators */\n",
       "  --sklearn-color-unfitted-level-0: #fff5e6;\n",
       "  --sklearn-color-unfitted-level-1: #f6e4d2;\n",
       "  --sklearn-color-unfitted-level-2: #ffe0b3;\n",
       "  --sklearn-color-unfitted-level-3: chocolate;\n",
       "  /* Definition of color scheme for fitted estimators */\n",
       "  --sklearn-color-fitted-level-0: #f0f8ff;\n",
       "  --sklearn-color-fitted-level-1: #d4ebff;\n",
       "  --sklearn-color-fitted-level-2: #b3dbfd;\n",
       "  --sklearn-color-fitted-level-3: cornflowerblue;\n",
       "\n",
       "  /* Specific color for light theme */\n",
       "  --sklearn-color-text-on-default-background: var(--sg-text-color, var(--theme-code-foreground, var(--jp-content-font-color1, black)));\n",
       "  --sklearn-color-background: var(--sg-background-color, var(--theme-background, var(--jp-layout-color0, white)));\n",
       "  --sklearn-color-border-box: var(--sg-text-color, var(--theme-code-foreground, var(--jp-content-font-color1, black)));\n",
       "  --sklearn-color-icon: #696969;\n",
       "\n",
       "  @media (prefers-color-scheme: dark) {\n",
       "    /* Redefinition of color scheme for dark theme */\n",
       "    --sklearn-color-text-on-default-background: var(--sg-text-color, var(--theme-code-foreground, var(--jp-content-font-color1, white)));\n",
       "    --sklearn-color-background: var(--sg-background-color, var(--theme-background, var(--jp-layout-color0, #111)));\n",
       "    --sklearn-color-border-box: var(--sg-text-color, var(--theme-code-foreground, var(--jp-content-font-color1, white)));\n",
       "    --sklearn-color-icon: #878787;\n",
       "  }\n",
       "}\n",
       "\n",
       "#sk-container-id-10 {\n",
       "  color: var(--sklearn-color-text);\n",
       "}\n",
       "\n",
       "#sk-container-id-10 pre {\n",
       "  padding: 0;\n",
       "}\n",
       "\n",
       "#sk-container-id-10 input.sk-hidden--visually {\n",
       "  border: 0;\n",
       "  clip: rect(1px 1px 1px 1px);\n",
       "  clip: rect(1px, 1px, 1px, 1px);\n",
       "  height: 1px;\n",
       "  margin: -1px;\n",
       "  overflow: hidden;\n",
       "  padding: 0;\n",
       "  position: absolute;\n",
       "  width: 1px;\n",
       "}\n",
       "\n",
       "#sk-container-id-10 div.sk-dashed-wrapped {\n",
       "  border: 1px dashed var(--sklearn-color-line);\n",
       "  margin: 0 0.4em 0.5em 0.4em;\n",
       "  box-sizing: border-box;\n",
       "  padding-bottom: 0.4em;\n",
       "  background-color: var(--sklearn-color-background);\n",
       "}\n",
       "\n",
       "#sk-container-id-10 div.sk-container {\n",
       "  /* jupyter's `normalize.less` sets `[hidden] { display: none; }`\n",
       "     but bootstrap.min.css set `[hidden] { display: none !important; }`\n",
       "     so we also need the `!important` here to be able to override the\n",
       "     default hidden behavior on the sphinx rendered scikit-learn.org.\n",
       "     See: https://github.com/scikit-learn/scikit-learn/issues/21755 */\n",
       "  display: inline-block !important;\n",
       "  position: relative;\n",
       "}\n",
       "\n",
       "#sk-container-id-10 div.sk-text-repr-fallback {\n",
       "  display: none;\n",
       "}\n",
       "\n",
       "div.sk-parallel-item,\n",
       "div.sk-serial,\n",
       "div.sk-item {\n",
       "  /* draw centered vertical line to link estimators */\n",
       "  background-image: linear-gradient(var(--sklearn-color-text-on-default-background), var(--sklearn-color-text-on-default-background));\n",
       "  background-size: 2px 100%;\n",
       "  background-repeat: no-repeat;\n",
       "  background-position: center center;\n",
       "}\n",
       "\n",
       "/* Parallel-specific style estimator block */\n",
       "\n",
       "#sk-container-id-10 div.sk-parallel-item::after {\n",
       "  content: \"\";\n",
       "  width: 100%;\n",
       "  border-bottom: 2px solid var(--sklearn-color-text-on-default-background);\n",
       "  flex-grow: 1;\n",
       "}\n",
       "\n",
       "#sk-container-id-10 div.sk-parallel {\n",
       "  display: flex;\n",
       "  align-items: stretch;\n",
       "  justify-content: center;\n",
       "  background-color: var(--sklearn-color-background);\n",
       "  position: relative;\n",
       "}\n",
       "\n",
       "#sk-container-id-10 div.sk-parallel-item {\n",
       "  display: flex;\n",
       "  flex-direction: column;\n",
       "}\n",
       "\n",
       "#sk-container-id-10 div.sk-parallel-item:first-child::after {\n",
       "  align-self: flex-end;\n",
       "  width: 50%;\n",
       "}\n",
       "\n",
       "#sk-container-id-10 div.sk-parallel-item:last-child::after {\n",
       "  align-self: flex-start;\n",
       "  width: 50%;\n",
       "}\n",
       "\n",
       "#sk-container-id-10 div.sk-parallel-item:only-child::after {\n",
       "  width: 0;\n",
       "}\n",
       "\n",
       "/* Serial-specific style estimator block */\n",
       "\n",
       "#sk-container-id-10 div.sk-serial {\n",
       "  display: flex;\n",
       "  flex-direction: column;\n",
       "  align-items: center;\n",
       "  background-color: var(--sklearn-color-background);\n",
       "  padding-right: 1em;\n",
       "  padding-left: 1em;\n",
       "}\n",
       "\n",
       "\n",
       "/* Toggleable style: style used for estimator/Pipeline/ColumnTransformer box that is\n",
       "clickable and can be expanded/collapsed.\n",
       "- Pipeline and ColumnTransformer use this feature and define the default style\n",
       "- Estimators will overwrite some part of the style using the `sk-estimator` class\n",
       "*/\n",
       "\n",
       "/* Pipeline and ColumnTransformer style (default) */\n",
       "\n",
       "#sk-container-id-10 div.sk-toggleable {\n",
       "  /* Default theme specific background. It is overwritten whether we have a\n",
       "  specific estimator or a Pipeline/ColumnTransformer */\n",
       "  background-color: var(--sklearn-color-background);\n",
       "}\n",
       "\n",
       "/* Toggleable label */\n",
       "#sk-container-id-10 label.sk-toggleable__label {\n",
       "  cursor: pointer;\n",
       "  display: flex;\n",
       "  width: 100%;\n",
       "  margin-bottom: 0;\n",
       "  padding: 0.5em;\n",
       "  box-sizing: border-box;\n",
       "  text-align: center;\n",
       "  align-items: start;\n",
       "  justify-content: space-between;\n",
       "  gap: 0.5em;\n",
       "}\n",
       "\n",
       "#sk-container-id-10 label.sk-toggleable__label .caption {\n",
       "  font-size: 0.6rem;\n",
       "  font-weight: lighter;\n",
       "  color: var(--sklearn-color-text-muted);\n",
       "}\n",
       "\n",
       "#sk-container-id-10 label.sk-toggleable__label-arrow:before {\n",
       "  /* Arrow on the left of the label */\n",
       "  content: \"▸\";\n",
       "  float: left;\n",
       "  margin-right: 0.25em;\n",
       "  color: var(--sklearn-color-icon);\n",
       "}\n",
       "\n",
       "#sk-container-id-10 label.sk-toggleable__label-arrow:hover:before {\n",
       "  color: var(--sklearn-color-text);\n",
       "}\n",
       "\n",
       "/* Toggleable content - dropdown */\n",
       "\n",
       "#sk-container-id-10 div.sk-toggleable__content {\n",
       "  max-height: 0;\n",
       "  max-width: 0;\n",
       "  overflow: hidden;\n",
       "  text-align: left;\n",
       "  /* unfitted */\n",
       "  background-color: var(--sklearn-color-unfitted-level-0);\n",
       "}\n",
       "\n",
       "#sk-container-id-10 div.sk-toggleable__content.fitted {\n",
       "  /* fitted */\n",
       "  background-color: var(--sklearn-color-fitted-level-0);\n",
       "}\n",
       "\n",
       "#sk-container-id-10 div.sk-toggleable__content pre {\n",
       "  margin: 0.2em;\n",
       "  border-radius: 0.25em;\n",
       "  color: var(--sklearn-color-text);\n",
       "  /* unfitted */\n",
       "  background-color: var(--sklearn-color-unfitted-level-0);\n",
       "}\n",
       "\n",
       "#sk-container-id-10 div.sk-toggleable__content.fitted pre {\n",
       "  /* unfitted */\n",
       "  background-color: var(--sklearn-color-fitted-level-0);\n",
       "}\n",
       "\n",
       "#sk-container-id-10 input.sk-toggleable__control:checked~div.sk-toggleable__content {\n",
       "  /* Expand drop-down */\n",
       "  max-height: 200px;\n",
       "  max-width: 100%;\n",
       "  overflow: auto;\n",
       "}\n",
       "\n",
       "#sk-container-id-10 input.sk-toggleable__control:checked~label.sk-toggleable__label-arrow:before {\n",
       "  content: \"▾\";\n",
       "}\n",
       "\n",
       "/* Pipeline/ColumnTransformer-specific style */\n",
       "\n",
       "#sk-container-id-10 div.sk-label input.sk-toggleable__control:checked~label.sk-toggleable__label {\n",
       "  color: var(--sklearn-color-text);\n",
       "  background-color: var(--sklearn-color-unfitted-level-2);\n",
       "}\n",
       "\n",
       "#sk-container-id-10 div.sk-label.fitted input.sk-toggleable__control:checked~label.sk-toggleable__label {\n",
       "  background-color: var(--sklearn-color-fitted-level-2);\n",
       "}\n",
       "\n",
       "/* Estimator-specific style */\n",
       "\n",
       "/* Colorize estimator box */\n",
       "#sk-container-id-10 div.sk-estimator input.sk-toggleable__control:checked~label.sk-toggleable__label {\n",
       "  /* unfitted */\n",
       "  background-color: var(--sklearn-color-unfitted-level-2);\n",
       "}\n",
       "\n",
       "#sk-container-id-10 div.sk-estimator.fitted input.sk-toggleable__control:checked~label.sk-toggleable__label {\n",
       "  /* fitted */\n",
       "  background-color: var(--sklearn-color-fitted-level-2);\n",
       "}\n",
       "\n",
       "#sk-container-id-10 div.sk-label label.sk-toggleable__label,\n",
       "#sk-container-id-10 div.sk-label label {\n",
       "  /* The background is the default theme color */\n",
       "  color: var(--sklearn-color-text-on-default-background);\n",
       "}\n",
       "\n",
       "/* On hover, darken the color of the background */\n",
       "#sk-container-id-10 div.sk-label:hover label.sk-toggleable__label {\n",
       "  color: var(--sklearn-color-text);\n",
       "  background-color: var(--sklearn-color-unfitted-level-2);\n",
       "}\n",
       "\n",
       "/* Label box, darken color on hover, fitted */\n",
       "#sk-container-id-10 div.sk-label.fitted:hover label.sk-toggleable__label.fitted {\n",
       "  color: var(--sklearn-color-text);\n",
       "  background-color: var(--sklearn-color-fitted-level-2);\n",
       "}\n",
       "\n",
       "/* Estimator label */\n",
       "\n",
       "#sk-container-id-10 div.sk-label label {\n",
       "  font-family: monospace;\n",
       "  font-weight: bold;\n",
       "  display: inline-block;\n",
       "  line-height: 1.2em;\n",
       "}\n",
       "\n",
       "#sk-container-id-10 div.sk-label-container {\n",
       "  text-align: center;\n",
       "}\n",
       "\n",
       "/* Estimator-specific */\n",
       "#sk-container-id-10 div.sk-estimator {\n",
       "  font-family: monospace;\n",
       "  border: 1px dotted var(--sklearn-color-border-box);\n",
       "  border-radius: 0.25em;\n",
       "  box-sizing: border-box;\n",
       "  margin-bottom: 0.5em;\n",
       "  /* unfitted */\n",
       "  background-color: var(--sklearn-color-unfitted-level-0);\n",
       "}\n",
       "\n",
       "#sk-container-id-10 div.sk-estimator.fitted {\n",
       "  /* fitted */\n",
       "  background-color: var(--sklearn-color-fitted-level-0);\n",
       "}\n",
       "\n",
       "/* on hover */\n",
       "#sk-container-id-10 div.sk-estimator:hover {\n",
       "  /* unfitted */\n",
       "  background-color: var(--sklearn-color-unfitted-level-2);\n",
       "}\n",
       "\n",
       "#sk-container-id-10 div.sk-estimator.fitted:hover {\n",
       "  /* fitted */\n",
       "  background-color: var(--sklearn-color-fitted-level-2);\n",
       "}\n",
       "\n",
       "/* Specification for estimator info (e.g. \"i\" and \"?\") */\n",
       "\n",
       "/* Common style for \"i\" and \"?\" */\n",
       "\n",
       ".sk-estimator-doc-link,\n",
       "a:link.sk-estimator-doc-link,\n",
       "a:visited.sk-estimator-doc-link {\n",
       "  float: right;\n",
       "  font-size: smaller;\n",
       "  line-height: 1em;\n",
       "  font-family: monospace;\n",
       "  background-color: var(--sklearn-color-background);\n",
       "  border-radius: 1em;\n",
       "  height: 1em;\n",
       "  width: 1em;\n",
       "  text-decoration: none !important;\n",
       "  margin-left: 0.5em;\n",
       "  text-align: center;\n",
       "  /* unfitted */\n",
       "  border: var(--sklearn-color-unfitted-level-1) 1pt solid;\n",
       "  color: var(--sklearn-color-unfitted-level-1);\n",
       "}\n",
       "\n",
       ".sk-estimator-doc-link.fitted,\n",
       "a:link.sk-estimator-doc-link.fitted,\n",
       "a:visited.sk-estimator-doc-link.fitted {\n",
       "  /* fitted */\n",
       "  border: var(--sklearn-color-fitted-level-1) 1pt solid;\n",
       "  color: var(--sklearn-color-fitted-level-1);\n",
       "}\n",
       "\n",
       "/* On hover */\n",
       "div.sk-estimator:hover .sk-estimator-doc-link:hover,\n",
       ".sk-estimator-doc-link:hover,\n",
       "div.sk-label-container:hover .sk-estimator-doc-link:hover,\n",
       ".sk-estimator-doc-link:hover {\n",
       "  /* unfitted */\n",
       "  background-color: var(--sklearn-color-unfitted-level-3);\n",
       "  color: var(--sklearn-color-background);\n",
       "  text-decoration: none;\n",
       "}\n",
       "\n",
       "div.sk-estimator.fitted:hover .sk-estimator-doc-link.fitted:hover,\n",
       ".sk-estimator-doc-link.fitted:hover,\n",
       "div.sk-label-container:hover .sk-estimator-doc-link.fitted:hover,\n",
       ".sk-estimator-doc-link.fitted:hover {\n",
       "  /* fitted */\n",
       "  background-color: var(--sklearn-color-fitted-level-3);\n",
       "  color: var(--sklearn-color-background);\n",
       "  text-decoration: none;\n",
       "}\n",
       "\n",
       "/* Span, style for the box shown on hovering the info icon */\n",
       ".sk-estimator-doc-link span {\n",
       "  display: none;\n",
       "  z-index: 9999;\n",
       "  position: relative;\n",
       "  font-weight: normal;\n",
       "  right: .2ex;\n",
       "  padding: .5ex;\n",
       "  margin: .5ex;\n",
       "  width: min-content;\n",
       "  min-width: 20ex;\n",
       "  max-width: 50ex;\n",
       "  color: var(--sklearn-color-text);\n",
       "  box-shadow: 2pt 2pt 4pt #999;\n",
       "  /* unfitted */\n",
       "  background: var(--sklearn-color-unfitted-level-0);\n",
       "  border: .5pt solid var(--sklearn-color-unfitted-level-3);\n",
       "}\n",
       "\n",
       ".sk-estimator-doc-link.fitted span {\n",
       "  /* fitted */\n",
       "  background: var(--sklearn-color-fitted-level-0);\n",
       "  border: var(--sklearn-color-fitted-level-3);\n",
       "}\n",
       "\n",
       ".sk-estimator-doc-link:hover span {\n",
       "  display: block;\n",
       "}\n",
       "\n",
       "/* \"?\"-specific style due to the `<a>` HTML tag */\n",
       "\n",
       "#sk-container-id-10 a.estimator_doc_link {\n",
       "  float: right;\n",
       "  font-size: 1rem;\n",
       "  line-height: 1em;\n",
       "  font-family: monospace;\n",
       "  background-color: var(--sklearn-color-background);\n",
       "  border-radius: 1rem;\n",
       "  height: 1rem;\n",
       "  width: 1rem;\n",
       "  text-decoration: none;\n",
       "  /* unfitted */\n",
       "  color: var(--sklearn-color-unfitted-level-1);\n",
       "  border: var(--sklearn-color-unfitted-level-1) 1pt solid;\n",
       "}\n",
       "\n",
       "#sk-container-id-10 a.estimator_doc_link.fitted {\n",
       "  /* fitted */\n",
       "  border: var(--sklearn-color-fitted-level-1) 1pt solid;\n",
       "  color: var(--sklearn-color-fitted-level-1);\n",
       "}\n",
       "\n",
       "/* On hover */\n",
       "#sk-container-id-10 a.estimator_doc_link:hover {\n",
       "  /* unfitted */\n",
       "  background-color: var(--sklearn-color-unfitted-level-3);\n",
       "  color: var(--sklearn-color-background);\n",
       "  text-decoration: none;\n",
       "}\n",
       "\n",
       "#sk-container-id-10 a.estimator_doc_link.fitted:hover {\n",
       "  /* fitted */\n",
       "  background-color: var(--sklearn-color-fitted-level-3);\n",
       "}\n",
       "</style><div id=\"sk-container-id-10\" class=\"sk-top-container\"><div class=\"sk-text-repr-fallback\"><pre>LinearRegression()</pre><b>In a Jupyter environment, please rerun this cell to show the HTML representation or trust the notebook. <br />On GitHub, the HTML representation is unable to render, please try loading this page with nbviewer.org.</b></div><div class=\"sk-container\" hidden><div class=\"sk-item\"><div class=\"sk-estimator fitted sk-toggleable\"><input class=\"sk-toggleable__control sk-hidden--visually\" id=\"sk-estimator-id-10\" type=\"checkbox\" checked><label for=\"sk-estimator-id-10\" class=\"sk-toggleable__label fitted sk-toggleable__label-arrow\"><div><div>LinearRegression</div></div><div><a class=\"sk-estimator-doc-link fitted\" rel=\"noreferrer\" target=\"_blank\" href=\"https://scikit-learn.org/1.6/modules/generated/sklearn.linear_model.LinearRegression.html\">?<span>Documentation for LinearRegression</span></a><span class=\"sk-estimator-doc-link fitted\">i<span>Fitted</span></span></div></label><div class=\"sk-toggleable__content fitted\"><pre>LinearRegression()</pre></div> </div></div></div></div>"
      ],
      "text/plain": [
       "LinearRegression()"
      ]
     },
     "execution_count": 165,
     "metadata": {},
     "output_type": "execute_result"
    }
   ],
   "source": [
    "# Fit the linear regression model to the data\n",
    "model.fit(\n",
    "    X=df[[\"flipper_length_mm\", \"body_mass_g\"]], \n",
    "    y=df[\"bill_depth_mm\"]\n",
    "  )"
   ]
  },
  {
   "cell_type": "markdown",
   "metadata": {},
   "source": [
    "3. **Analyze fit or call `predict`.**\n",
    "\n",
    "    Now that our model is trained, we can ask it questions. \n",
    "    \n",
    "    The code below asks the model to estimate the bill depth (in mm) for a penguin with a 185 mm flipper length."
   ]
  },
  {
   "cell_type": "code",
   "execution_count": null,
   "metadata": {},
   "outputs": [
    {
     "name": "stderr",
     "output_type": "stream",
     "text": [
      "c:\\Users\\LENOVO\\AppData\\Local\\Programs\\Python\\Python312\\Lib\\site-packages\\sklearn\\utils\\validation.py:2739: UserWarning:\n",
      "\n",
      "X does not have valid feature names, but LinearRegression was fitted with feature names\n",
      "\n"
     ]
    },
    {
     "data": {
      "text/plain": [
       "array([18.36187501])"
      ]
     },
     "execution_count": 166,
     "metadata": {},
     "output_type": "execute_result"
    }
   ],
   "source": [
    "# Generate a prediction (yhat) by providing the X values to the model.\n",
    "# The input to .predict() is a list of lists. \n",
    "# Each sub-list contains the X values for each observation.\n",
    "# That's why there are double brackets!\n",
    "model.predict([[185, 3750.0]]) "
   ]
  },
  {
   "cell_type": "markdown",
   "metadata": {},
   "source": [
    "We can also ask the model to generate a series of predictions:"
   ]
  },
  {
   "cell_type": "code",
   "execution_count": null,
   "metadata": {},
   "outputs": [
    {
     "data": {
      "text/html": [
       "<div>\n",
       "<style scoped>\n",
       "    .dataframe tbody tr th:only-of-type {\n",
       "        vertical-align: middle;\n",
       "    }\n",
       "\n",
       "    .dataframe tbody tr th {\n",
       "        vertical-align: top;\n",
       "    }\n",
       "\n",
       "    .dataframe thead th {\n",
       "        text-align: right;\n",
       "    }\n",
       "</style>\n",
       "<table border=\"1\" class=\"dataframe\">\n",
       "  <thead>\n",
       "    <tr style=\"text-align: right;\">\n",
       "      <th></th>\n",
       "      <th>bill_depth_mm</th>\n",
       "      <th>flipper_length_mm</th>\n",
       "      <th>body_mass_g</th>\n",
       "      <th>pred_bill_depth_mm</th>\n",
       "      <th>sklearn_preds</th>\n",
       "    </tr>\n",
       "  </thead>\n",
       "  <tbody>\n",
       "    <tr>\n",
       "      <th>0</th>\n",
       "      <td>18.7</td>\n",
       "      <td>181.0</td>\n",
       "      <td>3750.0</td>\n",
       "      <td>18.322561</td>\n",
       "      <td>18.322561</td>\n",
       "    </tr>\n",
       "    <tr>\n",
       "      <th>1</th>\n",
       "      <td>17.4</td>\n",
       "      <td>186.0</td>\n",
       "      <td>3800.0</td>\n",
       "      <td>18.445578</td>\n",
       "      <td>18.445578</td>\n",
       "    </tr>\n",
       "    <tr>\n",
       "      <th>2</th>\n",
       "      <td>18.0</td>\n",
       "      <td>195.0</td>\n",
       "      <td>3250.0</td>\n",
       "      <td>17.721412</td>\n",
       "      <td>17.721412</td>\n",
       "    </tr>\n",
       "    <tr>\n",
       "      <th>4</th>\n",
       "      <td>19.3</td>\n",
       "      <td>193.0</td>\n",
       "      <td>3450.0</td>\n",
       "      <td>17.997254</td>\n",
       "      <td>17.997254</td>\n",
       "    </tr>\n",
       "    <tr>\n",
       "      <th>5</th>\n",
       "      <td>20.6</td>\n",
       "      <td>190.0</td>\n",
       "      <td>3650.0</td>\n",
       "      <td>18.263268</td>\n",
       "      <td>18.263268</td>\n",
       "    </tr>\n",
       "    <tr>\n",
       "      <th>...</th>\n",
       "      <td>...</td>\n",
       "      <td>...</td>\n",
       "      <td>...</td>\n",
       "      <td>...</td>\n",
       "      <td>...</td>\n",
       "    </tr>\n",
       "    <tr>\n",
       "      <th>147</th>\n",
       "      <td>18.4</td>\n",
       "      <td>184.0</td>\n",
       "      <td>3475.0</td>\n",
       "      <td>17.945735</td>\n",
       "      <td>17.945735</td>\n",
       "    </tr>\n",
       "    <tr>\n",
       "      <th>148</th>\n",
       "      <td>17.8</td>\n",
       "      <td>195.0</td>\n",
       "      <td>3450.0</td>\n",
       "      <td>18.016911</td>\n",
       "      <td>18.016911</td>\n",
       "    </tr>\n",
       "    <tr>\n",
       "      <th>149</th>\n",
       "      <td>18.1</td>\n",
       "      <td>193.0</td>\n",
       "      <td>3750.0</td>\n",
       "      <td>18.440503</td>\n",
       "      <td>18.440503</td>\n",
       "    </tr>\n",
       "    <tr>\n",
       "      <th>150</th>\n",
       "      <td>17.1</td>\n",
       "      <td>187.0</td>\n",
       "      <td>3700.0</td>\n",
       "      <td>18.307657</td>\n",
       "      <td>18.307657</td>\n",
       "    </tr>\n",
       "    <tr>\n",
       "      <th>151</th>\n",
       "      <td>18.5</td>\n",
       "      <td>201.0</td>\n",
       "      <td>4000.0</td>\n",
       "      <td>18.888505</td>\n",
       "      <td>18.888505</td>\n",
       "    </tr>\n",
       "  </tbody>\n",
       "</table>\n",
       "<p>146 rows × 5 columns</p>\n",
       "</div>"
      ],
      "text/plain": [
       "     bill_depth_mm  flipper_length_mm  body_mass_g  pred_bill_depth_mm  \\\n",
       "0             18.7              181.0       3750.0           18.322561   \n",
       "1             17.4              186.0       3800.0           18.445578   \n",
       "2             18.0              195.0       3250.0           17.721412   \n",
       "4             19.3              193.0       3450.0           17.997254   \n",
       "5             20.6              190.0       3650.0           18.263268   \n",
       "..             ...                ...          ...                 ...   \n",
       "147           18.4              184.0       3475.0           17.945735   \n",
       "148           17.8              195.0       3450.0           18.016911   \n",
       "149           18.1              193.0       3750.0           18.440503   \n",
       "150           17.1              187.0       3700.0           18.307657   \n",
       "151           18.5              201.0       4000.0           18.888505   \n",
       "\n",
       "     sklearn_preds  \n",
       "0        18.322561  \n",
       "1        18.445578  \n",
       "2        17.721412  \n",
       "4        17.997254  \n",
       "5        18.263268  \n",
       "..             ...  \n",
       "147      17.945735  \n",
       "148      18.016911  \n",
       "149      18.440503  \n",
       "150      18.307657  \n",
       "151      18.888505  \n",
       "\n",
       "[146 rows x 5 columns]"
      ]
     },
     "execution_count": 167,
     "metadata": {},
     "output_type": "execute_result"
    }
   ],
   "source": [
    "# Can also provide a design matrix or dataframe to .predict()\n",
    "df[\"sklearn_preds\"] = model.predict(df[[\"flipper_length_mm\", \"body_mass_g\"]])\n",
    "df"
   ]
  },
  {
   "cell_type": "markdown",
   "metadata": {},
   "source": [
    "Looking at the predictions, we see that they are exactly the same as what we calculated with our analytic formula!"
   ]
  },
  {
   "cell_type": "markdown",
   "metadata": {},
   "source": [
    "**Analyze parameters.**"
   ]
  },
  {
   "cell_type": "markdown",
   "metadata": {},
   "source": [
    "We can ask the model for its intercept and slope with `_intercept` and `_coef`, respectively."
   ]
  },
  {
   "cell_type": "code",
   "execution_count": null,
   "metadata": {},
   "outputs": [
    {
     "data": {
      "text/plain": [
       "np.float64(11.00299527744707)"
      ]
     },
     "execution_count": 168,
     "metadata": {},
     "output_type": "execute_result"
    }
   ],
   "source": [
    "# There is one intercept term in the model\n",
    "model.intercept_"
   ]
  },
  {
   "cell_type": "code",
   "execution_count": null,
   "metadata": {},
   "outputs": [
    {
     "data": {
      "text/plain": [
       "array([0.00982849, 0.0014775 ])"
      ]
     },
     "execution_count": 169,
     "metadata": {},
     "output_type": "execute_result"
    }
   ],
   "source": [
    "# There are two slope terms in the model\n",
    "model.coef_"
   ]
  },
  {
   "cell_type": "markdown",
   "metadata": {},
   "source": [
    "So, our fitted model is as follows:\n",
    "\n",
    "$$ \\widehat{\\texttt{bill\\_depth\\_mm}} = 11 + 0.0098 * \\texttt{flipper\\_length\\_mm} + 0.0015 * \\texttt{body\\_mass\\_g} $$\n",
    "\n",
    "The parameters are the same as with our analytic formula."
   ]
  },
  {
   "cell_type": "code",
   "execution_count": null,
   "metadata": {},
   "outputs": [
    {
     "data": {
      "text/plain": [
       "0     0.009828\n",
       "1     0.001477\n",
       "2    11.002995\n",
       "dtype: float64"
      ]
     },
     "execution_count": 170,
     "metadata": {},
     "output_type": "execute_result"
    }
   ],
   "source": [
    "# vs. analytical solutions\n",
    "theta_using_normal_equation"
   ]
  },
  {
   "cell_type": "markdown",
   "metadata": {},
   "source": [
    "They look the same, but why are they out of order...?\n",
    "\n",
    "- Remember our order of columns used for normal equation! The bias column is last in the design matrix, so the intercept appears last in the parameter list."
   ]
  },
  {
   "cell_type": "markdown",
   "metadata": {},
   "source": [
    "### Visualize the Fit\n",
    "We can visualize this data in three dimensions, but for many (most) real-world problems this will not be possible (or helpful).\n",
    "\n",
    "Note, the following code is out of scope for this class."
   ]
  },
  {
   "cell_type": "code",
   "execution_count": null,
   "metadata": {},
   "outputs": [
    {
     "data": {
      "application/vnd.plotly.v1+json": {
       "config": {
        "plotlyServerURL": "https://plot.ly"
       },
       "data": [
        {
         "hovertemplate": "flipper_length_mm=%{x}<br>body_mass_g=%{y}<br>bill_depth_mm=%{z}<extra></extra>",
         "legendgroup": "",
         "marker": {
          "color": "#636efa",
          "symbol": "circle"
         },
         "mode": "markers",
         "name": "",
         "scene": "scene",
         "showlegend": false,
         "type": "scatter3d",
         "x": {
          "bdata": "AAAAAACgZkAAAAAAAEBnQAAAAAAAYGhAAAAAAAAgaEAAAAAAAMBnQAAAAAAAoGZAAAAAAABgaEAAAAAAAMBmQAAAAAAA4GdAAAAAAADAaEAAAAAAACBnQAAAAAAAYGhAAAAAAACgaEAAAAAAAABnQAAAAAAAQGhAAAAAAADAZUAAAAAAAIBmQAAAAAAAoGdAAAAAAAAgZ0AAAAAAAIBmQAAAAAAAYGdAAAAAAADgZkAAAAAAAGBnQAAAAAAAgGVAAAAAAACAZkAAAAAAAEBmQAAAAAAAQGZAAAAAAACAZ0AAAAAAAABnQAAAAAAAYGhAAAAAAACAaEAAAAAAAMBnQAAAAAAAgGZAAAAAAACgZkAAAAAAAABnQAAAAAAAwGZAAAAAAABgaEAAAAAAAEBnQAAAAAAAgGhAAAAAAAAgZ0AAAAAAAMBnQAAAAAAAwGZAAAAAAADAZ0AAAAAAAOBnQAAAAAAAQGdAAAAAAACAZ0AAAAAAAMBnQAAAAAAAAGlAAAAAAABgZ0AAAAAAAOBnQAAAAAAAQGdAAAAAAAAgaEAAAAAAAKBmQAAAAAAAQGhAAAAAAAAgZ0AAAAAAAGBoQAAAAAAAIGdAAAAAAAAAaEAAAAAAAABnQAAAAAAAAGhAAAAAAABgaEAAAAAAAIBnQAAAAAAAwGdAAAAAAADAaEAAAAAAAMBnQAAAAAAAwGdAAAAAAACAaEAAAAAAAKBoQAAAAAAAwGdAAAAAAABgaEAAAAAAAOBnQAAAAAAAAGdAAAAAAABgZ0AAAAAAAGBoQAAAAAAAoGdAAAAAAACAaEAAAAAAAGBnQAAAAAAAIGhAAAAAAADgZ0AAAAAAAEBoQAAAAAAAwGdAAAAAAACgZ0AAAAAAAKBnQAAAAAAAwGdAAAAAAABAaUAAAAAAAKBpQAAAAAAAIGdAAAAAAABAZ0AAAAAAAGBnQAAAAAAAAGpAAAAAAADAZ0AAAAAAAIBoQAAAAAAAQGZAAAAAAAAAaEAAAAAAAABoQAAAAAAAYGlAAAAAAADgZkAAAAAAAMBnQAAAAAAAIGhAAAAAAAAAZ0AAAAAAAOBoQAAAAAAAwGdAAAAAAACgZkAAAAAAAKBoQAAAAAAAwGhAAAAAAADgZ0AAAAAAACBoQAAAAAAAoGhAAAAAAADgZ0AAAAAAAIBoQAAAAAAAgGdAAAAAAADgaEAAAAAAAKBnQAAAAAAAoGdAAAAAAABgZ0AAAAAAAMBoQAAAAAAAAGZAAAAAAABAaUAAAAAAAEBnQAAAAAAA4GhAAAAAAADgZ0AAAAAAAGBoQAAAAAAA4GdAAAAAAABAakAAAAAAAMBnQAAAAAAAoGhAAAAAAAAgaEAAAAAAAOBoQAAAAAAAYGdAAAAAAADAZ0AAAAAAAOBnQAAAAAAAAGlAAAAAAAAgZ0AAAAAAACBoQAAAAAAAIGhAAAAAAABgZ0AAAAAAAIBnQAAAAAAAwGdAAAAAAAAAaEAAAAAAACBnQAAAAAAAwGdAAAAAAAAAZ0AAAAAAAGBoQAAAAAAAIGhAAAAAAABgZ0AAAAAAACBpQA==",
          "dtype": "f8"
         },
         "y": {
          "bdata": "AAAAAABMrUAAAAAAALCtQAAAAAAAZKlAAAAAAAD0qkAAAAAAAISsQAAAAAAAUqxAAAAAAABDskAAAAAAAACpQAAAAAAAsK1AAAAAAAAwsUAAAAAAAOisQAAAAAAA9KpAAAAAAACUsUAAAAAAAPqpQAAAAAAAaLBAAAAAAACQqkAAAAAAACCsQAAAAAAAsK1AAAAAAADcrkAAAAAAALCtQAAAAAAAsK1AAAAAAAC8q0AAAAAAAACpQAAAAAAAnKhAAAAAAADcrkAAAAAAAGSpQAAAAAAAeK5AAAAAAADIqUAAAAAAAHiuQAAAAAAA+qlAAAAAAAA2sEAAAAAAANyuQAAAAAAAvKtAAAAAAADIqUAAAAAAACqyQAAAAAAAnKhAAAAAAAB4rkAAAAAAADioQAAAAAAAMLFAAAAAAABwp0AAAAAAAPixQAAAAAAAwqpAAAAAAAD0qkAAAAAAADawQAAAAAAAWKtAAAAAAADMsEAAAAAAAPSqQAAAAAAApK9AAAAAAACopkAAAAAAAOisQAAAAAAAvKtAAAAAAACwrUAAAAAAAESmQAAAAAAATK1AAAAAAACcqEAAAAAAADCxQAAAAAAAIKxAAAAAAACkr0AAAAAAAESmQAAAAAAA3K5AAAAAAAAsqkAAAAAAAASwQAAAAAAA1KdAAAAAAABisUAAAAAAACCsQAAAAAAAeK5AAAAAAAC8q0AAAAAAADawQAAAAAAA6KxAAAAAAACasEAAAAAAAOisQAAAAAAAeK5AAAAAAAC8q0AAAAAAAECvQAAAAAAAAKlAAAAAAABcskAAAAAAALCtQAAAAAAAaLBAAAAAAAAsqkAAAAAAALyrQAAAAAAAsK1AAAAAAABYq0AAAAAAANyuQAAAAAAAIKxAAAAAAAC8q0AAAAAAAMywQAAAAAAAkKpAAAAAAABisUAAAAAAAMipQAAAAAAAzLBAAAAAAADorEAAAAAAAP6wQAAAAAAAqKZAAAAAAAAEsEAAAAAAABqtQAAAAAAAdbJAAAAAAAAGqEAAAAAAAJqwQAAAAAAA2qZAAAAAAAC8q0AAAAAAAEytQAAAAAAAeK5AAAAAAADOqEAAAAAAAKeyQAAAAAAA4q1AAAAAAAD4sUAAAAAAAACpQAAAAAAAs7BAAAAAAAB4rkAAAAAAANavQAAAAAAAqKZAAAAAAAB+rUAAAAAAACyqQAAAAAAA+qlAAAAAAACcqEAAAAAAAFirQAAAAAAA9KpAAAAAAABGrkAAAAAAANSnQAAAAAAAQK9AAAAAAACWqUAAAAAAAMywQAAAAAAA1KdAAAAAAABAr0AAAAAAAPqpQAAAAAAAWKtAAAAAAABYq0AAAAAAAHuxQAAAAAAAwqpAAAAAAAB4rkAAAAAAAM6oQAAAAAAADq9AAAAAAACQqkAAAAAAAJqwQAAAAAAAkKpAAAAAAAAmq0AAAAAAANSnQAAAAAAAGq1AAAAAAABwp0AAAAAAAISsQAAAAAAAmrBAAAAAAAAmq0AAAAAAAPSqQAAAAAAATK1AAAAAAADorEAAAAAAAECvQA==",
          "dtype": "f8"
         },
         "z": {
          "bdata": "MzMzMzOzMkBmZmZmZmYxQAAAAAAAADJAzczMzMxMM0CamZmZmZk0QM3MzMzMzDFAmpmZmZmZM0CamZmZmZkxQDMzMzMzMzVAmpmZmZkZNUDNzMzMzMwxQAAAAAAAADNAMzMzMzOzNEBmZmZmZmYyQAAAAAAAgDVAzczMzMxMMkAzMzMzM7MyQDMzMzMzMzNAmpmZmZkZMkAzMzMzMzMxQGZmZmZm5jJAmpmZmZmZMkBmZmZmZuYxQJqZmZmZmTJAZmZmZmbmMkAzMzMzM7MwQJqZmZmZGTJAzczMzMzMMUBmZmZmZuYyQAAAAAAAADFAmpmZmZkZNUAAAAAAAAA0QAAAAAAAgDJAzczMzMxMM0CamZmZmRkzQAAAAAAAADJAZmZmZmZmMkAAAAAAAIAyQDMzMzMzszNAZmZmZmbmMEDNzMzMzMwyQAAAAAAAADNAZmZmZmbmMUAzMzMzMzM1QDMzMzMzszFAZmZmZmbmMkBmZmZmZuYxQAAAAAAAgDNAmpmZmZkZMkCamZmZmZkyQAAAAAAAgDFAzczMzMzMMkCamZmZmZkwQJqZmZmZGTNAZmZmZmbmMECamZmZmRk1QAAAAAAAADFAMzMzMzMzMkCamZmZmRkxQAAAAAAAADJAMzMzMzMzMECamZmZmRkzQJqZmZmZmTBAZmZmZmZmM0AAAAAAAAAzQGZmZmZmZjJAMzMzMzMzMUBmZmZmZuYyQAAAAAAAgDFAAAAAAACAMkDNzMzMzMwwQGZmZmZmZjNAmpmZmZkZMECamZmZmRkzQDMzMzMzMzFAmpmZmZmZMUDNzMzMzMwyQGZmZmZmZjNAzczMzMzMMUDNzMzMzEw0QAAAAAAAgDNAmpmZmZmZMkAzMzMzMzMzQM3MzMzMzDJAAAAAAAAAMkCamZmZmRkyQJqZmZmZGTFAmpmZmZkZMkDNzMzMzEwxQGZmZmZm5jJAmpmZmZmZMkAAAAAAAIAyQJqZmZmZGTBAAAAAAACAMkBmZmZmZuYxQAAAAAAAADRAAAAAAAAAMEAAAAAAAAA0QJqZmZmZmTJAZmZmZmbmMkAzMzMzMzMxQAAAAAAAADRAAAAAAAAAMUAAAAAAAAAzQAAAAAAAgDBAzczMzMxMNEAzMzMzM7MxQAAAAAAAgDNAMzMzMzOzNEDNzMzMzEwyQAAAAAAAADFAAAAAAACANEAAAAAAAAAxQJqZmZmZmTJAMzMzMzMzMUDNzMzMzMwzQAAAAAAAADFAAAAAAACAMkDNzMzMzMwvQAAAAAAAADNAmpmZmZmZMUDNzMzMzEwyQJqZmZmZGTFAAAAAAAAAMkBmZmZmZuYxQDMzMzMzMzNAAAAAAACAMkAAAAAAAIAyQJqZmZmZmTFAAAAAAACAMUAAAAAAAIAxQJqZmZmZGTRAAAAAAACAMEBmZmZmZuYxQJqZmZmZGTFAMzMzMzMzMUAAAAAAAAAvQAAAAAAAADFAzczMzMzMMEAzMzMzM7MyQJqZmZmZmTJAZmZmZmZmMkDNzMzMzMwxQJqZmZmZGTJAmpmZmZkZMUAAAAAAAIAyQA==",
          "dtype": "f8"
         }
        },
        {
         "opacity": 0.9,
         "showscale": false,
         "type": "surface",
         "x": {
          "bdata": "AAAAAACAZUAAAAAAAEBqQAAAAAAAgGVAAAAAAABAakA=",
          "dtype": "f8",
          "shape": "2, 2"
         },
         "y": {
          "bdata": "AAAAAABEpkAAAAAAAESmQAAAAAAAp7JAAAAAAACnskA=",
          "dtype": "f8",
          "shape": "2, 2"
         },
         "z": {
          "bdata": "TeSNB4TnMEC/DyiUIEcxQHDacC+gvzNA4gULvDwfNEA=",
          "dtype": "f8",
          "shape": "2, 2"
         }
        }
       ],
       "layout": {
        "autosize": false,
        "height": 600,
        "legend": {
         "tracegroupgap": 0
        },
        "margin": {
         "t": 60
        },
        "scene": {
         "domain": {
          "x": [
           0,
           1
          ],
          "y": [
           0,
           1
          ]
         },
         "xaxis": {
          "title": {
           "text": "flipper_length_mm"
          }
         },
         "yaxis": {
          "title": {
           "text": "body_mass_g"
          }
         },
         "zaxis": {
          "title": {
           "text": "bill_depth_mm"
          }
         }
        },
        "template": {
         "data": {
          "bar": [
           {
            "error_x": {
             "color": "#2a3f5f"
            },
            "error_y": {
             "color": "#2a3f5f"
            },
            "marker": {
             "line": {
              "color": "#E5ECF6",
              "width": 0.5
             },
             "pattern": {
              "fillmode": "overlay",
              "size": 10,
              "solidity": 0.2
             }
            },
            "type": "bar"
           }
          ],
          "barpolar": [
           {
            "marker": {
             "line": {
              "color": "#E5ECF6",
              "width": 0.5
             },
             "pattern": {
              "fillmode": "overlay",
              "size": 10,
              "solidity": 0.2
             }
            },
            "type": "barpolar"
           }
          ],
          "carpet": [
           {
            "aaxis": {
             "endlinecolor": "#2a3f5f",
             "gridcolor": "white",
             "linecolor": "white",
             "minorgridcolor": "white",
             "startlinecolor": "#2a3f5f"
            },
            "baxis": {
             "endlinecolor": "#2a3f5f",
             "gridcolor": "white",
             "linecolor": "white",
             "minorgridcolor": "white",
             "startlinecolor": "#2a3f5f"
            },
            "type": "carpet"
           }
          ],
          "choropleth": [
           {
            "colorbar": {
             "outlinewidth": 0,
             "ticks": ""
            },
            "type": "choropleth"
           }
          ],
          "contour": [
           {
            "colorbar": {
             "outlinewidth": 0,
             "ticks": ""
            },
            "colorscale": [
             [
              0,
              "#0d0887"
             ],
             [
              0.1111111111111111,
              "#46039f"
             ],
             [
              0.2222222222222222,
              "#7201a8"
             ],
             [
              0.3333333333333333,
              "#9c179e"
             ],
             [
              0.4444444444444444,
              "#bd3786"
             ],
             [
              0.5555555555555556,
              "#d8576b"
             ],
             [
              0.6666666666666666,
              "#ed7953"
             ],
             [
              0.7777777777777778,
              "#fb9f3a"
             ],
             [
              0.8888888888888888,
              "#fdca26"
             ],
             [
              1,
              "#f0f921"
             ]
            ],
            "type": "contour"
           }
          ],
          "contourcarpet": [
           {
            "colorbar": {
             "outlinewidth": 0,
             "ticks": ""
            },
            "type": "contourcarpet"
           }
          ],
          "heatmap": [
           {
            "colorbar": {
             "outlinewidth": 0,
             "ticks": ""
            },
            "colorscale": [
             [
              0,
              "#0d0887"
             ],
             [
              0.1111111111111111,
              "#46039f"
             ],
             [
              0.2222222222222222,
              "#7201a8"
             ],
             [
              0.3333333333333333,
              "#9c179e"
             ],
             [
              0.4444444444444444,
              "#bd3786"
             ],
             [
              0.5555555555555556,
              "#d8576b"
             ],
             [
              0.6666666666666666,
              "#ed7953"
             ],
             [
              0.7777777777777778,
              "#fb9f3a"
             ],
             [
              0.8888888888888888,
              "#fdca26"
             ],
             [
              1,
              "#f0f921"
             ]
            ],
            "type": "heatmap"
           }
          ],
          "histogram": [
           {
            "marker": {
             "pattern": {
              "fillmode": "overlay",
              "size": 10,
              "solidity": 0.2
             }
            },
            "type": "histogram"
           }
          ],
          "histogram2d": [
           {
            "colorbar": {
             "outlinewidth": 0,
             "ticks": ""
            },
            "colorscale": [
             [
              0,
              "#0d0887"
             ],
             [
              0.1111111111111111,
              "#46039f"
             ],
             [
              0.2222222222222222,
              "#7201a8"
             ],
             [
              0.3333333333333333,
              "#9c179e"
             ],
             [
              0.4444444444444444,
              "#bd3786"
             ],
             [
              0.5555555555555556,
              "#d8576b"
             ],
             [
              0.6666666666666666,
              "#ed7953"
             ],
             [
              0.7777777777777778,
              "#fb9f3a"
             ],
             [
              0.8888888888888888,
              "#fdca26"
             ],
             [
              1,
              "#f0f921"
             ]
            ],
            "type": "histogram2d"
           }
          ],
          "histogram2dcontour": [
           {
            "colorbar": {
             "outlinewidth": 0,
             "ticks": ""
            },
            "colorscale": [
             [
              0,
              "#0d0887"
             ],
             [
              0.1111111111111111,
              "#46039f"
             ],
             [
              0.2222222222222222,
              "#7201a8"
             ],
             [
              0.3333333333333333,
              "#9c179e"
             ],
             [
              0.4444444444444444,
              "#bd3786"
             ],
             [
              0.5555555555555556,
              "#d8576b"
             ],
             [
              0.6666666666666666,
              "#ed7953"
             ],
             [
              0.7777777777777778,
              "#fb9f3a"
             ],
             [
              0.8888888888888888,
              "#fdca26"
             ],
             [
              1,
              "#f0f921"
             ]
            ],
            "type": "histogram2dcontour"
           }
          ],
          "mesh3d": [
           {
            "colorbar": {
             "outlinewidth": 0,
             "ticks": ""
            },
            "type": "mesh3d"
           }
          ],
          "parcoords": [
           {
            "line": {
             "colorbar": {
              "outlinewidth": 0,
              "ticks": ""
             }
            },
            "type": "parcoords"
           }
          ],
          "pie": [
           {
            "automargin": true,
            "type": "pie"
           }
          ],
          "scatter": [
           {
            "fillpattern": {
             "fillmode": "overlay",
             "size": 10,
             "solidity": 0.2
            },
            "type": "scatter"
           }
          ],
          "scatter3d": [
           {
            "line": {
             "colorbar": {
              "outlinewidth": 0,
              "ticks": ""
             }
            },
            "marker": {
             "colorbar": {
              "outlinewidth": 0,
              "ticks": ""
             }
            },
            "type": "scatter3d"
           }
          ],
          "scattercarpet": [
           {
            "marker": {
             "colorbar": {
              "outlinewidth": 0,
              "ticks": ""
             }
            },
            "type": "scattercarpet"
           }
          ],
          "scattergeo": [
           {
            "marker": {
             "colorbar": {
              "outlinewidth": 0,
              "ticks": ""
             }
            },
            "type": "scattergeo"
           }
          ],
          "scattergl": [
           {
            "marker": {
             "colorbar": {
              "outlinewidth": 0,
              "ticks": ""
             }
            },
            "type": "scattergl"
           }
          ],
          "scattermap": [
           {
            "marker": {
             "colorbar": {
              "outlinewidth": 0,
              "ticks": ""
             }
            },
            "type": "scattermap"
           }
          ],
          "scattermapbox": [
           {
            "marker": {
             "colorbar": {
              "outlinewidth": 0,
              "ticks": ""
             }
            },
            "type": "scattermapbox"
           }
          ],
          "scatterpolar": [
           {
            "marker": {
             "colorbar": {
              "outlinewidth": 0,
              "ticks": ""
             }
            },
            "type": "scatterpolar"
           }
          ],
          "scatterpolargl": [
           {
            "marker": {
             "colorbar": {
              "outlinewidth": 0,
              "ticks": ""
             }
            },
            "type": "scatterpolargl"
           }
          ],
          "scatterternary": [
           {
            "marker": {
             "colorbar": {
              "outlinewidth": 0,
              "ticks": ""
             }
            },
            "type": "scatterternary"
           }
          ],
          "surface": [
           {
            "colorbar": {
             "outlinewidth": 0,
             "ticks": ""
            },
            "colorscale": [
             [
              0,
              "#0d0887"
             ],
             [
              0.1111111111111111,
              "#46039f"
             ],
             [
              0.2222222222222222,
              "#7201a8"
             ],
             [
              0.3333333333333333,
              "#9c179e"
             ],
             [
              0.4444444444444444,
              "#bd3786"
             ],
             [
              0.5555555555555556,
              "#d8576b"
             ],
             [
              0.6666666666666666,
              "#ed7953"
             ],
             [
              0.7777777777777778,
              "#fb9f3a"
             ],
             [
              0.8888888888888888,
              "#fdca26"
             ],
             [
              1,
              "#f0f921"
             ]
            ],
            "type": "surface"
           }
          ],
          "table": [
           {
            "cells": {
             "fill": {
              "color": "#EBF0F8"
             },
             "line": {
              "color": "white"
             }
            },
            "header": {
             "fill": {
              "color": "#C8D4E3"
             },
             "line": {
              "color": "white"
             }
            },
            "type": "table"
           }
          ]
         },
         "layout": {
          "annotationdefaults": {
           "arrowcolor": "#2a3f5f",
           "arrowhead": 0,
           "arrowwidth": 1
          },
          "autotypenumbers": "strict",
          "coloraxis": {
           "colorbar": {
            "outlinewidth": 0,
            "ticks": ""
           }
          },
          "colorscale": {
           "diverging": [
            [
             0,
             "#8e0152"
            ],
            [
             0.1,
             "#c51b7d"
            ],
            [
             0.2,
             "#de77ae"
            ],
            [
             0.3,
             "#f1b6da"
            ],
            [
             0.4,
             "#fde0ef"
            ],
            [
             0.5,
             "#f7f7f7"
            ],
            [
             0.6,
             "#e6f5d0"
            ],
            [
             0.7,
             "#b8e186"
            ],
            [
             0.8,
             "#7fbc41"
            ],
            [
             0.9,
             "#4d9221"
            ],
            [
             1,
             "#276419"
            ]
           ],
           "sequential": [
            [
             0,
             "#0d0887"
            ],
            [
             0.1111111111111111,
             "#46039f"
            ],
            [
             0.2222222222222222,
             "#7201a8"
            ],
            [
             0.3333333333333333,
             "#9c179e"
            ],
            [
             0.4444444444444444,
             "#bd3786"
            ],
            [
             0.5555555555555556,
             "#d8576b"
            ],
            [
             0.6666666666666666,
             "#ed7953"
            ],
            [
             0.7777777777777778,
             "#fb9f3a"
            ],
            [
             0.8888888888888888,
             "#fdca26"
            ],
            [
             1,
             "#f0f921"
            ]
           ],
           "sequentialminus": [
            [
             0,
             "#0d0887"
            ],
            [
             0.1111111111111111,
             "#46039f"
            ],
            [
             0.2222222222222222,
             "#7201a8"
            ],
            [
             0.3333333333333333,
             "#9c179e"
            ],
            [
             0.4444444444444444,
             "#bd3786"
            ],
            [
             0.5555555555555556,
             "#d8576b"
            ],
            [
             0.6666666666666666,
             "#ed7953"
            ],
            [
             0.7777777777777778,
             "#fb9f3a"
            ],
            [
             0.8888888888888888,
             "#fdca26"
            ],
            [
             1,
             "#f0f921"
            ]
           ]
          },
          "colorway": [
           "#636efa",
           "#EF553B",
           "#00cc96",
           "#ab63fa",
           "#FFA15A",
           "#19d3f3",
           "#FF6692",
           "#B6E880",
           "#FF97FF",
           "#FECB52"
          ],
          "font": {
           "color": "#2a3f5f"
          },
          "geo": {
           "bgcolor": "white",
           "lakecolor": "white",
           "landcolor": "#E5ECF6",
           "showlakes": true,
           "showland": true,
           "subunitcolor": "white"
          },
          "hoverlabel": {
           "align": "left"
          },
          "hovermode": "closest",
          "mapbox": {
           "style": "light"
          },
          "paper_bgcolor": "white",
          "plot_bgcolor": "#E5ECF6",
          "polar": {
           "angularaxis": {
            "gridcolor": "white",
            "linecolor": "white",
            "ticks": ""
           },
           "bgcolor": "#E5ECF6",
           "radialaxis": {
            "gridcolor": "white",
            "linecolor": "white",
            "ticks": ""
           }
          },
          "scene": {
           "xaxis": {
            "backgroundcolor": "#E5ECF6",
            "gridcolor": "white",
            "gridwidth": 2,
            "linecolor": "white",
            "showbackground": true,
            "ticks": "",
            "zerolinecolor": "white"
           },
           "yaxis": {
            "backgroundcolor": "#E5ECF6",
            "gridcolor": "white",
            "gridwidth": 2,
            "linecolor": "white",
            "showbackground": true,
            "ticks": "",
            "zerolinecolor": "white"
           },
           "zaxis": {
            "backgroundcolor": "#E5ECF6",
            "gridcolor": "white",
            "gridwidth": 2,
            "linecolor": "white",
            "showbackground": true,
            "ticks": "",
            "zerolinecolor": "white"
           }
          },
          "shapedefaults": {
           "line": {
            "color": "#2a3f5f"
           }
          },
          "ternary": {
           "aaxis": {
            "gridcolor": "white",
            "linecolor": "white",
            "ticks": ""
           },
           "baxis": {
            "gridcolor": "white",
            "linecolor": "white",
            "ticks": ""
           },
           "bgcolor": "#E5ECF6",
           "caxis": {
            "gridcolor": "white",
            "linecolor": "white",
            "ticks": ""
           }
          },
          "title": {
           "x": 0.05
          },
          "xaxis": {
           "automargin": true,
           "gridcolor": "white",
           "linecolor": "white",
           "ticks": "",
           "title": {
            "standoff": 15
           },
           "zerolinecolor": "white",
           "zerolinewidth": 2
          },
          "yaxis": {
           "automargin": true,
           "gridcolor": "white",
           "linecolor": "white",
           "ticks": "",
           "title": {
            "standoff": 15
           },
           "zerolinecolor": "white",
           "zerolinewidth": 2
          }
         }
        },
        "width": 800
       }
      }
     },
     "metadata": {},
     "output_type": "display_data"
    }
   ],
   "source": [
    "fig = px.scatter_3d(df, x=\"flipper_length_mm\", y=\"body_mass_g\", z=\"bill_depth_mm\")\n",
    "\n",
    "# Create a grid of points to evaluate plane\n",
    "grid_resolution = 2\n",
    "(u,v) = np.meshgrid(\n",
    "    np.linspace(df[\"flipper_length_mm\"].min(), df[\"flipper_length_mm\"].max(), grid_resolution),\n",
    "    np.linspace(df[\"body_mass_g\"].min(), df[\"body_mass_g\"].max(), grid_resolution))\n",
    "features = pd.DataFrame({\"flipper_length_mm\": u.flatten(),\n",
    "                         \"body_mass_g\": v.flatten()})\n",
    "# Make predictions at every point on the grid\n",
    "zs = model.predict(features)\n",
    "\n",
    "# create the Surface\n",
    "fig.add_trace(go.Surface(x=u, y=v, z= zs.reshape(u.shape), opacity=0.9, showscale=False))\n",
    "fig.update_layout(autosize=False, width=800, height=600)"
   ]
  },
  {
   "cell_type": "markdown",
   "metadata": {},
   "source": [
    "We see that the predictions all lie in a plane. In higher dimensions, the predictions all lie in a \"hyperplane\". "
   ]
  },
  {
   "cell_type": "markdown",
   "metadata": {},
   "source": [
    "**Analyze performance.**\n",
    "\n",
    "The `sklearn` package also provides a function `mean_squared_error()` ([documentation](https://scikit-learn.org/stable/modules/generated/sklearn.metrics.mean_squared_error.html)) that computes the MSE from a list of observations and predictions. This avoids us having to manually compute MSE by first computing residuals.\n",
    "\n"
   ]
  },
  {
   "cell_type": "code",
   "execution_count": null,
   "metadata": {},
   "outputs": [
    {
     "data": {
      "text/plain": [
       "0.9764070438843997"
      ]
     },
     "execution_count": 172,
     "metadata": {},
     "output_type": "execute_result"
    }
   ],
   "source": [
    "# Calculate the MSE for a prediction vector and a ground truth outcome vector\n",
    "from sklearn.metrics import mean_squared_error\n",
    "mean_squared_error(df[\"bill_depth_mm\"], df[\"sklearn_preds\"])"
   ]
  },
  {
   "cell_type": "markdown",
   "metadata": {},
   "source": [
    "<br><br>\n",
    "\n",
    "**Instructor Note: Return to Lecture!**"
   ]
  },
  {
   "cell_type": "markdown",
   "metadata": {},
   "source": [
    "<br><br>\n",
    "\n",
    "## Bonus Demo\n",
    "\n",
    "Later in the semester we will learn about other models. However, you already know enough to start using other techniques:"
   ]
  },
  {
   "cell_type": "code",
   "execution_count": null,
   "metadata": {},
   "outputs": [
    {
     "data": {
      "text/html": [
       "<style>#sk-container-id-11 {\n",
       "  /* Definition of color scheme common for light and dark mode */\n",
       "  --sklearn-color-text: #000;\n",
       "  --sklearn-color-text-muted: #666;\n",
       "  --sklearn-color-line: gray;\n",
       "  /* Definition of color scheme for unfitted estimators */\n",
       "  --sklearn-color-unfitted-level-0: #fff5e6;\n",
       "  --sklearn-color-unfitted-level-1: #f6e4d2;\n",
       "  --sklearn-color-unfitted-level-2: #ffe0b3;\n",
       "  --sklearn-color-unfitted-level-3: chocolate;\n",
       "  /* Definition of color scheme for fitted estimators */\n",
       "  --sklearn-color-fitted-level-0: #f0f8ff;\n",
       "  --sklearn-color-fitted-level-1: #d4ebff;\n",
       "  --sklearn-color-fitted-level-2: #b3dbfd;\n",
       "  --sklearn-color-fitted-level-3: cornflowerblue;\n",
       "\n",
       "  /* Specific color for light theme */\n",
       "  --sklearn-color-text-on-default-background: var(--sg-text-color, var(--theme-code-foreground, var(--jp-content-font-color1, black)));\n",
       "  --sklearn-color-background: var(--sg-background-color, var(--theme-background, var(--jp-layout-color0, white)));\n",
       "  --sklearn-color-border-box: var(--sg-text-color, var(--theme-code-foreground, var(--jp-content-font-color1, black)));\n",
       "  --sklearn-color-icon: #696969;\n",
       "\n",
       "  @media (prefers-color-scheme: dark) {\n",
       "    /* Redefinition of color scheme for dark theme */\n",
       "    --sklearn-color-text-on-default-background: var(--sg-text-color, var(--theme-code-foreground, var(--jp-content-font-color1, white)));\n",
       "    --sklearn-color-background: var(--sg-background-color, var(--theme-background, var(--jp-layout-color0, #111)));\n",
       "    --sklearn-color-border-box: var(--sg-text-color, var(--theme-code-foreground, var(--jp-content-font-color1, white)));\n",
       "    --sklearn-color-icon: #878787;\n",
       "  }\n",
       "}\n",
       "\n",
       "#sk-container-id-11 {\n",
       "  color: var(--sklearn-color-text);\n",
       "}\n",
       "\n",
       "#sk-container-id-11 pre {\n",
       "  padding: 0;\n",
       "}\n",
       "\n",
       "#sk-container-id-11 input.sk-hidden--visually {\n",
       "  border: 0;\n",
       "  clip: rect(1px 1px 1px 1px);\n",
       "  clip: rect(1px, 1px, 1px, 1px);\n",
       "  height: 1px;\n",
       "  margin: -1px;\n",
       "  overflow: hidden;\n",
       "  padding: 0;\n",
       "  position: absolute;\n",
       "  width: 1px;\n",
       "}\n",
       "\n",
       "#sk-container-id-11 div.sk-dashed-wrapped {\n",
       "  border: 1px dashed var(--sklearn-color-line);\n",
       "  margin: 0 0.4em 0.5em 0.4em;\n",
       "  box-sizing: border-box;\n",
       "  padding-bottom: 0.4em;\n",
       "  background-color: var(--sklearn-color-background);\n",
       "}\n",
       "\n",
       "#sk-container-id-11 div.sk-container {\n",
       "  /* jupyter's `normalize.less` sets `[hidden] { display: none; }`\n",
       "     but bootstrap.min.css set `[hidden] { display: none !important; }`\n",
       "     so we also need the `!important` here to be able to override the\n",
       "     default hidden behavior on the sphinx rendered scikit-learn.org.\n",
       "     See: https://github.com/scikit-learn/scikit-learn/issues/21755 */\n",
       "  display: inline-block !important;\n",
       "  position: relative;\n",
       "}\n",
       "\n",
       "#sk-container-id-11 div.sk-text-repr-fallback {\n",
       "  display: none;\n",
       "}\n",
       "\n",
       "div.sk-parallel-item,\n",
       "div.sk-serial,\n",
       "div.sk-item {\n",
       "  /* draw centered vertical line to link estimators */\n",
       "  background-image: linear-gradient(var(--sklearn-color-text-on-default-background), var(--sklearn-color-text-on-default-background));\n",
       "  background-size: 2px 100%;\n",
       "  background-repeat: no-repeat;\n",
       "  background-position: center center;\n",
       "}\n",
       "\n",
       "/* Parallel-specific style estimator block */\n",
       "\n",
       "#sk-container-id-11 div.sk-parallel-item::after {\n",
       "  content: \"\";\n",
       "  width: 100%;\n",
       "  border-bottom: 2px solid var(--sklearn-color-text-on-default-background);\n",
       "  flex-grow: 1;\n",
       "}\n",
       "\n",
       "#sk-container-id-11 div.sk-parallel {\n",
       "  display: flex;\n",
       "  align-items: stretch;\n",
       "  justify-content: center;\n",
       "  background-color: var(--sklearn-color-background);\n",
       "  position: relative;\n",
       "}\n",
       "\n",
       "#sk-container-id-11 div.sk-parallel-item {\n",
       "  display: flex;\n",
       "  flex-direction: column;\n",
       "}\n",
       "\n",
       "#sk-container-id-11 div.sk-parallel-item:first-child::after {\n",
       "  align-self: flex-end;\n",
       "  width: 50%;\n",
       "}\n",
       "\n",
       "#sk-container-id-11 div.sk-parallel-item:last-child::after {\n",
       "  align-self: flex-start;\n",
       "  width: 50%;\n",
       "}\n",
       "\n",
       "#sk-container-id-11 div.sk-parallel-item:only-child::after {\n",
       "  width: 0;\n",
       "}\n",
       "\n",
       "/* Serial-specific style estimator block */\n",
       "\n",
       "#sk-container-id-11 div.sk-serial {\n",
       "  display: flex;\n",
       "  flex-direction: column;\n",
       "  align-items: center;\n",
       "  background-color: var(--sklearn-color-background);\n",
       "  padding-right: 1em;\n",
       "  padding-left: 1em;\n",
       "}\n",
       "\n",
       "\n",
       "/* Toggleable style: style used for estimator/Pipeline/ColumnTransformer box that is\n",
       "clickable and can be expanded/collapsed.\n",
       "- Pipeline and ColumnTransformer use this feature and define the default style\n",
       "- Estimators will overwrite some part of the style using the `sk-estimator` class\n",
       "*/\n",
       "\n",
       "/* Pipeline and ColumnTransformer style (default) */\n",
       "\n",
       "#sk-container-id-11 div.sk-toggleable {\n",
       "  /* Default theme specific background. It is overwritten whether we have a\n",
       "  specific estimator or a Pipeline/ColumnTransformer */\n",
       "  background-color: var(--sklearn-color-background);\n",
       "}\n",
       "\n",
       "/* Toggleable label */\n",
       "#sk-container-id-11 label.sk-toggleable__label {\n",
       "  cursor: pointer;\n",
       "  display: flex;\n",
       "  width: 100%;\n",
       "  margin-bottom: 0;\n",
       "  padding: 0.5em;\n",
       "  box-sizing: border-box;\n",
       "  text-align: center;\n",
       "  align-items: start;\n",
       "  justify-content: space-between;\n",
       "  gap: 0.5em;\n",
       "}\n",
       "\n",
       "#sk-container-id-11 label.sk-toggleable__label .caption {\n",
       "  font-size: 0.6rem;\n",
       "  font-weight: lighter;\n",
       "  color: var(--sklearn-color-text-muted);\n",
       "}\n",
       "\n",
       "#sk-container-id-11 label.sk-toggleable__label-arrow:before {\n",
       "  /* Arrow on the left of the label */\n",
       "  content: \"▸\";\n",
       "  float: left;\n",
       "  margin-right: 0.25em;\n",
       "  color: var(--sklearn-color-icon);\n",
       "}\n",
       "\n",
       "#sk-container-id-11 label.sk-toggleable__label-arrow:hover:before {\n",
       "  color: var(--sklearn-color-text);\n",
       "}\n",
       "\n",
       "/* Toggleable content - dropdown */\n",
       "\n",
       "#sk-container-id-11 div.sk-toggleable__content {\n",
       "  max-height: 0;\n",
       "  max-width: 0;\n",
       "  overflow: hidden;\n",
       "  text-align: left;\n",
       "  /* unfitted */\n",
       "  background-color: var(--sklearn-color-unfitted-level-0);\n",
       "}\n",
       "\n",
       "#sk-container-id-11 div.sk-toggleable__content.fitted {\n",
       "  /* fitted */\n",
       "  background-color: var(--sklearn-color-fitted-level-0);\n",
       "}\n",
       "\n",
       "#sk-container-id-11 div.sk-toggleable__content pre {\n",
       "  margin: 0.2em;\n",
       "  border-radius: 0.25em;\n",
       "  color: var(--sklearn-color-text);\n",
       "  /* unfitted */\n",
       "  background-color: var(--sklearn-color-unfitted-level-0);\n",
       "}\n",
       "\n",
       "#sk-container-id-11 div.sk-toggleable__content.fitted pre {\n",
       "  /* unfitted */\n",
       "  background-color: var(--sklearn-color-fitted-level-0);\n",
       "}\n",
       "\n",
       "#sk-container-id-11 input.sk-toggleable__control:checked~div.sk-toggleable__content {\n",
       "  /* Expand drop-down */\n",
       "  max-height: 200px;\n",
       "  max-width: 100%;\n",
       "  overflow: auto;\n",
       "}\n",
       "\n",
       "#sk-container-id-11 input.sk-toggleable__control:checked~label.sk-toggleable__label-arrow:before {\n",
       "  content: \"▾\";\n",
       "}\n",
       "\n",
       "/* Pipeline/ColumnTransformer-specific style */\n",
       "\n",
       "#sk-container-id-11 div.sk-label input.sk-toggleable__control:checked~label.sk-toggleable__label {\n",
       "  color: var(--sklearn-color-text);\n",
       "  background-color: var(--sklearn-color-unfitted-level-2);\n",
       "}\n",
       "\n",
       "#sk-container-id-11 div.sk-label.fitted input.sk-toggleable__control:checked~label.sk-toggleable__label {\n",
       "  background-color: var(--sklearn-color-fitted-level-2);\n",
       "}\n",
       "\n",
       "/* Estimator-specific style */\n",
       "\n",
       "/* Colorize estimator box */\n",
       "#sk-container-id-11 div.sk-estimator input.sk-toggleable__control:checked~label.sk-toggleable__label {\n",
       "  /* unfitted */\n",
       "  background-color: var(--sklearn-color-unfitted-level-2);\n",
       "}\n",
       "\n",
       "#sk-container-id-11 div.sk-estimator.fitted input.sk-toggleable__control:checked~label.sk-toggleable__label {\n",
       "  /* fitted */\n",
       "  background-color: var(--sklearn-color-fitted-level-2);\n",
       "}\n",
       "\n",
       "#sk-container-id-11 div.sk-label label.sk-toggleable__label,\n",
       "#sk-container-id-11 div.sk-label label {\n",
       "  /* The background is the default theme color */\n",
       "  color: var(--sklearn-color-text-on-default-background);\n",
       "}\n",
       "\n",
       "/* On hover, darken the color of the background */\n",
       "#sk-container-id-11 div.sk-label:hover label.sk-toggleable__label {\n",
       "  color: var(--sklearn-color-text);\n",
       "  background-color: var(--sklearn-color-unfitted-level-2);\n",
       "}\n",
       "\n",
       "/* Label box, darken color on hover, fitted */\n",
       "#sk-container-id-11 div.sk-label.fitted:hover label.sk-toggleable__label.fitted {\n",
       "  color: var(--sklearn-color-text);\n",
       "  background-color: var(--sklearn-color-fitted-level-2);\n",
       "}\n",
       "\n",
       "/* Estimator label */\n",
       "\n",
       "#sk-container-id-11 div.sk-label label {\n",
       "  font-family: monospace;\n",
       "  font-weight: bold;\n",
       "  display: inline-block;\n",
       "  line-height: 1.2em;\n",
       "}\n",
       "\n",
       "#sk-container-id-11 div.sk-label-container {\n",
       "  text-align: center;\n",
       "}\n",
       "\n",
       "/* Estimator-specific */\n",
       "#sk-container-id-11 div.sk-estimator {\n",
       "  font-family: monospace;\n",
       "  border: 1px dotted var(--sklearn-color-border-box);\n",
       "  border-radius: 0.25em;\n",
       "  box-sizing: border-box;\n",
       "  margin-bottom: 0.5em;\n",
       "  /* unfitted */\n",
       "  background-color: var(--sklearn-color-unfitted-level-0);\n",
       "}\n",
       "\n",
       "#sk-container-id-11 div.sk-estimator.fitted {\n",
       "  /* fitted */\n",
       "  background-color: var(--sklearn-color-fitted-level-0);\n",
       "}\n",
       "\n",
       "/* on hover */\n",
       "#sk-container-id-11 div.sk-estimator:hover {\n",
       "  /* unfitted */\n",
       "  background-color: var(--sklearn-color-unfitted-level-2);\n",
       "}\n",
       "\n",
       "#sk-container-id-11 div.sk-estimator.fitted:hover {\n",
       "  /* fitted */\n",
       "  background-color: var(--sklearn-color-fitted-level-2);\n",
       "}\n",
       "\n",
       "/* Specification for estimator info (e.g. \"i\" and \"?\") */\n",
       "\n",
       "/* Common style for \"i\" and \"?\" */\n",
       "\n",
       ".sk-estimator-doc-link,\n",
       "a:link.sk-estimator-doc-link,\n",
       "a:visited.sk-estimator-doc-link {\n",
       "  float: right;\n",
       "  font-size: smaller;\n",
       "  line-height: 1em;\n",
       "  font-family: monospace;\n",
       "  background-color: var(--sklearn-color-background);\n",
       "  border-radius: 1em;\n",
       "  height: 1em;\n",
       "  width: 1em;\n",
       "  text-decoration: none !important;\n",
       "  margin-left: 0.5em;\n",
       "  text-align: center;\n",
       "  /* unfitted */\n",
       "  border: var(--sklearn-color-unfitted-level-1) 1pt solid;\n",
       "  color: var(--sklearn-color-unfitted-level-1);\n",
       "}\n",
       "\n",
       ".sk-estimator-doc-link.fitted,\n",
       "a:link.sk-estimator-doc-link.fitted,\n",
       "a:visited.sk-estimator-doc-link.fitted {\n",
       "  /* fitted */\n",
       "  border: var(--sklearn-color-fitted-level-1) 1pt solid;\n",
       "  color: var(--sklearn-color-fitted-level-1);\n",
       "}\n",
       "\n",
       "/* On hover */\n",
       "div.sk-estimator:hover .sk-estimator-doc-link:hover,\n",
       ".sk-estimator-doc-link:hover,\n",
       "div.sk-label-container:hover .sk-estimator-doc-link:hover,\n",
       ".sk-estimator-doc-link:hover {\n",
       "  /* unfitted */\n",
       "  background-color: var(--sklearn-color-unfitted-level-3);\n",
       "  color: var(--sklearn-color-background);\n",
       "  text-decoration: none;\n",
       "}\n",
       "\n",
       "div.sk-estimator.fitted:hover .sk-estimator-doc-link.fitted:hover,\n",
       ".sk-estimator-doc-link.fitted:hover,\n",
       "div.sk-label-container:hover .sk-estimator-doc-link.fitted:hover,\n",
       ".sk-estimator-doc-link.fitted:hover {\n",
       "  /* fitted */\n",
       "  background-color: var(--sklearn-color-fitted-level-3);\n",
       "  color: var(--sklearn-color-background);\n",
       "  text-decoration: none;\n",
       "}\n",
       "\n",
       "/* Span, style for the box shown on hovering the info icon */\n",
       ".sk-estimator-doc-link span {\n",
       "  display: none;\n",
       "  z-index: 9999;\n",
       "  position: relative;\n",
       "  font-weight: normal;\n",
       "  right: .2ex;\n",
       "  padding: .5ex;\n",
       "  margin: .5ex;\n",
       "  width: min-content;\n",
       "  min-width: 20ex;\n",
       "  max-width: 50ex;\n",
       "  color: var(--sklearn-color-text);\n",
       "  box-shadow: 2pt 2pt 4pt #999;\n",
       "  /* unfitted */\n",
       "  background: var(--sklearn-color-unfitted-level-0);\n",
       "  border: .5pt solid var(--sklearn-color-unfitted-level-3);\n",
       "}\n",
       "\n",
       ".sk-estimator-doc-link.fitted span {\n",
       "  /* fitted */\n",
       "  background: var(--sklearn-color-fitted-level-0);\n",
       "  border: var(--sklearn-color-fitted-level-3);\n",
       "}\n",
       "\n",
       ".sk-estimator-doc-link:hover span {\n",
       "  display: block;\n",
       "}\n",
       "\n",
       "/* \"?\"-specific style due to the `<a>` HTML tag */\n",
       "\n",
       "#sk-container-id-11 a.estimator_doc_link {\n",
       "  float: right;\n",
       "  font-size: 1rem;\n",
       "  line-height: 1em;\n",
       "  font-family: monospace;\n",
       "  background-color: var(--sklearn-color-background);\n",
       "  border-radius: 1rem;\n",
       "  height: 1rem;\n",
       "  width: 1rem;\n",
       "  text-decoration: none;\n",
       "  /* unfitted */\n",
       "  color: var(--sklearn-color-unfitted-level-1);\n",
       "  border: var(--sklearn-color-unfitted-level-1) 1pt solid;\n",
       "}\n",
       "\n",
       "#sk-container-id-11 a.estimator_doc_link.fitted {\n",
       "  /* fitted */\n",
       "  border: var(--sklearn-color-fitted-level-1) 1pt solid;\n",
       "  color: var(--sklearn-color-fitted-level-1);\n",
       "}\n",
       "\n",
       "/* On hover */\n",
       "#sk-container-id-11 a.estimator_doc_link:hover {\n",
       "  /* unfitted */\n",
       "  background-color: var(--sklearn-color-unfitted-level-3);\n",
       "  color: var(--sklearn-color-background);\n",
       "  text-decoration: none;\n",
       "}\n",
       "\n",
       "#sk-container-id-11 a.estimator_doc_link.fitted:hover {\n",
       "  /* fitted */\n",
       "  background-color: var(--sklearn-color-fitted-level-3);\n",
       "}\n",
       "</style><div id=\"sk-container-id-11\" class=\"sk-top-container\"><div class=\"sk-text-repr-fallback\"><pre>DecisionTreeRegressor()</pre><b>In a Jupyter environment, please rerun this cell to show the HTML representation or trust the notebook. <br />On GitHub, the HTML representation is unable to render, please try loading this page with nbviewer.org.</b></div><div class=\"sk-container\" hidden><div class=\"sk-item\"><div class=\"sk-estimator fitted sk-toggleable\"><input class=\"sk-toggleable__control sk-hidden--visually\" id=\"sk-estimator-id-11\" type=\"checkbox\" checked><label for=\"sk-estimator-id-11\" class=\"sk-toggleable__label fitted sk-toggleable__label-arrow\"><div><div>DecisionTreeRegressor</div></div><div><a class=\"sk-estimator-doc-link fitted\" rel=\"noreferrer\" target=\"_blank\" href=\"https://scikit-learn.org/1.6/modules/generated/sklearn.tree.DecisionTreeRegressor.html\">?<span>Documentation for DecisionTreeRegressor</span></a><span class=\"sk-estimator-doc-link fitted\">i<span>Fitted</span></span></div></label><div class=\"sk-toggleable__content fitted\"><pre>DecisionTreeRegressor()</pre></div> </div></div></div></div>"
      ],
      "text/plain": [
       "DecisionTreeRegressor()"
      ]
     },
     "execution_count": 173,
     "metadata": {},
     "output_type": "execute_result"
    }
   ],
   "source": [
    "# The sklearn approach is flexible to different model types, like trees! \n",
    "from sklearn.tree import DecisionTreeRegressor\n",
    "\n",
    "tree_model = DecisionTreeRegressor()\n",
    "\n",
    "tree_model.fit(\n",
    "    X=df[[\"flipper_length_mm\", \"body_mass_g\"]], \n",
    "    y=df[\"bill_depth_mm\"])"
   ]
  },
  {
   "cell_type": "code",
   "execution_count": null,
   "metadata": {},
   "outputs": [],
   "source": [
    "df[\"sklearn_dt_preds\"] = tree_model.predict(df[[\"flipper_length_mm\", \"body_mass_g\"]])"
   ]
  },
  {
   "cell_type": "code",
   "execution_count": null,
   "metadata": {},
   "outputs": [
    {
     "data": {
      "text/plain": [
       "0.051107305936073065"
      ]
     },
     "execution_count": 175,
     "metadata": {},
     "output_type": "execute_result"
    }
   ],
   "source": [
    "mean_squared_error(df[\"bill_depth_mm\"], df[\"sklearn_dt_preds\"])"
   ]
  },
  {
   "cell_type": "markdown",
   "metadata": {},
   "source": [
    "Lower error! A better model? Let's visualize it."
   ]
  },
  {
   "cell_type": "code",
   "execution_count": null,
   "metadata": {},
   "outputs": [
    {
     "data": {
      "application/vnd.plotly.v1+json": {
       "config": {
        "plotlyServerURL": "https://plot.ly"
       },
       "data": [
        {
         "hovertemplate": "flipper_length_mm=%{x}<br>body_mass_g=%{y}<br>bill_depth_mm=%{z}<extra></extra>",
         "legendgroup": "",
         "marker": {
          "color": "#636efa",
          "symbol": "circle"
         },
         "mode": "markers",
         "name": "",
         "scene": "scene",
         "showlegend": false,
         "type": "scatter3d",
         "x": {
          "bdata": "AAAAAACgZkAAAAAAAEBnQAAAAAAAYGhAAAAAAAAgaEAAAAAAAMBnQAAAAAAAoGZAAAAAAABgaEAAAAAAAMBmQAAAAAAA4GdAAAAAAADAaEAAAAAAACBnQAAAAAAAYGhAAAAAAACgaEAAAAAAAABnQAAAAAAAQGhAAAAAAADAZUAAAAAAAIBmQAAAAAAAoGdAAAAAAAAgZ0AAAAAAAIBmQAAAAAAAYGdAAAAAAADgZkAAAAAAAGBnQAAAAAAAgGVAAAAAAACAZkAAAAAAAEBmQAAAAAAAQGZAAAAAAACAZ0AAAAAAAABnQAAAAAAAYGhAAAAAAACAaEAAAAAAAMBnQAAAAAAAgGZAAAAAAACgZkAAAAAAAABnQAAAAAAAwGZAAAAAAABgaEAAAAAAAEBnQAAAAAAAgGhAAAAAAAAgZ0AAAAAAAMBnQAAAAAAAwGZAAAAAAADAZ0AAAAAAAOBnQAAAAAAAQGdAAAAAAACAZ0AAAAAAAMBnQAAAAAAAAGlAAAAAAABgZ0AAAAAAAOBnQAAAAAAAQGdAAAAAAAAgaEAAAAAAAKBmQAAAAAAAQGhAAAAAAAAgZ0AAAAAAAGBoQAAAAAAAIGdAAAAAAAAAaEAAAAAAAABnQAAAAAAAAGhAAAAAAABgaEAAAAAAAIBnQAAAAAAAwGdAAAAAAADAaEAAAAAAAMBnQAAAAAAAwGdAAAAAAACAaEAAAAAAAKBoQAAAAAAAwGdAAAAAAABgaEAAAAAAAOBnQAAAAAAAAGdAAAAAAABgZ0AAAAAAAGBoQAAAAAAAoGdAAAAAAACAaEAAAAAAAGBnQAAAAAAAIGhAAAAAAADgZ0AAAAAAAEBoQAAAAAAAwGdAAAAAAACgZ0AAAAAAAKBnQAAAAAAAwGdAAAAAAABAaUAAAAAAAKBpQAAAAAAAIGdAAAAAAABAZ0AAAAAAAGBnQAAAAAAAAGpAAAAAAADAZ0AAAAAAAIBoQAAAAAAAQGZAAAAAAAAAaEAAAAAAAABoQAAAAAAAYGlAAAAAAADgZkAAAAAAAMBnQAAAAAAAIGhAAAAAAAAAZ0AAAAAAAOBoQAAAAAAAwGdAAAAAAACgZkAAAAAAAKBoQAAAAAAAwGhAAAAAAADgZ0AAAAAAACBoQAAAAAAAoGhAAAAAAADgZ0AAAAAAAIBoQAAAAAAAgGdAAAAAAADgaEAAAAAAAKBnQAAAAAAAoGdAAAAAAABgZ0AAAAAAAMBoQAAAAAAAAGZAAAAAAABAaUAAAAAAAEBnQAAAAAAA4GhAAAAAAADgZ0AAAAAAAGBoQAAAAAAA4GdAAAAAAABAakAAAAAAAMBnQAAAAAAAoGhAAAAAAAAgaEAAAAAAAOBoQAAAAAAAYGdAAAAAAADAZ0AAAAAAAOBnQAAAAAAAAGlAAAAAAAAgZ0AAAAAAACBoQAAAAAAAIGhAAAAAAABgZ0AAAAAAAIBnQAAAAAAAwGdAAAAAAAAAaEAAAAAAACBnQAAAAAAAwGdAAAAAAAAAZ0AAAAAAAGBoQAAAAAAAIGhAAAAAAABgZ0AAAAAAACBpQA==",
          "dtype": "f8"
         },
         "y": {
          "bdata": "AAAAAABMrUAAAAAAALCtQAAAAAAAZKlAAAAAAAD0qkAAAAAAAISsQAAAAAAAUqxAAAAAAABDskAAAAAAAACpQAAAAAAAsK1AAAAAAAAwsUAAAAAAAOisQAAAAAAA9KpAAAAAAACUsUAAAAAAAPqpQAAAAAAAaLBAAAAAAACQqkAAAAAAACCsQAAAAAAAsK1AAAAAAADcrkAAAAAAALCtQAAAAAAAsK1AAAAAAAC8q0AAAAAAAACpQAAAAAAAnKhAAAAAAADcrkAAAAAAAGSpQAAAAAAAeK5AAAAAAADIqUAAAAAAAHiuQAAAAAAA+qlAAAAAAAA2sEAAAAAAANyuQAAAAAAAvKtAAAAAAADIqUAAAAAAACqyQAAAAAAAnKhAAAAAAAB4rkAAAAAAADioQAAAAAAAMLFAAAAAAABwp0AAAAAAAPixQAAAAAAAwqpAAAAAAAD0qkAAAAAAADawQAAAAAAAWKtAAAAAAADMsEAAAAAAAPSqQAAAAAAApK9AAAAAAACopkAAAAAAAOisQAAAAAAAvKtAAAAAAACwrUAAAAAAAESmQAAAAAAATK1AAAAAAACcqEAAAAAAADCxQAAAAAAAIKxAAAAAAACkr0AAAAAAAESmQAAAAAAA3K5AAAAAAAAsqkAAAAAAAASwQAAAAAAA1KdAAAAAAABisUAAAAAAACCsQAAAAAAAeK5AAAAAAAC8q0AAAAAAADawQAAAAAAA6KxAAAAAAACasEAAAAAAAOisQAAAAAAAeK5AAAAAAAC8q0AAAAAAAECvQAAAAAAAAKlAAAAAAABcskAAAAAAALCtQAAAAAAAaLBAAAAAAAAsqkAAAAAAALyrQAAAAAAAsK1AAAAAAABYq0AAAAAAANyuQAAAAAAAIKxAAAAAAAC8q0AAAAAAAMywQAAAAAAAkKpAAAAAAABisUAAAAAAAMipQAAAAAAAzLBAAAAAAADorEAAAAAAAP6wQAAAAAAAqKZAAAAAAAAEsEAAAAAAABqtQAAAAAAAdbJAAAAAAAAGqEAAAAAAAJqwQAAAAAAA2qZAAAAAAAC8q0AAAAAAAEytQAAAAAAAeK5AAAAAAADOqEAAAAAAAKeyQAAAAAAA4q1AAAAAAAD4sUAAAAAAAACpQAAAAAAAs7BAAAAAAAB4rkAAAAAAANavQAAAAAAAqKZAAAAAAAB+rUAAAAAAACyqQAAAAAAA+qlAAAAAAACcqEAAAAAAAFirQAAAAAAA9KpAAAAAAABGrkAAAAAAANSnQAAAAAAAQK9AAAAAAACWqUAAAAAAAMywQAAAAAAA1KdAAAAAAABAr0AAAAAAAPqpQAAAAAAAWKtAAAAAAABYq0AAAAAAAHuxQAAAAAAAwqpAAAAAAAB4rkAAAAAAAM6oQAAAAAAADq9AAAAAAACQqkAAAAAAAJqwQAAAAAAAkKpAAAAAAAAmq0AAAAAAANSnQAAAAAAAGq1AAAAAAABwp0AAAAAAAISsQAAAAAAAmrBAAAAAAAAmq0AAAAAAAPSqQAAAAAAATK1AAAAAAADorEAAAAAAAECvQA==",
          "dtype": "f8"
         },
         "z": {
          "bdata": "MzMzMzOzMkBmZmZmZmYxQAAAAAAAADJAzczMzMxMM0CamZmZmZk0QM3MzMzMzDFAmpmZmZmZM0CamZmZmZkxQDMzMzMzMzVAmpmZmZkZNUDNzMzMzMwxQAAAAAAAADNAMzMzMzOzNEBmZmZmZmYyQAAAAAAAgDVAzczMzMxMMkAzMzMzM7MyQDMzMzMzMzNAmpmZmZkZMkAzMzMzMzMxQGZmZmZm5jJAmpmZmZmZMkBmZmZmZuYxQJqZmZmZmTJAZmZmZmbmMkAzMzMzM7MwQJqZmZmZGTJAzczMzMzMMUBmZmZmZuYyQAAAAAAAADFAmpmZmZkZNUAAAAAAAAA0QAAAAAAAgDJAzczMzMxMM0CamZmZmRkzQAAAAAAAADJAZmZmZmZmMkAAAAAAAIAyQDMzMzMzszNAZmZmZmbmMEDNzMzMzMwyQAAAAAAAADNAZmZmZmbmMUAzMzMzMzM1QDMzMzMzszFAZmZmZmbmMkBmZmZmZuYxQAAAAAAAgDNAmpmZmZkZMkCamZmZmZkyQAAAAAAAgDFAzczMzMzMMkCamZmZmZkwQJqZmZmZGTNAZmZmZmbmMECamZmZmRk1QAAAAAAAADFAMzMzMzMzMkCamZmZmRkxQAAAAAAAADJAMzMzMzMzMECamZmZmRkzQJqZmZmZmTBAZmZmZmZmM0AAAAAAAAAzQGZmZmZmZjJAMzMzMzMzMUBmZmZmZuYyQAAAAAAAgDFAAAAAAACAMkDNzMzMzMwwQGZmZmZmZjNAmpmZmZkZMECamZmZmRkzQDMzMzMzMzFAmpmZmZmZMUDNzMzMzMwyQGZmZmZmZjNAzczMzMzMMUDNzMzMzEw0QAAAAAAAgDNAmpmZmZmZMkAzMzMzMzMzQM3MzMzMzDJAAAAAAAAAMkCamZmZmRkyQJqZmZmZGTFAmpmZmZkZMkDNzMzMzEwxQGZmZmZm5jJAmpmZmZmZMkAAAAAAAIAyQJqZmZmZGTBAAAAAAACAMkBmZmZmZuYxQAAAAAAAADRAAAAAAAAAMEAAAAAAAAA0QJqZmZmZmTJAZmZmZmbmMkAzMzMzMzMxQAAAAAAAADRAAAAAAAAAMUAAAAAAAAAzQAAAAAAAgDBAzczMzMxMNEAzMzMzM7MxQAAAAAAAgDNAMzMzMzOzNEDNzMzMzEwyQAAAAAAAADFAAAAAAACANEAAAAAAAAAxQJqZmZmZmTJAMzMzMzMzMUDNzMzMzMwzQAAAAAAAADFAAAAAAACAMkDNzMzMzMwvQAAAAAAAADNAmpmZmZmZMUDNzMzMzEwyQJqZmZmZGTFAAAAAAAAAMkBmZmZmZuYxQDMzMzMzMzNAAAAAAACAMkAAAAAAAIAyQJqZmZmZmTFAAAAAAACAMUAAAAAAAIAxQJqZmZmZGTRAAAAAAACAMEBmZmZmZuYxQJqZmZmZGTFAMzMzMzMzMUAAAAAAAAAvQAAAAAAAADFAzczMzMzMMEAzMzMzM7MyQJqZmZmZmTJAZmZmZmZmMkDNzMzMzMwxQJqZmZmZGTJAmpmZmZkZMUAAAAAAAIAyQA==",
          "dtype": "f8"
         }
        },
        {
         "opacity": 0.9,
         "showscale": false,
         "type": "surface",
         "x": {
          "bdata": "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",
          "dtype": "f8",
          "shape": "20, 20"
         },
         "y": {
          "bdata": "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",
          "dtype": "f8",
          "shape": "20, 20"
         },
         "z": {
          "bdata": "mpmZmZkZMECamZmZmRkwQJqZmZmZGTBAmpmZmZkZMECamZmZmZkwQJqZmZmZmTBAmpmZmZkZMUCamZmZmRkyQAAAAAAAADFAAAAAAAAAMUAAAAAAAAAxQJqZmZmZmTJAmpmZmZmZMkCamZmZmZkyQJqZmZmZmTJAmpmZmZmZMkCamZmZmZkyQJqZmZmZmTJAmpmZmZmZMkCamZmZmZkyQJqZmZmZGTBAmpmZmZkZMECamZmZmRkwQJqZmZmZGTBAmpmZmZmZMECamZmZmZkwQGZmZmZm5jBAZmZmZmbmMEBmZmZmZuYwQM3MzMzMzDBAzczMzMzMMECamZmZmZkyQJqZmZmZmTJAmpmZmZmZMkCamZmZmZkyQJqZmZmZmTJAmpmZmZmZMkCamZmZmZkyQJqZmZmZmTJAmpmZmZmZMkDNzMzMzMwvQM3MzMzMzC9AzczMzMzML0DNzMzMzMwvQM3MzMzMzC9AzczMzMzML0DNzMzMzMwvQM3MzMzMzC9AAAAAAAAAL0CamZmZmZkwQJqZmZmZGTFAmpmZmZmZMkCamZmZmZkyQJqZmZmZmTJAmpmZmZmZMkCamZmZmZkyQJqZmZmZmTJAmpmZmZmZMkCamZmZmZkyQJqZmZmZmTJAmpmZmZmZMkCamZmZmZkyQDMzMzMzszBAMzMzMzOzMEAAAAAAAAAxQAAAAAAAADJAZmZmZmbmMEBmZmZmZuYwQDMzMzMzMzFAMzMzMzMzMUAzMzMzMzMxQDMzMzMzMzFAAAAAAAAAMkAAAAAAAAAyQAAAAAAAADJAAAAAAAAAMkAAAAAAAAAyQAAAAAAAADJAAAAAAAAAMkAAAAAAAAAyQJqZmZmZmTJAmpmZmZmZMkAzMzMzM7MwQDMzMzMzszBAAAAAAAAAMUCamZmZmZkxQGZmZmZm5jFAZmZmZmbmMUBmZmZmZuYxQDMzMzMzMzFAmpmZmZmZMUAzMzMzM7MxQAAAAAAAADJAAAAAAAAAMkAAAAAAAAAyQAAAAAAAADJAAAAAAAAAMkAAAAAAAAAyQAAAAAAAADJAAAAAAAAAMkDNzMzMzEwyQM3MzMzMTDJAzczMzMxMMkDNzMzMzEwyQAAAAAAAADFAAAAAAAAAMUAAAAAAAAAxQAAAAAAAADFAAAAAAAAAMUAAAAAAAAAxQM3MzMzMzDFAzczMzMzMMUAzMzMzMzMwQDMzMzMzMzBAMzMzMzMzMEAzMzMzMzMwQDMzMzMzMzBAMzMzMzMzMEAzMzMzMzMwQDMzMzMzMzBAAAAAAAAAMUAAAAAAAAAxQAAAAAAAADFAAAAAAAAAMUBmZmZmZmYyQGZmZmZmZjJAZmZmZmZmMkAzMzMzMzMxQDMzMzMzMzFAZmZmZmbmMUDNzMzMzEwzQM3MzMzMTDNAZmZmZmZmMkBmZmZmZmYyQGZmZmZmZjJAZmZmZmZmMkBmZmZmZmYyQGZmZmZmZjJAZmZmZmZmMkBmZmZmZmYyQAAAAAAAADFAAAAAAAAAMUAAAAAAAAAxQAAAAAAAADFAAAAAAACAMkCamZmZmZkyQGZmZmZm5jJAAAAAAACAMUCamZmZmRkwQGZmZmZm5jJAZmZmZmbmMkDNzMzMzEw0QDMzMzMzMzFAzczMzMzMM0DNzMzMzMwzQAAAAAAAADJAAAAAAAAAMkAAAAAAAAAyQAAAAAAAADJAAAAAAAAAMkAAAAAAAAAxQAAAAAAAADFAAAAAAAAAMUAAAAAAAAAxQM3MzMzMzDFAzczMzMzMMUDNzMzMzMwxQAAAAAAAgDFAmpmZmZkZMUCamZmZmZk0QJqZmZmZmTRAmpmZmZmZNECamZmZmZk0QJqZmZmZmTRAmpmZmZmZNECamZmZmZk0QJqZmZmZmTRAmpmZmZmZNECamZmZmZk0QJqZmZmZmTRAAAAAAAAAMUAAAAAAAAAxQAAAAAAAADFAAAAAAAAAMUAzMzMzM7MyQDMzMzMzszJAMzMzMzOzMkAAAAAAAIAxQJqZmZmZGTFAAAAAAAAAMUBmZmZmZuYxQJqZmZmZGTNAmpmZmZkZM0AzMzMzMzMxQDMzMzMzMzFAMzMzMzMzMUAzMzMzMzMxQDMzMzMzMzFAMzMzMzMzMUAzMzMzMzMxQJqZmZmZGTJAmpmZmZkZMkCamZmZmRkyQJqZmZmZGTJAZmZmZmbmMkBmZmZmZuYyQGZmZmZmJjNAmpmZmZkZMkAiIiIiIqIyQCIiIiIiojJAAAAAAAAAMkBmZmZmZmYyQGZmZmZmZjJAAAAAAACAMEAAAAAAAIAwQAAAAAAAgDJAAAAAAACAMkAAAAAAAIAyQAAAAAAAgDJAAAAAAACAMkCamZmZmRkyQJqZmZmZGTJAmpmZmZkZMkCamZmZmRkyQGZmZmZm5jJAZmZmZmbmMkBmZmZmZiYzQJqZmZmZGTJAMzMzMzMzM0AAAAAAAAA0QJqZmZmZGTRAmpmZmZkZNECamZmZmRk0QJqZmZmZGTRAmpmZmZkZNECamZmZmRk0QJqZmZmZGTRAmpmZmZkZNECamZmZmRk0QJqZmZmZGTRAmpmZmZkZMkCamZmZmRkyQJqZmZmZGTJAmpmZmZkZMkBmZmZmZuYyQGZmZmZm5jJAZmZmZmYmM0CamZmZmRkyQJqZmZmZGTNAAAAAAAAANEAzMzMzMzMyQM3MzMzMTDJAzczMzMxMMkDNzMzMzEwyQM3MzMzMTDJAzczMzMxMMkDNzMzMzEwyQAAAAAAAADJAAAAAAAAAMkAAAAAAAAAyQJqZmZmZGTJAmpmZmZkZMkCamZmZmRkyQJqZmZmZGTJAZmZmZmbmMkBmZmZmZuYyQGZmZmZmJjNAmpmZmZkZMkAzMzMzMzM1QDMzMzMzMzVAMzMzMzMzNUCamZmZmRk1QJqZmZmZGTVAZmZmZmbmMkBmZmZmZuYyQGZmZmZm5jJAZmZmZmbmMkBmZmZmZuYyQGZmZmZm5jJAZmZmZmbmMkCamZmZmRkyQJqZmZmZGTJAmpmZmZkZMkCamZmZmRkyQGZmZmZm5jJAZmZmZmbmMkBmZmZmZiYzQJqZmZmZGTJAZmZmZmbmMkDNzMzMzEwzQGZmZmZm5jFAZmZmZmbmMUAAAAAAAIAyQAAAAAAAgDNAAAAAAACAM0AAAAAAAIAzQAAAAAAAgDNAAAAAAACAM0AAAAAAAIAzQAAAAAAAgDNAmpmZmZkZMkCamZmZmRkyQJqZmZmZGTJAmpmZmZkZMkBmZmZmZuYyQGZmZmZm5jJAmpmZmZkZM0CamZmZmRkyQGZmZmZm5jJAzczMzMxMM0BmZmZmZuYxQGZmZmZm5jFAAAAAAACAMkCamZmZmRkyQJqZmZmZGTJAmpmZmZkZMkCamZmZmRkyQJqZmZmZGTJAZmZmZmbmMkBmZmZmZuYyQJqZmZmZGTJAmpmZmZkZMkCamZmZmRkyQJqZmZmZGTJAZmZmZmbmMkBmZmZmZuYyQJqZmZmZGTNAmpmZmZkZMkDNzMzMzMwyQM3MzMzMzDJAZmZmZmZmM0BmZmZmZmYzQGZmZmZmZjNAZmZmZmZmM0AAAAAAAIAyQAAAAAAAgDJAAAAAAACAMkAAAAAAAIAyQAAAAAAAgDJAAAAAAACAMkCamZmZmRkyQJqZmZmZGTJAmpmZmZkZMkCamZmZmRkyQGZmZmZm5jJAZmZmZmbmMkCamZmZmRkzQJqZmZmZGTJAzczMzMzMMkDNzMzMzMwyQM3MzMzMTDRAzczMzMxMNEAzMzMzM7M0QDMzMzMzszRAAAAAAACAMkAAAAAAAIAyQAAAAAAAgDJAAAAAAACAMkAAAAAAAIAyQAAAAAAAgDJAmpmZmZkZMkCamZmZmRkyQJqZmZmZGTJAmpmZmZkZMkBmZmZmZuYyQGZmZmZm5jJAmpmZmZkZM0CamZmZmRkyQM3MzMzMzDJAzczMzMzMMkCamZmZmZkzQJqZmZmZmTNAmpmZmZmZM0CamZmZmZkzQAAAAAAAgDJAAAAAAACAMkAAAAAAAIAyQAAAAAAAgDJAAAAAAACAMkAAAAAAAIAyQJqZmZmZGTJAmpmZmZkZMkCamZmZmRkyQJqZmZmZGTJAZmZmZmbmMkBmZmZmZuYyQJqZmZmZGTNAmpmZmZkZMkAAAAAAAAAzQAAAAAAAADNAAAAAAAAAM0AAAAAAAAAzQAAAAAAAADNAAAAAAAAAM0AAAAAAAAAzQAAAAAAAADRAAAAAAAAANEAAAAAAAAA0QAAAAAAAADRAAAAAAAAANEA=",
          "dtype": "f8",
          "shape": "20, 20"
         }
        }
       ],
       "layout": {
        "autosize": false,
        "height": 600,
        "legend": {
         "tracegroupgap": 0
        },
        "margin": {
         "t": 60
        },
        "scene": {
         "domain": {
          "x": [
           0,
           1
          ],
          "y": [
           0,
           1
          ]
         },
         "xaxis": {
          "title": {
           "text": "flipper_length_mm"
          }
         },
         "yaxis": {
          "title": {
           "text": "body_mass_g"
          }
         },
         "zaxis": {
          "title": {
           "text": "bill_depth_mm"
          }
         }
        },
        "template": {
         "data": {
          "bar": [
           {
            "error_x": {
             "color": "#2a3f5f"
            },
            "error_y": {
             "color": "#2a3f5f"
            },
            "marker": {
             "line": {
              "color": "#E5ECF6",
              "width": 0.5
             },
             "pattern": {
              "fillmode": "overlay",
              "size": 10,
              "solidity": 0.2
             }
            },
            "type": "bar"
           }
          ],
          "barpolar": [
           {
            "marker": {
             "line": {
              "color": "#E5ECF6",
              "width": 0.5
             },
             "pattern": {
              "fillmode": "overlay",
              "size": 10,
              "solidity": 0.2
             }
            },
            "type": "barpolar"
           }
          ],
          "carpet": [
           {
            "aaxis": {
             "endlinecolor": "#2a3f5f",
             "gridcolor": "white",
             "linecolor": "white",
             "minorgridcolor": "white",
             "startlinecolor": "#2a3f5f"
            },
            "baxis": {
             "endlinecolor": "#2a3f5f",
             "gridcolor": "white",
             "linecolor": "white",
             "minorgridcolor": "white",
             "startlinecolor": "#2a3f5f"
            },
            "type": "carpet"
           }
          ],
          "choropleth": [
           {
            "colorbar": {
             "outlinewidth": 0,
             "ticks": ""
            },
            "type": "choropleth"
           }
          ],
          "contour": [
           {
            "colorbar": {
             "outlinewidth": 0,
             "ticks": ""
            },
            "colorscale": [
             [
              0,
              "#0d0887"
             ],
             [
              0.1111111111111111,
              "#46039f"
             ],
             [
              0.2222222222222222,
              "#7201a8"
             ],
             [
              0.3333333333333333,
              "#9c179e"
             ],
             [
              0.4444444444444444,
              "#bd3786"
             ],
             [
              0.5555555555555556,
              "#d8576b"
             ],
             [
              0.6666666666666666,
              "#ed7953"
             ],
             [
              0.7777777777777778,
              "#fb9f3a"
             ],
             [
              0.8888888888888888,
              "#fdca26"
             ],
             [
              1,
              "#f0f921"
             ]
            ],
            "type": "contour"
           }
          ],
          "contourcarpet": [
           {
            "colorbar": {
             "outlinewidth": 0,
             "ticks": ""
            },
            "type": "contourcarpet"
           }
          ],
          "heatmap": [
           {
            "colorbar": {
             "outlinewidth": 0,
             "ticks": ""
            },
            "colorscale": [
             [
              0,
              "#0d0887"
             ],
             [
              0.1111111111111111,
              "#46039f"
             ],
             [
              0.2222222222222222,
              "#7201a8"
             ],
             [
              0.3333333333333333,
              "#9c179e"
             ],
             [
              0.4444444444444444,
              "#bd3786"
             ],
             [
              0.5555555555555556,
              "#d8576b"
             ],
             [
              0.6666666666666666,
              "#ed7953"
             ],
             [
              0.7777777777777778,
              "#fb9f3a"
             ],
             [
              0.8888888888888888,
              "#fdca26"
             ],
             [
              1,
              "#f0f921"
             ]
            ],
            "type": "heatmap"
           }
          ],
          "histogram": [
           {
            "marker": {
             "pattern": {
              "fillmode": "overlay",
              "size": 10,
              "solidity": 0.2
             }
            },
            "type": "histogram"
           }
          ],
          "histogram2d": [
           {
            "colorbar": {
             "outlinewidth": 0,
             "ticks": ""
            },
            "colorscale": [
             [
              0,
              "#0d0887"
             ],
             [
              0.1111111111111111,
              "#46039f"
             ],
             [
              0.2222222222222222,
              "#7201a8"
             ],
             [
              0.3333333333333333,
              "#9c179e"
             ],
             [
              0.4444444444444444,
              "#bd3786"
             ],
             [
              0.5555555555555556,
              "#d8576b"
             ],
             [
              0.6666666666666666,
              "#ed7953"
             ],
             [
              0.7777777777777778,
              "#fb9f3a"
             ],
             [
              0.8888888888888888,
              "#fdca26"
             ],
             [
              1,
              "#f0f921"
             ]
            ],
            "type": "histogram2d"
           }
          ],
          "histogram2dcontour": [
           {
            "colorbar": {
             "outlinewidth": 0,
             "ticks": ""
            },
            "colorscale": [
             [
              0,
              "#0d0887"
             ],
             [
              0.1111111111111111,
              "#46039f"
             ],
             [
              0.2222222222222222,
              "#7201a8"
             ],
             [
              0.3333333333333333,
              "#9c179e"
             ],
             [
              0.4444444444444444,
              "#bd3786"
             ],
             [
              0.5555555555555556,
              "#d8576b"
             ],
             [
              0.6666666666666666,
              "#ed7953"
             ],
             [
              0.7777777777777778,
              "#fb9f3a"
             ],
             [
              0.8888888888888888,
              "#fdca26"
             ],
             [
              1,
              "#f0f921"
             ]
            ],
            "type": "histogram2dcontour"
           }
          ],
          "mesh3d": [
           {
            "colorbar": {
             "outlinewidth": 0,
             "ticks": ""
            },
            "type": "mesh3d"
           }
          ],
          "parcoords": [
           {
            "line": {
             "colorbar": {
              "outlinewidth": 0,
              "ticks": ""
             }
            },
            "type": "parcoords"
           }
          ],
          "pie": [
           {
            "automargin": true,
            "type": "pie"
           }
          ],
          "scatter": [
           {
            "fillpattern": {
             "fillmode": "overlay",
             "size": 10,
             "solidity": 0.2
            },
            "type": "scatter"
           }
          ],
          "scatter3d": [
           {
            "line": {
             "colorbar": {
              "outlinewidth": 0,
              "ticks": ""
             }
            },
            "marker": {
             "colorbar": {
              "outlinewidth": 0,
              "ticks": ""
             }
            },
            "type": "scatter3d"
           }
          ],
          "scattercarpet": [
           {
            "marker": {
             "colorbar": {
              "outlinewidth": 0,
              "ticks": ""
             }
            },
            "type": "scattercarpet"
           }
          ],
          "scattergeo": [
           {
            "marker": {
             "colorbar": {
              "outlinewidth": 0,
              "ticks": ""
             }
            },
            "type": "scattergeo"
           }
          ],
          "scattergl": [
           {
            "marker": {
             "colorbar": {
              "outlinewidth": 0,
              "ticks": ""
             }
            },
            "type": "scattergl"
           }
          ],
          "scattermap": [
           {
            "marker": {
             "colorbar": {
              "outlinewidth": 0,
              "ticks": ""
             }
            },
            "type": "scattermap"
           }
          ],
          "scattermapbox": [
           {
            "marker": {
             "colorbar": {
              "outlinewidth": 0,
              "ticks": ""
             }
            },
            "type": "scattermapbox"
           }
          ],
          "scatterpolar": [
           {
            "marker": {
             "colorbar": {
              "outlinewidth": 0,
              "ticks": ""
             }
            },
            "type": "scatterpolar"
           }
          ],
          "scatterpolargl": [
           {
            "marker": {
             "colorbar": {
              "outlinewidth": 0,
              "ticks": ""
             }
            },
            "type": "scatterpolargl"
           }
          ],
          "scatterternary": [
           {
            "marker": {
             "colorbar": {
              "outlinewidth": 0,
              "ticks": ""
             }
            },
            "type": "scatterternary"
           }
          ],
          "surface": [
           {
            "colorbar": {
             "outlinewidth": 0,
             "ticks": ""
            },
            "colorscale": [
             [
              0,
              "#0d0887"
             ],
             [
              0.1111111111111111,
              "#46039f"
             ],
             [
              0.2222222222222222,
              "#7201a8"
             ],
             [
              0.3333333333333333,
              "#9c179e"
             ],
             [
              0.4444444444444444,
              "#bd3786"
             ],
             [
              0.5555555555555556,
              "#d8576b"
             ],
             [
              0.6666666666666666,
              "#ed7953"
             ],
             [
              0.7777777777777778,
              "#fb9f3a"
             ],
             [
              0.8888888888888888,
              "#fdca26"
             ],
             [
              1,
              "#f0f921"
             ]
            ],
            "type": "surface"
           }
          ],
          "table": [
           {
            "cells": {
             "fill": {
              "color": "#EBF0F8"
             },
             "line": {
              "color": "white"
             }
            },
            "header": {
             "fill": {
              "color": "#C8D4E3"
             },
             "line": {
              "color": "white"
             }
            },
            "type": "table"
           }
          ]
         },
         "layout": {
          "annotationdefaults": {
           "arrowcolor": "#2a3f5f",
           "arrowhead": 0,
           "arrowwidth": 1
          },
          "autotypenumbers": "strict",
          "coloraxis": {
           "colorbar": {
            "outlinewidth": 0,
            "ticks": ""
           }
          },
          "colorscale": {
           "diverging": [
            [
             0,
             "#8e0152"
            ],
            [
             0.1,
             "#c51b7d"
            ],
            [
             0.2,
             "#de77ae"
            ],
            [
             0.3,
             "#f1b6da"
            ],
            [
             0.4,
             "#fde0ef"
            ],
            [
             0.5,
             "#f7f7f7"
            ],
            [
             0.6,
             "#e6f5d0"
            ],
            [
             0.7,
             "#b8e186"
            ],
            [
             0.8,
             "#7fbc41"
            ],
            [
             0.9,
             "#4d9221"
            ],
            [
             1,
             "#276419"
            ]
           ],
           "sequential": [
            [
             0,
             "#0d0887"
            ],
            [
             0.1111111111111111,
             "#46039f"
            ],
            [
             0.2222222222222222,
             "#7201a8"
            ],
            [
             0.3333333333333333,
             "#9c179e"
            ],
            [
             0.4444444444444444,
             "#bd3786"
            ],
            [
             0.5555555555555556,
             "#d8576b"
            ],
            [
             0.6666666666666666,
             "#ed7953"
            ],
            [
             0.7777777777777778,
             "#fb9f3a"
            ],
            [
             0.8888888888888888,
             "#fdca26"
            ],
            [
             1,
             "#f0f921"
            ]
           ],
           "sequentialminus": [
            [
             0,
             "#0d0887"
            ],
            [
             0.1111111111111111,
             "#46039f"
            ],
            [
             0.2222222222222222,
             "#7201a8"
            ],
            [
             0.3333333333333333,
             "#9c179e"
            ],
            [
             0.4444444444444444,
             "#bd3786"
            ],
            [
             0.5555555555555556,
             "#d8576b"
            ],
            [
             0.6666666666666666,
             "#ed7953"
            ],
            [
             0.7777777777777778,
             "#fb9f3a"
            ],
            [
             0.8888888888888888,
             "#fdca26"
            ],
            [
             1,
             "#f0f921"
            ]
           ]
          },
          "colorway": [
           "#636efa",
           "#EF553B",
           "#00cc96",
           "#ab63fa",
           "#FFA15A",
           "#19d3f3",
           "#FF6692",
           "#B6E880",
           "#FF97FF",
           "#FECB52"
          ],
          "font": {
           "color": "#2a3f5f"
          },
          "geo": {
           "bgcolor": "white",
           "lakecolor": "white",
           "landcolor": "#E5ECF6",
           "showlakes": true,
           "showland": true,
           "subunitcolor": "white"
          },
          "hoverlabel": {
           "align": "left"
          },
          "hovermode": "closest",
          "mapbox": {
           "style": "light"
          },
          "paper_bgcolor": "white",
          "plot_bgcolor": "#E5ECF6",
          "polar": {
           "angularaxis": {
            "gridcolor": "white",
            "linecolor": "white",
            "ticks": ""
           },
           "bgcolor": "#E5ECF6",
           "radialaxis": {
            "gridcolor": "white",
            "linecolor": "white",
            "ticks": ""
           }
          },
          "scene": {
           "xaxis": {
            "backgroundcolor": "#E5ECF6",
            "gridcolor": "white",
            "gridwidth": 2,
            "linecolor": "white",
            "showbackground": true,
            "ticks": "",
            "zerolinecolor": "white"
           },
           "yaxis": {
            "backgroundcolor": "#E5ECF6",
            "gridcolor": "white",
            "gridwidth": 2,
            "linecolor": "white",
            "showbackground": true,
            "ticks": "",
            "zerolinecolor": "white"
           },
           "zaxis": {
            "backgroundcolor": "#E5ECF6",
            "gridcolor": "white",
            "gridwidth": 2,
            "linecolor": "white",
            "showbackground": true,
            "ticks": "",
            "zerolinecolor": "white"
           }
          },
          "shapedefaults": {
           "line": {
            "color": "#2a3f5f"
           }
          },
          "ternary": {
           "aaxis": {
            "gridcolor": "white",
            "linecolor": "white",
            "ticks": ""
           },
           "baxis": {
            "gridcolor": "white",
            "linecolor": "white",
            "ticks": ""
           },
           "bgcolor": "#E5ECF6",
           "caxis": {
            "gridcolor": "white",
            "linecolor": "white",
            "ticks": ""
           }
          },
          "title": {
           "x": 0.05
          },
          "xaxis": {
           "automargin": true,
           "gridcolor": "white",
           "linecolor": "white",
           "ticks": "",
           "title": {
            "standoff": 15
           },
           "zerolinecolor": "white",
           "zerolinewidth": 2
          },
          "yaxis": {
           "automargin": true,
           "gridcolor": "white",
           "linecolor": "white",
           "ticks": "",
           "title": {
            "standoff": 15
           },
           "zerolinecolor": "white",
           "zerolinewidth": 2
          }
         }
        },
        "width": 800
       }
      }
     },
     "metadata": {},
     "output_type": "display_data"
    }
   ],
   "source": [
    "fig = px.scatter_3d(df, x=\"flipper_length_mm\", y=\"body_mass_g\", z=\"bill_depth_mm\")\n",
    "\n",
    "# Create a grid of points to evaluate plane\n",
    "grid_resolution = 20\n",
    "(u,v) = np.meshgrid(\n",
    "    np.linspace(df[\"flipper_length_mm\"].min(), df[\"flipper_length_mm\"].max(), grid_resolution),\n",
    "    np.linspace(df[\"body_mass_g\"].min(), df[\"body_mass_g\"].max(), grid_resolution))\n",
    "features = pd.DataFrame({\"flipper_length_mm\": u.flatten(),\n",
    "                         \"body_mass_g\": v.flatten()})\n",
    "\n",
    "# Make predictions at every point on the grid\n",
    "zs = tree_model.predict(features) #<------------------ Only change\n",
    "\n",
    "# create the Surface\n",
    "fig.add_trace(go.Surface(x=u, y=v, z= zs.reshape(u.shape), opacity=0.9, showscale=False))\n",
    "fig.update_layout(autosize=False, width=800, height=600)"
   ]
  },
  {
   "cell_type": "markdown",
   "metadata": {},
   "source": [
    "<br><br>\n",
    "<hr style=\"border: 5px solid #003262;\" />\n",
    "<hr style=\"border: 1px solid #fdb515;\" />\n",
    "\n",
    "\n",
    "# Minimizing an Arbitrary 1D Function"
   ]
  },
  {
   "cell_type": "markdown",
   "metadata": {},
   "source": [
    "Suppose we want to find the value of $x$ that minimizes the arbitrary function given below:"
   ]
  },
  {
   "cell_type": "markdown",
   "metadata": {},
   "source": [
    "$$\n",
    "\\frac{1}{10}\\left(x^4 - 15x^3 + 80 x^2 - 180x + 144\\right)\n",
    "$$"
   ]
  },
  {
   "cell_type": "code",
   "execution_count": null,
   "metadata": {},
   "outputs": [],
   "source": [
    "def f(x):\n",
    "    return (x**4 - 15*x**3 + 80*x**2 - 180*x + 144)/10"
   ]
  },
  {
   "cell_type": "markdown",
   "metadata": {},
   "source": [
    "Minimization via visualization:"
   ]
  },
  {
   "cell_type": "code",
   "execution_count": null,
   "metadata": {},
   "outputs": [
    {
     "data": {
      "application/vnd.plotly.v1+json": {
       "config": {
        "plotlyServerURL": "https://plot.ly"
       },
       "data": [
        {
         "hovertemplate": "x=%{x}<br>y=%{y}<extra></extra>",
         "legendgroup": "",
         "line": {
          "color": "#636efa",
          "dash": "solid"
         },
         "marker": {
          "symbol": "circle"
         },
         "mode": "lines",
         "name": "",
         "orientation": "v",
         "showlegend": false,
         "type": "scatter",
         "x": {
          "bdata": "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",
          "dtype": "f8"
         },
         "xaxis": "x",
         "y": {
          "bdata": "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",
          "dtype": "f8"
         },
         "yaxis": "y"
        }
       ],
       "layout": {
        "autosize": false,
        "font": {
         "size": 16
        },
        "height": 600,
        "legend": {
         "tracegroupgap": 0
        },
        "margin": {
         "t": 60
        },
        "template": {
         "data": {
          "bar": [
           {
            "error_x": {
             "color": "#2a3f5f"
            },
            "error_y": {
             "color": "#2a3f5f"
            },
            "marker": {
             "line": {
              "color": "#E5ECF6",
              "width": 0.5
             },
             "pattern": {
              "fillmode": "overlay",
              "size": 10,
              "solidity": 0.2
             }
            },
            "type": "bar"
           }
          ],
          "barpolar": [
           {
            "marker": {
             "line": {
              "color": "#E5ECF6",
              "width": 0.5
             },
             "pattern": {
              "fillmode": "overlay",
              "size": 10,
              "solidity": 0.2
             }
            },
            "type": "barpolar"
           }
          ],
          "carpet": [
           {
            "aaxis": {
             "endlinecolor": "#2a3f5f",
             "gridcolor": "white",
             "linecolor": "white",
             "minorgridcolor": "white",
             "startlinecolor": "#2a3f5f"
            },
            "baxis": {
             "endlinecolor": "#2a3f5f",
             "gridcolor": "white",
             "linecolor": "white",
             "minorgridcolor": "white",
             "startlinecolor": "#2a3f5f"
            },
            "type": "carpet"
           }
          ],
          "choropleth": [
           {
            "colorbar": {
             "outlinewidth": 0,
             "ticks": ""
            },
            "type": "choropleth"
           }
          ],
          "contour": [
           {
            "colorbar": {
             "outlinewidth": 0,
             "ticks": ""
            },
            "colorscale": [
             [
              0,
              "#0d0887"
             ],
             [
              0.1111111111111111,
              "#46039f"
             ],
             [
              0.2222222222222222,
              "#7201a8"
             ],
             [
              0.3333333333333333,
              "#9c179e"
             ],
             [
              0.4444444444444444,
              "#bd3786"
             ],
             [
              0.5555555555555556,
              "#d8576b"
             ],
             [
              0.6666666666666666,
              "#ed7953"
             ],
             [
              0.7777777777777778,
              "#fb9f3a"
             ],
             [
              0.8888888888888888,
              "#fdca26"
             ],
             [
              1,
              "#f0f921"
             ]
            ],
            "type": "contour"
           }
          ],
          "contourcarpet": [
           {
            "colorbar": {
             "outlinewidth": 0,
             "ticks": ""
            },
            "type": "contourcarpet"
           }
          ],
          "heatmap": [
           {
            "colorbar": {
             "outlinewidth": 0,
             "ticks": ""
            },
            "colorscale": [
             [
              0,
              "#0d0887"
             ],
             [
              0.1111111111111111,
              "#46039f"
             ],
             [
              0.2222222222222222,
              "#7201a8"
             ],
             [
              0.3333333333333333,
              "#9c179e"
             ],
             [
              0.4444444444444444,
              "#bd3786"
             ],
             [
              0.5555555555555556,
              "#d8576b"
             ],
             [
              0.6666666666666666,
              "#ed7953"
             ],
             [
              0.7777777777777778,
              "#fb9f3a"
             ],
             [
              0.8888888888888888,
              "#fdca26"
             ],
             [
              1,
              "#f0f921"
             ]
            ],
            "type": "heatmap"
           }
          ],
          "histogram": [
           {
            "marker": {
             "pattern": {
              "fillmode": "overlay",
              "size": 10,
              "solidity": 0.2
             }
            },
            "type": "histogram"
           }
          ],
          "histogram2d": [
           {
            "colorbar": {
             "outlinewidth": 0,
             "ticks": ""
            },
            "colorscale": [
             [
              0,
              "#0d0887"
             ],
             [
              0.1111111111111111,
              "#46039f"
             ],
             [
              0.2222222222222222,
              "#7201a8"
             ],
             [
              0.3333333333333333,
              "#9c179e"
             ],
             [
              0.4444444444444444,
              "#bd3786"
             ],
             [
              0.5555555555555556,
              "#d8576b"
             ],
             [
              0.6666666666666666,
              "#ed7953"
             ],
             [
              0.7777777777777778,
              "#fb9f3a"
             ],
             [
              0.8888888888888888,
              "#fdca26"
             ],
             [
              1,
              "#f0f921"
             ]
            ],
            "type": "histogram2d"
           }
          ],
          "histogram2dcontour": [
           {
            "colorbar": {
             "outlinewidth": 0,
             "ticks": ""
            },
            "colorscale": [
             [
              0,
              "#0d0887"
             ],
             [
              0.1111111111111111,
              "#46039f"
             ],
             [
              0.2222222222222222,
              "#7201a8"
             ],
             [
              0.3333333333333333,
              "#9c179e"
             ],
             [
              0.4444444444444444,
              "#bd3786"
             ],
             [
              0.5555555555555556,
              "#d8576b"
             ],
             [
              0.6666666666666666,
              "#ed7953"
             ],
             [
              0.7777777777777778,
              "#fb9f3a"
             ],
             [
              0.8888888888888888,
              "#fdca26"
             ],
             [
              1,
              "#f0f921"
             ]
            ],
            "type": "histogram2dcontour"
           }
          ],
          "mesh3d": [
           {
            "colorbar": {
             "outlinewidth": 0,
             "ticks": ""
            },
            "type": "mesh3d"
           }
          ],
          "parcoords": [
           {
            "line": {
             "colorbar": {
              "outlinewidth": 0,
              "ticks": ""
             }
            },
            "type": "parcoords"
           }
          ],
          "pie": [
           {
            "automargin": true,
            "type": "pie"
           }
          ],
          "scatter": [
           {
            "fillpattern": {
             "fillmode": "overlay",
             "size": 10,
             "solidity": 0.2
            },
            "type": "scatter"
           }
          ],
          "scatter3d": [
           {
            "line": {
             "colorbar": {
              "outlinewidth": 0,
              "ticks": ""
             }
            },
            "marker": {
             "colorbar": {
              "outlinewidth": 0,
              "ticks": ""
             }
            },
            "type": "scatter3d"
           }
          ],
          "scattercarpet": [
           {
            "marker": {
             "colorbar": {
              "outlinewidth": 0,
              "ticks": ""
             }
            },
            "type": "scattercarpet"
           }
          ],
          "scattergeo": [
           {
            "marker": {
             "colorbar": {
              "outlinewidth": 0,
              "ticks": ""
             }
            },
            "type": "scattergeo"
           }
          ],
          "scattergl": [
           {
            "marker": {
             "colorbar": {
              "outlinewidth": 0,
              "ticks": ""
             }
            },
            "type": "scattergl"
           }
          ],
          "scattermap": [
           {
            "marker": {
             "colorbar": {
              "outlinewidth": 0,
              "ticks": ""
             }
            },
            "type": "scattermap"
           }
          ],
          "scattermapbox": [
           {
            "marker": {
             "colorbar": {
              "outlinewidth": 0,
              "ticks": ""
             }
            },
            "type": "scattermapbox"
           }
          ],
          "scatterpolar": [
           {
            "marker": {
             "colorbar": {
              "outlinewidth": 0,
              "ticks": ""
             }
            },
            "type": "scatterpolar"
           }
          ],
          "scatterpolargl": [
           {
            "marker": {
             "colorbar": {
              "outlinewidth": 0,
              "ticks": ""
             }
            },
            "type": "scatterpolargl"
           }
          ],
          "scatterternary": [
           {
            "marker": {
             "colorbar": {
              "outlinewidth": 0,
              "ticks": ""
             }
            },
            "type": "scatterternary"
           }
          ],
          "surface": [
           {
            "colorbar": {
             "outlinewidth": 0,
             "ticks": ""
            },
            "colorscale": [
             [
              0,
              "#0d0887"
             ],
             [
              0.1111111111111111,
              "#46039f"
             ],
             [
              0.2222222222222222,
              "#7201a8"
             ],
             [
              0.3333333333333333,
              "#9c179e"
             ],
             [
              0.4444444444444444,
              "#bd3786"
             ],
             [
              0.5555555555555556,
              "#d8576b"
             ],
             [
              0.6666666666666666,
              "#ed7953"
             ],
             [
              0.7777777777777778,
              "#fb9f3a"
             ],
             [
              0.8888888888888888,
              "#fdca26"
             ],
             [
              1,
              "#f0f921"
             ]
            ],
            "type": "surface"
           }
          ],
          "table": [
           {
            "cells": {
             "fill": {
              "color": "#EBF0F8"
             },
             "line": {
              "color": "white"
             }
            },
            "header": {
             "fill": {
              "color": "#C8D4E3"
             },
             "line": {
              "color": "white"
             }
            },
            "type": "table"
           }
          ]
         },
         "layout": {
          "annotationdefaults": {
           "arrowcolor": "#2a3f5f",
           "arrowhead": 0,
           "arrowwidth": 1
          },
          "autotypenumbers": "strict",
          "coloraxis": {
           "colorbar": {
            "outlinewidth": 0,
            "ticks": ""
           }
          },
          "colorscale": {
           "diverging": [
            [
             0,
             "#8e0152"
            ],
            [
             0.1,
             "#c51b7d"
            ],
            [
             0.2,
             "#de77ae"
            ],
            [
             0.3,
             "#f1b6da"
            ],
            [
             0.4,
             "#fde0ef"
            ],
            [
             0.5,
             "#f7f7f7"
            ],
            [
             0.6,
             "#e6f5d0"
            ],
            [
             0.7,
             "#b8e186"
            ],
            [
             0.8,
             "#7fbc41"
            ],
            [
             0.9,
             "#4d9221"
            ],
            [
             1,
             "#276419"
            ]
           ],
           "sequential": [
            [
             0,
             "#0d0887"
            ],
            [
             0.1111111111111111,
             "#46039f"
            ],
            [
             0.2222222222222222,
             "#7201a8"
            ],
            [
             0.3333333333333333,
             "#9c179e"
            ],
            [
             0.4444444444444444,
             "#bd3786"
            ],
            [
             0.5555555555555556,
             "#d8576b"
            ],
            [
             0.6666666666666666,
             "#ed7953"
            ],
            [
             0.7777777777777778,
             "#fb9f3a"
            ],
            [
             0.8888888888888888,
             "#fdca26"
            ],
            [
             1,
             "#f0f921"
            ]
           ],
           "sequentialminus": [
            [
             0,
             "#0d0887"
            ],
            [
             0.1111111111111111,
             "#46039f"
            ],
            [
             0.2222222222222222,
             "#7201a8"
            ],
            [
             0.3333333333333333,
             "#9c179e"
            ],
            [
             0.4444444444444444,
             "#bd3786"
            ],
            [
             0.5555555555555556,
             "#d8576b"
            ],
            [
             0.6666666666666666,
             "#ed7953"
            ],
            [
             0.7777777777777778,
             "#fb9f3a"
            ],
            [
             0.8888888888888888,
             "#fdca26"
            ],
            [
             1,
             "#f0f921"
            ]
           ]
          },
          "colorway": [
           "#636efa",
           "#EF553B",
           "#00cc96",
           "#ab63fa",
           "#FFA15A",
           "#19d3f3",
           "#FF6692",
           "#B6E880",
           "#FF97FF",
           "#FECB52"
          ],
          "font": {
           "color": "#2a3f5f"
          },
          "geo": {
           "bgcolor": "white",
           "lakecolor": "white",
           "landcolor": "#E5ECF6",
           "showlakes": true,
           "showland": true,
           "subunitcolor": "white"
          },
          "hoverlabel": {
           "align": "left"
          },
          "hovermode": "closest",
          "mapbox": {
           "style": "light"
          },
          "paper_bgcolor": "white",
          "plot_bgcolor": "#E5ECF6",
          "polar": {
           "angularaxis": {
            "gridcolor": "white",
            "linecolor": "white",
            "ticks": ""
           },
           "bgcolor": "#E5ECF6",
           "radialaxis": {
            "gridcolor": "white",
            "linecolor": "white",
            "ticks": ""
           }
          },
          "scene": {
           "xaxis": {
            "backgroundcolor": "#E5ECF6",
            "gridcolor": "white",
            "gridwidth": 2,
            "linecolor": "white",
            "showbackground": true,
            "ticks": "",
            "zerolinecolor": "white"
           },
           "yaxis": {
            "backgroundcolor": "#E5ECF6",
            "gridcolor": "white",
            "gridwidth": 2,
            "linecolor": "white",
            "showbackground": true,
            "ticks": "",
            "zerolinecolor": "white"
           },
           "zaxis": {
            "backgroundcolor": "#E5ECF6",
            "gridcolor": "white",
            "gridwidth": 2,
            "linecolor": "white",
            "showbackground": true,
            "ticks": "",
            "zerolinecolor": "white"
           }
          },
          "shapedefaults": {
           "line": {
            "color": "#2a3f5f"
           }
          },
          "ternary": {
           "aaxis": {
            "gridcolor": "white",
            "linecolor": "white",
            "ticks": ""
           },
           "baxis": {
            "gridcolor": "white",
            "linecolor": "white",
            "ticks": ""
           },
           "bgcolor": "#E5ECF6",
           "caxis": {
            "gridcolor": "white",
            "linecolor": "white",
            "ticks": ""
           }
          },
          "title": {
           "x": 0.05
          },
          "xaxis": {
           "automargin": true,
           "gridcolor": "white",
           "linecolor": "white",
           "ticks": "",
           "title": {
            "standoff": 15
           },
           "zerolinecolor": "white",
           "zerolinewidth": 2
          },
          "yaxis": {
           "automargin": true,
           "gridcolor": "white",
           "linecolor": "white",
           "ticks": "",
           "title": {
            "standoff": 15
           },
           "zerolinecolor": "white",
           "zerolinewidth": 2
          }
         }
        },
        "width": 800,
        "xaxis": {
         "anchor": "y",
         "domain": [
          0,
          1
         ],
         "title": {
          "text": "x"
         }
        },
        "yaxis": {
         "anchor": "x",
         "domain": [
          0,
          1
         ],
         "title": {
          "text": "y"
         }
        }
       }
      }
     },
     "metadata": {},
     "output_type": "display_data"
    }
   ],
   "source": [
    "x = np.linspace(1, 6.75, 200)\n",
    "fig = px.line(y = f(x), x = x)\n",
    "fig.update_layout(font_size = 16)\n",
    "fig.update_layout(autosize=False, width=800, height=600)"
   ]
  },
  {
   "cell_type": "markdown",
   "metadata": {},
   "source": [
    "Above, we see that the minimum is somewhere around 5.3ish."
   ]
  },
  {
   "cell_type": "markdown",
   "metadata": {},
   "source": [
    "### The Naive Approach: Guess and Check"
   ]
  },
  {
   "cell_type": "markdown",
   "metadata": {},
   "source": [
    "Another approach would be to guess and check"
   ]
  },
  {
   "cell_type": "code",
   "execution_count": null,
   "metadata": {},
   "outputs": [],
   "source": [
    "# np.argmin returns the index of the smallest value in an array\n",
    "# This function returns the x value corresponding to the smallest\n",
    "# value of f(x), for an input array of x values\n",
    "def simple_minimize(f, xs):\n",
    "    y = [f(x) for x in xs]\n",
    "    return xs[np.argmin(y)]"
   ]
  },
  {
   "cell_type": "code",
   "execution_count": null,
   "metadata": {},
   "outputs": [
    {
     "data": {
      "text/plain": [
       "5.33"
      ]
     },
     "execution_count": 180,
     "metadata": {},
     "output_type": "execute_result"
    }
   ],
   "source": [
    "guesses = [5.3, 5.31, 5.32, 5.33, 5.34, 5.35]\n",
    "simple_minimize(f, guesses)"
   ]
  },
  {
   "cell_type": "markdown",
   "metadata": {},
   "source": [
    "This process is essentially the same as before where we made a graphical plot, it's just that we're only looking at a few selected points."
   ]
  },
  {
   "cell_type": "code",
   "execution_count": null,
   "metadata": {},
   "outputs": [
    {
     "data": {
      "application/vnd.plotly.v1+json": {
       "config": {
        "plotlyServerURL": "https://plot.ly"
       },
       "data": [
        {
         "hovertemplate": "x=%{x}<br>y=%{y}<extra></extra>",
         "legendgroup": "",
         "line": {
          "color": "#636efa",
          "dash": "solid"
         },
         "marker": {
          "symbol": "circle"
         },
         "mode": "lines",
         "name": "",
         "orientation": "v",
         "showlegend": false,
         "type": "scatter",
         "x": {
          "bdata": "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",
          "dtype": "f8"
         },
         "xaxis": "x",
         "y": {
          "bdata": "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",
          "dtype": "f8"
         },
         "yaxis": "y"
        },
        {
         "marker": {
          "size": 16
         },
         "mode": "markers",
         "type": "scatter",
         "x": {
          "bdata": "AAAAAAAA+D8AAAAAAAAGQAAAAAAAABBAAAAAAAAAFUAAAAAAAAAaQA==",
          "dtype": "f8"
         },
         "y": {
          "bdata": "AAAAAAAA6z8AAAAAAICzvwAAAAAAAAAAAAAAAADw5b8AAAAAAID/Pw==",
          "dtype": "f8"
         }
        }
       ],
       "layout": {
        "autosize": false,
        "height": 600,
        "legend": {
         "tracegroupgap": 0
        },
        "margin": {
         "t": 60
        },
        "showlegend": false,
        "template": {
         "data": {
          "bar": [
           {
            "error_x": {
             "color": "#2a3f5f"
            },
            "error_y": {
             "color": "#2a3f5f"
            },
            "marker": {
             "line": {
              "color": "#E5ECF6",
              "width": 0.5
             },
             "pattern": {
              "fillmode": "overlay",
              "size": 10,
              "solidity": 0.2
             }
            },
            "type": "bar"
           }
          ],
          "barpolar": [
           {
            "marker": {
             "line": {
              "color": "#E5ECF6",
              "width": 0.5
             },
             "pattern": {
              "fillmode": "overlay",
              "size": 10,
              "solidity": 0.2
             }
            },
            "type": "barpolar"
           }
          ],
          "carpet": [
           {
            "aaxis": {
             "endlinecolor": "#2a3f5f",
             "gridcolor": "white",
             "linecolor": "white",
             "minorgridcolor": "white",
             "startlinecolor": "#2a3f5f"
            },
            "baxis": {
             "endlinecolor": "#2a3f5f",
             "gridcolor": "white",
             "linecolor": "white",
             "minorgridcolor": "white",
             "startlinecolor": "#2a3f5f"
            },
            "type": "carpet"
           }
          ],
          "choropleth": [
           {
            "colorbar": {
             "outlinewidth": 0,
             "ticks": ""
            },
            "type": "choropleth"
           }
          ],
          "contour": [
           {
            "colorbar": {
             "outlinewidth": 0,
             "ticks": ""
            },
            "colorscale": [
             [
              0,
              "#0d0887"
             ],
             [
              0.1111111111111111,
              "#46039f"
             ],
             [
              0.2222222222222222,
              "#7201a8"
             ],
             [
              0.3333333333333333,
              "#9c179e"
             ],
             [
              0.4444444444444444,
              "#bd3786"
             ],
             [
              0.5555555555555556,
              "#d8576b"
             ],
             [
              0.6666666666666666,
              "#ed7953"
             ],
             [
              0.7777777777777778,
              "#fb9f3a"
             ],
             [
              0.8888888888888888,
              "#fdca26"
             ],
             [
              1,
              "#f0f921"
             ]
            ],
            "type": "contour"
           }
          ],
          "contourcarpet": [
           {
            "colorbar": {
             "outlinewidth": 0,
             "ticks": ""
            },
            "type": "contourcarpet"
           }
          ],
          "heatmap": [
           {
            "colorbar": {
             "outlinewidth": 0,
             "ticks": ""
            },
            "colorscale": [
             [
              0,
              "#0d0887"
             ],
             [
              0.1111111111111111,
              "#46039f"
             ],
             [
              0.2222222222222222,
              "#7201a8"
             ],
             [
              0.3333333333333333,
              "#9c179e"
             ],
             [
              0.4444444444444444,
              "#bd3786"
             ],
             [
              0.5555555555555556,
              "#d8576b"
             ],
             [
              0.6666666666666666,
              "#ed7953"
             ],
             [
              0.7777777777777778,
              "#fb9f3a"
             ],
             [
              0.8888888888888888,
              "#fdca26"
             ],
             [
              1,
              "#f0f921"
             ]
            ],
            "type": "heatmap"
           }
          ],
          "histogram": [
           {
            "marker": {
             "pattern": {
              "fillmode": "overlay",
              "size": 10,
              "solidity": 0.2
             }
            },
            "type": "histogram"
           }
          ],
          "histogram2d": [
           {
            "colorbar": {
             "outlinewidth": 0,
             "ticks": ""
            },
            "colorscale": [
             [
              0,
              "#0d0887"
             ],
             [
              0.1111111111111111,
              "#46039f"
             ],
             [
              0.2222222222222222,
              "#7201a8"
             ],
             [
              0.3333333333333333,
              "#9c179e"
             ],
             [
              0.4444444444444444,
              "#bd3786"
             ],
             [
              0.5555555555555556,
              "#d8576b"
             ],
             [
              0.6666666666666666,
              "#ed7953"
             ],
             [
              0.7777777777777778,
              "#fb9f3a"
             ],
             [
              0.8888888888888888,
              "#fdca26"
             ],
             [
              1,
              "#f0f921"
             ]
            ],
            "type": "histogram2d"
           }
          ],
          "histogram2dcontour": [
           {
            "colorbar": {
             "outlinewidth": 0,
             "ticks": ""
            },
            "colorscale": [
             [
              0,
              "#0d0887"
             ],
             [
              0.1111111111111111,
              "#46039f"
             ],
             [
              0.2222222222222222,
              "#7201a8"
             ],
             [
              0.3333333333333333,
              "#9c179e"
             ],
             [
              0.4444444444444444,
              "#bd3786"
             ],
             [
              0.5555555555555556,
              "#d8576b"
             ],
             [
              0.6666666666666666,
              "#ed7953"
             ],
             [
              0.7777777777777778,
              "#fb9f3a"
             ],
             [
              0.8888888888888888,
              "#fdca26"
             ],
             [
              1,
              "#f0f921"
             ]
            ],
            "type": "histogram2dcontour"
           }
          ],
          "mesh3d": [
           {
            "colorbar": {
             "outlinewidth": 0,
             "ticks": ""
            },
            "type": "mesh3d"
           }
          ],
          "parcoords": [
           {
            "line": {
             "colorbar": {
              "outlinewidth": 0,
              "ticks": ""
             }
            },
            "type": "parcoords"
           }
          ],
          "pie": [
           {
            "automargin": true,
            "type": "pie"
           }
          ],
          "scatter": [
           {
            "fillpattern": {
             "fillmode": "overlay",
             "size": 10,
             "solidity": 0.2
            },
            "type": "scatter"
           }
          ],
          "scatter3d": [
           {
            "line": {
             "colorbar": {
              "outlinewidth": 0,
              "ticks": ""
             }
            },
            "marker": {
             "colorbar": {
              "outlinewidth": 0,
              "ticks": ""
             }
            },
            "type": "scatter3d"
           }
          ],
          "scattercarpet": [
           {
            "marker": {
             "colorbar": {
              "outlinewidth": 0,
              "ticks": ""
             }
            },
            "type": "scattercarpet"
           }
          ],
          "scattergeo": [
           {
            "marker": {
             "colorbar": {
              "outlinewidth": 0,
              "ticks": ""
             }
            },
            "type": "scattergeo"
           }
          ],
          "scattergl": [
           {
            "marker": {
             "colorbar": {
              "outlinewidth": 0,
              "ticks": ""
             }
            },
            "type": "scattergl"
           }
          ],
          "scattermap": [
           {
            "marker": {
             "colorbar": {
              "outlinewidth": 0,
              "ticks": ""
             }
            },
            "type": "scattermap"
           }
          ],
          "scattermapbox": [
           {
            "marker": {
             "colorbar": {
              "outlinewidth": 0,
              "ticks": ""
             }
            },
            "type": "scattermapbox"
           }
          ],
          "scatterpolar": [
           {
            "marker": {
             "colorbar": {
              "outlinewidth": 0,
              "ticks": ""
             }
            },
            "type": "scatterpolar"
           }
          ],
          "scatterpolargl": [
           {
            "marker": {
             "colorbar": {
              "outlinewidth": 0,
              "ticks": ""
             }
            },
            "type": "scatterpolargl"
           }
          ],
          "scatterternary": [
           {
            "marker": {
             "colorbar": {
              "outlinewidth": 0,
              "ticks": ""
             }
            },
            "type": "scatterternary"
           }
          ],
          "surface": [
           {
            "colorbar": {
             "outlinewidth": 0,
             "ticks": ""
            },
            "colorscale": [
             [
              0,
              "#0d0887"
             ],
             [
              0.1111111111111111,
              "#46039f"
             ],
             [
              0.2222222222222222,
              "#7201a8"
             ],
             [
              0.3333333333333333,
              "#9c179e"
             ],
             [
              0.4444444444444444,
              "#bd3786"
             ],
             [
              0.5555555555555556,
              "#d8576b"
             ],
             [
              0.6666666666666666,
              "#ed7953"
             ],
             [
              0.7777777777777778,
              "#fb9f3a"
             ],
             [
              0.8888888888888888,
              "#fdca26"
             ],
             [
              1,
              "#f0f921"
             ]
            ],
            "type": "surface"
           }
          ],
          "table": [
           {
            "cells": {
             "fill": {
              "color": "#EBF0F8"
             },
             "line": {
              "color": "white"
             }
            },
            "header": {
             "fill": {
              "color": "#C8D4E3"
             },
             "line": {
              "color": "white"
             }
            },
            "type": "table"
           }
          ]
         },
         "layout": {
          "annotationdefaults": {
           "arrowcolor": "#2a3f5f",
           "arrowhead": 0,
           "arrowwidth": 1
          },
          "autotypenumbers": "strict",
          "coloraxis": {
           "colorbar": {
            "outlinewidth": 0,
            "ticks": ""
           }
          },
          "colorscale": {
           "diverging": [
            [
             0,
             "#8e0152"
            ],
            [
             0.1,
             "#c51b7d"
            ],
            [
             0.2,
             "#de77ae"
            ],
            [
             0.3,
             "#f1b6da"
            ],
            [
             0.4,
             "#fde0ef"
            ],
            [
             0.5,
             "#f7f7f7"
            ],
            [
             0.6,
             "#e6f5d0"
            ],
            [
             0.7,
             "#b8e186"
            ],
            [
             0.8,
             "#7fbc41"
            ],
            [
             0.9,
             "#4d9221"
            ],
            [
             1,
             "#276419"
            ]
           ],
           "sequential": [
            [
             0,
             "#0d0887"
            ],
            [
             0.1111111111111111,
             "#46039f"
            ],
            [
             0.2222222222222222,
             "#7201a8"
            ],
            [
             0.3333333333333333,
             "#9c179e"
            ],
            [
             0.4444444444444444,
             "#bd3786"
            ],
            [
             0.5555555555555556,
             "#d8576b"
            ],
            [
             0.6666666666666666,
             "#ed7953"
            ],
            [
             0.7777777777777778,
             "#fb9f3a"
            ],
            [
             0.8888888888888888,
             "#fdca26"
            ],
            [
             1,
             "#f0f921"
            ]
           ],
           "sequentialminus": [
            [
             0,
             "#0d0887"
            ],
            [
             0.1111111111111111,
             "#46039f"
            ],
            [
             0.2222222222222222,
             "#7201a8"
            ],
            [
             0.3333333333333333,
             "#9c179e"
            ],
            [
             0.4444444444444444,
             "#bd3786"
            ],
            [
             0.5555555555555556,
             "#d8576b"
            ],
            [
             0.6666666666666666,
             "#ed7953"
            ],
            [
             0.7777777777777778,
             "#fb9f3a"
            ],
            [
             0.8888888888888888,
             "#fdca26"
            ],
            [
             1,
             "#f0f921"
            ]
           ]
          },
          "colorway": [
           "#636efa",
           "#EF553B",
           "#00cc96",
           "#ab63fa",
           "#FFA15A",
           "#19d3f3",
           "#FF6692",
           "#B6E880",
           "#FF97FF",
           "#FECB52"
          ],
          "font": {
           "color": "#2a3f5f"
          },
          "geo": {
           "bgcolor": "white",
           "lakecolor": "white",
           "landcolor": "#E5ECF6",
           "showlakes": true,
           "showland": true,
           "subunitcolor": "white"
          },
          "hoverlabel": {
           "align": "left"
          },
          "hovermode": "closest",
          "mapbox": {
           "style": "light"
          },
          "paper_bgcolor": "white",
          "plot_bgcolor": "#E5ECF6",
          "polar": {
           "angularaxis": {
            "gridcolor": "white",
            "linecolor": "white",
            "ticks": ""
           },
           "bgcolor": "#E5ECF6",
           "radialaxis": {
            "gridcolor": "white",
            "linecolor": "white",
            "ticks": ""
           }
          },
          "scene": {
           "xaxis": {
            "backgroundcolor": "#E5ECF6",
            "gridcolor": "white",
            "gridwidth": 2,
            "linecolor": "white",
            "showbackground": true,
            "ticks": "",
            "zerolinecolor": "white"
           },
           "yaxis": {
            "backgroundcolor": "#E5ECF6",
            "gridcolor": "white",
            "gridwidth": 2,
            "linecolor": "white",
            "showbackground": true,
            "ticks": "",
            "zerolinecolor": "white"
           },
           "zaxis": {
            "backgroundcolor": "#E5ECF6",
            "gridcolor": "white",
            "gridwidth": 2,
            "linecolor": "white",
            "showbackground": true,
            "ticks": "",
            "zerolinecolor": "white"
           }
          },
          "shapedefaults": {
           "line": {
            "color": "#2a3f5f"
           }
          },
          "ternary": {
           "aaxis": {
            "gridcolor": "white",
            "linecolor": "white",
            "ticks": ""
           },
           "baxis": {
            "gridcolor": "white",
            "linecolor": "white",
            "ticks": ""
           },
           "bgcolor": "#E5ECF6",
           "caxis": {
            "gridcolor": "white",
            "linecolor": "white",
            "ticks": ""
           }
          },
          "title": {
           "x": 0.05
          },
          "xaxis": {
           "automargin": true,
           "gridcolor": "white",
           "linecolor": "white",
           "ticks": "",
           "title": {
            "standoff": 15
           },
           "zerolinecolor": "white",
           "zerolinewidth": 2
          },
          "yaxis": {
           "automargin": true,
           "gridcolor": "white",
           "linecolor": "white",
           "ticks": "",
           "title": {
            "standoff": 15
           },
           "zerolinecolor": "white",
           "zerolinewidth": 2
          }
         }
        },
        "width": 800,
        "xaxis": {
         "anchor": "y",
         "domain": [
          0,
          1
         ],
         "title": {
          "text": "x"
         }
        },
        "yaxis": {
         "anchor": "x",
         "domain": [
          0,
          1
         ],
         "title": {
          "text": "y"
         }
        }
       }
      }
     },
     "metadata": {},
     "output_type": "display_data"
    }
   ],
   "source": [
    "xs = np.linspace(1, 7, 200)\n",
    "sparse_xs = np.linspace(1.5, 6.5, 5)\n",
    "\n",
    "ys = f(xs)\n",
    "sparse_ys = f(sparse_xs)\n",
    "\n",
    "fig = px.line(x = xs, y = f(xs))\n",
    "fig.add_scatter(x = sparse_xs, y = f(sparse_xs), mode = \"markers\", marker_size=16)\n",
    "fig.update_layout(showlegend= False)\n",
    "fig.update_layout(autosize=False, width=800, height=600)\n",
    "fig.show()"
   ]
  },
  {
   "cell_type": "markdown",
   "metadata": {},
   "source": [
    "This basic approach suffers from three major flaws:\n",
    "1. If the minimum is outside our range of guesses, the answer will be completely wrong.\n",
    "2. Even if our range of guesses is correct, if the guesses are too coarse, our answer will be inaccurate.\n",
    "3. It is not computationally efficient, considering potentially vast numbers of bad guesses"
   ]
  },
  {
   "cell_type": "markdown",
   "metadata": {},
   "source": [
    "<br/><br/><br/>\n",
    "\n",
    "\n",
    "### `scipy.optimize.minimize`"
   ]
  },
  {
   "cell_type": "markdown",
   "metadata": {},
   "source": [
    "One way to minimize this mathematical function is to use the `scipy.optimize.minimize` function. It takes a function and a starting guess and tries to find the minimum."
   ]
  },
  {
   "cell_type": "code",
   "execution_count": null,
   "metadata": {},
   "outputs": [
    {
     "data": {
      "text/plain": [
       "  message: Optimization terminated successfully.\n",
       "  success: True\n",
       "   status: 0\n",
       "      fun: -0.13827491292966557\n",
       "        x: [ 2.393e+00]\n",
       "      nit: 3\n",
       "      jac: [ 6.486e-06]\n",
       " hess_inv: [[ 7.385e-01]]\n",
       "     nfev: 20\n",
       "     njev: 10"
      ]
     },
     "execution_count": 182,
     "metadata": {},
     "output_type": "execute_result"
    }
   ],
   "source": [
    "from scipy.optimize import minimize\n",
    "\n",
    "# x0 is a starting guess for the value of x that minimizes f.\n",
    "# minimize() will iteratively try to improve this guess.\n",
    "# Don't worry about all of the details of the output.\n",
    "# The important part is \"x\", the value of x that minimizes f.\n",
    "minimize(f, x0 = 3.5)"
   ]
  },
  {
   "cell_type": "markdown",
   "metadata": {},
   "source": [
    "How can this one line of code find the minimum of any mathematical function so quickly? \n",
    "\n",
    "Behind the scenes, `scipy.optimize.minimize` uses a collection of techniques to compute the minimizing value of a function. Many of these techniques operate on numerical approximations to the gradient.\n",
    "\n",
    "In this lecture, we will learn the basics of gradient descent, then implement it ourselves."
   ]
  },
  {
   "cell_type": "markdown",
   "metadata": {},
   "source": [
    "<br><br><br>\n",
    "\n",
    "**Instructor Note: Return to Lecture!**"
   ]
  },
  {
   "cell_type": "markdown",
   "metadata": {},
   "source": [
    "\n",
    "<br><br>\n",
    "<hr style=\"border: 5px solid #003262;\" />\n",
    "<hr style=\"border: 1px solid #fdb515;\" />\n",
    "\n",
    "\n",
    "\n",
    "# Descending with Derivatives\n",
    "\n",
    "\n",
    "Instead of choosing all of our guesses ahead of time, we can instead start from a single guess and try to iteratively improve on our choice. \n",
    "\n",
    "The key insight: \n",
    "\n",
    "- If the derivative of the function is negative, that means the function is decreasing, so we should go to the right (i.e., pick a bigger x). \n",
    "\n",
    "- If the derivative of the function is positive, that means the function is increasing, so we should go to the left (i.e., pick a smaller x).\n",
    "\n",
    "Thus, the derivative tells us which way to go.\n",
    "\n",
    "Desmos demo: [https://www.desmos.com/calculator/twpnylu4lr](https://www.desmos.com/calculator/twpnylu4lr)"
   ]
  },
  {
   "cell_type": "markdown",
   "metadata": {},
   "source": [
    "Taking the derivative of my arbitrary function:\n",
    "\n",
    "\\begin{align}\n",
    "f(x) & = \\frac{1}{10}\\left(x^4 - 15x^3 + 80 x^2 - 180x + 144\\right)\\\\\n",
    "\\frac{d}{d x} f(x) & = \\frac{1}{10}\\left(4x^3 - 45x^2 + 160 x - 180\\right)\\\\\n",
    "\\end{align}"
   ]
  },
  {
   "cell_type": "code",
   "execution_count": null,
   "metadata": {},
   "outputs": [],
   "source": [
    "def deriv_f(x):\n",
    "    return (1/10) * (4*x**3 - 45*x**2 + 160*x - 180)"
   ]
  },
  {
   "cell_type": "code",
   "execution_count": null,
   "metadata": {},
   "outputs": [
    {
     "data": {
      "application/vnd.plotly.v1+json": {
       "config": {
        "plotlyServerURL": "https://plot.ly"
       },
       "data": [
        {
         "mode": "lines",
         "name": "f",
         "type": "scatter",
         "x": {
          "bdata": "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",
          "dtype": "f8"
         },
         "y": {
          "bdata": "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",
          "dtype": "f8"
         }
        },
        {
         "line": {
          "dash": "dash"
         },
         "mode": "lines",
         "name": "f'",
         "type": "scatter",
         "x": {
          "bdata": "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",
          "dtype": "f8"
         },
         "y": {
          "bdata": "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",
          "dtype": "f8"
         }
        },
        {
         "mode": "lines",
         "name": "f(x) = 0",
         "type": "scatter",
         "x": {
          "bdata": "AAAAAAAA8D/iMFZbf3vwP8VhrLb+9vA/p5ICEn5y8T+Kw1ht/e3xP2z0rsh8afI/TiUFJPzk8j8xVlt/e2DzPxOHsdr62/M/9rcHNnpX9D/Y6F2R+dL0P7oZtOx4TvU/nUoKSPjJ9T9/e2Cjd0X2P2Kstv72wPY/RN0MWnY89z8mDmO19bf3Pwk/uRB1M/g/7G8PbPSu+D/OoGXHcyr5P7DRuyLzpfk/kgISfnIh+j91M2jZ8Zz6P1hkvjRxGPs/OpUUkPCT+z8cxmrrbw/8P/72wEbvivw/4ScXom4G/T/EWG397YH9P6aJw1ht/f0/iLoZtOx4/j9q628PbPT+P00cxmrrb/8/ME0cxmrr/z8JP7kQdTMAQHpXZL40cQBA7G8PbPSuAEBciLoZtOwAQM6gZcdzKgFAP7kQdTNoAUCw0bsi86UBQCLqZtCy4wFAkgISfnIhAkAEG70rMl8CQHUzaNnxnAJA5ksTh7HaAkBYZL40cRgDQMh8aeIwVgNAOpUUkPCTA0Crrb89sNEDQBzGautvDwRAjt4VmS9NBED+9sBG74oEQHAPbPSuyARA4ScXom4GBUBSQMJPLkQFQMRYbf3tgQVANHEYq62/BUCmicNYbf0FQBeibgYtOwZAiLoZtOx4BkD60sRhrLYGQGrrbw9s9AZA3AMbvSsyB0BNHMZq628HQL40cRirrQdAME0cxmrrB0ChZcdzKikIQBJ+ciHqZghAg5Ydz6mkCED0rsh8aeIIQGXHcyopIAlA198e2OhdCUBI+MmFqJsJQLkQdTNo2QlAKikg4ScXCkCbQcuO51QKQA1adjynkgpAfnIh6mbQCkDvisyXJg4LQGCjd0XmSwtA0bsi86WJC0BD1M2gZccLQLTseE4lBQxAJQUk/ORCDECWHc+ppIAMQAc2eldkvgxAeU4lBST8DEDqZtCy4zkNQFt/e2Cjdw1AzJcmDmO1DUA9sNG7IvMNQK/IfGniMA5AIOEnF6JuDkCR+dLEYawOQAISfnIh6g5AdCopIOEnD0DlQtTNoGUPQFZbf3tgow9Ax3MqKSDhD0Acxmrrbw8QQFVSQMJPLhBAjt4VmS9NEEDGautvD2wQQP72wEbvihBAN4OWHc+pEEBwD2z0rsgQQKibQcuO5xBA4ScXom4GEUAatOx4TiURQFJAwk8uRBFAi8yXJg5jEUDEWG397YERQPzkQtTNoBFANHEYq62/EUBt/e2Bjd4RQKaJw1ht/RFA3hWZL00cEkAXom4GLTsSQFAuRN0MWhJAiLoZtOx4EkDBRu+KzJcSQPrSxGGsthJAMl+aOIzVEkBq628PbPQSQKN3ReZLExNA3AMbvSsyE0AUkPCTC1ETQE0cxmrrbxNAhqibQcuOE0C+NHEYq60TQPfARu+KzBNAME0cxmrrE0Bo2fGcSgoUQKFlx3MqKRRA2fGcSgpIFEASfnIh6mYUQEoKSPjJhRRAg5Ydz6mkFEC8IvOlicMUQPSuyHxp4hRALTueU0kBFUBlx3MqKSAVQJ5TSQEJPxVA198e2OhdFUAPbPSuyHwVQEj4yYWomxVAgISfXIi6FUC5EHUzaNkVQPKcSgpI+BVAKikg4ScXFkBjtfW3BzYWQJtBy47nVBZA1M2gZcdzFkANWnY8p5IWQEXmSxOHsRZAfnIh6mbQFkC2/vbARu8WQO+KzJcmDhdAKBeibgYtF0Bgo3dF5ksXQJkvTRzGahdA0bsi86WJF0AKSPjJhagXQEPUzaBlxxdAe2Cjd0XmF0C07HhOJQUYQOx4TiUFJBhAJQUk/ORCGEBekfnSxGEYQJYdz6mkgBhAz6mkgISfGEAHNnpXZL4YQEDCTy5E3RhAeU4lBST8GECx2vrbAxsZQOpm0LLjORlAIvOlicNYGUBbf3tgo3cZQJQLUTeDlhlAzJcmDmO1GUAFJPzkQtQZQD2w0bsi8xlAdjynkgISGkCvyHxp4jAaQOdUUkDCTxpAIOEnF6JuGkBYbf3tgY0aQJH50sRhrBpAyoWom0HLGkACEn5yIeoaQDueU0kBCRtAdCopIOEnG0Cstv72wEYbQOVC1M2gZRtAHc+ppICEG0BWW397YKMbQI/nVFJAwhtAx3MqKSDhG0AAAAAAAAAcQA==",
          "dtype": "f8"
         },
         "y": {
          "bdata": "AAAAAAAAAAAAAAAAAAAAAAAAAAAAAAAAAAAAAAAAAAAAAAAAAAAAAAAAAAAAAAAAAAAAAAAAAAAAAAAAAAAAAAAAAAAAAAAAAAAAAAAAAAAAAAAAAAAAAAAAAAAAAAAAAAAAAAAAAAAAAAAAAAAAAAAAAAAAAAAAAAAAAAAAAAAAAAAAAAAAAAAAAAAAAAAAAAAAAAAAAAAAAAAAAAAAAAAAAAAAAAAAAAAAAAAAAAAAAAAAAAAAAAAAAAAAAAAAAAAAAAAAAAAAAAAAAAAAAAAAAAAAAAAAAAAAAAAAAAAAAAAAAAAAAAAAAAAAAAAAAAAAAAAAAAAAAAAAAAAAAAAAAAAAAAAAAAAAAAAAAAAAAAAAAAAAAAAAAAAAAAAAAAAAAAAAAAAAAAAAAAAAAAAAAAAAAAAAAAAAAAAAAAAAAAAAAAAAAAAAAAAAAAAAAAAAAAAAAAAAAAAAAAAAAAAAAAAAAAAAAAAAAAAAAAAAAAAAAAAAAAAAAAAAAAAAAAAAAAAAAAAAAAAAAAAAAAAAAAAAAAAAAAAAAAAAAAAAAAAAAAAAAAAAAAAAAAAAAAAAAAAAAAAAAAAAAAAAAAAAAAAAAAAAAAAAAAAAAAAAAAAAAAAAAAAAAAAAAAAAAAAAAAAAAAAAAAAAAAAAAAAAAAAAAAAAAAAAAAAAAAAAAAAAAAAAAAAAAAAAAAAAAAAAAAAAAAAAAAAAAAAAAAAAAAAAAAAAAAAAAAAAAAAAAAAAAAAAAAAAAAAAAAAAAAAAAAAAAAAAAAAAAAAAAAAAAAAAAAAAAAAAAAAAAAAAAAAAAAAAAAAAAAAAAAAAAAAAAAAAAAAAAAAAAAAAAAAAAAAAAAAAAAAAAAAAAAAAAAAAAAAAAAAAAAAAAAAAAAAAAAAAAAAAAAAAAAAAAAAAAAAAAAAAAAAAAAAAAAAAAAAAAAAAAAAAAAAAAAAAAAAAAAAAAAAAAAAAAAAAAAAAAAAAAAAAAAAAAAAAAAAAAAAAAAAAAAAAAAAAAAAAAAAAAAAAAAAAAAAAAAAAAAAAAAAAAAAAAAAAAAAAAAAAAAAAAAAAAAAAAAAAAAAAAAAAAAAAAAAAAAAAAAAAAAAAAAAAAAAAAAAAAAAAAAAAAAAAAAAAAAAAAAAAAAAAAAAAAAAAAAAAAAAAAAAAAAAAAAAAAAAAAAAAAAAAAAAAAAAAAAAAAAAAAAAAAAAAAAAAAAAAAAAAAAAAAAAAAAAAAAAAAAAAAAAAAAAAAAAAAAAAAAAAAAAAAAAAAAAAAAAAAAAAAAAAAAAAAAAAAAAAAAAAAAAAAAAAAAAAAAAAAAAAAAAAAAAAAAAAAAAAAAAAAAAAAAAAAAAAAAAAAAAAAAAAAAAAAAAAAAAAAAAAAAAAAAAAAAAAAAAAAAAAAAAAAAAAAAAAAAAAAAAAAAAAAAAAAAAAAAAAAAAAAAAAAAAAAAAAAAAAAAAAAAAAAAAAAAAAAAAAAAAAAAAAAAAAAAAAAAAAAAAAAAAAAAAAAAAAAAAAAAAAAAAAAAAAAAAAAAAAAAAAAAAAAAAAAAAAAAAAAAAAAAAAAAAAAAAAAAAAAAAAAAAAAAAAAAAAAAAAAAAAAAAAAAAAAAAAAAAAAAAAAAAAAAAAAAAAAAAAAAAAAAAAAAAAAAAAAAAAAAAAAAAAAAAAAAAAAAAAAAAAAAAAAAAAAAAAAAAAAAAAAAAAAAAAAAAAAAAAAAAAAAAAAAAAAAAAAAAAAAAAAAAAAAAAAAAAAAAAAAAAAAAAAAAAAAAAAAAAAAAAAAAAAAAAAAAAAAAAAAAAAAAAAAAAAAAAAAAAAAAAAAAAAAAAAAAAAAAAAAAAAAAAAAAAAAAAAAAAAAAAAAAAAAAAAAAAAAAAAAAAAAAAAAAAAAAAAAAAAAAAAAAAAAAAAAAAAAAAAAAAAAAAAAAAAAAAAAAAAAAAAAAAAAAAAAAAAAAAAAAAAAAAAAAAAAAAAAAAAAAAAAAAAAAAAAAAAAAAAAAAAAAAAAAAAAAAAAAAAAAAAAAAAAAAAAAAAAAAAAAAAAAAAAAAAAAAAAAAAAAAAAAAAAAAAAAAAAAAAAAAAAAAAAAAAAAAAAAAAAAAAAAAAAAAAAAAAAAAAAAAAAAAAA==",
          "dtype": "f8"
         }
        },
        {
         "marker": {
          "size": 12
         },
         "mode": "markers",
         "name": "f'(x) = 0",
         "type": "scatter",
         "x": {
          "bdata": "FR3J5T8kA0A6kst/SD8MQDy9UpYhThVA",
          "dtype": "f8"
         },
         "y": {
          "bdata": "AAAAAAAAAAAAAAAAAAAAAAAAAAAAAAAA",
          "dtype": "f8"
         }
        }
       ],
       "layout": {
        "autosize": false,
        "font": {
         "size": 20
        },
        "height": 600,
        "template": {
         "data": {
          "bar": [
           {
            "error_x": {
             "color": "#2a3f5f"
            },
            "error_y": {
             "color": "#2a3f5f"
            },
            "marker": {
             "line": {
              "color": "#E5ECF6",
              "width": 0.5
             },
             "pattern": {
              "fillmode": "overlay",
              "size": 10,
              "solidity": 0.2
             }
            },
            "type": "bar"
           }
          ],
          "barpolar": [
           {
            "marker": {
             "line": {
              "color": "#E5ECF6",
              "width": 0.5
             },
             "pattern": {
              "fillmode": "overlay",
              "size": 10,
              "solidity": 0.2
             }
            },
            "type": "barpolar"
           }
          ],
          "carpet": [
           {
            "aaxis": {
             "endlinecolor": "#2a3f5f",
             "gridcolor": "white",
             "linecolor": "white",
             "minorgridcolor": "white",
             "startlinecolor": "#2a3f5f"
            },
            "baxis": {
             "endlinecolor": "#2a3f5f",
             "gridcolor": "white",
             "linecolor": "white",
             "minorgridcolor": "white",
             "startlinecolor": "#2a3f5f"
            },
            "type": "carpet"
           }
          ],
          "choropleth": [
           {
            "colorbar": {
             "outlinewidth": 0,
             "ticks": ""
            },
            "type": "choropleth"
           }
          ],
          "contour": [
           {
            "colorbar": {
             "outlinewidth": 0,
             "ticks": ""
            },
            "colorscale": [
             [
              0,
              "#0d0887"
             ],
             [
              0.1111111111111111,
              "#46039f"
             ],
             [
              0.2222222222222222,
              "#7201a8"
             ],
             [
              0.3333333333333333,
              "#9c179e"
             ],
             [
              0.4444444444444444,
              "#bd3786"
             ],
             [
              0.5555555555555556,
              "#d8576b"
             ],
             [
              0.6666666666666666,
              "#ed7953"
             ],
             [
              0.7777777777777778,
              "#fb9f3a"
             ],
             [
              0.8888888888888888,
              "#fdca26"
             ],
             [
              1,
              "#f0f921"
             ]
            ],
            "type": "contour"
           }
          ],
          "contourcarpet": [
           {
            "colorbar": {
             "outlinewidth": 0,
             "ticks": ""
            },
            "type": "contourcarpet"
           }
          ],
          "heatmap": [
           {
            "colorbar": {
             "outlinewidth": 0,
             "ticks": ""
            },
            "colorscale": [
             [
              0,
              "#0d0887"
             ],
             [
              0.1111111111111111,
              "#46039f"
             ],
             [
              0.2222222222222222,
              "#7201a8"
             ],
             [
              0.3333333333333333,
              "#9c179e"
             ],
             [
              0.4444444444444444,
              "#bd3786"
             ],
             [
              0.5555555555555556,
              "#d8576b"
             ],
             [
              0.6666666666666666,
              "#ed7953"
             ],
             [
              0.7777777777777778,
              "#fb9f3a"
             ],
             [
              0.8888888888888888,
              "#fdca26"
             ],
             [
              1,
              "#f0f921"
             ]
            ],
            "type": "heatmap"
           }
          ],
          "histogram": [
           {
            "marker": {
             "pattern": {
              "fillmode": "overlay",
              "size": 10,
              "solidity": 0.2
             }
            },
            "type": "histogram"
           }
          ],
          "histogram2d": [
           {
            "colorbar": {
             "outlinewidth": 0,
             "ticks": ""
            },
            "colorscale": [
             [
              0,
              "#0d0887"
             ],
             [
              0.1111111111111111,
              "#46039f"
             ],
             [
              0.2222222222222222,
              "#7201a8"
             ],
             [
              0.3333333333333333,
              "#9c179e"
             ],
             [
              0.4444444444444444,
              "#bd3786"
             ],
             [
              0.5555555555555556,
              "#d8576b"
             ],
             [
              0.6666666666666666,
              "#ed7953"
             ],
             [
              0.7777777777777778,
              "#fb9f3a"
             ],
             [
              0.8888888888888888,
              "#fdca26"
             ],
             [
              1,
              "#f0f921"
             ]
            ],
            "type": "histogram2d"
           }
          ],
          "histogram2dcontour": [
           {
            "colorbar": {
             "outlinewidth": 0,
             "ticks": ""
            },
            "colorscale": [
             [
              0,
              "#0d0887"
             ],
             [
              0.1111111111111111,
              "#46039f"
             ],
             [
              0.2222222222222222,
              "#7201a8"
             ],
             [
              0.3333333333333333,
              "#9c179e"
             ],
             [
              0.4444444444444444,
              "#bd3786"
             ],
             [
              0.5555555555555556,
              "#d8576b"
             ],
             [
              0.6666666666666666,
              "#ed7953"
             ],
             [
              0.7777777777777778,
              "#fb9f3a"
             ],
             [
              0.8888888888888888,
              "#fdca26"
             ],
             [
              1,
              "#f0f921"
             ]
            ],
            "type": "histogram2dcontour"
           }
          ],
          "mesh3d": [
           {
            "colorbar": {
             "outlinewidth": 0,
             "ticks": ""
            },
            "type": "mesh3d"
           }
          ],
          "parcoords": [
           {
            "line": {
             "colorbar": {
              "outlinewidth": 0,
              "ticks": ""
             }
            },
            "type": "parcoords"
           }
          ],
          "pie": [
           {
            "automargin": true,
            "type": "pie"
           }
          ],
          "scatter": [
           {
            "fillpattern": {
             "fillmode": "overlay",
             "size": 10,
             "solidity": 0.2
            },
            "type": "scatter"
           }
          ],
          "scatter3d": [
           {
            "line": {
             "colorbar": {
              "outlinewidth": 0,
              "ticks": ""
             }
            },
            "marker": {
             "colorbar": {
              "outlinewidth": 0,
              "ticks": ""
             }
            },
            "type": "scatter3d"
           }
          ],
          "scattercarpet": [
           {
            "marker": {
             "colorbar": {
              "outlinewidth": 0,
              "ticks": ""
             }
            },
            "type": "scattercarpet"
           }
          ],
          "scattergeo": [
           {
            "marker": {
             "colorbar": {
              "outlinewidth": 0,
              "ticks": ""
             }
            },
            "type": "scattergeo"
           }
          ],
          "scattergl": [
           {
            "marker": {
             "colorbar": {
              "outlinewidth": 0,
              "ticks": ""
             }
            },
            "type": "scattergl"
           }
          ],
          "scattermap": [
           {
            "marker": {
             "colorbar": {
              "outlinewidth": 0,
              "ticks": ""
             }
            },
            "type": "scattermap"
           }
          ],
          "scattermapbox": [
           {
            "marker": {
             "colorbar": {
              "outlinewidth": 0,
              "ticks": ""
             }
            },
            "type": "scattermapbox"
           }
          ],
          "scatterpolar": [
           {
            "marker": {
             "colorbar": {
              "outlinewidth": 0,
              "ticks": ""
             }
            },
            "type": "scatterpolar"
           }
          ],
          "scatterpolargl": [
           {
            "marker": {
             "colorbar": {
              "outlinewidth": 0,
              "ticks": ""
             }
            },
            "type": "scatterpolargl"
           }
          ],
          "scatterternary": [
           {
            "marker": {
             "colorbar": {
              "outlinewidth": 0,
              "ticks": ""
             }
            },
            "type": "scatterternary"
           }
          ],
          "surface": [
           {
            "colorbar": {
             "outlinewidth": 0,
             "ticks": ""
            },
            "colorscale": [
             [
              0,
              "#0d0887"
             ],
             [
              0.1111111111111111,
              "#46039f"
             ],
             [
              0.2222222222222222,
              "#7201a8"
             ],
             [
              0.3333333333333333,
              "#9c179e"
             ],
             [
              0.4444444444444444,
              "#bd3786"
             ],
             [
              0.5555555555555556,
              "#d8576b"
             ],
             [
              0.6666666666666666,
              "#ed7953"
             ],
             [
              0.7777777777777778,
              "#fb9f3a"
             ],
             [
              0.8888888888888888,
              "#fdca26"
             ],
             [
              1,
              "#f0f921"
             ]
            ],
            "type": "surface"
           }
          ],
          "table": [
           {
            "cells": {
             "fill": {
              "color": "#EBF0F8"
             },
             "line": {
              "color": "white"
             }
            },
            "header": {
             "fill": {
              "color": "#C8D4E3"
             },
             "line": {
              "color": "white"
             }
            },
            "type": "table"
           }
          ]
         },
         "layout": {
          "annotationdefaults": {
           "arrowcolor": "#2a3f5f",
           "arrowhead": 0,
           "arrowwidth": 1
          },
          "autotypenumbers": "strict",
          "coloraxis": {
           "colorbar": {
            "outlinewidth": 0,
            "ticks": ""
           }
          },
          "colorscale": {
           "diverging": [
            [
             0,
             "#8e0152"
            ],
            [
             0.1,
             "#c51b7d"
            ],
            [
             0.2,
             "#de77ae"
            ],
            [
             0.3,
             "#f1b6da"
            ],
            [
             0.4,
             "#fde0ef"
            ],
            [
             0.5,
             "#f7f7f7"
            ],
            [
             0.6,
             "#e6f5d0"
            ],
            [
             0.7,
             "#b8e186"
            ],
            [
             0.8,
             "#7fbc41"
            ],
            [
             0.9,
             "#4d9221"
            ],
            [
             1,
             "#276419"
            ]
           ],
           "sequential": [
            [
             0,
             "#0d0887"
            ],
            [
             0.1111111111111111,
             "#46039f"
            ],
            [
             0.2222222222222222,
             "#7201a8"
            ],
            [
             0.3333333333333333,
             "#9c179e"
            ],
            [
             0.4444444444444444,
             "#bd3786"
            ],
            [
             0.5555555555555556,
             "#d8576b"
            ],
            [
             0.6666666666666666,
             "#ed7953"
            ],
            [
             0.7777777777777778,
             "#fb9f3a"
            ],
            [
             0.8888888888888888,
             "#fdca26"
            ],
            [
             1,
             "#f0f921"
            ]
           ],
           "sequentialminus": [
            [
             0,
             "#0d0887"
            ],
            [
             0.1111111111111111,
             "#46039f"
            ],
            [
             0.2222222222222222,
             "#7201a8"
            ],
            [
             0.3333333333333333,
             "#9c179e"
            ],
            [
             0.4444444444444444,
             "#bd3786"
            ],
            [
             0.5555555555555556,
             "#d8576b"
            ],
            [
             0.6666666666666666,
             "#ed7953"
            ],
            [
             0.7777777777777778,
             "#fb9f3a"
            ],
            [
             0.8888888888888888,
             "#fdca26"
            ],
            [
             1,
             "#f0f921"
            ]
           ]
          },
          "colorway": [
           "#636efa",
           "#EF553B",
           "#00cc96",
           "#ab63fa",
           "#FFA15A",
           "#19d3f3",
           "#FF6692",
           "#B6E880",
           "#FF97FF",
           "#FECB52"
          ],
          "font": {
           "color": "#2a3f5f"
          },
          "geo": {
           "bgcolor": "white",
           "lakecolor": "white",
           "landcolor": "#E5ECF6",
           "showlakes": true,
           "showland": true,
           "subunitcolor": "white"
          },
          "hoverlabel": {
           "align": "left"
          },
          "hovermode": "closest",
          "mapbox": {
           "style": "light"
          },
          "paper_bgcolor": "white",
          "plot_bgcolor": "#E5ECF6",
          "polar": {
           "angularaxis": {
            "gridcolor": "white",
            "linecolor": "white",
            "ticks": ""
           },
           "bgcolor": "#E5ECF6",
           "radialaxis": {
            "gridcolor": "white",
            "linecolor": "white",
            "ticks": ""
           }
          },
          "scene": {
           "xaxis": {
            "backgroundcolor": "#E5ECF6",
            "gridcolor": "white",
            "gridwidth": 2,
            "linecolor": "white",
            "showbackground": true,
            "ticks": "",
            "zerolinecolor": "white"
           },
           "yaxis": {
            "backgroundcolor": "#E5ECF6",
            "gridcolor": "white",
            "gridwidth": 2,
            "linecolor": "white",
            "showbackground": true,
            "ticks": "",
            "zerolinecolor": "white"
           },
           "zaxis": {
            "backgroundcolor": "#E5ECF6",
            "gridcolor": "white",
            "gridwidth": 2,
            "linecolor": "white",
            "showbackground": true,
            "ticks": "",
            "zerolinecolor": "white"
           }
          },
          "shapedefaults": {
           "line": {
            "color": "#2a3f5f"
           }
          },
          "ternary": {
           "aaxis": {
            "gridcolor": "white",
            "linecolor": "white",
            "ticks": ""
           },
           "baxis": {
            "gridcolor": "white",
            "linecolor": "white",
            "ticks": ""
           },
           "bgcolor": "#E5ECF6",
           "caxis": {
            "gridcolor": "white",
            "linecolor": "white",
            "ticks": ""
           }
          },
          "title": {
           "x": 0.05
          },
          "xaxis": {
           "automargin": true,
           "gridcolor": "white",
           "linecolor": "white",
           "ticks": "",
           "title": {
            "standoff": 15
           },
           "zerolinecolor": "white",
           "zerolinewidth": 2
          },
          "yaxis": {
           "automargin": true,
           "gridcolor": "white",
           "linecolor": "white",
           "ticks": "",
           "title": {
            "standoff": 15
           },
           "zerolinecolor": "white",
           "zerolinewidth": 2
          }
         }
        },
        "width": 800,
        "yaxis": {
         "range": [
          -1,
          3
         ]
        }
       }
      }
     },
     "metadata": {},
     "output_type": "display_data"
    }
   ],
   "source": [
    "f_line = go.Scatter(x = xs, y = f(xs), mode = \"lines\", name = \"f\")\n",
    "derivative_line = go.Scatter(x = xs, y = deriv_f(xs), \n",
    "                             mode = \"lines\", name = \"f'\", line = {\"dash\": \"dash\"})\n",
    "# add horizontal line at 0\n",
    "zero_line = go.Scatter(x = xs, y = 0*xs, mode = \"lines\", name='f(x) = 0')\n",
    "roots = np.array([2.3927, 3.5309, 5.3263]) # computed using algorithm\n",
    "root_markers = go.Scatter(x = np.array(roots), y = 0*roots, \n",
    "                         mode = \"markers\", name = \"f'(x) = 0\", marker_size = 12)\n",
    "\n",
    "fig = go.Figure()\n",
    "fig.add_traces([f_line, derivative_line, zero_line, root_markers])\n",
    "fig.update_layout(font_size = 20, yaxis_range=[-1, 3])\n",
    "fig.update_layout(autosize=False, width=800, height=600)\n",
    "fig.show()"
   ]
  },
  {
   "cell_type": "markdown",
   "metadata": {},
   "source": [
    "How does the derivative at a point show which the direction to move?"
   ]
  },
  {
   "cell_type": "code",
   "execution_count": null,
   "metadata": {},
   "outputs": [
    {
     "data": {
      "application/vnd.plotly.v1+json": {
       "config": {
        "plotlyServerURL": "https://plot.ly"
       },
       "data": [
        {
         "mode": "lines",
         "name": "f",
         "type": "scatter",
         "x": {
          "bdata": "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",
          "dtype": "f8"
         },
         "y": {
          "bdata": "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",
          "dtype": "f8"
         }
        },
        {
         "marker": {
          "angleref": "previous",
          "size": 10,
          "symbol": "arrow-bar-up"
         },
         "name": "-f'(x0)",
         "type": "scatter",
         "x": [
          4.3,
          4.9021999999999935
         ],
         "y": [
          -0.15249000000000024,
          -0.15249000000000024
         ]
        },
        {
         "marker": {
          "color": "green",
          "size": 12
         },
         "mode": "markers",
         "name": "x0",
         "type": "scatter",
         "x": [
          4.3
         ],
         "y": [
          -0.15249000000000024
         ]
        }
       ],
       "layout": {
        "autosize": false,
        "font": {
         "size": 20
        },
        "height": 600,
        "template": {
         "data": {
          "bar": [
           {
            "error_x": {
             "color": "#2a3f5f"
            },
            "error_y": {
             "color": "#2a3f5f"
            },
            "marker": {
             "line": {
              "color": "#E5ECF6",
              "width": 0.5
             },
             "pattern": {
              "fillmode": "overlay",
              "size": 10,
              "solidity": 0.2
             }
            },
            "type": "bar"
           }
          ],
          "barpolar": [
           {
            "marker": {
             "line": {
              "color": "#E5ECF6",
              "width": 0.5
             },
             "pattern": {
              "fillmode": "overlay",
              "size": 10,
              "solidity": 0.2
             }
            },
            "type": "barpolar"
           }
          ],
          "carpet": [
           {
            "aaxis": {
             "endlinecolor": "#2a3f5f",
             "gridcolor": "white",
             "linecolor": "white",
             "minorgridcolor": "white",
             "startlinecolor": "#2a3f5f"
            },
            "baxis": {
             "endlinecolor": "#2a3f5f",
             "gridcolor": "white",
             "linecolor": "white",
             "minorgridcolor": "white",
             "startlinecolor": "#2a3f5f"
            },
            "type": "carpet"
           }
          ],
          "choropleth": [
           {
            "colorbar": {
             "outlinewidth": 0,
             "ticks": ""
            },
            "type": "choropleth"
           }
          ],
          "contour": [
           {
            "colorbar": {
             "outlinewidth": 0,
             "ticks": ""
            },
            "colorscale": [
             [
              0,
              "#0d0887"
             ],
             [
              0.1111111111111111,
              "#46039f"
             ],
             [
              0.2222222222222222,
              "#7201a8"
             ],
             [
              0.3333333333333333,
              "#9c179e"
             ],
             [
              0.4444444444444444,
              "#bd3786"
             ],
             [
              0.5555555555555556,
              "#d8576b"
             ],
             [
              0.6666666666666666,
              "#ed7953"
             ],
             [
              0.7777777777777778,
              "#fb9f3a"
             ],
             [
              0.8888888888888888,
              "#fdca26"
             ],
             [
              1,
              "#f0f921"
             ]
            ],
            "type": "contour"
           }
          ],
          "contourcarpet": [
           {
            "colorbar": {
             "outlinewidth": 0,
             "ticks": ""
            },
            "type": "contourcarpet"
           }
          ],
          "heatmap": [
           {
            "colorbar": {
             "outlinewidth": 0,
             "ticks": ""
            },
            "colorscale": [
             [
              0,
              "#0d0887"
             ],
             [
              0.1111111111111111,
              "#46039f"
             ],
             [
              0.2222222222222222,
              "#7201a8"
             ],
             [
              0.3333333333333333,
              "#9c179e"
             ],
             [
              0.4444444444444444,
              "#bd3786"
             ],
             [
              0.5555555555555556,
              "#d8576b"
             ],
             [
              0.6666666666666666,
              "#ed7953"
             ],
             [
              0.7777777777777778,
              "#fb9f3a"
             ],
             [
              0.8888888888888888,
              "#fdca26"
             ],
             [
              1,
              "#f0f921"
             ]
            ],
            "type": "heatmap"
           }
          ],
          "histogram": [
           {
            "marker": {
             "pattern": {
              "fillmode": "overlay",
              "size": 10,
              "solidity": 0.2
             }
            },
            "type": "histogram"
           }
          ],
          "histogram2d": [
           {
            "colorbar": {
             "outlinewidth": 0,
             "ticks": ""
            },
            "colorscale": [
             [
              0,
              "#0d0887"
             ],
             [
              0.1111111111111111,
              "#46039f"
             ],
             [
              0.2222222222222222,
              "#7201a8"
             ],
             [
              0.3333333333333333,
              "#9c179e"
             ],
             [
              0.4444444444444444,
              "#bd3786"
             ],
             [
              0.5555555555555556,
              "#d8576b"
             ],
             [
              0.6666666666666666,
              "#ed7953"
             ],
             [
              0.7777777777777778,
              "#fb9f3a"
             ],
             [
              0.8888888888888888,
              "#fdca26"
             ],
             [
              1,
              "#f0f921"
             ]
            ],
            "type": "histogram2d"
           }
          ],
          "histogram2dcontour": [
           {
            "colorbar": {
             "outlinewidth": 0,
             "ticks": ""
            },
            "colorscale": [
             [
              0,
              "#0d0887"
             ],
             [
              0.1111111111111111,
              "#46039f"
             ],
             [
              0.2222222222222222,
              "#7201a8"
             ],
             [
              0.3333333333333333,
              "#9c179e"
             ],
             [
              0.4444444444444444,
              "#bd3786"
             ],
             [
              0.5555555555555556,
              "#d8576b"
             ],
             [
              0.6666666666666666,
              "#ed7953"
             ],
             [
              0.7777777777777778,
              "#fb9f3a"
             ],
             [
              0.8888888888888888,
              "#fdca26"
             ],
             [
              1,
              "#f0f921"
             ]
            ],
            "type": "histogram2dcontour"
           }
          ],
          "mesh3d": [
           {
            "colorbar": {
             "outlinewidth": 0,
             "ticks": ""
            },
            "type": "mesh3d"
           }
          ],
          "parcoords": [
           {
            "line": {
             "colorbar": {
              "outlinewidth": 0,
              "ticks": ""
             }
            },
            "type": "parcoords"
           }
          ],
          "pie": [
           {
            "automargin": true,
            "type": "pie"
           }
          ],
          "scatter": [
           {
            "fillpattern": {
             "fillmode": "overlay",
             "size": 10,
             "solidity": 0.2
            },
            "type": "scatter"
           }
          ],
          "scatter3d": [
           {
            "line": {
             "colorbar": {
              "outlinewidth": 0,
              "ticks": ""
             }
            },
            "marker": {
             "colorbar": {
              "outlinewidth": 0,
              "ticks": ""
             }
            },
            "type": "scatter3d"
           }
          ],
          "scattercarpet": [
           {
            "marker": {
             "colorbar": {
              "outlinewidth": 0,
              "ticks": ""
             }
            },
            "type": "scattercarpet"
           }
          ],
          "scattergeo": [
           {
            "marker": {
             "colorbar": {
              "outlinewidth": 0,
              "ticks": ""
             }
            },
            "type": "scattergeo"
           }
          ],
          "scattergl": [
           {
            "marker": {
             "colorbar": {
              "outlinewidth": 0,
              "ticks": ""
             }
            },
            "type": "scattergl"
           }
          ],
          "scattermap": [
           {
            "marker": {
             "colorbar": {
              "outlinewidth": 0,
              "ticks": ""
             }
            },
            "type": "scattermap"
           }
          ],
          "scattermapbox": [
           {
            "marker": {
             "colorbar": {
              "outlinewidth": 0,
              "ticks": ""
             }
            },
            "type": "scattermapbox"
           }
          ],
          "scatterpolar": [
           {
            "marker": {
             "colorbar": {
              "outlinewidth": 0,
              "ticks": ""
             }
            },
            "type": "scatterpolar"
           }
          ],
          "scatterpolargl": [
           {
            "marker": {
             "colorbar": {
              "outlinewidth": 0,
              "ticks": ""
             }
            },
            "type": "scatterpolargl"
           }
          ],
          "scatterternary": [
           {
            "marker": {
             "colorbar": {
              "outlinewidth": 0,
              "ticks": ""
             }
            },
            "type": "scatterternary"
           }
          ],
          "surface": [
           {
            "colorbar": {
             "outlinewidth": 0,
             "ticks": ""
            },
            "colorscale": [
             [
              0,
              "#0d0887"
             ],
             [
              0.1111111111111111,
              "#46039f"
             ],
             [
              0.2222222222222222,
              "#7201a8"
             ],
             [
              0.3333333333333333,
              "#9c179e"
             ],
             [
              0.4444444444444444,
              "#bd3786"
             ],
             [
              0.5555555555555556,
              "#d8576b"
             ],
             [
              0.6666666666666666,
              "#ed7953"
             ],
             [
              0.7777777777777778,
              "#fb9f3a"
             ],
             [
              0.8888888888888888,
              "#fdca26"
             ],
             [
              1,
              "#f0f921"
             ]
            ],
            "type": "surface"
           }
          ],
          "table": [
           {
            "cells": {
             "fill": {
              "color": "#EBF0F8"
             },
             "line": {
              "color": "white"
             }
            },
            "header": {
             "fill": {
              "color": "#C8D4E3"
             },
             "line": {
              "color": "white"
             }
            },
            "type": "table"
           }
          ]
         },
         "layout": {
          "annotationdefaults": {
           "arrowcolor": "#2a3f5f",
           "arrowhead": 0,
           "arrowwidth": 1
          },
          "autotypenumbers": "strict",
          "coloraxis": {
           "colorbar": {
            "outlinewidth": 0,
            "ticks": ""
           }
          },
          "colorscale": {
           "diverging": [
            [
             0,
             "#8e0152"
            ],
            [
             0.1,
             "#c51b7d"
            ],
            [
             0.2,
             "#de77ae"
            ],
            [
             0.3,
             "#f1b6da"
            ],
            [
             0.4,
             "#fde0ef"
            ],
            [
             0.5,
             "#f7f7f7"
            ],
            [
             0.6,
             "#e6f5d0"
            ],
            [
             0.7,
             "#b8e186"
            ],
            [
             0.8,
             "#7fbc41"
            ],
            [
             0.9,
             "#4d9221"
            ],
            [
             1,
             "#276419"
            ]
           ],
           "sequential": [
            [
             0,
             "#0d0887"
            ],
            [
             0.1111111111111111,
             "#46039f"
            ],
            [
             0.2222222222222222,
             "#7201a8"
            ],
            [
             0.3333333333333333,
             "#9c179e"
            ],
            [
             0.4444444444444444,
             "#bd3786"
            ],
            [
             0.5555555555555556,
             "#d8576b"
            ],
            [
             0.6666666666666666,
             "#ed7953"
            ],
            [
             0.7777777777777778,
             "#fb9f3a"
            ],
            [
             0.8888888888888888,
             "#fdca26"
            ],
            [
             1,
             "#f0f921"
            ]
           ],
           "sequentialminus": [
            [
             0,
             "#0d0887"
            ],
            [
             0.1111111111111111,
             "#46039f"
            ],
            [
             0.2222222222222222,
             "#7201a8"
            ],
            [
             0.3333333333333333,
             "#9c179e"
            ],
            [
             0.4444444444444444,
             "#bd3786"
            ],
            [
             0.5555555555555556,
             "#d8576b"
            ],
            [
             0.6666666666666666,
             "#ed7953"
            ],
            [
             0.7777777777777778,
             "#fb9f3a"
            ],
            [
             0.8888888888888888,
             "#fdca26"
            ],
            [
             1,
             "#f0f921"
            ]
           ]
          },
          "colorway": [
           "#636efa",
           "#EF553B",
           "#00cc96",
           "#ab63fa",
           "#FFA15A",
           "#19d3f3",
           "#FF6692",
           "#B6E880",
           "#FF97FF",
           "#FECB52"
          ],
          "font": {
           "color": "#2a3f5f"
          },
          "geo": {
           "bgcolor": "white",
           "lakecolor": "white",
           "landcolor": "#E5ECF6",
           "showlakes": true,
           "showland": true,
           "subunitcolor": "white"
          },
          "hoverlabel": {
           "align": "left"
          },
          "hovermode": "closest",
          "mapbox": {
           "style": "light"
          },
          "paper_bgcolor": "white",
          "plot_bgcolor": "#E5ECF6",
          "polar": {
           "angularaxis": {
            "gridcolor": "white",
            "linecolor": "white",
            "ticks": ""
           },
           "bgcolor": "#E5ECF6",
           "radialaxis": {
            "gridcolor": "white",
            "linecolor": "white",
            "ticks": ""
           }
          },
          "scene": {
           "xaxis": {
            "backgroundcolor": "#E5ECF6",
            "gridcolor": "white",
            "gridwidth": 2,
            "linecolor": "white",
            "showbackground": true,
            "ticks": "",
            "zerolinecolor": "white"
           },
           "yaxis": {
            "backgroundcolor": "#E5ECF6",
            "gridcolor": "white",
            "gridwidth": 2,
            "linecolor": "white",
            "showbackground": true,
            "ticks": "",
            "zerolinecolor": "white"
           },
           "zaxis": {
            "backgroundcolor": "#E5ECF6",
            "gridcolor": "white",
            "gridwidth": 2,
            "linecolor": "white",
            "showbackground": true,
            "ticks": "",
            "zerolinecolor": "white"
           }
          },
          "shapedefaults": {
           "line": {
            "color": "#2a3f5f"
           }
          },
          "ternary": {
           "aaxis": {
            "gridcolor": "white",
            "linecolor": "white",
            "ticks": ""
           },
           "baxis": {
            "gridcolor": "white",
            "linecolor": "white",
            "ticks": ""
           },
           "bgcolor": "#E5ECF6",
           "caxis": {
            "gridcolor": "white",
            "linecolor": "white",
            "ticks": ""
           }
          },
          "title": {
           "x": 0.05
          },
          "xaxis": {
           "automargin": true,
           "gridcolor": "white",
           "linecolor": "white",
           "ticks": "",
           "title": {
            "standoff": 15
           },
           "zerolinecolor": "white",
           "zerolinewidth": 2
          },
          "yaxis": {
           "automargin": true,
           "gridcolor": "white",
           "linecolor": "white",
           "ticks": "",
           "title": {
            "standoff": 15
           },
           "zerolinecolor": "white",
           "zerolinewidth": 2
          }
         }
        },
        "width": 800,
        "yaxis": {
         "range": [
          -1,
          3
         ]
        }
       }
      }
     },
     "metadata": {},
     "output_type": "display_data"
    }
   ],
   "source": [
    "x = 4.3\n",
    "fig = go.Figure()\n",
    "fig.add_trace(f_line)\n",
    "# Adding a red arrow in the direction of the gradient.\n",
    "#  Note the arrow is just a direction along the x dimension \n",
    "#  (the y position is just for illustrative purposes)\n",
    "fig.add_trace(go.Scatter(\n",
    "    x=[x, x - deriv_f(x)], y=[f(x), f(x)],  \n",
    "    marker= dict(size=10,symbol= \"arrow-bar-up\", angleref=\"previous\"),\n",
    "    name=\"-f'(x0)\"\n",
    "    ))\n",
    "# Add the Green circle for our guess\n",
    "fig.add_trace(go.Scatter(x=[x],y=[f(x)], \n",
    "                         marker_color=\"green\", marker_size=12,\n",
    "                         mode=\"markers\", name=\"x0\"))\n",
    "fig.update_layout(font_size = 20, yaxis_range=[-1, 3])\n",
    "fig.update_layout(autosize=False, width=800, height=600)\n",
    "fig\n"
   ]
  },
  {
   "cell_type": "markdown",
   "metadata": {},
   "source": [
    "## Manually Descending with Derivatives"
   ]
  },
  {
   "cell_type": "markdown",
   "metadata": {},
   "source": [
    "Armed with this knowledge, let's try to see if we can use the derivative to optimize the function.\n",
    "\n",
    "We start by making some guess for the minimizing value of $x$. Then, we look at the derivative of the function at this value of $x$, and step downhill in the *opposite* direction. We can express our new rule as a recurrence relation:\n",
    "\n",
    "$$x^{(t+1)} = x^{(t)} - \\frac{d}{dx} f(x^{(t)})$$\n",
    "\n",
    "We obtain **our next guess** for the minimizing value of $x$ at timestep $t+1$ ($x^{(t+1)}$) by taking the guess **our last guess** ($x^{(t)}$) and subtracting the **derivative of the function** at that point ($\\frac{d}{dx} f(x^{(t)})$).\n"
   ]
  },
  {
   "cell_type": "markdown",
   "metadata": {},
   "source": [
    "Running the algorithm one step at a time:"
   ]
  },
  {
   "cell_type": "code",
   "execution_count": null,
   "metadata": {},
   "outputs": [],
   "source": [
    "# `x` is our current guess for the minimum.\n",
    "# `derivative` is a function that takes in a single value and \n",
    "# returns the value of the derivative of f at the given input value.\n",
    "def take_one_step(x, derivative):\n",
    "    new_x = x - derivative(x)\n",
    "    return new_x"
   ]
  },
  {
   "cell_type": "markdown",
   "metadata": {},
   "source": [
    "#### Starting with an initial guess of 4.0 and taking 10 steps:"
   ]
  },
  {
   "cell_type": "code",
   "execution_count": null,
   "metadata": {},
   "outputs": [
    {
     "name": "stdout",
     "output_type": "stream",
     "text": [
      "[4.0, 4.4, 5.0464000000000055, 5.496730601062393, 5.0808624852305115, 5.489980392167775, 5.092824872119241, 5.486755386070718, 5.0984728528436225, 5.485072693208349, 5.101402551267881]\n"
     ]
    }
   ],
   "source": [
    "x = 4.0\n",
    "steps = [x]\n",
    "for i in range(10):\n",
    "    x = take_one_step(x, deriv_f)\n",
    "    steps.append(x) \n",
    "\n",
    "print(steps)\n"
   ]
  },
  {
   "cell_type": "markdown",
   "metadata": {},
   "source": [
    "#### Visualizing the optimization steps\n",
    "\n",
    "Note: The following visualization code is out-of-scope for Data 100, but you should understand the visualization."
   ]
  },
  {
   "cell_type": "code",
   "execution_count": null,
   "metadata": {},
   "outputs": [],
   "source": [
    "# This code is out-of-scope for data-100 but could be fun to learn.\n",
    "def plot_steps(steps, f = f, f_line = f_line):\n",
    "    fig = go.Figure()\n",
    "    fig.add_trace(f_line)\n",
    "    fig.add_trace(go.Scatter(x = steps, y = [f(s) for s in steps], \n",
    "                             mode = \"lines+markers\", line = {\"dash\": \"dash\", \"color\": \"red\"},\n",
    "                             name = \"Path\", \n",
    "                             marker_symbol=\"arrow\",\n",
    "                             marker_angleref=\"previous\",\n",
    "                             marker_standoff=4,\n",
    "                             marker_size = 16))\n",
    "    fig.add_trace(go.Scatter(x = steps, y = [f(s) for s in steps], \n",
    "                             mode = \"markers\", \n",
    "                             name = \"Path\",\n",
    "                             marker_color=\"red\",\n",
    "                             showlegend=False,\n",
    "                             marker_size = 8))\n",
    "    fig.update_layout(font_size = 20)\n",
    "    fig.update_layout(autosize=False, width=800, height=600)\n",
    "\n",
    "    return fig"
   ]
  },
  {
   "cell_type": "code",
   "execution_count": null,
   "metadata": {},
   "outputs": [
    {
     "data": {
      "application/vnd.plotly.v1+json": {
       "config": {
        "plotlyServerURL": "https://plot.ly"
       },
       "data": [
        {
         "mode": "lines",
         "name": "f",
         "type": "scatter",
         "x": {
          "bdata": "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",
          "dtype": "f8"
         },
         "y": {
          "bdata": "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",
          "dtype": "f8"
         }
        },
        {
         "line": {
          "color": "red",
          "dash": "dash"
         },
         "marker": {
          "angleref": "previous",
          "size": 16,
          "standoff": 4,
          "symbol": "arrow"
         },
         "mode": "lines+markers",
         "name": "Path",
         "type": "scatter",
         "x": [
          4,
          4.12,
          4.267296639999997,
          4.442725838159953,
          4.640926244829146,
          4.846183704850335,
          5.032118544823421,
          5.17201478493924,
          5.2564844894138165,
          5.297911492494514,
          5.315427176589101,
          5.322260602055931,
          5.324832983472768,
          5.325787650752968,
          5.3261400404400865,
          5.326269854338316
         ],
         "y": [
          0,
          -0.05356646399999363,
          -0.13307741156402245,
          -0.24297326110198583,
          -0.37748214583134543,
          -0.5130257538046067,
          -0.6155267987706565,
          -0.6685804177954424,
          -0.686481015286813,
          -0.6905724292283253,
          -0.6912849211252933,
          -0.6913921443801087,
          -0.691407271261187,
          -0.6914093512095519,
          -0.6914096344293285,
          -0.6914096728547747
         ]
        },
        {
         "marker": {
          "color": "red",
          "size": 8
         },
         "mode": "markers",
         "name": "Path",
         "showlegend": false,
         "type": "scatter",
         "x": [
          4,
          4.12,
          4.267296639999997,
          4.442725838159953,
          4.640926244829146,
          4.846183704850335,
          5.032118544823421,
          5.17201478493924,
          5.2564844894138165,
          5.297911492494514,
          5.315427176589101,
          5.322260602055931,
          5.324832983472768,
          5.325787650752968,
          5.3261400404400865,
          5.326269854338316
         ],
         "y": [
          0,
          -0.05356646399999363,
          -0.13307741156402245,
          -0.24297326110198583,
          -0.37748214583134543,
          -0.5130257538046067,
          -0.6155267987706565,
          -0.6685804177954424,
          -0.686481015286813,
          -0.6905724292283253,
          -0.6912849211252933,
          -0.6913921443801087,
          -0.691407271261187,
          -0.6914093512095519,
          -0.6914096344293285,
          -0.6914096728547747
         ]
        }
       ],
       "layout": {
        "autosize": false,
        "font": {
         "size": 20
        },
        "height": 600,
        "template": {
         "data": {
          "bar": [
           {
            "error_x": {
             "color": "#2a3f5f"
            },
            "error_y": {
             "color": "#2a3f5f"
            },
            "marker": {
             "line": {
              "color": "#E5ECF6",
              "width": 0.5
             },
             "pattern": {
              "fillmode": "overlay",
              "size": 10,
              "solidity": 0.2
             }
            },
            "type": "bar"
           }
          ],
          "barpolar": [
           {
            "marker": {
             "line": {
              "color": "#E5ECF6",
              "width": 0.5
             },
             "pattern": {
              "fillmode": "overlay",
              "size": 10,
              "solidity": 0.2
             }
            },
            "type": "barpolar"
           }
          ],
          "carpet": [
           {
            "aaxis": {
             "endlinecolor": "#2a3f5f",
             "gridcolor": "white",
             "linecolor": "white",
             "minorgridcolor": "white",
             "startlinecolor": "#2a3f5f"
            },
            "baxis": {
             "endlinecolor": "#2a3f5f",
             "gridcolor": "white",
             "linecolor": "white",
             "minorgridcolor": "white",
             "startlinecolor": "#2a3f5f"
            },
            "type": "carpet"
           }
          ],
          "choropleth": [
           {
            "colorbar": {
             "outlinewidth": 0,
             "ticks": ""
            },
            "type": "choropleth"
           }
          ],
          "contour": [
           {
            "colorbar": {
             "outlinewidth": 0,
             "ticks": ""
            },
            "colorscale": [
             [
              0,
              "#0d0887"
             ],
             [
              0.1111111111111111,
              "#46039f"
             ],
             [
              0.2222222222222222,
              "#7201a8"
             ],
             [
              0.3333333333333333,
              "#9c179e"
             ],
             [
              0.4444444444444444,
              "#bd3786"
             ],
             [
              0.5555555555555556,
              "#d8576b"
             ],
             [
              0.6666666666666666,
              "#ed7953"
             ],
             [
              0.7777777777777778,
              "#fb9f3a"
             ],
             [
              0.8888888888888888,
              "#fdca26"
             ],
             [
              1,
              "#f0f921"
             ]
            ],
            "type": "contour"
           }
          ],
          "contourcarpet": [
           {
            "colorbar": {
             "outlinewidth": 0,
             "ticks": ""
            },
            "type": "contourcarpet"
           }
          ],
          "heatmap": [
           {
            "colorbar": {
             "outlinewidth": 0,
             "ticks": ""
            },
            "colorscale": [
             [
              0,
              "#0d0887"
             ],
             [
              0.1111111111111111,
              "#46039f"
             ],
             [
              0.2222222222222222,
              "#7201a8"
             ],
             [
              0.3333333333333333,
              "#9c179e"
             ],
             [
              0.4444444444444444,
              "#bd3786"
             ],
             [
              0.5555555555555556,
              "#d8576b"
             ],
             [
              0.6666666666666666,
              "#ed7953"
             ],
             [
              0.7777777777777778,
              "#fb9f3a"
             ],
             [
              0.8888888888888888,
              "#fdca26"
             ],
             [
              1,
              "#f0f921"
             ]
            ],
            "type": "heatmap"
           }
          ],
          "histogram": [
           {
            "marker": {
             "pattern": {
              "fillmode": "overlay",
              "size": 10,
              "solidity": 0.2
             }
            },
            "type": "histogram"
           }
          ],
          "histogram2d": [
           {
            "colorbar": {
             "outlinewidth": 0,
             "ticks": ""
            },
            "colorscale": [
             [
              0,
              "#0d0887"
             ],
             [
              0.1111111111111111,
              "#46039f"
             ],
             [
              0.2222222222222222,
              "#7201a8"
             ],
             [
              0.3333333333333333,
              "#9c179e"
             ],
             [
              0.4444444444444444,
              "#bd3786"
             ],
             [
              0.5555555555555556,
              "#d8576b"
             ],
             [
              0.6666666666666666,
              "#ed7953"
             ],
             [
              0.7777777777777778,
              "#fb9f3a"
             ],
             [
              0.8888888888888888,
              "#fdca26"
             ],
             [
              1,
              "#f0f921"
             ]
            ],
            "type": "histogram2d"
           }
          ],
          "histogram2dcontour": [
           {
            "colorbar": {
             "outlinewidth": 0,
             "ticks": ""
            },
            "colorscale": [
             [
              0,
              "#0d0887"
             ],
             [
              0.1111111111111111,
              "#46039f"
             ],
             [
              0.2222222222222222,
              "#7201a8"
             ],
             [
              0.3333333333333333,
              "#9c179e"
             ],
             [
              0.4444444444444444,
              "#bd3786"
             ],
             [
              0.5555555555555556,
              "#d8576b"
             ],
             [
              0.6666666666666666,
              "#ed7953"
             ],
             [
              0.7777777777777778,
              "#fb9f3a"
             ],
             [
              0.8888888888888888,
              "#fdca26"
             ],
             [
              1,
              "#f0f921"
             ]
            ],
            "type": "histogram2dcontour"
           }
          ],
          "mesh3d": [
           {
            "colorbar": {
             "outlinewidth": 0,
             "ticks": ""
            },
            "type": "mesh3d"
           }
          ],
          "parcoords": [
           {
            "line": {
             "colorbar": {
              "outlinewidth": 0,
              "ticks": ""
             }
            },
            "type": "parcoords"
           }
          ],
          "pie": [
           {
            "automargin": true,
            "type": "pie"
           }
          ],
          "scatter": [
           {
            "fillpattern": {
             "fillmode": "overlay",
             "size": 10,
             "solidity": 0.2
            },
            "type": "scatter"
           }
          ],
          "scatter3d": [
           {
            "line": {
             "colorbar": {
              "outlinewidth": 0,
              "ticks": ""
             }
            },
            "marker": {
             "colorbar": {
              "outlinewidth": 0,
              "ticks": ""
             }
            },
            "type": "scatter3d"
           }
          ],
          "scattercarpet": [
           {
            "marker": {
             "colorbar": {
              "outlinewidth": 0,
              "ticks": ""
             }
            },
            "type": "scattercarpet"
           }
          ],
          "scattergeo": [
           {
            "marker": {
             "colorbar": {
              "outlinewidth": 0,
              "ticks": ""
             }
            },
            "type": "scattergeo"
           }
          ],
          "scattergl": [
           {
            "marker": {
             "colorbar": {
              "outlinewidth": 0,
              "ticks": ""
             }
            },
            "type": "scattergl"
           }
          ],
          "scattermap": [
           {
            "marker": {
             "colorbar": {
              "outlinewidth": 0,
              "ticks": ""
             }
            },
            "type": "scattermap"
           }
          ],
          "scattermapbox": [
           {
            "marker": {
             "colorbar": {
              "outlinewidth": 0,
              "ticks": ""
             }
            },
            "type": "scattermapbox"
           }
          ],
          "scatterpolar": [
           {
            "marker": {
             "colorbar": {
              "outlinewidth": 0,
              "ticks": ""
             }
            },
            "type": "scatterpolar"
           }
          ],
          "scatterpolargl": [
           {
            "marker": {
             "colorbar": {
              "outlinewidth": 0,
              "ticks": ""
             }
            },
            "type": "scatterpolargl"
           }
          ],
          "scatterternary": [
           {
            "marker": {
             "colorbar": {
              "outlinewidth": 0,
              "ticks": ""
             }
            },
            "type": "scatterternary"
           }
          ],
          "surface": [
           {
            "colorbar": {
             "outlinewidth": 0,
             "ticks": ""
            },
            "colorscale": [
             [
              0,
              "#0d0887"
             ],
             [
              0.1111111111111111,
              "#46039f"
             ],
             [
              0.2222222222222222,
              "#7201a8"
             ],
             [
              0.3333333333333333,
              "#9c179e"
             ],
             [
              0.4444444444444444,
              "#bd3786"
             ],
             [
              0.5555555555555556,
              "#d8576b"
             ],
             [
              0.6666666666666666,
              "#ed7953"
             ],
             [
              0.7777777777777778,
              "#fb9f3a"
             ],
             [
              0.8888888888888888,
              "#fdca26"
             ],
             [
              1,
              "#f0f921"
             ]
            ],
            "type": "surface"
           }
          ],
          "table": [
           {
            "cells": {
             "fill": {
              "color": "#EBF0F8"
             },
             "line": {
              "color": "white"
             }
            },
            "header": {
             "fill": {
              "color": "#C8D4E3"
             },
             "line": {
              "color": "white"
             }
            },
            "type": "table"
           }
          ]
         },
         "layout": {
          "annotationdefaults": {
           "arrowcolor": "#2a3f5f",
           "arrowhead": 0,
           "arrowwidth": 1
          },
          "autotypenumbers": "strict",
          "coloraxis": {
           "colorbar": {
            "outlinewidth": 0,
            "ticks": ""
           }
          },
          "colorscale": {
           "diverging": [
            [
             0,
             "#8e0152"
            ],
            [
             0.1,
             "#c51b7d"
            ],
            [
             0.2,
             "#de77ae"
            ],
            [
             0.3,
             "#f1b6da"
            ],
            [
             0.4,
             "#fde0ef"
            ],
            [
             0.5,
             "#f7f7f7"
            ],
            [
             0.6,
             "#e6f5d0"
            ],
            [
             0.7,
             "#b8e186"
            ],
            [
             0.8,
             "#7fbc41"
            ],
            [
             0.9,
             "#4d9221"
            ],
            [
             1,
             "#276419"
            ]
           ],
           "sequential": [
            [
             0,
             "#0d0887"
            ],
            [
             0.1111111111111111,
             "#46039f"
            ],
            [
             0.2222222222222222,
             "#7201a8"
            ],
            [
             0.3333333333333333,
             "#9c179e"
            ],
            [
             0.4444444444444444,
             "#bd3786"
            ],
            [
             0.5555555555555556,
             "#d8576b"
            ],
            [
             0.6666666666666666,
             "#ed7953"
            ],
            [
             0.7777777777777778,
             "#fb9f3a"
            ],
            [
             0.8888888888888888,
             "#fdca26"
            ],
            [
             1,
             "#f0f921"
            ]
           ],
           "sequentialminus": [
            [
             0,
             "#0d0887"
            ],
            [
             0.1111111111111111,
             "#46039f"
            ],
            [
             0.2222222222222222,
             "#7201a8"
            ],
            [
             0.3333333333333333,
             "#9c179e"
            ],
            [
             0.4444444444444444,
             "#bd3786"
            ],
            [
             0.5555555555555556,
             "#d8576b"
            ],
            [
             0.6666666666666666,
             "#ed7953"
            ],
            [
             0.7777777777777778,
             "#fb9f3a"
            ],
            [
             0.8888888888888888,
             "#fdca26"
            ],
            [
             1,
             "#f0f921"
            ]
           ]
          },
          "colorway": [
           "#636efa",
           "#EF553B",
           "#00cc96",
           "#ab63fa",
           "#FFA15A",
           "#19d3f3",
           "#FF6692",
           "#B6E880",
           "#FF97FF",
           "#FECB52"
          ],
          "font": {
           "color": "#2a3f5f"
          },
          "geo": {
           "bgcolor": "white",
           "lakecolor": "white",
           "landcolor": "#E5ECF6",
           "showlakes": true,
           "showland": true,
           "subunitcolor": "white"
          },
          "hoverlabel": {
           "align": "left"
          },
          "hovermode": "closest",
          "mapbox": {
           "style": "light"
          },
          "paper_bgcolor": "white",
          "plot_bgcolor": "#E5ECF6",
          "polar": {
           "angularaxis": {
            "gridcolor": "white",
            "linecolor": "white",
            "ticks": ""
           },
           "bgcolor": "#E5ECF6",
           "radialaxis": {
            "gridcolor": "white",
            "linecolor": "white",
            "ticks": ""
           }
          },
          "scene": {
           "xaxis": {
            "backgroundcolor": "#E5ECF6",
            "gridcolor": "white",
            "gridwidth": 2,
            "linecolor": "white",
            "showbackground": true,
            "ticks": "",
            "zerolinecolor": "white"
           },
           "yaxis": {
            "backgroundcolor": "#E5ECF6",
            "gridcolor": "white",
            "gridwidth": 2,
            "linecolor": "white",
            "showbackground": true,
            "ticks": "",
            "zerolinecolor": "white"
           },
           "zaxis": {
            "backgroundcolor": "#E5ECF6",
            "gridcolor": "white",
            "gridwidth": 2,
            "linecolor": "white",
            "showbackground": true,
            "ticks": "",
            "zerolinecolor": "white"
           }
          },
          "shapedefaults": {
           "line": {
            "color": "#2a3f5f"
           }
          },
          "ternary": {
           "aaxis": {
            "gridcolor": "white",
            "linecolor": "white",
            "ticks": ""
           },
           "baxis": {
            "gridcolor": "white",
            "linecolor": "white",
            "ticks": ""
           },
           "bgcolor": "#E5ECF6",
           "caxis": {
            "gridcolor": "white",
            "linecolor": "white",
            "ticks": ""
           }
          },
          "title": {
           "x": 0.05
          },
          "xaxis": {
           "automargin": true,
           "gridcolor": "white",
           "linecolor": "white",
           "ticks": "",
           "title": {
            "standoff": 15
           },
           "zerolinecolor": "white",
           "zerolinewidth": 2
          },
          "yaxis": {
           "automargin": true,
           "gridcolor": "white",
           "linecolor": "white",
           "ticks": "",
           "title": {
            "standoff": 15
           },
           "zerolinecolor": "white",
           "zerolinewidth": 2
          }
         }
        },
        "width": 800
       }
      }
     },
     "metadata": {},
     "output_type": "display_data"
    }
   ],
   "source": [
    "plot_steps(steps)"
   ]
  },
  {
   "cell_type": "markdown",
   "metadata": {},
   "source": [
    "Looking pretty good! We do have a problem though – once we arrive close to the minimum value of the function, our guesses \"bounce\" back and forth past the minimum without ever reaching it.\n",
    "\n",
    "- In other words, each step we take when updating our guess moves us too far. We can address this by decreasing the size of each step. \n",
    "\n",
    "Let's update our algorithm to use a **learning rate** (also sometimes called the step size), which controls how far we move with each update. We represent the learning rate with $\\alpha$. \n",
    "\n",
    "$$x^{(t+1)} = x^{(t)} - \\alpha \\frac{d}{dx} f(x^{(t)})$$\n",
    "\n",
    "A small $\\alpha$ means that we will take small update steps; a large $\\alpha$ means we will take large steps. \n",
    "\n",
    "Let's update our function to use $\\alpha=0.3$."
   ]
  },
  {
   "cell_type": "code",
   "execution_count": null,
   "metadata": {},
   "outputs": [],
   "source": [
    "def take_one_step_lr(x, alpha, derivative):\n",
    "    # Find our new guess using the recurrence relation\n",
    "    new_x = x - alpha * derivative(x)\n",
    "    return new_x"
   ]
  },
  {
   "cell_type": "code",
   "execution_count": null,
   "metadata": {},
   "outputs": [
    {
     "name": "stdout",
     "output_type": "stream",
     "text": [
      "4.12\n",
      "4.267296639999997\n",
      "4.442725838159953\n",
      "4.640926244829146\n",
      "4.846183704850335\n",
      "5.032118544823421\n",
      "5.17201478493924\n",
      "5.2564844894138165\n",
      "5.297911492494514\n",
      "5.315427176589101\n",
      "5.322260602055931\n",
      "5.324832983472768\n",
      "5.325787650752968\n",
      "5.3261400404400865\n",
      "5.326269854338316\n"
     ]
    },
    {
     "data": {
      "application/vnd.plotly.v1+json": {
       "config": {
        "plotlyServerURL": "https://plot.ly"
       },
       "data": [
        {
         "mode": "lines",
         "name": "f",
         "type": "scatter",
         "x": {
          "bdata": "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",
          "dtype": "f8"
         },
         "y": {
          "bdata": "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",
          "dtype": "f8"
         }
        },
        {
         "line": {
          "color": "red",
          "dash": "dash"
         },
         "marker": {
          "angleref": "previous",
          "size": 16,
          "standoff": 4,
          "symbol": "arrow"
         },
         "mode": "lines+markers",
         "name": "Path",
         "type": "scatter",
         "x": [
          4,
          4.12,
          4.267296639999997,
          4.442725838159953,
          4.640926244829146,
          4.846183704850335,
          5.032118544823421,
          5.17201478493924,
          5.2564844894138165,
          5.297911492494514,
          5.315427176589101,
          5.322260602055931,
          5.324832983472768,
          5.325787650752968,
          5.3261400404400865,
          5.326269854338316
         ],
         "y": [
          0,
          -0.05356646399999363,
          -0.13307741156402245,
          -0.24297326110198583,
          -0.37748214583134543,
          -0.5130257538046067,
          -0.6155267987706565,
          -0.6685804177954424,
          -0.686481015286813,
          -0.6905724292283253,
          -0.6912849211252933,
          -0.6913921443801087,
          -0.691407271261187,
          -0.6914093512095519,
          -0.6914096344293285,
          -0.6914096728547747
         ]
        },
        {
         "marker": {
          "color": "red",
          "size": 8
         },
         "mode": "markers",
         "name": "Path",
         "showlegend": false,
         "type": "scatter",
         "x": [
          4,
          4.12,
          4.267296639999997,
          4.442725838159953,
          4.640926244829146,
          4.846183704850335,
          5.032118544823421,
          5.17201478493924,
          5.2564844894138165,
          5.297911492494514,
          5.315427176589101,
          5.322260602055931,
          5.324832983472768,
          5.325787650752968,
          5.3261400404400865,
          5.326269854338316
         ],
         "y": [
          0,
          -0.05356646399999363,
          -0.13307741156402245,
          -0.24297326110198583,
          -0.37748214583134543,
          -0.5130257538046067,
          -0.6155267987706565,
          -0.6685804177954424,
          -0.686481015286813,
          -0.6905724292283253,
          -0.6912849211252933,
          -0.6913921443801087,
          -0.691407271261187,
          -0.6914093512095519,
          -0.6914096344293285,
          -0.6914096728547747
         ]
        }
       ],
       "layout": {
        "autosize": false,
        "font": {
         "size": 20
        },
        "height": 600,
        "template": {
         "data": {
          "bar": [
           {
            "error_x": {
             "color": "#2a3f5f"
            },
            "error_y": {
             "color": "#2a3f5f"
            },
            "marker": {
             "line": {
              "color": "#E5ECF6",
              "width": 0.5
             },
             "pattern": {
              "fillmode": "overlay",
              "size": 10,
              "solidity": 0.2
             }
            },
            "type": "bar"
           }
          ],
          "barpolar": [
           {
            "marker": {
             "line": {
              "color": "#E5ECF6",
              "width": 0.5
             },
             "pattern": {
              "fillmode": "overlay",
              "size": 10,
              "solidity": 0.2
             }
            },
            "type": "barpolar"
           }
          ],
          "carpet": [
           {
            "aaxis": {
             "endlinecolor": "#2a3f5f",
             "gridcolor": "white",
             "linecolor": "white",
             "minorgridcolor": "white",
             "startlinecolor": "#2a3f5f"
            },
            "baxis": {
             "endlinecolor": "#2a3f5f",
             "gridcolor": "white",
             "linecolor": "white",
             "minorgridcolor": "white",
             "startlinecolor": "#2a3f5f"
            },
            "type": "carpet"
           }
          ],
          "choropleth": [
           {
            "colorbar": {
             "outlinewidth": 0,
             "ticks": ""
            },
            "type": "choropleth"
           }
          ],
          "contour": [
           {
            "colorbar": {
             "outlinewidth": 0,
             "ticks": ""
            },
            "colorscale": [
             [
              0,
              "#0d0887"
             ],
             [
              0.1111111111111111,
              "#46039f"
             ],
             [
              0.2222222222222222,
              "#7201a8"
             ],
             [
              0.3333333333333333,
              "#9c179e"
             ],
             [
              0.4444444444444444,
              "#bd3786"
             ],
             [
              0.5555555555555556,
              "#d8576b"
             ],
             [
              0.6666666666666666,
              "#ed7953"
             ],
             [
              0.7777777777777778,
              "#fb9f3a"
             ],
             [
              0.8888888888888888,
              "#fdca26"
             ],
             [
              1,
              "#f0f921"
             ]
            ],
            "type": "contour"
           }
          ],
          "contourcarpet": [
           {
            "colorbar": {
             "outlinewidth": 0,
             "ticks": ""
            },
            "type": "contourcarpet"
           }
          ],
          "heatmap": [
           {
            "colorbar": {
             "outlinewidth": 0,
             "ticks": ""
            },
            "colorscale": [
             [
              0,
              "#0d0887"
             ],
             [
              0.1111111111111111,
              "#46039f"
             ],
             [
              0.2222222222222222,
              "#7201a8"
             ],
             [
              0.3333333333333333,
              "#9c179e"
             ],
             [
              0.4444444444444444,
              "#bd3786"
             ],
             [
              0.5555555555555556,
              "#d8576b"
             ],
             [
              0.6666666666666666,
              "#ed7953"
             ],
             [
              0.7777777777777778,
              "#fb9f3a"
             ],
             [
              0.8888888888888888,
              "#fdca26"
             ],
             [
              1,
              "#f0f921"
             ]
            ],
            "type": "heatmap"
           }
          ],
          "histogram": [
           {
            "marker": {
             "pattern": {
              "fillmode": "overlay",
              "size": 10,
              "solidity": 0.2
             }
            },
            "type": "histogram"
           }
          ],
          "histogram2d": [
           {
            "colorbar": {
             "outlinewidth": 0,
             "ticks": ""
            },
            "colorscale": [
             [
              0,
              "#0d0887"
             ],
             [
              0.1111111111111111,
              "#46039f"
             ],
             [
              0.2222222222222222,
              "#7201a8"
             ],
             [
              0.3333333333333333,
              "#9c179e"
             ],
             [
              0.4444444444444444,
              "#bd3786"
             ],
             [
              0.5555555555555556,
              "#d8576b"
             ],
             [
              0.6666666666666666,
              "#ed7953"
             ],
             [
              0.7777777777777778,
              "#fb9f3a"
             ],
             [
              0.8888888888888888,
              "#fdca26"
             ],
             [
              1,
              "#f0f921"
             ]
            ],
            "type": "histogram2d"
           }
          ],
          "histogram2dcontour": [
           {
            "colorbar": {
             "outlinewidth": 0,
             "ticks": ""
            },
            "colorscale": [
             [
              0,
              "#0d0887"
             ],
             [
              0.1111111111111111,
              "#46039f"
             ],
             [
              0.2222222222222222,
              "#7201a8"
             ],
             [
              0.3333333333333333,
              "#9c179e"
             ],
             [
              0.4444444444444444,
              "#bd3786"
             ],
             [
              0.5555555555555556,
              "#d8576b"
             ],
             [
              0.6666666666666666,
              "#ed7953"
             ],
             [
              0.7777777777777778,
              "#fb9f3a"
             ],
             [
              0.8888888888888888,
              "#fdca26"
             ],
             [
              1,
              "#f0f921"
             ]
            ],
            "type": "histogram2dcontour"
           }
          ],
          "mesh3d": [
           {
            "colorbar": {
             "outlinewidth": 0,
             "ticks": ""
            },
            "type": "mesh3d"
           }
          ],
          "parcoords": [
           {
            "line": {
             "colorbar": {
              "outlinewidth": 0,
              "ticks": ""
             }
            },
            "type": "parcoords"
           }
          ],
          "pie": [
           {
            "automargin": true,
            "type": "pie"
           }
          ],
          "scatter": [
           {
            "fillpattern": {
             "fillmode": "overlay",
             "size": 10,
             "solidity": 0.2
            },
            "type": "scatter"
           }
          ],
          "scatter3d": [
           {
            "line": {
             "colorbar": {
              "outlinewidth": 0,
              "ticks": ""
             }
            },
            "marker": {
             "colorbar": {
              "outlinewidth": 0,
              "ticks": ""
             }
            },
            "type": "scatter3d"
           }
          ],
          "scattercarpet": [
           {
            "marker": {
             "colorbar": {
              "outlinewidth": 0,
              "ticks": ""
             }
            },
            "type": "scattercarpet"
           }
          ],
          "scattergeo": [
           {
            "marker": {
             "colorbar": {
              "outlinewidth": 0,
              "ticks": ""
             }
            },
            "type": "scattergeo"
           }
          ],
          "scattergl": [
           {
            "marker": {
             "colorbar": {
              "outlinewidth": 0,
              "ticks": ""
             }
            },
            "type": "scattergl"
           }
          ],
          "scattermap": [
           {
            "marker": {
             "colorbar": {
              "outlinewidth": 0,
              "ticks": ""
             }
            },
            "type": "scattermap"
           }
          ],
          "scattermapbox": [
           {
            "marker": {
             "colorbar": {
              "outlinewidth": 0,
              "ticks": ""
             }
            },
            "type": "scattermapbox"
           }
          ],
          "scatterpolar": [
           {
            "marker": {
             "colorbar": {
              "outlinewidth": 0,
              "ticks": ""
             }
            },
            "type": "scatterpolar"
           }
          ],
          "scatterpolargl": [
           {
            "marker": {
             "colorbar": {
              "outlinewidth": 0,
              "ticks": ""
             }
            },
            "type": "scatterpolargl"
           }
          ],
          "scatterternary": [
           {
            "marker": {
             "colorbar": {
              "outlinewidth": 0,
              "ticks": ""
             }
            },
            "type": "scatterternary"
           }
          ],
          "surface": [
           {
            "colorbar": {
             "outlinewidth": 0,
             "ticks": ""
            },
            "colorscale": [
             [
              0,
              "#0d0887"
             ],
             [
              0.1111111111111111,
              "#46039f"
             ],
             [
              0.2222222222222222,
              "#7201a8"
             ],
             [
              0.3333333333333333,
              "#9c179e"
             ],
             [
              0.4444444444444444,
              "#bd3786"
             ],
             [
              0.5555555555555556,
              "#d8576b"
             ],
             [
              0.6666666666666666,
              "#ed7953"
             ],
             [
              0.7777777777777778,
              "#fb9f3a"
             ],
             [
              0.8888888888888888,
              "#fdca26"
             ],
             [
              1,
              "#f0f921"
             ]
            ],
            "type": "surface"
           }
          ],
          "table": [
           {
            "cells": {
             "fill": {
              "color": "#EBF0F8"
             },
             "line": {
              "color": "white"
             }
            },
            "header": {
             "fill": {
              "color": "#C8D4E3"
             },
             "line": {
              "color": "white"
             }
            },
            "type": "table"
           }
          ]
         },
         "layout": {
          "annotationdefaults": {
           "arrowcolor": "#2a3f5f",
           "arrowhead": 0,
           "arrowwidth": 1
          },
          "autotypenumbers": "strict",
          "coloraxis": {
           "colorbar": {
            "outlinewidth": 0,
            "ticks": ""
           }
          },
          "colorscale": {
           "diverging": [
            [
             0,
             "#8e0152"
            ],
            [
             0.1,
             "#c51b7d"
            ],
            [
             0.2,
             "#de77ae"
            ],
            [
             0.3,
             "#f1b6da"
            ],
            [
             0.4,
             "#fde0ef"
            ],
            [
             0.5,
             "#f7f7f7"
            ],
            [
             0.6,
             "#e6f5d0"
            ],
            [
             0.7,
             "#b8e186"
            ],
            [
             0.8,
             "#7fbc41"
            ],
            [
             0.9,
             "#4d9221"
            ],
            [
             1,
             "#276419"
            ]
           ],
           "sequential": [
            [
             0,
             "#0d0887"
            ],
            [
             0.1111111111111111,
             "#46039f"
            ],
            [
             0.2222222222222222,
             "#7201a8"
            ],
            [
             0.3333333333333333,
             "#9c179e"
            ],
            [
             0.4444444444444444,
             "#bd3786"
            ],
            [
             0.5555555555555556,
             "#d8576b"
            ],
            [
             0.6666666666666666,
             "#ed7953"
            ],
            [
             0.7777777777777778,
             "#fb9f3a"
            ],
            [
             0.8888888888888888,
             "#fdca26"
            ],
            [
             1,
             "#f0f921"
            ]
           ],
           "sequentialminus": [
            [
             0,
             "#0d0887"
            ],
            [
             0.1111111111111111,
             "#46039f"
            ],
            [
             0.2222222222222222,
             "#7201a8"
            ],
            [
             0.3333333333333333,
             "#9c179e"
            ],
            [
             0.4444444444444444,
             "#bd3786"
            ],
            [
             0.5555555555555556,
             "#d8576b"
            ],
            [
             0.6666666666666666,
             "#ed7953"
            ],
            [
             0.7777777777777778,
             "#fb9f3a"
            ],
            [
             0.8888888888888888,
             "#fdca26"
            ],
            [
             1,
             "#f0f921"
            ]
           ]
          },
          "colorway": [
           "#636efa",
           "#EF553B",
           "#00cc96",
           "#ab63fa",
           "#FFA15A",
           "#19d3f3",
           "#FF6692",
           "#B6E880",
           "#FF97FF",
           "#FECB52"
          ],
          "font": {
           "color": "#2a3f5f"
          },
          "geo": {
           "bgcolor": "white",
           "lakecolor": "white",
           "landcolor": "#E5ECF6",
           "showlakes": true,
           "showland": true,
           "subunitcolor": "white"
          },
          "hoverlabel": {
           "align": "left"
          },
          "hovermode": "closest",
          "mapbox": {
           "style": "light"
          },
          "paper_bgcolor": "white",
          "plot_bgcolor": "#E5ECF6",
          "polar": {
           "angularaxis": {
            "gridcolor": "white",
            "linecolor": "white",
            "ticks": ""
           },
           "bgcolor": "#E5ECF6",
           "radialaxis": {
            "gridcolor": "white",
            "linecolor": "white",
            "ticks": ""
           }
          },
          "scene": {
           "xaxis": {
            "backgroundcolor": "#E5ECF6",
            "gridcolor": "white",
            "gridwidth": 2,
            "linecolor": "white",
            "showbackground": true,
            "ticks": "",
            "zerolinecolor": "white"
           },
           "yaxis": {
            "backgroundcolor": "#E5ECF6",
            "gridcolor": "white",
            "gridwidth": 2,
            "linecolor": "white",
            "showbackground": true,
            "ticks": "",
            "zerolinecolor": "white"
           },
           "zaxis": {
            "backgroundcolor": "#E5ECF6",
            "gridcolor": "white",
            "gridwidth": 2,
            "linecolor": "white",
            "showbackground": true,
            "ticks": "",
            "zerolinecolor": "white"
           }
          },
          "shapedefaults": {
           "line": {
            "color": "#2a3f5f"
           }
          },
          "ternary": {
           "aaxis": {
            "gridcolor": "white",
            "linecolor": "white",
            "ticks": ""
           },
           "baxis": {
            "gridcolor": "white",
            "linecolor": "white",
            "ticks": ""
           },
           "bgcolor": "#E5ECF6",
           "caxis": {
            "gridcolor": "white",
            "linecolor": "white",
            "ticks": ""
           }
          },
          "title": {
           "x": 0.05
          },
          "xaxis": {
           "automargin": true,
           "gridcolor": "white",
           "linecolor": "white",
           "ticks": "",
           "title": {
            "standoff": 15
           },
           "zerolinecolor": "white",
           "zerolinewidth": 2
          },
          "yaxis": {
           "automargin": true,
           "gridcolor": "white",
           "linecolor": "white",
           "ticks": "",
           "title": {
            "standoff": 15
           },
           "zerolinecolor": "white",
           "zerolinewidth": 2
          }
         }
        },
        "width": 800
       }
      }
     },
     "metadata": {},
     "output_type": "display_data"
    }
   ],
   "source": [
    "x = 4.0\n",
    "steps = [x]\n",
    "for i in range(15):\n",
    "    x = take_one_step_lr(x, alpha=0.3, derivative = deriv_f)\n",
    "    print(x)\n",
    "    steps.append(x) \n",
    "\n",
    "plot_steps(steps)\n"
   ]
  },
  {
   "cell_type": "markdown",
   "metadata": {},
   "source": [
    "<br/><br/>\n",
    "\n",
    "**Instructor Note: Return to Lecture!**\n",
    "\n",
    "<br/><br/>"
   ]
  },
  {
   "cell_type": "markdown",
   "metadata": {},
   "source": [
    "## The Gradient Descent Algorithm"
   ]
  },
  {
   "cell_type": "markdown",
   "metadata": {},
   "source": [
    "The process we just explored above is called **gradient descent** – we identify the direction of greatest change of a function (its **gradient**) with respect to the variable we wish to optimize, then *descend* down to the minimum of the function. \n",
    "\n",
    "$$\n",
    "x^{(t+1)} = x^{(t)} -  \\alpha \\frac{d}{dx} f(x)\n",
    "$$\n",
    "\n",
    "In the cell below, we define `gradient_descent`, which runs the gradient descent algorithm for a specified number `n` of updates and stores all guesses. "
   ]
  },
  {
   "cell_type": "code",
   "execution_count": null,
   "metadata": {},
   "outputs": [],
   "source": [
    "def gradient_descent(deriv_f, initial_guess, alpha, T):\n",
    "    \"\"\"Performs T steps of gradient descent on df using learning rate alpha starting\n",
    "       from initial_guess. Returns a numpy array of all guesses over time.\"\"\"\n",
    "    guesses = [initial_guess]\n",
    "    current_guess = initial_guess\n",
    "    while len(guesses) < T:\n",
    "        current_guess = current_guess - alpha * deriv_f(current_guess)\n",
    "        guesses.append(current_guess)\n",
    "        \n",
    "    return np.array(guesses)"
   ]
  },
  {
   "cell_type": "markdown",
   "metadata": {},
   "source": [
    "Below, we see a visualization of the trajectory taken by this algorithm. \n",
    "\n",
    "**Try modifying the `initial_guess`, learning rate `alpha`, and number of updates (i.e., time steps) `T`.**"
   ]
  },
  {
   "cell_type": "code",
   "execution_count": null,
   "metadata": {},
   "outputs": [
    {
     "name": "stdout",
     "output_type": "stream",
     "text": [
      "[1.6        3.3112     3.18920918 3.01472352 2.79207742 2.56776716\n",
      " 2.42826486 2.39421613 2.39274816 2.39274798 2.39274798 2.39274798\n",
      " 2.39274798 2.39274798 2.39274798 2.39274798 2.39274798 2.39274798\n",
      " 2.39274798 2.39274798]\n"
     ]
    },
    {
     "data": {
      "application/vnd.plotly.v1+json": {
       "config": {
        "plotlyServerURL": "https://plot.ly"
       },
       "data": [
        {
         "mode": "lines",
         "name": "f",
         "type": "scatter",
         "x": {
          "bdata": "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",
          "dtype": "f8"
         },
         "y": {
          "bdata": "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",
          "dtype": "f8"
         }
        },
        {
         "line": {
          "color": "red",
          "dash": "dash"
         },
         "marker": {
          "angleref": "previous",
          "size": 16,
          "standoff": 4,
          "symbol": "arrow"
         },
         "mode": "lines+markers",
         "name": "Path",
         "type": "scatter",
         "x": {
          "bdata": "mpmZmZmZ+T8nH/RsVn0KQCHHfBqAgwlAkWXSXSceCECR5fqvLFYGQFfNKILJigRA5CnMIBZtA0CKQ0/JWicDQJi/8CVZJANAKLmpDVkkA0BzGbQNWSQDQAYVtA1ZJANAARW0DVkkA0ALFbQNWSQDQAYVtA1ZJANAARW0DVkkA0ALFbQNWSQDQAYVtA1ZJANAARW0DVkkA0ALFbQNWSQDQA==",
          "dtype": "f8"
         },
         "y": [
          0.5913600000000031,
          0.07557186964648963,
          0.051278794783104334,
          0.004394425884316888,
          -0.06381639431140229,
          -0.12063640867845607,
          -0.13745670716554628,
          -0.13827347528837208,
          -0.13827491294423452,
          -0.1382749129442516,
          -0.13827491294425726,
          -0.1382749129442459,
          -0.1382749129442516,
          -0.1382749129442516,
          -0.1382749129442459,
          -0.1382749129442516,
          -0.1382749129442516,
          -0.1382749129442459,
          -0.1382749129442516,
          -0.1382749129442516
         ]
        },
        {
         "marker": {
          "color": "red",
          "size": 8
         },
         "mode": "markers",
         "name": "Path",
         "showlegend": false,
         "type": "scatter",
         "x": {
          "bdata": "mpmZmZmZ+T8nH/RsVn0KQCHHfBqAgwlAkWXSXSceCECR5fqvLFYGQFfNKILJigRA5CnMIBZtA0CKQ0/JWicDQJi/8CVZJANAKLmpDVkkA0BzGbQNWSQDQAYVtA1ZJANAARW0DVkkA0ALFbQNWSQDQAYVtA1ZJANAARW0DVkkA0ALFbQNWSQDQAYVtA1ZJANAARW0DVkkA0ALFbQNWSQDQA==",
          "dtype": "f8"
         },
         "y": [
          0.5913600000000031,
          0.07557186964648963,
          0.051278794783104334,
          0.004394425884316888,
          -0.06381639431140229,
          -0.12063640867845607,
          -0.13745670716554628,
          -0.13827347528837208,
          -0.13827491294423452,
          -0.1382749129442516,
          -0.13827491294425726,
          -0.1382749129442459,
          -0.1382749129442516,
          -0.1382749129442516,
          -0.1382749129442459,
          -0.1382749129442516,
          -0.1382749129442516,
          -0.1382749129442459,
          -0.1382749129442516,
          -0.1382749129442516
         ]
        }
       ],
       "layout": {
        "autosize": false,
        "font": {
         "size": 20
        },
        "height": 600,
        "template": {
         "data": {
          "bar": [
           {
            "error_x": {
             "color": "#2a3f5f"
            },
            "error_y": {
             "color": "#2a3f5f"
            },
            "marker": {
             "line": {
              "color": "#E5ECF6",
              "width": 0.5
             },
             "pattern": {
              "fillmode": "overlay",
              "size": 10,
              "solidity": 0.2
             }
            },
            "type": "bar"
           }
          ],
          "barpolar": [
           {
            "marker": {
             "line": {
              "color": "#E5ECF6",
              "width": 0.5
             },
             "pattern": {
              "fillmode": "overlay",
              "size": 10,
              "solidity": 0.2
             }
            },
            "type": "barpolar"
           }
          ],
          "carpet": [
           {
            "aaxis": {
             "endlinecolor": "#2a3f5f",
             "gridcolor": "white",
             "linecolor": "white",
             "minorgridcolor": "white",
             "startlinecolor": "#2a3f5f"
            },
            "baxis": {
             "endlinecolor": "#2a3f5f",
             "gridcolor": "white",
             "linecolor": "white",
             "minorgridcolor": "white",
             "startlinecolor": "#2a3f5f"
            },
            "type": "carpet"
           }
          ],
          "choropleth": [
           {
            "colorbar": {
             "outlinewidth": 0,
             "ticks": ""
            },
            "type": "choropleth"
           }
          ],
          "contour": [
           {
            "colorbar": {
             "outlinewidth": 0,
             "ticks": ""
            },
            "colorscale": [
             [
              0,
              "#0d0887"
             ],
             [
              0.1111111111111111,
              "#46039f"
             ],
             [
              0.2222222222222222,
              "#7201a8"
             ],
             [
              0.3333333333333333,
              "#9c179e"
             ],
             [
              0.4444444444444444,
              "#bd3786"
             ],
             [
              0.5555555555555556,
              "#d8576b"
             ],
             [
              0.6666666666666666,
              "#ed7953"
             ],
             [
              0.7777777777777778,
              "#fb9f3a"
             ],
             [
              0.8888888888888888,
              "#fdca26"
             ],
             [
              1,
              "#f0f921"
             ]
            ],
            "type": "contour"
           }
          ],
          "contourcarpet": [
           {
            "colorbar": {
             "outlinewidth": 0,
             "ticks": ""
            },
            "type": "contourcarpet"
           }
          ],
          "heatmap": [
           {
            "colorbar": {
             "outlinewidth": 0,
             "ticks": ""
            },
            "colorscale": [
             [
              0,
              "#0d0887"
             ],
             [
              0.1111111111111111,
              "#46039f"
             ],
             [
              0.2222222222222222,
              "#7201a8"
             ],
             [
              0.3333333333333333,
              "#9c179e"
             ],
             [
              0.4444444444444444,
              "#bd3786"
             ],
             [
              0.5555555555555556,
              "#d8576b"
             ],
             [
              0.6666666666666666,
              "#ed7953"
             ],
             [
              0.7777777777777778,
              "#fb9f3a"
             ],
             [
              0.8888888888888888,
              "#fdca26"
             ],
             [
              1,
              "#f0f921"
             ]
            ],
            "type": "heatmap"
           }
          ],
          "histogram": [
           {
            "marker": {
             "pattern": {
              "fillmode": "overlay",
              "size": 10,
              "solidity": 0.2
             }
            },
            "type": "histogram"
           }
          ],
          "histogram2d": [
           {
            "colorbar": {
             "outlinewidth": 0,
             "ticks": ""
            },
            "colorscale": [
             [
              0,
              "#0d0887"
             ],
             [
              0.1111111111111111,
              "#46039f"
             ],
             [
              0.2222222222222222,
              "#7201a8"
             ],
             [
              0.3333333333333333,
              "#9c179e"
             ],
             [
              0.4444444444444444,
              "#bd3786"
             ],
             [
              0.5555555555555556,
              "#d8576b"
             ],
             [
              0.6666666666666666,
              "#ed7953"
             ],
             [
              0.7777777777777778,
              "#fb9f3a"
             ],
             [
              0.8888888888888888,
              "#fdca26"
             ],
             [
              1,
              "#f0f921"
             ]
            ],
            "type": "histogram2d"
           }
          ],
          "histogram2dcontour": [
           {
            "colorbar": {
             "outlinewidth": 0,
             "ticks": ""
            },
            "colorscale": [
             [
              0,
              "#0d0887"
             ],
             [
              0.1111111111111111,
              "#46039f"
             ],
             [
              0.2222222222222222,
              "#7201a8"
             ],
             [
              0.3333333333333333,
              "#9c179e"
             ],
             [
              0.4444444444444444,
              "#bd3786"
             ],
             [
              0.5555555555555556,
              "#d8576b"
             ],
             [
              0.6666666666666666,
              "#ed7953"
             ],
             [
              0.7777777777777778,
              "#fb9f3a"
             ],
             [
              0.8888888888888888,
              "#fdca26"
             ],
             [
              1,
              "#f0f921"
             ]
            ],
            "type": "histogram2dcontour"
           }
          ],
          "mesh3d": [
           {
            "colorbar": {
             "outlinewidth": 0,
             "ticks": ""
            },
            "type": "mesh3d"
           }
          ],
          "parcoords": [
           {
            "line": {
             "colorbar": {
              "outlinewidth": 0,
              "ticks": ""
             }
            },
            "type": "parcoords"
           }
          ],
          "pie": [
           {
            "automargin": true,
            "type": "pie"
           }
          ],
          "scatter": [
           {
            "fillpattern": {
             "fillmode": "overlay",
             "size": 10,
             "solidity": 0.2
            },
            "type": "scatter"
           }
          ],
          "scatter3d": [
           {
            "line": {
             "colorbar": {
              "outlinewidth": 0,
              "ticks": ""
             }
            },
            "marker": {
             "colorbar": {
              "outlinewidth": 0,
              "ticks": ""
             }
            },
            "type": "scatter3d"
           }
          ],
          "scattercarpet": [
           {
            "marker": {
             "colorbar": {
              "outlinewidth": 0,
              "ticks": ""
             }
            },
            "type": "scattercarpet"
           }
          ],
          "scattergeo": [
           {
            "marker": {
             "colorbar": {
              "outlinewidth": 0,
              "ticks": ""
             }
            },
            "type": "scattergeo"
           }
          ],
          "scattergl": [
           {
            "marker": {
             "colorbar": {
              "outlinewidth": 0,
              "ticks": ""
             }
            },
            "type": "scattergl"
           }
          ],
          "scattermap": [
           {
            "marker": {
             "colorbar": {
              "outlinewidth": 0,
              "ticks": ""
             }
            },
            "type": "scattermap"
           }
          ],
          "scattermapbox": [
           {
            "marker": {
             "colorbar": {
              "outlinewidth": 0,
              "ticks": ""
             }
            },
            "type": "scattermapbox"
           }
          ],
          "scatterpolar": [
           {
            "marker": {
             "colorbar": {
              "outlinewidth": 0,
              "ticks": ""
             }
            },
            "type": "scatterpolar"
           }
          ],
          "scatterpolargl": [
           {
            "marker": {
             "colorbar": {
              "outlinewidth": 0,
              "ticks": ""
             }
            },
            "type": "scatterpolargl"
           }
          ],
          "scatterternary": [
           {
            "marker": {
             "colorbar": {
              "outlinewidth": 0,
              "ticks": ""
             }
            },
            "type": "scatterternary"
           }
          ],
          "surface": [
           {
            "colorbar": {
             "outlinewidth": 0,
             "ticks": ""
            },
            "colorscale": [
             [
              0,
              "#0d0887"
             ],
             [
              0.1111111111111111,
              "#46039f"
             ],
             [
              0.2222222222222222,
              "#7201a8"
             ],
             [
              0.3333333333333333,
              "#9c179e"
             ],
             [
              0.4444444444444444,
              "#bd3786"
             ],
             [
              0.5555555555555556,
              "#d8576b"
             ],
             [
              0.6666666666666666,
              "#ed7953"
             ],
             [
              0.7777777777777778,
              "#fb9f3a"
             ],
             [
              0.8888888888888888,
              "#fdca26"
             ],
             [
              1,
              "#f0f921"
             ]
            ],
            "type": "surface"
           }
          ],
          "table": [
           {
            "cells": {
             "fill": {
              "color": "#EBF0F8"
             },
             "line": {
              "color": "white"
             }
            },
            "header": {
             "fill": {
              "color": "#C8D4E3"
             },
             "line": {
              "color": "white"
             }
            },
            "type": "table"
           }
          ]
         },
         "layout": {
          "annotationdefaults": {
           "arrowcolor": "#2a3f5f",
           "arrowhead": 0,
           "arrowwidth": 1
          },
          "autotypenumbers": "strict",
          "coloraxis": {
           "colorbar": {
            "outlinewidth": 0,
            "ticks": ""
           }
          },
          "colorscale": {
           "diverging": [
            [
             0,
             "#8e0152"
            ],
            [
             0.1,
             "#c51b7d"
            ],
            [
             0.2,
             "#de77ae"
            ],
            [
             0.3,
             "#f1b6da"
            ],
            [
             0.4,
             "#fde0ef"
            ],
            [
             0.5,
             "#f7f7f7"
            ],
            [
             0.6,
             "#e6f5d0"
            ],
            [
             0.7,
             "#b8e186"
            ],
            [
             0.8,
             "#7fbc41"
            ],
            [
             0.9,
             "#4d9221"
            ],
            [
             1,
             "#276419"
            ]
           ],
           "sequential": [
            [
             0,
             "#0d0887"
            ],
            [
             0.1111111111111111,
             "#46039f"
            ],
            [
             0.2222222222222222,
             "#7201a8"
            ],
            [
             0.3333333333333333,
             "#9c179e"
            ],
            [
             0.4444444444444444,
             "#bd3786"
            ],
            [
             0.5555555555555556,
             "#d8576b"
            ],
            [
             0.6666666666666666,
             "#ed7953"
            ],
            [
             0.7777777777777778,
             "#fb9f3a"
            ],
            [
             0.8888888888888888,
             "#fdca26"
            ],
            [
             1,
             "#f0f921"
            ]
           ],
           "sequentialminus": [
            [
             0,
             "#0d0887"
            ],
            [
             0.1111111111111111,
             "#46039f"
            ],
            [
             0.2222222222222222,
             "#7201a8"
            ],
            [
             0.3333333333333333,
             "#9c179e"
            ],
            [
             0.4444444444444444,
             "#bd3786"
            ],
            [
             0.5555555555555556,
             "#d8576b"
            ],
            [
             0.6666666666666666,
             "#ed7953"
            ],
            [
             0.7777777777777778,
             "#fb9f3a"
            ],
            [
             0.8888888888888888,
             "#fdca26"
            ],
            [
             1,
             "#f0f921"
            ]
           ]
          },
          "colorway": [
           "#636efa",
           "#EF553B",
           "#00cc96",
           "#ab63fa",
           "#FFA15A",
           "#19d3f3",
           "#FF6692",
           "#B6E880",
           "#FF97FF",
           "#FECB52"
          ],
          "font": {
           "color": "#2a3f5f"
          },
          "geo": {
           "bgcolor": "white",
           "lakecolor": "white",
           "landcolor": "#E5ECF6",
           "showlakes": true,
           "showland": true,
           "subunitcolor": "white"
          },
          "hoverlabel": {
           "align": "left"
          },
          "hovermode": "closest",
          "mapbox": {
           "style": "light"
          },
          "paper_bgcolor": "white",
          "plot_bgcolor": "#E5ECF6",
          "polar": {
           "angularaxis": {
            "gridcolor": "white",
            "linecolor": "white",
            "ticks": ""
           },
           "bgcolor": "#E5ECF6",
           "radialaxis": {
            "gridcolor": "white",
            "linecolor": "white",
            "ticks": ""
           }
          },
          "scene": {
           "xaxis": {
            "backgroundcolor": "#E5ECF6",
            "gridcolor": "white",
            "gridwidth": 2,
            "linecolor": "white",
            "showbackground": true,
            "ticks": "",
            "zerolinecolor": "white"
           },
           "yaxis": {
            "backgroundcolor": "#E5ECF6",
            "gridcolor": "white",
            "gridwidth": 2,
            "linecolor": "white",
            "showbackground": true,
            "ticks": "",
            "zerolinecolor": "white"
           },
           "zaxis": {
            "backgroundcolor": "#E5ECF6",
            "gridcolor": "white",
            "gridwidth": 2,
            "linecolor": "white",
            "showbackground": true,
            "ticks": "",
            "zerolinecolor": "white"
           }
          },
          "shapedefaults": {
           "line": {
            "color": "#2a3f5f"
           }
          },
          "ternary": {
           "aaxis": {
            "gridcolor": "white",
            "linecolor": "white",
            "ticks": ""
           },
           "baxis": {
            "gridcolor": "white",
            "linecolor": "white",
            "ticks": ""
           },
           "bgcolor": "#E5ECF6",
           "caxis": {
            "gridcolor": "white",
            "linecolor": "white",
            "ticks": ""
           }
          },
          "title": {
           "x": 0.05
          },
          "xaxis": {
           "automargin": true,
           "gridcolor": "white",
           "linecolor": "white",
           "ticks": "",
           "title": {
            "standoff": 15
           },
           "zerolinecolor": "white",
           "zerolinewidth": 2
          },
          "yaxis": {
           "automargin": true,
           "gridcolor": "white",
           "linecolor": "white",
           "ticks": "",
           "title": {
            "standoff": 15
           },
           "zerolinecolor": "white",
           "zerolinewidth": 2
          }
         }
        },
        "width": 800
       }
      }
     },
     "metadata": {},
     "output_type": "display_data"
    }
   ],
   "source": [
    "trajectory = gradient_descent(deriv_f, initial_guess=1.6, alpha=0.75, T=20)\n",
    "print(trajectory)\n",
    "plot_steps(trajectory)"
   ]
  },
  {
   "cell_type": "code",
   "execution_count": null,
   "metadata": {},
   "outputs": [
    {
     "name": "stdout",
     "output_type": "stream",
     "text": [
      "[6.         4.2        4.6086     5.12279483 5.38817984 5.28497822\n",
      " 5.34793725 5.31315502 5.33375146 5.32197109 5.32885604 5.32488006\n",
      " 5.32719254 5.32585303 5.32663079 5.32617982 5.32644152 5.32628973\n",
      " 5.32637779 5.32632671]\n"
     ]
    },
    {
     "data": {
      "application/vnd.plotly.v1+json": {
       "config": {
        "plotlyServerURL": "https://plot.ly"
       },
       "data": [
        {
         "mode": "lines",
         "name": "f",
         "type": "scatter",
         "x": {
          "bdata": "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",
          "dtype": "f8"
         },
         "y": {
          "bdata": "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",
          "dtype": "f8"
         }
        },
        {
         "line": {
          "color": "red",
          "dash": "dash"
         },
         "marker": {
          "angleref": "previous",
          "size": 16,
          "standoff": 4,
          "symbol": "arrow"
         },
         "mode": "lines+markers",
         "name": "Path",
         "type": "scatter",
         "x": {
          "bdata": "AAAAAAAAGEDMzMzMzMwQQOJhodY0bxJAoiWI7b19FECfqGkEf40VQLUMoVTRIxVAuHCcqUlkFUDVG8K1q0AVQDh0q/HCVRVAVb1dyrJJFUBr9hqjv1AVQJFr0FutTBVA6yKkjwtPFUDL+9BqrE0VQMVlc014ThVAeAwwFQJOFUDVPH2vRk4VQJi71OQeThVAvg/8+jVOFUDePoiWKE4VQA==",
          "dtype": "f8"
         },
         "y": [
          0,
          -0.09504000000002862,
          -0.35533623903392025,
          -0.652909608220989,
          -0.6872314052968704,
          -0.6896513595955753,
          -0.6909122005274526,
          -0.6912278409125066,
          -0.6913516436132454,
          -0.6913895743338117,
          -0.6914030292126199,
          -0.6914074187433699,
          -0.6914089226250326,
          -0.6914094235098333,
          -0.6914095931000815,
          -0.6914096499761513,
          -0.6914096691565647,
          -0.691409675604109,
          -0.6914096777755162,
          -0.6914096785060337
         ]
        },
        {
         "marker": {
          "color": "red",
          "size": 8
         },
         "mode": "markers",
         "name": "Path",
         "showlegend": false,
         "type": "scatter",
         "x": {
          "bdata": "AAAAAAAAGEDMzMzMzMwQQOJhodY0bxJAoiWI7b19FECfqGkEf40VQLUMoVTRIxVAuHCcqUlkFUDVG8K1q0AVQDh0q/HCVRVAVb1dyrJJFUBr9hqjv1AVQJFr0FutTBVA6yKkjwtPFUDL+9BqrE0VQMVlc014ThVAeAwwFQJOFUDVPH2vRk4VQJi71OQeThVAvg/8+jVOFUDePoiWKE4VQA==",
          "dtype": "f8"
         },
         "y": [
          0,
          -0.09504000000002862,
          -0.35533623903392025,
          -0.652909608220989,
          -0.6872314052968704,
          -0.6896513595955753,
          -0.6909122005274526,
          -0.6912278409125066,
          -0.6913516436132454,
          -0.6913895743338117,
          -0.6914030292126199,
          -0.6914074187433699,
          -0.6914089226250326,
          -0.6914094235098333,
          -0.6914095931000815,
          -0.6914096499761513,
          -0.6914096691565647,
          -0.691409675604109,
          -0.6914096777755162,
          -0.6914096785060337
         ]
        }
       ],
       "layout": {
        "autosize": false,
        "font": {
         "size": 20
        },
        "height": 600,
        "template": {
         "data": {
          "bar": [
           {
            "error_x": {
             "color": "#2a3f5f"
            },
            "error_y": {
             "color": "#2a3f5f"
            },
            "marker": {
             "line": {
              "color": "#E5ECF6",
              "width": 0.5
             },
             "pattern": {
              "fillmode": "overlay",
              "size": 10,
              "solidity": 0.2
             }
            },
            "type": "bar"
           }
          ],
          "barpolar": [
           {
            "marker": {
             "line": {
              "color": "#E5ECF6",
              "width": 0.5
             },
             "pattern": {
              "fillmode": "overlay",
              "size": 10,
              "solidity": 0.2
             }
            },
            "type": "barpolar"
           }
          ],
          "carpet": [
           {
            "aaxis": {
             "endlinecolor": "#2a3f5f",
             "gridcolor": "white",
             "linecolor": "white",
             "minorgridcolor": "white",
             "startlinecolor": "#2a3f5f"
            },
            "baxis": {
             "endlinecolor": "#2a3f5f",
             "gridcolor": "white",
             "linecolor": "white",
             "minorgridcolor": "white",
             "startlinecolor": "#2a3f5f"
            },
            "type": "carpet"
           }
          ],
          "choropleth": [
           {
            "colorbar": {
             "outlinewidth": 0,
             "ticks": ""
            },
            "type": "choropleth"
           }
          ],
          "contour": [
           {
            "colorbar": {
             "outlinewidth": 0,
             "ticks": ""
            },
            "colorscale": [
             [
              0,
              "#0d0887"
             ],
             [
              0.1111111111111111,
              "#46039f"
             ],
             [
              0.2222222222222222,
              "#7201a8"
             ],
             [
              0.3333333333333333,
              "#9c179e"
             ],
             [
              0.4444444444444444,
              "#bd3786"
             ],
             [
              0.5555555555555556,
              "#d8576b"
             ],
             [
              0.6666666666666666,
              "#ed7953"
             ],
             [
              0.7777777777777778,
              "#fb9f3a"
             ],
             [
              0.8888888888888888,
              "#fdca26"
             ],
             [
              1,
              "#f0f921"
             ]
            ],
            "type": "contour"
           }
          ],
          "contourcarpet": [
           {
            "colorbar": {
             "outlinewidth": 0,
             "ticks": ""
            },
            "type": "contourcarpet"
           }
          ],
          "heatmap": [
           {
            "colorbar": {
             "outlinewidth": 0,
             "ticks": ""
            },
            "colorscale": [
             [
              0,
              "#0d0887"
             ],
             [
              0.1111111111111111,
              "#46039f"
             ],
             [
              0.2222222222222222,
              "#7201a8"
             ],
             [
              0.3333333333333333,
              "#9c179e"
             ],
             [
              0.4444444444444444,
              "#bd3786"
             ],
             [
              0.5555555555555556,
              "#d8576b"
             ],
             [
              0.6666666666666666,
              "#ed7953"
             ],
             [
              0.7777777777777778,
              "#fb9f3a"
             ],
             [
              0.8888888888888888,
              "#fdca26"
             ],
             [
              1,
              "#f0f921"
             ]
            ],
            "type": "heatmap"
           }
          ],
          "histogram": [
           {
            "marker": {
             "pattern": {
              "fillmode": "overlay",
              "size": 10,
              "solidity": 0.2
             }
            },
            "type": "histogram"
           }
          ],
          "histogram2d": [
           {
            "colorbar": {
             "outlinewidth": 0,
             "ticks": ""
            },
            "colorscale": [
             [
              0,
              "#0d0887"
             ],
             [
              0.1111111111111111,
              "#46039f"
             ],
             [
              0.2222222222222222,
              "#7201a8"
             ],
             [
              0.3333333333333333,
              "#9c179e"
             ],
             [
              0.4444444444444444,
              "#bd3786"
             ],
             [
              0.5555555555555556,
              "#d8576b"
             ],
             [
              0.6666666666666666,
              "#ed7953"
             ],
             [
              0.7777777777777778,
              "#fb9f3a"
             ],
             [
              0.8888888888888888,
              "#fdca26"
             ],
             [
              1,
              "#f0f921"
             ]
            ],
            "type": "histogram2d"
           }
          ],
          "histogram2dcontour": [
           {
            "colorbar": {
             "outlinewidth": 0,
             "ticks": ""
            },
            "colorscale": [
             [
              0,
              "#0d0887"
             ],
             [
              0.1111111111111111,
              "#46039f"
             ],
             [
              0.2222222222222222,
              "#7201a8"
             ],
             [
              0.3333333333333333,
              "#9c179e"
             ],
             [
              0.4444444444444444,
              "#bd3786"
             ],
             [
              0.5555555555555556,
              "#d8576b"
             ],
             [
              0.6666666666666666,
              "#ed7953"
             ],
             [
              0.7777777777777778,
              "#fb9f3a"
             ],
             [
              0.8888888888888888,
              "#fdca26"
             ],
             [
              1,
              "#f0f921"
             ]
            ],
            "type": "histogram2dcontour"
           }
          ],
          "mesh3d": [
           {
            "colorbar": {
             "outlinewidth": 0,
             "ticks": ""
            },
            "type": "mesh3d"
           }
          ],
          "parcoords": [
           {
            "line": {
             "colorbar": {
              "outlinewidth": 0,
              "ticks": ""
             }
            },
            "type": "parcoords"
           }
          ],
          "pie": [
           {
            "automargin": true,
            "type": "pie"
           }
          ],
          "scatter": [
           {
            "fillpattern": {
             "fillmode": "overlay",
             "size": 10,
             "solidity": 0.2
            },
            "type": "scatter"
           }
          ],
          "scatter3d": [
           {
            "line": {
             "colorbar": {
              "outlinewidth": 0,
              "ticks": ""
             }
            },
            "marker": {
             "colorbar": {
              "outlinewidth": 0,
              "ticks": ""
             }
            },
            "type": "scatter3d"
           }
          ],
          "scattercarpet": [
           {
            "marker": {
             "colorbar": {
              "outlinewidth": 0,
              "ticks": ""
             }
            },
            "type": "scattercarpet"
           }
          ],
          "scattergeo": [
           {
            "marker": {
             "colorbar": {
              "outlinewidth": 0,
              "ticks": ""
             }
            },
            "type": "scattergeo"
           }
          ],
          "scattergl": [
           {
            "marker": {
             "colorbar": {
              "outlinewidth": 0,
              "ticks": ""
             }
            },
            "type": "scattergl"
           }
          ],
          "scattermap": [
           {
            "marker": {
             "colorbar": {
              "outlinewidth": 0,
              "ticks": ""
             }
            },
            "type": "scattermap"
           }
          ],
          "scattermapbox": [
           {
            "marker": {
             "colorbar": {
              "outlinewidth": 0,
              "ticks": ""
             }
            },
            "type": "scattermapbox"
           }
          ],
          "scatterpolar": [
           {
            "marker": {
             "colorbar": {
              "outlinewidth": 0,
              "ticks": ""
             }
            },
            "type": "scatterpolar"
           }
          ],
          "scatterpolargl": [
           {
            "marker": {
             "colorbar": {
              "outlinewidth": 0,
              "ticks": ""
             }
            },
            "type": "scatterpolargl"
           }
          ],
          "scatterternary": [
           {
            "marker": {
             "colorbar": {
              "outlinewidth": 0,
              "ticks": ""
             }
            },
            "type": "scatterternary"
           }
          ],
          "surface": [
           {
            "colorbar": {
             "outlinewidth": 0,
             "ticks": ""
            },
            "colorscale": [
             [
              0,
              "#0d0887"
             ],
             [
              0.1111111111111111,
              "#46039f"
             ],
             [
              0.2222222222222222,
              "#7201a8"
             ],
             [
              0.3333333333333333,
              "#9c179e"
             ],
             [
              0.4444444444444444,
              "#bd3786"
             ],
             [
              0.5555555555555556,
              "#d8576b"
             ],
             [
              0.6666666666666666,
              "#ed7953"
             ],
             [
              0.7777777777777778,
              "#fb9f3a"
             ],
             [
              0.8888888888888888,
              "#fdca26"
             ],
             [
              1,
              "#f0f921"
             ]
            ],
            "type": "surface"
           }
          ],
          "table": [
           {
            "cells": {
             "fill": {
              "color": "#EBF0F8"
             },
             "line": {
              "color": "white"
             }
            },
            "header": {
             "fill": {
              "color": "#C8D4E3"
             },
             "line": {
              "color": "white"
             }
            },
            "type": "table"
           }
          ]
         },
         "layout": {
          "annotationdefaults": {
           "arrowcolor": "#2a3f5f",
           "arrowhead": 0,
           "arrowwidth": 1
          },
          "autotypenumbers": "strict",
          "coloraxis": {
           "colorbar": {
            "outlinewidth": 0,
            "ticks": ""
           }
          },
          "colorscale": {
           "diverging": [
            [
             0,
             "#8e0152"
            ],
            [
             0.1,
             "#c51b7d"
            ],
            [
             0.2,
             "#de77ae"
            ],
            [
             0.3,
             "#f1b6da"
            ],
            [
             0.4,
             "#fde0ef"
            ],
            [
             0.5,
             "#f7f7f7"
            ],
            [
             0.6,
             "#e6f5d0"
            ],
            [
             0.7,
             "#b8e186"
            ],
            [
             0.8,
             "#7fbc41"
            ],
            [
             0.9,
             "#4d9221"
            ],
            [
             1,
             "#276419"
            ]
           ],
           "sequential": [
            [
             0,
             "#0d0887"
            ],
            [
             0.1111111111111111,
             "#46039f"
            ],
            [
             0.2222222222222222,
             "#7201a8"
            ],
            [
             0.3333333333333333,
             "#9c179e"
            ],
            [
             0.4444444444444444,
             "#bd3786"
            ],
            [
             0.5555555555555556,
             "#d8576b"
            ],
            [
             0.6666666666666666,
             "#ed7953"
            ],
            [
             0.7777777777777778,
             "#fb9f3a"
            ],
            [
             0.8888888888888888,
             "#fdca26"
            ],
            [
             1,
             "#f0f921"
            ]
           ],
           "sequentialminus": [
            [
             0,
             "#0d0887"
            ],
            [
             0.1111111111111111,
             "#46039f"
            ],
            [
             0.2222222222222222,
             "#7201a8"
            ],
            [
             0.3333333333333333,
             "#9c179e"
            ],
            [
             0.4444444444444444,
             "#bd3786"
            ],
            [
             0.5555555555555556,
             "#d8576b"
            ],
            [
             0.6666666666666666,
             "#ed7953"
            ],
            [
             0.7777777777777778,
             "#fb9f3a"
            ],
            [
             0.8888888888888888,
             "#fdca26"
            ],
            [
             1,
             "#f0f921"
            ]
           ]
          },
          "colorway": [
           "#636efa",
           "#EF553B",
           "#00cc96",
           "#ab63fa",
           "#FFA15A",
           "#19d3f3",
           "#FF6692",
           "#B6E880",
           "#FF97FF",
           "#FECB52"
          ],
          "font": {
           "color": "#2a3f5f"
          },
          "geo": {
           "bgcolor": "white",
           "lakecolor": "white",
           "landcolor": "#E5ECF6",
           "showlakes": true,
           "showland": true,
           "subunitcolor": "white"
          },
          "hoverlabel": {
           "align": "left"
          },
          "hovermode": "closest",
          "mapbox": {
           "style": "light"
          },
          "paper_bgcolor": "white",
          "plot_bgcolor": "#E5ECF6",
          "polar": {
           "angularaxis": {
            "gridcolor": "white",
            "linecolor": "white",
            "ticks": ""
           },
           "bgcolor": "#E5ECF6",
           "radialaxis": {
            "gridcolor": "white",
            "linecolor": "white",
            "ticks": ""
           }
          },
          "scene": {
           "xaxis": {
            "backgroundcolor": "#E5ECF6",
            "gridcolor": "white",
            "gridwidth": 2,
            "linecolor": "white",
            "showbackground": true,
            "ticks": "",
            "zerolinecolor": "white"
           },
           "yaxis": {
            "backgroundcolor": "#E5ECF6",
            "gridcolor": "white",
            "gridwidth": 2,
            "linecolor": "white",
            "showbackground": true,
            "ticks": "",
            "zerolinecolor": "white"
           },
           "zaxis": {
            "backgroundcolor": "#E5ECF6",
            "gridcolor": "white",
            "gridwidth": 2,
            "linecolor": "white",
            "showbackground": true,
            "ticks": "",
            "zerolinecolor": "white"
           }
          },
          "shapedefaults": {
           "line": {
            "color": "#2a3f5f"
           }
          },
          "ternary": {
           "aaxis": {
            "gridcolor": "white",
            "linecolor": "white",
            "ticks": ""
           },
           "baxis": {
            "gridcolor": "white",
            "linecolor": "white",
            "ticks": ""
           },
           "bgcolor": "#E5ECF6",
           "caxis": {
            "gridcolor": "white",
            "linecolor": "white",
            "ticks": ""
           }
          },
          "title": {
           "x": 0.05
          },
          "xaxis": {
           "automargin": true,
           "gridcolor": "white",
           "linecolor": "white",
           "ticks": "",
           "title": {
            "standoff": 15
           },
           "zerolinecolor": "white",
           "zerolinewidth": 2
          },
          "yaxis": {
           "automargin": true,
           "gridcolor": "white",
           "linecolor": "white",
           "ticks": "",
           "title": {
            "standoff": 15
           },
           "zerolinecolor": "white",
           "zerolinewidth": 2
          }
         }
        },
        "width": 800
       }
      }
     },
     "metadata": {},
     "output_type": "display_data"
    }
   ],
   "source": [
    "trajectory = gradient_descent(deriv_f, initial_guess=6, alpha=0.75, T=20)\n",
    "print(trajectory)\n",
    "plot_steps(trajectory)"
   ]
  },
  {
   "cell_type": "markdown",
   "metadata": {},
   "source": [
    "Above, we've simply run our algorithm a fixed number of times. More sophisticated implementations will stop based on a variety of different stopping criteria, e.g., error getting too small, error getting too large, etc. We will not discuss these in our course."
   ]
  },
  {
   "cell_type": "markdown",
   "metadata": {},
   "source": [
    "In the next part, we'll return to the world of real data and see how this procedure might be useful for optimizing models.\n",
    "\n",
    "<br>\n",
    "\n",
    "**Instructor Note: Return to Lecture!**"
   ]
  },
  {
   "cell_type": "markdown",
   "metadata": {},
   "source": [
    "<br/><br/>\n",
    "<hr style=\"border: 5px solid #003262;\" />\n",
    "<hr style=\"border: 1px solid #fdb515;\" />\n",
    "\n",
    "## Gradient Descent on a 1D Model"
   ]
  },
  {
   "cell_type": "markdown",
   "metadata": {},
   "source": [
    "Recall our modeling workflow from the past few lectures: \n",
    "* Define a model with some parameters $\\theta_i$\n",
    "* Choose a loss function \n",
    "* Select the values of $\\theta_i$ that minimize the loss function on the data\n",
    "\n",
    "Gradient descent is a powerful technique for completing this last task. By applying the gradient descent algorithm, we can select values for our parameters $\\theta_i$ that will lead to the model having minimal loss on the training data.\n",
    "\n",
    "When using gradient descent in a modeling context:\n",
    "* We make guesses for the minimizing $\\theta_i$\n",
    "* We compute the derivative of the loss function $L$\n",
    "\n",
    "Using our gradient descent rule from before:\n",
    "\n",
    "$$\\theta^{(t+1)} = \\theta^{(t)} - \\alpha \\frac{d}{d\\theta} L(\\theta^{(t)})$$\n",
    "\n",
    "To see this in action, let's consider a case where we have a simple linear model with no intercept. \n",
    "\n",
    "$$\\hat{y} = \\theta_1 x$$\n",
    "\n",
    "Let's apply our `gradient_descent` function from before to optimize our model on the `tips` dataset. We will try to select the best parameter $\\theta_i$ to predict the `tip` $y$ from the `total_bill` $x$.\n",
    "\n",
    "$$\n",
    "\\widehat{\\texttt{tip}} = \\texttt{total\\_bill} * \\theta_1\n",
    "$$\n",
    "\n",
    "We want to find the parameter $\\theta_1$ such that the mean squared error is minimized. Our loss function is:\n",
    "\n",
    "$$L(\\theta) = MSE(\\theta) = \\frac{1}{n} \\sum_{i=1}^n (y_i - \\theta_1x_i)^2$$\n",
    "\n"
   ]
  },
  {
   "cell_type": "code",
   "execution_count": null,
   "metadata": {},
   "outputs": [
    {
     "data": {
      "text/html": [
       "<div>\n",
       "<style scoped>\n",
       "    .dataframe tbody tr th:only-of-type {\n",
       "        vertical-align: middle;\n",
       "    }\n",
       "\n",
       "    .dataframe tbody tr th {\n",
       "        vertical-align: top;\n",
       "    }\n",
       "\n",
       "    .dataframe thead th {\n",
       "        text-align: right;\n",
       "    }\n",
       "</style>\n",
       "<table border=\"1\" class=\"dataframe\">\n",
       "  <thead>\n",
       "    <tr style=\"text-align: right;\">\n",
       "      <th></th>\n",
       "      <th>total_bill</th>\n",
       "      <th>tip</th>\n",
       "      <th>sex</th>\n",
       "      <th>smoker</th>\n",
       "      <th>day</th>\n",
       "      <th>time</th>\n",
       "      <th>size</th>\n",
       "    </tr>\n",
       "  </thead>\n",
       "  <tbody>\n",
       "    <tr>\n",
       "      <th>0</th>\n",
       "      <td>16.99</td>\n",
       "      <td>1.01</td>\n",
       "      <td>Female</td>\n",
       "      <td>No</td>\n",
       "      <td>Sun</td>\n",
       "      <td>Dinner</td>\n",
       "      <td>2</td>\n",
       "    </tr>\n",
       "    <tr>\n",
       "      <th>1</th>\n",
       "      <td>10.34</td>\n",
       "      <td>1.66</td>\n",
       "      <td>Male</td>\n",
       "      <td>No</td>\n",
       "      <td>Sun</td>\n",
       "      <td>Dinner</td>\n",
       "      <td>3</td>\n",
       "    </tr>\n",
       "    <tr>\n",
       "      <th>2</th>\n",
       "      <td>21.01</td>\n",
       "      <td>3.50</td>\n",
       "      <td>Male</td>\n",
       "      <td>No</td>\n",
       "      <td>Sun</td>\n",
       "      <td>Dinner</td>\n",
       "      <td>3</td>\n",
       "    </tr>\n",
       "    <tr>\n",
       "      <th>3</th>\n",
       "      <td>23.68</td>\n",
       "      <td>3.31</td>\n",
       "      <td>Male</td>\n",
       "      <td>No</td>\n",
       "      <td>Sun</td>\n",
       "      <td>Dinner</td>\n",
       "      <td>2</td>\n",
       "    </tr>\n",
       "    <tr>\n",
       "      <th>4</th>\n",
       "      <td>24.59</td>\n",
       "      <td>3.61</td>\n",
       "      <td>Female</td>\n",
       "      <td>No</td>\n",
       "      <td>Sun</td>\n",
       "      <td>Dinner</td>\n",
       "      <td>4</td>\n",
       "    </tr>\n",
       "  </tbody>\n",
       "</table>\n",
       "</div>"
      ],
      "text/plain": [
       "   total_bill   tip     sex smoker  day    time  size\n",
       "0       16.99  1.01  Female     No  Sun  Dinner     2\n",
       "1       10.34  1.66    Male     No  Sun  Dinner     3\n",
       "2       21.01  3.50    Male     No  Sun  Dinner     3\n",
       "3       23.68  3.31    Male     No  Sun  Dinner     2\n",
       "4       24.59  3.61  Female     No  Sun  Dinner     4"
      ]
     },
     "execution_count": 195,
     "metadata": {},
     "output_type": "execute_result"
    }
   ],
   "source": [
    "df = sns.load_dataset(\"tips\")\n",
    "df.head()"
   ]
  },
  {
   "cell_type": "markdown",
   "metadata": {},
   "source": [
    "We are want to predict the tip using the total bill."
   ]
  },
  {
   "cell_type": "code",
   "execution_count": null,
   "metadata": {},
   "outputs": [],
   "source": [
    "x = df[\"total_bill\"]\n",
    "y_obs = df[\"tip\"]"
   ]
  },
  {
   "cell_type": "markdown",
   "metadata": {},
   "source": [
    "We can visualize the value of the MSE on our dataset for different possible choices of $\\theta_1$. To optimize our model, we want to select the value of $\\theta_1$ that leads to the lowest MSE."
   ]
  },
  {
   "cell_type": "code",
   "execution_count": null,
   "metadata": {},
   "outputs": [
    {
     "data": {
      "application/vnd.plotly.v1+json": {
       "config": {
        "plotlyServerURL": "https://plot.ly"
       },
       "data": [
        {
         "mode": "lines",
         "name": "MSE",
         "type": "scatter",
         "x": {
          "bdata": "AAAAAAAA+L9DYt7OkJj3v4bEvJ0hMfe/yiabbLLJ9r8NiXk7Q2L2v1DrVwrU+vW/k0022WST9b/XrxSo9Sv1vxoS83aGxPS/XXTRRRdd9L+g1q8UqPXzv+Q4juM4jvO/J5tssskm879q/UqBWr/yv61fKVDrV/K/8MEHH3zw8b80JObtDInxv3eGxLydIfG/uuiiiy668L/+SoFav1Lwv4Fav1Kg1u+/CB988MEH77+O4ziO4zjuvxWo9SsFau2/m2yyySab7L8iMW9nSMzrv6j1KwVq/eq/L7rooosu6r+1fqVArV/pvzxDYt7OkOi/wgcffPDB579JzNsZEvPmv8+QmLczJOa/VVVVVVVV5b/cGRLzdobkv2LezpCYt+O/6aKLLrro4r9vZ0jM2xniv/YrBWr9SuG/fPDBBx984L8Eav1KgVrfvxTzdobEvN2/IHzwwQcf3L8sBWr9SoHavziO4ziO49i/SBdddNFF179UoNavFKjVv2ApUOtXCtS/bLLJJpts0r94O0Ni3s7QvxCJeTtDYs6/KJtssskmy79ArV8pUOvHv1i/UqDWr8S/eNFFF110wb8gx3Ecx3G8v1DrVwrU+rW/AB988MEHr7+AZ0jM2xmiv4C/UqDWr4S/AB988MEHjz9gv1Kg1q+kP3A7Q2LezrA/QBdddNFFtz8Q83aGxLy9P3BnSMzbGcI/WFVVVVVVxT84Q2LezpDIPyAxb2dIzMs/CB988MEHzz94hsS8nSHRP2j9SoFav9I/XHTRRRdd1D9Q61cK1PrVP0Ri3s6QmNc/NNlkk0022T8oUOtXCtTaPxzHcRzHcdw/ED744IMP3j8AtX6lQK3fP/yVArV+peA/dNFFF1104T/sDIl5O0PiP2hIzNsZEuM/4IMPPvjg4z9cv1Kg1q/kP9T6lQK1fuU/TDbZZJNN5j/IcRzHcRznP0CtXylQ6+c/uOiiiy666D80JObtDInpP6xfKVDrV+o/KJtssskm6z+g1q8UqPXrPxgS83aGxOw/lE022WST7T8MiXk7Q2LuP4jEvJ0hMe8/AAAAAAAA8D8=",
          "dtype": "f8"
         },
         "y": [
          1272.1619888319674,
          1233.409912905508,
          1195.2577906278693,
          1157.705621999052,
          1120.753407019054,
          1084.401145687877,
          1048.6488380055207,
          1013.4964839719853,
          978.9440835872698,
          944.9916368513752,
          911.6391437643008,
          878.8866043260474,
          846.7340185366144,
          815.1813863960017,
          784.2287079042096,
          753.8759830612382,
          724.1232118670875,
          694.9703943217571,
          666.4175304252472,
          638.4646201775582,
          611.1116635786891,
          584.3586606286411,
          558.2056113274135,
          532.6525156750064,
          507.6993736714199,
          483.346185316654,
          459.5929506107084,
          436.4396695535835,
          413.8863421452792,
          391.9329683857954,
          370.5795482751321,
          349.8260818132895,
          329.6725690002673,
          310.1190098360655,
          291.1654043206845,
          272.81175245412396,
          255.05805423638398,
          237.90430966746447,
          221.3505187473656,
          205.39668147608722,
          190.0427978536294,
          175.28886787999224,
          161.13489155517547,
          147.58086887917926,
          134.62679985200361,
          122.27268447364862,
          110.51852274411404,
          99.36431466340004,
          88.81006023150655,
          78.85575944843363,
          69.50141231418132,
          60.7470188287495,
          52.59257899213823,
          45.03809280434748,
          38.08356026537734,
          31.728981375227697,
          25.9743561338986,
          20.819684541390043,
          16.264966597702077,
          12.310202302834615,
          8.955391656787699,
          6.200534659561333,
          4.045631311155529,
          2.4906816115702517,
          1.5356855608055222,
          1.1806431588613406,
          1.4255544057377063,
          2.27041930143461,
          3.715237845952066,
          5.760010039290069,
          8.40473588144862,
          11.649415372427688,
          15.49404851222733,
          19.93863530084752,
          24.983175738288256,
          30.62766982454949,
          36.87211755963132,
          43.716518943533686,
          51.16087397625662,
          59.20518265780001,
          67.8494449881641,
          77.09366096734858,
          86.9378305953536,
          97.38195387217935,
          108.42603079782543,
          120.07006137229232,
          132.31404559557947,
          145.15798346768725,
          158.60187498861572,
          172.64572015836453,
          187.2895189769339,
          202.53327144432401,
          218.37697756053447,
          234.82063732556574,
          251.86425073941726,
          269.5078178020893,
          287.75133851358225,
          306.5948128738953,
          326.0382408830293,
          346.0816225409836
         ]
        }
       ],
       "layout": {
        "autosize": false,
        "height": 600,
        "template": {
         "data": {
          "bar": [
           {
            "error_x": {
             "color": "#2a3f5f"
            },
            "error_y": {
             "color": "#2a3f5f"
            },
            "marker": {
             "line": {
              "color": "#E5ECF6",
              "width": 0.5
             },
             "pattern": {
              "fillmode": "overlay",
              "size": 10,
              "solidity": 0.2
             }
            },
            "type": "bar"
           }
          ],
          "barpolar": [
           {
            "marker": {
             "line": {
              "color": "#E5ECF6",
              "width": 0.5
             },
             "pattern": {
              "fillmode": "overlay",
              "size": 10,
              "solidity": 0.2
             }
            },
            "type": "barpolar"
           }
          ],
          "carpet": [
           {
            "aaxis": {
             "endlinecolor": "#2a3f5f",
             "gridcolor": "white",
             "linecolor": "white",
             "minorgridcolor": "white",
             "startlinecolor": "#2a3f5f"
            },
            "baxis": {
             "endlinecolor": "#2a3f5f",
             "gridcolor": "white",
             "linecolor": "white",
             "minorgridcolor": "white",
             "startlinecolor": "#2a3f5f"
            },
            "type": "carpet"
           }
          ],
          "choropleth": [
           {
            "colorbar": {
             "outlinewidth": 0,
             "ticks": ""
            },
            "type": "choropleth"
           }
          ],
          "contour": [
           {
            "colorbar": {
             "outlinewidth": 0,
             "ticks": ""
            },
            "colorscale": [
             [
              0,
              "#0d0887"
             ],
             [
              0.1111111111111111,
              "#46039f"
             ],
             [
              0.2222222222222222,
              "#7201a8"
             ],
             [
              0.3333333333333333,
              "#9c179e"
             ],
             [
              0.4444444444444444,
              "#bd3786"
             ],
             [
              0.5555555555555556,
              "#d8576b"
             ],
             [
              0.6666666666666666,
              "#ed7953"
             ],
             [
              0.7777777777777778,
              "#fb9f3a"
             ],
             [
              0.8888888888888888,
              "#fdca26"
             ],
             [
              1,
              "#f0f921"
             ]
            ],
            "type": "contour"
           }
          ],
          "contourcarpet": [
           {
            "colorbar": {
             "outlinewidth": 0,
             "ticks": ""
            },
            "type": "contourcarpet"
           }
          ],
          "heatmap": [
           {
            "colorbar": {
             "outlinewidth": 0,
             "ticks": ""
            },
            "colorscale": [
             [
              0,
              "#0d0887"
             ],
             [
              0.1111111111111111,
              "#46039f"
             ],
             [
              0.2222222222222222,
              "#7201a8"
             ],
             [
              0.3333333333333333,
              "#9c179e"
             ],
             [
              0.4444444444444444,
              "#bd3786"
             ],
             [
              0.5555555555555556,
              "#d8576b"
             ],
             [
              0.6666666666666666,
              "#ed7953"
             ],
             [
              0.7777777777777778,
              "#fb9f3a"
             ],
             [
              0.8888888888888888,
              "#fdca26"
             ],
             [
              1,
              "#f0f921"
             ]
            ],
            "type": "heatmap"
           }
          ],
          "histogram": [
           {
            "marker": {
             "pattern": {
              "fillmode": "overlay",
              "size": 10,
              "solidity": 0.2
             }
            },
            "type": "histogram"
           }
          ],
          "histogram2d": [
           {
            "colorbar": {
             "outlinewidth": 0,
             "ticks": ""
            },
            "colorscale": [
             [
              0,
              "#0d0887"
             ],
             [
              0.1111111111111111,
              "#46039f"
             ],
             [
              0.2222222222222222,
              "#7201a8"
             ],
             [
              0.3333333333333333,
              "#9c179e"
             ],
             [
              0.4444444444444444,
              "#bd3786"
             ],
             [
              0.5555555555555556,
              "#d8576b"
             ],
             [
              0.6666666666666666,
              "#ed7953"
             ],
             [
              0.7777777777777778,
              "#fb9f3a"
             ],
             [
              0.8888888888888888,
              "#fdca26"
             ],
             [
              1,
              "#f0f921"
             ]
            ],
            "type": "histogram2d"
           }
          ],
          "histogram2dcontour": [
           {
            "colorbar": {
             "outlinewidth": 0,
             "ticks": ""
            },
            "colorscale": [
             [
              0,
              "#0d0887"
             ],
             [
              0.1111111111111111,
              "#46039f"
             ],
             [
              0.2222222222222222,
              "#7201a8"
             ],
             [
              0.3333333333333333,
              "#9c179e"
             ],
             [
              0.4444444444444444,
              "#bd3786"
             ],
             [
              0.5555555555555556,
              "#d8576b"
             ],
             [
              0.6666666666666666,
              "#ed7953"
             ],
             [
              0.7777777777777778,
              "#fb9f3a"
             ],
             [
              0.8888888888888888,
              "#fdca26"
             ],
             [
              1,
              "#f0f921"
             ]
            ],
            "type": "histogram2dcontour"
           }
          ],
          "mesh3d": [
           {
            "colorbar": {
             "outlinewidth": 0,
             "ticks": ""
            },
            "type": "mesh3d"
           }
          ],
          "parcoords": [
           {
            "line": {
             "colorbar": {
              "outlinewidth": 0,
              "ticks": ""
             }
            },
            "type": "parcoords"
           }
          ],
          "pie": [
           {
            "automargin": true,
            "type": "pie"
           }
          ],
          "scatter": [
           {
            "fillpattern": {
             "fillmode": "overlay",
             "size": 10,
             "solidity": 0.2
            },
            "type": "scatter"
           }
          ],
          "scatter3d": [
           {
            "line": {
             "colorbar": {
              "outlinewidth": 0,
              "ticks": ""
             }
            },
            "marker": {
             "colorbar": {
              "outlinewidth": 0,
              "ticks": ""
             }
            },
            "type": "scatter3d"
           }
          ],
          "scattercarpet": [
           {
            "marker": {
             "colorbar": {
              "outlinewidth": 0,
              "ticks": ""
             }
            },
            "type": "scattercarpet"
           }
          ],
          "scattergeo": [
           {
            "marker": {
             "colorbar": {
              "outlinewidth": 0,
              "ticks": ""
             }
            },
            "type": "scattergeo"
           }
          ],
          "scattergl": [
           {
            "marker": {
             "colorbar": {
              "outlinewidth": 0,
              "ticks": ""
             }
            },
            "type": "scattergl"
           }
          ],
          "scattermap": [
           {
            "marker": {
             "colorbar": {
              "outlinewidth": 0,
              "ticks": ""
             }
            },
            "type": "scattermap"
           }
          ],
          "scattermapbox": [
           {
            "marker": {
             "colorbar": {
              "outlinewidth": 0,
              "ticks": ""
             }
            },
            "type": "scattermapbox"
           }
          ],
          "scatterpolar": [
           {
            "marker": {
             "colorbar": {
              "outlinewidth": 0,
              "ticks": ""
             }
            },
            "type": "scatterpolar"
           }
          ],
          "scatterpolargl": [
           {
            "marker": {
             "colorbar": {
              "outlinewidth": 0,
              "ticks": ""
             }
            },
            "type": "scatterpolargl"
           }
          ],
          "scatterternary": [
           {
            "marker": {
             "colorbar": {
              "outlinewidth": 0,
              "ticks": ""
             }
            },
            "type": "scatterternary"
           }
          ],
          "surface": [
           {
            "colorbar": {
             "outlinewidth": 0,
             "ticks": ""
            },
            "colorscale": [
             [
              0,
              "#0d0887"
             ],
             [
              0.1111111111111111,
              "#46039f"
             ],
             [
              0.2222222222222222,
              "#7201a8"
             ],
             [
              0.3333333333333333,
              "#9c179e"
             ],
             [
              0.4444444444444444,
              "#bd3786"
             ],
             [
              0.5555555555555556,
              "#d8576b"
             ],
             [
              0.6666666666666666,
              "#ed7953"
             ],
             [
              0.7777777777777778,
              "#fb9f3a"
             ],
             [
              0.8888888888888888,
              "#fdca26"
             ],
             [
              1,
              "#f0f921"
             ]
            ],
            "type": "surface"
           }
          ],
          "table": [
           {
            "cells": {
             "fill": {
              "color": "#EBF0F8"
             },
             "line": {
              "color": "white"
             }
            },
            "header": {
             "fill": {
              "color": "#C8D4E3"
             },
             "line": {
              "color": "white"
             }
            },
            "type": "table"
           }
          ]
         },
         "layout": {
          "annotationdefaults": {
           "arrowcolor": "#2a3f5f",
           "arrowhead": 0,
           "arrowwidth": 1
          },
          "autotypenumbers": "strict",
          "coloraxis": {
           "colorbar": {
            "outlinewidth": 0,
            "ticks": ""
           }
          },
          "colorscale": {
           "diverging": [
            [
             0,
             "#8e0152"
            ],
            [
             0.1,
             "#c51b7d"
            ],
            [
             0.2,
             "#de77ae"
            ],
            [
             0.3,
             "#f1b6da"
            ],
            [
             0.4,
             "#fde0ef"
            ],
            [
             0.5,
             "#f7f7f7"
            ],
            [
             0.6,
             "#e6f5d0"
            ],
            [
             0.7,
             "#b8e186"
            ],
            [
             0.8,
             "#7fbc41"
            ],
            [
             0.9,
             "#4d9221"
            ],
            [
             1,
             "#276419"
            ]
           ],
           "sequential": [
            [
             0,
             "#0d0887"
            ],
            [
             0.1111111111111111,
             "#46039f"
            ],
            [
             0.2222222222222222,
             "#7201a8"
            ],
            [
             0.3333333333333333,
             "#9c179e"
            ],
            [
             0.4444444444444444,
             "#bd3786"
            ],
            [
             0.5555555555555556,
             "#d8576b"
            ],
            [
             0.6666666666666666,
             "#ed7953"
            ],
            [
             0.7777777777777778,
             "#fb9f3a"
            ],
            [
             0.8888888888888888,
             "#fdca26"
            ],
            [
             1,
             "#f0f921"
            ]
           ],
           "sequentialminus": [
            [
             0,
             "#0d0887"
            ],
            [
             0.1111111111111111,
             "#46039f"
            ],
            [
             0.2222222222222222,
             "#7201a8"
            ],
            [
             0.3333333333333333,
             "#9c179e"
            ],
            [
             0.4444444444444444,
             "#bd3786"
            ],
            [
             0.5555555555555556,
             "#d8576b"
            ],
            [
             0.6666666666666666,
             "#ed7953"
            ],
            [
             0.7777777777777778,
             "#fb9f3a"
            ],
            [
             0.8888888888888888,
             "#fdca26"
            ],
            [
             1,
             "#f0f921"
            ]
           ]
          },
          "colorway": [
           "#636efa",
           "#EF553B",
           "#00cc96",
           "#ab63fa",
           "#FFA15A",
           "#19d3f3",
           "#FF6692",
           "#B6E880",
           "#FF97FF",
           "#FECB52"
          ],
          "font": {
           "color": "#2a3f5f"
          },
          "geo": {
           "bgcolor": "white",
           "lakecolor": "white",
           "landcolor": "#E5ECF6",
           "showlakes": true,
           "showland": true,
           "subunitcolor": "white"
          },
          "hoverlabel": {
           "align": "left"
          },
          "hovermode": "closest",
          "mapbox": {
           "style": "light"
          },
          "paper_bgcolor": "white",
          "plot_bgcolor": "#E5ECF6",
          "polar": {
           "angularaxis": {
            "gridcolor": "white",
            "linecolor": "white",
            "ticks": ""
           },
           "bgcolor": "#E5ECF6",
           "radialaxis": {
            "gridcolor": "white",
            "linecolor": "white",
            "ticks": ""
           }
          },
          "scene": {
           "xaxis": {
            "backgroundcolor": "#E5ECF6",
            "gridcolor": "white",
            "gridwidth": 2,
            "linecolor": "white",
            "showbackground": true,
            "ticks": "",
            "zerolinecolor": "white"
           },
           "yaxis": {
            "backgroundcolor": "#E5ECF6",
            "gridcolor": "white",
            "gridwidth": 2,
            "linecolor": "white",
            "showbackground": true,
            "ticks": "",
            "zerolinecolor": "white"
           },
           "zaxis": {
            "backgroundcolor": "#E5ECF6",
            "gridcolor": "white",
            "gridwidth": 2,
            "linecolor": "white",
            "showbackground": true,
            "ticks": "",
            "zerolinecolor": "white"
           }
          },
          "shapedefaults": {
           "line": {
            "color": "#2a3f5f"
           }
          },
          "ternary": {
           "aaxis": {
            "gridcolor": "white",
            "linecolor": "white",
            "ticks": ""
           },
           "baxis": {
            "gridcolor": "white",
            "linecolor": "white",
            "ticks": ""
           },
           "bgcolor": "#E5ECF6",
           "caxis": {
            "gridcolor": "white",
            "linecolor": "white",
            "ticks": ""
           }
          },
          "title": {
           "x": 0.05
          },
          "xaxis": {
           "automargin": true,
           "gridcolor": "white",
           "linecolor": "white",
           "ticks": "",
           "title": {
            "standoff": 15
           },
           "zerolinecolor": "white",
           "zerolinewidth": 2
          },
          "yaxis": {
           "automargin": true,
           "gridcolor": "white",
           "linecolor": "white",
           "ticks": "",
           "title": {
            "standoff": 15
           },
           "zerolinecolor": "white",
           "zerolinewidth": 2
          }
         }
        },
        "width": 800,
        "xaxis": {
         "title": {
          "text": "theta_1"
         }
        },
        "yaxis": {
         "title": {
          "text": "MSE"
         }
        }
       }
      }
     },
     "metadata": {},
     "output_type": "display_data"
    }
   ],
   "source": [
    "def mse_single_arg(theta_1):\n",
    "    \"\"\"Returns the MSE on our data for the given theta1\"\"\"\n",
    "    y_hat = theta_1 * x\n",
    "    return np.mean((y_hat - y_obs) ** 2) \n",
    "\n",
    "thetas = np.linspace(-1.5, 1, 100)\n",
    "\n",
    "mse_line = go.Scatter(x = thetas, y = [mse_single_arg(theta_1) for theta_1 in thetas], mode = \"lines\", name = \"MSE\")\n",
    "fig = go.Figure()\n",
    "fig.add_trace(mse_line)\n",
    "fig.update_layout(autosize=False, width=800, height=600, xaxis_title=\"theta_1\", yaxis_title=\"MSE\")"
   ]
  },
  {
   "cell_type": "markdown",
   "metadata": {},
   "source": [
    "To apply gradient descent, we need to compute the derivative of the loss function with respect to our parameter $\\theta_1$. This comes out to be:\n",
    "\n",
    "$$\\frac{d}{d\\theta_1} L(\\theta^{(t)}) = \\frac{-2}{n} \\sum_{i=1}^n (y_i - \\theta_1^{(t)}x_i)x_i$$\n",
    "\n",
    "Here, we denote our parameter as $\\theta_1^{(t)}$ to remind ourselves that we compute the derivative assuming $\\theta_i$ has the value of our *current* guess. \n",
    "\n",
    "Our gradient descent update rule is:\n",
    "\n",
    "$$\\theta_1^{(t+1)} = \\theta_1^{(t)} - \\alpha \\frac{-2}{n} \\sum_{i=1}^n (y_i - \\theta_1^{(t)}x_i)x_i$$\n"
   ]
  },
  {
   "cell_type": "markdown",
   "metadata": {},
   "source": [
    "To use our gradient descent function, we need to compute the derivative of the MSE. "
   ]
  },
  {
   "cell_type": "markdown",
   "metadata": {},
   "source": [
    "The derivative of the MSE with respect to `theta_1` is implemented below."
   ]
  },
  {
   "cell_type": "code",
   "execution_count": null,
   "metadata": {},
   "outputs": [],
   "source": [
    "def deriv_mse_single_arg(theta_1):\n",
    "    \"\"\"Returns the derivative of the MSE on our data for the given theta1\"\"\"\n",
    "    y_hat = theta_1 * x\n",
    "    return np.mean(-2 * (y_obs - y_hat) * x)"
   ]
  },
  {
   "cell_type": "markdown",
   "metadata": {},
   "source": [
    "Now, we can apply gradient descent to select a value for $\\theta_1$."
   ]
  },
  {
   "cell_type": "code",
   "execution_count": null,
   "metadata": {
    "tags": []
   },
   "outputs": [
    {
     "name": "stdout",
     "output_type": "stream",
     "text": [
      "Final guess for theta_1: 0.14369554654231262\n"
     ]
    },
    {
     "data": {
      "application/vnd.plotly.v1+json": {
       "config": {
        "plotlyServerURL": "https://plot.ly"
       },
       "data": [
        {
         "mode": "lines",
         "name": "MSE",
         "type": "scatter",
         "x": {
          "bdata": "AAAAAAAA+L9DYt7OkJj3v4bEvJ0hMfe/yiabbLLJ9r8NiXk7Q2L2v1DrVwrU+vW/k0022WST9b/XrxSo9Sv1vxoS83aGxPS/XXTRRRdd9L+g1q8UqPXzv+Q4juM4jvO/J5tssskm879q/UqBWr/yv61fKVDrV/K/8MEHH3zw8b80JObtDInxv3eGxLydIfG/uuiiiy668L/+SoFav1Lwv4Fav1Kg1u+/CB988MEH77+O4ziO4zjuvxWo9SsFau2/m2yyySab7L8iMW9nSMzrv6j1KwVq/eq/L7rooosu6r+1fqVArV/pvzxDYt7OkOi/wgcffPDB579JzNsZEvPmv8+QmLczJOa/VVVVVVVV5b/cGRLzdobkv2LezpCYt+O/6aKLLrro4r9vZ0jM2xniv/YrBWr9SuG/fPDBBx984L8Eav1KgVrfvxTzdobEvN2/IHzwwQcf3L8sBWr9SoHavziO4ziO49i/SBdddNFF179UoNavFKjVv2ApUOtXCtS/bLLJJpts0r94O0Ni3s7QvxCJeTtDYs6/KJtssskmy79ArV8pUOvHv1i/UqDWr8S/eNFFF110wb8gx3Ecx3G8v1DrVwrU+rW/AB988MEHr7+AZ0jM2xmiv4C/UqDWr4S/AB988MEHjz9gv1Kg1q+kP3A7Q2LezrA/QBdddNFFtz8Q83aGxLy9P3BnSMzbGcI/WFVVVVVVxT84Q2LezpDIPyAxb2dIzMs/CB988MEHzz94hsS8nSHRP2j9SoFav9I/XHTRRRdd1D9Q61cK1PrVP0Ri3s6QmNc/NNlkk0022T8oUOtXCtTaPxzHcRzHcdw/ED744IMP3j8AtX6lQK3fP/yVArV+peA/dNFFF1104T/sDIl5O0PiP2hIzNsZEuM/4IMPPvjg4z9cv1Kg1q/kP9T6lQK1fuU/TDbZZJNN5j/IcRzHcRznP0CtXylQ6+c/uOiiiy666D80JObtDInpP6xfKVDrV+o/KJtssskm6z+g1q8UqPXrPxgS83aGxOw/lE022WST7T8MiXk7Q2LuP4jEvJ0hMe8/AAAAAAAA8D8=",
          "dtype": "f8"
         },
         "y": [
          1272.1619888319674,
          1233.409912905508,
          1195.2577906278693,
          1157.705621999052,
          1120.753407019054,
          1084.401145687877,
          1048.6488380055207,
          1013.4964839719853,
          978.9440835872698,
          944.9916368513752,
          911.6391437643008,
          878.8866043260474,
          846.7340185366144,
          815.1813863960017,
          784.2287079042096,
          753.8759830612382,
          724.1232118670875,
          694.9703943217571,
          666.4175304252472,
          638.4646201775582,
          611.1116635786891,
          584.3586606286411,
          558.2056113274135,
          532.6525156750064,
          507.6993736714199,
          483.346185316654,
          459.5929506107084,
          436.4396695535835,
          413.8863421452792,
          391.9329683857954,
          370.5795482751321,
          349.8260818132895,
          329.6725690002673,
          310.1190098360655,
          291.1654043206845,
          272.81175245412396,
          255.05805423638398,
          237.90430966746447,
          221.3505187473656,
          205.39668147608722,
          190.0427978536294,
          175.28886787999224,
          161.13489155517547,
          147.58086887917926,
          134.62679985200361,
          122.27268447364862,
          110.51852274411404,
          99.36431466340004,
          88.81006023150655,
          78.85575944843363,
          69.50141231418132,
          60.7470188287495,
          52.59257899213823,
          45.03809280434748,
          38.08356026537734,
          31.728981375227697,
          25.9743561338986,
          20.819684541390043,
          16.264966597702077,
          12.310202302834615,
          8.955391656787699,
          6.200534659561333,
          4.045631311155529,
          2.4906816115702517,
          1.5356855608055222,
          1.1806431588613406,
          1.4255544057377063,
          2.27041930143461,
          3.715237845952066,
          5.760010039290069,
          8.40473588144862,
          11.649415372427688,
          15.49404851222733,
          19.93863530084752,
          24.983175738288256,
          30.62766982454949,
          36.87211755963132,
          43.716518943533686,
          51.16087397625662,
          59.20518265780001,
          67.8494449881641,
          77.09366096734858,
          86.9378305953536,
          97.38195387217935,
          108.42603079782543,
          120.07006137229232,
          132.31404559557947,
          145.15798346768725,
          158.60187498861572,
          172.64572015836453,
          187.2895189769339,
          202.53327144432401,
          218.37697756053447,
          234.82063732556574,
          251.86425073941726,
          269.5078178020893,
          287.75133851358225,
          306.5948128738953,
          326.0382408830293,
          346.0816225409836
         ]
        },
        {
         "line": {
          "color": "red",
          "dash": "dash"
         },
         "marker": {
          "angleref": "previous",
          "size": 16,
          "standoff": 4,
          "symbol": "arrow"
         },
         "mode": "lines+markers",
         "name": "Path",
         "type": "scatter",
         "x": {
          "bdata": "AAAAAAAA4L+nnpoFuR/cvzRuJx7NnNi/38adznNu1b8V+8gmuIzSv3BLirTJ4M+/dnmrceQly78oa/mx69zGv/937pcn+8K/JPVz2MTtvr8M4WmooI64vwxHmaLyyLK/4BhqSZUcq7+oyjeUKKOhv2Uq6tHYG5K/SPHoDI12ZL8eV1xhVA+HP5r6O5PXSpg/VKVAX1HtoT+Y7TGH+ymnPxqVKKyD6Ks/Z/TG3GMasD/BOSLlwwyyPznJQoZA0LM/zk0MD0NptT/iJOmOytu2PxLJx9R1K7g/FcVWfYxbuT94zSUnB2+6P88TMeGWaLs/T61t5qtKvD97LS63exe9P6/7oJ8G0b0/dXk6uRx5vj90MJBzYhG/PwSx/K9Um78/wU0pPSYMwD+l6fYzwUTAP8zTyNIIeMA/49HbXX2mwD+iXB0Ik9DAPynj0RWz9sA/zr3i4zwZwT91a2bWhjjBPwS+tzDfVME/SHg42YxuwT91BakK0IXBP/7g0PTimsE/mYkJTvqtwT+hCxjXRb/BP9TuntLwzsE/UExTcSLdwT/KtQM0/unBPxYgZkSk9cE/lPGKxTEAwj8Vb74cwQnCPz7TjjNqEsI/wDWcs0Iawj8u3sc8XiHCP/KKSpbOJ8I/gXQs26Mtwj++R46i7DLCP3zbJyS2N8I/KepXWQw8wj/3gRcb+j/CPzYWHD2JQ8I/GBBspsJGwj+JWqNnrknCP+2bH89TTMI/G5NGe7lOwj+cTRRr5VDCPz6gGg3dUsI/tmUXTaVUwj93f0OgQlbCP15ieRC5V8I/WRNPRgxZwj9W2DySP1rCP0+B5/RVW8I/8gWjJlJcwj/oQECeNl3CP2TNNpcFXsI/r3E6F8Fewj8ZDkrzal/CP1e3RNQEYMI/n3IQO5Bgwj+z9VyEDmHCPwbTC+yAYcI/hZdGkOhhwj9jkkp0RmLCPz5F8YKbYsI/nNL7kOhiwj8NKCdfLmPCPxcXDpxtY8I/xRLe5aZjwj9M1uLL2mPCP2TS7M8JZMI/5OGVZzRkwj/PcWf9WmTCP5r85PF9ZMI/N3N9nJ1kwj8=",
          "dtype": "f8"
         },
         "y": [
          196.11235686475408,
          161.1580787122006,
          132.47156324961688,
          108.92891803195458,
          89.60777933988709,
          73.75117542360145,
          60.737869543177695,
          50.05802089263886,
          41.29320984105222,
          34.10004491112225,
          28.196709242544696,
          23.35191945176767,
          19.375864313694684,
          16.112768257165666,
          13.434788323694281,
          11.237005481927785,
          9.433314065427172,
          7.953048288421151,
          6.7382136717402,
          5.7412149105641195,
          4.922991165423927,
          4.2514857200997005,
          3.7003900500237528,
          3.248113095769394,
          2.8769353593857843,
          2.5723146824070104,
          2.3223165070123923,
          2.1171462988686005,
          1.9487658127177676,
          1.8105781666024001,
          1.6971693864317532,
          1.6040962950133195,
          1.5277124353760885,
          1.4650252083358937,
          1.4135786271778823,
          1.3713570959694474,
          1.3367064416896293,
          1.3082691063383332,
          1.284930959954383,
          1.2657776507603167,
          1.2500587823014329,
          1.2371585140958614,
          1.2265714339754967,
          1.2178827568341475,
          1.2107520740010789,
          1.2049000165660249,
          1.200097310145771,
          1.1961557922753243,
          1.1929210404992139,
          1.1902663223431695,
          1.188087630135601,
          1.1862996061510152,
          1.1848321984289212,
          1.1836279162484666,
          1.1826395777326446,
          1.1818284613367445,
          1.1811627887992833,
          1.1806164801198258,
          1.1801681317856907,
          1.1798001782160685,
          1.1794982035702637,
          1.1792503769577853,
          1.1790469889227104,
          1.1788800710425122,
          1.178743083737828,
          1.178630660062053,
          1.1785383954328301,
          1.1784626750674634,
          1.1784005323614273,
          1.1783495326614821,
          1.178307677879796,
          1.1782733282120164,
          1.1782451378923195,
          1.1782220024684278,
          1.1782030155309118,
          1.1781874332014968,
          1.1781746449890853,
          1.1781641498716784,
          1.178155536667124,
          1.178148467923649,
          1.1781426666990282,
          1.1781379057104293,
          1.1781339984298247,
          1.1781307917761217,
          1.178128160117684,
          1.1781260003502834,
          1.1781242278576385,
          1.1781227731962822,
          1.178121579374876,
          1.1781205996213802,
          1.1781197955505966,
          1.1781191356603007,
          1.1781185940970302,
          1.1781181496431912,
          1.1781177848857822,
          1.1781174855341834,
          1.1781172398602708,
          1.1781170382389283,
          1.1781168727709497,
          1.1781167369735597
         ]
        },
        {
         "marker": {
          "color": "red",
          "size": 8
         },
         "mode": "markers",
         "name": "Path",
         "showlegend": false,
         "type": "scatter",
         "x": {
          "bdata": "AAAAAAAA4L+nnpoFuR/cvzRuJx7NnNi/38adznNu1b8V+8gmuIzSv3BLirTJ4M+/dnmrceQly78oa/mx69zGv/937pcn+8K/JPVz2MTtvr8M4WmooI64vwxHmaLyyLK/4BhqSZUcq7+oyjeUKKOhv2Uq6tHYG5K/SPHoDI12ZL8eV1xhVA+HP5r6O5PXSpg/VKVAX1HtoT+Y7TGH+ymnPxqVKKyD6Ks/Z/TG3GMasD/BOSLlwwyyPznJQoZA0LM/zk0MD0NptT/iJOmOytu2PxLJx9R1K7g/FcVWfYxbuT94zSUnB2+6P88TMeGWaLs/T61t5qtKvD97LS63exe9P6/7oJ8G0b0/dXk6uRx5vj90MJBzYhG/PwSx/K9Um78/wU0pPSYMwD+l6fYzwUTAP8zTyNIIeMA/49HbXX2mwD+iXB0Ik9DAPynj0RWz9sA/zr3i4zwZwT91a2bWhjjBPwS+tzDfVME/SHg42YxuwT91BakK0IXBP/7g0PTimsE/mYkJTvqtwT+hCxjXRb/BP9TuntLwzsE/UExTcSLdwT/KtQM0/unBPxYgZkSk9cE/lPGKxTEAwj8Vb74cwQnCPz7TjjNqEsI/wDWcs0Iawj8u3sc8XiHCP/KKSpbOJ8I/gXQs26Mtwj++R46i7DLCP3zbJyS2N8I/KepXWQw8wj/3gRcb+j/CPzYWHD2JQ8I/GBBspsJGwj+JWqNnrknCP+2bH89TTMI/G5NGe7lOwj+cTRRr5VDCPz6gGg3dUsI/tmUXTaVUwj93f0OgQlbCP15ieRC5V8I/WRNPRgxZwj9W2DySP1rCP0+B5/RVW8I/8gWjJlJcwj/oQECeNl3CP2TNNpcFXsI/r3E6F8Fewj8ZDkrzal/CP1e3RNQEYMI/n3IQO5Bgwj+z9VyEDmHCPwbTC+yAYcI/hZdGkOhhwj9jkkp0RmLCPz5F8YKbYsI/nNL7kOhiwj8NKCdfLmPCPxcXDpxtY8I/xRLe5aZjwj9M1uLL2mPCP2TS7M8JZMI/5OGVZzRkwj/PcWf9WmTCP5r85PF9ZMI/N3N9nJ1kwj8=",
          "dtype": "f8"
         },
         "y": [
          196.11235686475408,
          161.1580787122006,
          132.47156324961688,
          108.92891803195458,
          89.60777933988709,
          73.75117542360145,
          60.737869543177695,
          50.05802089263886,
          41.29320984105222,
          34.10004491112225,
          28.196709242544696,
          23.35191945176767,
          19.375864313694684,
          16.112768257165666,
          13.434788323694281,
          11.237005481927785,
          9.433314065427172,
          7.953048288421151,
          6.7382136717402,
          5.7412149105641195,
          4.922991165423927,
          4.2514857200997005,
          3.7003900500237528,
          3.248113095769394,
          2.8769353593857843,
          2.5723146824070104,
          2.3223165070123923,
          2.1171462988686005,
          1.9487658127177676,
          1.8105781666024001,
          1.6971693864317532,
          1.6040962950133195,
          1.5277124353760885,
          1.4650252083358937,
          1.4135786271778823,
          1.3713570959694474,
          1.3367064416896293,
          1.3082691063383332,
          1.284930959954383,
          1.2657776507603167,
          1.2500587823014329,
          1.2371585140958614,
          1.2265714339754967,
          1.2178827568341475,
          1.2107520740010789,
          1.2049000165660249,
          1.200097310145771,
          1.1961557922753243,
          1.1929210404992139,
          1.1902663223431695,
          1.188087630135601,
          1.1862996061510152,
          1.1848321984289212,
          1.1836279162484666,
          1.1826395777326446,
          1.1818284613367445,
          1.1811627887992833,
          1.1806164801198258,
          1.1801681317856907,
          1.1798001782160685,
          1.1794982035702637,
          1.1792503769577853,
          1.1790469889227104,
          1.1788800710425122,
          1.178743083737828,
          1.178630660062053,
          1.1785383954328301,
          1.1784626750674634,
          1.1784005323614273,
          1.1783495326614821,
          1.178307677879796,
          1.1782733282120164,
          1.1782451378923195,
          1.1782220024684278,
          1.1782030155309118,
          1.1781874332014968,
          1.1781746449890853,
          1.1781641498716784,
          1.178155536667124,
          1.178148467923649,
          1.1781426666990282,
          1.1781379057104293,
          1.1781339984298247,
          1.1781307917761217,
          1.178128160117684,
          1.1781260003502834,
          1.1781242278576385,
          1.1781227731962822,
          1.178121579374876,
          1.1781205996213802,
          1.1781197955505966,
          1.1781191356603007,
          1.1781185940970302,
          1.1781181496431912,
          1.1781177848857822,
          1.1781174855341834,
          1.1781172398602708,
          1.1781170382389283,
          1.1781168727709497,
          1.1781167369735597
         ]
        }
       ],
       "layout": {
        "autosize": false,
        "font": {
         "size": 20
        },
        "height": 600,
        "template": {
         "data": {
          "bar": [
           {
            "error_x": {
             "color": "#2a3f5f"
            },
            "error_y": {
             "color": "#2a3f5f"
            },
            "marker": {
             "line": {
              "color": "#E5ECF6",
              "width": 0.5
             },
             "pattern": {
              "fillmode": "overlay",
              "size": 10,
              "solidity": 0.2
             }
            },
            "type": "bar"
           }
          ],
          "barpolar": [
           {
            "marker": {
             "line": {
              "color": "#E5ECF6",
              "width": 0.5
             },
             "pattern": {
              "fillmode": "overlay",
              "size": 10,
              "solidity": 0.2
             }
            },
            "type": "barpolar"
           }
          ],
          "carpet": [
           {
            "aaxis": {
             "endlinecolor": "#2a3f5f",
             "gridcolor": "white",
             "linecolor": "white",
             "minorgridcolor": "white",
             "startlinecolor": "#2a3f5f"
            },
            "baxis": {
             "endlinecolor": "#2a3f5f",
             "gridcolor": "white",
             "linecolor": "white",
             "minorgridcolor": "white",
             "startlinecolor": "#2a3f5f"
            },
            "type": "carpet"
           }
          ],
          "choropleth": [
           {
            "colorbar": {
             "outlinewidth": 0,
             "ticks": ""
            },
            "type": "choropleth"
           }
          ],
          "contour": [
           {
            "colorbar": {
             "outlinewidth": 0,
             "ticks": ""
            },
            "colorscale": [
             [
              0,
              "#0d0887"
             ],
             [
              0.1111111111111111,
              "#46039f"
             ],
             [
              0.2222222222222222,
              "#7201a8"
             ],
             [
              0.3333333333333333,
              "#9c179e"
             ],
             [
              0.4444444444444444,
              "#bd3786"
             ],
             [
              0.5555555555555556,
              "#d8576b"
             ],
             [
              0.6666666666666666,
              "#ed7953"
             ],
             [
              0.7777777777777778,
              "#fb9f3a"
             ],
             [
              0.8888888888888888,
              "#fdca26"
             ],
             [
              1,
              "#f0f921"
             ]
            ],
            "type": "contour"
           }
          ],
          "contourcarpet": [
           {
            "colorbar": {
             "outlinewidth": 0,
             "ticks": ""
            },
            "type": "contourcarpet"
           }
          ],
          "heatmap": [
           {
            "colorbar": {
             "outlinewidth": 0,
             "ticks": ""
            },
            "colorscale": [
             [
              0,
              "#0d0887"
             ],
             [
              0.1111111111111111,
              "#46039f"
             ],
             [
              0.2222222222222222,
              "#7201a8"
             ],
             [
              0.3333333333333333,
              "#9c179e"
             ],
             [
              0.4444444444444444,
              "#bd3786"
             ],
             [
              0.5555555555555556,
              "#d8576b"
             ],
             [
              0.6666666666666666,
              "#ed7953"
             ],
             [
              0.7777777777777778,
              "#fb9f3a"
             ],
             [
              0.8888888888888888,
              "#fdca26"
             ],
             [
              1,
              "#f0f921"
             ]
            ],
            "type": "heatmap"
           }
          ],
          "histogram": [
           {
            "marker": {
             "pattern": {
              "fillmode": "overlay",
              "size": 10,
              "solidity": 0.2
             }
            },
            "type": "histogram"
           }
          ],
          "histogram2d": [
           {
            "colorbar": {
             "outlinewidth": 0,
             "ticks": ""
            },
            "colorscale": [
             [
              0,
              "#0d0887"
             ],
             [
              0.1111111111111111,
              "#46039f"
             ],
             [
              0.2222222222222222,
              "#7201a8"
             ],
             [
              0.3333333333333333,
              "#9c179e"
             ],
             [
              0.4444444444444444,
              "#bd3786"
             ],
             [
              0.5555555555555556,
              "#d8576b"
             ],
             [
              0.6666666666666666,
              "#ed7953"
             ],
             [
              0.7777777777777778,
              "#fb9f3a"
             ],
             [
              0.8888888888888888,
              "#fdca26"
             ],
             [
              1,
              "#f0f921"
             ]
            ],
            "type": "histogram2d"
           }
          ],
          "histogram2dcontour": [
           {
            "colorbar": {
             "outlinewidth": 0,
             "ticks": ""
            },
            "colorscale": [
             [
              0,
              "#0d0887"
             ],
             [
              0.1111111111111111,
              "#46039f"
             ],
             [
              0.2222222222222222,
              "#7201a8"
             ],
             [
              0.3333333333333333,
              "#9c179e"
             ],
             [
              0.4444444444444444,
              "#bd3786"
             ],
             [
              0.5555555555555556,
              "#d8576b"
             ],
             [
              0.6666666666666666,
              "#ed7953"
             ],
             [
              0.7777777777777778,
              "#fb9f3a"
             ],
             [
              0.8888888888888888,
              "#fdca26"
             ],
             [
              1,
              "#f0f921"
             ]
            ],
            "type": "histogram2dcontour"
           }
          ],
          "mesh3d": [
           {
            "colorbar": {
             "outlinewidth": 0,
             "ticks": ""
            },
            "type": "mesh3d"
           }
          ],
          "parcoords": [
           {
            "line": {
             "colorbar": {
              "outlinewidth": 0,
              "ticks": ""
             }
            },
            "type": "parcoords"
           }
          ],
          "pie": [
           {
            "automargin": true,
            "type": "pie"
           }
          ],
          "scatter": [
           {
            "fillpattern": {
             "fillmode": "overlay",
             "size": 10,
             "solidity": 0.2
            },
            "type": "scatter"
           }
          ],
          "scatter3d": [
           {
            "line": {
             "colorbar": {
              "outlinewidth": 0,
              "ticks": ""
             }
            },
            "marker": {
             "colorbar": {
              "outlinewidth": 0,
              "ticks": ""
             }
            },
            "type": "scatter3d"
           }
          ],
          "scattercarpet": [
           {
            "marker": {
             "colorbar": {
              "outlinewidth": 0,
              "ticks": ""
             }
            },
            "type": "scattercarpet"
           }
          ],
          "scattergeo": [
           {
            "marker": {
             "colorbar": {
              "outlinewidth": 0,
              "ticks": ""
             }
            },
            "type": "scattergeo"
           }
          ],
          "scattergl": [
           {
            "marker": {
             "colorbar": {
              "outlinewidth": 0,
              "ticks": ""
             }
            },
            "type": "scattergl"
           }
          ],
          "scattermap": [
           {
            "marker": {
             "colorbar": {
              "outlinewidth": 0,
              "ticks": ""
             }
            },
            "type": "scattermap"
           }
          ],
          "scattermapbox": [
           {
            "marker": {
             "colorbar": {
              "outlinewidth": 0,
              "ticks": ""
             }
            },
            "type": "scattermapbox"
           }
          ],
          "scatterpolar": [
           {
            "marker": {
             "colorbar": {
              "outlinewidth": 0,
              "ticks": ""
             }
            },
            "type": "scatterpolar"
           }
          ],
          "scatterpolargl": [
           {
            "marker": {
             "colorbar": {
              "outlinewidth": 0,
              "ticks": ""
             }
            },
            "type": "scatterpolargl"
           }
          ],
          "scatterternary": [
           {
            "marker": {
             "colorbar": {
              "outlinewidth": 0,
              "ticks": ""
             }
            },
            "type": "scatterternary"
           }
          ],
          "surface": [
           {
            "colorbar": {
             "outlinewidth": 0,
             "ticks": ""
            },
            "colorscale": [
             [
              0,
              "#0d0887"
             ],
             [
              0.1111111111111111,
              "#46039f"
             ],
             [
              0.2222222222222222,
              "#7201a8"
             ],
             [
              0.3333333333333333,
              "#9c179e"
             ],
             [
              0.4444444444444444,
              "#bd3786"
             ],
             [
              0.5555555555555556,
              "#d8576b"
             ],
             [
              0.6666666666666666,
              "#ed7953"
             ],
             [
              0.7777777777777778,
              "#fb9f3a"
             ],
             [
              0.8888888888888888,
              "#fdca26"
             ],
             [
              1,
              "#f0f921"
             ]
            ],
            "type": "surface"
           }
          ],
          "table": [
           {
            "cells": {
             "fill": {
              "color": "#EBF0F8"
             },
             "line": {
              "color": "white"
             }
            },
            "header": {
             "fill": {
              "color": "#C8D4E3"
             },
             "line": {
              "color": "white"
             }
            },
            "type": "table"
           }
          ]
         },
         "layout": {
          "annotationdefaults": {
           "arrowcolor": "#2a3f5f",
           "arrowhead": 0,
           "arrowwidth": 1
          },
          "autotypenumbers": "strict",
          "coloraxis": {
           "colorbar": {
            "outlinewidth": 0,
            "ticks": ""
           }
          },
          "colorscale": {
           "diverging": [
            [
             0,
             "#8e0152"
            ],
            [
             0.1,
             "#c51b7d"
            ],
            [
             0.2,
             "#de77ae"
            ],
            [
             0.3,
             "#f1b6da"
            ],
            [
             0.4,
             "#fde0ef"
            ],
            [
             0.5,
             "#f7f7f7"
            ],
            [
             0.6,
             "#e6f5d0"
            ],
            [
             0.7,
             "#b8e186"
            ],
            [
             0.8,
             "#7fbc41"
            ],
            [
             0.9,
             "#4d9221"
            ],
            [
             1,
             "#276419"
            ]
           ],
           "sequential": [
            [
             0,
             "#0d0887"
            ],
            [
             0.1111111111111111,
             "#46039f"
            ],
            [
             0.2222222222222222,
             "#7201a8"
            ],
            [
             0.3333333333333333,
             "#9c179e"
            ],
            [
             0.4444444444444444,
             "#bd3786"
            ],
            [
             0.5555555555555556,
             "#d8576b"
            ],
            [
             0.6666666666666666,
             "#ed7953"
            ],
            [
             0.7777777777777778,
             "#fb9f3a"
            ],
            [
             0.8888888888888888,
             "#fdca26"
            ],
            [
             1,
             "#f0f921"
            ]
           ],
           "sequentialminus": [
            [
             0,
             "#0d0887"
            ],
            [
             0.1111111111111111,
             "#46039f"
            ],
            [
             0.2222222222222222,
             "#7201a8"
            ],
            [
             0.3333333333333333,
             "#9c179e"
            ],
            [
             0.4444444444444444,
             "#bd3786"
            ],
            [
             0.5555555555555556,
             "#d8576b"
            ],
            [
             0.6666666666666666,
             "#ed7953"
            ],
            [
             0.7777777777777778,
             "#fb9f3a"
            ],
            [
             0.8888888888888888,
             "#fdca26"
            ],
            [
             1,
             "#f0f921"
            ]
           ]
          },
          "colorway": [
           "#636efa",
           "#EF553B",
           "#00cc96",
           "#ab63fa",
           "#FFA15A",
           "#19d3f3",
           "#FF6692",
           "#B6E880",
           "#FF97FF",
           "#FECB52"
          ],
          "font": {
           "color": "#2a3f5f"
          },
          "geo": {
           "bgcolor": "white",
           "lakecolor": "white",
           "landcolor": "#E5ECF6",
           "showlakes": true,
           "showland": true,
           "subunitcolor": "white"
          },
          "hoverlabel": {
           "align": "left"
          },
          "hovermode": "closest",
          "mapbox": {
           "style": "light"
          },
          "paper_bgcolor": "white",
          "plot_bgcolor": "#E5ECF6",
          "polar": {
           "angularaxis": {
            "gridcolor": "white",
            "linecolor": "white",
            "ticks": ""
           },
           "bgcolor": "#E5ECF6",
           "radialaxis": {
            "gridcolor": "white",
            "linecolor": "white",
            "ticks": ""
           }
          },
          "scene": {
           "xaxis": {
            "backgroundcolor": "#E5ECF6",
            "gridcolor": "white",
            "gridwidth": 2,
            "linecolor": "white",
            "showbackground": true,
            "ticks": "",
            "zerolinecolor": "white"
           },
           "yaxis": {
            "backgroundcolor": "#E5ECF6",
            "gridcolor": "white",
            "gridwidth": 2,
            "linecolor": "white",
            "showbackground": true,
            "ticks": "",
            "zerolinecolor": "white"
           },
           "zaxis": {
            "backgroundcolor": "#E5ECF6",
            "gridcolor": "white",
            "gridwidth": 2,
            "linecolor": "white",
            "showbackground": true,
            "ticks": "",
            "zerolinecolor": "white"
           }
          },
          "shapedefaults": {
           "line": {
            "color": "#2a3f5f"
           }
          },
          "ternary": {
           "aaxis": {
            "gridcolor": "white",
            "linecolor": "white",
            "ticks": ""
           },
           "baxis": {
            "gridcolor": "white",
            "linecolor": "white",
            "ticks": ""
           },
           "bgcolor": "#E5ECF6",
           "caxis": {
            "gridcolor": "white",
            "linecolor": "white",
            "ticks": ""
           }
          },
          "title": {
           "x": 0.05
          },
          "xaxis": {
           "automargin": true,
           "gridcolor": "white",
           "linecolor": "white",
           "ticks": "",
           "title": {
            "standoff": 15
           },
           "zerolinecolor": "white",
           "zerolinewidth": 2
          },
          "yaxis": {
           "automargin": true,
           "gridcolor": "white",
           "linecolor": "white",
           "ticks": "",
           "title": {
            "standoff": 15
           },
           "zerolinecolor": "white",
           "zerolinewidth": 2
          }
         }
        },
        "width": 800
       }
      }
     },
     "metadata": {},
     "output_type": "display_data"
    }
   ],
   "source": [
    "trajectory = gradient_descent(deriv_mse_single_arg, initial_guess=-0.5, alpha=0.0001, T=100)\n",
    "print(f\"Final guess for theta_1: {trajectory[-1]}\")\n",
    "plot_steps(trajectory,  mse_single_arg,  mse_line)"
   ]
  },
  {
   "cell_type": "markdown",
   "metadata": {},
   "source": [
    "<br/><br/>\n",
    "**Instructor Note: Return to Lecture!**\n",
    "<br/><br/>"
   ]
  },
  {
   "cell_type": "markdown",
   "metadata": {},
   "source": [
    "<br/><br/>\n",
    "<hr style=\"border: 5px solid #003262;\" />\n",
    "<hr style=\"border: 1px solid #fdb515;\" />\n",
    "\n",
    "## Gradient Descent on Multi-Dimensional Models"
   ]
  },
  {
   "cell_type": "markdown",
   "metadata": {},
   "source": [
    "Now suppose we improve our model so that we want to predict the tip from the total_bill plus a constant offset, in other words:\n",
    "\n",
    "$$\\textrm{tip} = \\theta_0 + \\theta_1 \\textrm{bill}$$\n",
    "\n",
    "Our simple linear regression model has *two* parameters, $\\theta_0$ and $\\theta_1$. We need to optimize both of them.\n",
    "\n",
    "Fortunately, gradient descent readily extends to models with multiple dimenions."
   ]
  },
  {
   "cell_type": "markdown",
   "metadata": {},
   "source": [
    "#### Defining a 2D MSE Function"
   ]
  },
  {
   "cell_type": "markdown",
   "metadata": {},
   "source": [
    "Now, we will generate our predictions as $$\\hat{y} = \\theta_0 + \\theta_1 x_1$$\n",
    "\n",
    "In the cell below, we add a bias term to our data to represent the constant intercept $\\theta_0$."
   ]
  },
  {
   "cell_type": "code",
   "execution_count": null,
   "metadata": {},
   "outputs": [
    {
     "data": {
      "text/html": [
       "<div>\n",
       "<style scoped>\n",
       "    .dataframe tbody tr th:only-of-type {\n",
       "        vertical-align: middle;\n",
       "    }\n",
       "\n",
       "    .dataframe tbody tr th {\n",
       "        vertical-align: top;\n",
       "    }\n",
       "\n",
       "    .dataframe thead th {\n",
       "        text-align: right;\n",
       "    }\n",
       "</style>\n",
       "<table border=\"1\" class=\"dataframe\">\n",
       "  <thead>\n",
       "    <tr style=\"text-align: right;\">\n",
       "      <th></th>\n",
       "      <th>bias</th>\n",
       "      <th>total_bill</th>\n",
       "    </tr>\n",
       "  </thead>\n",
       "  <tbody>\n",
       "    <tr>\n",
       "      <th>0</th>\n",
       "      <td>1</td>\n",
       "      <td>16.99</td>\n",
       "    </tr>\n",
       "    <tr>\n",
       "      <th>1</th>\n",
       "      <td>1</td>\n",
       "      <td>10.34</td>\n",
       "    </tr>\n",
       "    <tr>\n",
       "      <th>2</th>\n",
       "      <td>1</td>\n",
       "      <td>21.01</td>\n",
       "    </tr>\n",
       "    <tr>\n",
       "      <th>3</th>\n",
       "      <td>1</td>\n",
       "      <td>23.68</td>\n",
       "    </tr>\n",
       "    <tr>\n",
       "      <th>4</th>\n",
       "      <td>1</td>\n",
       "      <td>24.59</td>\n",
       "    </tr>\n",
       "  </tbody>\n",
       "</table>\n",
       "</div>"
      ],
      "text/plain": [
       "   bias  total_bill\n",
       "0     1       16.99\n",
       "1     1       10.34\n",
       "2     1       21.01\n",
       "3     1       23.68\n",
       "4     1       24.59"
      ]
     },
     "execution_count": 200,
     "metadata": {},
     "output_type": "execute_result"
    }
   ],
   "source": [
    "tips_with_bias = df.copy()\n",
    "tips_with_bias[\"bias\"] = 1\n",
    "tips_with_bias = tips_with_bias[[\"bias\", \"total_bill\"]]\n",
    "tips_with_bias.head()"
   ]
  },
  {
   "cell_type": "code",
   "execution_count": null,
   "metadata": {},
   "outputs": [],
   "source": [
    "X = tips_with_bias\n",
    "y = df[\"tip\"]"
   ]
  },
  {
   "cell_type": "markdown",
   "metadata": {},
   "source": [
    "Throughout this problem, we'll assume we want to minimize the mean squared error of our predictions:"
   ]
  },
  {
   "cell_type": "code",
   "execution_count": null,
   "metadata": {},
   "outputs": [],
   "source": [
    "def mse_loss(theta):\n",
    "    y_hat = X @ theta\n",
    "    return np.mean((y - y_hat) ** 2)    "
   ]
  },
  {
   "cell_type": "markdown",
   "metadata": {},
   "source": []
  },
  {
   "cell_type": "markdown",
   "metadata": {},
   "source": [
    "Using this function, we can visualize our loss function. Because we now want to understand how the loss changes with respect to *two* parameters, we create a **loss surface**. Each point on the surface represents the loss of the model for a particular choice of $\\theta_0$ and $\\theta_1$.\n",
    "\n",
    "\n",
    "The cell below uses lots of syntax you've never seen. No need to worry about any unfamiliar plotting code; for now, focus on the output."
   ]
  },
  {
   "cell_type": "code",
   "execution_count": null,
   "metadata": {},
   "outputs": [
    {
     "data": {
      "application/vnd.plotly.v1+json": {
       "config": {
        "plotlyServerURL": "https://plot.ly"
       },
       "data": [
        {
         "contours": {
          "z": {
           "color": "white",
           "end": 50,
           "show": true,
           "size": 2,
           "start": 0
          }
         },
         "type": "surface",
         "x": {
          "bdata": "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",
          "dtype": "f8",
          "shape": "20, 20"
         },
         "y": {
          "bdata": "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",
          "dtype": "f8",
          "shape": "20, 20"
         },
         "z": {
          "bdata": "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",
          "dtype": "f8",
          "shape": "20, 20"
         }
        },
        {
         "marker": {
          "color": "red",
          "size": 10
         },
         "name": "Optimal Point",
         "type": "scatter3d",
         "x": [
          1.2105263157894735
         ],
         "y": [
          0.08947368421052629
         ],
         "z": [
          1.0554103531515375
         ]
        }
       ],
       "layout": {
        "autosize": false,
        "height": 600,
        "scene": {
         "xaxis": {
          "title": {
           "text": "theta0"
          }
         },
         "yaxis": {
          "title": {
           "text": "theta1"
          }
         },
         "zaxis": {
          "title": {
           "text": "MSE"
          }
         }
        },
        "template": {
         "data": {
          "bar": [
           {
            "error_x": {
             "color": "#2a3f5f"
            },
            "error_y": {
             "color": "#2a3f5f"
            },
            "marker": {
             "line": {
              "color": "#E5ECF6",
              "width": 0.5
             },
             "pattern": {
              "fillmode": "overlay",
              "size": 10,
              "solidity": 0.2
             }
            },
            "type": "bar"
           }
          ],
          "barpolar": [
           {
            "marker": {
             "line": {
              "color": "#E5ECF6",
              "width": 0.5
             },
             "pattern": {
              "fillmode": "overlay",
              "size": 10,
              "solidity": 0.2
             }
            },
            "type": "barpolar"
           }
          ],
          "carpet": [
           {
            "aaxis": {
             "endlinecolor": "#2a3f5f",
             "gridcolor": "white",
             "linecolor": "white",
             "minorgridcolor": "white",
             "startlinecolor": "#2a3f5f"
            },
            "baxis": {
             "endlinecolor": "#2a3f5f",
             "gridcolor": "white",
             "linecolor": "white",
             "minorgridcolor": "white",
             "startlinecolor": "#2a3f5f"
            },
            "type": "carpet"
           }
          ],
          "choropleth": [
           {
            "colorbar": {
             "outlinewidth": 0,
             "ticks": ""
            },
            "type": "choropleth"
           }
          ],
          "contour": [
           {
            "colorbar": {
             "outlinewidth": 0,
             "ticks": ""
            },
            "colorscale": [
             [
              0,
              "#0d0887"
             ],
             [
              0.1111111111111111,
              "#46039f"
             ],
             [
              0.2222222222222222,
              "#7201a8"
             ],
             [
              0.3333333333333333,
              "#9c179e"
             ],
             [
              0.4444444444444444,
              "#bd3786"
             ],
             [
              0.5555555555555556,
              "#d8576b"
             ],
             [
              0.6666666666666666,
              "#ed7953"
             ],
             [
              0.7777777777777778,
              "#fb9f3a"
             ],
             [
              0.8888888888888888,
              "#fdca26"
             ],
             [
              1,
              "#f0f921"
             ]
            ],
            "type": "contour"
           }
          ],
          "contourcarpet": [
           {
            "colorbar": {
             "outlinewidth": 0,
             "ticks": ""
            },
            "type": "contourcarpet"
           }
          ],
          "heatmap": [
           {
            "colorbar": {
             "outlinewidth": 0,
             "ticks": ""
            },
            "colorscale": [
             [
              0,
              "#0d0887"
             ],
             [
              0.1111111111111111,
              "#46039f"
             ],
             [
              0.2222222222222222,
              "#7201a8"
             ],
             [
              0.3333333333333333,
              "#9c179e"
             ],
             [
              0.4444444444444444,
              "#bd3786"
             ],
             [
              0.5555555555555556,
              "#d8576b"
             ],
             [
              0.6666666666666666,
              "#ed7953"
             ],
             [
              0.7777777777777778,
              "#fb9f3a"
             ],
             [
              0.8888888888888888,
              "#fdca26"
             ],
             [
              1,
              "#f0f921"
             ]
            ],
            "type": "heatmap"
           }
          ],
          "histogram": [
           {
            "marker": {
             "pattern": {
              "fillmode": "overlay",
              "size": 10,
              "solidity": 0.2
             }
            },
            "type": "histogram"
           }
          ],
          "histogram2d": [
           {
            "colorbar": {
             "outlinewidth": 0,
             "ticks": ""
            },
            "colorscale": [
             [
              0,
              "#0d0887"
             ],
             [
              0.1111111111111111,
              "#46039f"
             ],
             [
              0.2222222222222222,
              "#7201a8"
             ],
             [
              0.3333333333333333,
              "#9c179e"
             ],
             [
              0.4444444444444444,
              "#bd3786"
             ],
             [
              0.5555555555555556,
              "#d8576b"
             ],
             [
              0.6666666666666666,
              "#ed7953"
             ],
             [
              0.7777777777777778,
              "#fb9f3a"
             ],
             [
              0.8888888888888888,
              "#fdca26"
             ],
             [
              1,
              "#f0f921"
             ]
            ],
            "type": "histogram2d"
           }
          ],
          "histogram2dcontour": [
           {
            "colorbar": {
             "outlinewidth": 0,
             "ticks": ""
            },
            "colorscale": [
             [
              0,
              "#0d0887"
             ],
             [
              0.1111111111111111,
              "#46039f"
             ],
             [
              0.2222222222222222,
              "#7201a8"
             ],
             [
              0.3333333333333333,
              "#9c179e"
             ],
             [
              0.4444444444444444,
              "#bd3786"
             ],
             [
              0.5555555555555556,
              "#d8576b"
             ],
             [
              0.6666666666666666,
              "#ed7953"
             ],
             [
              0.7777777777777778,
              "#fb9f3a"
             ],
             [
              0.8888888888888888,
              "#fdca26"
             ],
             [
              1,
              "#f0f921"
             ]
            ],
            "type": "histogram2dcontour"
           }
          ],
          "mesh3d": [
           {
            "colorbar": {
             "outlinewidth": 0,
             "ticks": ""
            },
            "type": "mesh3d"
           }
          ],
          "parcoords": [
           {
            "line": {
             "colorbar": {
              "outlinewidth": 0,
              "ticks": ""
             }
            },
            "type": "parcoords"
           }
          ],
          "pie": [
           {
            "automargin": true,
            "type": "pie"
           }
          ],
          "scatter": [
           {
            "fillpattern": {
             "fillmode": "overlay",
             "size": 10,
             "solidity": 0.2
            },
            "type": "scatter"
           }
          ],
          "scatter3d": [
           {
            "line": {
             "colorbar": {
              "outlinewidth": 0,
              "ticks": ""
             }
            },
            "marker": {
             "colorbar": {
              "outlinewidth": 0,
              "ticks": ""
             }
            },
            "type": "scatter3d"
           }
          ],
          "scattercarpet": [
           {
            "marker": {
             "colorbar": {
              "outlinewidth": 0,
              "ticks": ""
             }
            },
            "type": "scattercarpet"
           }
          ],
          "scattergeo": [
           {
            "marker": {
             "colorbar": {
              "outlinewidth": 0,
              "ticks": ""
             }
            },
            "type": "scattergeo"
           }
          ],
          "scattergl": [
           {
            "marker": {
             "colorbar": {
              "outlinewidth": 0,
              "ticks": ""
             }
            },
            "type": "scattergl"
           }
          ],
          "scattermap": [
           {
            "marker": {
             "colorbar": {
              "outlinewidth": 0,
              "ticks": ""
             }
            },
            "type": "scattermap"
           }
          ],
          "scattermapbox": [
           {
            "marker": {
             "colorbar": {
              "outlinewidth": 0,
              "ticks": ""
             }
            },
            "type": "scattermapbox"
           }
          ],
          "scatterpolar": [
           {
            "marker": {
             "colorbar": {
              "outlinewidth": 0,
              "ticks": ""
             }
            },
            "type": "scatterpolar"
           }
          ],
          "scatterpolargl": [
           {
            "marker": {
             "colorbar": {
              "outlinewidth": 0,
              "ticks": ""
             }
            },
            "type": "scatterpolargl"
           }
          ],
          "scatterternary": [
           {
            "marker": {
             "colorbar": {
              "outlinewidth": 0,
              "ticks": ""
             }
            },
            "type": "scatterternary"
           }
          ],
          "surface": [
           {
            "colorbar": {
             "outlinewidth": 0,
             "ticks": ""
            },
            "colorscale": [
             [
              0,
              "#0d0887"
             ],
             [
              0.1111111111111111,
              "#46039f"
             ],
             [
              0.2222222222222222,
              "#7201a8"
             ],
             [
              0.3333333333333333,
              "#9c179e"
             ],
             [
              0.4444444444444444,
              "#bd3786"
             ],
             [
              0.5555555555555556,
              "#d8576b"
             ],
             [
              0.6666666666666666,
              "#ed7953"
             ],
             [
              0.7777777777777778,
              "#fb9f3a"
             ],
             [
              0.8888888888888888,
              "#fdca26"
             ],
             [
              1,
              "#f0f921"
             ]
            ],
            "type": "surface"
           }
          ],
          "table": [
           {
            "cells": {
             "fill": {
              "color": "#EBF0F8"
             },
             "line": {
              "color": "white"
             }
            },
            "header": {
             "fill": {
              "color": "#C8D4E3"
             },
             "line": {
              "color": "white"
             }
            },
            "type": "table"
           }
          ]
         },
         "layout": {
          "annotationdefaults": {
           "arrowcolor": "#2a3f5f",
           "arrowhead": 0,
           "arrowwidth": 1
          },
          "autotypenumbers": "strict",
          "coloraxis": {
           "colorbar": {
            "outlinewidth": 0,
            "ticks": ""
           }
          },
          "colorscale": {
           "diverging": [
            [
             0,
             "#8e0152"
            ],
            [
             0.1,
             "#c51b7d"
            ],
            [
             0.2,
             "#de77ae"
            ],
            [
             0.3,
             "#f1b6da"
            ],
            [
             0.4,
             "#fde0ef"
            ],
            [
             0.5,
             "#f7f7f7"
            ],
            [
             0.6,
             "#e6f5d0"
            ],
            [
             0.7,
             "#b8e186"
            ],
            [
             0.8,
             "#7fbc41"
            ],
            [
             0.9,
             "#4d9221"
            ],
            [
             1,
             "#276419"
            ]
           ],
           "sequential": [
            [
             0,
             "#0d0887"
            ],
            [
             0.1111111111111111,
             "#46039f"
            ],
            [
             0.2222222222222222,
             "#7201a8"
            ],
            [
             0.3333333333333333,
             "#9c179e"
            ],
            [
             0.4444444444444444,
             "#bd3786"
            ],
            [
             0.5555555555555556,
             "#d8576b"
            ],
            [
             0.6666666666666666,
             "#ed7953"
            ],
            [
             0.7777777777777778,
             "#fb9f3a"
            ],
            [
             0.8888888888888888,
             "#fdca26"
            ],
            [
             1,
             "#f0f921"
            ]
           ],
           "sequentialminus": [
            [
             0,
             "#0d0887"
            ],
            [
             0.1111111111111111,
             "#46039f"
            ],
            [
             0.2222222222222222,
             "#7201a8"
            ],
            [
             0.3333333333333333,
             "#9c179e"
            ],
            [
             0.4444444444444444,
             "#bd3786"
            ],
            [
             0.5555555555555556,
             "#d8576b"
            ],
            [
             0.6666666666666666,
             "#ed7953"
            ],
            [
             0.7777777777777778,
             "#fb9f3a"
            ],
            [
             0.8888888888888888,
             "#fdca26"
            ],
            [
             1,
             "#f0f921"
            ]
           ]
          },
          "colorway": [
           "#636efa",
           "#EF553B",
           "#00cc96",
           "#ab63fa",
           "#FFA15A",
           "#19d3f3",
           "#FF6692",
           "#B6E880",
           "#FF97FF",
           "#FECB52"
          ],
          "font": {
           "color": "#2a3f5f"
          },
          "geo": {
           "bgcolor": "white",
           "lakecolor": "white",
           "landcolor": "#E5ECF6",
           "showlakes": true,
           "showland": true,
           "subunitcolor": "white"
          },
          "hoverlabel": {
           "align": "left"
          },
          "hovermode": "closest",
          "mapbox": {
           "style": "light"
          },
          "paper_bgcolor": "white",
          "plot_bgcolor": "#E5ECF6",
          "polar": {
           "angularaxis": {
            "gridcolor": "white",
            "linecolor": "white",
            "ticks": ""
           },
           "bgcolor": "#E5ECF6",
           "radialaxis": {
            "gridcolor": "white",
            "linecolor": "white",
            "ticks": ""
           }
          },
          "scene": {
           "xaxis": {
            "backgroundcolor": "#E5ECF6",
            "gridcolor": "white",
            "gridwidth": 2,
            "linecolor": "white",
            "showbackground": true,
            "ticks": "",
            "zerolinecolor": "white"
           },
           "yaxis": {
            "backgroundcolor": "#E5ECF6",
            "gridcolor": "white",
            "gridwidth": 2,
            "linecolor": "white",
            "showbackground": true,
            "ticks": "",
            "zerolinecolor": "white"
           },
           "zaxis": {
            "backgroundcolor": "#E5ECF6",
            "gridcolor": "white",
            "gridwidth": 2,
            "linecolor": "white",
            "showbackground": true,
            "ticks": "",
            "zerolinecolor": "white"
           }
          },
          "shapedefaults": {
           "line": {
            "color": "#2a3f5f"
           }
          },
          "ternary": {
           "aaxis": {
            "gridcolor": "white",
            "linecolor": "white",
            "ticks": ""
           },
           "baxis": {
            "gridcolor": "white",
            "linecolor": "white",
            "ticks": ""
           },
           "bgcolor": "#E5ECF6",
           "caxis": {
            "gridcolor": "white",
            "linecolor": "white",
            "ticks": ""
           }
          },
          "title": {
           "x": 0.05
          },
          "xaxis": {
           "automargin": true,
           "gridcolor": "white",
           "linecolor": "white",
           "ticks": "",
           "title": {
            "standoff": 15
           },
           "zerolinecolor": "white",
           "zerolinewidth": 2
          },
          "yaxis": {
           "automargin": true,
           "gridcolor": "white",
           "linecolor": "white",
           "ticks": "",
           "title": {
            "standoff": 15
           },
           "zerolinecolor": "white",
           "zerolinewidth": 2
          }
         }
        },
        "width": 800
       }
      }
     },
     "metadata": {},
     "output_type": "display_data"
    }
   ],
   "source": [
    "import plotly.graph_objects as go\n",
    "\n",
    "uvalues = np.linspace(-1, 5, 20)\n",
    "vvalues = np.linspace(-0.1, 0.35, 20)\n",
    "(u,v) = np.meshgrid(uvalues, vvalues)\n",
    "thetas = np.vstack((u.flatten(),v.flatten()))\n",
    "\n",
    "\n",
    "MSE = np.array([mse_loss(t) for t in thetas.T])\n",
    "\n",
    "loss_surface = go.Surface(x=u, \n",
    "    y=v, z=np.reshape(MSE, u.shape),\n",
    "    contours = {\"z\": {\"show\": True, \"start\": 0, \"end\": 50, \"size\": 2, \"color\": \"white\"}})\n",
    "\n",
    "# This is an approximate guess for the optimal point.\n",
    "ind = np.argmin(MSE)\n",
    "optimal_point = go.Scatter3d(name = \"Optimal Point\",\n",
    "    x = [thetas.T[ind,0]], y = [thetas.T[ind,1]], \n",
    "    z = [MSE[ind]],\n",
    "    marker=dict(size=10, color=\"red\"))\n",
    "\n",
    "fig = go.Figure(data=[loss_surface, optimal_point])\n",
    "fig.update_layout(scene = dict(\n",
    "    xaxis_title = \"theta0\",\n",
    "    yaxis_title = \"theta1\",\n",
    "    zaxis_title = \"MSE\"), autosize=False, width=800, height=600)\n",
    "\n",
    "fig.show()"
   ]
  },
  {
   "cell_type": "markdown",
   "metadata": {},
   "source": [
    "Play around with the plot above. We have marked the lowest point on the surface in red – this is the combination of $\\theta_0$ and $\\theta_1$ that leads to the lowest MSE for the model.\n",
    "\n",
    "Alternatively, we can visualize a bird's-eye view of the loss surface from above using a contour plot: "
   ]
  },
  {
   "cell_type": "code",
   "execution_count": null,
   "metadata": {},
   "outputs": [
    {
     "data": {
      "application/vnd.plotly.v1+json": {
       "config": {
        "plotlyServerURL": "https://plot.ly"
       },
       "data": [
        {
         "contours": {
          "end": 70,
          "size": 2,
          "start": 0
         },
         "type": "contour",
         "x": {
          "bdata": "AAAAAAAA8L9RXkN5DeXlv0R5DeU1lNe/MK+hvIbyqr94DeU1lNfQP2wor6G8huI/GsprKK+h7D/kNZTXUF7zP7yG8hrKa/g/lNdQXkN5/T82lNdQXkMBQKG8hvIaygNADeU1lNdQBkB4DeU1lNcIQOQ1lNdQXgtAUF5DeQ3lDUBeQ3kN5TUQQJTXUF5DeRFAymsor6G8EkAAAAAAAAAUQA==",
          "dtype": "f8"
         },
         "y": {
          "bdata": "mpmZmZmZub+YOPV7bomzvyqvobyG8qq/SNqxAmGknb8AWYEw0o51v8gtcer33JI/7FiBMNKOpT94DeU1lNewP3puiVO/57Y/fM8tcer3vD8/GGnHCoTBP8FIO1YgjMQ/Q3kN5TWUxz/Dqd9zS5zKP0XasQJhpM0/YgXCSDtW0D+kHSsQRtrRP+Q1lNdQXtM/JE79nlvi1D9mZmZmZmbWPw==",
          "dtype": "f8"
         },
         "z": {
          "bdata": "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",
          "dtype": "f8",
          "shape": "20, 20"
         }
        }
       ],
       "layout": {
        "autosize": false,
        "height": 600,
        "template": {
         "data": {
          "bar": [
           {
            "error_x": {
             "color": "#2a3f5f"
            },
            "error_y": {
             "color": "#2a3f5f"
            },
            "marker": {
             "line": {
              "color": "#E5ECF6",
              "width": 0.5
             },
             "pattern": {
              "fillmode": "overlay",
              "size": 10,
              "solidity": 0.2
             }
            },
            "type": "bar"
           }
          ],
          "barpolar": [
           {
            "marker": {
             "line": {
              "color": "#E5ECF6",
              "width": 0.5
             },
             "pattern": {
              "fillmode": "overlay",
              "size": 10,
              "solidity": 0.2
             }
            },
            "type": "barpolar"
           }
          ],
          "carpet": [
           {
            "aaxis": {
             "endlinecolor": "#2a3f5f",
             "gridcolor": "white",
             "linecolor": "white",
             "minorgridcolor": "white",
             "startlinecolor": "#2a3f5f"
            },
            "baxis": {
             "endlinecolor": "#2a3f5f",
             "gridcolor": "white",
             "linecolor": "white",
             "minorgridcolor": "white",
             "startlinecolor": "#2a3f5f"
            },
            "type": "carpet"
           }
          ],
          "choropleth": [
           {
            "colorbar": {
             "outlinewidth": 0,
             "ticks": ""
            },
            "type": "choropleth"
           }
          ],
          "contour": [
           {
            "colorbar": {
             "outlinewidth": 0,
             "ticks": ""
            },
            "colorscale": [
             [
              0,
              "#0d0887"
             ],
             [
              0.1111111111111111,
              "#46039f"
             ],
             [
              0.2222222222222222,
              "#7201a8"
             ],
             [
              0.3333333333333333,
              "#9c179e"
             ],
             [
              0.4444444444444444,
              "#bd3786"
             ],
             [
              0.5555555555555556,
              "#d8576b"
             ],
             [
              0.6666666666666666,
              "#ed7953"
             ],
             [
              0.7777777777777778,
              "#fb9f3a"
             ],
             [
              0.8888888888888888,
              "#fdca26"
             ],
             [
              1,
              "#f0f921"
             ]
            ],
            "type": "contour"
           }
          ],
          "contourcarpet": [
           {
            "colorbar": {
             "outlinewidth": 0,
             "ticks": ""
            },
            "type": "contourcarpet"
           }
          ],
          "heatmap": [
           {
            "colorbar": {
             "outlinewidth": 0,
             "ticks": ""
            },
            "colorscale": [
             [
              0,
              "#0d0887"
             ],
             [
              0.1111111111111111,
              "#46039f"
             ],
             [
              0.2222222222222222,
              "#7201a8"
             ],
             [
              0.3333333333333333,
              "#9c179e"
             ],
             [
              0.4444444444444444,
              "#bd3786"
             ],
             [
              0.5555555555555556,
              "#d8576b"
             ],
             [
              0.6666666666666666,
              "#ed7953"
             ],
             [
              0.7777777777777778,
              "#fb9f3a"
             ],
             [
              0.8888888888888888,
              "#fdca26"
             ],
             [
              1,
              "#f0f921"
             ]
            ],
            "type": "heatmap"
           }
          ],
          "histogram": [
           {
            "marker": {
             "pattern": {
              "fillmode": "overlay",
              "size": 10,
              "solidity": 0.2
             }
            },
            "type": "histogram"
           }
          ],
          "histogram2d": [
           {
            "colorbar": {
             "outlinewidth": 0,
             "ticks": ""
            },
            "colorscale": [
             [
              0,
              "#0d0887"
             ],
             [
              0.1111111111111111,
              "#46039f"
             ],
             [
              0.2222222222222222,
              "#7201a8"
             ],
             [
              0.3333333333333333,
              "#9c179e"
             ],
             [
              0.4444444444444444,
              "#bd3786"
             ],
             [
              0.5555555555555556,
              "#d8576b"
             ],
             [
              0.6666666666666666,
              "#ed7953"
             ],
             [
              0.7777777777777778,
              "#fb9f3a"
             ],
             [
              0.8888888888888888,
              "#fdca26"
             ],
             [
              1,
              "#f0f921"
             ]
            ],
            "type": "histogram2d"
           }
          ],
          "histogram2dcontour": [
           {
            "colorbar": {
             "outlinewidth": 0,
             "ticks": ""
            },
            "colorscale": [
             [
              0,
              "#0d0887"
             ],
             [
              0.1111111111111111,
              "#46039f"
             ],
             [
              0.2222222222222222,
              "#7201a8"
             ],
             [
              0.3333333333333333,
              "#9c179e"
             ],
             [
              0.4444444444444444,
              "#bd3786"
             ],
             [
              0.5555555555555556,
              "#d8576b"
             ],
             [
              0.6666666666666666,
              "#ed7953"
             ],
             [
              0.7777777777777778,
              "#fb9f3a"
             ],
             [
              0.8888888888888888,
              "#fdca26"
             ],
             [
              1,
              "#f0f921"
             ]
            ],
            "type": "histogram2dcontour"
           }
          ],
          "mesh3d": [
           {
            "colorbar": {
             "outlinewidth": 0,
             "ticks": ""
            },
            "type": "mesh3d"
           }
          ],
          "parcoords": [
           {
            "line": {
             "colorbar": {
              "outlinewidth": 0,
              "ticks": ""
             }
            },
            "type": "parcoords"
           }
          ],
          "pie": [
           {
            "automargin": true,
            "type": "pie"
           }
          ],
          "scatter": [
           {
            "fillpattern": {
             "fillmode": "overlay",
             "size": 10,
             "solidity": 0.2
            },
            "type": "scatter"
           }
          ],
          "scatter3d": [
           {
            "line": {
             "colorbar": {
              "outlinewidth": 0,
              "ticks": ""
             }
            },
            "marker": {
             "colorbar": {
              "outlinewidth": 0,
              "ticks": ""
             }
            },
            "type": "scatter3d"
           }
          ],
          "scattercarpet": [
           {
            "marker": {
             "colorbar": {
              "outlinewidth": 0,
              "ticks": ""
             }
            },
            "type": "scattercarpet"
           }
          ],
          "scattergeo": [
           {
            "marker": {
             "colorbar": {
              "outlinewidth": 0,
              "ticks": ""
             }
            },
            "type": "scattergeo"
           }
          ],
          "scattergl": [
           {
            "marker": {
             "colorbar": {
              "outlinewidth": 0,
              "ticks": ""
             }
            },
            "type": "scattergl"
           }
          ],
          "scattermap": [
           {
            "marker": {
             "colorbar": {
              "outlinewidth": 0,
              "ticks": ""
             }
            },
            "type": "scattermap"
           }
          ],
          "scattermapbox": [
           {
            "marker": {
             "colorbar": {
              "outlinewidth": 0,
              "ticks": ""
             }
            },
            "type": "scattermapbox"
           }
          ],
          "scatterpolar": [
           {
            "marker": {
             "colorbar": {
              "outlinewidth": 0,
              "ticks": ""
             }
            },
            "type": "scatterpolar"
           }
          ],
          "scatterpolargl": [
           {
            "marker": {
             "colorbar": {
              "outlinewidth": 0,
              "ticks": ""
             }
            },
            "type": "scatterpolargl"
           }
          ],
          "scatterternary": [
           {
            "marker": {
             "colorbar": {
              "outlinewidth": 0,
              "ticks": ""
             }
            },
            "type": "scatterternary"
           }
          ],
          "surface": [
           {
            "colorbar": {
             "outlinewidth": 0,
             "ticks": ""
            },
            "colorscale": [
             [
              0,
              "#0d0887"
             ],
             [
              0.1111111111111111,
              "#46039f"
             ],
             [
              0.2222222222222222,
              "#7201a8"
             ],
             [
              0.3333333333333333,
              "#9c179e"
             ],
             [
              0.4444444444444444,
              "#bd3786"
             ],
             [
              0.5555555555555556,
              "#d8576b"
             ],
             [
              0.6666666666666666,
              "#ed7953"
             ],
             [
              0.7777777777777778,
              "#fb9f3a"
             ],
             [
              0.8888888888888888,
              "#fdca26"
             ],
             [
              1,
              "#f0f921"
             ]
            ],
            "type": "surface"
           }
          ],
          "table": [
           {
            "cells": {
             "fill": {
              "color": "#EBF0F8"
             },
             "line": {
              "color": "white"
             }
            },
            "header": {
             "fill": {
              "color": "#C8D4E3"
             },
             "line": {
              "color": "white"
             }
            },
            "type": "table"
           }
          ]
         },
         "layout": {
          "annotationdefaults": {
           "arrowcolor": "#2a3f5f",
           "arrowhead": 0,
           "arrowwidth": 1
          },
          "autotypenumbers": "strict",
          "coloraxis": {
           "colorbar": {
            "outlinewidth": 0,
            "ticks": ""
           }
          },
          "colorscale": {
           "diverging": [
            [
             0,
             "#8e0152"
            ],
            [
             0.1,
             "#c51b7d"
            ],
            [
             0.2,
             "#de77ae"
            ],
            [
             0.3,
             "#f1b6da"
            ],
            [
             0.4,
             "#fde0ef"
            ],
            [
             0.5,
             "#f7f7f7"
            ],
            [
             0.6,
             "#e6f5d0"
            ],
            [
             0.7,
             "#b8e186"
            ],
            [
             0.8,
             "#7fbc41"
            ],
            [
             0.9,
             "#4d9221"
            ],
            [
             1,
             "#276419"
            ]
           ],
           "sequential": [
            [
             0,
             "#0d0887"
            ],
            [
             0.1111111111111111,
             "#46039f"
            ],
            [
             0.2222222222222222,
             "#7201a8"
            ],
            [
             0.3333333333333333,
             "#9c179e"
            ],
            [
             0.4444444444444444,
             "#bd3786"
            ],
            [
             0.5555555555555556,
             "#d8576b"
            ],
            [
             0.6666666666666666,
             "#ed7953"
            ],
            [
             0.7777777777777778,
             "#fb9f3a"
            ],
            [
             0.8888888888888888,
             "#fdca26"
            ],
            [
             1,
             "#f0f921"
            ]
           ],
           "sequentialminus": [
            [
             0,
             "#0d0887"
            ],
            [
             0.1111111111111111,
             "#46039f"
            ],
            [
             0.2222222222222222,
             "#7201a8"
            ],
            [
             0.3333333333333333,
             "#9c179e"
            ],
            [
             0.4444444444444444,
             "#bd3786"
            ],
            [
             0.5555555555555556,
             "#d8576b"
            ],
            [
             0.6666666666666666,
             "#ed7953"
            ],
            [
             0.7777777777777778,
             "#fb9f3a"
            ],
            [
             0.8888888888888888,
             "#fdca26"
            ],
            [
             1,
             "#f0f921"
            ]
           ]
          },
          "colorway": [
           "#636efa",
           "#EF553B",
           "#00cc96",
           "#ab63fa",
           "#FFA15A",
           "#19d3f3",
           "#FF6692",
           "#B6E880",
           "#FF97FF",
           "#FECB52"
          ],
          "font": {
           "color": "#2a3f5f"
          },
          "geo": {
           "bgcolor": "white",
           "lakecolor": "white",
           "landcolor": "#E5ECF6",
           "showlakes": true,
           "showland": true,
           "subunitcolor": "white"
          },
          "hoverlabel": {
           "align": "left"
          },
          "hovermode": "closest",
          "mapbox": {
           "style": "light"
          },
          "paper_bgcolor": "white",
          "plot_bgcolor": "#E5ECF6",
          "polar": {
           "angularaxis": {
            "gridcolor": "white",
            "linecolor": "white",
            "ticks": ""
           },
           "bgcolor": "#E5ECF6",
           "radialaxis": {
            "gridcolor": "white",
            "linecolor": "white",
            "ticks": ""
           }
          },
          "scene": {
           "xaxis": {
            "backgroundcolor": "#E5ECF6",
            "gridcolor": "white",
            "gridwidth": 2,
            "linecolor": "white",
            "showbackground": true,
            "ticks": "",
            "zerolinecolor": "white"
           },
           "yaxis": {
            "backgroundcolor": "#E5ECF6",
            "gridcolor": "white",
            "gridwidth": 2,
            "linecolor": "white",
            "showbackground": true,
            "ticks": "",
            "zerolinecolor": "white"
           },
           "zaxis": {
            "backgroundcolor": "#E5ECF6",
            "gridcolor": "white",
            "gridwidth": 2,
            "linecolor": "white",
            "showbackground": true,
            "ticks": "",
            "zerolinecolor": "white"
           }
          },
          "shapedefaults": {
           "line": {
            "color": "#2a3f5f"
           }
          },
          "ternary": {
           "aaxis": {
            "gridcolor": "white",
            "linecolor": "white",
            "ticks": ""
           },
           "baxis": {
            "gridcolor": "white",
            "linecolor": "white",
            "ticks": ""
           },
           "bgcolor": "#E5ECF6",
           "caxis": {
            "gridcolor": "white",
            "linecolor": "white",
            "ticks": ""
           }
          },
          "title": {
           "x": 0.05
          },
          "xaxis": {
           "automargin": true,
           "gridcolor": "white",
           "linecolor": "white",
           "ticks": "",
           "title": {
            "standoff": 15
           },
           "zerolinecolor": "white",
           "zerolinewidth": 2
          },
          "yaxis": {
           "automargin": true,
           "gridcolor": "white",
           "linecolor": "white",
           "ticks": "",
           "title": {
            "standoff": 15
           },
           "zerolinecolor": "white",
           "zerolinewidth": 2
          }
         }
        },
        "width": 800,
        "xaxis": {
         "title": {
          "text": "theta0"
         }
        },
        "yaxis": {
         "title": {
          "text": "theta1"
         }
        }
       }
      }
     },
     "metadata": {},
     "output_type": "display_data"
    }
   ],
   "source": [
    "contour = go.Contour(x=u[0], y=v[:, 0], z=np.reshape(MSE, u.shape), \n",
    "                     contours=dict(start=0, end=70,size=2))\n",
    "fig = go.Figure(contour)\n",
    "fig.update_layout(\n",
    "    xaxis_title = \"theta0\",\n",
    "    yaxis_title = \"theta1\", autosize=False, width=800, height=600)\n",
    "\n",
    "fig.show()"
   ]
  },
  {
   "cell_type": "markdown",
   "metadata": {},
   "source": [
    "#### Applying Gradient Descent in 2D"
   ]
  },
  {
   "cell_type": "markdown",
   "metadata": {},
   "source": [
    "When working with multidimensional models, we optimize a *vector* of parameters. Our new update rule is:\n",
    "\n",
    "$$\\vec{\\theta}^{(t+1)} = \\vec{\\theta}^{(t)} - \\alpha \\nabla_{\\vec{\\theta}} L(\\vec{\\theta}^{(t)})$$\n",
    "\n",
    "Where $\\nabla_{\\vec{\\theta}} L(\\vec{\\theta}^{(t)})$ is the **gradient** of the loss function. It is the vector of the partial derivatives of loss with respect to each parameter $\\theta_i$.\n"
   ]
  },
  {
   "cell_type": "markdown",
   "metadata": {},
   "source": [
    "Let's derive the gradient of the loss for our problem:\n",
    "\n",
    "$$\n",
    "\\textbf{L}(\\theta) = \\textbf{MSE}(\\theta) = \\frac{1}{n}\\sum_{i=1}^n \\left(y_i - \\left(\\theta_0 + \\theta_1 x_i\\right)\\right)^2\n",
    "$$\n",
    "\n",
    "Computing the partial derivatives: \n",
    "\\begin{align}\n",
    "\\frac{\\partial }{\\partial \\theta_0}\\textbf{L}(\\theta) & = \n",
    "\\frac{1}{n}\\sum_{i=1}^n \\frac{\\partial }{\\partial \\theta_0}\\left(y_i - \\left(\\theta_0 + \\theta_1 x_i\\right)\\right)^2 \\\\\n",
    "& = \n",
    "\\frac{1}{n}\\sum_{i=1}^n 2\\left(y_i - \\left(\\theta_0 + \\theta_1 x_i\\right)\\right) \\left(- \\frac{\\partial }{\\partial \\theta_0}\\left(\\theta_0 + \\theta_1 x_i\\right)\\right) \\\\\n",
    "& =\n",
    "\\frac{1}{n}\\sum_{i=1}^n 2\\left(y_i - \\left(\\theta_0 + \\theta_1 x_i\\right)\\right) \\left(- 1 \\right) \\\\\n",
    "& = \n",
    "\\frac{-2}{n}\\sum_{i=1}^n \\left(y_i - \\left(\\theta_0 + \\theta_1 x_i\\right)\\right)  \\\\\n",
    "\\frac{\\partial }{\\partial \\theta_1}\\textbf{L}(\\theta) & = \n",
    "\\frac{1}{n}\\sum_{i=1}^n \\frac{\\partial }{\\partial \\theta_1}\\left(y_i - \\left(\\theta_0 + \\theta_1 x_i\\right)\\right)^2 \\\\\n",
    "& = \n",
    "\\frac{1}{n}\\sum_{i=1}^n 2\\left(y_i - \\left(\\theta_0 + \\theta_1 x_i\\right)\\right) \\left(- \\frac{\\partial }{\\partial \\theta_1}\\left(\\theta_0 + \\theta_1 x_i\\right)\\right) \\\\\n",
    "& =\n",
    "\\frac{1}{n}\\sum_{i=1}^n 2\\left(y_i - \\left(\\theta_0 + \\theta_1 x_i\\right)\\right) \\left(- x_i \\right) \\\\\n",
    "& = \n",
    "\\frac{-2}{n}\\sum_{i=1}^n \\left(y_i - \\left(\\theta_0 + \\theta_1 x_i\\right)\\right) x_i  \\\\\n",
    "\\end{align}\n",
    "\n",
    "In the above we used the chain rule: \n",
    "$$\n",
    "\\frac{\\partial}{\\partial\\theta}f(g(\\theta))=\\left.\\left(\\frac{\\partial}{\\partial u}f(u) \\right)\\right\\rvert_{u=\\theta}\\,\\frac{\\partial}{\\partial\\theta}g(\\theta)\n",
    "$$\n",
    "\n",
    "We obtain the gradient:\n",
    "\n",
    "$$\n",
    "\\nabla \\textbf{L}(\\theta) = \n",
    "\\begin{bmatrix}\n",
    "\\frac{-2}{n}\\sum_{i=1}^n \\left(y_i - \\left(\\theta_0 + \\theta_1 x_i\\right)\\right) \\\\\n",
    "\\frac{-2}{n}\\sum_{i=1}^n \\left(y_i - \\left(\\theta_0 + \\theta_1 x_i\\right)\\right) x_i \n",
    "\\end{bmatrix}\n",
    "$$"
   ]
  },
  {
   "cell_type": "markdown",
   "metadata": {},
   "source": [
    "In the cell below, we define helper functions to compute the gradient of MSE with respect to our two parameters $\\theta_0$ and $\\theta_1$, stored in the array `theta`."
   ]
  },
  {
   "cell_type": "code",
   "execution_count": null,
   "metadata": {},
   "outputs": [],
   "source": [
    "def mse_gradient(theta):\n",
    "    \"\"\"Returns the gradient of the MSE on our data for the given theta\"\"\"\n",
    "    x1 = X.iloc[:, 1]\n",
    "    dth0 = np.mean(-2 * (y - (theta[0] + theta[1]*x1)))\n",
    "    dth1 = np.mean(-2 * (y - (theta[0] + theta[1]*x1)) * x1)\n",
    "    return np.array([dth0, dth1])"
   ]
  },
  {
   "cell_type": "markdown",
   "metadata": {},
   "source": [
    "Now, we can use our `gradient_descent` function from before to optimize $\\theta_0$ and $\\theta_1$ at the same time! The final estimates for the ideal model parameters are very similar to the guesses we may have made simply by inspecting the plot of the loss surface from before. \n",
    "\n",
    "The cell below may take a moment to run."
   ]
  },
  {
   "cell_type": "code",
   "execution_count": null,
   "metadata": {},
   "outputs": [
    {
     "data": {
      "text/html": [
       "<div>\n",
       "<style scoped>\n",
       "    .dataframe tbody tr th:only-of-type {\n",
       "        vertical-align: middle;\n",
       "    }\n",
       "\n",
       "    .dataframe tbody tr th {\n",
       "        vertical-align: top;\n",
       "    }\n",
       "\n",
       "    .dataframe thead th {\n",
       "        text-align: right;\n",
       "    }\n",
       "</style>\n",
       "<table border=\"1\" class=\"dataframe\">\n",
       "  <thead>\n",
       "    <tr style=\"text-align: right;\">\n",
       "      <th></th>\n",
       "      <th>theta_0</th>\n",
       "      <th>theta_1</th>\n",
       "    </tr>\n",
       "  </thead>\n",
       "  <tbody>\n",
       "    <tr>\n",
       "      <th>9990</th>\n",
       "      <td>0.922487</td>\n",
       "      <td>0.104931</td>\n",
       "    </tr>\n",
       "    <tr>\n",
       "      <th>9991</th>\n",
       "      <td>0.922486</td>\n",
       "      <td>0.104931</td>\n",
       "    </tr>\n",
       "    <tr>\n",
       "      <th>9992</th>\n",
       "      <td>0.922485</td>\n",
       "      <td>0.104931</td>\n",
       "    </tr>\n",
       "    <tr>\n",
       "      <th>9993</th>\n",
       "      <td>0.922484</td>\n",
       "      <td>0.104931</td>\n",
       "    </tr>\n",
       "    <tr>\n",
       "      <th>9994</th>\n",
       "      <td>0.922484</td>\n",
       "      <td>0.104931</td>\n",
       "    </tr>\n",
       "    <tr>\n",
       "      <th>9995</th>\n",
       "      <td>0.922483</td>\n",
       "      <td>0.104931</td>\n",
       "    </tr>\n",
       "    <tr>\n",
       "      <th>9996</th>\n",
       "      <td>0.922482</td>\n",
       "      <td>0.104931</td>\n",
       "    </tr>\n",
       "    <tr>\n",
       "      <th>9997</th>\n",
       "      <td>0.922481</td>\n",
       "      <td>0.104931</td>\n",
       "    </tr>\n",
       "    <tr>\n",
       "      <th>9998</th>\n",
       "      <td>0.922481</td>\n",
       "      <td>0.104931</td>\n",
       "    </tr>\n",
       "    <tr>\n",
       "      <th>9999</th>\n",
       "      <td>0.922480</td>\n",
       "      <td>0.104932</td>\n",
       "    </tr>\n",
       "  </tbody>\n",
       "</table>\n",
       "</div>"
      ],
      "text/plain": [
       "       theta_0   theta_1\n",
       "9990  0.922487  0.104931\n",
       "9991  0.922486  0.104931\n",
       "9992  0.922485  0.104931\n",
       "9993  0.922484  0.104931\n",
       "9994  0.922484  0.104931\n",
       "9995  0.922483  0.104931\n",
       "9996  0.922482  0.104931\n",
       "9997  0.922481  0.104931\n",
       "9998  0.922481  0.104931\n",
       "9999  0.922480  0.104932"
      ]
     },
     "execution_count": 206,
     "metadata": {},
     "output_type": "execute_result"
    }
   ],
   "source": [
    "# Note that `initial_guess` is now an array of size 2.\n",
    "guesses = gradient_descent(mse_gradient, initial_guess=np.array([1, .5]), alpha=0.001, T=10000)\n",
    "\n",
    "pd.DataFrame(guesses, columns=[\"theta_0\", \"theta_1\"]).tail(10)"
   ]
  },
  {
   "cell_type": "markdown",
   "metadata": {},
   "source": [
    "Comparing with the scipy minimize function."
   ]
  },
  {
   "cell_type": "code",
   "execution_count": null,
   "metadata": {},
   "outputs": [
    {
     "data": {
      "text/plain": [
       "  message: Optimization terminated successfully.\n",
       "  success: True\n",
       "   status: 0\n",
       "      fun: 1.0360194420114932\n",
       "        x: [ 9.203e-01  1.050e-01]\n",
       "      nit: 3\n",
       "      jac: [-4.470e-08 -2.980e-08]\n",
       " hess_inv: [[ 2.980e+00 -1.253e-01]\n",
       "            [-1.253e-01  6.335e-03]]\n",
       "     nfev: 15\n",
       "     njev: 5"
      ]
     },
     "execution_count": 207,
     "metadata": {},
     "output_type": "execute_result"
    }
   ],
   "source": [
    "minimize(mse_loss, x0 = [0,0])"
   ]
  },
  {
   "cell_type": "markdown",
   "metadata": {},
   "source": [
    "We can actually provide the gradient information to the scipy optimizer to get an even faster solution. This is out of scope for Data 100!\n",
    "\n",
    "> `jac` stands for [Jacobian](https://en.wikipedia.org/wiki/Jacobian_matrix_and_determinant)."
   ]
  },
  {
   "cell_type": "code",
   "execution_count": null,
   "metadata": {},
   "outputs": [
    {
     "data": {
      "text/plain": [
       "  message: Optimization terminated successfully.\n",
       "  success: True\n",
       "   status: 0\n",
       "      fun: 1.036019442011377\n",
       "        x: [ 9.203e-01  1.050e-01]\n",
       "      nit: 3\n",
       "      jac: [ 1.456e-16 -5.358e-15]\n",
       " hess_inv: [[ 2.980e+00 -1.253e-01]\n",
       "            [-1.253e-01  6.335e-03]]\n",
       "     nfev: 5\n",
       "     njev: 5"
      ]
     },
     "execution_count": 208,
     "metadata": {},
     "output_type": "execute_result"
    }
   ],
   "source": [
    "minimize(mse_loss, x0 = [0,0], jac=mse_gradient)"
   ]
  },
  {
   "cell_type": "markdown",
   "metadata": {},
   "source": [
    "<br/><br/>\n",
    "**Instructor Note: Return to Lecture!**\n",
    "<br/><br/>"
   ]
  },
  {
   "cell_type": "markdown",
   "metadata": {},
   "source": [
    "<br/><br/>\n",
    "<hr style=\"border: 5px solid #003262;\" />\n",
    "<hr style=\"border: 1px solid #fdb515;\" />\n",
    "\n",
    "## Stochastic Gradient Descent on Multi-Dimensional Models"
   ]
  },
  {
   "cell_type": "code",
   "execution_count": null,
   "metadata": {},
   "outputs": [],
   "source": [
    "def mse_gradient(theta, X, y):\n",
    "    \"\"\"Returns the gradient of the MSE on our data for the given theta\"\"\"\n",
    "    x0 = X.iloc[:, 0]\n",
    "    x1 = X.iloc[:, 1]\n",
    "    dth0 = np.mean(-2 * (y - theta[0]*x0 - theta[1]*x1) * x0)\n",
    "    dth1 = np.mean(-2 * (y - theta[0]*x0 - theta[1]*x1) * x1)\n",
    "    return np.array([dth0, dth1])"
   ]
  },
  {
   "cell_type": "code",
   "execution_count": null,
   "metadata": {},
   "outputs": [],
   "source": [
    "# Run stochastic gradient descent (SGD)\n",
    "# eta is the initial learning rate, which decays as a function of the time step\n",
    "def sgd(grad, X, y, initial_theta, eta = 0.3, max_iter = 5000, batch_size=50 ):\n",
    "    theta = initial_theta\n",
    "    thetas = [theta]\n",
    "    n = len(X)\n",
    "    for t in range(1, max_iter):\n",
    "        X_sample = X.sample(batch_size)\n",
    "        y_sample = y.loc[X_sample.index]\n",
    "        theta = theta - eta/t * grad(theta, X_sample, y_sample)\n",
    "        thetas.append(theta)\n",
    "    return thetas\n"
   ]
  },
  {
   "cell_type": "code",
   "execution_count": null,
   "metadata": {},
   "outputs": [
    {
     "data": {
      "text/plain": [
       "[array([0.97447846, 0.10359937]),\n",
       " array([0.97447844, 0.10359882]),\n",
       " array([0.97447802, 0.10358625]),\n",
       " array([0.97447811, 0.10358758]),\n",
       " array([0.97447794, 0.10358588])]"
      ]
     },
     "execution_count": 211,
     "metadata": {},
     "output_type": "execute_result"
    }
   ],
   "source": [
    "thetas = sgd(mse_gradient, X, y, \n",
    "             initial_theta = np.array([1, .5]), \n",
    "             eta = 0.001, \n",
    "             max_iter = 10000,\n",
    "             batch_size=1)\n",
    "thetas[-5:]"
   ]
  }
 ],
 "metadata": {
  "kernelspec": {
   "display_name": "Python 3",
   "language": "python",
   "name": "python3"
  },
  "language_info": {
   "codemirror_mode": {
    "name": "ipython",
    "version": 3
   },
   "file_extension": ".py",
   "mimetype": "text/x-python",
   "name": "python",
   "nbconvert_exporter": "python",
   "pygments_lexer": "ipython3",
   "version": "3.12.1"
  }
 },
 "nbformat": 4,
 "nbformat_minor": 4
}
