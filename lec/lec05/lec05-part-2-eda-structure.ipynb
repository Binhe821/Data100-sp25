{
 "cells": [
  {
   "cell_type": "markdown",
   "id": "a4875783-3a1e-47a0-bc8f-675647dfc1e1",
   "metadata": {},
   "source": [
    "# 💽 Lecture 5 (Part 2, Data Storage Types) – Data 100, Spring 2025\n",
    "\n",
    "Data 100, Spring 2025\n",
    "\n",
    "[Acknowledgments Page](https://ds100.org/sp25/acks/)"
   ]
  },
  {
   "cell_type": "code",
   "execution_count": 2,
   "id": "cd22501d-8cb4-446f-a393-4c989ffe16cc",
   "metadata": {
    "ExecuteTime": {
     "end_time": "2018-02-02T15:15:15.363920Z",
     "start_time": "2018-02-02T15:15:14.337886Z"
    }
   },
   "outputs": [],
   "source": [
    "import numpy as np\n",
    "import pandas as pd"
   ]
  },
  {
   "cell_type": "code",
   "execution_count": 3,
   "id": "73babc0f-1958-4b75-9e32-f4788b5d7bf3",
   "metadata": {},
   "outputs": [],
   "source": [
    "import matplotlib.pyplot as plt\n",
    "import seaborn as sns\n",
    "#%matplotlib inline\n",
    "plt.rcParams['figure.figsize'] = (12, 9)\n",
    "\n",
    "sns.set()\n",
    "sns.set_context('talk')\n",
    "np.set_printoptions(threshold=20, precision=2, suppress=True)\n",
    "pd.set_option('display.max_rows', 30)\n",
    "pd.set_option('display.max_columns', None)\n",
    "pd.set_option('display.precision', 2)\n",
    "# Use 2 decimal places instead of scientific notation in pandas\n",
    "pd.set_option('display.float_format', '{:.2f}'.format)\n",
    "\n",
    "# Silence some spurious seaborn warnings\n",
    "import warnings\n",
    "warnings.filterwarnings(\"ignore\", category=FutureWarning)"
   ]
  },
  {
   "cell_type": "markdown",
   "id": "f21a193d-131d-43af-92d3-0e189c123994",
   "metadata": {},
   "source": [
    "\n",
    "<br><br><br>\n",
    "\n",
    "---\n",
    "\n",
    "## 🤹‍♀️ File Formats Other than CSV\n",
    "\n",
    "There are many file types for storing structured data: CSV, TSV, JSON, XML, ASCII, SAS...\n",
    "* In lecture, we will cover TSV and JSON since `pandas` supports them out-of-box."
   ]
  },
  {
   "cell_type": "markdown",
   "id": "98960f5a-f880-447b-ad8b-629ad06061b4",
   "metadata": {},
   "source": [
    "TSV stands for tab-separated values. Think CSV, but with tabs (`\\t`) as the delimeter instead of commas.\n",
    "\n",
    "- TSVs are [technically faster](https://stackoverflow.com/questions/11130120/choosing-between-tsv-and-csv) to import than CSVs. \n",
    "\n",
    "- But, historical tradition has led to CSV being the more popular file format."
   ]
  },
  {
   "cell_type": "markdown",
   "id": "1e768a4b",
   "metadata": {},
   "source": [
    "<br>\n",
    "\n",
    "Like we did with `data/cdc_tuberculosis.csv`, you can open `data/cdc_tuberculosis.tsv` in the JupyterLab Explorer to see its contents.\n",
    "\n",
    "<br>\n",
    "<br>"
   ]
  },
  {
   "cell_type": "markdown",
   "id": "21184855",
   "metadata": {},
   "source": [
    "The `pd.read_csv` function also reads TSVs if we specify the **delimiter** with parameter `sep='\\t'` ([documentation](https://pandas.pydata.org/docs/reference/api/pandas.read_csv.html))."
   ]
  },
  {
   "cell_type": "code",
   "execution_count": 4,
   "id": "bdd4a443-a27a-4845-8fd9-f99fad26784f",
   "metadata": {},
   "outputs": [
    {
     "data": {
      "text/html": [
       "<div>\n",
       "<style scoped>\n",
       "    .dataframe tbody tr th:only-of-type {\n",
       "        vertical-align: middle;\n",
       "    }\n",
       "\n",
       "    .dataframe tbody tr th {\n",
       "        vertical-align: top;\n",
       "    }\n",
       "\n",
       "    .dataframe thead th {\n",
       "        text-align: right;\n",
       "    }\n",
       "</style>\n",
       "<table border=\"1\" class=\"dataframe\">\n",
       "  <thead>\n",
       "    <tr style=\"text-align: right;\">\n",
       "      <th></th>\n",
       "      <th>Unnamed: 0</th>\n",
       "      <th>No. of TB cases</th>\n",
       "      <th>Unnamed: 2</th>\n",
       "      <th>Unnamed: 3</th>\n",
       "    </tr>\n",
       "  </thead>\n",
       "  <tbody>\n",
       "    <tr>\n",
       "      <th>0</th>\n",
       "      <td>U.S. jurisdiction</td>\n",
       "      <td>2019</td>\n",
       "      <td>2020</td>\n",
       "      <td>2021</td>\n",
       "    </tr>\n",
       "    <tr>\n",
       "      <th>1</th>\n",
       "      <td>Total</td>\n",
       "      <td>8,900</td>\n",
       "      <td>7,173</td>\n",
       "      <td>7,860</td>\n",
       "    </tr>\n",
       "    <tr>\n",
       "      <th>2</th>\n",
       "      <td>Alabama</td>\n",
       "      <td>87</td>\n",
       "      <td>72</td>\n",
       "      <td>92</td>\n",
       "    </tr>\n",
       "    <tr>\n",
       "      <th>3</th>\n",
       "      <td>Alaska</td>\n",
       "      <td>58</td>\n",
       "      <td>58</td>\n",
       "      <td>58</td>\n",
       "    </tr>\n",
       "    <tr>\n",
       "      <th>4</th>\n",
       "      <td>Arizona</td>\n",
       "      <td>183</td>\n",
       "      <td>136</td>\n",
       "      <td>129</td>\n",
       "    </tr>\n",
       "  </tbody>\n",
       "</table>\n",
       "</div>"
      ],
      "text/plain": [
       "          Unnamed: 0 No. of TB cases Unnamed: 2 Unnamed: 3\n",
       "0  U.S. jurisdiction            2019       2020       2021\n",
       "1              Total           8,900      7,173      7,860\n",
       "2            Alabama              87         72         92\n",
       "3             Alaska              58         58         58\n",
       "4            Arizona             183        136        129"
      ]
     },
     "execution_count": 4,
     "metadata": {},
     "output_type": "execute_result"
    }
   ],
   "source": [
    "# Identical data to Part 1!\n",
    "tuberculosis_df_tsv = pd.read_csv(\"data/cdc_tuberculosis.tsv\", sep='\\t')\n",
    "tuberculosis_df_tsv.head()"
   ]
  },
  {
   "cell_type": "code",
   "execution_count": 5,
   "id": "efb3e3dc",
   "metadata": {},
   "outputs": [
    {
     "name": "stdout",
     "output_type": "stream",
     "text": [
      ",No. of TB cases,,\n",
      "\n",
      "U.S. jurisdiction,2019,2020,2021\n",
      "\n",
      "Total,\"8,900\",\"7,173\",\"7,860\"\n",
      "\n",
      "Alabama,87,72,92\n",
      "\n"
     ]
    }
   ],
   "source": [
    "# CSV representation\n",
    "with open(\"data/cdc_tuberculosis.csv\", \"r\") as f:\n",
    "    for _, row in zip(range(4), f):\n",
    "        print(row) # print raw strings"
   ]
  },
  {
   "cell_type": "code",
   "execution_count": 6,
   "id": "d6bcc7f0",
   "metadata": {},
   "outputs": [
    {
     "name": "stdout",
     "output_type": "stream",
     "text": [
      "\tNo. of TB cases\t\t\n",
      "\n",
      "U.S. jurisdiction\t2019\t2020\t2021\n",
      "\n",
      "Total\t\"8,900\"\t\"7,173\"\t\"7,860\"\n",
      "\n",
      "Alabama\t87\t72\t92\n",
      "\n"
     ]
    }
   ],
   "source": [
    "# TSV representation\n",
    "with open(\"data/cdc_tuberculosis.tsv\", \"r\") as f:\n",
    "    for _, row in zip(range(4), f):\n",
    "        print(row) # print raw strings"
   ]
  },
  {
   "cell_type": "code",
   "execution_count": 7,
   "id": "59fa20d2-0cbe-4da7-a3db-dae144a3ecd0",
   "metadata": {},
   "outputs": [
    {
     "name": "stdout",
     "output_type": "stream",
     "text": [
      "'\\tNo. of TB cases\\t\\t\\n'\n",
      "'U.S. jurisdiction\\t2019\\t2020\\t2021\\n'\n",
      "'Total\\t\"8,900\"\\t\"7,173\"\\t\"7,860\"\\n'\n",
      "'Alabama\\t87\\t72\\t92\\n'\n"
     ]
    }
   ],
   "source": [
    "# Print literal \\t instead of tabbed spaces:\n",
    "with open(\"data/cdc_tuberculosis.tsv\", \"r\") as f:\n",
    "    for _, row in zip(range(4), f):\n",
    "        print(repr(row)) # print raw strings"
   ]
  },
  {
   "cell_type": "markdown",
   "id": "3d419f25-32c1-4b61-aa05-0c471e01a6cf",
   "metadata": {},
   "source": [
    "<br><br>\n",
    "\n",
    "**Instructor note: Return to Slides!**\n"
   ]
  },
  {
   "cell_type": "markdown",
   "id": "c9b4697e-8dad-452d-b956-a2687850f655",
   "metadata": {
    "tags": []
   },
   "source": [
    "<br> <br>\n",
    "\n",
    "---\n",
    "\n",
    "\n",
    "### 🪆 JSON (JavaScript Object Notation)\n",
    "\n",
    "The [congress.gov API](https://gpo.congress.gov/#/) (Application Programming Interface) provides data about the activities and members of the United States Congress (i.e., the House of Representatives and the Senate).\n",
    "\n",
    "- Click the link above to see the kinds of information provided by the API. \n",
    "\n",
    "<br>\n",
    "\n",
    "To get a JSON file containing information about the current members of Congress from California, you could use the following **API call**:\n",
    "\n",
    "- `https://api.congress.gov/v3/member/CA?api_key=[INSERT_KEY]&limit=250&format=json&currentMember=True`\n",
    "\n",
    "- You can instantly sign up for a congress.gov **API key** [here](https://gpo.congress.gov/sign-up/). Once you have your key, replace `[INSERT_KEY]` above with your key, and enter the API call as a URL in your browser. What happens? \n",
    "\n",
    "- Once the JSON from the API call is visible in your browser, you can click `File` --> `Save Page As` to save the JSON file to your computer.\n",
    "\n",
    "- Coarsely, API keys are used to track how much a given user engages with the API. There might be limits to the number of API calls (e.g., congress.gov API limits to 5,000 calls per hour), or a cost for API calls (e.g., using the OpenAI API for programmatically using ChatGPT).\n",
    "\n",
    "<br>\n",
    "\n",
    "For convenience, the JSON file from the call above has already been downloaded for you and is saved at `data/ca-congress-members.json`. "
   ]
  },
  {
   "cell_type": "markdown",
   "id": "b1552740-b687-4252-93b5-fe7c31cc9080",
   "metadata": {},
   "source": [
    "#### 📁 File contents"
   ]
  },
  {
   "cell_type": "markdown",
   "id": "a7f5a198",
   "metadata": {},
   "source": [
    "Let's look at `data/ca-congress-members.json` in the JupyterLab Explorer.\n",
    "\n",
    "- Right-click the file, and then click `Open With` --> `Editor`.\n",
    "\n",
    "- You'll notice that JSON looks a lot like a Python dictionary.\n",
    "\n",
    "- Berkeley, CA is in the 12th district. Can you find our representative in Congress?\n",
    "\n",
    "> Note: In general, it's a good idea to check the file size before opening a file in JupyterLab. Very large files can cause crashes. See `os.path.getsize` [documentation](https://docs.python.org/3/library/os.path.html#os.path.getsize)."
   ]
  },
  {
   "cell_type": "markdown",
   "id": "c1c5d61d",
   "metadata": {},
   "source": [
    "We can programmatically view the first couple lines of the file using the same functions we used with CSVs:"
   ]
  },
  {
   "cell_type": "code",
   "execution_count": 8,
   "id": "10bc5b07",
   "metadata": {},
   "outputs": [
    {
     "name": "stdout",
     "output_type": "stream",
     "text": [
      "{\n",
      "\n",
      "    \"members\": [\n",
      "\n",
      "        {\n",
      "\n",
      "            \"bioguideId\": \"T000491\",\n",
      "\n",
      "            \"depiction\": {\n",
      "\n"
     ]
    }
   ],
   "source": [
    "congress_file = \"data/ca-congress-members.json\"\n",
    "\n",
    "# Inspect the first five lines of the file\n",
    "with open(congress_file, \"r\") as f:\n",
    "    for i, row in enumerate(f):\n",
    "        print(row)\n",
    "        if i >= 4: break"
   ]
  },
  {
   "cell_type": "markdown",
   "id": "85fa0b37-70b7-4eaa-be61-73632928eecb",
   "metadata": {
    "tags": []
   },
   "source": [
    "### 🐍 EDA: Digging into JSON with Python\n",
    "\n",
    "JSON data closely matches the internal Python object model.  \n",
    "\n",
    "- In the following cell, we import the entire JSON datafile into a Python dictionary using the `json` package."
   ]
  },
  {
   "cell_type": "code",
   "execution_count": 9,
   "id": "e227500a-c56b-41c4-bbe8-60ee0f2ce088",
   "metadata": {
    "ExecuteTime": {
     "end_time": "2018-02-02T15:15:19.441300Z",
     "start_time": "2018-02-02T15:15:19.358900Z"
    }
   },
   "outputs": [
    {
     "name": "stdout",
     "output_type": "stream",
     "text": [
      "{'members': [{'bioguideId': 'T000491', 'depiction': {'attribution': 'Image courtesy of the Member', 'imageUrl': 'https://www.congress.gov/img/member/6774606d0b34857ecc9091a9_200.jpg'}, 'district': 45, 'name': 'Tran, Derek', 'partyName': 'Democratic', 'state': 'California', 'terms': {'item': [{'chamber': 'House of Representatives', 'startYear': 2025}]}, 'updateDate': '2025-01-21T18:00:52Z', 'url': 'https://api.congress.gov/v3/member/T000491?format=json'}, {'bioguideId': 'M001241', 'depiction': {'attribution': 'Image courtesy of the Member', 'imageUrl': 'https://www.congress.gov/img/member/67744ed90b34857ecc909155_200.jpg'}, 'district': 47, 'name': 'Min, Dave', 'partyName': 'Democratic', 'state': 'California', 'terms': {'item': [{'chamber': 'House of Representatives', 'startYear': 2025}]}, 'updateDate': '2025-01-21T18:00:52Z', 'url': 'https://api.congress.gov/v3/member/M001241?format=json'}, {'bioguideId': 'K000400', 'depiction': {'attribution': 'Image courtesy of the Member', 'imageUrl': 'https://www.congress.gov/img/member/k000400_200.jpg'}, 'district': 37, 'name': 'Kamlager-Dove, Sydney', 'partyName': 'Democratic', 'state': 'California', 'terms': {'item': [{'chamber': 'House of Representatives', 'startYear': 2023}]}, 'updateDate': '2025-01-21T18:00:52Z', 'url': 'https://api.congress.gov/v3/member/K000400?format=json'}, {'bioguideId': 'G000598', 'depiction': {'attribution': 'Image courtesy of the Member', 'imageUrl': 'https://www.congress.gov/img/member/g000598_200.jpg'}, 'district': 42, 'name': 'Garcia, Robert', 'partyName': 'Democratic', 'state': 'California', 'terms': {'item': [{'chamber': 'House of Representatives', 'startYear': 2023}]}, 'updateDate': '2025-01-21T18:00:52Z', 'url': 'https://api.congress.gov/v3/member/G000598?format=json'}, {'bioguideId': 'K000397', 'depiction': {'attribution': 'Image courtesy of the Member', 'imageUrl': 'https://www.congress.gov/img/member/k000397_200.jpg'}, 'district': 40, 'name': 'Kim, Young', 'partyName': 'Republican', 'state': 'California', 'terms': {'item': [{'chamber': 'House of Representatives', 'startYear': 2021}]}, 'updateDate': '2025-01-21T18:00:52Z', 'url': 'https://api.congress.gov/v3/member/K000397?format=json'}, {'bioguideId': 'J000305', 'depiction': {'attribution': 'Image courtesy of the Member', 'imageUrl': 'https://www.congress.gov/img/member/j000305_200.jpg'}, 'district': 51, 'name': 'Jacobs, Sara', 'partyName': 'Democratic', 'state': 'California', 'terms': {'item': [{'chamber': 'House of Representatives', 'startYear': 2021}]}, 'updateDate': '2025-01-21T18:00:52Z', 'url': 'https://api.congress.gov/v3/member/J000305?format=json'}, {'bioguideId': 'C001110', 'depiction': {'attribution': 'Congressional Pictorial Directory', 'imageUrl': 'https://www.congress.gov/img/member/115_rp_ca_46_correa_j_200.jpg'}, 'district': 46, 'name': 'Correa, J. Luis', 'partyName': 'Democratic', 'state': 'California', 'terms': {'item': [{'chamber': 'House of Representatives', 'startYear': 2017}]}, 'updateDate': '2025-01-21T18:00:52Z', 'url': 'https://api.congress.gov/v3/member/C001110?format=json'}, {'bioguideId': 'P000608', 'depiction': {'attribution': 'Image courtesy of the Member', 'imageUrl': 'https://www.congress.gov/img/member/p000608_200.jpg'}, 'district': 50, 'name': 'Peters, Scott H.', 'partyName': 'Democratic', 'state': 'California', 'terms': {'item': [{'chamber': 'House of Representatives', 'startYear': 2013}]}, 'updateDate': '2025-01-21T18:00:52Z', 'url': 'https://api.congress.gov/v3/member/P000608?format=json'}, {'bioguideId': 'V000130', 'depiction': {'attribution': 'Image courtesy of the Member', 'imageUrl': 'https://www.congress.gov/img/member/v000130_200.jpg'}, 'district': 52, 'name': 'Vargas, Juan', 'partyName': 'Democratic', 'state': 'California', 'terms': {'item': [{'chamber': 'House of Representatives', 'startYear': 2013}]}, 'updateDate': '2025-01-21T18:00:52Z', 'url': 'https://api.congress.gov/v3/member/V000130?format=json'}, {'bioguideId': 'S001156', 'depiction': {'attribution': 'Congressional Pictorial Directory', 'imageUrl': 'https://www.congress.gov/img/member/116_rp_ca_38_snchez_linda_200.jpg'}, 'district': 38, 'name': 'Sánchez, Linda T.', 'partyName': 'Democratic', 'state': 'California', 'terms': {'item': [{'chamber': 'House of Representatives', 'startYear': 2003}]}, 'updateDate': '2025-01-21T18:00:52Z', 'url': 'https://api.congress.gov/v3/member/S001156?format=json'}, {'bioguideId': 'W000830', 'depiction': {'attribution': 'Image courtesy of the Member', 'imageUrl': 'https://www.congress.gov/img/member/677461d40b34857ecc9091bb_200.jpg'}, 'district': 27, 'name': 'Whitesides, George', 'partyName': 'Democratic', 'state': 'California', 'terms': {'item': [{'chamber': 'House of Representatives', 'startYear': 2025}]}, 'updateDate': '2025-01-21T18:00:51Z', 'url': 'https://api.congress.gov/v3/member/W000830?format=json'}, {'bioguideId': 'S001231', 'depiction': {'attribution': 'Image courtesy of the Member', 'imageUrl': 'https://www.congress.gov/img/member/67745f940b34857ecc909197_200.jpg'}, 'district': 12, 'name': 'Simon, Lateefah', 'partyName': 'Democratic', 'state': 'California', 'terms': {'item': [{'chamber': 'House of Representatives', 'startYear': 2025}]}, 'updateDate': '2025-01-21T18:00:51Z', 'url': 'https://api.congress.gov/v3/member/S001231?format=json'}, {'bioguideId': 'R000620', 'depiction': {'attribution': 'Image courtesy of the Member', 'imageUrl': 'https://www.congress.gov/img/member/67745d860b34857ecc90916d_200.jpg'}, 'district': 29, 'name': 'Rivas, Luz', 'partyName': 'Democratic', 'state': 'California', 'terms': {'item': [{'chamber': 'House of Representatives', 'startYear': 2025}]}, 'updateDate': '2025-01-21T18:00:51Z', 'url': 'https://api.congress.gov/v3/member/R000620?format=json'}, {'bioguideId': 'L000607', 'depiction': {'attribution': 'Image courtesy of the Member', 'imageUrl': 'https://www.congress.gov/img/member/6774305d0b34857ecc90910d_200.jpg'}, 'district': 16, 'name': 'Liccardo, Sam', 'partyName': 'Democratic', 'state': 'California', 'terms': {'item': [{'chamber': 'House of Representatives', 'startYear': 2025}]}, 'updateDate': '2025-01-21T18:00:51Z', 'url': 'https://api.congress.gov/v3/member/L000607?format=json'}, {'bioguideId': 'G000605', 'depiction': {'attribution': 'Image courtesy of the Member', 'imageUrl': 'https://www.congress.gov/img/member/67742a160b34857ecc9090bf_200.jpg'}, 'district': 13, 'name': 'Gray, Adam', 'partyName': 'Democratic', 'state': 'California', 'terms': {'item': [{'chamber': 'House of Representatives', 'startYear': 2025}]}, 'updateDate': '2025-01-21T18:00:51Z', 'url': 'https://api.congress.gov/v3/member/G000605?format=json'}, {'bioguideId': 'F000483', 'depiction': {'attribution': 'Image courtesy of the Member', 'imageUrl': 'https://www.congress.gov/img/member/677427070b34857ecc9090a1_200.jpg'}, 'district': 30, 'name': 'Friedman, Laura', 'partyName': 'Democratic', 'state': 'California', 'terms': {'item': [{'chamber': 'House of Representatives', 'startYear': 2025}]}, 'updateDate': '2025-01-21T18:00:51Z', 'url': 'https://api.congress.gov/v3/member/F000483?format=json'}, {'bioguideId': 'F000480', 'depiction': {'attribution': 'Image courtesy of the Member', 'imageUrl': 'https://www.congress.gov/img/member/669ff04f5d19788d1f2034aa_200.jpg'}, 'district': 20, 'name': 'Fong, Vince', 'partyName': 'Republican', 'state': 'California', 'terms': {'item': [{'chamber': 'House of Representatives', 'startYear': 2024}]}, 'updateDate': '2025-01-21T18:00:51Z', 'url': 'https://api.congress.gov/v3/member/F000480?format=json'}, {'bioguideId': 'O000019', 'depiction': {'attribution': 'Image courtesy of the Member', 'imageUrl': 'https://www.congress.gov/img/member/o000019_200.jpg'}, 'district': 23, 'name': 'Obernolte, Jay', 'partyName': 'Republican', 'state': 'California', 'terms': {'item': [{'chamber': 'House of Representatives', 'startYear': 2021}]}, 'updateDate': '2025-01-21T18:00:51Z', 'url': 'https://api.congress.gov/v3/member/O000019?format=json'}, {'bioguideId': 'C001123', 'depiction': {'attribution': 'Image courtesy of the Member', 'imageUrl': 'https://www.congress.gov/img/member/677423d00b34857ecc909065_200.jpg'}, 'district': 31, 'name': 'Cisneros, Gilbert Ray, Jr.', 'partyName': 'Democratic', 'state': 'California', 'terms': {'item': [{'chamber': 'House of Representatives', 'endYear': 2021, 'startYear': 2019}, {'chamber': 'House of Representatives', 'startYear': 2025}]}, 'updateDate': '2025-01-21T18:00:51Z', 'url': 'https://api.congress.gov/v3/member/C001123?format=json'}, {'bioguideId': 'P000613', 'depiction': {'attribution': 'Congressional Pictorial Directory', 'imageUrl': 'https://www.congress.gov/img/member/116_rp_ca_20_panetta_jimmy_200.jpg'}, 'district': 19, 'name': 'Panetta, Jimmy', 'partyName': 'Democratic', 'state': 'California', 'terms': {'item': [{'chamber': 'House of Representatives', 'startYear': 2017}]}, 'updateDate': '2025-01-21T18:00:51Z', 'url': 'https://api.congress.gov/v3/member/P000613?format=json'}, {'bioguideId': 'K000401', 'depiction': {'attribution': 'Image courtesy of the Member', 'imageUrl': 'https://www.congress.gov/img/member/k000401_200.jpg'}, 'district': 3, 'name': 'Kiley, Kevin', 'partyName': 'Republican', 'state': 'California', 'terms': {'item': [{'chamber': 'House of Representatives', 'startYear': 2023}]}, 'updateDate': '2025-01-21T18:00:50Z', 'url': 'https://api.congress.gov/v3/member/K000401?format=json'}, {'bioguideId': 'D000623', 'depiction': {'attribution': 'Congressional Pictorial Directory', 'imageUrl': 'https://www.congress.gov/img/member/115_rp_ca_11_desaulnier_mark_200.jpg'}, 'district': 10, 'name': 'DeSaulnier, Mark', 'partyName': 'Democratic', 'state': 'California', 'terms': {'item': [{'chamber': 'House of Representatives', 'startYear': 2015}]}, 'updateDate': '2025-01-21T18:00:50Z', 'url': 'https://api.congress.gov/v3/member/D000623?format=json'}, {'bioguideId': 'H001068', 'depiction': {'attribution': 'Image courtesy of the Member', 'imageUrl': 'https://www.congress.gov/img/member/h001068_200.jpg'}, 'district': 2, 'name': 'Huffman, Jared', 'partyName': 'Democratic', 'state': 'California', 'terms': {'item': [{'chamber': 'House of Representatives', 'startYear': 2013}]}, 'updateDate': '2025-01-21T18:00:50Z', 'url': 'https://api.congress.gov/v3/member/H001068?format=json'}, {'bioguideId': 'G000559', 'depiction': {'attribution': 'Image courtesy of the Member', 'imageUrl': 'https://www.congress.gov/img/member/g000559_200.jpg'}, 'district': 8, 'name': 'Garamendi, John', 'partyName': 'Democratic', 'state': 'California', 'terms': {'item': [{'chamber': 'House of Representatives', 'startYear': 2009}]}, 'updateDate': '2025-01-21T18:00:50Z', 'url': 'https://api.congress.gov/v3/member/G000559?format=json'}, {'bioguideId': 'M001163', 'depiction': {'attribution': 'Image courtesy of the Member', 'imageUrl': 'https://www.congress.gov/img/member/m001163_200.jpg'}, 'district': 7, 'name': 'Matsui, Doris O.', 'partyName': 'Democratic', 'state': 'California', 'terms': {'item': [{'chamber': 'House of Representatives', 'startYear': 2005}]}, 'updateDate': '2025-01-21T18:00:50Z', 'url': 'https://api.congress.gov/v3/member/M001163?format=json'}, {'bioguideId': 'B001287', 'depiction': {'attribution': 'GPO Member Guide', 'imageUrl': 'https://www.congress.gov/img/member/b001287_200.jpg'}, 'district': 6, 'name': 'Bera, Ami', 'partyName': 'Democratic', 'state': 'California', 'terms': {'item': [{'chamber': 'House of Representatives', 'startYear': 2013}]}, 'updateDate': '2025-01-21T17:38:49Z', 'url': 'https://api.congress.gov/v3/member/B001287?format=json'}, {'bioguideId': 'S001150', 'depiction': {'attribution': 'Congressional Pictorial Directory', 'imageUrl': 'https://www.congress.gov/img/member/116_rp_ca_28_schiff_adam_200.jpg'}, 'name': 'Schiff, Adam B.', 'partyName': 'Democratic', 'state': 'California', 'terms': {'item': [{'chamber': 'House of Representatives', 'endYear': 2024, 'startYear': 2001}, {'chamber': 'Senate', 'startYear': 2024}]}, 'updateDate': '2024-12-20T13:42:24Z', 'url': 'https://api.congress.gov/v3/member/S001150?format=json'}, {'bioguideId': 'P000145', 'depiction': {'attribution': '<a href=\"http://www.senate.gov/artandhistory/history/common/generic/Photo_Collection_of_the_Senate_Historical_Office.htm\">Courtesy U.S. Senate Historical Office</a>', 'imageUrl': 'https://www.congress.gov/img/member/p000145_200.jpg'}, 'name': 'Padilla, Alex', 'partyName': 'Democratic', 'state': 'California', 'terms': {'item': [{'chamber': 'Senate', 'startYear': 2021}]}, 'updateDate': '2024-11-04T13:42:27Z', 'url': 'https://api.congress.gov/v3/member/P000145?format=json'}, {'bioguideId': 'L000397', 'depiction': {'attribution': 'Image courtesy of the Member', 'imageUrl': 'https://www.congress.gov/img/member/671024d7ec807bca66057fcb_200.jpg'}, 'district': 18, 'name': 'Lofgren, Zoe', 'partyName': 'Democratic', 'state': 'California', 'terms': {'item': [{'chamber': 'House of Representatives', 'startYear': 1995}]}, 'updateDate': '2024-10-22T14:54:19Z', 'url': 'https://api.congress.gov/v3/member/L000397?format=json'}, {'bioguideId': 'M001225', 'depiction': {'attribution': 'Image courtesy of the Member', 'imageUrl': 'https://www.congress.gov/img/member/m001225_200.jpg'}, 'district': 15, 'name': 'Mullin, Kevin', 'partyName': 'Democratic', 'state': 'California', 'terms': {'item': [{'chamber': 'House of Representatives', 'startYear': 2023}]}, 'updateDate': '2024-10-10T21:22:27Z', 'url': 'https://api.congress.gov/v3/member/M001225?format=json'}, {'bioguideId': 'R000599', 'depiction': {'attribution': 'Image courtesy of the Member', 'imageUrl': 'https://www.congress.gov/img/member/66e1aec832c796cea99fe06f_200.jpg'}, 'district': 25, 'name': 'Ruiz, Raul', 'partyName': 'Democratic', 'state': 'California', 'terms': {'item': [{'chamber': 'House of Representatives', 'startYear': 2013}]}, 'updateDate': '2024-09-11T16:29:00Z', 'url': 'https://api.congress.gov/v3/member/R000599?format=json'}, {'bioguideId': 'L000593', 'depiction': {'attribution': 'Image courtesy of the Member', 'imageUrl': 'https://www.congress.gov/img/member/l000593_200.jpg'}, 'district': 49, 'name': 'Levin, Mike', 'partyName': 'Democratic', 'state': 'California', 'terms': {'item': [{'chamber': 'House of Representatives', 'startYear': 2019}]}, 'updateDate': '2024-06-08T18:40:16Z', 'url': 'https://api.congress.gov/v3/member/L000593?format=json'}, {'bioguideId': 'B001300', 'depiction': {'attribution': 'Image courtesy of the Member', 'imageUrl': 'https://www.congress.gov/img/member/b001300_200.jpg'}, 'district': 44, 'name': 'Barragán, Nanette Diaz', 'partyName': 'Democratic', 'state': 'California', 'terms': {'item': [{'chamber': 'House of Representatives', 'startYear': 2017}]}, 'updateDate': '2024-06-08T18:40:16Z', 'url': 'https://api.congress.gov/v3/member/B001300?format=json'}, {'bioguideId': 'T000472', 'depiction': {'attribution': 'Image courtesy of the Member', 'imageUrl': 'https://www.congress.gov/img/member/t000472_200.jpg'}, 'district': 39, 'name': 'Takano, Mark', 'partyName': 'Democratic', 'state': 'California', 'terms': {'item': [{'chamber': 'House of Representatives', 'startYear': 2013}]}, 'updateDate': '2024-06-08T18:40:16Z', 'url': 'https://api.congress.gov/v3/member/T000472?format=json'}, {'bioguideId': 'W000187', 'depiction': {'attribution': 'Image courtesy of the Member', 'imageUrl': 'https://www.congress.gov/img/member/w000187_200.jpg'}, 'district': 43, 'name': 'Waters, Maxine', 'partyName': 'Democratic', 'state': 'California', 'terms': {'item': [{'chamber': 'House of Representatives', 'startYear': 1991}]}, 'updateDate': '2024-06-08T18:40:16Z', 'url': 'https://api.congress.gov/v3/member/W000187?format=json'}, {'bioguideId': 'I000056', 'depiction': {'attribution': 'Collection of the U.S. House of Representatives <a href=\"http://history.house.gov/Collection/Detail/15032430738?ret=True\">About this object</a>', 'imageUrl': 'https://www.congress.gov/img/member/i000056_200.jpg'}, 'district': 48, 'name': 'Issa, Darrell', 'partyName': 'Republican', 'state': 'California', 'terms': {'item': [{'chamber': 'House of Representatives', 'endYear': 2019, 'startYear': 2001}, {'chamber': 'House of Representatives', 'startYear': 2021}]}, 'updateDate': '2024-06-08T18:40:16Z', 'url': 'https://api.congress.gov/v3/member/I000056?format=json'}, {'bioguideId': 'C000059', 'depiction': {'attribution': 'Image courtesy of the Member', 'imageUrl': 'https://www.congress.gov/img/member/c000059_200.jpg'}, 'district': 41, 'name': 'Calvert, Ken', 'partyName': 'Republican', 'state': 'California', 'terms': {'item': [{'chamber': 'House of Representatives', 'startYear': 1993}]}, 'updateDate': '2024-06-08T18:40:16Z', 'url': 'https://api.congress.gov/v3/member/C000059?format=json'}, {'bioguideId': 'H001090', 'depiction': {'attribution': 'Image courtesy of the Member', 'imageUrl': 'https://www.congress.gov/img/member/h001090_200.jpg'}, 'district': 9, 'name': 'Harder, Josh', 'partyName': 'Democratic', 'state': 'California', 'terms': {'item': [{'chamber': 'House of Representatives', 'startYear': 2019}]}, 'updateDate': '2024-06-08T18:40:15Z', 'url': 'https://api.congress.gov/v3/member/H001090?format=json'}, {'bioguideId': 'G000585', 'depiction': {'attribution': 'Congressional Pictorial Directory', 'imageUrl': 'https://www.congress.gov/img/member/115_rp_ca_34_gomez_jimmy_200.jpg'}, 'district': 34, 'name': 'Gomez, Jimmy', 'partyName': 'Democratic', 'state': 'California', 'terms': {'item': [{'chamber': 'House of Representatives', 'startYear': 2017}]}, 'updateDate': '2024-06-08T18:40:15Z', 'url': 'https://api.congress.gov/v3/member/G000585?format=json'}, {'bioguideId': 'C001112', 'depiction': {'attribution': 'Congressional Pictorial Directory', 'imageUrl': 'https://www.congress.gov/img/member/115_rp_ca_24_carbajal_salud_200.jpg'}, 'district': 24, 'name': 'Carbajal, Salud O.', 'partyName': 'Democratic', 'state': 'California', 'terms': {'item': [{'chamber': 'House of Representatives', 'startYear': 2017}]}, 'updateDate': '2024-06-08T18:40:15Z', 'url': 'https://api.congress.gov/v3/member/C001112?format=json'}, {'bioguideId': 'K000389', 'depiction': {'attribution': 'Image courtesy of the Member', 'imageUrl': 'https://www.congress.gov/img/member/k000389_200.jpg'}, 'district': 17, 'name': 'Khanna, Ro', 'partyName': 'Democratic', 'state': 'California', 'terms': {'item': [{'chamber': 'House of Representatives', 'startYear': 2017}]}, 'updateDate': '2024-06-08T18:40:15Z', 'url': 'https://api.congress.gov/v3/member/K000389?format=json'}, {'bioguideId': 'T000474', 'depiction': {'attribution': 'Image courtesy of the Member', 'imageUrl': 'https://www.congress.gov/img/member/t000474_200.jpg'}, 'district': 35, 'name': 'Torres, Norma J.', 'partyName': 'Democratic', 'state': 'California', 'terms': {'item': [{'chamber': 'House of Representatives', 'startYear': 2015}]}, 'updateDate': '2024-06-08T18:40:15Z', 'url': 'https://api.congress.gov/v3/member/T000474?format=json'}, {'bioguideId': 'L000582', 'depiction': {'attribution': 'Image courtesy of the Member', 'imageUrl': 'https://www.congress.gov/img/member/l000582_200.jpg'}, 'district': 36, 'name': 'Lieu, Ted', 'partyName': 'Democratic', 'state': 'California', 'terms': {'item': [{'chamber': 'House of Representatives', 'startYear': 2015}]}, 'updateDate': '2024-06-08T18:40:15Z', 'url': 'https://api.congress.gov/v3/member/L000582?format=json'}, {'bioguideId': 'A000371', 'depiction': {'attribution': 'Image courtesy of the Member', 'imageUrl': 'https://www.congress.gov/img/member/a000371_200.jpg'}, 'district': 33, 'name': 'Aguilar, Pete', 'partyName': 'Democratic', 'state': 'California', 'terms': {'item': [{'chamber': 'House of Representatives', 'startYear': 2015}]}, 'updateDate': '2024-06-08T18:40:15Z', 'url': 'https://api.congress.gov/v3/member/A000371?format=json'}, {'bioguideId': 'B001285', 'depiction': {'attribution': 'Image courtesy of the Member', 'imageUrl': 'https://www.congress.gov/img/member/b001285_200.jpg'}, 'district': 26, 'name': 'Brownley, Julia', 'partyName': 'Democratic', 'state': 'California', 'terms': {'item': [{'chamber': 'House of Representatives', 'startYear': 2013}]}, 'updateDate': '2024-06-08T18:40:15Z', 'url': 'https://api.congress.gov/v3/member/B001285?format=json'}, {'bioguideId': 'V000129', 'depiction': {'attribution': 'Image courtesy of the Member', 'imageUrl': 'https://www.congress.gov/img/member/v000129_200.jpg'}, 'district': 22, 'name': 'Valadao, David G.', 'partyName': 'Republican', 'state': 'California', 'terms': {'item': [{'chamber': 'House of Representatives', 'endYear': 2019, 'startYear': 2013}, {'chamber': 'House of Representatives', 'startYear': 2021}]}, 'updateDate': '2024-06-08T18:40:15Z', 'url': 'https://api.congress.gov/v3/member/V000129?format=json'}, {'bioguideId': 'S001193', 'depiction': {'attribution': 'Image courtesy of the Member', 'imageUrl': 'https://www.congress.gov/img/member/s001193_200.jpg'}, 'district': 14, 'name': 'Swalwell, Eric', 'partyName': 'Democratic', 'state': 'California', 'terms': {'item': [{'chamber': 'House of Representatives', 'startYear': 2013}]}, 'updateDate': '2024-06-08T18:40:15Z', 'url': 'https://api.congress.gov/v3/member/S001193?format=json'}, {'bioguideId': 'L000578', 'depiction': {'attribution': 'Image courtesy of the Member', 'imageUrl': 'https://www.congress.gov/img/member/l000578_200.jpg'}, 'district': 1, 'name': 'LaMalfa, Doug', 'partyName': 'Republican', 'state': 'California', 'terms': {'item': [{'chamber': 'House of Representatives', 'startYear': 2013}]}, 'updateDate': '2024-06-08T18:40:15Z', 'url': 'https://api.congress.gov/v3/member/L000578?format=json'}, {'bioguideId': 'C001080', 'depiction': {'attribution': 'Image courtesy of the Member', 'imageUrl': 'https://www.congress.gov/img/member/c001080_200.jpg'}, 'district': 28, 'name': 'Chu, Judy', 'partyName': 'Democratic', 'state': 'California', 'terms': {'item': [{'chamber': 'House of Representatives', 'startYear': 2009}]}, 'updateDate': '2024-06-08T18:40:15Z', 'url': 'https://api.congress.gov/v3/member/C001080?format=json'}, {'bioguideId': 'M001177', 'depiction': {'attribution': 'Image courtesy of the Member', 'imageUrl': 'https://www.congress.gov/img/member/m001177_200.jpg'}, 'district': 5, 'name': 'McClintock, Tom', 'partyName': 'Republican', 'state': 'California', 'terms': {'item': [{'chamber': 'House of Representatives', 'startYear': 2009}]}, 'updateDate': '2024-06-08T18:40:15Z', 'url': 'https://api.congress.gov/v3/member/M001177?format=json'}, {'bioguideId': 'P000197', 'depiction': {'attribution': 'Image courtesy of the Member', 'imageUrl': 'https://www.congress.gov/img/member/p000197_200.jpg'}, 'district': 11, 'name': 'Pelosi, Nancy', 'partyName': 'Democratic', 'state': 'California', 'terms': {'item': [{'chamber': 'House of Representatives', 'startYear': 1987}]}, 'updateDate': '2024-06-08T18:40:15Z', 'url': 'https://api.congress.gov/v3/member/P000197?format=json'}, {'bioguideId': 'T000460', 'depiction': {'attribution': 'Congressional Pictorial Directory', 'imageUrl': 'https://www.congress.gov/img/member/116_rp_ca_5_thompson_mike_200.jpg'}, 'district': 4, 'name': 'Thompson, Mike', 'partyName': 'Democratic', 'state': 'California', 'terms': {'item': [{'chamber': 'House of Representatives', 'startYear': 1999}]}, 'updateDate': '2024-06-08T18:40:15Z', 'url': 'https://api.congress.gov/v3/member/T000460?format=json'}, {'bioguideId': 'S000344', 'depiction': {'attribution': 'Image, Congressional Pictorial Directory, 109th.', 'imageUrl': 'https://www.congress.gov/img/member/s000344_200.jpg'}, 'district': 32, 'name': 'Sherman, Brad', 'partyName': 'Democratic', 'state': 'California', 'terms': {'item': [{'chamber': 'House of Representatives', 'startYear': 1997}]}, 'updateDate': '2024-06-08T18:40:15Z', 'url': 'https://api.congress.gov/v3/member/S000344?format=json'}, {'bioguideId': 'C001059', 'depiction': {'attribution': 'Congressional Pictorial Directory', 'imageUrl': 'https://www.congress.gov/img/member/116_rp_ca_16_costa_jim_200.jpg'}, 'district': 21, 'name': 'Costa, Jim', 'partyName': 'Democratic', 'state': 'California', 'terms': {'item': [{'chamber': 'House of Representatives', 'startYear': 2005}]}, 'updateDate': '2024-06-08T18:40:15Z', 'url': 'https://api.congress.gov/v3/member/C001059?format=json'}], 'pagination': {'count': 54}, 'request': {'contentType': 'application/json', 'format': 'json'}}\n"
     ]
    }
   ],
   "source": [
    "import json\n",
    "\n",
    "# Import the JSON file into Python as a dictionary\n",
    "with open(congress_file, \"rb\") as f:\n",
    "    congress_json = json.load(f)\n",
    "\n",
    "type(congress_json)\n",
    "print(congress_json)"
   ]
  },
  {
   "cell_type": "markdown",
   "id": "27745131-6d69-485a-adcf-928032b0f425",
   "metadata": {},
   "source": [
    "The `congress_json` variable is a dictionary encoding the data in the JSON file.\n",
    "\n",
    "Below, we access the first element of the `members` element of the `congress_json` dictionary.\n",
    "\n",
    "- This first element is also a dictionary (and there are more dictionaries inside of it!)"
   ]
  },
  {
   "cell_type": "code",
   "execution_count": 10,
   "id": "309f570e-8803-40ab-821d-1e654713d89a",
   "metadata": {
    "ExecuteTime": {
     "end_time": "2018-02-02T15:15:19.447238Z",
     "start_time": "2018-02-02T15:15:19.443595Z"
    }
   },
   "outputs": [
    {
     "data": {
      "text/plain": [
       "{'bioguideId': 'T000491',\n",
       " 'depiction': {'attribution': 'Image courtesy of the Member',\n",
       "  'imageUrl': 'https://www.congress.gov/img/member/6774606d0b34857ecc9091a9_200.jpg'},\n",
       " 'district': 45,\n",
       " 'name': 'Tran, Derek',\n",
       " 'partyName': 'Democratic',\n",
       " 'state': 'California',\n",
       " 'terms': {'item': [{'chamber': 'House of Representatives',\n",
       "    'startYear': 2025}]},\n",
       " 'updateDate': '2025-01-21T18:00:52Z',\n",
       " 'url': 'https://api.congress.gov/v3/member/T000491?format=json'}"
      ]
     },
     "execution_count": 10,
     "metadata": {},
     "output_type": "execute_result"
    }
   ],
   "source": [
    "# Grab the list corresponding to the `members` key in the JSON dictionary, \n",
    "# and then grab the first element of this list.\n",
    "# In a moment, we'll see how we knew to use the key `members`, and that\n",
    "# the resulting object is a list.\n",
    "congress_json['members'][0]"
   ]
  },
  {
   "cell_type": "markdown",
   "id": "efe0fb62",
   "metadata": {},
   "source": [
    "How should we probe a nested dictionary like `congress_json`?\n",
    "\n",
    "We can start by identifying the top-level **keys** of the dictionary:"
   ]
  },
  {
   "cell_type": "code",
   "execution_count": 11,
   "id": "35d9e1bb-6c88-46d4-9348-29aaa71596b1",
   "metadata": {
    "ExecuteTime": {
     "end_time": "2018-02-02T15:15:19.680999Z",
     "start_time": "2018-02-02T15:15:19.675696Z"
    }
   },
   "outputs": [
    {
     "data": {
      "text/plain": [
       "dict_keys(['members', 'pagination', 'request'])"
      ]
     },
     "execution_count": 11,
     "metadata": {},
     "output_type": "execute_result"
    }
   ],
   "source": [
    "# Grab the top-level keys of the JSON dictionary\n",
    "congress_json.keys()"
   ]
  },
  {
   "cell_type": "markdown",
   "id": "29129c86-329d-4fbd-b597-07636d059a12",
   "metadata": {},
   "source": [
    "Looks like we have three top-level keys: `members`, `pagination`, and `request`.\n",
    "\n",
    "> You'll often see a top-level `meta` key in JSON files. This does not refer to Meta (formerly Facebook). Instead, it typically refers to metadata (data about the data).  Metadata are often maintained alongside the data."
   ]
  },
  {
   "cell_type": "markdown",
   "id": "11f4e8a4",
   "metadata": {},
   "source": [
    "Let's check the type of the `members` element:"
   ]
  },
  {
   "cell_type": "code",
   "execution_count": 12,
   "id": "81df92a7",
   "metadata": {},
   "outputs": [
    {
     "data": {
      "text/plain": [
       "list"
      ]
     },
     "execution_count": 12,
     "metadata": {},
     "output_type": "execute_result"
    }
   ],
   "source": [
    "type(congress_json['members'])"
   ]
  },
  {
   "cell_type": "markdown",
   "id": "1b79e9eb",
   "metadata": {},
   "source": [
    "Looks like a list! What are the first two elements?"
   ]
  },
  {
   "cell_type": "code",
   "execution_count": 13,
   "id": "0779748d",
   "metadata": {},
   "outputs": [
    {
     "data": {
      "text/plain": [
       "[{'bioguideId': 'T000491',\n",
       "  'depiction': {'attribution': 'Image courtesy of the Member',\n",
       "   'imageUrl': 'https://www.congress.gov/img/member/6774606d0b34857ecc9091a9_200.jpg'},\n",
       "  'district': 45,\n",
       "  'name': 'Tran, Derek',\n",
       "  'partyName': 'Democratic',\n",
       "  'state': 'California',\n",
       "  'terms': {'item': [{'chamber': 'House of Representatives',\n",
       "     'startYear': 2025}]},\n",
       "  'updateDate': '2025-01-21T18:00:52Z',\n",
       "  'url': 'https://api.congress.gov/v3/member/T000491?format=json'},\n",
       " {'bioguideId': 'M001241',\n",
       "  'depiction': {'attribution': 'Image courtesy of the Member',\n",
       "   'imageUrl': 'https://www.congress.gov/img/member/67744ed90b34857ecc909155_200.jpg'},\n",
       "  'district': 47,\n",
       "  'name': 'Min, Dave',\n",
       "  'partyName': 'Democratic',\n",
       "  'state': 'California',\n",
       "  'terms': {'item': [{'chamber': 'House of Representatives',\n",
       "     'startYear': 2025}]},\n",
       "  'updateDate': '2025-01-21T18:00:52Z',\n",
       "  'url': 'https://api.congress.gov/v3/member/M001241?format=json'}]"
      ]
     },
     "execution_count": 13,
     "metadata": {},
     "output_type": "execute_result"
    }
   ],
   "source": [
    "congress_json['members'][:2]"
   ]
  },
  {
   "cell_type": "markdown",
   "id": "941d7b4b",
   "metadata": {},
   "source": [
    "More dictionaries! You can repeat the process above to traverse the nested dictionary.\n",
    "\n",
    "You'll notice that each record of `congress_json['members']` looks like it could be a column of a DataFrame.\n",
    "\n",
    "- The keys look a lot like column names, and the values could be the entries in each row.\n",
    "\n",
    "<br> \n",
    "\n",
    "But, the two other elements of `congress_json` don't have the same structure as `congress_json['members']`.\n",
    "\n",
    "- So, they probably don't belong in a DataFrame containing the members of Congress from CA.\n",
    "\n",
    "- We'll see the implications of this inconsistency in the next section."
   ]
  },
  {
   "cell_type": "code",
   "execution_count": 14,
   "id": "542ffc7d",
   "metadata": {},
   "outputs": [
    {
     "name": "stdout",
     "output_type": "stream",
     "text": [
      "{'count': 54}\n",
      "{'contentType': 'application/json', 'format': 'json'}\n"
     ]
    }
   ],
   "source": [
    "print(congress_json['pagination'])\n",
    "print(congress_json['request'])"
   ]
  },
  {
   "cell_type": "markdown",
   "id": "89da4483-77d0-40e1-8a68-8c3367f6ef09",
   "metadata": {},
   "source": [
    "### 🐼 JSON with pandas\n",
    "\n",
    "`pandas` has a built in function called `pd.read_json` for reading in JSON files. \n",
    "\n",
    "- Uncomment the code below and see what happens."
   ]
  },
  {
   "cell_type": "code",
   "execution_count": 15,
   "id": "889e7992-1e89-4df7-ba44-1da412e5aa29",
   "metadata": {},
   "outputs": [],
   "source": [
    "# pd.read_json(congress_file)"
   ]
  },
  {
   "cell_type": "markdown",
   "id": "1e665fba",
   "metadata": {},
   "source": [
    "Uh oh. Using the default parameters, we got an error. \n",
    "\n",
    "- The code above tries to import the entire JSON file located at `congress_file` (`congress_json`), including `congress_json['pagination']` and `congress_json['request']`.\n",
    "\n",
    "- We only want to make a DataFrame out of `congress_json['members']`.\n",
    "\n",
    "This time, let's try converting the `members` element of `congress_json` to a DataFrame by using `pd.DataFrame`:"
   ]
  },
  {
   "cell_type": "code",
   "execution_count": 16,
   "id": "f61dffb3-4d0c-4e72-8b2c-dac07bdf044e",
   "metadata": {
    "ExecuteTime": {
     "end_time": "2018-02-02T15:15:19.793306Z",
     "start_time": "2018-02-02T15:15:19.725044Z"
    }
   },
   "outputs": [
    {
     "data": {
      "text/html": [
       "<div>\n",
       "<style scoped>\n",
       "    .dataframe tbody tr th:only-of-type {\n",
       "        vertical-align: middle;\n",
       "    }\n",
       "\n",
       "    .dataframe tbody tr th {\n",
       "        vertical-align: top;\n",
       "    }\n",
       "\n",
       "    .dataframe thead th {\n",
       "        text-align: right;\n",
       "    }\n",
       "</style>\n",
       "<table border=\"1\" class=\"dataframe\">\n",
       "  <thead>\n",
       "    <tr style=\"text-align: right;\">\n",
       "      <th></th>\n",
       "      <th>bioguideId</th>\n",
       "      <th>depiction</th>\n",
       "      <th>district</th>\n",
       "      <th>name</th>\n",
       "      <th>partyName</th>\n",
       "      <th>state</th>\n",
       "      <th>terms</th>\n",
       "      <th>updateDate</th>\n",
       "      <th>url</th>\n",
       "    </tr>\n",
       "  </thead>\n",
       "  <tbody>\n",
       "    <tr>\n",
       "      <th>0</th>\n",
       "      <td>T000491</td>\n",
       "      <td>{'attribution': 'Image courtesy of the Member'...</td>\n",
       "      <td>45.00</td>\n",
       "      <td>Tran, Derek</td>\n",
       "      <td>Democratic</td>\n",
       "      <td>California</td>\n",
       "      <td>{'item': [{'chamber': 'House of Representative...</td>\n",
       "      <td>2025-01-21T18:00:52Z</td>\n",
       "      <td>https://api.congress.gov/v3/member/T000491?for...</td>\n",
       "    </tr>\n",
       "    <tr>\n",
       "      <th>1</th>\n",
       "      <td>M001241</td>\n",
       "      <td>{'attribution': 'Image courtesy of the Member'...</td>\n",
       "      <td>47.00</td>\n",
       "      <td>Min, Dave</td>\n",
       "      <td>Democratic</td>\n",
       "      <td>California</td>\n",
       "      <td>{'item': [{'chamber': 'House of Representative...</td>\n",
       "      <td>2025-01-21T18:00:52Z</td>\n",
       "      <td>https://api.congress.gov/v3/member/M001241?for...</td>\n",
       "    </tr>\n",
       "    <tr>\n",
       "      <th>2</th>\n",
       "      <td>K000400</td>\n",
       "      <td>{'attribution': 'Image courtesy of the Member'...</td>\n",
       "      <td>37.00</td>\n",
       "      <td>Kamlager-Dove, Sydney</td>\n",
       "      <td>Democratic</td>\n",
       "      <td>California</td>\n",
       "      <td>{'item': [{'chamber': 'House of Representative...</td>\n",
       "      <td>2025-01-21T18:00:52Z</td>\n",
       "      <td>https://api.congress.gov/v3/member/K000400?for...</td>\n",
       "    </tr>\n",
       "    <tr>\n",
       "      <th>3</th>\n",
       "      <td>G000598</td>\n",
       "      <td>{'attribution': 'Image courtesy of the Member'...</td>\n",
       "      <td>42.00</td>\n",
       "      <td>Garcia, Robert</td>\n",
       "      <td>Democratic</td>\n",
       "      <td>California</td>\n",
       "      <td>{'item': [{'chamber': 'House of Representative...</td>\n",
       "      <td>2025-01-21T18:00:52Z</td>\n",
       "      <td>https://api.congress.gov/v3/member/G000598?for...</td>\n",
       "    </tr>\n",
       "    <tr>\n",
       "      <th>4</th>\n",
       "      <td>K000397</td>\n",
       "      <td>{'attribution': 'Image courtesy of the Member'...</td>\n",
       "      <td>40.00</td>\n",
       "      <td>Kim, Young</td>\n",
       "      <td>Republican</td>\n",
       "      <td>California</td>\n",
       "      <td>{'item': [{'chamber': 'House of Representative...</td>\n",
       "      <td>2025-01-21T18:00:52Z</td>\n",
       "      <td>https://api.congress.gov/v3/member/K000397?for...</td>\n",
       "    </tr>\n",
       "  </tbody>\n",
       "</table>\n",
       "</div>"
      ],
      "text/plain": [
       "  bioguideId                                          depiction  district  \\\n",
       "0    T000491  {'attribution': 'Image courtesy of the Member'...     45.00   \n",
       "1    M001241  {'attribution': 'Image courtesy of the Member'...     47.00   \n",
       "2    K000400  {'attribution': 'Image courtesy of the Member'...     37.00   \n",
       "3    G000598  {'attribution': 'Image courtesy of the Member'...     42.00   \n",
       "4    K000397  {'attribution': 'Image courtesy of the Member'...     40.00   \n",
       "\n",
       "                    name   partyName       state  \\\n",
       "0            Tran, Derek  Democratic  California   \n",
       "1              Min, Dave  Democratic  California   \n",
       "2  Kamlager-Dove, Sydney  Democratic  California   \n",
       "3         Garcia, Robert  Democratic  California   \n",
       "4             Kim, Young  Republican  California   \n",
       "\n",
       "                                               terms            updateDate  \\\n",
       "0  {'item': [{'chamber': 'House of Representative...  2025-01-21T18:00:52Z   \n",
       "1  {'item': [{'chamber': 'House of Representative...  2025-01-21T18:00:52Z   \n",
       "2  {'item': [{'chamber': 'House of Representative...  2025-01-21T18:00:52Z   \n",
       "3  {'item': [{'chamber': 'House of Representative...  2025-01-21T18:00:52Z   \n",
       "4  {'item': [{'chamber': 'House of Representative...  2025-01-21T18:00:52Z   \n",
       "\n",
       "                                                 url  \n",
       "0  https://api.congress.gov/v3/member/T000491?for...  \n",
       "1  https://api.congress.gov/v3/member/M001241?for...  \n",
       "2  https://api.congress.gov/v3/member/K000400?for...  \n",
       "3  https://api.congress.gov/v3/member/G000598?for...  \n",
       "4  https://api.congress.gov/v3/member/K000397?for...  "
      ]
     },
     "execution_count": 16,
     "metadata": {},
     "output_type": "execute_result"
    }
   ],
   "source": [
    "# Convert dictionary to DataFrame\n",
    "congress_df = pd.DataFrame(congress_json['members'])\n",
    "congress_df.head()"
   ]
  },
  {
   "cell_type": "markdown",
   "id": "1d035283",
   "metadata": {},
   "source": [
    "We've successfully begun to rectangularize our JSON data!"
   ]
  },
  {
   "cell_type": "markdown",
   "id": "2d6300e4-fb50-442b-a6a6-472f1ba40001",
   "metadata": {},
   "source": [
    "<br><br><br>\n",
    "\n",
    "**Instructor Note: Return to Slides!**"
   ]
  },
  {
   "cell_type": "markdown",
   "id": "c337f37b-8661-4ec5-a00a-c953adf86be6",
   "metadata": {},
   "source": [
    "<br/>\n",
    "\n",
    "---\n",
    "\n",
    "\n",
    "## 🕰️ Temporality\n",
    "\n",
    "Let's briefly look at how we can use pandas `dt` accessors to work with dates/times in a dataset.\n",
    "\n",
    "We will use the Berkeley Police Department (PD) Calls for Service dataset."
   ]
  },
  {
   "cell_type": "code",
   "execution_count": 17,
   "id": "5cdb38de-c276-41c6-8b5a-97d2a1798961",
   "metadata": {},
   "outputs": [
    {
     "data": {
      "text/html": [
       "<div>\n",
       "<style scoped>\n",
       "    .dataframe tbody tr th:only-of-type {\n",
       "        vertical-align: middle;\n",
       "    }\n",
       "\n",
       "    .dataframe tbody tr th {\n",
       "        vertical-align: top;\n",
       "    }\n",
       "\n",
       "    .dataframe thead th {\n",
       "        text-align: right;\n",
       "    }\n",
       "</style>\n",
       "<table border=\"1\" class=\"dataframe\">\n",
       "  <thead>\n",
       "    <tr style=\"text-align: right;\">\n",
       "      <th></th>\n",
       "      <th>CASENO</th>\n",
       "      <th>OFFENSE</th>\n",
       "      <th>EVENTDT</th>\n",
       "      <th>EVENTTM</th>\n",
       "      <th>CVLEGEND</th>\n",
       "      <th>CVDOW</th>\n",
       "      <th>InDbDate</th>\n",
       "      <th>Block_Location</th>\n",
       "      <th>BLKADDR</th>\n",
       "      <th>City</th>\n",
       "      <th>State</th>\n",
       "    </tr>\n",
       "  </thead>\n",
       "  <tbody>\n",
       "    <tr>\n",
       "      <th>0</th>\n",
       "      <td>21014296</td>\n",
       "      <td>THEFT MISD. (UNDER $950)</td>\n",
       "      <td>04/01/2021 12:00:00 AM</td>\n",
       "      <td>10:58</td>\n",
       "      <td>LARCENY</td>\n",
       "      <td>4</td>\n",
       "      <td>06/15/2021 12:00:00 AM</td>\n",
       "      <td>Berkeley, CA\\n(37.869058, -122.270455)</td>\n",
       "      <td>NaN</td>\n",
       "      <td>Berkeley</td>\n",
       "      <td>CA</td>\n",
       "    </tr>\n",
       "    <tr>\n",
       "      <th>1</th>\n",
       "      <td>21014391</td>\n",
       "      <td>THEFT MISD. (UNDER $950)</td>\n",
       "      <td>04/01/2021 12:00:00 AM</td>\n",
       "      <td>10:38</td>\n",
       "      <td>LARCENY</td>\n",
       "      <td>4</td>\n",
       "      <td>06/15/2021 12:00:00 AM</td>\n",
       "      <td>Berkeley, CA\\n(37.869058, -122.270455)</td>\n",
       "      <td>NaN</td>\n",
       "      <td>Berkeley</td>\n",
       "      <td>CA</td>\n",
       "    </tr>\n",
       "    <tr>\n",
       "      <th>2</th>\n",
       "      <td>21090494</td>\n",
       "      <td>THEFT MISD. (UNDER $950)</td>\n",
       "      <td>04/19/2021 12:00:00 AM</td>\n",
       "      <td>12:15</td>\n",
       "      <td>LARCENY</td>\n",
       "      <td>1</td>\n",
       "      <td>06/15/2021 12:00:00 AM</td>\n",
       "      <td>2100 BLOCK HASTE ST\\nBerkeley, CA\\n(37.864908,...</td>\n",
       "      <td>2100 BLOCK HASTE ST</td>\n",
       "      <td>Berkeley</td>\n",
       "      <td>CA</td>\n",
       "    </tr>\n",
       "    <tr>\n",
       "      <th>3</th>\n",
       "      <td>21090204</td>\n",
       "      <td>THEFT FELONY (OVER $950)</td>\n",
       "      <td>02/13/2021 12:00:00 AM</td>\n",
       "      <td>17:00</td>\n",
       "      <td>LARCENY</td>\n",
       "      <td>6</td>\n",
       "      <td>06/15/2021 12:00:00 AM</td>\n",
       "      <td>2600 BLOCK WARRING ST\\nBerkeley, CA\\n(37.86393...</td>\n",
       "      <td>2600 BLOCK WARRING ST</td>\n",
       "      <td>Berkeley</td>\n",
       "      <td>CA</td>\n",
       "    </tr>\n",
       "    <tr>\n",
       "      <th>4</th>\n",
       "      <td>21090179</td>\n",
       "      <td>BURGLARY AUTO</td>\n",
       "      <td>02/08/2021 12:00:00 AM</td>\n",
       "      <td>6:20</td>\n",
       "      <td>BURGLARY - VEHICLE</td>\n",
       "      <td>1</td>\n",
       "      <td>06/15/2021 12:00:00 AM</td>\n",
       "      <td>2700 BLOCK GARBER ST\\nBerkeley, CA\\n(37.86066,...</td>\n",
       "      <td>2700 BLOCK GARBER ST</td>\n",
       "      <td>Berkeley</td>\n",
       "      <td>CA</td>\n",
       "    </tr>\n",
       "  </tbody>\n",
       "</table>\n",
       "</div>"
      ],
      "text/plain": [
       "     CASENO                   OFFENSE                 EVENTDT EVENTTM  \\\n",
       "0  21014296  THEFT MISD. (UNDER $950)  04/01/2021 12:00:00 AM   10:58   \n",
       "1  21014391  THEFT MISD. (UNDER $950)  04/01/2021 12:00:00 AM   10:38   \n",
       "2  21090494  THEFT MISD. (UNDER $950)  04/19/2021 12:00:00 AM   12:15   \n",
       "3  21090204  THEFT FELONY (OVER $950)  02/13/2021 12:00:00 AM   17:00   \n",
       "4  21090179             BURGLARY AUTO  02/08/2021 12:00:00 AM    6:20   \n",
       "\n",
       "             CVLEGEND  CVDOW                InDbDate  \\\n",
       "0             LARCENY      4  06/15/2021 12:00:00 AM   \n",
       "1             LARCENY      4  06/15/2021 12:00:00 AM   \n",
       "2             LARCENY      1  06/15/2021 12:00:00 AM   \n",
       "3             LARCENY      6  06/15/2021 12:00:00 AM   \n",
       "4  BURGLARY - VEHICLE      1  06/15/2021 12:00:00 AM   \n",
       "\n",
       "                                      Block_Location                BLKADDR  \\\n",
       "0             Berkeley, CA\\n(37.869058, -122.270455)                    NaN   \n",
       "1             Berkeley, CA\\n(37.869058, -122.270455)                    NaN   \n",
       "2  2100 BLOCK HASTE ST\\nBerkeley, CA\\n(37.864908,...    2100 BLOCK HASTE ST   \n",
       "3  2600 BLOCK WARRING ST\\nBerkeley, CA\\n(37.86393...  2600 BLOCK WARRING ST   \n",
       "4  2700 BLOCK GARBER ST\\nBerkeley, CA\\n(37.86066,...   2700 BLOCK GARBER ST   \n",
       "\n",
       "       City State  \n",
       "0  Berkeley    CA  \n",
       "1  Berkeley    CA  \n",
       "2  Berkeley    CA  \n",
       "3  Berkeley    CA  \n",
       "4  Berkeley    CA  "
      ]
     },
     "execution_count": 17,
     "metadata": {},
     "output_type": "execute_result"
    }
   ],
   "source": [
    "calls = pd.read_csv(\"data/Berkeley_PD_-_Calls_for_Service.csv\")\n",
    "calls.head()"
   ]
  },
  {
   "cell_type": "markdown",
   "id": "f2d5d1af-5520-410c-9d36-182de0f5edaf",
   "metadata": {},
   "source": [
    "Looks like there are three columns with dates/times: `EVENTDT`, `EVENTTM`, and `InDbDate`. \n",
    "\n",
    "- `EVENTDT` stands for the **date** when the event took place\n",
    "\n",
    "- `EVENTTM` stands for the **time of day** the event took place (in 24-hr format)\n",
    "\n",
    "- `InDbDate` is the date this call is entered into the database.\n",
    "\n",
    "We can convert these string columns to `datetime` objects using the `pd.to_datetime` function."
   ]
  },
  {
   "cell_type": "code",
   "execution_count": 18,
   "id": "67d11c08-b507-4158-ad2c-2b644516d073",
   "metadata": {},
   "outputs": [
    {
     "name": "stderr",
     "output_type": "stream",
     "text": [
      "C:\\Users\\LENOVO\\AppData\\Local\\Temp\\ipykernel_139840\\2275392033.py:7: UserWarning: Could not infer format, so each element will be parsed individually, falling back to `dateutil`. To ensure parsing is consistent and as-expected, please specify a format.\n",
      "  calls[\"EVENTDT\"] = pd.to_datetime(calls[\"EVENTDT\"])\n"
     ]
    },
    {
     "data": {
      "text/html": [
       "<div>\n",
       "<style scoped>\n",
       "    .dataframe tbody tr th:only-of-type {\n",
       "        vertical-align: middle;\n",
       "    }\n",
       "\n",
       "    .dataframe tbody tr th {\n",
       "        vertical-align: top;\n",
       "    }\n",
       "\n",
       "    .dataframe thead th {\n",
       "        text-align: right;\n",
       "    }\n",
       "</style>\n",
       "<table border=\"1\" class=\"dataframe\">\n",
       "  <thead>\n",
       "    <tr style=\"text-align: right;\">\n",
       "      <th></th>\n",
       "      <th>CASENO</th>\n",
       "      <th>OFFENSE</th>\n",
       "      <th>EVENTDT</th>\n",
       "      <th>EVENTTM</th>\n",
       "      <th>CVLEGEND</th>\n",
       "      <th>CVDOW</th>\n",
       "      <th>InDbDate</th>\n",
       "      <th>Block_Location</th>\n",
       "      <th>BLKADDR</th>\n",
       "      <th>City</th>\n",
       "      <th>State</th>\n",
       "    </tr>\n",
       "  </thead>\n",
       "  <tbody>\n",
       "    <tr>\n",
       "      <th>0</th>\n",
       "      <td>21014296</td>\n",
       "      <td>THEFT MISD. (UNDER $950)</td>\n",
       "      <td>2021-04-01</td>\n",
       "      <td>10:58</td>\n",
       "      <td>LARCENY</td>\n",
       "      <td>4</td>\n",
       "      <td>06/15/2021 12:00:00 AM</td>\n",
       "      <td>Berkeley, CA\\n(37.869058, -122.270455)</td>\n",
       "      <td>NaN</td>\n",
       "      <td>Berkeley</td>\n",
       "      <td>CA</td>\n",
       "    </tr>\n",
       "    <tr>\n",
       "      <th>1</th>\n",
       "      <td>21014391</td>\n",
       "      <td>THEFT MISD. (UNDER $950)</td>\n",
       "      <td>2021-04-01</td>\n",
       "      <td>10:38</td>\n",
       "      <td>LARCENY</td>\n",
       "      <td>4</td>\n",
       "      <td>06/15/2021 12:00:00 AM</td>\n",
       "      <td>Berkeley, CA\\n(37.869058, -122.270455)</td>\n",
       "      <td>NaN</td>\n",
       "      <td>Berkeley</td>\n",
       "      <td>CA</td>\n",
       "    </tr>\n",
       "    <tr>\n",
       "      <th>2</th>\n",
       "      <td>21090494</td>\n",
       "      <td>THEFT MISD. (UNDER $950)</td>\n",
       "      <td>2021-04-19</td>\n",
       "      <td>12:15</td>\n",
       "      <td>LARCENY</td>\n",
       "      <td>1</td>\n",
       "      <td>06/15/2021 12:00:00 AM</td>\n",
       "      <td>2100 BLOCK HASTE ST\\nBerkeley, CA\\n(37.864908,...</td>\n",
       "      <td>2100 BLOCK HASTE ST</td>\n",
       "      <td>Berkeley</td>\n",
       "      <td>CA</td>\n",
       "    </tr>\n",
       "    <tr>\n",
       "      <th>3</th>\n",
       "      <td>21090204</td>\n",
       "      <td>THEFT FELONY (OVER $950)</td>\n",
       "      <td>2021-02-13</td>\n",
       "      <td>17:00</td>\n",
       "      <td>LARCENY</td>\n",
       "      <td>6</td>\n",
       "      <td>06/15/2021 12:00:00 AM</td>\n",
       "      <td>2600 BLOCK WARRING ST\\nBerkeley, CA\\n(37.86393...</td>\n",
       "      <td>2600 BLOCK WARRING ST</td>\n",
       "      <td>Berkeley</td>\n",
       "      <td>CA</td>\n",
       "    </tr>\n",
       "    <tr>\n",
       "      <th>4</th>\n",
       "      <td>21090179</td>\n",
       "      <td>BURGLARY AUTO</td>\n",
       "      <td>2021-02-08</td>\n",
       "      <td>6:20</td>\n",
       "      <td>BURGLARY - VEHICLE</td>\n",
       "      <td>1</td>\n",
       "      <td>06/15/2021 12:00:00 AM</td>\n",
       "      <td>2700 BLOCK GARBER ST\\nBerkeley, CA\\n(37.86066,...</td>\n",
       "      <td>2700 BLOCK GARBER ST</td>\n",
       "      <td>Berkeley</td>\n",
       "      <td>CA</td>\n",
       "    </tr>\n",
       "  </tbody>\n",
       "</table>\n",
       "</div>"
      ],
      "text/plain": [
       "     CASENO                   OFFENSE    EVENTDT EVENTTM            CVLEGEND  \\\n",
       "0  21014296  THEFT MISD. (UNDER $950) 2021-04-01   10:58             LARCENY   \n",
       "1  21014391  THEFT MISD. (UNDER $950) 2021-04-01   10:38             LARCENY   \n",
       "2  21090494  THEFT MISD. (UNDER $950) 2021-04-19   12:15             LARCENY   \n",
       "3  21090204  THEFT FELONY (OVER $950) 2021-02-13   17:00             LARCENY   \n",
       "4  21090179             BURGLARY AUTO 2021-02-08    6:20  BURGLARY - VEHICLE   \n",
       "\n",
       "   CVDOW                InDbDate  \\\n",
       "0      4  06/15/2021 12:00:00 AM   \n",
       "1      4  06/15/2021 12:00:00 AM   \n",
       "2      1  06/15/2021 12:00:00 AM   \n",
       "3      6  06/15/2021 12:00:00 AM   \n",
       "4      1  06/15/2021 12:00:00 AM   \n",
       "\n",
       "                                      Block_Location                BLKADDR  \\\n",
       "0             Berkeley, CA\\n(37.869058, -122.270455)                    NaN   \n",
       "1             Berkeley, CA\\n(37.869058, -122.270455)                    NaN   \n",
       "2  2100 BLOCK HASTE ST\\nBerkeley, CA\\n(37.864908,...    2100 BLOCK HASTE ST   \n",
       "3  2600 BLOCK WARRING ST\\nBerkeley, CA\\n(37.86393...  2600 BLOCK WARRING ST   \n",
       "4  2700 BLOCK GARBER ST\\nBerkeley, CA\\n(37.86066,...   2700 BLOCK GARBER ST   \n",
       "\n",
       "       City State  \n",
       "0  Berkeley    CA  \n",
       "1  Berkeley    CA  \n",
       "2  Berkeley    CA  \n",
       "3  Berkeley    CA  \n",
       "4  Berkeley    CA  "
      ]
     },
     "execution_count": 18,
     "metadata": {},
     "output_type": "execute_result"
    }
   ],
   "source": [
    "# pd.to_datetime() is smart -- It can often infer what you want based on\n",
    "# the format of the datetime string.\n",
    "# But, it's not always right! It's good practice to specify the format of \n",
    "# your datetimes. See the documentation and the `format` argument.\n",
    "\n",
    "# Without format specified:\n",
    "calls[\"EVENTDT\"] = pd.to_datetime(calls[\"EVENTDT\"])\n",
    "\n",
    "# With format specified:\n",
    "# calls[\"EVENTDT\"] = pd.to_datetime(calls[\"EVENTDT\"], format='%m/%d/%Y %I:%M:%S %p')\n",
    "\n",
    "calls.head()"
   ]
  },
  {
   "cell_type": "markdown",
   "id": "2261c47d-22ec-4709-a9e2-129b481ec0bf",
   "metadata": {},
   "source": [
    "Now we can use the `dt` accessor on this column.\n",
    "\n",
    "We can get the month:"
   ]
  },
  {
   "cell_type": "code",
   "execution_count": 19,
   "id": "79b4df05-b134-41cc-8095-9122330ff42d",
   "metadata": {},
   "outputs": [
    {
     "data": {
      "text/plain": [
       "0        4\n",
       "1        4\n",
       "2        4\n",
       "3        2\n",
       "4        2\n",
       "        ..\n",
       "2627    12\n",
       "2628     2\n",
       "2629     3\n",
       "2630     4\n",
       "2631     2\n",
       "Name: EVENTDT, Length: 2632, dtype: int32"
      ]
     },
     "execution_count": 19,
     "metadata": {},
     "output_type": "execute_result"
    }
   ],
   "source": [
    "# 1 - January, 2 - February, ..., 12 - December\n",
    "calls[\"EVENTDT\"].dt.month"
   ]
  },
  {
   "cell_type": "markdown",
   "id": "58102f15-0e7e-46b5-aaa9-f9bf65cbfbed",
   "metadata": {},
   "source": [
    "Which day of the week the date is on:"
   ]
  },
  {
   "cell_type": "code",
   "execution_count": 20,
   "id": "934245aa-b0c0-40f7-8a44-843e5a342602",
   "metadata": {},
   "outputs": [
    {
     "data": {
      "text/plain": [
       "0       3\n",
       "1       3\n",
       "2       0\n",
       "3       5\n",
       "4       0\n",
       "       ..\n",
       "2627    0\n",
       "2628    2\n",
       "2629    2\n",
       "2630    5\n",
       "2631    4\n",
       "Name: EVENTDT, Length: 2632, dtype: int32"
      ]
     },
     "execution_count": 20,
     "metadata": {},
     "output_type": "execute_result"
    }
   ],
   "source": [
    "# 0 - Monday, 1 - Tuesday, ..., 6 - Sunday\n",
    "calls[\"EVENTDT\"].dt.dayofweek"
   ]
  },
  {
   "cell_type": "markdown",
   "id": "03a4630a-7fe3-4998-90f9-304e187a5cff",
   "metadata": {},
   "source": [
    "We can also sort by datetime:"
   ]
  },
  {
   "cell_type": "code",
   "execution_count": 21,
   "id": "5ff0750f-87d3-491c-a417-5c208527ae3d",
   "metadata": {},
   "outputs": [
    {
     "data": {
      "text/html": [
       "<div>\n",
       "<style scoped>\n",
       "    .dataframe tbody tr th:only-of-type {\n",
       "        vertical-align: middle;\n",
       "    }\n",
       "\n",
       "    .dataframe tbody tr th {\n",
       "        vertical-align: top;\n",
       "    }\n",
       "\n",
       "    .dataframe thead th {\n",
       "        text-align: right;\n",
       "    }\n",
       "</style>\n",
       "<table border=\"1\" class=\"dataframe\">\n",
       "  <thead>\n",
       "    <tr style=\"text-align: right;\">\n",
       "      <th></th>\n",
       "      <th>CASENO</th>\n",
       "      <th>OFFENSE</th>\n",
       "      <th>EVENTDT</th>\n",
       "      <th>EVENTTM</th>\n",
       "      <th>CVLEGEND</th>\n",
       "      <th>CVDOW</th>\n",
       "      <th>InDbDate</th>\n",
       "      <th>Block_Location</th>\n",
       "      <th>BLKADDR</th>\n",
       "      <th>City</th>\n",
       "      <th>State</th>\n",
       "    </tr>\n",
       "  </thead>\n",
       "  <tbody>\n",
       "    <tr>\n",
       "      <th>2513</th>\n",
       "      <td>20057398</td>\n",
       "      <td>BURGLARY COMMERCIAL</td>\n",
       "      <td>2020-12-17</td>\n",
       "      <td>16:05</td>\n",
       "      <td>BURGLARY - COMMERCIAL</td>\n",
       "      <td>4</td>\n",
       "      <td>06/15/2021 12:00:00 AM</td>\n",
       "      <td>600 BLOCK GILMAN ST\\nBerkeley, CA\\n(37.878405,...</td>\n",
       "      <td>600 BLOCK GILMAN ST</td>\n",
       "      <td>Berkeley</td>\n",
       "      <td>CA</td>\n",
       "    </tr>\n",
       "    <tr>\n",
       "      <th>624</th>\n",
       "      <td>20057207</td>\n",
       "      <td>ASSAULT/BATTERY MISD.</td>\n",
       "      <td>2020-12-17</td>\n",
       "      <td>16:50</td>\n",
       "      <td>ASSAULT</td>\n",
       "      <td>4</td>\n",
       "      <td>06/15/2021 12:00:00 AM</td>\n",
       "      <td>2100 BLOCK SHATTUCK AVE\\nBerkeley, CA\\n(37.871...</td>\n",
       "      <td>2100 BLOCK SHATTUCK AVE</td>\n",
       "      <td>Berkeley</td>\n",
       "      <td>CA</td>\n",
       "    </tr>\n",
       "    <tr>\n",
       "      <th>154</th>\n",
       "      <td>20092214</td>\n",
       "      <td>THEFT FROM AUTO</td>\n",
       "      <td>2020-12-17</td>\n",
       "      <td>18:30</td>\n",
       "      <td>LARCENY - FROM VEHICLE</td>\n",
       "      <td>4</td>\n",
       "      <td>06/15/2021 12:00:00 AM</td>\n",
       "      <td>800 BLOCK SHATTUCK AVE\\nBerkeley, CA\\n(37.8918...</td>\n",
       "      <td>800 BLOCK SHATTUCK AVE</td>\n",
       "      <td>Berkeley</td>\n",
       "      <td>CA</td>\n",
       "    </tr>\n",
       "    <tr>\n",
       "      <th>659</th>\n",
       "      <td>20057324</td>\n",
       "      <td>THEFT MISD. (UNDER $950)</td>\n",
       "      <td>2020-12-17</td>\n",
       "      <td>15:44</td>\n",
       "      <td>LARCENY</td>\n",
       "      <td>4</td>\n",
       "      <td>06/15/2021 12:00:00 AM</td>\n",
       "      <td>1800 BLOCK 4TH ST\\nBerkeley, CA\\n(37.869888, -...</td>\n",
       "      <td>1800 BLOCK 4TH ST</td>\n",
       "      <td>Berkeley</td>\n",
       "      <td>CA</td>\n",
       "    </tr>\n",
       "    <tr>\n",
       "      <th>993</th>\n",
       "      <td>20057573</td>\n",
       "      <td>BURGLARY RESIDENTIAL</td>\n",
       "      <td>2020-12-17</td>\n",
       "      <td>22:15</td>\n",
       "      <td>BURGLARY - RESIDENTIAL</td>\n",
       "      <td>4</td>\n",
       "      <td>06/15/2021 12:00:00 AM</td>\n",
       "      <td>1700 BLOCK STUART ST\\nBerkeley, CA\\n(37.857495...</td>\n",
       "      <td>1700 BLOCK STUART ST</td>\n",
       "      <td>Berkeley</td>\n",
       "      <td>CA</td>\n",
       "    </tr>\n",
       "  </tbody>\n",
       "</table>\n",
       "</div>"
      ],
      "text/plain": [
       "        CASENO                   OFFENSE    EVENTDT EVENTTM  \\\n",
       "2513  20057398       BURGLARY COMMERCIAL 2020-12-17   16:05   \n",
       "624   20057207     ASSAULT/BATTERY MISD. 2020-12-17   16:50   \n",
       "154   20092214           THEFT FROM AUTO 2020-12-17   18:30   \n",
       "659   20057324  THEFT MISD. (UNDER $950) 2020-12-17   15:44   \n",
       "993   20057573      BURGLARY RESIDENTIAL 2020-12-17   22:15   \n",
       "\n",
       "                    CVLEGEND  CVDOW                InDbDate  \\\n",
       "2513   BURGLARY - COMMERCIAL      4  06/15/2021 12:00:00 AM   \n",
       "624                  ASSAULT      4  06/15/2021 12:00:00 AM   \n",
       "154   LARCENY - FROM VEHICLE      4  06/15/2021 12:00:00 AM   \n",
       "659                  LARCENY      4  06/15/2021 12:00:00 AM   \n",
       "993   BURGLARY - RESIDENTIAL      4  06/15/2021 12:00:00 AM   \n",
       "\n",
       "                                         Block_Location  \\\n",
       "2513  600 BLOCK GILMAN ST\\nBerkeley, CA\\n(37.878405,...   \n",
       "624   2100 BLOCK SHATTUCK AVE\\nBerkeley, CA\\n(37.871...   \n",
       "154   800 BLOCK SHATTUCK AVE\\nBerkeley, CA\\n(37.8918...   \n",
       "659   1800 BLOCK 4TH ST\\nBerkeley, CA\\n(37.869888, -...   \n",
       "993   1700 BLOCK STUART ST\\nBerkeley, CA\\n(37.857495...   \n",
       "\n",
       "                      BLKADDR      City State  \n",
       "2513      600 BLOCK GILMAN ST  Berkeley    CA  \n",
       "624   2100 BLOCK SHATTUCK AVE  Berkeley    CA  \n",
       "154    800 BLOCK SHATTUCK AVE  Berkeley    CA  \n",
       "659         1800 BLOCK 4TH ST  Berkeley    CA  \n",
       "993      1700 BLOCK STUART ST  Berkeley    CA  "
      ]
     },
     "execution_count": 21,
     "metadata": {},
     "output_type": "execute_result"
    }
   ],
   "source": [
    "# Sort the DataFrame by datetime to find the earliest call.\n",
    "calls.sort_values(\"EVENTDT\").head()"
   ]
  },
  {
   "cell_type": "markdown",
   "id": "bf089df9-ceef-44d8-a397-fa3d8b119cfe",
   "metadata": {},
   "source": [
    "We can also do many things with the `dt` accessor like switching time zones and converting time back to UNIX/POSIX time. Check out the documentation on [`.dt` accessor](https://pandas.pydata.org/docs/user_guide/basics.html#basics-dt-accessors) and [time series/date functionality](https://pandas.pydata.org/docs/user_guide/timeseries.html#)."
   ]
  },
  {
   "cell_type": "markdown",
   "id": "79a8ae03",
   "metadata": {},
   "source": [
    "What type are datetime objects?"
   ]
  },
  {
   "cell_type": "code",
   "execution_count": 22,
   "id": "a0871343",
   "metadata": {},
   "outputs": [
    {
     "data": {
      "text/plain": [
       "dtype('<M8[ns]')"
      ]
     },
     "execution_count": 22,
     "metadata": {},
     "output_type": "execute_result"
    }
   ],
   "source": [
    "calls[\"EVENTDT\"].dtype"
   ]
  },
  {
   "cell_type": "markdown",
   "id": "2e1e37a9",
   "metadata": {},
   "source": [
    "`ns` above stands for nanoseconds.\n",
    "\n",
    "- `<M8` refers to the Numpy type `datetime64`\n",
    "\n",
    "Under the hood, datetimes in Pandas are integers representing the number of **nanoseconds** since 1/1/1970 UTC."
   ]
  },
  {
   "cell_type": "code",
   "execution_count": 23,
   "id": "6aa4c16c",
   "metadata": {},
   "outputs": [
    {
     "data": {
      "text/plain": [
       "0       1617235200000000000\n",
       "1       1617235200000000000\n",
       "2       1618790400000000000\n",
       "3       1613174400000000000\n",
       "4       1612742400000000000\n",
       "               ...         \n",
       "2627    1608508800000000000\n",
       "2628    1614124800000000000\n",
       "2629    1616544000000000000\n",
       "2630    1619222400000000000\n",
       "2631    1614297600000000000\n",
       "Name: EVENTDT, Length: 2632, dtype: int64"
      ]
     },
     "execution_count": 23,
     "metadata": {},
     "output_type": "execute_result"
    }
   ],
   "source": [
    "# datetimes in pandas are stored as integers representing number of \n",
    "# nanoseconds since 1970-01-01\n",
    "calls[\"EVENTDT\"].astype(int)"
   ]
  },
  {
   "cell_type": "markdown",
   "id": "9237b2e5",
   "metadata": {},
   "source": [
    "<br><br><br>\n",
    "\n",
    "**Instructor Note: Return to Slides!**"
   ]
  },
  {
   "cell_type": "markdown",
   "id": "b22c4343",
   "metadata": {},
   "source": [
    "<br/>\n",
    "\n",
    "---\n",
    "\n",
    "\n",
    "## 🤷 Faithfulness and missing values\n",
    "\n",
    "To conclude, let's **very** briefly explore missingness in the Berkeley PD Calls for Service dataset.\n",
    "\n",
    "Looking at the top of the dataframe, we can already see that there are missing values in the `BLKADDR` column."
   ]
  },
  {
   "cell_type": "code",
   "execution_count": 24,
   "id": "fc64a710",
   "metadata": {},
   "outputs": [
    {
     "data": {
      "text/html": [
       "<div>\n",
       "<style scoped>\n",
       "    .dataframe tbody tr th:only-of-type {\n",
       "        vertical-align: middle;\n",
       "    }\n",
       "\n",
       "    .dataframe tbody tr th {\n",
       "        vertical-align: top;\n",
       "    }\n",
       "\n",
       "    .dataframe thead th {\n",
       "        text-align: right;\n",
       "    }\n",
       "</style>\n",
       "<table border=\"1\" class=\"dataframe\">\n",
       "  <thead>\n",
       "    <tr style=\"text-align: right;\">\n",
       "      <th></th>\n",
       "      <th>CASENO</th>\n",
       "      <th>OFFENSE</th>\n",
       "      <th>EVENTDT</th>\n",
       "      <th>EVENTTM</th>\n",
       "      <th>CVLEGEND</th>\n",
       "      <th>CVDOW</th>\n",
       "      <th>InDbDate</th>\n",
       "      <th>Block_Location</th>\n",
       "      <th>BLKADDR</th>\n",
       "      <th>City</th>\n",
       "      <th>State</th>\n",
       "    </tr>\n",
       "  </thead>\n",
       "  <tbody>\n",
       "    <tr>\n",
       "      <th>0</th>\n",
       "      <td>21014296</td>\n",
       "      <td>THEFT MISD. (UNDER $950)</td>\n",
       "      <td>2021-04-01</td>\n",
       "      <td>10:58</td>\n",
       "      <td>LARCENY</td>\n",
       "      <td>4</td>\n",
       "      <td>06/15/2021 12:00:00 AM</td>\n",
       "      <td>Berkeley, CA\\n(37.869058, -122.270455)</td>\n",
       "      <td>NaN</td>\n",
       "      <td>Berkeley</td>\n",
       "      <td>CA</td>\n",
       "    </tr>\n",
       "    <tr>\n",
       "      <th>1</th>\n",
       "      <td>21014391</td>\n",
       "      <td>THEFT MISD. (UNDER $950)</td>\n",
       "      <td>2021-04-01</td>\n",
       "      <td>10:38</td>\n",
       "      <td>LARCENY</td>\n",
       "      <td>4</td>\n",
       "      <td>06/15/2021 12:00:00 AM</td>\n",
       "      <td>Berkeley, CA\\n(37.869058, -122.270455)</td>\n",
       "      <td>NaN</td>\n",
       "      <td>Berkeley</td>\n",
       "      <td>CA</td>\n",
       "    </tr>\n",
       "    <tr>\n",
       "      <th>2</th>\n",
       "      <td>21090494</td>\n",
       "      <td>THEFT MISD. (UNDER $950)</td>\n",
       "      <td>2021-04-19</td>\n",
       "      <td>12:15</td>\n",
       "      <td>LARCENY</td>\n",
       "      <td>1</td>\n",
       "      <td>06/15/2021 12:00:00 AM</td>\n",
       "      <td>2100 BLOCK HASTE ST\\nBerkeley, CA\\n(37.864908,...</td>\n",
       "      <td>2100 BLOCK HASTE ST</td>\n",
       "      <td>Berkeley</td>\n",
       "      <td>CA</td>\n",
       "    </tr>\n",
       "    <tr>\n",
       "      <th>3</th>\n",
       "      <td>21090204</td>\n",
       "      <td>THEFT FELONY (OVER $950)</td>\n",
       "      <td>2021-02-13</td>\n",
       "      <td>17:00</td>\n",
       "      <td>LARCENY</td>\n",
       "      <td>6</td>\n",
       "      <td>06/15/2021 12:00:00 AM</td>\n",
       "      <td>2600 BLOCK WARRING ST\\nBerkeley, CA\\n(37.86393...</td>\n",
       "      <td>2600 BLOCK WARRING ST</td>\n",
       "      <td>Berkeley</td>\n",
       "      <td>CA</td>\n",
       "    </tr>\n",
       "    <tr>\n",
       "      <th>4</th>\n",
       "      <td>21090179</td>\n",
       "      <td>BURGLARY AUTO</td>\n",
       "      <td>2021-02-08</td>\n",
       "      <td>6:20</td>\n",
       "      <td>BURGLARY - VEHICLE</td>\n",
       "      <td>1</td>\n",
       "      <td>06/15/2021 12:00:00 AM</td>\n",
       "      <td>2700 BLOCK GARBER ST\\nBerkeley, CA\\n(37.86066,...</td>\n",
       "      <td>2700 BLOCK GARBER ST</td>\n",
       "      <td>Berkeley</td>\n",
       "      <td>CA</td>\n",
       "    </tr>\n",
       "  </tbody>\n",
       "</table>\n",
       "</div>"
      ],
      "text/plain": [
       "     CASENO                   OFFENSE    EVENTDT EVENTTM            CVLEGEND  \\\n",
       "0  21014296  THEFT MISD. (UNDER $950) 2021-04-01   10:58             LARCENY   \n",
       "1  21014391  THEFT MISD. (UNDER $950) 2021-04-01   10:38             LARCENY   \n",
       "2  21090494  THEFT MISD. (UNDER $950) 2021-04-19   12:15             LARCENY   \n",
       "3  21090204  THEFT FELONY (OVER $950) 2021-02-13   17:00             LARCENY   \n",
       "4  21090179             BURGLARY AUTO 2021-02-08    6:20  BURGLARY - VEHICLE   \n",
       "\n",
       "   CVDOW                InDbDate  \\\n",
       "0      4  06/15/2021 12:00:00 AM   \n",
       "1      4  06/15/2021 12:00:00 AM   \n",
       "2      1  06/15/2021 12:00:00 AM   \n",
       "3      6  06/15/2021 12:00:00 AM   \n",
       "4      1  06/15/2021 12:00:00 AM   \n",
       "\n",
       "                                      Block_Location                BLKADDR  \\\n",
       "0             Berkeley, CA\\n(37.869058, -122.270455)                    NaN   \n",
       "1             Berkeley, CA\\n(37.869058, -122.270455)                    NaN   \n",
       "2  2100 BLOCK HASTE ST\\nBerkeley, CA\\n(37.864908,...    2100 BLOCK HASTE ST   \n",
       "3  2600 BLOCK WARRING ST\\nBerkeley, CA\\n(37.86393...  2600 BLOCK WARRING ST   \n",
       "4  2700 BLOCK GARBER ST\\nBerkeley, CA\\n(37.86066,...   2700 BLOCK GARBER ST   \n",
       "\n",
       "       City State  \n",
       "0  Berkeley    CA  \n",
       "1  Berkeley    CA  \n",
       "2  Berkeley    CA  \n",
       "3  Berkeley    CA  \n",
       "4  Berkeley    CA  "
      ]
     },
     "execution_count": 24,
     "metadata": {},
     "output_type": "execute_result"
    }
   ],
   "source": [
    "calls.head()"
   ]
  },
  {
   "cell_type": "markdown",
   "id": "7732de36",
   "metadata": {},
   "source": [
    "We can use the `.isna()` method to get a sense of how often values in `BLKADDR` are missing.\n",
    "\n",
    "- The `.isnull()` method is functionally equivalent. "
   ]
  },
  {
   "cell_type": "code",
   "execution_count": 25,
   "id": "3b8cd271",
   "metadata": {},
   "outputs": [
    {
     "name": "stdout",
     "output_type": "stream",
     "text": [
      "0     True\n",
      "1     True\n",
      "2    False\n",
      "3    False\n",
      "4    False\n",
      "Name: BLKADDR, dtype: bool\n"
     ]
    },
    {
     "data": {
      "text/plain": [
       "np.float64(0.007598784194528876)"
      ]
     },
     "execution_count": 25,
     "metadata": {},
     "output_type": "execute_result"
    }
   ],
   "source": [
    "# isna() returns a Series of booleans indicating whether each element \n",
    "# # in the Series is missing.\n",
    "print(calls['BLKADDR'].isna().head())\n",
    "\n",
    "# The mean of a Series of booleans is the proportion of booleans that are True.\n",
    "calls['BLKADDR'].isna().mean()"
   ]
  },
  {
   "cell_type": "markdown",
   "id": "6047c157",
   "metadata": {},
   "source": [
    "It looks like missing values are actually quite rare: Only 0.8% of records are missing a value in `BLKADDR`.\n",
    "\n",
    "Why are these values missing? \n",
    "\n",
    "- Again, looking at just the first few rows, we see that `NaN` values in `BLKADDR` appear to be accompanied by latitude/longitude coordinates in the `Block_Location` column.\n",
    "\n",
    "- In all likelihood, missing values in `BLKADDR` probably correspond to locations that do not have a defined address in the officer's navigation or GPS system.\n",
    "\n",
    "<br>\n",
    "\n",
    "The best default approach here: Leave the rows with missing `BLKADDR` untouched, or replace the `NaN` values with a `MISSING` indicator.\n",
    "\n",
    "- In the future, if we wanted to conduct an analysis of the streets where police incidents were most common, we might impute `BLKADDR` by using the nearest street, which we could identify with an external package.\n",
    "\n",
    "<br>\n",
    "\n",
    "For a very rough sense of missingness in each column of a DataFrame, you can use the `info()` method.\n",
    "\n",
    "- Based on the output, it looks like the only column with missing values is `BLKADDR`."
   ]
  },
  {
   "cell_type": "code",
   "execution_count": 26,
   "id": "56104490",
   "metadata": {},
   "outputs": [
    {
     "name": "stdout",
     "output_type": "stream",
     "text": [
      "<class 'pandas.core.frame.DataFrame'>\n",
      "RangeIndex: 2632 entries, 0 to 2631\n",
      "Data columns (total 11 columns):\n",
      " #   Column          Non-Null Count  Dtype         \n",
      "---  ------          --------------  -----         \n",
      " 0   CASENO          2632 non-null   int64         \n",
      " 1   OFFENSE         2632 non-null   object        \n",
      " 2   EVENTDT         2632 non-null   datetime64[ns]\n",
      " 3   EVENTTM         2632 non-null   object        \n",
      " 4   CVLEGEND        2632 non-null   object        \n",
      " 5   CVDOW           2632 non-null   int64         \n",
      " 6   InDbDate        2632 non-null   object        \n",
      " 7   Block_Location  2632 non-null   object        \n",
      " 8   BLKADDR         2612 non-null   object        \n",
      " 9   City            2632 non-null   object        \n",
      " 10  State           2632 non-null   object        \n",
      "dtypes: datetime64[ns](1), int64(2), object(8)\n",
      "memory usage: 226.3+ KB\n"
     ]
    }
   ],
   "source": [
    "# You can see the total number of rows at the top of the .info() output.\n",
    "# Compare this to the number of non-null values in the BLKADDR column.\n",
    "calls.info()"
   ]
  },
  {
   "cell_type": "markdown",
   "id": "ba0c9d5d",
   "metadata": {},
   "source": [
    "<br><br><br>\n",
    "\n",
    "**Instructor Note: Return to Slides!**"
   ]
  }
 ],
 "metadata": {
  "kernelspec": {
   "display_name": "Python 3",
   "language": "python",
   "name": "python3"
  },
  "language_info": {
   "codemirror_mode": {
    "name": "ipython",
    "version": 3
   },
   "file_extension": ".py",
   "mimetype": "text/x-python",
   "name": "python",
   "nbconvert_exporter": "python",
   "pygments_lexer": "ipython3",
   "version": "3.12.1"
  }
 },
 "nbformat": 4,
 "nbformat_minor": 5
}
