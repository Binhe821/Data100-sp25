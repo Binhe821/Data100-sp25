{
 "cells": [
  {
   "cell_type": "code",
   "execution_count": 1,
   "metadata": {
    "deletable": false,
    "editable": false
   },
   "outputs": [],
   "source": [
    "# Initialize Otter\n",
    "import otter\n",
    "grader = otter.Notebook(\"lab03.ipynb\")"
   ]
  },
  {
   "cell_type": "markdown",
   "metadata": {
    "nbgrader": {
     "grade": false,
     "grade_id": "intro",
     "locked": true,
     "schema_version": 2,
     "solution": false
    },
    "tags": []
   },
   "source": [
    "### Content Warning\n",
    "This lab includes an analysis of crime in Berkeley. If you feel uncomfortable with this topic, **please contact your TA or the instructors, or reach out via the Spring 2025 Additional Accomodations form.**\n",
    "\n",
    "\n",
    "# Lab 03: Regex, EDA\n",
    "\n",
    "In this lab, you will be working on visualizing a dataset from the City of Berkeley containing data on calls to the Berkeley Police Department. Information about the dataset can be found [at this link](https://data.cityofberkeley.info/Public-Safety/Berkeley-PD-Calls-for-Service/k2nh-s5h5).\n",
    "\n",
    "To receive credit for a lab, answer all questions correctly and submit before the deadline.\n",
    "\n",
    "You must submit this assignment to Gradescope by the on-time deadline, **Tuesday, February 18th, 11:59 PM PT**. Please read the syllabus for the Slip Day policy. As a reminder, slip days are **not** applicable on labs. **We strongly encourage you to plan to submit your work to Gradescope several hours before the stated deadline.** This way, you will have ample time to contact staff for submission support. \n",
    " \n",
    "### Lab Walkthrough\n",
    "In addition to the lab notebook, we have also released a prerecorded walkthrough video of the lab. This playlist includes a walkthrough for every question in the lab. We encourage you to reference this video as you work through the lab. Run the cell below to display the video.\n",
    "<br>\n",
    "\n",
    "**Note:** This video was recorded in Spring 2022. There may be slight inconsistencies between the version you are viewing and the version used in the recording, but the content is largely identical. The key difference is that we are using the most updated 2022 dataset for the Berkeley crime data, not the 2021 dataset."
   ]
  },
  {
   "cell_type": "code",
   "execution_count": 2,
   "metadata": {},
   "outputs": [
    {
     "data": {
      "image/jpeg": "[encoded data removed]",
      "text/html": [
       "\n",
       "        <iframe\n",
       "            width=\"400\"\n",
       "            height=\"300\"\n",
       "            src=\"https://www.youtube.com/embed/LcIXTx49o2A?list=PLQCcNQgUcDfrG1xueBsgwDy0x5vQmi5j0&listType=playlist\"\n",
       "            frameborder=\"0\"\n",
       "            allowfullscreen\n",
       "            \n",
       "        ></iframe>\n",
       "        "
      ],
      "text/plain": [
       "<IPython.lib.display.YouTubeVideo at 0x213957cb020>"
      ]
     },
     "execution_count": 2,
     "metadata": {},
     "output_type": "execute_result"
    }
   ],
   "source": [
    "from IPython.display import YouTubeVideo\n",
    "YouTubeVideo(\"LcIXTx49o2A\", list = 'PLQCcNQgUcDfrG1xueBsgwDy0x5vQmi5j0', listType = 'playlist')"
   ]
  },
  {
   "cell_type": "markdown",
   "metadata": {},
   "source": [
    "### Collaboration Policy\n",
    "\n",
    "Data science is a collaborative activity. While you may talk with others about this assignment, we ask that you **write your solutions individually**. If you discuss the assignment with others, please **include their names** in the cell below."
   ]
  },
  {
   "cell_type": "markdown",
   "metadata": {},
   "source": [
    "**Collaborators:** *list names here*"
   ]
  },
  {
   "cell_type": "markdown",
   "metadata": {},
   "source": [
    "### Discussion 4 Mini-lecture\n",
    "\n",
    "In Data 100, discussions will not reserve time to host mini-lectures. Instead, we will release a set of pre-recorded mini-lectures that supplement the concepts introduced in lecture. The week after a mini-lecture is released, the topics will be covered in discussion. Thus, it is important to watch these mini-lectures **before** attending the discussion section you are assigned to. Discussion 4 mini-lecture is attached below. **Make sure you are signed into your berkeley.edu account on YouTube for it to properly render below.**"
   ]
  },
  {
   "cell_type": "code",
   "execution_count": 3,
   "metadata": {},
   "outputs": [
    {
     "data": {
      "text/html": [
       "\n",
       "        <iframe\n",
       "            width=\"400\"\n",
       "            height=\"300\"\n",
       "            src=\"https://www.youtube.com/embed/r7lxybfJK5c?list=PLQCcNQgUcDfoUXRtrHc9TUx2pBYNfToVN&listType=playlist\"\n",
       "            frameborder=\"0\"\n",
       "            allowfullscreen\n",
       "            \n",
       "        ></iframe>\n",
       "        "
      ],
      "text/plain": [
       "<IPython.lib.display.YouTubeVideo at 0x21394c3ec60>"
      ]
     },
     "execution_count": 3,
     "metadata": {},
     "output_type": "execute_result"
    }
   ],
   "source": [
    "YouTubeVideo(\"r7lxybfJK5c\", list = 'PLQCcNQgUcDfoUXRtrHc9TUx2pBYNfToVN', listType = 'playlist')"
   ]
  },
  {
   "cell_type": "markdown",
   "metadata": {},
   "source": [
    "---\n",
    "### Debugging Guide\n",
    "If you run into any technical issues, we highly recommend checking out the [Data 100 Debugging Guide](https://ds100.org/debugging-guide/). In this guide, you can find general questions about Jupyter notebooks / Datahub, Gradescope, and common pandas errors."
   ]
  },
  {
   "cell_type": "markdown",
   "metadata": {
    "nbgrader": {
     "grade": false,
     "grade_id": "setup",
     "locked": true,
     "schema_version": 2,
     "solution": false
    }
   },
   "source": [
    "---\n",
    "### Setup\n",
    "\n",
    "In this lab, we'll perform Exploratory Data Analysis and learn some preliminary tips for working with `matplotlib` (a Python plotting library). In the cell below, we configure a custom default figure size. Virtually every default aspect of `matplotlib` [can be customized](https://matplotlib.org/stable/users/explain/customizing.html). `matplotlib` will formally be taught in lectures 7 and 8."
   ]
  },
  {
   "cell_type": "code",
   "execution_count": 4,
   "metadata": {
    "nbgrader": {
     "grade": false,
     "grade_id": "imports",
     "locked": true,
     "schema_version": 2,
     "solution": false
    }
   },
   "outputs": [],
   "source": [
    "import pandas as pd\n",
    "import numpy as np\n",
    "import zipfile\n",
    "import matplotlib\n",
    "import matplotlib.pyplot as plt\n",
    "\n",
    "plt.rcParams['figure.figsize'] = (12, 9)"
   ]
  },
  {
   "cell_type": "markdown",
   "metadata": {
    "nbgrader": {
     "grade": false,
     "grade_id": "part1",
     "locked": true,
     "schema_version": 2,
     "solution": false
    }
   },
   "source": [
    "<br/>\n",
    "<hr style=\"border: 5px solid #003262;\" />\n",
    "<hr style=\"border: 1px solid #fdb515;\" />\n",
    "\n",
    "# Part 1: Acquire the Data\n",
    "\n",
    "Here, we start by acquiring the data that this lab is based on. **Please don't worry about understanding all the code in this section**; the steps shown here are out of scope and provided here for student interest!\n",
    "\n",
    "**1. Obtain data**<br/>\n",
    "To retrieve the dataset, we will use the `ds100_utils.download_lab3_data` utility, a helper function that Data 100 staff created. You can see how this is implemented by opening the file `ds100_utils.py` on the left."
   ]
  },
  {
   "cell_type": "code",
   "execution_count": 5,
   "metadata": {
    "collapsed": false,
    "jupyter": {
     "outputs_hidden": false
    }
   },
   "outputs": [
    {
     "name": "stdout",
     "output_type": "stream",
     "text": [
      "Using cached version that was downloaded (UTC): Mon Feb 17 17:30:10 2025\n",
      "Located at data\\lab03_data_sp24.zip\n"
     ]
    }
   ],
   "source": [
    "# Run this cell to download the data, no further action is needed.\n",
    "from ds100_utils import download_lab3_data\n",
    "\n",
    "dest_path = download_lab3_data()\n",
    "print(f'Located at {dest_path}')"
   ]
  },
  {
   "cell_type": "markdown",
   "metadata": {
    "nbgrader": {
     "grade": false,
     "grade_id": "unzip-data-1",
     "locked": true,
     "schema_version": 2,
     "solution": false
    }
   },
   "source": [
    "**2. Unzip file**<br/>\n",
    "We will now directly unzip the ZIP archive and start working with the uncompressed files."
   ]
  },
  {
   "cell_type": "code",
   "execution_count": 6,
   "metadata": {},
   "outputs": [],
   "source": [
    "# Run this cell to unzip the data, no further action is needed.\n",
    "my_zip = zipfile.ZipFile(dest_path, 'r')\n",
    "my_zip.extractall('data')"
   ]
  },
  {
   "cell_type": "markdown",
   "metadata": {},
   "source": [
    "There is no single right answer regarding whether to work with compressed files in their compressed state or to uncompress them on disk permanently. For example, if you need to work with multiple tools on the same files or write many notebooks to analyze them—and they are not too large—it may be more convenient to uncompress them once. But you may also have situations where you find it preferable to work with the compressed data directly.  \n",
    "\n",
    "`Python` gives you tools for both approaches, so it can be helpful to know how to perform both tasks in order to choose the one that best suits the problem at hand."
   ]
  },
  {
   "cell_type": "markdown",
   "metadata": {
    "nbgrader": {
     "grade": false,
     "grade_id": "q0",
     "locked": true,
     "schema_version": 2,
     "solution": false
    }
   },
   "source": [
    "**3. View files**\n",
    "\n",
    "Now, we'll use the `os` package to list all files in the `data` directory. `os.walk()` recursively traverses the directory, and `os.path.join()` creates the full pathname of each file.\n",
    "\n",
    "If you're interested in learning more, check out the `Python3` documentation pages for `os.walk` ([link](https://docs.python.org/3/library/os.html#os.walk)) and `os.path.join` ([link](https://docs.python.org/3/library/os.path.html#os.path.join)).\n",
    "\n",
    "We use `Python3` [format strings](https://docs.python.org/3/tutorial/inputoutput.html) to nicely format the printed variables `dpath` and `fpath`."
   ]
  },
  {
   "cell_type": "code",
   "execution_count": 7,
   "metadata": {
    "collapsed": false,
    "jupyter": {
     "outputs_hidden": false
    }
   },
   "outputs": [
    {
     "name": "stdout",
     "output_type": "stream",
     "text": [
      "d data\\secret\n",
      "  data\\Berkeley_PD_-_Calls_for_Service_2022.csv\n",
      "  data\\dummy.txt\n",
      "  data\\hello_world.py\n",
      "  data\\lab03_data_sp24.zip\n",
      "  data\\secret\\do_not_readme.md\n"
     ]
    }
   ],
   "source": [
    "# Run this cell to view the content in the zip file, no further action is needed.\n",
    "import os\n",
    "for root, directories, filenames in os.walk('data'):\n",
    "    # first, print out all directories\n",
    "    for directory in directories:\n",
    "        dpath = os.path.join(root, directory)\n",
    "        print(f\"d {dpath}\")\n",
    "        \n",
    "    # next, print out all files\n",
    "    for filename in filenames:  \n",
    "        fpath = os.path.join(root,filename)\n",
    "        print(f\"  {fpath}\")"
   ]
  },
  {
   "cell_type": "markdown",
   "metadata": {
    "nbgrader": {
     "grade": false,
     "grade_id": "explore-0",
     "locked": true,
     "schema_version": 2,
     "solution": false
    }
   },
   "source": [
    "In this Lab, we'll be working with the `Berkeley_PD_-_Calls_for_Service_2022.csv` file. Feel free to check out the other files, though."
   ]
  },
  {
   "cell_type": "markdown",
   "metadata": {},
   "source": [
    "<br/>\n",
    "\n",
    "<hr style=\"border: 1px solid #fdb515;\" />\n",
    "\n",
    "# Part 2: Clean and Explore the Data\n",
    "\n",
    "Let's now load the CSV file we have into a `DataFrame`, and start exploring the data. We added a line at the top of the cell to suppress a couple of warnings related to how we use `pd.to_datetime` here, but you need not worry about that."
   ]
  },
  {
   "cell_type": "code",
   "execution_count": 8,
   "metadata": {
    "collapsed": false,
    "jupyter": {
     "outputs_hidden": false
    }
   },
   "outputs": [],
   "source": [
    "%%capture --no-stdout\n",
    "\n",
    "# Run this cell to read the data into a DataFrame and do some initial formatting, no further action is needed.\n",
    "calls = pd.read_csv(\"data/Berkeley_PD_-_Calls_for_Service_2022.csv\")\n",
    "calls['EVENTTM'] = pd.to_datetime(calls['EVENTTM']).dt.strftime('%H:%M:%S %p')"
   ]
  },
  {
   "cell_type": "code",
   "execution_count": 9,
   "metadata": {},
   "outputs": [
    {
     "data": {
      "text/html": [
       "<div>\n",
       "<style scoped>\n",
       "    .dataframe tbody tr th:only-of-type {\n",
       "        vertical-align: middle;\n",
       "    }\n",
       "\n",
       "    .dataframe tbody tr th {\n",
       "        vertical-align: top;\n",
       "    }\n",
       "\n",
       "    .dataframe thead th {\n",
       "        text-align: right;\n",
       "    }\n",
       "</style>\n",
       "<table border=\"1\" class=\"dataframe\">\n",
       "  <thead>\n",
       "    <tr style=\"text-align: right;\">\n",
       "      <th></th>\n",
       "      <th>CASENO</th>\n",
       "      <th>OFFENSE</th>\n",
       "      <th>EVENTDT</th>\n",
       "      <th>EVENTTM</th>\n",
       "      <th>CVLEGEND</th>\n",
       "      <th>CVDOW</th>\n",
       "      <th>InDbDate</th>\n",
       "      <th>Block_Location</th>\n",
       "      <th>BLKADDR</th>\n",
       "      <th>City</th>\n",
       "      <th>State</th>\n",
       "    </tr>\n",
       "  </thead>\n",
       "  <tbody>\n",
       "    <tr>\n",
       "      <th>0</th>\n",
       "      <td>22036516</td>\n",
       "      <td>THEFT FROM AUTO</td>\n",
       "      <td>08/10/2022 12:00:00 AM</td>\n",
       "      <td>06:10:00 AM</td>\n",
       "      <td>LARCENY - FROM VEHICLE</td>\n",
       "      <td>3</td>\n",
       "      <td>10/13/2022 04:42:00 PM</td>\n",
       "      <td>Berkeley, CA\\n(37.86988, -122.27054)</td>\n",
       "      <td>NaN</td>\n",
       "      <td>Berkeley</td>\n",
       "      <td>CA</td>\n",
       "    </tr>\n",
       "    <tr>\n",
       "      <th>1</th>\n",
       "      <td>22027674</td>\n",
       "      <td>BURGLARY RESIDENTIAL</td>\n",
       "      <td>06/16/2022 12:00:00 AM</td>\n",
       "      <td>20:25:00 PM</td>\n",
       "      <td>BURGLARY - RESIDENTIAL</td>\n",
       "      <td>4</td>\n",
       "      <td>10/13/2022 04:42:00 PM</td>\n",
       "      <td>1700 BLOCK OXFORD ST\\nBerkeley, CA\\n(37.87674,...</td>\n",
       "      <td>1700 BLOCK OXFORD ST</td>\n",
       "      <td>Berkeley</td>\n",
       "      <td>CA</td>\n",
       "    </tr>\n",
       "    <tr>\n",
       "      <th>2</th>\n",
       "      <td>22023993</td>\n",
       "      <td>VANDALISM</td>\n",
       "      <td>05/25/2022 12:00:00 AM</td>\n",
       "      <td>08:00:00 AM</td>\n",
       "      <td>VANDALISM</td>\n",
       "      <td>3</td>\n",
       "      <td>10/13/2022 04:42:00 PM</td>\n",
       "      <td>2400 BLOCK 8TH ST\\nBerkeley, CA\\n(37.86206, -1...</td>\n",
       "      <td>2400 BLOCK 8TH ST</td>\n",
       "      <td>Berkeley</td>\n",
       "      <td>CA</td>\n",
       "    </tr>\n",
       "    <tr>\n",
       "      <th>3</th>\n",
       "      <td>22026547</td>\n",
       "      <td>DISTURBANCE</td>\n",
       "      <td>06/10/2022 12:00:00 AM</td>\n",
       "      <td>21:35:00 PM</td>\n",
       "      <td>DISORDERLY CONDUCT</td>\n",
       "      <td>5</td>\n",
       "      <td>10/13/2022 04:42:00 PM</td>\n",
       "      <td>1300 BLOCK HEARST AVE\\nBerkeley, CA\\n(37.87133...</td>\n",
       "      <td>1300 BLOCK HEARST AVE</td>\n",
       "      <td>Berkeley</td>\n",
       "      <td>CA</td>\n",
       "    </tr>\n",
       "    <tr>\n",
       "      <th>4</th>\n",
       "      <td>22018126</td>\n",
       "      <td>ASSAULT/BATTERY FEL.</td>\n",
       "      <td>04/20/2022 12:00:00 AM</td>\n",
       "      <td>15:31:00 PM</td>\n",
       "      <td>ASSAULT</td>\n",
       "      <td>3</td>\n",
       "      <td>10/13/2022 04:42:00 PM</td>\n",
       "      <td>3000 BLOCK SHATTUCK AVE\\nBerkeley, CA\\n(37.855...</td>\n",
       "      <td>3000 BLOCK SHATTUCK AVE</td>\n",
       "      <td>Berkeley</td>\n",
       "      <td>CA</td>\n",
       "    </tr>\n",
       "  </tbody>\n",
       "</table>\n",
       "</div>"
      ],
      "text/plain": [
       "     CASENO               OFFENSE                 EVENTDT      EVENTTM  \\\n",
       "0  22036516       THEFT FROM AUTO  08/10/2022 12:00:00 AM  06:10:00 AM   \n",
       "1  22027674  BURGLARY RESIDENTIAL  06/16/2022 12:00:00 AM  20:25:00 PM   \n",
       "2  22023993             VANDALISM  05/25/2022 12:00:00 AM  08:00:00 AM   \n",
       "3  22026547           DISTURBANCE  06/10/2022 12:00:00 AM  21:35:00 PM   \n",
       "4  22018126  ASSAULT/BATTERY FEL.  04/20/2022 12:00:00 AM  15:31:00 PM   \n",
       "\n",
       "                 CVLEGEND  CVDOW                InDbDate  \\\n",
       "0  LARCENY - FROM VEHICLE      3  10/13/2022 04:42:00 PM   \n",
       "1  BURGLARY - RESIDENTIAL      4  10/13/2022 04:42:00 PM   \n",
       "2               VANDALISM      3  10/13/2022 04:42:00 PM   \n",
       "3      DISORDERLY CONDUCT      5  10/13/2022 04:42:00 PM   \n",
       "4                 ASSAULT      3  10/13/2022 04:42:00 PM   \n",
       "\n",
       "                                      Block_Location                  BLKADDR  \\\n",
       "0               Berkeley, CA\\n(37.86988, -122.27054)                      NaN   \n",
       "1  1700 BLOCK OXFORD ST\\nBerkeley, CA\\n(37.87674,...     1700 BLOCK OXFORD ST   \n",
       "2  2400 BLOCK 8TH ST\\nBerkeley, CA\\n(37.86206, -1...        2400 BLOCK 8TH ST   \n",
       "3  1300 BLOCK HEARST AVE\\nBerkeley, CA\\n(37.87133...    1300 BLOCK HEARST AVE   \n",
       "4  3000 BLOCK SHATTUCK AVE\\nBerkeley, CA\\n(37.855...  3000 BLOCK SHATTUCK AVE   \n",
       "\n",
       "       City State  \n",
       "0  Berkeley    CA  \n",
       "1  Berkeley    CA  \n",
       "2  Berkeley    CA  \n",
       "3  Berkeley    CA  \n",
       "4  Berkeley    CA  "
      ]
     },
     "execution_count": 9,
     "metadata": {},
     "output_type": "execute_result"
    }
   ],
   "source": [
    "calls.head()"
   ]
  },
  {
   "cell_type": "markdown",
   "metadata": {},
   "source": [
    "We see that the fields include a case number, the offense type, the date and time of the offense, the \"CVLEGEND\" which appears to be related to the offense type, a \"CVDOW\" which has no apparent meaning, the date the record was added to the database, and the location spread across four fields. We can read more about each field from the City of Berkeley's [open dataset webpage](https://data.cityofberkeley.info/Public-Safety/Berkeley-PD-Calls-for-Service/k2nh-s5h5).\n",
    "\n",
    "Let's also check some basic information about this `DataFrame` using the `pandas.DataFrame.info` ([documentation](https://pandas.pydata.org/pandas-docs/stable/reference/api/pandas.DataFrame.info.html)) and `pandas.DataFrame.describe` methods ([documentation](https://pandas.pydata.org/pandas-docs/stable/reference/api/pandas.DataFrame.describe.html))."
   ]
  },
  {
   "cell_type": "code",
   "execution_count": 10,
   "metadata": {
    "collapsed": false,
    "jupyter": {
     "outputs_hidden": false
    }
   },
   "outputs": [
    {
     "name": "stdout",
     "output_type": "stream",
     "text": [
      "<class 'pandas.core.frame.DataFrame'>\n",
      "RangeIndex: 4490 entries, 0 to 4489\n",
      "Data columns (total 11 columns):\n",
      " #   Column          Non-Null Count  Dtype \n",
      "---  ------          --------------  ----- \n",
      " 0   CASENO          4490 non-null   int64 \n",
      " 1   OFFENSE         4490 non-null   object\n",
      " 2   EVENTDT         4490 non-null   object\n",
      " 3   EVENTTM         4490 non-null   object\n",
      " 4   CVLEGEND        4490 non-null   object\n",
      " 5   CVDOW           4490 non-null   int64 \n",
      " 6   InDbDate        4490 non-null   object\n",
      " 7   Block_Location  4490 non-null   object\n",
      " 8   BLKADDR         4476 non-null   object\n",
      " 9   City            4490 non-null   object\n",
      " 10  State           4490 non-null   object\n",
      "dtypes: int64(2), object(9)\n",
      "memory usage: 386.0+ KB\n"
     ]
    }
   ],
   "source": [
    "# df.info() displays name and type of each column, and\n",
    "# number of non-null entries in each column\n",
    "calls.info()"
   ]
  },
  {
   "cell_type": "markdown",
   "metadata": {},
   "source": [
    "Note that the BLKADDR column only has 4476 non-null entries, while the other columns all have 4490 entries. This is because the `.info()` method only counts non-null entries."
   ]
  },
  {
   "cell_type": "code",
   "execution_count": 11,
   "metadata": {
    "collapsed": false,
    "jupyter": {
     "outputs_hidden": false
    }
   },
   "outputs": [
    {
     "data": {
      "text/html": [
       "<div>\n",
       "<style scoped>\n",
       "    .dataframe tbody tr th:only-of-type {\n",
       "        vertical-align: middle;\n",
       "    }\n",
       "\n",
       "    .dataframe tbody tr th {\n",
       "        vertical-align: top;\n",
       "    }\n",
       "\n",
       "    .dataframe thead th {\n",
       "        text-align: right;\n",
       "    }\n",
       "</style>\n",
       "<table border=\"1\" class=\"dataframe\">\n",
       "  <thead>\n",
       "    <tr style=\"text-align: right;\">\n",
       "      <th></th>\n",
       "      <th>CASENO</th>\n",
       "      <th>CVDOW</th>\n",
       "    </tr>\n",
       "  </thead>\n",
       "  <tbody>\n",
       "    <tr>\n",
       "      <th>count</th>\n",
       "      <td>4.490000e+03</td>\n",
       "      <td>4490.000000</td>\n",
       "    </tr>\n",
       "    <tr>\n",
       "      <th>mean</th>\n",
       "      <td>2.204229e+07</td>\n",
       "      <td>3.075724</td>\n",
       "    </tr>\n",
       "    <tr>\n",
       "      <th>std</th>\n",
       "      <td>2.222561e+04</td>\n",
       "      <td>1.976035</td>\n",
       "    </tr>\n",
       "    <tr>\n",
       "      <th>min</th>\n",
       "      <td>2.200110e+07</td>\n",
       "      <td>0.000000</td>\n",
       "    </tr>\n",
       "    <tr>\n",
       "      <th>25%</th>\n",
       "      <td>2.202749e+07</td>\n",
       "      <td>1.000000</td>\n",
       "    </tr>\n",
       "    <tr>\n",
       "      <th>50%</th>\n",
       "      <td>2.203642e+07</td>\n",
       "      <td>3.000000</td>\n",
       "    </tr>\n",
       "    <tr>\n",
       "      <th>75%</th>\n",
       "      <td>2.204490e+07</td>\n",
       "      <td>5.000000</td>\n",
       "    </tr>\n",
       "    <tr>\n",
       "      <th>max</th>\n",
       "      <td>2.209134e+07</td>\n",
       "      <td>6.000000</td>\n",
       "    </tr>\n",
       "  </tbody>\n",
       "</table>\n",
       "</div>"
      ],
      "text/plain": [
       "             CASENO        CVDOW\n",
       "count  4.490000e+03  4490.000000\n",
       "mean   2.204229e+07     3.075724\n",
       "std    2.222561e+04     1.976035\n",
       "min    2.200110e+07     0.000000\n",
       "25%    2.202749e+07     1.000000\n",
       "50%    2.203642e+07     3.000000\n",
       "75%    2.204490e+07     5.000000\n",
       "max    2.209134e+07     6.000000"
      ]
     },
     "execution_count": 11,
     "metadata": {},
     "output_type": "execute_result"
    }
   ],
   "source": [
    "calls.describe()"
   ]
  },
  {
   "cell_type": "markdown",
   "metadata": {
    "nbgrader": {
     "grade": false,
     "grade_id": "explore-4",
     "locked": true,
     "schema_version": 2,
     "solution": false
    }
   },
   "source": [
    "Notice that the functions above reveal type information for the columns, as well as some basic statistics about the numerical columns found in the `DataFrame`. However, we still need more information about what each column represents. Let's explore the data further in Question 1.\n",
    "\n",
    "Before we go over the fields to deduce their meanings, the cell below will verify that all the events happened in Berkeley by grouping on the `City` and `State` columns. You should see that all of our data falls into one group."
   ]
  },
  {
   "cell_type": "code",
   "execution_count": 12,
   "metadata": {
    "collapsed": false,
    "jupyter": {
     "outputs_hidden": false
    }
   },
   "outputs": [
    {
     "data": {
      "text/plain": [
       "City      State\n",
       "Berkeley  CA       4490\n",
       "dtype: int64"
      ]
     },
     "execution_count": 12,
     "metadata": {},
     "output_type": "execute_result"
    }
   ],
   "source": [
    "# .size() returns the number of rows in each DataFrameGroupBy object\n",
    "calls.groupby([\"City\", \"State\"]).size()"
   ]
  },
  {
   "cell_type": "markdown",
   "metadata": {
    "nbgrader": {
     "grade": false,
     "grade_id": "q1",
     "locked": true,
     "schema_version": 2,
     "solution": false
    }
   },
   "source": [
    "When we called `.head()` on the `DataFrame` `calls`, it seemed like `OFFENSE` and `CVLEGEND` both contained information about the type of event reported. What is the difference in meaning between the two columns? One way to probe this is to look at the `value_counts` for each `Series`."
   ]
  },
  {
   "cell_type": "code",
   "execution_count": 13,
   "metadata": {
    "collapsed": false,
    "jupyter": {
     "outputs_hidden": false
    }
   },
   "outputs": [
    {
     "data": {
      "text/plain": [
       "OFFENSE\n",
       "THEFT MISD. (UNDER $950)    660\n",
       "THEFT FELONY (OVER $950)    454\n",
       "BURGLARY AUTO               446\n",
       "DISTURBANCE                 437\n",
       "VEHICLE STOLEN              332\n",
       "THEFT FROM AUTO             294\n",
       "VANDALISM                   264\n",
       "ASSAULT/BATTERY MISD.       249\n",
       "BURGLARY RESIDENTIAL        244\n",
       "BURGLARY COMMERCIAL         174\n",
       "Name: count, dtype: int64"
      ]
     },
     "execution_count": 13,
     "metadata": {},
     "output_type": "execute_result"
    }
   ],
   "source": [
    "calls['OFFENSE'].value_counts().head(10)"
   ]
  },
  {
   "cell_type": "code",
   "execution_count": 14,
   "metadata": {
    "collapsed": false,
    "jupyter": {
     "outputs_hidden": false
    }
   },
   "outputs": [
    {
     "data": {
      "text/plain": [
       "CVLEGEND\n",
       "LARCENY                   1127\n",
       "BURGLARY - VEHICLE         446\n",
       "DISORDERLY CONDUCT         437\n",
       "ASSAULT                    344\n",
       "MOTOR VEHICLE THEFT        332\n",
       "LARCENY - FROM VEHICLE     294\n",
       "VANDALISM                  264\n",
       "BURGLARY - RESIDENTIAL     244\n",
       "FRAUD                      209\n",
       "BURGLARY - COMMERCIAL      174\n",
       "Name: count, dtype: int64"
      ]
     },
     "execution_count": 14,
     "metadata": {},
     "output_type": "execute_result"
    }
   ],
   "source": [
    "calls['CVLEGEND'].value_counts().head(10)"
   ]
  },
  {
   "cell_type": "markdown",
   "metadata": {
    "nbgrader": {
     "grade": false,
     "grade_id": "q1a",
     "locked": true,
     "schema_version": 2,
     "solution": false
    }
   },
   "source": [
    "It seems like `OFFENSE` is more specific than `CVLEGEND`, e.g., \"LARCENY\" vs. \"THEFT FELONY (OVER $950)\". If you're unfamiliar with the term, \"larceny\" is a legal term for theft of personal property.\n",
    "\n",
    "To get a sense of how many sub-categories there are for each `OFFENSE`, we will set `calls_by_cvlegend_and_offense` equal to a multi-indexed `Series` where the data is first indexed on the `CVLEGEND` and then on the `OFFENSE`, and the data is equal to the number of offenses in the database that match the respective `CVLEGEND` and `OFFENSE`. As you can see, `calls_by_cvlegend_and_offense[\"LARCENY\", \"THEFT FROM PERSON\"]` returns `13` which means there are 13 instances of larceny with offense of type \"THEFT FROM PERSON\" in the database."
   ]
  },
  {
   "cell_type": "code",
   "execution_count": 15,
   "metadata": {},
   "outputs": [
    {
     "data": {
      "text/plain": [
       "np.int64(13)"
      ]
     },
     "execution_count": 15,
     "metadata": {},
     "output_type": "execute_result"
    }
   ],
   "source": [
    "calls_by_cvlegend_and_offense = calls.groupby([\"CVLEGEND\", \"OFFENSE\"]).size()\n",
    "calls_by_cvlegend_and_offense[\"LARCENY\", \"THEFT FROM PERSON\"]"
   ]
  },
  {
   "cell_type": "markdown",
   "metadata": {
    "deletable": false,
    "editable": false
   },
   "source": [
    "<br>\n",
    "\n",
    "---\n",
    "\n",
    "## Question 1\n",
    "\n",
    "In the cell below, set `answer1` equal to a `list` of strings corresponding to the possible values for `OFFENSE` when `CVLEGEND` is \"LARCENY\". You can type the answer manually, or you can create an expression that automatically extracts the names.\n"
   ]
  },
  {
   "cell_type": "code",
   "execution_count": 16,
   "metadata": {
    "collapsed": false,
    "jupyter": {
     "outputs_hidden": false
    },
    "tags": [
     "otter_answer_cell"
    ]
   },
   "outputs": [],
   "source": [
    "answer1 = (list)(calls_by_cvlegend_and_offense[\"LARCENY\"].index)"
   ]
  },
  {
   "cell_type": "code",
   "execution_count": 17,
   "metadata": {
    "deletable": false,
    "editable": false
   },
   "outputs": [],
   "source": [
    "answer1 = grader.check(\"q1\")"
   ]
  },
  {
   "cell_type": "markdown",
   "metadata": {
    "nbgrader": {
     "grade": false,
     "grade_id": "setup",
     "locked": true,
     "schema_version": 2,
     "solution": false
    }
   },
   "source": [
    "<br/>\n",
    "\n",
    "<hr style=\"border: 1px solid #fdb515;\" />\n",
    "\n",
    "# Part 3: Visualize the Data\n"
   ]
  },
  {
   "cell_type": "markdown",
   "metadata": {
    "nbgrader": {
     "grade": false,
     "grade_id": "part2",
     "locked": true,
     "schema_version": 2,
     "solution": false
    }
   },
   "source": [
    "### `Matplotlib` demo\n",
    "\n",
    "You've seen some `matplotlib` in this class already (in homework 1), but now we will explain how to work with the object-oriented plotting API mentioned in this [matplotlib.pyplot tutorial](https://matplotlib.org/stable/tutorials/pyplot.html). In `matplotlib`, plotting occurs on a set of `Axes` that are associated with a `Figure`. An analogy is that on a blank canvas (`Figure`), you choose a location to plot (`Axes`) and then fill it in (plot).\n",
    "\n",
    "There are two approaches to labeling and manipulating figure contents, which we'll discuss below. Approach 1 is closest to the plotting paradigm of MATLAB, the namesake of `matplotlib`; Approach 2 is also common because many `matplotlib`-based packages (such as `seaborn`) explicitly return the current set of axes after plotting data. Both are essentially equivalent, and at the end of this class, you'll be comfortable with both. \n",
    "\n",
    "**Approach 1**: `matplotlib` will auto-plot onto the current set of `Axes` or (if none exists) create a new figure/set of default axes. You can plot data using methods from `plt`, which is shorthand for the `matplotlib.pyplot` package. Then subsequent `plt` calls all edit the same set of default-created axes.\n",
    "\n",
    "**Approach 2**:  \n",
    "After creating the initial plot, you can also use `plt.gca()` to explicitly get the current set of axes and then edit those specific axes using axes methods. Note the method naming is slightly different!"
   ]
  },
  {
   "cell_type": "markdown",
   "metadata": {},
   "source": [
    "`pandas` also offers basic functionality for plotting. For example, the `DataFrame` and `Series` classes both have a `plot` method, which uses `matplotlib` under the hood. For now, we'll focus on `matplotlib` itself so you get used to the syntax, but just know that convenient `pandas` plotting methods exist for your own future data science exploration.\n",
    "\n",
    "Below, we show both approaches by generating a horizontal bar plot to visually display the value counts for `CVLEGEND`. See the `barh` [documentation](https://matplotlib.org/stable/api/_as_gen/matplotlib.pyplot.barh.html?highlight=barh#matplotlib.pyplot.barh) for more details."
   ]
  },
  {
   "cell_type": "code",
   "execution_count": 18,
   "metadata": {},
   "outputs": [
    {
     "name": "stdout",
     "output_type": "stream",
     "text": [
      "Demo 2: Using axes methods to update plot\n"
     ]
    },
    {
     "data": {
      "image/png": "[encoded data removed]",
      "text/plain": [
       "<Figure size 1200x900 with 1 Axes>"
      ]
     },
     "metadata": {},
     "output_type": "display_data"
    }
   ],
   "source": [
    "# DEMO CELL: assign demo to 1 or 2.\n",
    "demo = 2\n",
    "\n",
    "calls_cvlegend = calls['CVLEGEND'].value_counts()\n",
    "\n",
    "if demo == 1:\n",
    "    plt.barh(calls_cvlegend.index, calls_cvlegend) # Creates figure and axes\n",
    "    print(f\"Demo {demo}: Using plt methods to update plot\")\n",
    "    plt.ylabel(\"Crime Category\")               # Uses most recently plotted axes\n",
    "    plt.xlabel(\"Number of Calls\")\n",
    "    plt.title(\"Number of Calls by Crime Type\")\n",
    "elif demo == 2:\n",
    "    print(f\"Demo {demo}: Using axes methods to update plot\")\n",
    "    plt.barh(calls_cvlegend.index, calls_cvlegend) # Creates figure and axes\n",
    "    ax = plt.gca()\n",
    "    ax.set_ylabel(\"Crime Category\")\n",
    "    ax.set_xlabel(\"Number of Calls\")\n",
    "    ax.set_title(\"Axes methods: Number of Calls by Crime Type\")\n",
    "else:\n",
    "    print(\"Error: Please assign the demo variable to 1 or 2.\")\n",
    "\n",
    "plt.show()"
   ]
  },
  {
   "cell_type": "markdown",
   "metadata": {
    "nbgrader": {
     "grade": false,
     "grade_id": "plot-demo6",
     "locked": true,
     "schema_version": 2,
     "solution": false
    }
   },
   "source": [
    "\n",
    "### An Additional Note on Plotting in Jupyter Notebooks\n",
    "\n",
    "You may have noticed that some of our plotting code cells end with a semicolon `;` or `plt.show()`. The former prevents any extra output from the last line of the cell; the latter explicitly returns (and outputs) the figure. Try adding this to your own code in the following questions!"
   ]
  },
  {
   "cell_type": "markdown",
   "metadata": {
    "deletable": false,
    "editable": false
   },
   "source": [
    "<br>\n",
    "\n",
    "---\n",
    "\n",
    "## Question 2\n",
    "\n",
    "Now it is your turn to make a plot using `matplotlib`. Let's start by transforming the data so that it is easier to work with.\n",
    "\n",
    "The `CVDOW` field isn't named helpfully, and it is hard to see the meaning from the data alone. According to the website [linked](https://data.cityofberkeley.info/Public-Safety/Berkeley-PD-Calls-for-Service/k2nh-s5h5) at the top of this notebook, `CVDOW` is actually indicating the day that events happened. 0->Sunday, 1->Monday ... 6->Saturday. \n",
    "\n",
    "### Question 2a\n",
    "\n",
    "Add a new column `Day` to `calls` that has the string weekday (e.g., \"Sunday\") for the corresponding value in CVDOW. For example, if the first 3 values of `CVDOW` are `[3, 6, 0]`, then the first 3 values of the `Day` column should be `[\"Wednesday\", \"Saturday\", \"Sunday\"]`.\n",
    "\n",
    "**Hint:** Try using the [Series.map](https://pandas.pydata.org/pandas-docs/stable/reference/api/pandas.Series.map.html) function on `calls[\"CVDOW\"]`. Can you assign this to the new column `calls[\"Day\"]`?"
   ]
  },
  {
   "cell_type": "code",
   "execution_count": 19,
   "metadata": {
    "nbgrader": {
     "grade": false,
     "grade_id": "q3a-answer",
     "locked": false,
     "schema_version": 2,
     "solution": true
    },
    "tags": [
     "otter_answer_cell"
    ]
   },
   "outputs": [],
   "source": [
    "days = [\"Sunday\", \"Monday\", \"Tuesday\", \"Wednesday\", \"Thursday\", \"Friday\", \"Saturday\"]\n",
    "day_indices = range(7)\n",
    "indices_to_days_dict = dict(zip(day_indices, days)) # Should look like {0:\"Sunday\", 1:\"Monday\", ..., 6:\"Saturday\"}\n",
    "calls[\"Day\"] = calls[\"CVDOW\"].map(indices_to_days_dict)"
   ]
  },
  {
   "cell_type": "code",
   "execution_count": 20,
   "metadata": {
    "deletable": false,
    "editable": false
   },
   "outputs": [
    {
     "data": {
      "text/html": [
       "<p><strong><pre style='display: inline;'>q2a</pre></strong> passed! 🌟</p>"
      ],
      "text/plain": [
       "q2a results: All test cases passed!"
      ]
     },
     "execution_count": 20,
     "metadata": {},
     "output_type": "execute_result"
    }
   ],
   "source": [
    "grader.check(\"q2a\")"
   ]
  },
  {
   "cell_type": "markdown",
   "metadata": {
    "deletable": false,
    "editable": false
   },
   "source": [
    "<br>\n",
    "\n",
    "---\n",
    "### Question 2b\n",
    "\n",
    "Now let's look at the `EVENTTM` column which indicates the time for events. Since it contains hour and minute information, let's extract the hour info and create a new column named `Hour` in the `calls` `DataFrame`. **You should save the hour as an `int`**. The format of the `'EVENTTM'` column and some of the associated reasoning about the answer in the lab walkthrough is slightly different. However, the answer shown in the walkthrough is still applicable to the question below. \n",
    "\n",
    "**Hint:** Your code should only require one line. <br/>"
   ]
  },
  {
   "cell_type": "code",
   "execution_count": 21,
   "metadata": {
    "tags": [
     "otter_answer_cell"
    ]
   },
   "outputs": [
    {
     "data": {
      "text/plain": [
       "0        6\n",
       "1       20\n",
       "2        8\n",
       "3       21\n",
       "4       15\n",
       "        ..\n",
       "4485    16\n",
       "4486     1\n",
       "4487     5\n",
       "4488    20\n",
       "4489    12\n",
       "Name: Hour, Length: 4490, dtype: int64"
      ]
     },
     "execution_count": 21,
     "metadata": {},
     "output_type": "execute_result"
    }
   ],
   "source": [
    "calls[\"Hour\"] = calls[\"EVENTTM\"].str.split(\":\").str[0].astype(int)\n",
    "calls[\"Hour\"]"
   ]
  },
  {
   "cell_type": "code",
   "execution_count": 22,
   "metadata": {
    "deletable": false,
    "editable": false
   },
   "outputs": [
    {
     "data": {
      "text/html": [
       "<p><strong><pre style='display: inline;'>q2b</pre></strong> passed! 💯</p>"
      ],
      "text/plain": [
       "q2b results: All test cases passed!"
      ]
     },
     "execution_count": 22,
     "metadata": {},
     "output_type": "execute_result"
    }
   ],
   "source": [
    "grader.check(\"q2b\")"
   ]
  },
  {
   "cell_type": "markdown",
   "metadata": {
    "deletable": false,
    "editable": false
   },
   "source": [
    "<br>\n",
    "\n",
    "---\n",
    "### Question 2c\n",
    "\n",
    "Using `matplotlib`, construct a line plot with the count of the number of calls (entries in the table) for each hour of the day  **ordered by the time** (e.g., `12:00 AM`, `1:00 AM`, ...). Be sure that your axes are labeled and that your plot is titled. The solution shown in the lab walkthrough is not the only way to answer this question, an alternative approach could involve using `.sort_index()`.\n",
    "\n",
    "**Hint 1**: Check out the `plt.plot` method in the `matplotlib` [tutorial](https://matplotlib.org/stable/tutorials/introductory/pyplot.html#intro-to-pyplot), as well as our demo above."
   ]
  },
  {
   "cell_type": "code",
   "execution_count": 23,
   "metadata": {
    "collapsed": false,
    "jupyter": {
     "outputs_hidden": false
    },
    "tags": [
     "otter_answer_cell"
    ]
   },
   "outputs": [
    {
     "data": {
      "image/png": "[encoded data removed]",
      "text/plain": [
       "<Figure size 1200x900 with 1 Axes>"
      ]
     },
     "metadata": {},
     "output_type": "display_data"
    }
   ],
   "source": [
    "hours = calls['Hour'].value_counts().sort_index()\n",
    "plt.plot(hours.index,hours.values)\n",
    "# Leave this for grading purposes.\n",
    "plt.xlabel(\"Time\")\n",
    "plt.ylabel(\"Number of Calls\")\n",
    "ax_3d = plt.gca()"
   ]
  },
  {
   "cell_type": "code",
   "execution_count": 24,
   "metadata": {
    "deletable": false,
    "editable": false
   },
   "outputs": [
    {
     "data": {
      "text/html": [
       "<p><strong><pre style='display: inline;'>q2c</pre></strong> passed! 💯</p>"
      ],
      "text/plain": [
       "q2c results: All test cases passed!"
      ]
     },
     "execution_count": 24,
     "metadata": {},
     "output_type": "execute_result"
    }
   ],
   "source": [
    "grader.check(\"q2c\")"
   ]
  },
  {
   "cell_type": "markdown",
   "metadata": {},
   "source": [
    "To better understand the time of day a report occurs, we could **stratify the analysis by the day of the week.** To do this we will use **violin plots** (a variation of a **box plot**).\n",
    "\n",
    "A violin plot shows an estimated distribution of quantitative data (e.g., distribution of calls by hour) over a categorical variable (day of the week). More calls occur in hours corresponding to the fatter part of each violin; the median hour of all calls in a particular day is marked by the white dot in the corresponding violin."
   ]
  },
  {
   "cell_type": "code",
   "execution_count": 25,
   "metadata": {},
   "outputs": [
    {
     "data": {
      "image/png": "[encoded data removed]",
      "text/plain": [
       "<Figure size 1200x900 with 1 Axes>"
      ]
     },
     "metadata": {},
     "output_type": "display_data"
    }
   ],
   "source": [
    "# Run this cell to to generate the plot, no further action is needed\n",
    "\n",
    "import seaborn as sns\n",
    "ax = sns.violinplot(data=calls.sort_values(\"CVDOW\"),\n",
    "                    x=\"Day\", y=\"Hour\", hue=\"Day\",\n",
    "                    saturation=0.5, palette=\"Set2\")\n",
    "ax.set_title(\"Stratified Analysis of Phone Calls by Day\");"
   ]
  },
  {
   "cell_type": "markdown",
   "metadata": {
    "deletable": false,
    "editable": false
   },
   "source": [
    "<!-- BEGIN QUESTION -->\n",
    "\n",
    "<br>\n",
    "\n",
    "---\n",
    "### Question 2d\n",
    "\n",
    "Based on your line plot and our violin plot above, what observations can you make about the patterns of calls? Here are some dimensions to consider:\n",
    "* Are there more calls in the day or at night?\n",
    "* What are the most and least popular times?\n",
    "* Do call patterns vary by day of the week?\n"
   ]
  },
  {
   "cell_type": "markdown",
   "metadata": {
    "tags": [
     "otter_answer_cell"
    ]
   },
   "source": [
    "_Type your answer here, replacing this text._"
   ]
  },
  {
   "cell_type": "markdown",
   "metadata": {
    "deletable": false,
    "editable": false
   },
   "source": [
    "<!-- END QUESTION -->\n",
    "\n",
    "<br/>\n",
    "\n",
    "<hr style=\"border: 1px solid #fdb515;\" />\n",
    "\n",
    "# Part 4: Data Faithfulness vs. Reality\n",
    "<br>\n",
    "\n",
    "## Question 3\n",
    "In this last part of the lab, let's extract the GPS coordinates (latitude, longitude) from the `Block_Location` of each record."
   ]
  },
  {
   "cell_type": "code",
   "execution_count": 26,
   "metadata": {},
   "outputs": [
    {
     "data": {
      "text/plain": [
       "'3000 BLOCK SHATTUCK AVE\\nBerkeley, CA\\n(37.85507, -122.26677)'"
      ]
     },
     "execution_count": 26,
     "metadata": {},
     "output_type": "execute_result"
    }
   ],
   "source": [
    "# An example block location entry.\n",
    "calls.loc[4, 'Block_Location']"
   ]
  },
  {
   "cell_type": "markdown",
   "metadata": {
    "deletable": false,
    "editable": false
   },
   "source": [
    "### Question 3a: Regular Expressions\n",
    "\n",
    "Use [regular expressions](https://ds100.org/course-notes/regex/regex.html) to create a new `DataFrame` `calls_lat_lon` that has two columns titled `Lat` and `Lon`, containing the respective latitude and longitude of each record in `calls`. You should use the `Block_Location` column to extract the latitude and longitude coordinates.\n",
    "\n",
    "**Hint**: Check out the `Series.str.extract` [documentation](https://pandas.pydata.org/pandas-docs/stable/reference/api/pandas.Series.str.extract.html?highlight=extract#pandas.Series.str.extract)."
   ]
  },
  {
   "cell_type": "code",
   "execution_count": 27,
   "metadata": {},
   "outputs": [
    {
     "data": {
      "text/html": [
       "<div>\n",
       "<style scoped>\n",
       "    .dataframe tbody tr th:only-of-type {\n",
       "        vertical-align: middle;\n",
       "    }\n",
       "\n",
       "    .dataframe tbody tr th {\n",
       "        vertical-align: top;\n",
       "    }\n",
       "\n",
       "    .dataframe thead th {\n",
       "        text-align: right;\n",
       "    }\n",
       "</style>\n",
       "<table border=\"1\" class=\"dataframe\">\n",
       "  <thead>\n",
       "    <tr style=\"text-align: right;\">\n",
       "      <th></th>\n",
       "      <th>Lat</th>\n",
       "      <th>Lon</th>\n",
       "    </tr>\n",
       "  </thead>\n",
       "  <tbody>\n",
       "    <tr>\n",
       "      <th>0</th>\n",
       "      <td>37.86988</td>\n",
       "      <td>-122.27054</td>\n",
       "    </tr>\n",
       "    <tr>\n",
       "      <th>1</th>\n",
       "      <td>37.87674</td>\n",
       "      <td>-122.26665</td>\n",
       "    </tr>\n",
       "    <tr>\n",
       "      <th>2</th>\n",
       "      <td>37.86206</td>\n",
       "      <td>-122.29346</td>\n",
       "    </tr>\n",
       "    <tr>\n",
       "      <th>3</th>\n",
       "      <td>37.87133</td>\n",
       "      <td>-122.28656</td>\n",
       "    </tr>\n",
       "    <tr>\n",
       "      <th>4</th>\n",
       "      <td>37.85507</td>\n",
       "      <td>-122.26677</td>\n",
       "    </tr>\n",
       "    <tr>\n",
       "      <th>5</th>\n",
       "      <td>37.86397</td>\n",
       "      <td>-122.26036</td>\n",
       "    </tr>\n",
       "    <tr>\n",
       "      <th>6</th>\n",
       "      <td>37.87025</td>\n",
       "      <td>-122.29843</td>\n",
       "    </tr>\n",
       "    <tr>\n",
       "      <th>7</th>\n",
       "      <td>37.87637</td>\n",
       "      <td>-122.26229</td>\n",
       "    </tr>\n",
       "    <tr>\n",
       "      <th>8</th>\n",
       "      <td>37.86725</td>\n",
       "      <td>-122.26326</td>\n",
       "    </tr>\n",
       "    <tr>\n",
       "      <th>9</th>\n",
       "      <td>37.86746</td>\n",
       "      <td>-122.29285</td>\n",
       "    </tr>\n",
       "  </tbody>\n",
       "</table>\n",
       "</div>"
      ],
      "text/plain": [
       "        Lat         Lon\n",
       "0  37.86988  -122.27054\n",
       "1  37.87674  -122.26665\n",
       "2  37.86206  -122.29346\n",
       "3  37.87133  -122.28656\n",
       "4  37.85507  -122.26677\n",
       "5  37.86397  -122.26036\n",
       "6  37.87025  -122.29843\n",
       "7  37.87637  -122.26229\n",
       "8  37.86725  -122.26326\n",
       "9  37.86746  -122.29285"
      ]
     },
     "execution_count": 27,
     "metadata": {},
     "output_type": "execute_result"
    }
   ],
   "source": [
    "reg = r'.+\\n\\((-?\\d+\\.\\d+), (-?\\d+\\.\\d+)\\)'\n",
    "calls_lat_lon = calls[\"Block_Location\"].str.extract(reg,expand=True)\n",
    "calls_lat_lon.columns = [\"Lat\",\"Lon\"]\n",
    "\n",
    "calls_lat_lon.head(10)"
   ]
  },
  {
   "cell_type": "code",
   "execution_count": 28,
   "metadata": {
    "deletable": false,
    "editable": false
   },
   "outputs": [
    {
     "data": {
      "text/html": [
       "<p><strong><pre style='display: inline;'>q3a</pre></strong> passed! 🚀</p>"
      ],
      "text/plain": [
       "q3a results: All test cases passed!"
      ]
     },
     "execution_count": 28,
     "metadata": {},
     "output_type": "execute_result"
    }
   ],
   "source": [
    "grader.check(\"q3a\")"
   ]
  },
  {
   "cell_type": "markdown",
   "metadata": {
    "deletable": false,
    "editable": false
   },
   "source": [
    "<br>\n",
    "\n",
    "---\n",
    "\n",
    "### Question 3b: Join Tables\n",
    "\n",
    "Let's include the GPS data into our `calls` data. In the below cell, use `calls_lat_lon` to add two new columns called `Lat` and `Lon` to `calls`.\n",
    "\n",
    "**Hint 1**: Note that the order of records in `calls` and `calls_lat_lon` are the same. \n",
    "\n",
    "**Hint 2**: Another way to achieve our goal could be using `pd.merge`, look through the [documentation](https://pandas.pydata.org/docs/reference/api/pandas.DataFrame.merge.html) to see how we can merge using the `left_index` and `right_index` arguments."
   ]
  },
  {
   "cell_type": "code",
   "execution_count": 29,
   "metadata": {
    "scrolled": true,
    "tags": [
     "otter_answer_cell"
    ]
   },
   "outputs": [
    {
     "data": {
      "text/html": [
       "<div>\n",
       "<style scoped>\n",
       "    .dataframe tbody tr th:only-of-type {\n",
       "        vertical-align: middle;\n",
       "    }\n",
       "\n",
       "    .dataframe tbody tr th {\n",
       "        vertical-align: top;\n",
       "    }\n",
       "\n",
       "    .dataframe thead th {\n",
       "        text-align: right;\n",
       "    }\n",
       "</style>\n",
       "<table border=\"1\" class=\"dataframe\">\n",
       "  <thead>\n",
       "    <tr style=\"text-align: right;\">\n",
       "      <th></th>\n",
       "      <th>CASENO</th>\n",
       "      <th>OFFENSE</th>\n",
       "      <th>EVENTDT</th>\n",
       "      <th>EVENTTM</th>\n",
       "      <th>CVLEGEND</th>\n",
       "      <th>CVDOW</th>\n",
       "      <th>InDbDate</th>\n",
       "      <th>Block_Location</th>\n",
       "      <th>BLKADDR</th>\n",
       "      <th>City</th>\n",
       "      <th>State</th>\n",
       "      <th>Day</th>\n",
       "      <th>Hour</th>\n",
       "      <th>Lat</th>\n",
       "      <th>Lon</th>\n",
       "    </tr>\n",
       "  </thead>\n",
       "  <tbody>\n",
       "    <tr>\n",
       "      <th>843</th>\n",
       "      <td>22047009</td>\n",
       "      <td>BURGLARY COMMERCIAL</td>\n",
       "      <td>10/06/2022 12:00:00 AM</td>\n",
       "      <td>04:04:00 AM</td>\n",
       "      <td>BURGLARY - COMMERCIAL</td>\n",
       "      <td>4</td>\n",
       "      <td>10/13/2022 04:42:00 PM</td>\n",
       "      <td>3000 BLOCK CLAREMONT AVE\\nBerkeley, CA\\n(37.85...</td>\n",
       "      <td>3000 BLOCK CLAREMONT AVE</td>\n",
       "      <td>Berkeley</td>\n",
       "      <td>CA</td>\n",
       "      <td>Thursday</td>\n",
       "      <td>4</td>\n",
       "      <td>37.85582</td>\n",
       "      <td>-122.24713</td>\n",
       "    </tr>\n",
       "    <tr>\n",
       "      <th>3075</th>\n",
       "      <td>22021467</td>\n",
       "      <td>DISTURBANCE</td>\n",
       "      <td>05/09/2022 12:00:00 AM</td>\n",
       "      <td>12:30:00 PM</td>\n",
       "      <td>DISORDERLY CONDUCT</td>\n",
       "      <td>1</td>\n",
       "      <td>10/13/2022 04:42:00 PM</td>\n",
       "      <td>1500 BLOCK DERBY ST\\nBerkeley, CA\\n(37.85836, ...</td>\n",
       "      <td>1500 BLOCK DERBY ST</td>\n",
       "      <td>Berkeley</td>\n",
       "      <td>CA</td>\n",
       "      <td>Monday</td>\n",
       "      <td>12</td>\n",
       "      <td>37.85836</td>\n",
       "      <td>-122.27892</td>\n",
       "    </tr>\n",
       "    <tr>\n",
       "      <th>2349</th>\n",
       "      <td>22022324</td>\n",
       "      <td>ASSAULT/BATTERY FEL.</td>\n",
       "      <td>05/13/2022 12:00:00 AM</td>\n",
       "      <td>19:30:00 PM</td>\n",
       "      <td>ASSAULT</td>\n",
       "      <td>5</td>\n",
       "      <td>10/13/2022 04:42:00 PM</td>\n",
       "      <td>1300 BLOCK SHATTUCK AVE\\nBerkeley, CA\\n(37.883...</td>\n",
       "      <td>1300 BLOCK SHATTUCK AVE</td>\n",
       "      <td>Berkeley</td>\n",
       "      <td>CA</td>\n",
       "      <td>Friday</td>\n",
       "      <td>19</td>\n",
       "      <td>37.88363</td>\n",
       "      <td>-122.26973</td>\n",
       "    </tr>\n",
       "    <tr>\n",
       "      <th>2830</th>\n",
       "      <td>22021541</td>\n",
       "      <td>ASSAULT/BATTERY MISD.</td>\n",
       "      <td>05/09/2022 12:00:00 AM</td>\n",
       "      <td>20:11:00 PM</td>\n",
       "      <td>ASSAULT</td>\n",
       "      <td>1</td>\n",
       "      <td>10/13/2022 04:42:00 PM</td>\n",
       "      <td>2590 DURANT AVE\\nBerkeley, CA\\n(37.86809, -122...</td>\n",
       "      <td>2590 DURANT AVE</td>\n",
       "      <td>Berkeley</td>\n",
       "      <td>CA</td>\n",
       "      <td>Monday</td>\n",
       "      <td>20</td>\n",
       "      <td>37.86809</td>\n",
       "      <td>-122.25689</td>\n",
       "    </tr>\n",
       "    <tr>\n",
       "      <th>287</th>\n",
       "      <td>22036234</td>\n",
       "      <td>VEHICLE STOLEN</td>\n",
       "      <td>08/08/2022 12:00:00 AM</td>\n",
       "      <td>10:00:00 AM</td>\n",
       "      <td>MOTOR VEHICLE THEFT</td>\n",
       "      <td>1</td>\n",
       "      <td>10/13/2022 04:42:00 PM</td>\n",
       "      <td>2200 BLOCK EUNICE ST\\nBerkeley, CA\\n(37.88592,...</td>\n",
       "      <td>2200 BLOCK EUNICE ST</td>\n",
       "      <td>Berkeley</td>\n",
       "      <td>CA</td>\n",
       "      <td>Monday</td>\n",
       "      <td>10</td>\n",
       "      <td>37.88592</td>\n",
       "      <td>-122.26754</td>\n",
       "    </tr>\n",
       "  </tbody>\n",
       "</table>\n",
       "</div>"
      ],
      "text/plain": [
       "        CASENO                OFFENSE                 EVENTDT      EVENTTM  \\\n",
       "843   22047009    BURGLARY COMMERCIAL  10/06/2022 12:00:00 AM  04:04:00 AM   \n",
       "3075  22021467            DISTURBANCE  05/09/2022 12:00:00 AM  12:30:00 PM   \n",
       "2349  22022324   ASSAULT/BATTERY FEL.  05/13/2022 12:00:00 AM  19:30:00 PM   \n",
       "2830  22021541  ASSAULT/BATTERY MISD.  05/09/2022 12:00:00 AM  20:11:00 PM   \n",
       "287   22036234         VEHICLE STOLEN  08/08/2022 12:00:00 AM  10:00:00 AM   \n",
       "\n",
       "                   CVLEGEND  CVDOW                InDbDate  \\\n",
       "843   BURGLARY - COMMERCIAL      4  10/13/2022 04:42:00 PM   \n",
       "3075     DISORDERLY CONDUCT      1  10/13/2022 04:42:00 PM   \n",
       "2349                ASSAULT      5  10/13/2022 04:42:00 PM   \n",
       "2830                ASSAULT      1  10/13/2022 04:42:00 PM   \n",
       "287     MOTOR VEHICLE THEFT      1  10/13/2022 04:42:00 PM   \n",
       "\n",
       "                                         Block_Location  \\\n",
       "843   3000 BLOCK CLAREMONT AVE\\nBerkeley, CA\\n(37.85...   \n",
       "3075  1500 BLOCK DERBY ST\\nBerkeley, CA\\n(37.85836, ...   \n",
       "2349  1300 BLOCK SHATTUCK AVE\\nBerkeley, CA\\n(37.883...   \n",
       "2830  2590 DURANT AVE\\nBerkeley, CA\\n(37.86809, -122...   \n",
       "287   2200 BLOCK EUNICE ST\\nBerkeley, CA\\n(37.88592,...   \n",
       "\n",
       "                       BLKADDR      City State       Day  Hour       Lat  \\\n",
       "843   3000 BLOCK CLAREMONT AVE  Berkeley    CA  Thursday     4  37.85582   \n",
       "3075       1500 BLOCK DERBY ST  Berkeley    CA    Monday    12  37.85836   \n",
       "2349   1300 BLOCK SHATTUCK AVE  Berkeley    CA    Friday    19  37.88363   \n",
       "2830           2590 DURANT AVE  Berkeley    CA    Monday    20  37.86809   \n",
       "287       2200 BLOCK EUNICE ST  Berkeley    CA    Monday    10  37.88592   \n",
       "\n",
       "             Lon  \n",
       "843   -122.24713  \n",
       "3075  -122.27892  \n",
       "2349  -122.26973  \n",
       "2830  -122.25689  \n",
       "287   -122.26754  "
      ]
     },
     "execution_count": 29,
     "metadata": {},
     "output_type": "execute_result"
    }
   ],
   "source": [
    "calls = calls.merge(calls_lat_lon,left_index=True,right_index=True)\n",
    "calls.sample(5)      # random rows"
   ]
  },
  {
   "cell_type": "code",
   "execution_count": 30,
   "metadata": {
    "deletable": false,
    "editable": false
   },
   "outputs": [
    {
     "data": {
      "text/html": [
       "<p><strong><pre style='display: inline;'>q3b</pre></strong> passed! 💯</p>"
      ],
      "text/plain": [
       "q3b results: All test cases passed!"
      ]
     },
     "execution_count": 30,
     "metadata": {},
     "output_type": "execute_result"
    }
   ],
   "source": [
    "grader.check(\"q3b\")"
   ]
  },
  {
   "cell_type": "markdown",
   "metadata": {},
   "source": [
    "<br>\n",
    "\n",
    "---\n",
    "### Question 3c: Check for Invalid Values\n",
    "\n",
    "It seems like every record has valid GPS coordinates. That is, there are no `NaN` values in either column as we can verify below"
   ]
  },
  {
   "cell_type": "code",
   "execution_count": 31,
   "metadata": {},
   "outputs": [
    {
     "data": {
      "text/plain": [
       "Lat    1.0\n",
       "Lon    1.0\n",
       "dtype: float64"
      ]
     },
     "execution_count": 31,
     "metadata": {},
     "output_type": "execute_result"
    }
   ],
   "source": [
    "# Run this cell to obtain fraction of valid lat/lon entries, no further action is needed.\n",
    "(~calls[[\"Lat\", \"Lon\"]].isna()).mean()"
   ]
  },
  {
   "cell_type": "markdown",
   "metadata": {},
   "source": [
    "However, a closer examination of the data reveals something else. Here's the first few records of `calls` again:"
   ]
  },
  {
   "cell_type": "code",
   "execution_count": 32,
   "metadata": {
    "scrolled": true
   },
   "outputs": [
    {
     "data": {
      "text/html": [
       "<div>\n",
       "<style scoped>\n",
       "    .dataframe tbody tr th:only-of-type {\n",
       "        vertical-align: middle;\n",
       "    }\n",
       "\n",
       "    .dataframe tbody tr th {\n",
       "        vertical-align: top;\n",
       "    }\n",
       "\n",
       "    .dataframe thead th {\n",
       "        text-align: right;\n",
       "    }\n",
       "</style>\n",
       "<table border=\"1\" class=\"dataframe\">\n",
       "  <thead>\n",
       "    <tr style=\"text-align: right;\">\n",
       "      <th></th>\n",
       "      <th>CASENO</th>\n",
       "      <th>OFFENSE</th>\n",
       "      <th>EVENTDT</th>\n",
       "      <th>EVENTTM</th>\n",
       "      <th>CVLEGEND</th>\n",
       "      <th>CVDOW</th>\n",
       "      <th>InDbDate</th>\n",
       "      <th>Block_Location</th>\n",
       "      <th>BLKADDR</th>\n",
       "      <th>City</th>\n",
       "      <th>State</th>\n",
       "      <th>Day</th>\n",
       "      <th>Hour</th>\n",
       "      <th>Lat</th>\n",
       "      <th>Lon</th>\n",
       "    </tr>\n",
       "  </thead>\n",
       "  <tbody>\n",
       "    <tr>\n",
       "      <th>0</th>\n",
       "      <td>22036516</td>\n",
       "      <td>THEFT FROM AUTO</td>\n",
       "      <td>08/10/2022 12:00:00 AM</td>\n",
       "      <td>06:10:00 AM</td>\n",
       "      <td>LARCENY - FROM VEHICLE</td>\n",
       "      <td>3</td>\n",
       "      <td>10/13/2022 04:42:00 PM</td>\n",
       "      <td>Berkeley, CA\\n(37.86988, -122.27054)</td>\n",
       "      <td>NaN</td>\n",
       "      <td>Berkeley</td>\n",
       "      <td>CA</td>\n",
       "      <td>Wednesday</td>\n",
       "      <td>6</td>\n",
       "      <td>37.86988</td>\n",
       "      <td>-122.27054</td>\n",
       "    </tr>\n",
       "    <tr>\n",
       "      <th>1</th>\n",
       "      <td>22027674</td>\n",
       "      <td>BURGLARY RESIDENTIAL</td>\n",
       "      <td>06/16/2022 12:00:00 AM</td>\n",
       "      <td>20:25:00 PM</td>\n",
       "      <td>BURGLARY - RESIDENTIAL</td>\n",
       "      <td>4</td>\n",
       "      <td>10/13/2022 04:42:00 PM</td>\n",
       "      <td>1700 BLOCK OXFORD ST\\nBerkeley, CA\\n(37.87674,...</td>\n",
       "      <td>1700 BLOCK OXFORD ST</td>\n",
       "      <td>Berkeley</td>\n",
       "      <td>CA</td>\n",
       "      <td>Thursday</td>\n",
       "      <td>20</td>\n",
       "      <td>37.87674</td>\n",
       "      <td>-122.26665</td>\n",
       "    </tr>\n",
       "    <tr>\n",
       "      <th>2</th>\n",
       "      <td>22023993</td>\n",
       "      <td>VANDALISM</td>\n",
       "      <td>05/25/2022 12:00:00 AM</td>\n",
       "      <td>08:00:00 AM</td>\n",
       "      <td>VANDALISM</td>\n",
       "      <td>3</td>\n",
       "      <td>10/13/2022 04:42:00 PM</td>\n",
       "      <td>2400 BLOCK 8TH ST\\nBerkeley, CA\\n(37.86206, -1...</td>\n",
       "      <td>2400 BLOCK 8TH ST</td>\n",
       "      <td>Berkeley</td>\n",
       "      <td>CA</td>\n",
       "      <td>Wednesday</td>\n",
       "      <td>8</td>\n",
       "      <td>37.86206</td>\n",
       "      <td>-122.29346</td>\n",
       "    </tr>\n",
       "    <tr>\n",
       "      <th>3</th>\n",
       "      <td>22026547</td>\n",
       "      <td>DISTURBANCE</td>\n",
       "      <td>06/10/2022 12:00:00 AM</td>\n",
       "      <td>21:35:00 PM</td>\n",
       "      <td>DISORDERLY CONDUCT</td>\n",
       "      <td>5</td>\n",
       "      <td>10/13/2022 04:42:00 PM</td>\n",
       "      <td>1300 BLOCK HEARST AVE\\nBerkeley, CA\\n(37.87133...</td>\n",
       "      <td>1300 BLOCK HEARST AVE</td>\n",
       "      <td>Berkeley</td>\n",
       "      <td>CA</td>\n",
       "      <td>Friday</td>\n",
       "      <td>21</td>\n",
       "      <td>37.87133</td>\n",
       "      <td>-122.28656</td>\n",
       "    </tr>\n",
       "    <tr>\n",
       "      <th>4</th>\n",
       "      <td>22018126</td>\n",
       "      <td>ASSAULT/BATTERY FEL.</td>\n",
       "      <td>04/20/2022 12:00:00 AM</td>\n",
       "      <td>15:31:00 PM</td>\n",
       "      <td>ASSAULT</td>\n",
       "      <td>3</td>\n",
       "      <td>10/13/2022 04:42:00 PM</td>\n",
       "      <td>3000 BLOCK SHATTUCK AVE\\nBerkeley, CA\\n(37.855...</td>\n",
       "      <td>3000 BLOCK SHATTUCK AVE</td>\n",
       "      <td>Berkeley</td>\n",
       "      <td>CA</td>\n",
       "      <td>Wednesday</td>\n",
       "      <td>15</td>\n",
       "      <td>37.85507</td>\n",
       "      <td>-122.26677</td>\n",
       "    </tr>\n",
       "  </tbody>\n",
       "</table>\n",
       "</div>"
      ],
      "text/plain": [
       "     CASENO               OFFENSE                 EVENTDT      EVENTTM  \\\n",
       "0  22036516       THEFT FROM AUTO  08/10/2022 12:00:00 AM  06:10:00 AM   \n",
       "1  22027674  BURGLARY RESIDENTIAL  06/16/2022 12:00:00 AM  20:25:00 PM   \n",
       "2  22023993             VANDALISM  05/25/2022 12:00:00 AM  08:00:00 AM   \n",
       "3  22026547           DISTURBANCE  06/10/2022 12:00:00 AM  21:35:00 PM   \n",
       "4  22018126  ASSAULT/BATTERY FEL.  04/20/2022 12:00:00 AM  15:31:00 PM   \n",
       "\n",
       "                 CVLEGEND  CVDOW                InDbDate  \\\n",
       "0  LARCENY - FROM VEHICLE      3  10/13/2022 04:42:00 PM   \n",
       "1  BURGLARY - RESIDENTIAL      4  10/13/2022 04:42:00 PM   \n",
       "2               VANDALISM      3  10/13/2022 04:42:00 PM   \n",
       "3      DISORDERLY CONDUCT      5  10/13/2022 04:42:00 PM   \n",
       "4                 ASSAULT      3  10/13/2022 04:42:00 PM   \n",
       "\n",
       "                                      Block_Location                  BLKADDR  \\\n",
       "0               Berkeley, CA\\n(37.86988, -122.27054)                      NaN   \n",
       "1  1700 BLOCK OXFORD ST\\nBerkeley, CA\\n(37.87674,...     1700 BLOCK OXFORD ST   \n",
       "2  2400 BLOCK 8TH ST\\nBerkeley, CA\\n(37.86206, -1...        2400 BLOCK 8TH ST   \n",
       "3  1300 BLOCK HEARST AVE\\nBerkeley, CA\\n(37.87133...    1300 BLOCK HEARST AVE   \n",
       "4  3000 BLOCK SHATTUCK AVE\\nBerkeley, CA\\n(37.855...  3000 BLOCK SHATTUCK AVE   \n",
       "\n",
       "       City State        Day  Hour       Lat         Lon  \n",
       "0  Berkeley    CA  Wednesday     6  37.86988  -122.27054  \n",
       "1  Berkeley    CA   Thursday    20  37.87674  -122.26665  \n",
       "2  Berkeley    CA  Wednesday     8  37.86206  -122.29346  \n",
       "3  Berkeley    CA     Friday    21  37.87133  -122.28656  \n",
       "4  Berkeley    CA  Wednesday    15  37.85507  -122.26677  "
      ]
     },
     "execution_count": 32,
     "metadata": {},
     "output_type": "execute_result"
    }
   ],
   "source": [
    "calls.head(5)"
   ]
  },
  {
   "cell_type": "markdown",
   "metadata": {
    "deletable": false,
    "editable": false
   },
   "source": [
    "There is another field that tells us whether we have a valid `Block_Location` entry per record - i.e., with GPS coordinates (latitude, longitude) that match the listed block location. What is it?\n",
    "\n",
    "In the below cell, use the field you found to create a new `DataFrame`, `invalid_block_loc`, that contains only the rows of `calls` that have invalid `Block_Location`. Your new `DataFrame` should have all the same columns of `calls`."
   ]
  },
  {
   "cell_type": "code",
   "execution_count": 33,
   "metadata": {
    "tags": [
     "otter_answer_cell"
    ]
   },
   "outputs": [
    {
     "data": {
      "text/html": [
       "<div>\n",
       "<style scoped>\n",
       "    .dataframe tbody tr th:only-of-type {\n",
       "        vertical-align: middle;\n",
       "    }\n",
       "\n",
       "    .dataframe tbody tr th {\n",
       "        vertical-align: top;\n",
       "    }\n",
       "\n",
       "    .dataframe thead th {\n",
       "        text-align: right;\n",
       "    }\n",
       "</style>\n",
       "<table border=\"1\" class=\"dataframe\">\n",
       "  <thead>\n",
       "    <tr style=\"text-align: right;\">\n",
       "      <th></th>\n",
       "      <th>CASENO</th>\n",
       "      <th>OFFENSE</th>\n",
       "      <th>EVENTDT</th>\n",
       "      <th>EVENTTM</th>\n",
       "      <th>CVLEGEND</th>\n",
       "      <th>CVDOW</th>\n",
       "      <th>InDbDate</th>\n",
       "      <th>Block_Location</th>\n",
       "      <th>BLKADDR</th>\n",
       "      <th>City</th>\n",
       "      <th>State</th>\n",
       "      <th>Day</th>\n",
       "      <th>Hour</th>\n",
       "      <th>Lat</th>\n",
       "      <th>Lon</th>\n",
       "    </tr>\n",
       "  </thead>\n",
       "  <tbody>\n",
       "    <tr>\n",
       "      <th>0</th>\n",
       "      <td>22036516</td>\n",
       "      <td>THEFT FROM AUTO</td>\n",
       "      <td>08/10/2022 12:00:00 AM</td>\n",
       "      <td>06:10:00 AM</td>\n",
       "      <td>LARCENY - FROM VEHICLE</td>\n",
       "      <td>3</td>\n",
       "      <td>10/13/2022 04:42:00 PM</td>\n",
       "      <td>Berkeley, CA\\n(37.86988, -122.27054)</td>\n",
       "      <td>NaN</td>\n",
       "      <td>Berkeley</td>\n",
       "      <td>CA</td>\n",
       "      <td>Wednesday</td>\n",
       "      <td>6</td>\n",
       "      <td>37.86988</td>\n",
       "      <td>-122.27054</td>\n",
       "    </tr>\n",
       "    <tr>\n",
       "      <th>574</th>\n",
       "      <td>22091101</td>\n",
       "      <td>THEFT FELONY (OVER $950)</td>\n",
       "      <td>09/04/2022 12:00:00 AM</td>\n",
       "      <td>11:55:00 AM</td>\n",
       "      <td>LARCENY</td>\n",
       "      <td>0</td>\n",
       "      <td>10/13/2022 04:42:00 PM</td>\n",
       "      <td>Berkeley, CA\\n(37.86988, -122.27054)</td>\n",
       "      <td>NaN</td>\n",
       "      <td>Berkeley</td>\n",
       "      <td>CA</td>\n",
       "      <td>Sunday</td>\n",
       "      <td>11</td>\n",
       "      <td>37.86988</td>\n",
       "      <td>-122.27054</td>\n",
       "    </tr>\n",
       "    <tr>\n",
       "      <th>703</th>\n",
       "      <td>22091162</td>\n",
       "      <td>BURGLARY AUTO</td>\n",
       "      <td>08/29/2022 12:00:00 AM</td>\n",
       "      <td>10:15:00 AM</td>\n",
       "      <td>BURGLARY - VEHICLE</td>\n",
       "      <td>1</td>\n",
       "      <td>10/13/2022 04:42:00 PM</td>\n",
       "      <td>Berkeley, CA\\n(37.86988, -122.27054)</td>\n",
       "      <td>NaN</td>\n",
       "      <td>Berkeley</td>\n",
       "      <td>CA</td>\n",
       "      <td>Monday</td>\n",
       "      <td>10</td>\n",
       "      <td>37.86988</td>\n",
       "      <td>-122.27054</td>\n",
       "    </tr>\n",
       "    <tr>\n",
       "      <th>1135</th>\n",
       "      <td>22090479</td>\n",
       "      <td>BURGLARY AUTO</td>\n",
       "      <td>04/20/2022 12:00:00 AM</td>\n",
       "      <td>01:00:00 AM</td>\n",
       "      <td>BURGLARY - VEHICLE</td>\n",
       "      <td>3</td>\n",
       "      <td>10/13/2022 04:42:00 PM</td>\n",
       "      <td>Berkeley, CA\\n(37.86988, -122.27054)</td>\n",
       "      <td>NaN</td>\n",
       "      <td>Berkeley</td>\n",
       "      <td>CA</td>\n",
       "      <td>Wednesday</td>\n",
       "      <td>1</td>\n",
       "      <td>37.86988</td>\n",
       "      <td>-122.27054</td>\n",
       "    </tr>\n",
       "    <tr>\n",
       "      <th>1314</th>\n",
       "      <td>22045306</td>\n",
       "      <td>THEFT FELONY (OVER $950)</td>\n",
       "      <td>09/27/2022 12:00:00 AM</td>\n",
       "      <td>02:10:00 AM</td>\n",
       "      <td>LARCENY</td>\n",
       "      <td>2</td>\n",
       "      <td>10/13/2022 04:42:00 PM</td>\n",
       "      <td>Berkeley, CA\\n(37.86988, -122.27054)</td>\n",
       "      <td>NaN</td>\n",
       "      <td>Berkeley</td>\n",
       "      <td>CA</td>\n",
       "      <td>Tuesday</td>\n",
       "      <td>2</td>\n",
       "      <td>37.86988</td>\n",
       "      <td>-122.27054</td>\n",
       "    </tr>\n",
       "  </tbody>\n",
       "</table>\n",
       "</div>"
      ],
      "text/plain": [
       "        CASENO                   OFFENSE                 EVENTDT      EVENTTM  \\\n",
       "0     22036516           THEFT FROM AUTO  08/10/2022 12:00:00 AM  06:10:00 AM   \n",
       "574   22091101  THEFT FELONY (OVER $950)  09/04/2022 12:00:00 AM  11:55:00 AM   \n",
       "703   22091162             BURGLARY AUTO  08/29/2022 12:00:00 AM  10:15:00 AM   \n",
       "1135  22090479             BURGLARY AUTO  04/20/2022 12:00:00 AM  01:00:00 AM   \n",
       "1314  22045306  THEFT FELONY (OVER $950)  09/27/2022 12:00:00 AM  02:10:00 AM   \n",
       "\n",
       "                    CVLEGEND  CVDOW                InDbDate  \\\n",
       "0     LARCENY - FROM VEHICLE      3  10/13/2022 04:42:00 PM   \n",
       "574                  LARCENY      0  10/13/2022 04:42:00 PM   \n",
       "703       BURGLARY - VEHICLE      1  10/13/2022 04:42:00 PM   \n",
       "1135      BURGLARY - VEHICLE      3  10/13/2022 04:42:00 PM   \n",
       "1314                 LARCENY      2  10/13/2022 04:42:00 PM   \n",
       "\n",
       "                            Block_Location BLKADDR      City State        Day  \\\n",
       "0     Berkeley, CA\\n(37.86988, -122.27054)     NaN  Berkeley    CA  Wednesday   \n",
       "574   Berkeley, CA\\n(37.86988, -122.27054)     NaN  Berkeley    CA     Sunday   \n",
       "703   Berkeley, CA\\n(37.86988, -122.27054)     NaN  Berkeley    CA     Monday   \n",
       "1135  Berkeley, CA\\n(37.86988, -122.27054)     NaN  Berkeley    CA  Wednesday   \n",
       "1314  Berkeley, CA\\n(37.86988, -122.27054)     NaN  Berkeley    CA    Tuesday   \n",
       "\n",
       "      Hour       Lat         Lon  \n",
       "0        6  37.86988  -122.27054  \n",
       "574     11  37.86988  -122.27054  \n",
       "703     10  37.86988  -122.27054  \n",
       "1135     1  37.86988  -122.27054  \n",
       "1314     2  37.86988  -122.27054  "
      ]
     },
     "execution_count": 33,
     "metadata": {},
     "output_type": "execute_result"
    }
   ],
   "source": [
    "invalid_block_loc = calls[calls[\"BLKADDR\"].isna()]\n",
    "invalid_block_loc.head()"
   ]
  },
  {
   "cell_type": "code",
   "execution_count": 34,
   "metadata": {
    "deletable": false,
    "editable": false
   },
   "outputs": [
    {
     "data": {
      "text/html": [
       "<p><strong><pre style='display: inline;'>q3c</pre></strong> passed! 🍀</p>"
      ],
      "text/plain": [
       "q3c results: All test cases passed!"
      ]
     },
     "execution_count": 34,
     "metadata": {},
     "output_type": "execute_result"
    }
   ],
   "source": [
    "grader.check(\"q3c\")"
   ]
  },
  {
   "cell_type": "markdown",
   "metadata": {},
   "source": [
    "<br>\n",
    "\n",
    "---\n",
    "### Question 3d: Patterns in Invalid Values\n",
    "\n",
    "Now let's explore if there is a pattern to which types of records have invalid block locations.\n",
    "\n",
    "We've implemented the plotting code for you below, but read through it and verify you understand what we're doing (we've thrown in a bonus `plt.subplots()` call, documentation [here](https://matplotlib.org/stable/gallery/subplots_axes_and_figures/subplots_demo.html#stacking-subplots-in-one-direction))."
   ]
  },
  {
   "cell_type": "code",
   "execution_count": 35,
   "metadata": {},
   "outputs": [
    {
     "data": {
      "image/png": "[encoded data removed]",
      "text/plain": [
       "<Figure size 1200x900 with 2 Axes>"
      ]
     },
     "metadata": {},
     "output_type": "display_data"
    }
   ],
   "source": [
    "# Run this cell to generate the plot, no further action is needed\n",
    "missing_by_time = (pd.to_datetime(invalid_block_loc['EVENTDT'], format='%m/%d/%Y %I:%M:%S %p')\n",
    "                   .value_counts()\n",
    "                   .sort_index()\n",
    "                  )\n",
    "missing_by_crime = (invalid_block_loc['CVLEGEND']\n",
    "                    .value_counts() \n",
    "                    / calls['CVLEGEND'].value_counts()\n",
    "                   ).dropna().sort_values(ascending=False)\n",
    "\n",
    "fig, ax = plt.subplots(2)\n",
    "ax[0].bar(missing_by_time.index, missing_by_time)\n",
    "ax[0].set_ylabel(\"Calls with Invalid Data\")\n",
    "ax[1].barh(missing_by_crime.index, missing_by_crime)\n",
    "ax[1].set_xlabel(\"Fraction of Invalid Data per Event Type\")\n",
    "fig.suptitle(\"Characteristics of Invalid Lat/Lon Data\")\n",
    "plt.show()"
   ]
  },
  {
   "cell_type": "markdown",
   "metadata": {
    "deletable": false,
    "editable": false
   },
   "source": [
    "<!-- BEGIN QUESTION -->\n",
    "\n",
    "\n",
    "Based on the plots above, are there any patterns among entries that are invalid latitude/longitude data? The dataset information [linked](https://data.cityofberkeley.info/Public-Safety/Berkeley-PD-Calls-for-Service/k2nh-s5h5) at the top of this notebook may also give more context."
   ]
  },
  {
   "cell_type": "markdown",
   "metadata": {
    "tags": [
     "otter_answer_cell"
    ]
   },
   "source": [
    "_Type your answer here, replacing this text._"
   ]
  },
  {
   "cell_type": "markdown",
   "metadata": {
    "deletable": false,
    "editable": false
   },
   "source": [
    "<!-- END QUESTION -->\n",
    "\n",
    "<br>\n",
    "\n",
    "---\n",
    "### Question 3e: Explore\n",
    "\n",
    "The below cell plots a map of phone calls by GPS coordinates (latitude, longitude); we drop invalid location data."
   ]
  },
  {
   "cell_type": "code",
   "execution_count": 36,
   "metadata": {},
   "outputs": [
    {
     "data": {
      "text/html": [
       "<div style=\"width:100%;\"><div style=\"position:relative;width:100%;height:0;padding-bottom:60%;\"><span style=\"color:#565656\">Make this Notebook Trusted to load map: File -> Trust Notebook</span><iframe srcdoc=\"&lt;!DOCTYPE html&gt;\n",
       "&lt;html&gt;\n",
       "&lt;head&gt;\n",
       "    \n",
       "    &lt;meta http-equiv=&quot;content-type&quot; content=&quot;text/html; charset=UTF-8&quot; /&gt;\n",
       "    \n",
       "        &lt;script&gt;\n",
       "            L_NO_TOUCH = false;\n",
       "            L_DISABLE_3D = false;\n",
       "        &lt;/script&gt;\n",
       "    \n",
       "    &lt;style&gt;html, body {width: 100%;height: 100%;margin: 0;padding: 0;}&lt;/style&gt;\n",
       "    &lt;style&gt;#map {position:absolute;top:0;bottom:0;right:0;left:0;}&lt;/style&gt;\n",
       "    &lt;script src=&quot;https://cdn.jsdelivr.net/npm/leaflet@1.9.3/dist/leaflet.js&quot;&gt;&lt;/script&gt;\n",
       "    &lt;script src=&quot;https://code.jquery.com/jquery-3.7.1.min.js&quot;&gt;&lt;/script&gt;\n",
       "    &lt;script src=&quot;https://cdn.jsdelivr.net/npm/bootstrap@5.2.2/dist/js/bootstrap.bundle.min.js&quot;&gt;&lt;/script&gt;\n",
       "    &lt;script src=&quot;https://cdnjs.cloudflare.com/ajax/libs/Leaflet.awesome-markers/2.0.2/leaflet.awesome-markers.js&quot;&gt;&lt;/script&gt;\n",
       "    &lt;link rel=&quot;stylesheet&quot; href=&quot;https://cdn.jsdelivr.net/npm/leaflet@1.9.3/dist/leaflet.css&quot;/&gt;\n",
       "    &lt;link rel=&quot;stylesheet&quot; href=&quot;https://cdn.jsdelivr.net/npm/bootstrap@5.2.2/dist/css/bootstrap.min.css&quot;/&gt;\n",
       "    &lt;link rel=&quot;stylesheet&quot; href=&quot;https://netdna.bootstrapcdn.com/bootstrap/3.0.0/css/bootstrap-glyphicons.css&quot;/&gt;\n",
       "    &lt;link rel=&quot;stylesheet&quot; href=&quot;https://cdn.jsdelivr.net/npm/@fortawesome/fontawesome-free@6.2.0/css/all.min.css&quot;/&gt;\n",
       "    &lt;link rel=&quot;stylesheet&quot; href=&quot;https://cdnjs.cloudflare.com/ajax/libs/Leaflet.awesome-markers/2.0.2/leaflet.awesome-markers.css&quot;/&gt;\n",
       "    &lt;link rel=&quot;stylesheet&quot; href=&quot;https://cdn.jsdelivr.net/gh/python-visualization/folium/folium/templates/leaflet.awesome.rotate.min.css&quot;/&gt;\n",
       "    \n",
       "            &lt;meta name=&quot;viewport&quot; content=&quot;width=device-width,\n",
       "                initial-scale=1.0, maximum-scale=1.0, user-scalable=no&quot; /&gt;\n",
       "            &lt;style&gt;\n",
       "                #map_9cdeccfd89b364ef9a11cbe9f53397ae {\n",
       "                    position: relative;\n",
       "                    width: 100.0%;\n",
       "                    height: 100.0%;\n",
       "                    left: 0.0%;\n",
       "                    top: 0.0%;\n",
       "                }\n",
       "                .leaflet-container { font-size: 1rem; }\n",
       "            &lt;/style&gt;\n",
       "        \n",
       "    &lt;script src=&quot;https://cdn.jsdelivr.net/gh/python-visualization/folium@main/folium/templates/leaflet_heat.min.js&quot;&gt;&lt;/script&gt;\n",
       "&lt;/head&gt;\n",
       "&lt;body&gt;\n",
       "    \n",
       "    \n",
       "            &lt;div class=&quot;folium-map&quot; id=&quot;map_9cdeccfd89b364ef9a11cbe9f53397ae&quot; &gt;&lt;/div&gt;\n",
       "        \n",
       "&lt;/body&gt;\n",
       "&lt;script&gt;\n",
       "    \n",
       "    \n",
       "            var map_9cdeccfd89b364ef9a11cbe9f53397ae = L.map(\n",
       "                &quot;map_9cdeccfd89b364ef9a11cbe9f53397ae&quot;,\n",
       "                {\n",
       "                    center: [37.87, -122.28],\n",
       "                    crs: L.CRS.EPSG3857,\n",
       "                    ...{\n",
       "  &quot;zoom&quot;: 13,\n",
       "  &quot;zoomControl&quot;: true,\n",
       "  &quot;preferCanvas&quot;: false,\n",
       "}\n",
       "\n",
       "                }\n",
       "            );\n",
       "\n",
       "            \n",
       "\n",
       "        \n",
       "    \n",
       "            var tile_layer_ce3bedeb0024137da46d11bb044082db = L.tileLayer(\n",
       "                &quot;https://tile.openstreetmap.org/{z}/{x}/{y}.png&quot;,\n",
       "                {\n",
       "  &quot;minZoom&quot;: 0,\n",
       "  &quot;maxZoom&quot;: 19,\n",
       "  &quot;maxNativeZoom&quot;: 19,\n",
       "  &quot;noWrap&quot;: false,\n",
       "  &quot;attribution&quot;: &quot;\\u0026copy; \\u003ca href=\\&quot;https://www.openstreetmap.org/copyright\\&quot;\\u003eOpenStreetMap\\u003c/a\\u003e contributors&quot;,\n",
       "  &quot;subdomains&quot;: &quot;abc&quot;,\n",
       "  &quot;detectRetina&quot;: false,\n",
       "  &quot;tms&quot;: false,\n",
       "  &quot;opacity&quot;: 1,\n",
       "}\n",
       "\n",
       "            );\n",
       "        \n",
       "    \n",
       "            tile_layer_ce3bedeb0024137da46d11bb044082db.addTo(map_9cdeccfd89b364ef9a11cbe9f53397ae);\n",
       "        \n",
       "    \n",
       "            var heat_map_7cd030ab0800efd968dab3ba747e6a17 = L.heatLayer(\n",
       "                [[37.87674, -122.26665], [37.86206, -122.29346], [37.87133, -122.28656], [37.85507, -122.26677], [37.86397, -122.26036], [37.87025, -122.29843], [37.87637, -122.26229], [37.86725, -122.26326], [37.86746, -122.29285], [37.86845, -122.26127], [37.86161, -122.26436], [37.87576, -122.29299], [37.86751, -122.25405], [37.86996, -122.27058], [37.86281, -122.29832], [37.89515, -122.27066], [37.86881, -122.29212], [37.86941, -122.28936], [37.86899, -122.27091], [37.8702, -122.29962], [37.87542, -122.27093], [37.86836, -122.28932], [37.86203, -122.31701], [37.90254, -122.2695], [37.8801, -122.29768], [37.87674, -122.26665], [37.85597, -122.27131], [37.86987, -122.27739], [37.89149, -122.27007], [37.8785, -122.28374], [37.88249, -122.26182], [37.85192, -122.26975], [37.85847, -122.29335], [37.86912, -122.25089], [37.8691, -122.26808], [37.86575, -122.30193], [37.85694, -122.29301], [37.86511, -122.25848], [37.85838, -122.2669], [37.85553, -122.26655], [37.8667, -122.26557], [37.8717, -122.29273], [37.87025, -122.29843], [37.87543, -122.29141], [37.85531, -122.26635], [37.8801, -122.29768], [37.86828, -122.296], [37.87089, -122.26826], [37.85658, -122.27506], [37.86996, -122.27058], [37.86373, -122.26218], [37.87726, -122.30187], [37.86023, -122.29389], [37.8801, -122.29768], [37.87115, -122.26829], [37.87994, -122.27056], [37.85454, -122.26625], [37.8691, -122.27008], [37.87993, -122.27159], [37.86675, -122.28689], [37.85193, -122.27406], [37.86532, -122.27004], [37.85963, -122.2717], [37.86292, -122.25875], [37.87125, -122.27499], [37.86873, -122.25921], [37.87013, -122.3173], [37.86201, -122.26719], [37.86338, -122.25744], [37.86682, -122.2869], [37.89926, -122.27977], [37.89212, -122.27983], [37.86441, -122.25852], [37.88182, -122.27039], [37.8819, -122.26952], [37.86281, -122.27632], [37.85771, -122.23986], [37.86416, -122.2791], [37.8675, -122.2917], [37.8518, -122.25038], [37.86939, -122.25217], [37.85454, -122.26625], [37.86092, -122.27613], [37.86155, -122.27192], [37.87579, -122.28691], [37.85375, -122.2863], [37.86751, -122.25405], [37.86081, -122.28956], [37.88708, -122.27834], [37.86694, -122.2839], [37.86605, -122.25848], [37.86366, -122.29015], [37.8818, -122.25109], [37.86725, -122.26326], [37.8685, -122.25916], [37.86128, -122.26681], [37.87318, -122.28129], [37.86157, -122.26468], [37.86836, -122.2543], [37.86751, -122.25405], [37.86968, -122.26589], [37.8712, -122.26795], [37.87089, -122.26826], [37.87329, -122.27211], [37.86398, -122.29296], [37.86297, -122.27437], [37.85849, -122.25319], [37.87837, -122.26268], [37.85076, -122.28629], [37.85978, -122.25454], [37.86292, -122.25875], [37.87126, -122.29408], [37.87009, -122.28407], [37.86675, -122.2588], [37.87373, -122.30073], [37.87532, -122.29226], [37.88159, -122.29975], [37.86515, -122.25647], [37.86785, -122.25869], [37.86836, -122.2543], [37.88536, -122.25958], [37.86441, -122.25852], [37.88326, -122.27316], [37.85878, -122.2866], [37.85566, -122.25498], [37.86785, -122.25869], [37.86837, -122.29408], [37.86821, -122.29034], [37.87175, -122.2719], [37.86603, -122.25865], [37.88062, -122.26477], [37.87738, -122.25698], [39.6344, -78.16116], [37.8691, -122.27008], [37.86292, -122.25875], [37.8682, -122.27607], [37.86828, -122.296], [37.89746, -122.26661], [37.86652, -122.29813], [37.8691, -122.26808], [37.86585, -122.28126], [37.87429, -122.2974], [37.86693, -122.29504], [37.86525, -122.29568], [37.85632, -122.27726], [37.84877, -122.27117], [37.85836, -122.27892], [37.85503, -122.2502], [37.86525, -122.29568], [37.86759, -122.26082], [37.88047, -122.26122], [37.85828, -122.28246], [37.87089, -122.26826], [37.8597, -122.25332], [37.85365, -122.25272], [37.8606, -122.24727], [37.87423, -122.27313], [37.86682, -122.2869], [37.8801, -122.29768], [37.86785, -122.25869], [37.86532, -122.27004], [37.86751, -122.25195], [37.85295, -122.26622], [37.86941, -122.28936], [37.85559, -122.28302], [37.87855, -122.26686], [37.86555, -122.28357], [37.87994, -122.27056], [37.85357, -122.27677], [37.87624, -122.26925], [37.86034, -122.28056], [37.84765, -122.2727], [37.8667, -122.26557], [37.86633, -122.25636], [37.86977, -122.2865], [37.87365, -122.30181], [37.86751, -122.25195], [37.88023, -122.29613], [37.87174, -122.3012], [37.86547, -122.26299], [37.87089, -122.26826], [37.86943, -122.2677], [37.8692, -122.26929], [37.84808, -122.27788], [37.84967, -122.27115], [37.86996, -122.27058], [37.8795, -122.26081], [37.86353, -122.255], [37.87416, -122.26635], [37.86943, -122.2677], [37.8819, -122.26952], [37.86861, -122.28728], [37.86881, -122.29212], [37.87879, -122.30345], [37.8638, -122.29406], [37.8801, -122.29768], [37.88576, -122.27802], [37.85743, -122.25951], [37.86675, -122.2588], [37.85545, -122.25988], [37.87738, -122.25698], [37.85076, -122.28629], [37.88788, -122.27236], [37.87019, -122.29255], [37.86652, -122.2426], [37.87125, -122.27499], [37.88246, -122.26515], [37.87257, -122.29785], [37.87089, -122.26826], [37.88203, -122.29671], [37.85708, -122.27758], [37.84913, -122.27575], [37.85455, -122.2815], [37.86647, -122.26104], [37.88023, -122.29613], [37.86675, -122.2588], [37.87608, -122.30613], [37.85147, -122.24934], [37.86969, -122.27259], [37.86837, -122.29408], [37.86645, -122.26962], [37.88059, -122.30472], [37.85641, -122.23864], [37.85743, -122.25951], [37.86203, -122.31701], [37.87386, -122.30077], [37.85446, -122.27695], [37.86203, -122.31701], [37.88089, -122.29383], [37.85337, -122.26396], [37.86126, -122.26698], [37.87329, -122.27211], [37.86751, -122.25405], [37.86759, -122.26082], [37.86831, -122.26912], [37.86376, -122.295], [37.87659, -122.30518], [37.8691, -122.26808], [37.87553, -122.30483], [37.88212, -122.26728], [37.85111, -122.28324], [37.86249, -122.29124], [37.86549, -122.26977], [37.86881, -122.29212], [37.86742, -122.28144], [37.88455, -122.28125], [37.85733, -122.26896], [37.86521, -122.27201], [37.86941, -122.28936], [37.90393, -122.26838], [37.85164, -122.28921], [37.86052, -122.29179], [37.87089, -122.26826], [37.86441, -122.25852], [37.86633, -122.25636], [37.86437, -122.29069], [37.86675, -122.25644], [37.87813, -122.2714], [37.8819, -122.26952], [37.90097, -122.26987], [37.86996, -122.27058], [37.85058, -122.28591], [37.8599, -122.29552], [37.8819, -122.26952], [37.87624, -122.26925], [37.8763, -122.28307], [37.90288, -122.27407], [37.85824, -122.25317], [37.88285, -122.28857], [37.87009, -122.28407], [37.87219, -122.26843], [37.8561, -122.29273], [37.85585, -122.27323], [37.87555, -122.2567], [37.87089, -122.26826], [37.86759, -122.26082], [37.86751, -122.25195], [37.87272, -122.27753], [37.87142, -122.29648], [37.86751, -122.25405], [37.86828, -122.296], [37.87095, -122.27732], [37.87019, -122.29255], [37.87089, -122.26826], [37.87298, -122.30507], [37.85357, -122.27677], [37.88592, -122.26754], [37.89649, -122.27734], [37.87576, -122.29299], [37.85898, -122.26189], [37.86292, -122.25875], [37.87054, -122.28699], [37.88203, -122.29671], [37.85043, -122.27263], [37.86943, -122.2677], [37.86292, -122.25875], [37.86781, -122.25902], [37.86759, -122.26082], [37.86551, -122.26771], [37.86837, -122.29408], [37.8679, -122.24991], [37.85824, -122.25317], [37.87854, -122.27378], [37.86996, -122.27058], [37.86725, -122.26326], [37.8584, -122.27541], [37.86482, -122.28919], [37.86713, -122.2951], [37.86599, -122.29331], [37.87144, -122.25277], [37.8679, -122.24991], [37.8813, -122.29004], [37.86981, -122.30058], [37.88134, -122.25398], [37.86513, -122.25831], [37.87607, -122.28009], [37.87183, -122.27057], [37.87016, -122.28444], [37.868, -122.27001], [37.86699, -122.2958], [37.88363, -122.26973], [37.88023, -122.29613], [37.86759, -122.26082], [37.85733, -122.2754], [37.86551, -122.26771], [37.86725, -122.26326], [37.86725, -122.26326], [37.86581, -122.25045], [37.86426, -122.29182], [37.86823, -122.26324], [37.87545, -122.2923], [37.85545, -122.25988], [37.85974, -122.26746], [37.8585, -122.25078], [37.87454, -122.27774], [37.86907, -122.29189], [37.86761, -122.26771], [37.85622, -122.2596], [37.86996, -122.27055], [37.85743, -122.25951], [37.86128, -122.26681], [37.86881, -122.29212], [37.86769, -122.25079], [37.86771, -122.26591], [37.87608, -122.30613], [37.87269, -122.27057], [37.8801, -122.29768], [37.85018, -122.29308], [37.86603, -122.25865], [37.87513, -122.27324], [37.87659, -122.26894], [37.86759, -122.26082], [37.88724, -122.27827], [37.8792, -122.27612], [37.86292, -122.25875], [37.85529, -122.29249], [37.8805, -122.26709], [37.85743, -122.25951], [37.88075, -122.30297], [37.86575, -122.30193], [37.86138, -122.28045], [37.85308, -122.28134], [37.86977, -122.2865], [37.86373, -122.25371], [37.87089, -122.26826], [37.86389, -122.25142], [37.88455, -122.28125], [37.85711, -122.2626], [37.84913, -122.27575], [37.86759, -122.26082], [37.8801, -122.29768], [37.87089, -122.26826], [37.86642, -122.29103], [37.87174, -122.3012], [37.88025, -122.26903], [37.84954, -122.27228], [37.87418, -122.26613], [37.85733, -122.26896], [37.86862, -122.28938], [37.85445, -122.29658], [37.86825, -122.30007], [37.87062, -122.27246], [37.8811, -122.28307], [37.85365, -122.25272], [37.85531, -122.26635], [37.85382, -122.26616], [37.85365, -122.25272], [37.86748, -122.25429], [37.87855, -122.26686], [37.86292, -122.25875], [37.86184, -122.26945], [37.87794, -122.27138], [37.86675, -122.2588], [37.86877, -122.27268], [37.87755, -122.27577], [37.86881, -122.29212], [37.87346, -122.27088], [37.87903, -122.29776], [37.87322, -122.29353], [37.86441, -122.25852], [37.86392, -122.25355], [37.87325, -122.28694], [37.87015, -122.27515], [37.8622, -122.2599], [37.88203, -122.29671], [37.87089, -122.26826], [37.86851, -122.2678], [37.89812, -122.26823], [37.86996, -122.27058], [37.88122, -122.30081], [37.86941, -122.26787], [37.8691, -122.27008], [37.87553, -122.30483], [37.85824, -122.25317], [37.88008, -122.27976], [37.86508, -122.25776], [37.85974, -122.26746], [37.86867, -122.30143], [37.86825, -122.30007], [37.89204, -122.25675], [37.86427, -122.26505], [37.87993, -122.26983], [37.8598, -122.25124], [37.8484, -122.27795], [37.87089, -122.26826], [37.87993, -122.26983], [37.86511, -122.29674], [37.89515, -122.27066], [37.8679, -122.24991], [37.86899, -122.27091], [37.85698, -122.29285], [37.86754, -122.26126], [37.8659, -122.2656], [37.86659, -122.25394], [37.8689, -122.30029], [37.85899, -122.27042], [37.87513, -122.27324], [37.85815, -122.26799], [37.88895, -122.2761], [37.85836, -122.27892], [37.88023, -122.29613], [37.86835, -122.27501], [37.87583, -122.27351], [37.85507, -122.26677], [37.85351, -122.29175], [37.89005, -122.27166], [37.86513, -122.25831], [37.86375, -122.31398], [37.86943, -122.2677], [37.88318, -122.29661], [37.88306, -122.27918], [37.86751, -122.25195], [37.87785, -122.27252], [37.86367, -122.26263], [37.85686, -122.27298], [37.86029, -122.28188], [37.87451, -122.27091], [37.86484, -122.25151], [37.85555, -122.25588], [37.86249, -122.26458], [37.8702, -122.29962], [37.86879, -122.27251], [37.86511, -122.25848], [37.85898, -122.26189], [37.87919, -122.29176], [37.87009, -122.28407], [37.85987, -122.24923], [37.88059, -122.30472], [37.85733, -122.26896], [37.87479, -122.29616], [37.868, -122.27001], [37.88318, -122.29661], [37.86945, -122.25231], [37.89217, -122.27948], [37.86945, -122.25231], [37.88236, -122.26713], [37.86828, -122.296], [37.85775, -122.28656], [37.8685, -122.25916], [37.86575, -122.30193], [37.90254, -122.2695], [37.86845, -122.26127], [37.86881, -122.29212], [37.84793, -122.27063], [37.85815, -122.26799], [37.8688, -122.25405], [37.88173, -122.30681], [37.88032, -122.29664], [37.8801, -122.29768], [37.86977, -122.2865], [37.85351, -122.29175], [37.89812, -122.26823], [37.85507, -122.26677], [37.89789, -122.26991], [37.85365, -122.25272], [37.86785, -122.25869], [37.86678, -122.29618], [37.88059, -122.30472], [37.86996, -122.27058], [37.85824, -122.25317], [37.88023, -122.29613], [37.90421, -122.26952], [37.87136, -122.29294], [37.87009, -122.28407], [37.86373, -122.25371], [37.87168, -122.26608], [37.88023, -122.29613], [37.86278, -122.26238], [37.85531, -122.26635], [37.8522, -122.28638], [37.86969, -122.27259], [37.88181, -122.29748], [37.88025, -122.29697], [37.86966, -122.2728], [37.85815, -122.26799], [37.85672, -122.26574], [37.87026, -122.27287], [37.85762, -122.27315], [37.87089, -122.26826], [37.87264, -122.29274], [37.85076, -122.28629], [37.87813, -122.2806], [37.86556, -122.2539], [37.85976, -122.25684], [37.86574, -122.2534], [37.86239, -122.27866], [37.86489, -122.25848], [37.86828, -122.296], [37.88066, -122.30221], [37.88023, -122.29613], [37.87844, -122.26887], [37.86681, -122.25171], [37.87009, -122.28407], [37.85211, -122.27384], [37.86875, -122.25904], [37.85529, -122.29249], [37.89789, -122.26991], [37.87373, -122.30073], [37.87805, -122.29861], [37.86785, -122.25869], [37.8631, -122.26702], [37.85648, -122.25742], [37.86905, -122.24867], [37.87345, -122.29348], [37.87878, -122.29423], [37.85849, -122.25319], [37.86441, -122.25852], [37.86996, -122.27055], [37.87553, -122.30483], [37.86893, -122.29333], [37.86052, -122.29179], [37.86308, -122.26719], [37.87246, -122.27294], [37.86437, -122.2503], [37.86281, -122.29832], [37.86398, -122.29296], [37.86515, -122.25647], [37.87437, -122.30444], [37.88203, -122.29671], [37.86281, -122.29832], [37.88306, -122.26073], [37.8801, -122.29768], [37.86281, -122.29832], [37.85423, -122.24377], [37.86556, -122.2539], [37.88212, -122.26728], [37.86107, -122.27597], [37.8675, -122.2917], [37.8699, -122.268], [37.8819, -122.26952], [37.87567, -122.26885], [37.84981, -122.26979], [37.90254, -122.2695], [37.86618, -122.2633], [37.86245, -122.29039], [37.87089, -122.26826], [37.87136, -122.29294], [37.86828, -122.296], [37.8804, -122.26817], [37.85315, -122.27904], [37.86996, -122.27058], [37.88053, -122.29482], [37.88159, -122.29975], [37.87089, -122.26826], [37.86823, -122.26324], [37.88053, -122.29482], [37.87144, -122.26605], [37.868, -122.27001], [37.89253, -122.2563], [37.85423, -122.269], [37.87626, -122.2624], [37.87089, -122.26826], [37.87089, -122.26826], [37.89009, -122.26073], [37.87025, -122.29843], [37.87542, -122.27093], [37.86875, -122.25904], [37.86932, -122.29809], [37.8691, -122.26808], [37.87484, -122.27548], [37.88112, -122.27524], [37.85445, -122.29658], [37.86474, -122.25849], [37.87232, -122.29909], [37.84954, -122.27228], [37.86441, -122.25852], [37.85648, -122.25742], [37.89985, -122.28261], [37.86375, -122.31398], [37.86373, -122.25371], [37.86675, -122.25644], [37.87187, -122.30124], [37.87322, -122.29353], [37.87553, -122.30483], [37.8819, -122.26952], [37.89463, -122.28405], [37.86725, -122.26326], [37.8691, -122.27008], [37.87361, -122.26857], [37.86511, -122.25848], [37.87794, -122.27138], [37.85063, -122.29611], [37.86092, -122.27613], [37.86329, -122.25629], [37.88032, -122.29664], [37.86756, -122.29872], [37.8691, -122.27008], [37.87705, -122.30294], [37.86202, -122.2512], [37.88788, -122.27236], [37.86617, -122.26097], [37.8691, -122.27008], [37.89911, -122.27728], [37.85578, -122.25274], [37.86513, -122.25831], [37.86682, -122.2869], [37.87754, -122.29492], [37.87811, -122.26912], [37.88025, -122.26903], [37.86206, -122.29346], [37.85604, -122.288], [37.85733, -122.26896], [37.86725, -122.26326], [37.85413, -122.26839], [37.86338, -122.27191], [37.87161, -122.28432], [37.8714, -122.26773], [37.8673, -122.29975], [37.86996, -122.27058], [37.86922, -122.25462], [37.88023, -122.29613], [37.85531, -122.26635], [37.87089, -122.26826], [37.88379, -122.25556], [37.87136, -122.29294], [37.86002, -122.26942], [37.86058, -122.28696], [37.87624, -122.26925], [37.88037, -122.26707], [37.87823, -122.28483], [37.87526, -122.29889], [37.88108, -122.26147], [37.8801, -122.29768], [37.85363, -122.25482], [37.84913, -122.27575], [37.86761, -122.26771], [37.8714, -122.26773], [37.88306, -122.27918], [37.86521, -122.27201], [37.87652, -122.29161], [37.86781, -122.25902], [37.88023, -122.29613], [37.89178, -122.27504], [37.86392, -122.25355], [37.86578, -122.26088], [37.87044, -122.29233], [37.87711, -122.27819], [37.86206, -122.29346], [37.86941, -122.26787], [37.86551, -122.26771], [37.86307, -122.29841], [37.86828, -122.296], [37.8684, -122.27386], [37.88277, -122.30011], [37.8712, -122.26795], [37.88037, -122.26707], [37.87174, -122.3012], [37.87361, -122.26857], [37.86549, -122.26977], [37.87272, -122.27753], [37.87019, -122.29255], [37.85062, -122.2708], [37.86555, -122.2552], [37.8792, -122.27612], [37.84954, -122.27228], [37.86881, -122.29212], [37.8763, -122.27122], [37.85488, -122.26208], [37.87246, -122.27294], [37.86836, -122.2543], [37.87013, -122.3173], [37.88023, -122.29613], [37.85742, -122.26827], [37.87205, -122.2678], [37.86968, -122.26589], [37.87009, -122.28407], [37.89196, -122.27412], [37.88312, -122.26147], [37.87089, -122.26826], [37.88046, -122.26591], [37.86725, -122.26326], [37.8593, -122.25925], [37.87174, -122.3012], [37.87175, -122.2719], [37.86922, -122.25462], [37.88862, -122.2776], [37.89802, -122.26993], [37.8691, -122.27008], [37.84886, -122.27774], [37.85076, -122.28629], [37.8691, -122.26808], [37.86375, -122.31398], [37.86837, -122.29408], [37.86323, -122.25871], [37.89481, -122.26838], [37.90379, -122.26841], [37.87089, -122.26826], [37.86853, -122.26763], [37.85357, -122.27677], [37.86847, -122.30254], [37.88175, -122.27182], [37.87125, -122.27499], [37.86999, -122.30064], [37.86373, -122.25371], [37.85447, -122.25998], [37.89133, -122.27999], [37.85531, -122.26635], [37.87851, -122.2954], [37.86605, -122.25848], [37.88251, -122.28715], [37.88023, -122.29613], [37.90342, -122.26365], [37.87659, -122.26894], [37.87229, -122.27994], [37.8582, -122.25547], [37.8819, -122.26952], [37.87479, -122.29616], [37.8819, -122.26952], [37.87726, -122.30187], [37.89789, -122.26991], [37.87515, -122.29416], [37.87797, -122.28518], [37.86556, -122.2539], [37.86905, -122.29206], [37.86879, -122.27251], [37.8691, -122.27008], [37.87783, -122.2737], [37.86551, -122.26771], [37.86618, -122.2633], [37.85062, -122.2708], [37.86353, -122.255], [37.86308, -122.26719], [37.86643, -122.28999], [37.85936, -122.28875], [37.8673, -122.29975], [37.87814, -122.29747], [37.86875, -122.25904], [37.86292, -122.25875], [37.86941, -122.26787], [37.88233, -122.29541], [37.87807, -122.28191], [37.86881, -122.29212], [37.8667, -122.2676], [37.86899, -122.27091], [37.84698, -122.27085], [37.87125, -122.26754], [37.87298, -122.30507], [37.89196, -122.27412], [37.86292, -122.25875], [37.86769, -122.25079], [37.85063, -122.27816], [37.86966, -122.2728], [37.8636, -122.2537], [37.87062, -122.27246], [37.8819, -122.26952], [37.87009, -122.28407], [37.85041, -122.2728], [37.8615, -122.25593], [37.86836, -122.25447], [37.86359, -122.28324], [37.8819, -122.26952], [37.85847, -122.29335], [37.8685, -122.25916], [37.8801, -122.29768], [37.8685, -122.25916], [37.89576, -122.26335], [37.87115, -122.26829], [37.86427, -122.26505], [37.9029, -122.27749], [37.87009, -122.28407], [37.87293, -122.29603], [37.87013, -122.28154], [37.87089, -122.26826], [37.88023, -122.29613], [37.8801, -122.29768], [37.8686, -122.24559], [37.87365, -122.30181], [37.84886, -122.27774], [37.86515, -122.25647], [37.86127, -122.25897], [37.8622, -122.2599], [37.86686, -122.28562], [37.85974, -122.26746], [37.86271, -122.26288], [37.87481, -122.26846], [37.8597, -122.25332], [37.86828, -122.296], [37.86551, -122.26771], [37.85469, -122.2794], [37.86785, -122.25869], [37.8801, -122.29768], [37.86135, -122.2719], [37.868, -122.27001], [37.8686, -122.24559], [37.8585, -122.25078], [37.85824, -122.25317], [37.88761, -122.26448], [37.87637, -122.26229], [37.84746, -122.28117], [37.86996, -122.27058], [37.8662, -122.29128], [37.86764, -122.26749], [37.86647, -122.26104], [37.86484, -122.26055], [37.86816, -122.29661], [37.86837, -122.29408], [37.86052, -122.29179], [37.86427, -122.26505], [37.85815, -122.26799], [37.86135, -122.2719], [37.85582, -122.24713], [37.85771, -122.23986], [37.87089, -122.26826], [37.8801, -122.29768], [37.87567, -122.26885], [37.86567, -122.28157], [37.84818, -122.27565], [37.84975, -122.29217], [37.87035, -122.26782], [37.85622, -122.2596], [37.86879, -122.27251], [37.87089, -122.26826], [37.86373, -122.25371], [37.86011, -122.2619], [37.87136, -122.29294], [37.86157, -122.26468], [37.86759, -122.26082], [37.85481, -122.26887], [37.86513, -122.25831], [37.85936, -122.26868], [37.87125, -122.27499], [37.87089, -122.26826], [37.85615, -122.26875], [37.87242, -122.27995], [37.8638, -122.29406], [37.85351, -122.29175], [37.84951, -122.29232], [37.86998, -122.29482], [37.8564, -122.2597], [37.86292, -122.25875], [37.86603, -122.2645], [37.88524, -122.26631], [37.87242, -122.27995], [37.88023, -122.29613], [37.8781, -122.28519], [37.868, -122.27001], [37.86635, -122.30553], [37.85705, -122.27126], [37.86879, -122.27251], [37.87009, -122.28407], [37.86203, -122.31701], [37.85622, -122.2596], [37.88002, -122.29809], [37.87174, -122.3012], [37.8615, -122.25593], [37.87587, -122.2617], [37.87319, -122.28005], [37.8494, -122.27817], [37.87399, -122.2675], [37.90097, -122.26987], [37.8685, -122.25916], [37.86281, -122.29832], [37.85815, -122.26799], [37.87161, -122.27969], [37.88502, -122.27827], [37.87009, -122.28407], [37.85553, -122.26655], [37.8604, -122.27353], [37.88489, -122.24851], [37.86281, -122.29832], [37.87089, -122.26826], [37.8691, -122.26808], [37.87799, -122.25701], [37.86792, -122.27832], [37.87361, -122.26857], [37.85828, -122.28246], [37.85764, -122.26664], [37.87089, -122.26826], [37.84907, -122.26889], [37.9029, -122.27749], [37.85773, -122.25069], [37.85091, -122.27616], [37.84967, -122.28102], [37.87878, -122.29423], [37.86292, -122.25875], [37.86836, -122.28932], [37.8691, -122.26808], [37.86694, -122.2839], [37.84913, -122.27575], [37.88306, -122.27918], [37.86845, -122.26127], [37.87386, -122.26843], [37.86969, -122.27259], [37.87952, -122.29793], [37.868, -122.27001], [37.8805, -122.26709], [37.85674, -122.26653], [37.8673, -122.26991], [37.86977, -122.2865], [37.84973, -122.27789], [37.87183, -122.27057], [37.86759, -122.26082], [37.86797, -122.29771], [37.86977, -122.2865], [37.85743, -122.25951], [37.87479, -122.29616], [37.88102, -122.28321], [37.86612, -122.29939], [37.88075, -122.30297], [37.86941, -122.28936], [37.86633, -122.25636], [37.86538, -122.27059], [37.85743, -122.25951], [37.8801, -122.29768], [37.85798, -122.27135], [37.86427, -122.26505], [37.86969, -122.27259], [37.86292, -122.25875], [37.85306, -122.28987], [37.86837, -122.29408], [37.85656, -122.25681], [37.8688, -122.25405], [37.86633, -122.25636], [37.86647, -122.26104], [37.86292, -122.25875], [37.86245, -122.29039], [37.86513, -122.25831], [37.87264, -122.29274], [37.87016, -122.28444], [37.8631, -122.26702], [37.90336, -122.26734], [37.87025, -122.29843], [37.8524, -122.27857], [37.86219, -122.28119], [37.87968, -122.29915], [37.85545, -122.25988], [37.86941, -122.28936], [37.86292, -122.25875], [37.88709, -122.25391], [37.87054, -122.28699], [37.8597, -122.25332], [37.89445, -122.26546], [37.85076, -122.28629], [37.88159, -122.29975], [37.87009, -122.28407], [37.86725, -122.26326], [37.86769, -122.25079], [37.86816, -122.29661], [37.8685, -122.25916], [37.85292, -122.29172], [37.8801, -122.29768], [37.8801, -122.29768], [37.88059, -122.30472], [37.85987, -122.24923], [37.86051, -122.28029], [37.87361, -122.26857], [37.84729, -122.2755], [37.87095, -122.27732], [37.86774, -122.25964], [37.85622, -122.2596], [37.88002, -122.29809], [37.86766, -122.29987], [37.86338, -122.27191], [37.86692, -122.25866], [37.85596, -122.23645], [37.86725, -122.26326], [37.8685, -122.25916], [37.88187, -122.26836], [37.86825, -122.30007], [37.85648, -122.25742], [37.86996, -122.27058], [37.86599, -122.29331], [37.85275, -122.26164], [37.87624, -122.26925], [37.86737, -122.24945], [37.86432, -122.28744], [37.8691, -122.27008], [37.88075, -122.30297], [37.86203, -122.31701], [37.8819, -122.26952], [37.84877, -122.27117], [37.86699, -122.2958], [37.86292, -122.25875], [37.85528, -122.27705], [37.87168, -122.26608], [37.87089, -122.26826], [37.85365, -122.25272], [37.86574, -122.2534], [37.87979, -122.30618], [37.87125, -122.27499], [37.88025, -122.26903], [37.84736, -122.28197], [37.85233, -122.27085], [37.86675, -122.2588], [37.89087, -122.27104], [37.87009, -122.28407], [37.84877, -122.27117], [37.85687, -122.27985], [37.85402, -122.26939], [37.86602, -122.30054], [37.86515, -122.25647], [37.86785, -122.25869], [37.86754, -122.26126], [37.86426, -122.29182], [37.85178, -122.24495], [37.86907, -122.29189], [37.85063, -122.28062], [37.86373, -122.25371], [37.86518, -122.26529], [37.86567, -122.28157], [37.8801, -122.29768], [37.87174, -122.3012], [37.89855, -122.26568], [37.86002, -122.26942], [37.87429, -122.28591], [37.87813, -122.2806], [37.87298, -122.30507], [37.86092, -122.27613], [37.87834, -122.30573], [37.86879, -122.27251], [37.8658, -122.25273], [37.86735, -122.25426], [37.85969, -122.25577], [37.87054, -122.28699], [37.85938, -122.28188], [37.8801, -122.29768], [37.89087, -122.27104], [37.86249, -122.26458], [37.85835, -122.26139], [37.86759, -122.26082], [37.87174, -122.3012], [37.87813, -122.2806], [37.87125, -122.27499], [37.86582, -122.26048], [37.86239, -122.24888], [37.86249, -122.26458], [37.86292, -122.25875], [37.86836, -122.2543], [37.86484, -122.26055], [37.85805, -122.24531], [37.86828, -122.296], [37.90097, -122.26987], [37.85351, -122.29175], [37.86879, -122.27251], [37.86899, -122.27091], [37.85974, -122.26746], [37.87713, -122.29691], [37.86941, -122.28936], [37.8582, -122.25547], [37.89113, -122.27926], [37.85347, -122.29191], [37.86969, -122.27259], [37.86626, -122.27702], [37.86977, -122.2865], [37.85898, -122.26189], [37.86759, -122.26082], [37.86429, -122.27204], [37.85545, -122.25988], [37.85347, -122.26918], [37.87838, -122.29636], [37.86574, -122.25159], [37.86508, -122.25776], [37.86002, -122.26942], [37.8801, -122.29768], [37.87576, -122.29299], [37.8801, -122.29768], [37.86825, -122.30007], [37.8801, -122.29768], [37.863, -122.27236], [37.86249, -122.29124], [37.8691, -122.26808], [37.8691, -122.26808], [37.87089, -122.26826], [37.86879, -122.27251], [37.85632, -122.27726], [37.85733, -122.26896], [37.85278, -122.28353], [37.86633, -122.26316], [37.84973, -122.27789], [37.86912, -122.25089], [37.86011, -122.2619], [37.86334, -122.2576], [37.87232, -122.29909], [37.84925, -122.29489], [37.87088, -122.29631], [37.85697, -122.26373], [37.85152, -122.29644], [37.87483, -122.26371], [37.87089, -122.26826], [37.87813, -122.2806], [37.86996, -122.27055], [37.88576, -122.27802], [37.88023, -122.29613], [37.86912, -122.25089], [37.85824, -122.25317], [37.86375, -122.31398], [37.87043, -122.29929], [37.86899, -122.27091], [37.86511, -122.25848], [37.87359, -122.26975], [37.87624, -122.26925], [37.86749, -122.26724], [37.85336, -122.28997], [37.8801, -122.29768], [37.86825, -122.30007], [37.85969, -122.25577], [37.87009, -122.28407], [37.8734, -122.28679], [37.86785, -122.25869], [37.86931, -122.28292], [37.87479, -122.26757], [37.88251, -122.28715], [37.8744, -122.27895], [37.8801, -122.29768], [39.53309, -78.30013], [37.87841, -122.26914], [37.87009, -122.28407], [37.8801, -122.29768], [37.86351, -122.28413], [37.88673, -122.28237], [37.8724, -122.26616], [37.86682, -122.2869], [37.87727, -122.27796], [37.88059, -122.30472], [37.87932, -122.27503], [37.8691, -122.26808], [37.86816, -122.25632], [37.8597, -122.25332], [37.85996, -122.25125], [37.85963, -122.28011], [37.85836, -122.27892], [37.88862, -122.2776], [37.86759, -122.26082], [37.87089, -122.26826], [37.85615, -122.26875], [37.85553, -122.26655], [37.85431, -122.27089], [37.86366, -122.29015], [37.87089, -122.26826], [37.86977, -122.2865], [37.85775, -122.28656], [37.87322, -122.29353], [37.86751, -122.25195], [37.87525, -122.28467], [37.86285, -122.29943], [37.87379, -122.28999], [37.86183, -122.29456], [37.86879, -122.27251], [37.87591, -122.2603], [37.90097, -122.26987], [37.87079, -122.27749], [37.86127, -122.25897], [37.86759, -122.26082], [37.86239, -122.24888], [37.8685, -122.25916], [37.84793, -122.27063], [37.86766, -122.29987], [37.86996, -122.27058], [37.85742, -122.26827], [37.86952, -122.27966], [37.87019, -122.29255], [37.87645, -122.29426], [37.87993, -122.26983], [37.85212, -122.28955], [37.87009, -122.28407], [37.87513, -122.25998], [37.86907, -122.29189], [37.8712, -122.26795], [37.86162, -122.25613], [37.87089, -122.26826], [37.89856, -122.28042], [37.87009, -122.28407], [37.87263, -122.29686], [37.85632, -122.27726], [37.86969, -122.27259], [37.86605, -122.25848], [37.88435, -122.2468], [37.87694, -122.28857], [37.85733, -122.26896], [37.86618, -122.2633], [37.89855, -122.26568], [37.88008, -122.27976], [37.85771, -122.23986], [37.86828, -122.296], [37.87847, -122.30577], [37.85545, -122.25988], [37.88032, -122.29664], [37.87028, -122.26827], [37.85164, -122.28921], [37.8809, -122.30302], [37.8724, -122.26616], [37.87209, -122.30021], [37.89518, -122.26132], [37.87815, -122.27123], [37.86155, -122.27192], [37.8809, -122.30302], [37.86785, -122.25869], [37.89312, -122.27496], [37.86746, -122.29285], [37.86468, -122.26069], [37.86432, -122.28744], [37.87361, -122.26857], [37.8667, -122.2676], [37.87108, -122.27526], [37.86441, -122.25852], [37.86426, -122.29182], [37.87089, -122.26826], [37.86206, -122.29346], [37.85763, -122.28225], [37.85687, -122.27985], [37.85503, -122.2502], [37.86643, -122.28999], [37.85461, -122.28026], [37.85622, -122.2596], [37.85685, -122.26479], [37.86196, -122.27614], [37.88075, -122.30297], [37.86879, -122.27251], [37.86517, -122.27231], [37.87429, -122.28591], [37.88212, -122.26728], [37.86292, -122.25875], [37.85076, -122.28629], [37.86725, -122.26326], [37.86647, -122.26104], [37.85328, -122.25746], [37.87009, -122.28407], [37.8801, -122.29768], [37.85507, -122.26677], [37.86367, -122.26263], [37.87815, -122.27123], [37.87908, -122.26302], [37.86389, -122.25142], [37.88032, -122.29664], [37.87026, -122.27287], [37.86603, -122.2645], [37.86484, -122.26055], [37.85815, -122.26799], [37.86664, -122.2609], [37.87062, -122.27246], [37.85815, -122.26799], [37.85838, -122.2669], [37.8743, -122.2986], [37.8604, -122.27353], [37.85874, -122.26413], [37.89179, -122.26714], [37.86292, -122.25875], [37.86092, -122.27613], [37.85674, -122.26653], [37.86167, -122.27835], [37.84793, -122.27063], [37.89133, -122.27999], [37.85815, -122.26799], [37.87894, -122.30349], [37.86694, -122.2839], [37.86603, -122.25865], [37.86682, -122.2869], [37.87932, -122.27503], [37.86678, -122.29618], [37.87065, -122.28964], [37.86662, -122.30196], [37.85507, -122.29242], [37.86871, -122.26626], [37.87608, -122.30613], [37.89134, -122.27985], [37.8693, -122.25464], [37.88159, -122.29975], [37.86253, -122.26024], [37.85559, -122.28302], [37.86915, -122.2841], [37.86828, -122.296], [37.87515, -122.29416], [37.87855, -122.26686], [37.8691, -122.26808], [37.88023, -122.29613], [37.85597, -122.27131], [37.87841, -122.30607], [37.8554, -122.26453], [37.87956, -122.27389], [37.84641, -122.27525], [37.87095, -122.27732], [37.86219, -122.26691], [37.86751, -122.25195], [37.87303, -122.28964], [37.86996, -122.27058], [37.88177, -122.27166], [37.86874, -122.28731], [37.85507, -122.26677], [37.86682, -122.2869], [37.8673, -122.29975], [37.85978, -122.25454], [37.87583, -122.27351], [37.87694, -122.28857], [37.86219, -122.26691], [37.87009, -122.28407], [37.84913, -122.27575], [37.86899, -122.27091], [37.86456, -122.26281], [37.87811, -122.26912], [37.87478, -122.26875], [37.86771, -122.26591], [37.85355, -122.27694], [37.8819, -122.26952], [37.86875, -122.25904], [37.8667, -122.26557], [37.8533, -122.25725], [37.8667, -122.26557], [37.86725, -122.26326], [37.86996, -122.27058], [37.86892, -122.29799], [37.8673, -122.29975], [37.87001, -122.27625], [37.8497, -122.27615], [37.8685, -122.25916], [37.89112, -122.28391], [37.87879, -122.30345], [37.86633, -122.25636], [37.86879, -122.27251], [37.85054, -122.2861], [37.86187, -122.26228], [37.87161, -122.27969], [37.89819, -122.28696], [37.86945, -122.25231], [37.85417, -122.27899], [37.85622, -122.2596], [37.87429, -122.2974], [37.86803, -122.2772], [37.86837, -122.29408], [37.88679, -122.27925], [37.86571, -122.30209], [37.87325, -122.28694], [37.86444, -122.29883], [37.86347, -122.26956], [37.88023, -122.29613], [37.86943, -122.2677], [37.86851, -122.2678], [37.87019, -122.29255], [37.8658, -122.28042], [37.86367, -122.26263], [37.88489, -122.24851], [37.88203, -122.29671], [37.85743, -122.25951], [37.86996, -122.27055], [37.8813, -122.29004], [37.84973, -122.27789], [37.85417, -122.27899], [37.86771, -122.26591], [37.90421, -122.26952], [37.8667, -122.26557], [37.8801, -122.29768], [37.86678, -122.29618], [37.8685, -122.25916], [37.85094, -122.29183], [37.87089, -122.26826], [37.87361, -122.26857], [37.88075, -122.30297], [37.86441, -122.25852], [37.86381, -122.26739], [37.86976, -122.268], [37.85091, -122.27616], [37.87009, -122.28407], [37.88201, -122.26133], [37.85773, -122.25069], [37.88203, -122.29671], [37.86394, -122.25026], [37.87727, -122.27796], [37.868, -122.27001], [37.87089, -122.26826], [37.86837, -122.29408], [37.87089, -122.26826], [37.8816, -122.25226], [37.86338, -122.27191], [37.86915, -122.2841], [37.89855, -122.26568], [37.86513, -122.25831], [37.8685, -122.25916], [37.85429, -122.27106], [37.88306, -122.27918], [37.86349, -122.29623], [37.87125, -122.27499], [37.84877, -122.27117], [37.87009, -122.28407], [37.86725, -122.26326], [37.86206, -122.29346], [37.85972, -122.28507], [37.87513, -122.27324], [37.8673, -122.29975], [37.8771, -122.28602], [37.8611, -122.29777], [37.86842, -122.26146], [37.8712, -122.26795], [37.8763, -122.28307], [37.86081, -122.28956], [37.88075, -122.30297], [37.86977, -122.2865], [37.87242, -122.27767], [37.86432, -122.28744], [37.8712, -122.26795], [37.85815, -122.26799], [37.86721, -122.26354], [37.87389, -122.26634], [37.87089, -122.26826], [37.86642, -122.29103], [37.86675, -122.25644], [37.88233, -122.29541], [37.87009, -122.28407], [37.86905, -122.24867], [37.88503, -122.2743], [37.87322, -122.29353], [37.86816, -122.25632], [37.85076, -122.28629], [37.87089, -122.26826], [37.85402, -122.26939], [37.86347, -122.26956], [37.85806, -122.25572], [37.86861, -122.28728], [37.85685, -122.26479], [37.86785, -122.25869], [37.86511, -122.29674], [37.88673, -122.28237], [37.89107, -122.2824], [37.86635, -122.25405], [37.8685, -122.25916], [37.86332, -122.29711], [37.85545, -122.25988], [37.86961, -122.26636], [37.86339, -122.25499], [37.86879, -122.27251], [37.87607, -122.28009], [37.8679, -122.24991], [37.87583, -122.28232], [37.87543, -122.29141], [37.88863, -122.27934], [37.86472, -122.27569], [37.85615, -122.26875], [37.90393, -122.26838], [37.84956, -122.28214], [37.86292, -122.25875], [37.85959, -122.25699], [37.87009, -122.28407], [37.86818, -122.26365], [37.87009, -122.28407], [37.85813, -122.27759], [37.86881, -122.29212], [37.84781, -122.27856], [37.8685, -122.25916], [37.86781, -122.25902], [37.88023, -122.29613], [37.86645, -122.26962], [37.87878, -122.29423], [37.86881, -122.29212], [37.85275, -122.26164], [37.85622, -122.2596], [37.88203, -122.29671], [37.8691, -122.27008], [37.84886, -122.27774], [37.86141, -122.2533], [37.85315, -122.27904], [37.86112, -122.27384], [37.86785, -122.25869], [37.8667, -122.26557], [37.86277, -122.29721], [37.86612, -122.29939], [37.8691, -122.27008], [37.86278, -122.26238], [37.87272, -122.27753], [37.8813, -122.29004], [37.86127, -122.25897], [37.86394, -122.25026], [37.86156, -122.25473], [37.87047, -122.26681], [37.86836, -122.28932], [37.86862, -122.28827], [37.87652, -122.29161], [37.86785, -122.25869], [37.85815, -122.26799], [37.85278, -122.28353], [37.87935, -122.29964], [37.86245, -122.29039], [37.87129, -122.3005], [37.87963, -122.2739], [37.86956, -122.29708], [37.87107, -122.26772], [37.86187, -122.26228], [37.85429, -122.27106], [37.86922, -122.25462], [37.8801, -122.29768], [37.8557, -122.27425], [37.85481, -122.26887], [37.85869, -122.24482], [37.88075, -122.30297], [37.8658, -122.25273], [37.86766, -122.29987], [37.86642, -122.29103], [37.87089, -122.26826], [37.87442, -122.28592], [37.8819, -122.26952], [37.86766, -122.29987], [37.86996, -122.27058], [37.87384, -122.2686], [37.87965, -122.27273], [37.87624, -122.26925], [37.86603, -122.29238], [37.87174, -122.3012], [37.87946, -122.30023], [37.87009, -122.28407], [37.8717, -122.29273], [37.86941, -122.28936], [37.88023, -122.29613], [37.86576, -122.29352], [37.8819, -122.26952], [37.8667, -122.26557], [37.8685, -122.25916], [37.86217, -122.26708], [37.85874, -122.26413], [37.8615, -122.25593], [37.86968, -122.26589], [37.88203, -122.29671], [37.8801, -122.29768], [37.85974, -122.26746], [37.87059, -122.26594], [37.87513, -122.29306], [37.85622, -122.2596], [37.87427, -122.27999], [37.85987, -122.24923], [37.85545, -122.25988], [37.87025, -122.29843], [37.85843, -122.28232], [37.87465, -122.26873], [37.86751, -122.25195], [37.86292, -122.25875], [37.87298, -122.30507], [37.87089, -122.26826], [37.85365, -122.25272], [37.87361, -122.26857], [37.8766, -122.26777], [37.8691, -122.27008], [37.86966, -122.2728], [37.87009, -122.28407], [37.86996, -122.27058], [37.86943, -122.2677], [37.86759, -122.26082], [37.85545, -122.25988], [37.85528, -122.27705], [37.85957, -122.27335], [37.86359, -122.28324], [37.84913, -122.27575], [37.87483, -122.26371], [37.87009, -122.28407], [37.87009, -122.28407], [37.86892, -122.29799], [37.84795, -122.27754], [37.87754, -122.2625], [37.87062, -122.27246], [37.8702, -122.29962], [37.87399, -122.2675], [37.88074, -122.26538], [37.87479, -122.26757], [37.87098, -122.28818], [37.8662, -122.29128], [37.88023, -122.29613], [37.86961, -122.2959], [37.87416, -122.26635], [37.85565, -122.25636], [37.84795, -122.27754], [37.86759, -122.26082], [37.85771, -122.23986], [37.87726, -122.30187], [37.85888, -122.2713], [37.85771, -122.24908], [37.86551, -122.26771], [37.85446, -122.27695], [37.86292, -122.25875], [37.8585, -122.25302], [37.84746, -122.28117], [37.85764, -122.26664], [37.85555, -122.25588], [37.86967, -122.28336], [37.86943, -122.2677], [37.86228, -122.24705], [37.87026, -122.27287], [37.86871, -122.26626], [37.88075, -122.30297], [37.86222, -122.27388], [37.87624, -122.26925], [37.88375, -122.24978], [37.87567, -122.26885], [37.87174, -122.3012], [37.88082, -122.26479], [37.86441, -122.25852], [37.85559, -122.28302], [37.87418, -122.26613], [37.86945, -122.25231], [37.85969, -122.25577], [37.8819, -122.26952], [37.87811, -122.26912], [37.87125, -122.27499], [37.8691, -122.27008], [37.87089, -122.26826], [37.85974, -122.26746], [37.85308, -122.28134], [37.87272, -122.27753], [37.87115, -122.26829], [37.85553, -122.26655], [37.87157, -122.27258], [37.86523, -122.31119], [37.85448, -122.2811], [37.87579, -122.28691], [37.87125, -122.27499], [37.86893, -122.29333], [37.86046, -122.25908], [37.87329, -122.27211], [37.85271, -122.24198], [37.86288, -122.28989], [37.86613, -122.27909], [37.88053, -122.29482], [37.86875, -122.25904], [37.86585, -122.26703], [37.87615, -122.29564], [37.88075, -122.30297], [37.85094, -122.29409], [37.86759, -122.26082], [37.86525, -122.29568], [37.86612, -122.29939], [37.88046, -122.26591], [37.87322, -122.29353], [37.85531, -122.26635], [37.88159, -122.29975], [37.88059, -122.30472], [37.8819, -122.26952], [37.85363, -122.28378], [37.86928, -122.29698], [37.8659, -122.2656], [37.88224, -122.28481], [37.85214, -122.26782], [37.85076, -122.28629], [37.89555, -122.26764], [37.86633, -122.25636], [37.86206, -122.29346], [37.85662, -122.29053], [37.87515, -122.29416], [37.87026, -122.28363], [37.87972, -122.27323], [37.87587, -122.2617], [37.87089, -122.26826], [37.89965, -122.27372], [37.86375, -122.31398], [37.89536, -122.25861], [37.86002, -122.26942], [37.86633, -122.25636], [37.86941, -122.26787], [37.88379, -122.25556], [37.85743, -122.25951], [37.86203, -122.31701], [37.87089, -122.26826], [37.85824, -122.25317], [37.89515, -122.27066], [37.86128, -122.26681], [37.8646, -122.27668], [37.87009, -122.28407], [37.86287, -122.28909], [37.88075, -122.30297], [37.86969, -122.27259], [37.87423, -122.27313], [37.88203, -122.29671], [37.87013, -122.28154], [37.86292, -122.25875], [37.85068, -122.27078], [37.87009, -122.28407], [37.85849, -122.25319], [37.84836, -122.27163], [37.86823, -122.26324], [37.8805, -122.29762], [37.86441, -122.25852], [37.86508, -122.25776], [37.87049, -122.27102], [37.86861, -122.28728], [37.86107, -122.27597], [37.87089, -122.26826], [37.88159, -122.29975], [37.87479, -122.26757], [37.88216, -122.28097], [37.87616, -122.27231], [37.86052, -122.26448], [37.87395, -122.28975], [37.8719, -122.27076], [37.87784, -122.29971], [37.8801, -122.29768], [37.86759, -122.26082], [37.86662, -122.29724], [37.86828, -122.296], [37.87129, -122.3005], [37.86292, -122.25875], [37.87692, -122.26556], [37.87908, -122.26302], [37.84836, -122.27163], [37.86771, -122.26591], [37.873, -122.27544], [37.87009, -122.28407], [37.8754, -122.2711], [37.84954, -122.27228], [37.85733, -122.26896], [37.86155, -122.29662], [37.87481, -122.26846], [37.85374, -122.25987], [37.85178, -122.27639], [37.86968, -122.26589], [37.87542, -122.27093], [37.868, -122.27001], [37.86239, -122.27866], [37.77533, -122.45015], [37.86376, -122.26897], [37.86392, -122.25355], [37.85557, -122.2821], [37.87504, -122.26544], [37.89139, -122.28554], [37.86292, -122.25875], [37.8689, -122.30029], [37.87773, -122.3094], [37.85454, -122.26625], [37.86227, -122.29236], [37.86759, -122.26082], [37.86023, -122.29389], [37.86441, -122.25852], [37.86907, -122.29189], [37.86605, -122.25848], [37.88576, -122.27802], [37.87089, -122.26826], [37.87628, -122.25849], [37.86429, -122.27204], [37.85771, -122.24908], [37.87935, -122.29964], [37.87246, -122.27294], [37.85835, -122.26139], [37.86506, -122.29778], [37.87731, -122.26407], [37.88075, -122.30297], [37.85062, -122.2708], [37.86838, -122.29551], [37.84845, -122.27361], [37.86292, -122.25875], [37.86516, -122.26546], [37.86605, -122.26545], [37.86347, -122.26956], [37.86373, -122.25371], [37.88002, -122.29809], [37.86922, -122.25462], [37.8636, -122.2537], [37.86233, -122.25012], [37.86781, -122.25902], [37.86347, -122.26956], [37.86895, -122.2992], [37.85528, -122.27705], [37.86441, -122.25852], [37.87361, -122.26857], [37.86397, -122.25258], [37.85843, -122.28232], [37.89554, -122.28541], [37.87219, -122.26843], [37.86398, -122.29296], [37.86754, -122.26126], [37.86794, -122.2977], [37.87089, -122.26826], [37.85506, -122.28641], [37.89646, -122.26257], [37.87464, -122.29694], [37.86292, -122.25875], [37.87098, -122.28818], [37.868, -122.27001], [37.88128, -122.30268], [37.86875, -122.25904], [37.8799, -122.29712], [37.86612, -122.27813], [37.86023, -122.29389], [37.87794, -122.27138], [37.86836, -122.28932], [37.86521, -122.27201], [37.85815, -122.26799], [37.89121, -122.28234], [37.8685, -122.25916], [37.88032, -122.29664], [37.87738, -122.25698], [37.88782, -122.27221], [37.87513, -122.25998], [37.88246, -122.26515], [37.85103, -122.25245], [37.85454, -122.26625], [37.85847, -122.29335], [37.86392, -122.25355], [37.85622, -122.2596], [37.87125, -122.27499], [37.86515, -122.25647], [37.85711, -122.2626], [37.86675, -122.2588], [37.87424, -122.3044], [37.86389, -122.25142], [37.86556, -122.2539], [37.8522, -122.28638], [37.86881, -122.29212], [37.87674, -122.26665], [37.86881, -122.29212], [37.87813, -122.2806], [37.85295, -122.26622], [37.86748, -122.25429], [37.88851, -122.26678], [37.8691, -122.27008], [37.86823, -122.26324], [37.86996, -122.27058], [37.87794, -122.27138], [37.88122, -122.29098], [37.88716, -122.27588], [37.86051, -122.28029], [37.87089, -122.26826], [37.87516, -122.28011], [37.86165, -122.2853], [37.85076, -122.28629], [37.8679, -122.24991], [37.87246, -122.27294], [37.85346, -122.26007], [37.86759, -122.26082], [37.87089, -122.26826], [37.85454, -122.26625], [37.86759, -122.26082], [37.88032, -122.29664], [37.85872, -122.25321], [37.85268, -122.27654], [37.87121, -122.30458], [37.86292, -122.25875], [37.86255, -122.2626], [37.86759, -122.26082], [37.88142, -122.27299], [37.87125, -122.27499], [37.86715, -122.26788], [37.85178, -122.27639], [37.86187, -122.26228], [37.8804, -122.26817], [37.86996, -122.27058], [37.8784, -122.26795], [37.86075, -122.28529], [37.8494, -122.27817], [37.86206, -122.29346], [37.87193, -122.25298], [37.85534, -122.29225], [37.87322, -122.29353], [37.86766, -122.29987], [37.85594, -122.24989], [37.87794, -122.27138], [37.86081, -122.28956], [37.85733, -122.26896], [37.87054, -122.28699], [37.84795, -122.27754], [37.85275, -122.26164], [37.87026, -122.27287], [37.8801, -122.29768], [37.86879, -122.27251], [37.87189, -122.2822], [37.87361, -122.26857], [37.85251, -122.26368], [37.86398, -122.29296], [37.87161, -122.27969], [37.87009, -122.28407], [37.86853, -122.26763], [37.86603, -122.2645], [37.85062, -122.2708], [37.85396, -122.28405], [37.87479, -122.29616], [37.86156, -122.25473], [37.89651, -122.27449], [37.86907, -122.29929], [37.86645, -122.26962], [37.87363, -122.27764], [37.8675, -122.2917], [37.8679, -122.24991], [37.873, -122.2946], [37.84913, -122.27575], [37.86907, -122.29189], [37.88274, -122.29375], [37.85603, -122.27967], [37.87318, -122.29704], [37.88358, -122.2597], [37.88046, -122.26591], [37.88234, -122.2673], [37.85705, -122.27126], [37.8557, -122.27425], [37.88131, -122.27409], [37.86233, -122.25883], [37.87079, -122.27749], [37.8604, -122.29453], [37.88179, -122.25796], [37.86366, -122.29015], [37.8712, -122.26795], [37.86245, -122.29039], [37.88851, -122.26678], [37.88562, -122.27274], [37.8859, -122.26771], [37.87784, -122.29971], [37.86881, -122.29212], [37.88245, -122.28365], [37.88046, -122.26591], [37.85711, -122.2626], [37.86923, -122.2691], [37.84964, -122.29227], [37.87125, -122.27499], [37.86603, -122.25865], [37.85481, -122.26887], [37.86203, -122.31701], [37.87187, -122.30124], [37.88059, -122.30472], [37.84729, -122.2755], [37.88112, -122.27524], [37.87993, -122.26983], [37.85743, -122.25951], [37.85733, -122.26896], [37.8685, -122.25916], [37.86751, -122.25195], [37.87181, -122.27075], [37.87125, -122.27499], [37.8675, -122.2917], [37.87009, -122.28407], [37.86672, -122.2888], [37.86605, -122.25848], [37.88027, -122.26816], [37.86645, -122.26962], [37.88863, -122.2804], [37.85174, -122.28648], [37.86922, -122.25462], [37.87089, -122.26826], [37.87835, -122.29716], [37.85292, -122.29172], [37.86682, -122.2869], [37.89507, -122.2647], [37.85963, -122.2717], [37.8907, -122.26721], [37.86332, -122.29711], [37.86969, -122.27259], [37.85594, -122.24989], [37.85545, -122.25988], [37.87054, -122.28699], [37.86292, -122.25875], [37.88311, -122.25183], [37.86498, -122.26075], [37.88068, -122.29487], [37.88066, -122.30221], [37.8811, -122.28307], [37.87429, -122.2974], [37.8667, -122.26557], [37.86682, -122.2869], [37.87107, -122.26772], [37.87089, -122.26826], [37.87303, -122.28964], [37.86456, -122.26281], [37.87465, -122.30305], [37.87009, -122.28407], [37.85251, -122.26368], [37.87136, -122.29294], [37.85545, -122.25988], [37.85499, -122.294], [37.86556, -122.2539], [37.86941, -122.28936], [37.87136, -122.29294], [37.86375, -122.31398], [37.85984, -122.25316], [37.85815, -122.26799], [37.85261, -122.28366], [37.87674, -122.26665], [37.8734, -122.28679], [37.86292, -122.25875], [37.87865, -122.29106], [37.8501, -122.27382], [37.8819, -122.26952], [37.85648, -122.25742], [37.86977, -122.2865], [37.87089, -122.26826], [37.85261, -122.28366], [37.87128, -122.29503], [37.8712, -122.26795], [37.89721, -122.27262], [37.86996, -122.27058], [37.85938, -122.28188], [37.868, -122.27001], [37.8679, -122.24991], [37.86392, -122.28841], [37.88112, -122.27524], [37.86967, -122.28336], [37.86879, -122.27251], [37.87451, -122.27091], [37.8691, -122.27008], [37.87579, -122.28691], [37.86907, -122.29189], [37.85306, -122.28987], [37.85743, -122.25951], [37.86727, -122.30058], [37.87811, -122.26912], [37.86905, -122.25661], [37.8667, -122.2676], [37.86183, -122.29456], [37.87003, -122.27716], [37.87346, -122.27088], [37.87337, -122.27304], [37.85402, -122.26939], [37.868, -122.27001], [37.8801, -122.29768], [37.87189, -122.27745], [37.87478, -122.26875], [37.88032, -122.29664], [37.8691, -122.26808], [37.86487, -122.25574], [37.86851, -122.2678], [37.8685, -122.25916], [37.87001, -122.27625], [37.86879, -122.27251], [37.85448, -122.2811], [37.85417, -122.27209], [37.87125, -122.27499], [37.85824, -122.25317], [37.87054, -122.28699], [37.86345, -122.25613], [37.89605, -122.2659], [37.87009, -122.28407], [37.86506, -122.29778], [37.86761, -122.26771], [37.88355, -122.25034], [37.87902, -122.2772], [37.87794, -122.27138], [37.86977, -122.2865], [37.8685, -122.25916], [37.84847, -122.27344], [37.87674, -122.26665], [37.84793, -122.27063], [37.86081, -122.28956], [37.85836, -122.27892], [37.87696, -122.30402], [37.8691, -122.26808], [37.85076, -122.28629], [37.85545, -122.25988], [37.87755, -122.27577], [37.86203, -122.31701], [37.8703, -122.27499], [37.86551, -122.26771], [37.85528, -122.27705], [37.87641, -122.28483], [37.8801, -122.29768], [37.87782, -122.26035], [37.8679, -122.24991], [37.87329, -122.27211], [37.86484, -122.26055], [37.85431, -122.27089], [37.86912, -122.25089], [37.86441, -122.25852], [37.85972, -122.28507], [37.86725, -122.26326], [37.86944, -122.28194], [37.86549, -122.26977], [37.86441, -122.25852], [37.86605, -122.25848], [37.8524, -122.27857], [37.85102, -122.29111], [37.87841, -122.30607], [37.8691, -122.26808], [37.87879, -122.30345], [37.87322, -122.29353], [37.86223, -122.28088], [37.86977, -122.2865], [37.84956, -122.28214], [37.85743, -122.25951], [37.87019, -122.29255], [37.87526, -122.30002], [37.89913, -122.28324], [37.85142, -122.28099], [37.85445, -122.29658], [37.86126, -122.28732], [37.86359, -122.28324], [37.87626, -122.2624], [37.88023, -122.29613], [37.86551, -122.26771], [37.86746, -122.29869], [37.85594, -122.24989], [37.85062, -122.2708], [37.8801, -122.29768], [37.86605, -122.25848], [37.85545, -122.25988], [37.86829, -122.26143], [37.85828, -122.28246], [37.89643, -122.27841], [37.84795, -122.27754], [37.8699, -122.268], [37.86292, -122.25875], [37.87318, -122.26744], [37.85545, -122.25988], [37.85733, -122.26896], [37.86167, -122.27835], [37.86551, -122.26771], [37.89842, -122.28563], [37.86671, -122.29727], [37.86763, -122.24986], [37.85988, -122.25022], [37.86518, -122.26529], [37.86508, -122.25776], [37.86515, -122.25647], [37.87088, -122.29631], [37.87813, -122.2806], [37.86769, -122.25079], [37.86463, -122.26223], [37.87782, -122.26035], [37.87361, -122.26857], [37.88212, -122.26728], [37.87669, -122.29916], [37.85615, -122.26875], [37.88311, -122.29209], [37.86966, -122.2728], [37.86969, -122.27259], [37.87423, -122.27313], [37.68713, -121.7721], [37.89121, -122.28234], [37.86381, -122.26739], [37.87909, -122.2715], [37.86837, -122.29408], [37.84793, -122.27063], [37.86441, -122.25852], [37.85454, -122.26625], [37.86682, -122.2869], [37.86879, -122.27251], [37.87567, -122.26885], [37.85545, -122.25988], [37.85351, -122.29175], [37.86499, -122.27229], [37.87136, -122.29294], [37.87009, -122.28407], [37.87669, -122.29916], [37.86052, -122.29179], [37.86899, -122.27091], [37.86427, -122.26505], [37.88303, -122.27428], [37.87009, -122.28407], [37.87217, -122.27518], [37.87738, -122.25698], [37.85838, -122.2669], [37.87013, -122.28154], [37.87935, -122.29964], [37.88075, -122.30297], [37.86375, -122.31398], [37.86756, -122.29872], [37.86441, -122.25852], [37.87009, -122.28407], [37.85062, -122.2708], [37.86394, -122.25026], [37.87695, -122.28046], [37.85963, -122.28011], [37.86996, -122.27055], [37.8597, -122.25332], [37.85771, -122.23986], [37.86941, -122.28936], [37.85844, -122.29351], [37.86203, -122.31701], [37.86647, -122.26104], [37.86227, -122.25095], [37.86345, -122.25613], [37.88032, -122.29664], [37.87174, -122.3012], [37.86612, -122.29939], [37.87993, -122.26983], [37.85249, -122.24338], [37.8672, -122.25653], [37.88142, -122.27299], [37.86444, -122.29883], [37.87608, -122.30613], [37.87545, -122.27783], [37.85446, -122.27695], [37.86016, -122.27595], [37.868, -122.27001], [37.85836, -122.27892], [37.8685, -122.25916], [37.8685, -122.25916], [37.90435, -122.26957], [37.88562, -122.27274], [37.88364, -122.27106], [37.87782, -122.26035], [37.87393, -122.27538], [37.86426, -122.29182], [37.85488, -122.26208], [37.86359, -122.28324], [37.87993, -122.26983], [37.85076, -122.28629], [37.87009, -122.28407], [37.85545, -122.25988], [37.85959, -122.25699], [37.8654, -122.28373], [37.87054, -122.28699], [37.87125, -122.27499], [37.86219, -122.26691], [37.85545, -122.25988], [37.86128, -122.25982], [37.85603, -122.27967], [37.86892, -122.29799], [37.86879, -122.27251], [37.86373, -122.25371], [37.86996, -122.27058], [37.86515, -122.25647], [37.87434, -122.2984], [37.86923, -122.2691], [37.87465, -122.26873], [37.86647, -122.26104], [37.89445, -122.26546], [37.88002, -122.29809], [37.88023, -122.29613], [37.86339, -122.25499], [37.84954, -122.27228], [37.88318, -122.29661], [37.86441, -122.25852], [37.86693, -122.29504], [37.88116, -122.27635], [37.87785, -122.27252], [37.868, -122.27001], [37.86576, -122.29352], [37.87334, -122.26626], [37.85733, -122.26896], [37.85578, -122.25274], [37.87219, -122.28192], [37.87009, -122.28407], [37.86943, -122.2677], [37.87161, -122.27969], [37.86491, -122.28844], [37.89087, -122.27104], [37.85479, -122.27434], [37.87049, -122.27102], [37.88173, -122.30681], [37.86828, -122.296], [37.86168, -122.26964], [37.85375, -122.27544], [37.86836, -122.2543], [37.86907, -122.29189], [37.88159, -122.29975], [37.86427, -122.26505], [37.85853, -122.28849], [37.86162, -122.29563], [37.88023, -122.29613], [37.88471, -122.27586], [37.86456, -122.26281], [37.86879, -122.27251], [37.85528, -122.27705], [37.88023, -122.29613], [37.86928, -122.29698], [37.86486, -122.27344], [37.87834, -122.30573], [37.87298, -122.30507], [37.87125, -122.27499], [37.86816, -122.25632], [37.84967, -122.28102], [37.85571, -122.26238], [37.87401, -122.28212], [37.87608, -122.30613], [37.84886, -122.27774], [37.84641, -122.27525], [37.86892, -122.29799], [37.87994, -122.30718], [37.86163, -122.28545], [37.87009, -122.28407], [37.85076, -122.28629], [37.8801, -122.29768], [37.86439, -122.29186], [37.85648, -122.25742], [37.86659, -122.25394], [37.86184, -122.26945], [37.86996, -122.27055], [37.86034, -122.28056], [37.8586, -122.25934], [37.85351, -122.29175], [37.86556, -122.2539], [37.86422, -122.27795], [37.85062, -122.2708], [37.868, -122.27001], [37.86675, -122.2588], [37.86816, -122.25632], [37.8712, -122.26795], [37.85328, -122.27907], [37.85597, -122.27131], [37.87785, -122.27252], [37.85559, -122.28302], [37.87009, -122.28407], [37.87453, -122.29748], [37.86429, -122.27204], [37.87009, -122.28407], [37.90407, -122.27261], [37.8597, -122.25332], [37.85127, -122.25247], [37.85622, -122.2596], [37.8819, -122.26952], [37.86397, -122.25258], [37.88458, -122.25465], [37.88299, -122.26161], [37.85445, -122.29658], [37.85615, -122.26875], [37.8801, -122.29768], [37.8662, -122.29128], [37.86023, -122.29389], [37.86547, -122.26299], [37.86969, -122.27259], [37.8819, -122.26952], [37.87035, -122.28202], [37.84803, -122.2758], [37.85869, -122.24482], [37.85622, -122.2596], [37.86899, -122.27091], [37.85351, -122.29175], [37.85099, -122.29021], [37.87386, -122.26843], [37.86692, -122.25866], [37.85523, -122.25971], [37.86554, -122.2826], [37.86167, -122.27835], [37.86474, -122.25849], [37.87549, -122.27571], [37.88363, -122.26973], [37.87696, -122.26035], [37.85853, -122.28849], [37.85071, -122.27045], [37.87009, -122.28407], [37.86292, -122.25875], [37.86339, -122.25499], [37.86941, -122.28936], [37.87946, -122.30023], [37.86434, -122.27682], [37.8578, -122.2715], [37.86508, -122.25776], [37.86338, -122.25744], [37.88075, -122.30297], [37.86907, -122.29189], [37.87215, -122.26807], [37.86292, -122.25875], [37.87089, -122.26826], [37.86961, -122.2959], [37.85929, -122.27563], [37.87336, -122.27988], [37.87246, -122.27294], [37.86675, -122.2588], [37.86692, -122.25866], [37.84729, -122.2755], [37.8667, -122.26557], [37.85164, -122.28921], [37.87652, -122.29161], [37.86456, -122.26281], [37.86837, -122.29408], [37.85103, -122.25245], [37.86769, -122.25079], [37.86853, -122.26763], [37.86853, -122.26763], [37.87322, -122.29353], [37.85073, -122.28515], [37.86551, -122.26771], [37.86011, -122.2619], [37.8557, -122.27425], [37.85423, -122.269], [37.8536, -122.25506], [37.87504, -122.26544], [37.86899, -122.27091], [37.8691, -122.26808], [37.86292, -122.25875], [37.88303, -122.27428], [37.85521, -122.25988], [37.86751, -122.25405], [37.8819, -122.26952], [37.86367, -122.26263], [37.8685, -122.25916], [37.8801, -122.29768], [37.88023, -122.29613], [37.88479, -122.24941], [37.8494, -122.27817], [37.8813, -122.29004], [37.8691, -122.27008], [37.87811, -122.26912], [37.88111, -122.28923], [37.85412, -122.28391], [37.85099, -122.29021], [37.87553, -122.30483], [37.86219, -122.26691], [37.88023, -122.29613], [37.86725, -122.26326], [37.8691, -122.27008], [37.88025, -122.26903], [37.86879, -122.27251], [37.86603, -122.29238], [37.88379, -122.25556], [37.8685, -122.25916], [37.86994, -122.28422], [37.85192, -122.26975], [37.86576, -122.29352], [37.86715, -122.26788], [37.87105, -122.30547], [37.86837, -122.29408], [37.87685, -122.28905], [37.87373, -122.30073], [37.87183, -122.27057], [37.86943, -122.2677], [37.8497, -122.27615], [37.88122, -122.29098], [37.86201, -122.26719], [37.86196, -122.27614], [37.87591, -122.2603], [37.85571, -122.26238], [37.8717, -122.29273], [37.87855, -122.26686], [37.86011, -122.2619], [37.87009, -122.28407], [37.86292, -122.25875], [37.86605, -122.25848], [37.85507, -122.26677], [37.85351, -122.29175], [37.86002, -122.26942], [37.86456, -122.26281], [37.87739, -122.30191], [37.85938, -122.28188], [37.85632, -122.27726], [37.86881, -122.29212], [37.84975, -122.29217], [37.87607, -122.28009], [37.86873, -122.25921], [37.86401, -122.28022], [37.88407, -122.25284], [37.87028, -122.26827], [37.87607, -122.28009], [37.87089, -122.26826], [37.85545, -122.25988], [37.86907, -122.29189], [37.85705, -122.27126], [37.8819, -122.26952], [37.84729, -122.2755], [37.86785, -122.25869], [37.86508, -122.25776], [37.85622, -122.2596], [37.86373, -122.25371], [37.88306, -122.27918], [37.86659, -122.25394], [37.90069, -122.26748], [37.87782, -122.26035], [37.8622, -122.2599], [37.86987, -122.27739], [37.86249, -122.26458], [37.87879, -122.30345], [37.88784, -122.26999], [37.8625, -122.30041], [37.85597, -122.27131], [37.8691, -122.26808], [37.89642, -122.26035], [37.85199, -122.27016], [37.8801, -122.29768], [37.87219, -122.28192], [37.87602, -122.27336], [37.86219, -122.26691], [37.84886, -122.27774], [37.87009, -122.28407], [37.87669, -122.29916], [37.84836, -122.27163], [37.86785, -122.25869], [37.8801, -122.29768], [37.87115, -122.26829], [37.86943, -122.2677], [37.85545, -122.25988], [37.86292, -122.25875], [37.85507, -122.26677], [37.85648, -122.25742], [37.86292, -122.25875], [37.85446, -122.27695], [37.85531, -122.26635], [37.86977, -122.2865], [37.86797, -122.29771], [37.86436, -122.30142], [37.87624, -122.26925], [37.868, -122.27001], [37.87814, -122.29747], [37.85824, -122.25317], [37.85091, -122.27616], [37.87089, -122.26826], [37.86111, -122.28951], [37.86881, -122.29212], [37.86427, -122.26505], [37.8801, -122.29768], [37.87125, -122.27499], [37.8691, -122.26808], [37.84954, -122.27228], [37.85152, -122.29644], [37.89466, -122.28559], [37.85396, -122.28405], [37.86875, -122.25904], [37.88106, -122.29231], [37.87035, -122.26782], [37.86081, -122.28956], [37.86456, -122.26281], [37.88233, -122.29541], [37.86506, -122.29778], [37.86781, -122.25902], [37.86996, -122.27058], [37.86633, -122.26316], [37.86024, -122.28923], [37.85365, -122.25272], [37.87089, -122.26826], [37.8712, -122.26795], [37.86969, -122.27259], [37.8932, -122.28043], [37.86785, -122.25869], [37.85622, -122.2596], [37.88086, -122.29314], [37.85571, -122.26238], [37.86441, -122.25852], [37.86943, -122.28704], [37.87126, -122.29408], [37.86969, -122.27259], [37.86871, -122.26626], [37.89196, -122.27412], [37.85733, -122.26896], [37.88673, -122.28237], [37.8691, -122.26808], [37.86347, -122.26956], [37.85687, -122.27985], [37.84967, -122.28102], [37.87361, -122.26857], [37.85528, -122.27705], [37.86853, -122.26763], [37.86964, -122.30421], [37.86476, -122.28858], [37.86613, -122.27909], [37.8686, -122.29439], [37.87272, -122.27753], [37.87253, -122.29801], [37.88008, -122.27976], [37.8759, -122.2944], [37.86347, -122.26956], [37.86941, -122.28936], [37.86945, -122.25231], [37.86441, -122.25852], [37.87841, -122.30607], [37.88037, -122.26707], [37.8819, -122.26952], [37.85295, -122.26622], [37.87028, -122.26827], [37.88017, -122.30679], [37.86127, -122.25897], [37.87542, -122.27093], [37.85614, -122.27133], [37.8801, -122.29768], [37.86429, -122.27204], [37.88023, -122.29613], [37.88077, -122.2878], [37.85309, -122.28645], [37.87125, -122.27499], [37.87009, -122.28407], [37.85824, -122.25317], [37.86281, -122.29832], [37.87711, -122.27819], [37.86953, -122.26593], [37.87089, -122.26826], [37.86389, -122.25142], [37.88285, -122.28857], [37.8614, -122.25895], [37.86996, -122.27055], [37.86492, -122.26722], [37.87553, -122.30483], [37.85545, -122.25988], [37.8691, -122.26808], [37.84818, -122.27565], [37.86678, -122.29618], [37.8801, -122.29768], [37.87641, -122.28483], [37.85775, -122.28656], [37.85798, -122.27135], [37.86816, -122.25632], [37.87009, -122.28407], [37.8801, -122.29768], [37.84795, -122.27754], [37.86373, -122.25371], [37.87115, -122.26829], [37.87089, -122.26826], [37.87451, -122.27091], [37.86187, -122.26228], [37.86307, -122.29841], [37.85523, -122.25971], [37.8774, -122.30072], [37.87604, -122.26033], [37.88131, -122.27409], [37.86356, -122.25866], [37.8673, -122.26991], [37.85507, -122.26677], [37.8828, -122.29041], [37.84793, -122.27063], [37.87089, -122.26826], [37.88023, -122.29613], [37.85402, -122.26939], [37.86862, -122.28938], [37.86735, -122.25426], [37.88188, -122.29823], [37.87066, -122.27957], [37.87851, -122.2954], [37.89555, -122.26764], [37.86943, -122.2677], [37.88489, -122.24851], [37.86421, -122.29277], [37.86828, -122.296], [37.86912, -122.25089], [37.85192, -122.26975], [37.87001, -122.27625], [37.86292, -122.25875], [37.89069, -122.25851], [37.88053, -122.29482], [37.89428, -122.25765], [37.86945, -122.25231], [37.87336, -122.27988], [37.86074, -122.29067], [37.86996, -122.27058], [37.87175, -122.2719], [37.87009, -122.28407], [37.84861, -122.27958], [37.86265, -122.27651], [37.8673, -122.26991], [37.87035, -122.26782], [37.86941, -122.28936], [37.87229, -122.27994], [37.85743, -122.25951], [37.86988, -122.28652], [37.86397, -122.26036], [37.87098, -122.28818], [37.85492, -122.27914], [37.86851, -122.2678], [37.8584, -122.27541], [37.85733, -122.26896], [37.86836, -122.2543], [37.86633, -122.26316], [37.87423, -122.27313], [37.85668, -122.29031], [37.87277, -122.28448], [37.88203, -122.29671], [37.85687, -122.27985], [37.86612, -122.29939], [37.86771, -122.26591], [37.88203, -122.29671], [37.86551, -122.26771], [37.88203, -122.29671], [37.86255, -122.2626], [37.88074, -122.26538], [37.86605, -122.25848], [37.8725, -122.2865], [37.85976, -122.25684], [37.85553, -122.26655], [37.86292, -122.25875], [37.86746, -122.29285], [37.86672, -122.2888], [37.84845, -122.27361], [37.85249, -122.24338], [37.87553, -122.29054], [37.86323, -122.25871], [37.86879, -122.27251], [37.86034, -122.28056], [37.86513, -122.25831], [37.868, -122.27001], [37.86769, -122.25079], [37.86456, -122.26281], [37.89848, -122.28548], [37.86107, -122.27597], [37.85058, -122.28591], [37.86836, -122.2543], [37.87553, -122.30483], [37.86853, -122.26763], [37.87093, -122.2895], [37.86767, -122.25271], [37.86155, -122.29662], [37.868, -122.27001], [37.87089, -122.26826], [37.89842, -122.26184], [37.8685, -122.25916], [37.86618, -122.2633], [37.88435, -122.2468], [37.88503, -122.2743], [37.86969, -122.27259], [37.85357, -122.26811], [37.86441, -122.25852], [37.8691, -122.26808], [37.8985, -122.26712], [37.86943, -122.2677], [37.87993, -122.26983], [37.86987, -122.27739], [37.86126, -122.26698], [37.88075, -122.30297], [37.86367, -122.26263], [37.87624, -122.26925], [37.85315, -122.27904], [37.8801, -122.29768], [37.88562, -122.27274], [37.86392, -122.2586], [37.86672, -122.2888], [37.87232, -122.29909], [37.87753, -122.2748], [37.8928, -122.28547], [37.85445, -122.29658], [37.86474, -122.25849], [37.87219, -122.26843], [37.87089, -122.26826], [37.86727, -122.30058], [37.87062, -122.27246], [37.87157, -122.27258], [37.86837, -122.29408], [37.90539, -122.27499], [37.8691, -122.27008], [37.86184, -122.26945], [37.85798, -122.27135], [37.86228, -122.24705], [37.89381, -122.26623], [37.87932, -122.27503], [37.85703, -122.25306], [37.86246, -122.29215], [37.85282, -122.26798], [37.86759, -122.26082], [37.85632, -122.27726], [37.87089, -122.26826], [37.86912, -122.25089], [37.86525, -122.29568], [37.85592, -122.27279], [37.8801, -122.29768], [37.86426, -122.29182], [37.86441, -122.25852], [37.86575, -122.30193], [37.85743, -122.25951], [37.85531, -122.26635], [37.86746, -122.29285], [37.88203, -122.29671], [37.8667, -122.26557], [37.87189, -122.2822], [37.86255, -122.2626], [37.86292, -122.25875], [37.85987, -122.28492], [37.85687, -122.27985], [37.85528, -122.27705], [37.87059, -122.26594], [37.85495, -122.24451], [37.86883, -122.25832], [37.8843, -122.2629], [37.87264, -122.29274], [37.8801, -122.29768], [37.86969, -122.27259], [37.86618, -122.2633], [37.85622, -122.2596], [37.85622, -122.2596], [37.8801, -122.29768], [37.87062, -122.27246], [37.86206, -122.29346], [37.86892, -122.29799], [37.873, -122.2946], [37.86227, -122.29236], [37.87138, -122.27495], [37.84954, -122.27228], [37.88023, -122.29613], [37.87799, -122.25701], [37.85351, -122.29175], [37.87672, -122.30522], [37.86659, -122.25394], [37.86692, -122.25866], [37.86249, -122.26458], [37.86781, -122.25902], [37.84975, -122.29217], [37.87994, -122.27056], [37.86966, -122.2728], [37.87125, -122.27499], [37.85365, -122.25272], [37.86758, -122.25897], [37.88643, -122.2624], [37.84818, -122.27565], [37.85507, -122.26677], [37.86633, -122.25636], [37.87993, -122.27986], [37.87484, -122.27548], [37.86941, -122.28936], [37.88182, -122.27039], [37.8816, -122.25226], [37.88075, -122.30297], [37.87993, -122.26983], [37.85431, -122.27089], [37.86659, -122.25394], [37.85987, -122.24923], [37.85763, -122.28968], [37.86633, -122.25636], [37.86383, -122.28137], [37.87001, -122.27625], [37.84793, -122.27063], [37.88212, -122.26728], [37.8799, -122.29712], [37.85423, -122.269], [37.84886, -122.27774], [37.85076, -122.29305], [37.85275, -122.26164], [37.88307, -122.27571], [37.88318, -122.29661], [37.8578, -122.2715], [37.86809, -122.25689], [37.84795, -122.27754], [37.88083, -122.26366], [37.87089, -122.26826], [37.87337, -122.27304], [37.87418, -122.26613], [37.86853, -122.26763], [37.86922, -122.25462], [37.87013, -122.28154], [37.87219, -122.26843], [37.85566, -122.25498], [37.87329, -122.27211], [37.86785, -122.25869], [37.87841, -122.30607], [37.88233, -122.29541], [37.85743, -122.25951], [37.86746, -122.29285], [37.84793, -122.27063], [37.88934, -122.26253], [37.86376, -122.26897], [37.89598, -122.25559], [37.88023, -122.29613], [37.85127, -122.25247], [37.88077, -122.2878], [37.87632, -122.27104], [37.87951, -122.25764], [37.86767, -122.25271], [37.87089, -122.26826], [37.86998, -122.29482], [37.85063, -122.27816], [37.87932, -122.27503], [37.85872, -122.25321], [37.86184, -122.26945], [37.87089, -122.26826], [37.8673, -122.26991], [37.87423, -122.27313], [37.8691, -122.26808], [37.86967, -122.28336], [37.8691, -122.26808], [37.88139, -122.28983], [37.87009, -122.28407], [37.86828, -122.296], [37.86393, -122.29412], [37.868, -122.27001], [37.8693, -122.25464], [37.86977, -122.2865], [37.8819, -122.26952], [37.8685, -122.25916], [37.8801, -122.29768], [37.86675, -122.2588], [37.86554, -122.2826], [37.86759, -122.26082], [37.89087, -122.27104], [37.86599, -122.29331], [37.85392, -122.27407], [37.87007, -122.28424], [37.86888, -122.25687], [37.8691, -122.27008], [37.86754, -122.26126], [37.85798, -122.27135], [37.8768, -122.28044], [37.85365, -122.25272], [37.86456, -122.26281], [37.86249, -122.29124], [37.88023, -122.29613], [37.8774, -122.30072], [37.86375, -122.31398], [37.86621, -122.25402], [37.88023, -122.29613], [37.86879, -122.27251], [37.87183, -122.27057], [37.85847, -122.29335], [37.85571, -122.26238], [37.87089, -122.26826], [37.87617, -122.2712], [37.868, -122.27001], [37.85503, -122.2502], [37.86128, -122.26681], [37.87062, -122.27246], [37.85233, -122.27195], [37.85545, -122.25781], [37.87794, -122.27138], [37.87009, -122.28407], [37.87157, -122.27258], [37.88077, -122.2878], [37.84973, -122.27789], [37.86292, -122.25875], [37.87345, -122.29348], [37.86605, -122.26545], [37.87542, -122.27093], [37.87146, -122.30349], [37.87089, -122.26826], [37.85553, -122.26655], [37.87855, -122.26686], [37.90097, -122.26987], [37.85043, -122.27263], [37.86551, -122.26771], [37.86081, -122.28956], [37.8595, -122.28693], [37.86941, -122.28936], [37.85987, -122.28492], [37.8691, -122.26808], [37.86879, -122.27251], [37.86682, -122.2869], [37.87136, -122.29294], [37.86038, -122.2737], [37.86599, -122.29331], [37.85813, -122.27759], [37.88023, -122.29613], [37.8675, -122.2917], [37.88023, -122.29613], [37.86769, -122.25079], [37.868, -122.27001], [37.84793, -122.27063], [37.86652, -122.27476], [37.86912, -122.25089], [37.8615, -122.28543], [37.86889, -122.28607], [37.8725, -122.2865], [37.85058, -122.28591], [37.85658, -122.27506], [37.86879, -122.27251], [37.86751, -122.25405], [37.85076, -122.28629], [37.85351, -122.29175], [37.90435, -122.26957], [37.85351, -122.29175], [37.86826, -122.26952], [37.85658, -122.27506], [37.87882, -122.30411], [37.8766, -122.26777], [37.87054, -122.28699], [37.86764, -122.26749], [37.86879, -122.27251], [37.8819, -122.26952], [37.87504, -122.26544], [37.89445, -122.26546], [37.86373, -122.25371], [37.86941, -122.26787], [37.88059, -122.30472], [37.89842, -122.28563], [37.85987, -122.24923], [37.86058, -122.28696], [37.85892, -122.2639], [37.89192, -122.25335], [37.85577, -122.29008], [37.86372, -122.2952], [37.87914, -122.29258], [37.86907, -122.29929], [37.84793, -122.27063], [37.86081, -122.28956], [37.87993, -122.26983], [37.86969, -122.27259], [37.8719, -122.27076], [37.86438, -122.25853], [37.86347, -122.26956], [37.86662, -122.26107], [37.87841, -122.30607], [37.8766, -122.26777], [37.85429, -122.27106], [37.87168, -122.26608], [37.86908, -122.29925], [37.87035, -122.26782], [37.86781, -122.25902], [37.86879, -122.27251], [37.86508, -122.25776], [37.8615, -122.25593], [37.86996, -122.27058], [37.86292, -122.25875], [37.87009, -122.28407], [37.87168, -122.26608], [37.88182, -122.27039], [37.87513, -122.29306], [37.87009, -122.28407], [37.87542, -122.27093], [37.86605, -122.25848], [37.87009, -122.28407], [37.88075, -122.30297], [37.87361, -122.26857], [37.86111, -122.28951], [37.86419, -122.25637], [37.87136, -122.29294], [37.86338, -122.27191], [37.84932, -122.27979], [37.86771, -122.26591], [37.85733, -122.26896], [37.86566, -122.28262], [37.85622, -122.2596], [37.87049, -122.27102], [37.87246, -122.27294], [37.88048, -122.29587], [37.87065, -122.28964], [37.87492, -122.26758], [37.8675, -122.2806], [37.87089, -122.26826], [37.8673, -122.29975], [37.8638, -122.29406], [37.86549, -122.26977], [37.88346, -122.27104], [37.88212, -122.26728], [37.86785, -122.25869], [37.85641, -122.23864], [37.87089, -122.26826], [37.8801, -122.29768], [37.86837, -122.29408], [37.86659, -122.25394], [37.8985, -122.26712], [37.85976, -122.25684], [37.86928, -122.29698], [37.85824, -122.25317], [37.86759, -122.26082], [37.86785, -122.25869], [37.87009, -122.28407], [37.90097, -122.26987], [37.89149, -122.27007], [37.84793, -122.27063], [37.86556, -122.2539], [37.86165, -122.25573], [37.85703, -122.26036], [37.87009, -122.28407], [37.89481, -122.26838], [37.85955, -122.25905], [37.87731, -122.26407], [37.88025, -122.26903], [37.86156, -122.25473], [37.87089, -122.26826], [37.87219, -122.28192], [37.85341, -122.29096], [37.8801, -122.29768], [37.88075, -122.30297], [37.85814, -122.25439], [37.86675, -122.2588], [37.88358, -122.2597], [37.87769, -122.27368], [37.85978, -122.25454], [37.8691, -122.26808], [37.87493, -122.29859], [37.86977, -122.2865], [37.8801, -122.29768], [37.86184, -122.26945], [37.85703, -122.25306], [37.87865, -122.2607], [37.85545, -122.25988], [37.86785, -122.25869], [37.86756, -122.29872], [37.85836, -122.27892], [37.85534, -122.29225], [37.86746, -122.29285], [37.85763, -122.28968], [37.86187, -122.26228], [37.85091, -122.27616], [37.85974, -122.26746], [37.85553, -122.26655], [37.85828, -122.28246], [37.86578, -122.26088], [37.8819, -122.26952], [37.87504, -122.26544], [37.86292, -122.25875], [37.87009, -122.28407], [37.8785, -122.28374], [37.87784, -122.29971], [37.86062, -122.2471], [37.8667, -122.26557], [37.87209, -122.30021], [37.89133, -122.27999], [37.88032, -122.29664], [37.86076, -122.2781], [37.87089, -122.26826], [37.87993, -122.26983], [37.89267, -122.28652], [37.86165, -122.25573], [37.87049, -122.27102], [37.87128, -122.29503], [37.87783, -122.29854], [37.87089, -122.26826], [37.85545, -122.25988], [37.87126, -122.29408], [37.86996, -122.27058], [37.87144, -122.25277], [37.86078, -122.2851], [37.89426, -122.28159], [37.85622, -122.2596], [37.85268, -122.27654], [37.85824, -122.25317], [37.8691, -122.26808], [37.86128, -122.26681], [37.8813, -122.29004], [37.85987, -122.24923], [37.86837, -122.29408], [37.8801, -122.29768], [37.85365, -122.25272], [37.86917, -122.28395], [37.88025, -122.26903], [37.84991, -122.27278], [37.8801, -122.29768], [37.86678, -122.29618], [37.86945, -122.25231], [37.85784, -122.27971], [37.85448, -122.28187], [37.87054, -122.28699], [37.87079, -122.27854], [37.87811, -122.26912], [37.86922, -122.25462], [37.86292, -122.25875], [37.8713, -122.28213], [37.86907, -122.29189], [37.85963, -122.28011], [37.8585, -122.25302], [37.8819, -122.26952], [37.87125, -122.26754], [37.86292, -122.25875], [37.8768, -122.28044], [37.86639, -122.27587], [37.88023, -122.29613], [37.86659, -122.25394], [37.85192, -122.28347], [37.8532, -122.28137], [37.86652, -122.27476], [37.88023, -122.29613], [37.86381, -122.26739], [37.88594, -122.25884], [37.85211, -122.27384], [37.85733, -122.26896], [37.86756, -122.29872], [37.86292, -122.25875], [37.88023, -122.29613], [37.87168, -122.26608], [37.87108, -122.27633], [37.86851, -122.2678], [37.88277, -122.30011], [37.8819, -122.26952], [37.86764, -122.26749], [37.87935, -122.29964], [37.87894, -122.29342], [37.8698, -122.27178], [37.86996, -122.27058], [37.86795, -122.25797], [37.86693, -122.26578], [37.88363, -122.26973], [37.88303, -122.27428], [37.88032, -122.29664], [37.876, -122.27353], [37.87103, -122.27391], [37.88116, -122.27635], [37.89484, -122.25714], [37.86837, -122.29408], [37.86508, -122.25776], [37.86555, -122.2552], [37.85281, -122.26119], [37.85879, -122.24818], [37.86647, -122.26104], [37.87089, -122.26826], [37.88075, -122.26528], [37.86427, -122.26505], [37.8688, -122.25405], [37.86625, -122.29943], [37.87993, -122.26983], [37.87908, -122.26302], [37.86375, -122.31398], [37.8673, -122.29975], [37.85815, -122.26799], [37.90288, -122.27407], [37.86879, -122.27251], [37.86515, -122.25647], [37.8801, -122.29768], [37.87001, -122.27625], [37.86739, -122.29376], [37.87125, -122.27499], [37.86905, -122.24867], [37.87542, -122.27093], [37.85806, -122.24512], [37.88023, -122.29613], [37.89842, -122.28563], [37.868, -122.27001], [37.85396, -122.28405], [37.86759, -122.26082], [37.87451, -122.27091], [37.8691, -122.27008], [37.87513, -122.29306], [37.85853, -122.28849], [37.86484, -122.26055], [37.86248, -122.279], [37.88765, -122.26547], [37.87302, -122.26848], [37.86764, -122.29875], [37.86675, -122.2588], [37.89468, -122.27504], [37.85102, -122.29111], [37.8702, -122.29371], [37.87718, -122.30298], [37.85365, -122.25272], [37.87089, -122.26826], [37.87013, -122.28154], [37.87013, -122.28154], [37.85775, -122.28656], [37.86759, -122.26082], [37.85533, -122.27333], [37.86521, -122.27201], [37.87089, -122.26826], [37.84981, -122.26979], [37.87553, -122.30483], [37.89911, -122.27728], [37.89347, -122.2722], [37.87125, -122.27499], [37.86292, -122.25875], [37.86635, -122.30553], [37.87607, -122.28009], [37.8819, -122.26952], [37.86817, -122.24204], [37.86288, -122.28989], [37.87993, -122.26983], [37.86724, -122.25621], [37.22957, -121.88464], [37.86203, -122.31701], [37.868, -122.27001], [37.86427, -122.26505], [37.86518, -122.26529], [37.87009, -122.28407], [37.85972, -122.28507], [37.8819, -122.26952], [37.87851, -122.2954], [37.88708, -122.27834], [37.85984, -122.25578], [37.86943, -122.2677], [37.86828, -122.296], [37.86375, -122.31398], [37.87837, -122.26268], [37.8527, -122.24916], [37.88102, -122.29319], [37.86973, -122.27955], [37.85903, -122.27775], [37.86659, -122.25394], [37.86633, -122.26316], [37.87692, -122.26556], [37.86746, -122.29285], [37.85492, -122.27914], [37.86511, -122.25848], [37.86378, -122.28302], [37.86034, -122.28056], [37.86759, -122.26082], [37.85853, -122.28849], [37.87129, -122.3005], [37.86078, -122.2851], [37.87949, -122.27505], [37.86785, -122.25869], [37.88002, -122.29809], [37.85824, -122.25317], [37.88224, -122.30223], [37.87632, -122.27104], [37.86602, -122.30054], [37.86605, -122.25848], [37.86932, -122.29809], [37.85838, -122.2669], [37.87993, -122.26983], [37.86969, -122.27259], [37.85616, -122.27116], [37.86603, -122.25865], [37.8691, -122.26808], [37.88075, -122.30297], [37.86907, -122.29189], [37.89129, -122.27822], [37.87752, -122.26269], [37.87009, -122.28407], [37.85998, -122.25108], [37.87241, -122.29798], [37.86292, -122.25875], [37.88326, -122.27316], [37.87094, -122.28209], [37.87553, -122.30483], [37.87183, -122.27057], [37.86672, -122.2888], [37.86235, -122.24968], [37.8801, -122.29768], [37.8691, -122.26808], [37.87322, -122.29353], [37.8597, -122.25332], [37.88966, -122.27018], [37.87009, -122.28407], [37.85969, -122.25577], [37.86851, -122.2678], [37.8554, -122.26453], [37.86482, -122.26072], [37.89461, -122.27605], [37.87738, -122.25698], [37.86967, -122.28336], [37.86292, -122.25875], [37.85164, -122.28921], [37.86953, -122.26593], [37.86769, -122.26222], [37.87322, -122.29353], [37.87914, -122.29258], [37.86196, -122.27614], [37.87361, -122.26857], [37.8662, -122.29128], [37.8691, -122.26808], [37.85743, -122.25951], [37.87089, -122.26826], [37.86292, -122.25875], [37.85074, -122.29504], [37.86996, -122.27058], [37.8667, -122.26557], [37.85178, -122.27639], [37.85972, -122.28507], [37.86112, -122.27384], [37.87078, -122.28965], [37.8549, -122.25804], [37.86635, -122.30553], [37.89985, -122.28261], [37.86511, -122.25848], [37.85406, -122.26427], [37.85815, -122.26799], [37.89212, -122.27983], [37.8662, -122.29128], [37.86058, -122.28696], [37.86862, -122.28827], [37.87624, -122.26925], [37.86612, -122.29939], [37.86203, -122.31701], [37.87814, -122.29747], [37.87322, -122.29353], [37.86567, -122.28157], [37.86432, -122.28639], [37.86081, -122.28956], [37.86977, -122.2865], [37.86945, -122.25231], [37.88023, -122.29613], [37.86168, -122.26964], [37.87089, -122.26826], [37.8691, -122.27008], [37.84746, -122.28117], [37.8691, -122.27008], [37.86725, -122.26326], [37.88307, -122.29117], [37.86851, -122.2678], [37.87479, -122.29616], [37.8691, -122.26808], [37.85091, -122.27616], [37.86727, -122.30058], [37.86323, -122.25871], [37.8692, -122.26929], [37.86725, -122.26326], [37.87028, -122.26827], [37.86851, -122.2678], [37.8691, -122.27008], [37.87089, -122.26826], [37.8801, -122.29768], [37.8763, -122.28307], [37.86222, -122.27388], [37.89983, -122.27977], [37.86602, -122.30054], [37.87608, -122.30613], [37.86794, -122.2977], [37.89322, -122.28363], [37.86879, -122.27251], [37.85685, -122.26479], [37.86969, -122.27259], [37.86245, -122.29039], [37.86492, -122.26722], [37.85133, -122.27274], [37.86581, -122.25045], [37.8549, -122.25804], [37.85976, -122.29625], [37.87652, -122.29161], [37.86255, -122.2626], [37.85695, -122.29183], [37.87837, -122.26268], [37.86575, -122.30193], [37.85806, -122.25572], [37.86899, -122.27091], [37.86633, -122.25636], [37.84886, -122.27774], [37.87483, -122.26371], [37.86751, -122.25195], [37.87264, -122.29274], [37.86879, -122.27251], [37.85615, -122.26875], [37.85972, -122.28507], [37.8703, -122.27499], [37.86292, -122.25875], [37.87089, -122.26826], [37.86977, -122.2865], [37.87696, -122.26035], [37.873, -122.2946], [37.87794, -122.27138], [37.87125, -122.27499], [37.86441, -122.25852], [37.86175, -122.29567], [37.86662, -122.29724], [37.88059, -122.30472], [37.86515, -122.25647], [37.86297, -122.27437], [37.8691, -122.27008], [37.86664, -122.2609], [37.86751, -122.25405], [37.87089, -122.26826], [37.86424, -122.26527], [37.85743, -122.25951], [37.88552, -122.27484], [37.87346, -122.27088], [37.8802, -122.26936], [37.86128, -122.26681], [37.87553, -122.30483], [37.86603, -122.25865], [37.8684, -122.27386], [37.84641, -122.27525], [37.85879, -122.24818], [37.86837, -122.29408], [37.85295, -122.26622], [37.86966, -122.28531], [37.86881, -122.29212], [37.86574, -122.25159], [37.88552, -122.27484], [37.89381, -122.26623], [37.87694, -122.28857], [37.88306, -122.27918], [37.87232, -122.29909], [37.86952, -122.27966], [37.86879, -122.27251], [37.89842, -122.28563], [37.86508, -122.25776], [37.85597, -122.27131], [37.87993, -122.26983], [37.8511, -122.27857], [37.86785, -122.25869], [37.86664, -122.2609], [37.87322, -122.29353], [37.87, -122.2774], [37.86287, -122.28909], [37.87245, -122.27311], [37.85978, -122.25454], [37.86578, -122.26088], [37.88811, -122.25081], [37.87993, -122.26983], [37.84845, -122.27361], [37.86907, -122.29189], [37.8814, -122.30069], [37.86964, -122.30421], [37.8801, -122.29768], [37.87648, -122.25683], [37.86002, -122.26942], [37.86574, -122.25159], [37.88489, -122.24851], [37.87902, -122.2772], [37.89702, -122.28424], [37.88027, -122.26816], [37.87767, -122.28161], [37.86966, -122.2728], [37.86643, -122.30037], [37.87123, -122.26771], [37.86794, -122.2977], [37.88358, -122.2597], [37.85743, -122.25951], [37.87089, -122.26826], [37.8732, -122.29221], [37.87078, -122.28965], [37.86999, -122.30064], [37.8585, -122.25078], [37.85776, -122.28972], [37.87019, -122.29255], [37.86725, -122.26326], [37.87287, -122.27543], [37.86996, -122.27058], [37.89641, -122.28515], [37.86232, -122.26483], [37.86928, -122.29698], [37.86076, -122.2781], [37.86875, -122.25904], [37.85938, -122.28188], [37.87794, -122.27138], [37.84792, -122.27784], [37.85849, -122.25319], [37.86367, -122.26263], [37.86401, -122.28022], [37.86722, -122.29396], [37.86788, -122.26566], [37.87089, -122.26826], [37.87302, -122.27527], [37.85492, -122.27914], [37.88318, -122.29661], [37.88576, -122.27802], [37.8801, -122.29768], [37.8801, -122.29768], [37.86367, -122.26263], [37.85417, -122.27899], [37.87322, -122.29353], [37.87054, -122.28699], [37.85824, -122.25317], [37.87481, -122.26846], [37.87418, -122.26613], [37.8799, -122.29712], [37.86795, -122.25797], [37.87253, -122.28344], [37.86612, -122.29939], [37.86605, -122.26545], [37.85351, -122.29175], [37.87865, -122.28295], [37.87089, -122.26826], [37.87081, -122.29731], [37.87009, -122.28407], [37.87882, -122.30411], [37.87264, -122.29274], [37.8604, -122.27353], [37.84975, -122.29217], [37.86233, -122.25883], [37.86359, -122.28324], [37.88203, -122.29671], [37.86727, -122.30058], [37.87089, -122.26826], [37.86996, -122.27058], [37.86759, -122.26082], [37.85604, -122.288], [37.86837, -122.29408], [37.86102, -122.25109], [37.85411, -122.25613], [37.86551, -122.26771], [37.85708, -122.27758], [37.86672, -122.2888], [37.8685, -122.25916], [37.87429, -122.2974], [37.87705, -122.30294], [37.85521, -122.25988], [37.87814, -122.29747], [37.8805, -122.29762], [37.86323, -122.25871], [37.86203, -122.31701], [37.8591, -122.29016], [37.85178, -122.27639], [37.8691, -122.27008], [37.86203, -122.31701], [37.86492, -122.26722], [37.88089, -122.29383], [37.86969, -122.27259], [37.85615, -122.26875], [37.8819, -122.26952], [37.86335, -122.26505], [37.89033, -122.26695], [37.87855, -122.26686], [37.87125, -122.27499], [37.87125, -122.27499], [37.8763, -122.27122], [37.86932, -122.29809], [37.85938, -122.28188], [37.8889, -122.25383], [37.88106, -122.29231], [37.86239, -122.27866], [37.86781, -122.25902], [37.87183, -122.27057], [37.86907, -122.29189], [37.86871, -122.26626], [37.85622, -122.2596], [37.85743, -122.25951], [37.86785, -122.25869], [37.86969, -122.27259], [37.87674, -122.26665], [37.87773, -122.3094], [37.88131, -122.27409], [37.8693, -122.25464], [37.85828, -122.28246], [37.85238, -122.26598], [37.85365, -122.25272], [37.85553, -122.26655], [37.87125, -122.27499], [37.87454, -122.27774], [37.88002, -122.29809], [37.8818, -122.29863], [37.8537, -122.28726], [37.85957, -122.27335], [37.88032, -122.29664], [37.86969, -122.27259], [37.87089, -122.26826], [37.86525, -122.29568], [37.87811, -122.26912], [37.87361, -122.26857], [37.88784, -122.26999], [37.90336, -122.26734], [37.85733, -122.26896], [37.85849, -122.25319], [37.86686, -122.28562], [37.8522, -122.28638], [37.89422, -122.26046], [37.86292, -122.25875], [37.87019, -122.29255], [37.85687, -122.27985], [37.87219, -122.28192], [37.86682, -122.2869], [37.85431, -122.27089], [37.87136, -122.29294], [37.86879, -122.27251], [37.8528, -122.26811], [37.88346, -122.27104], [37.86376, -122.295], [37.87174, -122.3012], [37.8801, -122.29768], [37.86538, -122.25649], [37.86426, -122.29182], [37.88121, -122.29147], [37.87089, -122.26826], [37.8625, -122.30041], [37.85824, -122.25317], [37.85828, -122.28246], [37.87894, -122.29342], [37.85512, -122.26777], [37.87019, -122.29255], [37.88203, -122.29671], [37.86373, -122.25371], [37.88059, -122.30472], [37.87652, -122.29161], [37.87009, -122.28407], [37.8801, -122.29768], [37.87705, -122.30294], [37.86923, -122.25015], [37.86201, -122.26719], [37.88075, -122.30297], [37.85488, -122.26208], [37.86759, -122.26082], [37.87479, -122.26757], [37.8691, -122.27008], [37.86107, -122.27597], [37.89135, -122.27957], [37.84991, -122.29152], [37.87713, -122.29691], [37.89212, -122.27983], [37.8673, -122.26991], [37.855, -122.27719], [37.8479, -122.27084], [37.88059, -122.30472], [37.86923, -122.2691], [37.86373, -122.25371], [37.86309, -122.27415], [37.86281, -122.29832], [37.8685, -122.25916], [37.86052, -122.26448], [37.87065, -122.28964], [37.86551, -122.26771], [37.84967, -122.28102], [37.86996, -122.27058], [37.89133, -122.27999], [37.86835, -122.27501], [37.85043, -122.27263], [37.86816, -122.29661], [37.87814, -122.29747], [37.89694, -122.26162], [37.88146, -122.27393], [37.87766, -122.27481], [37.86817, -122.2637], [37.86576, -122.29352], [37.89842, -122.28563], [37.87894, -122.30349], [37.87089, -122.26826], [37.86899, -122.27091], [37.86682, -122.2869], [37.87009, -122.28407], [37.86581, -122.25045], [37.87361, -122.26857], [37.86381, -122.26739], [37.86051, -122.28029], [37.86184, -122.26945], [37.86645, -122.26962], [37.88643, -122.2624], [37.87066, -122.27957], [37.86635, -122.25619], [37.90143, -122.27674], [37.86547, -122.26299], [37.85796, -122.27152], [37.86879, -122.27251], [37.89048, -122.25678], [37.86759, -122.26082], [37.86427, -122.26505], [37.8584, -122.27541], [37.86945, -122.25231], [37.84641, -122.27525], [37.86662, -122.29724], [37.8522, -122.28638], [37.85969, -122.25577], [37.85346, -122.26007], [37.87161, -122.28432], [37.86375, -122.31398], [37.87013, -122.28154], [37.88203, -122.29671], [37.86754, -122.26126], [37.86551, -122.26771], [37.85582, -122.24713], [37.86633, -122.25636], [37.86468, -122.26069], [37.84973, -122.27789], [37.85604, -122.288], [37.87565, -122.28968], [37.88027, -122.26816], [37.87361, -122.26857], [37.87089, -122.26826], [37.86196, -122.27614], [37.88216, -122.28097], [37.88203, -122.29671], [37.86441, -122.25852], [37.86785, -122.25869], [37.87125, -122.27499], [37.85121, -122.28912], [37.86879, -122.27251], [37.85492, -122.27914], [37.85622, -122.2596], [37.87361, -122.26857], [37.8667, -122.26557], [37.86816, -122.25632], [37.86441, -122.25852], [37.85824, -122.25317], [37.86373, -122.25371], [37.85622, -122.2596], [37.87773, -122.3094], [37.86096, -122.24727], [37.86249, -122.26458], [37.86288, -122.28989], [37.85152, -122.29644], [37.87293, -122.29603], [37.85622, -122.2596], [37.86265, -122.27651], [37.85622, -122.2596], [37.88788, -122.27236], [37.86281, -122.29832], [37.862, -122.2944], [37.8774, -122.30072], [37.88075, -122.30297], [37.86976, -122.29475], [37.8586, -122.25114], [37.87814, -122.29747], [37.86996, -122.27058], [37.86427, -122.26505], [37.87089, -122.26826], [37.8691, -122.27008], [37.85582, -122.24713], [37.87089, -122.26826], [37.88037, -122.26707], [37.8691, -122.27008], [37.87042, -122.2925], [37.85108, -122.29096], [37.86725, -122.26326], [37.84848, -122.2806], [37.86523, -122.31119], [37.87659, -122.30518], [37.86605, -122.25848], [37.88129, -122.2524], [37.8804, -122.26817], [37.86002, -122.26942], [37.87041, -122.28794], [37.87174, -122.3012], [37.87136, -122.29294], [37.88134, -122.25398], [37.87784, -122.29971], [37.86585, -122.26703], [37.87478, -122.26875], [37.86232, -122.26483], [37.86506, -122.29778], [37.86996, -122.27058], [37.85743, -122.25951], [37.87553, -122.30483], [37.86034, -122.28056], [37.86249, -122.26458], [37.87689, -122.26649], [37.85622, -122.2596], [37.88059, -122.30472], [37.85648, -122.25742], [37.85775, -122.28656], [37.85146, -122.25184], [37.86081, -122.28956], [37.85824, -122.25317], [37.85351, -122.29175], [37.85295, -122.26622], [37.87057, -122.27291], [37.87089, -122.26826], [37.8667, -122.26557], [37.87624, -122.26925], [37.86633, -122.25636], [37.87781, -122.28285], [37.86767, -122.25271], [37.87089, -122.26826], [37.88203, -122.29671], [37.85597, -122.27131], [37.86567, -122.25272], [37.86668, -122.27478], [37.87283, -122.26961], [37.85676, -122.25525], [37.88364, -122.27106], [37.87263, -122.29686], [37.86672, -122.2888], [37.8819, -122.26952], [37.87065, -122.28964], [37.86556, -122.2539], [37.86879, -122.27251], [37.87624, -122.26925], [37.87161, -122.28432], [37.88002, -122.29809], [37.8597, -122.25332], [37.88023, -122.29613], [37.86675, -122.2588], [37.8554, -122.26453], [37.86879, -122.27251], [37.86288, -122.28989], [37.8819, -122.26952], [37.86203, -122.31701], [37.85492, -122.27914], [37.868, -122.27001], [37.87674, -122.26665], [37.86292, -122.25875], [37.87484, -122.27548], [37.86645, -122.26962], [37.8584, -122.27541], [37.86052, -122.29179], [37.85351, -122.29175], [37.87009, -122.28407], [37.86427, -122.26505], [37.86907, -122.29189], [37.8691, -122.27008], [37.85416, -122.25958], [37.85153, -122.29124], [37.87009, -122.28407], [37.87168, -122.30236], [37.88816, -122.27631], [37.86433, -122.27878], [37.87089, -122.26826], [37.86042, -122.29294], [37.8734, -122.28679], [37.87479, -122.26757], [37.87602, -122.27336], [37.86547, -122.26299], [37.89133, -122.27999], [37.86969, -122.27259], [37.86596, -122.29591], [37.85518, -122.26736], [37.88941, -122.27885], [37.86682, -122.2869], [37.85275, -122.26164], [37.87334, -122.28006], [37.86468, -122.26069], [37.85568, -122.28122], [37.87322, -122.29353], [37.8743, -122.2986], [37.85987, -122.24923], [37.86367, -122.26263], [37.87478, -122.26875], [37.87624, -122.26925], [37.87423, -122.27313], [37.88203, -122.29671], [37.88435, -122.2468], [37.89649, -122.27734], [37.86943, -122.2677], [37.85972, -122.28507], [37.87322, -122.29353], [37.86881, -122.29212], [37.86899, -122.27091], [37.84818, -122.27565], [37.87782, -122.30893], [37.86051, -122.28029], [37.87361, -122.26857], [37.86424, -122.26527], [37.86735, -122.25426], [37.85469, -122.2794], [37.85062, -122.2708], [37.88673, -122.28237], [37.87009, -122.28407], [37.8557, -122.27425], [37.85685, -122.26577], [37.85741, -122.23703], [37.87778, -122.2588], [37.87089, -122.26826], [37.90097, -122.26987], [37.85314, -122.26406], [37.86569, -122.25391], [37.85938, -122.28188], [37.88716, -122.27588], [37.86881, -122.29212], [37.87992, -122.28527], [37.8691, -122.26808], [37.86881, -122.29212], [37.86491, -122.28844], [37.86675, -122.2588], [37.87123, -122.26771], [37.8801, -122.29768], [37.88098, -122.29337], [37.85071, -122.27045], [37.87009, -122.28407], [37.88566, -122.26895], [37.87298, -122.30507], [37.88086, -122.29314], [37.8801, -122.29768], [37.86806, -122.27834], [37.88159, -122.29975], [37.88023, -122.29613], [37.87089, -122.26826], [37.8801, -122.29768], [37.86737, -122.24945], [37.86853, -122.26763], [37.87174, -122.3012], [37.85752, -122.23804], [37.86081, -122.28956], [37.87125, -122.27499], [37.87437, -122.30444], [37.86542, -122.25616], [37.90123, -122.2663], [37.8593, -122.25925], [37.85337, -122.26396], [37.87542, -122.27093], [37.86574, -122.25159], [37.86881, -122.29212], [37.86749, -122.26724], [37.86837, -122.29408], [37.87532, -122.29226], [37.86709, -122.28392], [37.86781, -122.25902], [37.87174, -122.3012], [37.86751, -122.25195], [37.86751, -122.25195], [37.87095, -122.27732], [37.85814, -122.25439], [37.85058, -122.28591], [37.85842, -122.25689], [37.86375, -122.31398], [37.87089, -122.26826], [37.8819, -122.26952], [37.87424, -122.3044], [37.86905, -122.24867], [37.85836, -122.27892], [37.85153, -122.28541], [37.87028, -122.26827], [37.85763, -122.28225], [37.87372, -122.26977], [37.86851, -122.2678], [37.86759, -122.26082], [37.8691, -122.27008], [37.85969, -122.25577], [37.85222, -122.27303], [37.8685, -122.25916], [37.86292, -122.25875], [37.87026, -122.27287], [37.86853, -122.26763], [37.86751, -122.25405], [37.88173, -122.30681], [37.86375, -122.31398], [37.86682, -122.2869], [37.86845, -122.26127], [37.86006, -122.2893], [37.87454, -122.27774], [37.84873, -122.27153], [37.85824, -122.25317], [37.86845, -122.26127], [37.86969, -122.27259], [37.86081, -122.28956], [37.8769, -122.25598], [37.85615, -122.26875], [37.87346, -122.27088], [37.85892, -122.2639], [37.87834, -122.30573], [37.8801, -122.29768], [37.85545, -122.25988], [37.85043, -122.27263], [37.87993, -122.26983], [37.86816, -122.25632], [37.8801, -122.29768], [37.86184, -122.26945], [37.87001, -122.268], [37.86836, -122.2543], [37.86605, -122.25848], [37.89094, -122.28699], [37.86605, -122.25848], [37.85545, -122.25988], [37.86292, -122.25875], [37.86599, -122.29331], [37.88238, -122.29092], [37.86675, -122.2588], [37.85891, -122.29109], [37.87591, -122.2603], [37.87705, -122.2849], [37.86759, -122.26082], [37.85687, -122.27985], [37.86645, -122.26962], [37.87009, -122.28407], [37.84981, -122.26979], [37.87009, -122.28407], [37.85153, -122.28541], [37.87652, -122.29161], [37.85975, -122.25701], [37.87669, -122.29916], [37.86907, -122.29189], [37.86292, -122.25875], [37.86155, -122.29662], [37.87993, -122.26983], [37.8691, -122.26808], [37.86376, -122.26897], [37.86759, -122.26082], [37.86345, -122.25613], [37.8712, -122.26795], [37.868, -122.27001], [37.87089, -122.26826], [37.88027, -122.26816], [37.89268, -122.2815], [37.85531, -122.26635], [37.85733, -122.26896], [37.86338, -122.27191], [37.86239, -122.24888], [37.86951, -122.28952], [37.86292, -122.25875], [37.86184, -122.26945], [37.87778, -122.2588], [37.88678, -122.2549], [37.86441, -122.25852], [37.85929, -122.27563], [37.87451, -122.27091], [37.87479, -122.29616], [37.86769, -122.25079], [37.87089, -122.26826], [37.8539, -122.25241], [37.87089, -122.26826], [37.88187, -122.26836], [37.85647, -122.26755], [37.86141, -122.2533], [37.86383, -122.28137], [37.84932, -122.27979], [37.86672, -122.2888], [37.86862, -122.28827], [37.89855, -122.26568], [37.87532, -122.29226], [37.8679, -122.24991], [37.86049, -122.25583], [37.86967, -122.28336], [37.87089, -122.26826], [37.8727, -122.2777], [37.87125, -122.27499], [37.85648, -122.25742], [37.87009, -122.28407], [37.86245, -122.29039], [37.87624, -122.26925], [37.86973, -122.27955], [37.8597, -122.25332], [37.8675, -122.2806], [37.86756, -122.29872], [37.88016, -122.28228], [37.87478, -122.26875], [37.87009, -122.28407], [37.86481, -122.29896], [37.8679, -122.24991], [37.87564, -122.28342], [37.8597, -122.25332], [37.85957, -122.27335], [37.86633, -122.25636], [37.85698, -122.29285], [37.86851, -122.2678], [37.86054, -122.27831], [37.87778, -122.2588], [37.8584, -122.27541], [37.85507, -122.26677], [37.86977, -122.2865], [37.86347, -122.26956], [37.86375, -122.31398], [37.87269, -122.27057], [37.88615, -122.26433], [37.88185, -122.28158], [37.86364, -122.26985], [37.85507, -122.26677], [37.86941, -122.28936], [37.86966, -122.2728], [37.86871, -122.26626], [37.8691, -122.27008], [37.85853, -122.29304], [37.87411, -122.27787], [37.88075, -122.30297], [37.88046, -122.26591], [37.86281, -122.29832], [37.86826, -122.26952], [37.86292, -122.25875], [37.86836, -122.2543], [37.84913, -122.27575], [37.87993, -122.26983], [37.85571, -122.26238], [37.87841, -122.30607], [37.87591, -122.2603], [37.85308, -122.28134], [37.84913, -122.27575], [37.86977, -122.2865], [37.85963, -122.28011], [37.86338, -122.25744], [37.86645, -122.26962], [37.89381, -122.26623], [37.84847, -122.27344], [37.84795, -122.27754], [37.88458, -122.25465], [37.87659, -122.30518], [37.85838, -122.2669], [37.8785, -122.28374], [37.87401, -122.28212], [37.87089, -122.26826], [37.85607, -122.2793], [37.85824, -122.25317], [37.84845, -122.27361], [37.89484, -122.25714], [37.86836, -122.2543], [37.86292, -122.25875], [37.85987, -122.24923], [37.86861, -122.28728], [37.88311, -122.25183], [37.86633, -122.25636], [37.87516, -122.28011], [37.86943, -122.2677], [37.86941, -122.28936], [37.87386, -122.30077], [37.86915, -122.2841], [37.86281, -122.29832], [37.8801, -122.29768], [37.89012, -122.27664], [37.86441, -122.25852], [37.86492, -122.26722], [37.8754, -122.2711], [37.86375, -122.31398], [37.86725, -122.26326], [37.85798, -122.27135], [37.86771, -122.26591], [37.8585, -122.25302], [37.86899, -122.27091], [37.87013, -122.3173], [37.86875, -122.28617], [37.87049, -122.28737], [37.88535, -122.27131], [37.87347, -122.29331], [37.8691, -122.27008], [37.84837, -122.28134], [37.86771, -122.26591], [37.86722, -122.29396], [37.86853, -122.26763], [37.87865, -122.29106], [37.86441, -122.25852], [37.85237, -122.27875], [37.86347, -122.26956], [37.87674, -122.26665], [37.86292, -122.25875], [37.85402, -122.26939], [37.88306, -122.27918], [37.86759, -122.26082], [37.86441, -122.25852], [37.88358, -122.2597], [37.8673, -122.26991], [37.86922, -122.25462], [37.87742, -122.30174], [37.89192, -122.25335], [37.87009, -122.28407], [37.87645, -122.29426], [37.86879, -122.27251], [37.89742, -122.28126], [37.86128, -122.25982], [37.8816, -122.25226], [37.87624, -122.26925], [37.87298, -122.30507], [37.85063, -122.27816], [37.86675, -122.2588], [37.86594, -122.25046], [37.86853, -122.26763], [37.86907, -122.29189], [37.88075, -122.30297], [37.86662, -122.26107], [37.86756, -122.29872], [37.88023, -122.29613], [37.86923, -122.25015], [37.84932, -122.27979], [37.86292, -122.25875], [37.85492, -122.27914], [37.87624, -122.26925], [37.8675, -122.2917], [37.86441, -122.25852], [37.88326, -122.27316], [37.87811, -122.26912], [37.86288, -122.28989], [37.86635, -122.25619], [37.89515, -122.27066], [37.86845, -122.26127], [37.87637, -122.26229], [37.85445, -122.29658], [37.85224, -122.26715], [37.87305, -122.30402], [37.90097, -122.26987], [37.86899, -122.27091], [37.84845, -122.27361], [37.85972, -122.28507], [37.86197, -122.28287], [37.88182, -122.27039], [37.86292, -122.25875], [37.86603, -122.25865], [37.85815, -122.26799], [37.86785, -122.25869], [37.86996, -122.27058], [37.8597, -122.25332], [37.87064, -122.27975], [37.85622, -122.2596], [37.86725, -122.26326], [37.89033, -122.26695], [37.87095, -122.27732], [37.87152, -122.273], [37.87089, -122.26826], [37.87264, -122.29274], [37.87283, -122.26961], [37.86278, -122.26238], [37.88318, -122.29661], [37.87399, -122.2675], [37.86292, -122.25875], [37.87322, -122.29353], [37.87174, -122.3012], [37.87015, -122.27515], [37.84836, -122.27163], [37.87901, -122.26461], [37.87361, -122.26857], [37.85974, -122.26746], [37.87361, -122.26857], [37.86292, -122.25875], [37.86551, -122.26771], [37.86551, -122.26771], [37.86582, -122.26048], [37.86907, -122.29189], [37.87694, -122.28857], [37.86574, -122.2534], [37.88023, -122.29613], [37.87637, -122.26229], [37.86905, -122.29206], [37.85461, -122.28026], [37.89768, -122.26067], [37.86184, -122.26945], [37.85578, -122.25274], [37.86526, -122.29679], [37.87427, -122.27999], [37.87553, -122.30483], [37.86785, -122.25869], [37.87513, -122.29306], [37.89107, -122.28029], [37.85622, -122.2596], [37.8691, -122.27008], [37.87935, -122.29964], [37.87994, -122.27056], [37.86375, -122.31398], [37.87089, -122.26826], [37.88066, -122.30221], [37.88192, -122.29072], [37.86851, -122.2678], [37.88167, -122.29859], [37.85974, -122.26746], [37.85446, -122.27695], [37.86675, -122.2588], [37.8659, -122.2656], [37.8689, -122.30029], [37.87932, -122.27503], [37.8593, -122.25925], [37.86836, -122.28932], [37.85978, -122.25454], [37.85058, -122.28591], [37.84873, -122.27153], [37.85614, -122.2405], [37.87888, -122.2588], [37.85733, -122.26896], [37.87994, -122.27056], [37.85808, -122.28853], [37.86953, -122.26593], [37.87035, -122.28202], [37.89833, -122.2827], [37.868, -122.27001], [37.89911, -122.27728], [37.87429, -122.2974], [37.88203, -122.29671], [37.87329, -122.27211], [37.86941, -122.28936], [37.86912, -122.25089], [37.86127, -122.25897], [37.86556, -122.2539], [37.8702, -122.29962], [37.88765, -122.26547], [37.87624, -122.26925], [37.88785, -122.26282], [37.86943, -122.2677], [37.87624, -122.26925], [37.88023, -122.29613], [37.85622, -122.2596], [37.86881, -122.29212], [37.8578, -122.25695], [37.88716, -122.27588], [37.87089, -122.26826], [37.86344, -122.2563], [37.87624, -122.26925], [37.86888, -122.25687], [37.8691, -122.26808], [37.87841, -122.26914], [37.85565, -122.25636], [37.85545, -122.25988], [37.86152, -122.25114], [37.8598, -122.2444], [37.86292, -122.25875], [37.8662, -122.29128], [37.85815, -122.26799], [37.86292, -122.25875], [37.8831, -122.26164], [37.8522, -122.28638], [37.86011, -122.2619], [37.87322, -122.29353], [37.86203, -122.31701], [37.85295, -122.26622], [37.8615, -122.28543], [37.84954, -122.27228], [37.86219, -122.26691], [37.86426, -122.29182], [37.8667, -122.26557], [37.86184, -122.26945], [37.85504, -122.28658], [37.8675, -122.2917], [37.86879, -122.27251], [37.86574, -122.2534], [37.85559, -122.28302], [37.87879, -122.30345], [37.8524, -122.27857], [37.87125, -122.27499], [37.87652, -122.29161], [37.87754, -122.2625], [37.85566, -122.25498], [37.85469, -122.2794], [37.87979, -122.30618], [37.86737, -122.24945], [37.86366, -122.29015], [37.86484, -122.26055], [37.87968, -122.26582], [37.86645, -122.26962], [37.86338, -122.27191], [37.85528, -122.27705], [37.85735, -122.28443], [37.86232, -122.26483], [37.85181, -122.29359], [37.87161, -122.27969], [37.88032, -122.29664], [37.85445, -122.29658], [37.86639, -122.27703], [37.87219, -122.28192], [37.86759, -122.26082], [37.86127, -122.25897], [37.89328, -122.28029], [37.86759, -122.26082], [37.87465, -122.26873], [37.87567, -122.26885], [37.86574, -122.25159], [37.89842, -122.28563], [37.86555, -122.2552], [37.87838, -122.29636], [37.87361, -122.26857], [37.86605, -122.26545], [37.86575, -122.30193], [37.85292, -122.29172], [37.88159, -122.29975], [37.8691, -122.27008], [37.86961, -122.2959], [37.87834, -122.30573], [37.86052, -122.29179], [37.87626, -122.2624], [37.855, -122.27719], [37.86659, -122.25394], [37.86441, -122.25852], [37.87451, -122.27091], [37.85332, -122.27873], [37.87483, -122.30084], [37.87545, -122.27783], [37.85431, -122.27089], [37.86928, -122.29698], [37.86222, -122.27388], [37.85824, -122.25317], [37.86506, -122.29778], [37.85622, -122.2596], [37.86468, -122.26069], [37.85938, -122.28188], [37.87089, -122.26826], [37.85955, -122.25905], [37.85733, -122.26896], [37.86078, -122.2851], [37.86542, -122.25616], [37.86292, -122.25875], [37.86759, -122.26082], [37.85351, -122.29175], [37.86222, -122.27388], [37.87515, -122.29416], [37.86383, -122.28137], [37.87043, -122.29929], [37.8615, -122.25593], [37.85929, -122.27563], [37.89911, -122.27728], [37.85815, -122.26799], [37.86375, -122.31398], [37.87298, -122.30507], [37.84803, -122.2758], [37.85559, -122.28302], [37.86184, -122.26945], [37.88032, -122.29664], [37.87287, -122.28232], [37.88059, -122.30472], [37.85648, -122.25742], [37.86292, -122.25875], [37.87128, -122.29503], [37.86023, -122.29389], [37.84795, -122.27754], [37.87055, -122.29157], [37.84873, -122.27153], [37.90103, -122.26649], [37.8673, -122.29975], [37.87009, -122.28407], [37.88251, -122.28715], [37.85062, -122.2708], [37.86203, -122.31701], [37.85636, -122.29164], [37.86837, -122.29408], [37.86427, -122.26505], [37.86474, -122.25849], [37.86292, -122.25875], [37.88177, -122.27068], [37.86867, -122.30143], [37.8725, -122.2865], [37.88108, -122.26147], [37.87089, -122.26826], [37.86292, -122.25875], [37.87168, -122.26608], [37.86751, -122.25195], [37.87298, -122.30507], [37.8819, -122.26952], [37.86735, -122.25426], [37.86727, -122.30058], [37.8564, -122.2597], [37.86672, -122.2888], [37.88086, -122.29314], [37.90418, -122.2725], [37.88324, -122.26851], [37.86339, -122.25499], [37.85142, -122.28099], [37.87483, -122.26371], [37.86836, -122.2543], [37.85365, -122.25272], [37.86485, -122.25382], [37.86574, -122.2534], [37.86996, -122.27058], [37.86475, -122.29786], [37.87089, -122.26826], [37.8691, -122.26808], [37.88981, -122.25221], [37.89925, -122.26513], [37.88203, -122.29671], [37.868, -122.27001], [37.87125, -122.27499], [37.87411, -122.27386], [37.88023, -122.29613], [37.86645, -122.26962], [37.86664, -122.2609], [37.86475, -122.29786], [37.8819, -122.26952], [37.85164, -122.28921], [37.88032, -122.29664], [37.86966, -122.2728], [37.8801, -122.29768], [37.86845, -122.26127], [37.87506, -122.29996], [37.86699, -122.2958], [37.89377, -122.28098], [37.86476, -122.28858], [37.85929, -122.27563], [37.8494, -122.27817]],\n",
       "                {\n",
       "  &quot;minOpacity&quot;: 0.5,\n",
       "  &quot;maxZoom&quot;: 18,\n",
       "  &quot;radius&quot;: 10,\n",
       "  &quot;blur&quot;: 15,\n",
       "}\n",
       "            );\n",
       "        \n",
       "    \n",
       "            heat_map_7cd030ab0800efd968dab3ba747e6a17.addTo(map_9cdeccfd89b364ef9a11cbe9f53397ae);\n",
       "        \n",
       "&lt;/script&gt;\n",
       "&lt;/html&gt;\" style=\"position:absolute;width:100%;height:100%;left:0;top:0;border:none !important;\" allowfullscreen webkitallowfullscreen mozallowfullscreen></iframe></div></div>"
      ],
      "text/plain": [
       "<folium.folium.Map at 0x213fc46a270>"
      ]
     },
     "execution_count": 36,
     "metadata": {},
     "output_type": "execute_result"
    }
   ],
   "source": [
    "# Run this cell to generate the interactive plot, no further code is needed.\n",
    "import folium\n",
    "import folium.plugins\n",
    "\n",
    "BERKELEY_COORDINATES = (37.87, -122.28)\n",
    "berkeley_map = folium.Map(location=BERKELEY_COORDINATES, zoom_start=13)\n",
    "locs = calls.drop(invalid_block_loc.index)[['Lat', 'Lon']].astype('float').values\n",
    "heatmap = folium.plugins.HeatMap(locs.tolist(), radius=10)\n",
    "berkeley_map.add_child(heatmap)"
   ]
  },
  {
   "cell_type": "markdown",
   "metadata": {
    "deletable": false,
    "editable": false
   },
   "source": [
    "<!-- BEGIN QUESTION -->\n",
    "\n",
    "Based on the above map, what could be some **drawbacks** of using the location fields in this dataset to draw conclusions about crime in Berkeley? This is an open-ended question. Here are some sub-questions to consider:\n",
    "* Is campus really the safest place to be?\n",
    "* Why are all the calls located at street intersections, outdoors, and not within buildings?"
   ]
  },
  {
   "cell_type": "markdown",
   "metadata": {
    "tags": [
     "otter_answer_cell"
    ]
   },
   "source": [
    "_Type your answer here, replacing this text._"
   ]
  },
  {
   "cell_type": "markdown",
   "metadata": {
    "deletable": false,
    "editable": false
   },
   "source": [
    "<!-- END QUESTION -->\n",
    "\n",
    "<hr style=\"border: 5px solid #003262;\" />\n",
    "<hr style=\"border: 1px solid #fdb515;\" />\n",
    "\n",
    "## Congratulations! You have finished Lab 03!"
   ]
  },
  {
   "cell_type": "markdown",
   "metadata": {},
   "source": [
    "### Course Content Feedback\n",
    "\n",
    "If you have any feedback about this assignment or about any of our other weekly, weekly assignments, lectures, or discussions, please fill out the [Course Content Feedback Form](https://docs.google.com/forms/d/e/1FAIpQLSenPfvkr0iHmkxD0v4bjEyo1iH2g0znEYe-OEkShrJikFkFfg/viewform?usp=sf_link). Your input is valuable in helping us improve the quality and relevance of our content to better meet your needs and expectations!"
   ]
  },
  {
   "cell_type": "markdown",
   "metadata": {},
   "source": [
    "### Submission Instructions\n",
    "\n",
    "Below, you will see a cell. Running this cell will automatically generate a zip file with your autograded answers. Submit this file to the Lab 03 assignment on Gradescope. If you run into any issues when running this cell, feel free to check this [section](https://ds100.org/debugging-guide/autograder_gradescope/autograder_gradescope.html#why-does-grader.exportrun_teststrue-fail-if-all-previous-tests-passed) in the Data 100 Debugging Guide."
   ]
  },
  {
   "cell_type": "markdown",
   "metadata": {
    "deletable": false,
    "editable": false
   },
   "source": [
    "## Submission\n",
    "\n",
    "Make sure you have run all cells in your notebook in order before running the cell below, so that all images/graphs appear in the output. The cell below will generate a zip file for you to submit. **Please save before exporting!**"
   ]
  },
  {
   "cell_type": "code",
   "execution_count": 37,
   "metadata": {
    "deletable": false,
    "editable": false
   },
   "outputs": [
    {
     "name": "stdout",
     "output_type": "stream",
     "text": [
      "Running your submission against local test cases...\n",
      "\n",
      "\n",
      "Your submission received the following results when run against available test cases:\n",
      "\n",
      "    q1 results: All test cases passed!\n",
      "\n",
      "    q2a results: All test cases passed!\n",
      "\n",
      "    q2b results: All test cases passed!\n",
      "\n",
      "    q2c results: All test cases passed!\n",
      "\n",
      "    q3a results: All test cases passed!\n",
      "\n",
      "    q3b results: All test cases passed!\n",
      "\n",
      "    q3c results: All test cases passed!\n"
     ]
    },
    {
     "data": {
      "text/html": [
       "\n",
       "                    <p>\n",
       "                        Your submission has been exported. Click\n",
       "                        <a href=\"lab03_2025_02_17T19_45_32_782989.zip\" download=\"lab03_2025_02_17T19_45_32_782989.zip\" target=\"_blank\">here</a> to download\n",
       "                        the zip file.\n",
       "                    </p>\n",
       "                "
      ],
      "text/plain": [
       "<IPython.core.display.HTML object>"
      ]
     },
     "metadata": {},
     "output_type": "display_data"
    }
   ],
   "source": [
    "# Save your notebook first, then run this cell to export your submission.\n",
    "grader.export(pdf=False, run_tests=True)"
   ]
  },
  {
   "cell_type": "markdown",
   "metadata": {},
   "source": [
    " "
   ]
  }
 ],
 "metadata": {
  "celltoolbar": "Create Assignment",
  "kernelspec": {
   "display_name": "Python 3",
   "language": "python",
   "name": "python3"
  },
  "language_info": {
   "codemirror_mode": {
    "name": "ipython",
    "version": 3
   },
   "file_extension": ".py",
   "mimetype": "text/x-python",
   "name": "python",
   "nbconvert_exporter": "python",
   "pygments_lexer": "ipython3",
   "version": "3.12.1"
  },
  "otter": {
   "OK_FORMAT": true,
   "tests": {
    "q1": {
     "name": "q1",
     "points": null,
     "suites": [
      {
       "cases": [
        {
         "code": ">>> isinstance(answer1, list)\nTrue",
         "hidden": false,
         "locked": false
        },
        {
         "code": ">>> all([isinstance(elt, str) for elt in answer1])\nTrue",
         "hidden": false,
         "locked": false
        },
        {
         "code": ">>> len(answer1) == 3\nTrue",
         "hidden": false,
         "locked": false
        },
        {
         "code": ">>> all([elt in calls['OFFENSE'].values for elt in answer1])\nTrue",
         "hidden": false,
         "locked": false
        },
        {
         "code": ">>> set([a.strip().upper() for a in answer1]) == set(['THEFT FELONY (OVER $950)', 'THEFT FROM PERSON', 'THEFT MISD. (UNDER $950)'])\nTrue",
         "hidden": false,
         "locked": false
        }
       ],
       "scored": true,
       "setup": "",
       "teardown": "",
       "type": "doctest"
      }
     ]
    },
    "q2a": {
     "name": "q2a",
     "points": null,
     "suites": [
      {
       "cases": [
        {
         "code": ">>> set(calls['Day']) == {'Friday', 'Monday', 'Saturday', 'Sunday', 'Thursday', 'Tuesday', 'Wednesday'}\nTrue",
         "hidden": false,
         "locked": false
        },
        {
         "code": ">>> list(calls['Day'][:5]) == ['Wednesday', 'Thursday', 'Wednesday', 'Friday', 'Wednesday']\nTrue",
         "hidden": false,
         "locked": false
        }
       ],
       "scored": true,
       "setup": "",
       "teardown": "",
       "type": "doctest"
      }
     ]
    },
    "q2b": {
     "name": "q2b",
     "points": null,
     "suites": [
      {
       "cases": [
        {
         "code": ">>> isinstance(calls.loc[72, 'Hour'], (int, np.integer))\nTrue",
         "hidden": false,
         "locked": false
        },
        {
         "code": ">>> bool(calls['Hour'][72] == 18)\nTrue",
         "hidden": false,
         "locked": false
        }
       ],
       "scored": true,
       "setup": "",
       "teardown": "",
       "type": "doctest"
      }
     ]
    },
    "q2c": {
     "name": "q2c",
     "points": null,
     "suites": [
      {
       "cases": [
        {
         "code": ">>> hours = list(range(24))\n>>> xy_data = ax_3d.lines[0].get_xydata()\n>>> expected_xy_data = np.vstack((hours, calls['Hour'].value_counts()[hours].to_numpy())).T\n>>> np.allclose(xy_data, expected_xy_data)\nTrue",
         "hidden": false,
         "locked": false
        },
        {
         "code": ">>> plt.close('all')\n",
         "hidden": false,
         "locked": false
        }
       ],
       "scored": true,
       "setup": "",
       "teardown": "",
       "type": "doctest"
      }
     ]
    },
    "q3a": {
     "name": "q3a",
     "points": null,
     "suites": [
      {
       "cases": [
        {
         "code": ">>> calls_lat_lon.shape\n(4490, 2)",
         "hidden": false,
         "locked": false
        },
        {
         "code": ">>> bool(set(calls_lat_lon.columns) == {'Lat', 'Lon'})\nTrue",
         "hidden": false,
         "locked": false
        }
       ],
       "scored": true,
       "setup": "",
       "teardown": "",
       "type": "doctest"
      }
     ]
    },
    "q3b": {
     "name": "q3b",
     "points": null,
     "suites": [
      {
       "cases": [
        {
         "code": ">>> 'Lat' in calls.columns and 'Lon' in calls.columns\nTrue",
         "hidden": false,
         "locked": false
        },
        {
         "code": ">>> str(calls.loc[1137, 'Lat']) == '37.8801'\nTrue",
         "hidden": false,
         "locked": false
        },
        {
         "code": ">>> str(calls.loc[689]['Lon']) == '-122.26857'\nTrue",
         "hidden": false,
         "locked": false
        }
       ],
       "scored": true,
       "setup": "",
       "teardown": "",
       "type": "doctest"
      }
     ]
    },
    "q3c": {
     "name": "q3c",
     "points": null,
     "suites": [
      {
       "cases": [
        {
         "code": ">>> invalid_block_loc.shape\n(14, 15)",
         "hidden": false,
         "locked": false
        },
        {
         "code": ">>> bool(invalid_block_loc['BLKADDR'].isna().sum() == len(invalid_block_loc))\nTrue",
         "hidden": false,
         "locked": false
        }
       ],
       "scored": true,
       "setup": "",
       "teardown": "",
       "type": "doctest"
      }
     ]
    }
   }
  }
 },
 "nbformat": 4,
 "nbformat_minor": 4
}
