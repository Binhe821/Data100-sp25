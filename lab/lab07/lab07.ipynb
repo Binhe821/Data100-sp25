{
 "cells": [
  {
   "cell_type": "code",
   "execution_count": 36,
   "metadata": {
    "deletable": false,
    "editable": false
   },
   "outputs": [],
   "source": [
    "# Initialize Otter\n",
    "import otter\n",
    "grader = otter.Notebook(\"lab07.ipynb\")"
   ]
  },
  {
   "cell_type": "markdown",
   "metadata": {
    "nbgrader": {
     "grade": false,
     "grade_id": "intro",
     "locked": true,
     "schema_version": 2,
     "solution": false
    }
   },
   "source": [
    "# Lab 07: Gradient Descent and Sklearn\n",
    "\n",
    "In this lab, we will work through the process of:\n",
    "1. Defining loss functions,\n",
    "1. Performing feature engineering,\n",
    "1. Minimizing loss functions using numerical methods and analytical methods,\n",
    "1. Understanding what happens if we use the analytical solution for OLS on a matrix with redundant features,\n",
    "1. Computing a gradient for a nonlinear model, and\n",
    "1. Using gradient descent to optimize the non-linear model.\n",
    "\n",
    "This lab will continue using the toy `tips` calculation dataset used in a prior lab.\n",
    "\n",
    "To receive credit for a lab, answer all questions correctly and submit before the deadline.\n",
    "\n",
    "You must submit this assignment to Gradescope by the on-time deadline, **Tuesday, March 18, 11:59 PM PT**. Please read the syllabus for the Slip Day policy. As a reminder, slip days are **not** applicable on labs. **We strongly encourage you to plan to submit your work to Gradescope several hours before the stated deadline.** This way, you will have ample time to contact staff for submission support. "
   ]
  },
  {
   "cell_type": "markdown",
   "metadata": {},
   "source": [
    "### Lab Walk-Through\n",
    "In addition to the lab notebook, we have also released a prerecorded walk-through video of the lab. We encourage you to reference this video as you work through the lab. Run the cell below to display the video.\n",
    "\n",
    "**Note:** Some parts of the video are recorded in Spring 2022. There may be slight inconsistencies between the version you are viewing and the version used in the recording, but the content is identical."
   ]
  },
  {
   "cell_type": "code",
   "execution_count": 37,
   "metadata": {},
   "outputs": [
    {
     "data": {
      "image/jpeg": "[encoded data removed]",
      "text/html": [
       "\n",
       "        <iframe\n",
       "            width=\"400\"\n",
       "            height=\"300\"\n",
       "            src=\"https://www.youtube.com/embed/LohVOmiulHQ\"\n",
       "            frameborder=\"0\"\n",
       "            allowfullscreen\n",
       "            \n",
       "        ></iframe>\n",
       "        "
      ],
      "text/plain": [
       "<IPython.lib.display.YouTubeVideo at 0x2230ffd64b0>"
      ]
     },
     "execution_count": 37,
     "metadata": {},
     "output_type": "execute_result"
    }
   ],
   "source": [
    "from IPython.display import YouTubeVideo\n",
    "YouTubeVideo(\"LohVOmiulHQ\")"
   ]
  },
  {
   "cell_type": "markdown",
   "metadata": {},
   "source": [
    "### Discussion 7 Mini-lecture\n",
    "\n",
    "In Data 100, discussions will not reserve time to host mini-lectures. Instead, we will release a set of pre-recorded mini-lectures that supplement the concepts introduced in lecture. The week after a mini-lecture is released, the topics will be covered in discussion. Thus, it is important to watch these mini-lectures **before** attending the discussion section you are assigned to. Discussion 7 mini-lecture is attached below."
   ]
  },
  {
   "cell_type": "code",
   "execution_count": 38,
   "metadata": {},
   "outputs": [
    {
     "data": {
      "text/html": [
       "\n",
       "        <iframe\n",
       "            width=\"400\"\n",
       "            height=\"300\"\n",
       "            src=\"https://www.youtube.com/embed/9-ZfKJX3e14?list=PLQCcNQgUcDfoUXRtrHc9TUx2pBYNfToVN\"\n",
       "            frameborder=\"0\"\n",
       "            allowfullscreen\n",
       "            \n",
       "        ></iframe>\n",
       "        "
      ],
      "text/plain": [
       "<IPython.lib.display.YouTubeVideo at 0x22311c0af30>"
      ]
     },
     "execution_count": 38,
     "metadata": {},
     "output_type": "execute_result"
    }
   ],
   "source": [
    "YouTubeVideo(\"9-ZfKJX3e14\", list = 'PLQCcNQgUcDfoUXRtrHc9TUx2pBYNfToVN')"
   ]
  },
  {
   "cell_type": "markdown",
   "metadata": {},
   "source": [
    "\n",
    "### Collaboration Policy\n",
    "\n",
    "Data science is a collaborative activity. While you may talk to others about the labs, we ask that you **write your solutions individually**. If you do discuss the assignments with others, please **include their names** in the following cell:"
   ]
  },
  {
   "cell_type": "markdown",
   "metadata": {},
   "source": [
    "**Collaborators**: *list names here*"
   ]
  },
  {
   "cell_type": "markdown",
   "metadata": {},
   "source": [
    "---\n",
    "### Debugging Guide\n",
    "\n",
    "If you run into any technical issues, we highly recommend checking out the [Data 100 Debugging Guide](https://ds100.org/debugging-guide/). In this guide, you can find general questions about Jupyter notebooks / Datahub, Gradescope, and common `pandas`, RegEx, and visualization errors."
   ]
  },
  {
   "cell_type": "markdown",
   "metadata": {
    "nbgrader": {
     "grade": false,
     "grade_id": "load-data-text",
     "locked": true,
     "schema_version": 2,
     "solution": false
    }
   },
   "source": [
    "<br/>\n",
    "<hr style=\"border: 5px solid #003262;\" />\n",
    "<hr style=\"border: 1px solid #fdb515;\" />\n",
    "\n",
    "# Feature Engineering\n",
    "\n",
    "To begin, let's load the tips dataset from the `seaborn` library.  This dataset contains records of tips, total bill, and information about the person who paid the bill. As earlier, we'll be trying to predict tips from the other data."
   ]
  },
  {
   "cell_type": "code",
   "execution_count": 39,
   "metadata": {
    "nbgrader": {
     "grade": false,
     "grade_id": "imports",
     "locked": true,
     "schema_version": 2,
     "solution": false
    }
   },
   "outputs": [],
   "source": [
    "import pandas as pd\n",
    "import numpy as np\n",
    "import seaborn as sns\n",
    "from sklearn.feature_extraction import DictVectorizer\n",
    "from sklearn.preprocessing import OneHotEncoder\n",
    "import matplotlib.pyplot as plt\n",
    "np.random.seed(42)\n",
    "plt.style.use('fivethirtyeight')\n",
    "sns.set()\n",
    "sns.set_context(\"talk\")\n",
    "%matplotlib inline"
   ]
  },
  {
   "cell_type": "code",
   "execution_count": 40,
   "metadata": {
    "nbgrader": {
     "grade": false,
     "grade_id": "load-data-code",
     "locked": true,
     "schema_version": 2,
     "solution": false
    }
   },
   "outputs": [
    {
     "name": "stdout",
     "output_type": "stream",
     "text": [
      "Number of Records: 244\n"
     ]
    },
    {
     "data": {
      "text/html": [
       "<div>\n",
       "<style scoped>\n",
       "    .dataframe tbody tr th:only-of-type {\n",
       "        vertical-align: middle;\n",
       "    }\n",
       "\n",
       "    .dataframe tbody tr th {\n",
       "        vertical-align: top;\n",
       "    }\n",
       "\n",
       "    .dataframe thead th {\n",
       "        text-align: right;\n",
       "    }\n",
       "</style>\n",
       "<table border=\"1\" class=\"dataframe\">\n",
       "  <thead>\n",
       "    <tr style=\"text-align: right;\">\n",
       "      <th></th>\n",
       "      <th>total_bill</th>\n",
       "      <th>tip</th>\n",
       "      <th>sex</th>\n",
       "      <th>smoker</th>\n",
       "      <th>day</th>\n",
       "      <th>time</th>\n",
       "      <th>size</th>\n",
       "    </tr>\n",
       "  </thead>\n",
       "  <tbody>\n",
       "    <tr>\n",
       "      <th>0</th>\n",
       "      <td>16.99</td>\n",
       "      <td>1.01</td>\n",
       "      <td>Female</td>\n",
       "      <td>No</td>\n",
       "      <td>Sun</td>\n",
       "      <td>Dinner</td>\n",
       "      <td>2</td>\n",
       "    </tr>\n",
       "    <tr>\n",
       "      <th>1</th>\n",
       "      <td>10.34</td>\n",
       "      <td>1.66</td>\n",
       "      <td>Male</td>\n",
       "      <td>No</td>\n",
       "      <td>Sun</td>\n",
       "      <td>Dinner</td>\n",
       "      <td>3</td>\n",
       "    </tr>\n",
       "    <tr>\n",
       "      <th>2</th>\n",
       "      <td>21.01</td>\n",
       "      <td>3.50</td>\n",
       "      <td>Male</td>\n",
       "      <td>No</td>\n",
       "      <td>Sun</td>\n",
       "      <td>Dinner</td>\n",
       "      <td>3</td>\n",
       "    </tr>\n",
       "    <tr>\n",
       "      <th>3</th>\n",
       "      <td>23.68</td>\n",
       "      <td>3.31</td>\n",
       "      <td>Male</td>\n",
       "      <td>No</td>\n",
       "      <td>Sun</td>\n",
       "      <td>Dinner</td>\n",
       "      <td>2</td>\n",
       "    </tr>\n",
       "    <tr>\n",
       "      <th>4</th>\n",
       "      <td>24.59</td>\n",
       "      <td>3.61</td>\n",
       "      <td>Female</td>\n",
       "      <td>No</td>\n",
       "      <td>Sun</td>\n",
       "      <td>Dinner</td>\n",
       "      <td>4</td>\n",
       "    </tr>\n",
       "  </tbody>\n",
       "</table>\n",
       "</div>"
      ],
      "text/plain": [
       "   total_bill   tip     sex smoker  day    time  size\n",
       "0       16.99  1.01  Female     No  Sun  Dinner     2\n",
       "1       10.34  1.66    Male     No  Sun  Dinner     3\n",
       "2       21.01  3.50    Male     No  Sun  Dinner     3\n",
       "3       23.68  3.31    Male     No  Sun  Dinner     2\n",
       "4       24.59  3.61  Female     No  Sun  Dinner     4"
      ]
     },
     "execution_count": 40,
     "metadata": {},
     "output_type": "execute_result"
    }
   ],
   "source": [
    "# Run this cell to load the tips dataset; no further action is needed.\n",
    "data = sns.load_dataset(\"tips\")\n",
    "\n",
    "print(\"Number of Records:\", len(data))\n",
    "data.head()"
   ]
  },
  {
   "cell_type": "markdown",
   "metadata": {},
   "source": [
    "---\n",
    "\n",
    "## Feature Functions\n",
    "\n",
    "So far, we've only considered models of the form $\\hat{y} = f_{\\theta}(x) = \\theta_0 + \\sum_{j=1}^p x_j\\theta_j$, where $\\hat{y}$ is a quantitative continuous variable. \n",
    "\n",
    "We call this a linear model because it is a linear combination of the features $x_1, \\dots, x_p$. However, our features don't need to be numbers: we could have categorical values such as names. Additionally, the true relationship doesn't have to be linear, as we could have a relationship that is quadratic, such as the relationship between the height of a projectile and time.\n",
    "\n",
    "In these cases, we often apply **feature functions**, functions that take in some value and output another value. This might look like converting a string into a number, combining multiple numeric values, or creating a boolean value from some filter.\n",
    "\n",
    "If we use $\\phi$ to represent the feature (_\"phi\"_-ture) function or transformation applied to our data, then our model takes the following form: $$\\hat{y} = f_{\\theta}(x) = \\theta_0 + \\sum_{j=1}^p \\phi(x)_j\\theta_j$$"
   ]
  },
  {
   "cell_type": "markdown",
   "metadata": {},
   "source": [
    "### Example Feature Functions\n",
    "\n",
    "1. **One-hot encoding**\n",
    "    - Converts a single categorical feature into many binary features, each of which represents one of the possible values in the original column.\n",
    "    - Each of the binary feature columns produced contains a 1 for rows that had that column's label in the original column and 0 elsewhere.\n",
    "1. **Polynomial feature**\n",
    "    - Creates polynomial combinations of features.\n",
    "1. **Normalized/Standardized feature**\n",
    "    - Normalizes features so they have a mean of 0 and a standard deviation of 1."
   ]
  },
  {
   "cell_type": "markdown",
   "metadata": {
    "nbgrader": {
     "grade": false,
     "grade_id": "q1",
     "locked": true,
     "schema_version": 2,
     "solution": false
    }
   },
   "source": [
    "<br/>\n",
    "<hr style=\"border: 1px solid #fdb515;\" />\n",
    "\n",
    "## Defining the Model and Engineering Features\n",
    "\n",
    "In Lab 5, we used both a Simple Linear Regression (SLR) model and a constant model on this dataset. Now, let's make a more complicated model that utilizes other features in our dataset. You can imagine that we might want to use the features with an equation that looks as shown below:\n",
    "\n",
    "$$ \\text{Tip} = \\theta_0 + \\theta_1 \\cdot \\text{total}\\_\\text{bill} + \\theta_2 \\cdot \\text{sex} + \\theta_3 \\cdot \\text{smoker} + \\theta_4 \\cdot \\text{day} + \\theta_5 \\cdot \\text{time} + \\theta_6 \\cdot \\text{size} $$\n",
    "\n",
    "Unfortunately, that's not possible because some of these features like \"day\" are not numbers, so it doesn't make sense to multiply by a numerical parameter. Let's start by converting some of these non-numerical values into numerical values.\n",
    "\n",
    "Before we do this, let's separate out the tips and the features into two separate variables, and add a bias term using `pd.insert` ([documentation](https://pandas.pydata.org/docs/reference/api/pandas.DataFrame.insert.html))."
   ]
  },
  {
   "cell_type": "code",
   "execution_count": 41,
   "metadata": {},
   "outputs": [
    {
     "data": {
      "text/html": [
       "<div>\n",
       "<style scoped>\n",
       "    .dataframe tbody tr th:only-of-type {\n",
       "        vertical-align: middle;\n",
       "    }\n",
       "\n",
       "    .dataframe tbody tr th {\n",
       "        vertical-align: top;\n",
       "    }\n",
       "\n",
       "    .dataframe thead th {\n",
       "        text-align: right;\n",
       "    }\n",
       "</style>\n",
       "<table border=\"1\" class=\"dataframe\">\n",
       "  <thead>\n",
       "    <tr style=\"text-align: right;\">\n",
       "      <th></th>\n",
       "      <th>bias</th>\n",
       "      <th>total_bill</th>\n",
       "      <th>sex</th>\n",
       "      <th>smoker</th>\n",
       "      <th>day</th>\n",
       "      <th>time</th>\n",
       "      <th>size</th>\n",
       "    </tr>\n",
       "  </thead>\n",
       "  <tbody>\n",
       "    <tr>\n",
       "      <th>0</th>\n",
       "      <td>1</td>\n",
       "      <td>16.99</td>\n",
       "      <td>Female</td>\n",
       "      <td>No</td>\n",
       "      <td>Sun</td>\n",
       "      <td>Dinner</td>\n",
       "      <td>2</td>\n",
       "    </tr>\n",
       "    <tr>\n",
       "      <th>1</th>\n",
       "      <td>1</td>\n",
       "      <td>10.34</td>\n",
       "      <td>Male</td>\n",
       "      <td>No</td>\n",
       "      <td>Sun</td>\n",
       "      <td>Dinner</td>\n",
       "      <td>3</td>\n",
       "    </tr>\n",
       "    <tr>\n",
       "      <th>2</th>\n",
       "      <td>1</td>\n",
       "      <td>21.01</td>\n",
       "      <td>Male</td>\n",
       "      <td>No</td>\n",
       "      <td>Sun</td>\n",
       "      <td>Dinner</td>\n",
       "      <td>3</td>\n",
       "    </tr>\n",
       "    <tr>\n",
       "      <th>3</th>\n",
       "      <td>1</td>\n",
       "      <td>23.68</td>\n",
       "      <td>Male</td>\n",
       "      <td>No</td>\n",
       "      <td>Sun</td>\n",
       "      <td>Dinner</td>\n",
       "      <td>2</td>\n",
       "    </tr>\n",
       "    <tr>\n",
       "      <th>4</th>\n",
       "      <td>1</td>\n",
       "      <td>24.59</td>\n",
       "      <td>Female</td>\n",
       "      <td>No</td>\n",
       "      <td>Sun</td>\n",
       "      <td>Dinner</td>\n",
       "      <td>4</td>\n",
       "    </tr>\n",
       "  </tbody>\n",
       "</table>\n",
       "</div>"
      ],
      "text/plain": [
       "   bias  total_bill     sex smoker  day    time  size\n",
       "0     1       16.99  Female     No  Sun  Dinner     2\n",
       "1     1       10.34    Male     No  Sun  Dinner     3\n",
       "2     1       21.01    Male     No  Sun  Dinner     3\n",
       "3     1       23.68    Male     No  Sun  Dinner     2\n",
       "4     1       24.59  Female     No  Sun  Dinner     4"
      ]
     },
     "execution_count": 41,
     "metadata": {},
     "output_type": "execute_result"
    }
   ],
   "source": [
    "# Run this cell to create our design matrix X; no further action is needed.\n",
    "tips = data['tip']\n",
    "X = data.drop(columns='tip')\n",
    "X.insert(0, 'bias', 1)\n",
    "X.head()"
   ]
  },
  {
   "cell_type": "markdown",
   "metadata": {
    "deletable": false,
    "editable": false
   },
   "source": [
    "<br/>\n",
    "<hr style=\"border: 1px solid #fdb515;\" />\n",
    "\n",
    "## Question 1: Feature Engineering\n",
    "\n",
    "First, let's convert our features to numerical values. A straightforward approach is to map some of these non-numerical features into numerical ones. \n",
    "\n",
    "For example, we could convert the `day` feature to a numerical value from 1-7. However, one of the disadvantages of directly translating to a numeric value is that we unintentionally assign certain features disproportionate weight. Consider assigning Sunday to the numeric value of 7, and Monday to the numeric value of 1. In our linear model, Sunday will have 7 times the influence of Monday, which can (and likely will) lower the performance of our model.\n",
    "\n",
    "Instead, let's use **one-hot encoding** to better represent these features!  As you learned in the lecture, one-hot encoding is a feature engineering method that represents non-numeric features using boolean vectors (numerical values 0 or 1).\n",
    "\n",
    "In the `tips` dataset, for example, we encode Sunday as the row vector `[0 0 0 1]` because our dataset only contains bills from Thursday through Sunday. This replaces the `day` feature with four boolean features indicating if the record occurred on Thursday, Friday, Saturday, or Sunday. One-hot encoding therefore assigns a more even weight across each category in non-numeric features.\n",
    "\n",
    "Complete the code below to one-hot encode our dataset. This `DataFrame` holds our \"featurized\" data, which is also often denoted by $\\phi$.\n",
    "\n",
    "**Hint 1:** You should use sklearn's `OneHotEncoder` class ([documentation](https://scikit-learn.org/stable/modules/generated/sklearn.preprocessing.OneHotEncoder.html)) when doing your one-hot encoding. Note that `OneHotEncoder` transforms data into a [SciPy sparse matrix](https://docs.scipy.org/doc/scipy/reference/generated/scipy.sparse.csr_matrix.html) to save space; we'll need to convert these back into regular arrays before doing any operations on them. Check out `.toarray()` ([documentation](https://docs.scipy.org/doc/scipy/reference/generated/scipy.sparse.csr_matrix.toarray.html)) for how to convert this to a `NumPy` array.\n",
    "\n",
    "**Hint 2:** Look through the lecture slides and/or course notes for examples of how to use `OneHotEncoder`."
   ]
  },
  {
   "cell_type": "code",
   "execution_count": 42,
   "metadata": {
    "nbgrader": {
     "grade": false,
     "grade_id": "q1a-answer",
     "locked": false,
     "schema_version": 2,
     "solution": true
    },
    "tags": [
     "otter_answer_cell"
    ]
   },
   "outputs": [
    {
     "data": {
      "text/html": [
       "<div>\n",
       "<style scoped>\n",
       "    .dataframe tbody tr th:only-of-type {\n",
       "        vertical-align: middle;\n",
       "    }\n",
       "\n",
       "    .dataframe tbody tr th {\n",
       "        vertical-align: top;\n",
       "    }\n",
       "\n",
       "    .dataframe thead th {\n",
       "        text-align: right;\n",
       "    }\n",
       "</style>\n",
       "<table border=\"1\" class=\"dataframe\">\n",
       "  <thead>\n",
       "    <tr style=\"text-align: right;\">\n",
       "      <th></th>\n",
       "      <th>bias</th>\n",
       "      <th>total_bill</th>\n",
       "      <th>size</th>\n",
       "      <th>day_Fri</th>\n",
       "      <th>day_Sat</th>\n",
       "      <th>day_Sun</th>\n",
       "      <th>day_Thur</th>\n",
       "      <th>sex_Female</th>\n",
       "      <th>sex_Male</th>\n",
       "      <th>smoker_No</th>\n",
       "      <th>smoker_Yes</th>\n",
       "      <th>time_Dinner</th>\n",
       "      <th>time_Lunch</th>\n",
       "    </tr>\n",
       "  </thead>\n",
       "  <tbody>\n",
       "    <tr>\n",
       "      <th>0</th>\n",
       "      <td>1</td>\n",
       "      <td>16.99</td>\n",
       "      <td>2</td>\n",
       "      <td>0.0</td>\n",
       "      <td>0.0</td>\n",
       "      <td>1.0</td>\n",
       "      <td>0.0</td>\n",
       "      <td>1.0</td>\n",
       "      <td>0.0</td>\n",
       "      <td>1.0</td>\n",
       "      <td>0.0</td>\n",
       "      <td>1.0</td>\n",
       "      <td>0.0</td>\n",
       "    </tr>\n",
       "    <tr>\n",
       "      <th>1</th>\n",
       "      <td>1</td>\n",
       "      <td>10.34</td>\n",
       "      <td>3</td>\n",
       "      <td>0.0</td>\n",
       "      <td>0.0</td>\n",
       "      <td>1.0</td>\n",
       "      <td>0.0</td>\n",
       "      <td>0.0</td>\n",
       "      <td>1.0</td>\n",
       "      <td>1.0</td>\n",
       "      <td>0.0</td>\n",
       "      <td>1.0</td>\n",
       "      <td>0.0</td>\n",
       "    </tr>\n",
       "    <tr>\n",
       "      <th>2</th>\n",
       "      <td>1</td>\n",
       "      <td>21.01</td>\n",
       "      <td>3</td>\n",
       "      <td>0.0</td>\n",
       "      <td>0.0</td>\n",
       "      <td>1.0</td>\n",
       "      <td>0.0</td>\n",
       "      <td>0.0</td>\n",
       "      <td>1.0</td>\n",
       "      <td>1.0</td>\n",
       "      <td>0.0</td>\n",
       "      <td>1.0</td>\n",
       "      <td>0.0</td>\n",
       "    </tr>\n",
       "    <tr>\n",
       "      <th>3</th>\n",
       "      <td>1</td>\n",
       "      <td>23.68</td>\n",
       "      <td>2</td>\n",
       "      <td>0.0</td>\n",
       "      <td>0.0</td>\n",
       "      <td>1.0</td>\n",
       "      <td>0.0</td>\n",
       "      <td>0.0</td>\n",
       "      <td>1.0</td>\n",
       "      <td>1.0</td>\n",
       "      <td>0.0</td>\n",
       "      <td>1.0</td>\n",
       "      <td>0.0</td>\n",
       "    </tr>\n",
       "    <tr>\n",
       "      <th>4</th>\n",
       "      <td>1</td>\n",
       "      <td>24.59</td>\n",
       "      <td>4</td>\n",
       "      <td>0.0</td>\n",
       "      <td>0.0</td>\n",
       "      <td>1.0</td>\n",
       "      <td>0.0</td>\n",
       "      <td>1.0</td>\n",
       "      <td>0.0</td>\n",
       "      <td>1.0</td>\n",
       "      <td>0.0</td>\n",
       "      <td>1.0</td>\n",
       "      <td>0.0</td>\n",
       "    </tr>\n",
       "  </tbody>\n",
       "</table>\n",
       "</div>"
      ],
      "text/plain": [
       "   bias  total_bill  size  day_Fri  day_Sat  day_Sun  day_Thur  sex_Female  \\\n",
       "0     1       16.99     2      0.0      0.0      1.0       0.0         1.0   \n",
       "1     1       10.34     3      0.0      0.0      1.0       0.0         0.0   \n",
       "2     1       21.01     3      0.0      0.0      1.0       0.0         0.0   \n",
       "3     1       23.68     2      0.0      0.0      1.0       0.0         0.0   \n",
       "4     1       24.59     4      0.0      0.0      1.0       0.0         1.0   \n",
       "\n",
       "   sex_Male  smoker_No  smoker_Yes  time_Dinner  time_Lunch  \n",
       "0       0.0        1.0         0.0          1.0         0.0  \n",
       "1       1.0        1.0         0.0          1.0         0.0  \n",
       "2       1.0        1.0         0.0          1.0         0.0  \n",
       "3       1.0        1.0         0.0          1.0         0.0  \n",
       "4       0.0        1.0         0.0          1.0         0.0  "
      ]
     },
     "execution_count": 42,
     "metadata": {},
     "output_type": "execute_result"
    }
   ],
   "source": [
    "def one_hot_encode(data):\n",
    "    \"\"\"\n",
    "    Return the one-hot encoded DataFrame of our input data.\n",
    "    \n",
    "    Parameters\n",
    "    -----------\n",
    "    data: A DataFrame that may include non-numerical features.\n",
    "    \n",
    "    Returns\n",
    "    -----------\n",
    "    A one-hot encoded DataFrame that only contains numeric features.\n",
    "    \n",
    "    \"\"\"\n",
    "    model = OneHotEncoder()\n",
    "    model.fit(data[['day']])\n",
    "    encodedday = model.transform(data[['day']]).toarray()\n",
    "    encodedday_df = pd.DataFrame(encodedday, columns=model.get_feature_names_out())\n",
    "    data = data.join(encodedday_df).drop(columns='day')\n",
    "    model1 = OneHotEncoder()\n",
    "    model1.fit(data[['sex']])\n",
    "    encodedsex = model1.transform(data[['sex']]).toarray()\n",
    "    encodedsex_df = pd.DataFrame(encodedsex, columns=model1.get_feature_names_out())\n",
    "    data = data.join(encodedsex_df).drop(columns='sex')\n",
    "    model2 = OneHotEncoder()\n",
    "    model2.fit(data[['smoker']])\n",
    "    encodedsmoker = model2.transform(data[['smoker']]).toarray()\n",
    "    encodedsmoker_df = pd.DataFrame(encodedsmoker, columns=model2.get_feature_names_out())\n",
    "    data = data.join(encodedsmoker_df).drop(columns='smoker')\n",
    "    model3 = OneHotEncoder()\n",
    "    model3.fit(data[['time']])\n",
    "    encodedtime = model3.transform(data[['time']]).toarray()\n",
    "    encodedtime_df = pd.DataFrame(encodedtime, columns=model3.get_feature_names_out())\n",
    "    data = data.join(encodedtime_df).drop(columns='time')\n",
    "    return data\n",
    "\n",
    "    \n",
    "one_hot_X = one_hot_encode(X)\n",
    "one_hot_X.head()"
   ]
  },
  {
   "cell_type": "code",
   "execution_count": 43,
   "metadata": {
    "deletable": false,
    "editable": false
   },
   "outputs": [
    {
     "data": {
      "text/html": [
       "<p><strong><pre style='display: inline;'>q1</pre></strong> passed! 🚀</p>"
      ],
      "text/plain": [
       "q1 results: All test cases passed!"
      ]
     },
     "execution_count": 43,
     "metadata": {},
     "output_type": "execute_result"
    }
   ],
   "source": [
    "grader.check(\"q1\")"
   ]
  },
  {
   "cell_type": "markdown",
   "metadata": {
    "nbgrader": {
     "grade": false,
     "grade_id": "q1b",
     "locked": true,
     "schema_version": 2,
     "solution": false
    },
    "tags": []
   },
   "source": [
    "<br>\n",
    "\n",
    "### Tutorial: fit()/predict()\n",
    "\n",
    "This tutorial serves to provide you with a blueprint for how to create a model. Now that all of our data is numeric, we can begin to define our model function. Notice that after one-hot encoding our data, we now have 13 features instead of 7 (including bias). Therefore, our linear model is now similar to the below (note the order of thetas below does not necessarily match the order in the `DataFrame`):\n",
    "\n",
    "\\begin{align}\n",
    "\\text{Tip} &= \\theta_0 + \\theta_1 \\cdot \\text{total}\\_\\text{bill} + \\theta_2 \\cdot \\text{size}  \\\\\n",
    "& + \\theta_3 \\cdot \\text{sex}\\_\\text{Female} + \\theta_4 \\cdot \\text{sex}\\_\\text{Male} \\\\\n",
    "& + \\theta_5 \\cdot \\text{smoker}\\_\\text{No} + \\theta_{6} \\cdot \\text{smoker}\\_\\text{Yes} \\\\\n",
    "& + \\theta_7 \\cdot \\text{day}\\_\\text{Fri} + \\theta_8 \\cdot \\text{day}\\_\\text{Sat} + \\theta_9 \\cdot \\text{day}\\_\\text{Sun} + \\theta_{10} \\cdot \\text{day}\\_\\text{Thur} \\\\\n",
    "& + \\theta_{11} \\cdot \\text{time}\\_\\text{Dinner}+ \\theta_{12} \\cdot \\text{time}\\_\\text{Lunch} \n",
    "\\end{align}\n",
    "\n",
    "We can represent the linear combination above as a matrix-vector product. To practice using syntax similar to the `sklearn` pipeline, we introduce a staff-made example called `MyZeroLinearModel`.\n",
    "\n",
    "The `MyZeroLinearModel` has two methods, `predict` and `fit`.\n",
    "* `fit`: Compute parameters theta given data `X` and `Y` and the underlying model.\n",
    "* `predict`: Compute estimate $\\hat{y}$ given `X` and the underlying model.\n",
    "\n",
    "If you are unfamiliar with using `Python` objects, please review [object-oriented programming](https://cs61a.org/study-guide/objects/). \n",
    "\n",
    "**Note:** Practically speaking, this is a pretty bad model: it sets all of its parameters to 0 regardless of the data we fit it to! While this model doesn't really have any practical application, we're using it here to help you build intuition on how `sklearn` pipelines work! "
   ]
  },
  {
   "cell_type": "code",
   "execution_count": 44,
   "metadata": {},
   "outputs": [
    {
     "data": {
      "text/plain": [
       "array([[0.],\n",
       "       [0.],\n",
       "       [0.],\n",
       "       [0.],\n",
       "       [0.],\n",
       "       [0.],\n",
       "       [0.],\n",
       "       [0.],\n",
       "       [0.],\n",
       "       [0.],\n",
       "       [0.],\n",
       "       [0.],\n",
       "       [0.]])"
      ]
     },
     "execution_count": 44,
     "metadata": {},
     "output_type": "execute_result"
    }
   ],
   "source": [
    "# Run this cell to create the MyZeroLinearModel class; no further action is needed.\n",
    "class MyZeroLinearModel():\n",
    "    def __init__(self):\n",
    "        self._thetas = None\n",
    "    def fit(self, X, Y):\n",
    "        number_of_features = X.shape[1]\n",
    "        # For demonstration purposes in this tutorial, we set the values of all the parameters to 0. \n",
    "        self._thetas = np.zeros(shape=(number_of_features, 1))\n",
    "    \n",
    "    def predict(self, X):\n",
    "        return X @ self._thetas\n",
    "\n",
    "# Running the code below produces all-zero thetas\n",
    "model0 = MyZeroLinearModel()\n",
    "model0.fit(one_hot_X, tips)\n",
    "model0._thetas"
   ]
  },
  {
   "cell_type": "markdown",
   "metadata": {},
   "source": [
    "<br/>\n",
    "<hr style=\"border: 1px solid #fdb515;\" />\n",
    "\n",
    "## Question 2: Fitting a Linear Model Using Numerical Methods\n",
    "\n",
    "\n",
    "The best-fit model is determined by our loss function. Recall in Lab 5 and in Lecture 12 we defined multiple loss functions and found the optimal $\\hat{\\theta}$ using the `scipy.optimize.minimize` function. \n",
    "\n",
    "\n",
    "In this question, we'll wrap this function into a method `fit()` in our class `MyScipyLinearModel`.\n",
    "To allow for different loss functions, we create a `loss_function` parameter where the model can be fit accordingly. Example loss functions are given as `l1` and `l2`.\n",
    "\n",
    "**Note:** Just like `MyZeroLinearModel`, the class `MyScipyLinearModel` is a staff-made example to help you understand how `sklearn` works behind the scenes. In practice, when using pre-made `sklearn` models, defining a class like this is unnecessary!"
   ]
  },
  {
   "cell_type": "markdown",
   "metadata": {
    "deletable": false,
    "editable": false,
    "tags": []
   },
   "source": [
    "---\n",
    "\n",
    "### Question 2a: scipy\n",
    "\n",
    "Complete the code below using `scipy.optimize.minimize`. Find and store the optimal $\\hat{\\theta}$ in the instance attribute `self._thetas`.\n",
    "\n",
    "**Hint:**\n",
    "* The `starting_guess` should be some arbitrary array (such as an array of all zeroes) of the correct length. You may find `number_of_features` helpful.\n",
    "\n",
    "**Notes:**\n",
    "* Notice that `l1` and `l2` return term-wise loss and only accept observed value $y$ and predicted value $\\hat{y}$. We added a lambda function to help convert them into the right format for `scipy.optimize.minimize`.\n",
    "* Notice above that we extract the `'x'` entry in the dictionary returned by `minimize`. This entry corresponds to the optimal $\\hat{\\theta}$ estimated by the function, and it is the format that `minimize` uses."
   ]
  },
  {
   "cell_type": "code",
   "execution_count": 45,
   "metadata": {
    "nbgrader": {
     "grade": false,
     "grade_id": "q2-answer",
     "locked": false,
     "schema_version": 2,
     "solution": true
    },
    "tags": [
     "otter_answer_cell"
    ]
   },
   "outputs": [
    {
     "name": "stdout",
     "output_type": "stream",
     "text": [
      "L2 loss thetas:\n",
      "[ 0.25496354  0.09448694  0.17599235  0.14104047  0.01958201  0.1155597\n",
      " -0.0212184   0.14370504  0.11126421  0.17069025  0.0842821   0.09341841\n",
      "  0.16154651]\n",
      "L1 loss thetas:\n",
      "[ 0.25496354  0.09448694  0.17599235  0.14104047  0.01958201  0.1155597\n",
      " -0.0212184   0.14370504  0.11126421  0.17069025  0.0842821   0.09341841\n",
      "  0.16154651]\n"
     ]
    }
   ],
   "source": [
    "from scipy.optimize import minimize\n",
    "\n",
    "def l1(y, y_hat):\n",
    "    return np.abs(y - y_hat)\n",
    "\n",
    "def l2(y, y_hat):\n",
    "    return (y - y_hat)**2\n",
    "\n",
    "class MyScipyLinearModel():\n",
    "    def __init__(self):\n",
    "        self._thetas = None\n",
    "        \n",
    "    def fit(self, loss_function, X, Y):\n",
    "        \"\"\"\n",
    "        Estimated optimal _thetas for the given loss function, \n",
    "        feature matrix X, and observed values y. Store them in _thetas.\n",
    "\n",
    "        Parameters\n",
    "        -----------\n",
    "        loss_function: A function that takes in observed and predicted y, \n",
    "                       and return the loss calculated for each data point.\n",
    "        X: A 2D DataFrame (or NumPy array) of numeric features.\n",
    "        Y: A 1D NumPy array or Series of the dependent variable.\n",
    "\n",
    "        Returns\n",
    "        -----------\n",
    "        None\n",
    "        \"\"\"\n",
    "        \n",
    "        number_of_features = X.shape[1]\n",
    "        starting_guess = np.zeros(number_of_features)\n",
    "        self._thetas = minimize(lambda theta:\n",
    "                                np.sum(loss_function(Y, X @ theta))\n",
    "                                , x0 = starting_guess)['x']        \n",
    "        \n",
    "    def predict(self, X):\n",
    "        return X @ self._thetas\n",
    "        \n",
    "# Create a new model and fit the data using l2 loss, it should produce some non-zero thetas.\n",
    "model = MyScipyLinearModel()\n",
    "model.fit(l2, one_hot_X, tips)\n",
    "print(\"L2 loss thetas:\")\n",
    "print(model._thetas)\n",
    "\n",
    "# Create a new model and fit the data using l1 loss, it should produce some non-zero thetas.\n",
    "model_l1 = MyScipyLinearModel()\n",
    "model_l1.fit(l1, one_hot_X, tips)\n",
    "print(\"L1 loss thetas:\")\n",
    "print(model._thetas)"
   ]
  },
  {
   "cell_type": "code",
   "execution_count": 46,
   "metadata": {
    "deletable": false,
    "editable": false
   },
   "outputs": [
    {
     "data": {
      "text/html": [
       "<p><strong><pre style='display: inline;'>q2a</pre></strong> passed! 💯</p>"
      ],
      "text/plain": [
       "q2a results: All test cases passed!"
      ]
     },
     "execution_count": 46,
     "metadata": {},
     "output_type": "execute_result"
    }
   ],
   "source": [
    "grader.check(\"q2a\")"
   ]
  },
  {
   "cell_type": "markdown",
   "metadata": {},
   "source": [
    "The MSE and MAE for your model above should be just slightly larger than 1:"
   ]
  },
  {
   "cell_type": "code",
   "execution_count": 47,
   "metadata": {
    "tags": []
   },
   "outputs": [
    {
     "name": "stdout",
     "output_type": "stream",
     "text": [
      "L2 loss MSE scipy: 1.0103535612259986\n",
      "L1 loss MAE scipy: 1.0368827627873054\n"
     ]
    }
   ],
   "source": [
    "# Run this cell to calculate the MSE and MAE of the above model; no further action is needed.\n",
    "from sklearn.metrics import mean_squared_error\n",
    "print(\"L2 loss MSE scipy: \" + str(mean_squared_error(model.predict(one_hot_X), tips)))\n",
    "print(\"L1 loss MAE scipy: \" + str(mean_squared_error(model_l1.predict(one_hot_X), tips)))"
   ]
  },
  {
   "cell_type": "markdown",
   "metadata": {
    "deletable": false,
    "editable": false,
    "tags": []
   },
   "source": [
    "<br>\n",
    "\n",
    "---\n",
    "\n",
    "### Question 2b: sklearn\n",
    "\n",
    "Another way to fit a linear regression model is to use `scikit-learn`/`sklearn` as we have seen in Lab 6.  As a reminder, here are the three steps to use `sklearn`:\n",
    "\n",
    "1. Create a `sklearn` object.\n",
    "1. `fit` the object to data.\n",
    "1. Analyze fit, or call `predict`.\n",
    "\n",
    "\n",
    "The `sklearn` `LinearRegression` object ([documentation](http://scikit-learn.org/stable/modules/generated/sklearn.linear_model.LinearRegression.html)) models the Ordinary Least Squares (OLS) problem, also using numerical methods to estimate $\\hat{\\theta}$. Fill in the code below such that `sklearn_model` **fits** OLS using `sklearn`.\n",
    "\n",
    "**Hint:** Since we have included the bias column in our design matrix explicitly, we need to adjust the `fit_intercept` parameter appropriately when creating the `LinearRegression` model. "
   ]
  },
  {
   "cell_type": "code",
   "execution_count": 52,
   "metadata": {
    "tags": [
     "otter_answer_cell"
    ]
   },
   "outputs": [
    {
     "name": "stdout",
     "output_type": "stream",
     "text": [
      "sklearn with bias column thetas:\n",
      "[-1.30165444e-15  1.00000000e+00 -2.49800181e-16 -2.67581096e-16\n",
      " -2.67147415e-16 -4.94396191e-16 -2.41126563e-16 -5.13478149e-16\n",
      " -7.70217223e-16 -6.76542156e-16 -6.31439345e-16 -6.80011603e-16\n",
      " -6.15826834e-16]\n"
     ]
    }
   ],
   "source": [
    "from sklearn.linear_model import LinearRegression\n",
    "sklearn_model = LinearRegression(fit_intercept=False)\n",
    "sklearn_model.fit(one_hot_X, one_hot_X['total_bill'])\n",
    "print(\"sklearn with bias column thetas:\")\n",
    "print(sklearn_model.coef_)"
   ]
  },
  {
   "cell_type": "code",
   "execution_count": 53,
   "metadata": {
    "deletable": false,
    "editable": false
   },
   "outputs": [
    {
     "data": {
      "text/html": [
       "<p><strong><pre style='display: inline;'>q2b</pre></strong> passed! 🌈</p>"
      ],
      "text/plain": [
       "q2b results: All test cases passed!"
      ]
     },
     "execution_count": 53,
     "metadata": {},
     "output_type": "execute_result"
    }
   ],
   "source": [
    "grader.check(\"q2b\")"
   ]
  },
  {
   "cell_type": "markdown",
   "metadata": {
    "deletable": false,
    "editable": false
   },
   "source": [
    "<br>\n",
    " \n",
    "---\n",
    " \n",
    "### Question 2c: sklearn and `fit_intercept`"
   ]
  },
  {
   "cell_type": "markdown",
   "metadata": {
    "deletable": false,
    "editable": false
   },
   "source": [
    "To avoid always explicitly building in a bias column into our design matrix, `sklearn`'s `LinearRegression` object also supports `fit_intercept=True` during instantiation. \n",
    "\n",
    "Fill in the code below by first assigning `one_hot_X_nobias` to the `one_hot_X` design matrix with the bias column dropped, then fit a new `LinearRegression` model, with intercept."
   ]
  },
  {
   "cell_type": "code",
   "execution_count": 56,
   "metadata": {
    "tags": [
     "otter_answer_cell"
    ]
   },
   "outputs": [
    {
     "name": "stdout",
     "output_type": "stream",
     "text": [
      "sklearn with intercept thetas:\n",
      "[-3.55271368e-15  1.00000000e+00 -1.10598089e-16 -1.47262314e-16\n",
      " -6.52195633e-17  5.87276131e-16 -3.65381696e-16  2.92239945e-16\n",
      " -2.90296177e-16  5.26465623e-17 -5.08605733e-17 -7.95808475e-17\n",
      "  7.47763779e-17]\n"
     ]
    }
   ],
   "source": [
    "one_hot_X_nobias = one_hot_X.drop(columns='bias')\n",
    "\n",
    "sklearn_model_intercept = LinearRegression()\n",
    "sklearn_model_intercept.fit(one_hot_X_nobias,one_hot_X_nobias['total_bill'])\n",
    "\n",
    "# Note that sklearn returns intercept (theta_0) and coefficients (other thetas) separately.\n",
    "# We concatenate the intercept and other thetas before printing for easier comparison with the models above.\n",
    "print(\"sklearn with intercept thetas:\")\n",
    "print(np.concatenate(([sklearn_model_intercept.intercept_], sklearn_model_intercept.coef_)))"
   ]
  },
  {
   "cell_type": "code",
   "execution_count": 57,
   "metadata": {
    "deletable": false,
    "editable": false
   },
   "outputs": [
    {
     "data": {
      "text/html": [
       "<p><strong><pre style='display: inline;'>q2c</pre></strong> passed! 💯</p>"
      ],
      "text/plain": [
       "q2c results: All test cases passed!"
      ]
     },
     "execution_count": 57,
     "metadata": {},
     "output_type": "execute_result"
    }
   ],
   "source": [
    "grader.check(\"q2c\")"
   ]
  },
  {
   "cell_type": "markdown",
   "metadata": {},
   "source": [
    "We printed the MSE for the `SciPy` and both `sklearn` solutions below (all using L2 loss). Notice that while the theta coefficients are different for the two `sklearn` models (with the bias column, vs. with `fit_intercept=True`), all three models have similar MSEs! We will explain this when we explore Gradient Descent later in this lab."
   ]
  },
  {
   "cell_type": "code",
   "execution_count": 58,
   "metadata": {},
   "outputs": [
    {
     "name": "stdout",
     "output_type": "stream",
     "text": [
      "MSE scipy: \t\t\t1.0103535612259986\n",
      "MSE sklearn bias column: \t346.08162254098454\n",
      "MSE sklearn intercept model: \t346.0816225409837\n"
     ]
    }
   ],
   "source": [
    "print(\"MSE scipy: \\t\\t\\t\" + str(mean_squared_error(model.predict(one_hot_X), tips)))\n",
    "print(\"MSE sklearn bias column: \\t\" + str(mean_squared_error(sklearn_model.predict(one_hot_X), tips)))\n",
    "print(\"MSE sklearn intercept model: \\t\" + str(mean_squared_error(sklearn_model_intercept.predict(one_hot_X_nobias), tips)))"
   ]
  },
  {
   "cell_type": "markdown",
   "metadata": {
    "nbgrader": {
     "grade": false,
     "grade_id": "q3",
     "locked": true,
     "schema_version": 2,
     "solution": false
    }
   },
   "source": [
    "<br/>\n",
    "<hr style=\"border: 1px solid #fdb515;\" />\n",
    "\n",
    "## Question 3: Fitting the Model Using Analytic Methods\n",
    "\n",
    "Let's also fit our model analytically for the L2 loss function. Recall from lecture that with a linear model, we are solving the following optimization problem for least squares:\n",
    "\n",
    "$$\\min_{\\theta} \\frac{1}{n}||\\Bbb{Y} - \\Bbb{X}\\theta||^2$$\n",
    "\n",
    "We showed in lecture that the optimal $\\hat{\\theta}$ when $\\Bbb{X}^T\\Bbb{X}$ is invertible is given by the equation: $(\\Bbb{X}^T\\Bbb{X})^{-1}\\Bbb{X}^T\\Bbb{Y}$"
   ]
  },
  {
   "cell_type": "markdown",
   "metadata": {
    "deletable": false,
    "editable": false,
    "nbgrader": {
     "grade": false,
     "grade_id": "q3a",
     "locked": true,
     "schema_version": 2,
     "solution": false
    },
    "tags": []
   },
   "source": [
    "<br>\n",
    "\n",
    "---\n",
    "### Question 3a: Analytic Solution Using Explicit Inverses\n",
    "\n",
    "For this problem, implement the analytic solution above using `np.linalg.inv` to compute the inverse of $\\Bbb{X}^T\\Bbb{X}$. As in `q2a`, we provide a class `MyAnalyticallyFitOLSModel` with a `fit` method to wrap this functionality.\n",
    "\n",
    "**Hint**: To compute the transpose of a matrix, you can use `X.T` or `X.transpose()`.\n",
    "\n",
    "**Note**: We want our thetas to always be a `NumPy array` object, even if `Y` is a `Series`. If you are using the `@` `NumPy` operator, make sure you are correctly placing parentheses around expressions where needed to make this happen."
   ]
  },
  {
   "cell_type": "code",
   "execution_count": 63,
   "metadata": {
    "tags": [
     "otter_answer_cell"
    ]
   },
   "outputs": [],
   "source": [
    "class MyAnalyticallyFitOLSModel():\n",
    "    def __init__(self):\n",
    "        self._thetas = None\n",
    "        \n",
    "    def fit(self, X, Y):\n",
    "        \"\"\"\n",
    "        Sets _thetas using the analytical solution to the OLS problem.\n",
    "\n",
    "        Parameters\n",
    "        -----------\n",
    "        X: A 2D DataFrame (or NumPy array) of numeric features (one-hot encoded).\n",
    "        Y: A 1D NumPy array or Series of the dependent variable.\n",
    "        \n",
    "        Returns\n",
    "        -----------\n",
    "        None\n",
    "        \"\"\"\n",
    "        self._thetas = np.linalg.inv(X.T @ X) @ (X.T @ Y)\n",
    "    \n",
    "    def predict(self, X):\n",
    "        return X @ self._thetas        "
   ]
  },
  {
   "cell_type": "code",
   "execution_count": 64,
   "metadata": {
    "deletable": false,
    "editable": false
   },
   "outputs": [
    {
     "data": {
      "text/html": [
       "<p><strong><pre style='display: inline;'>q3a</pre></strong> passed! 🚀</p>"
      ],
      "text/plain": [
       "q3a results: All test cases passed!"
      ]
     },
     "execution_count": 64,
     "metadata": {},
     "output_type": "execute_result"
    }
   ],
   "source": [
    "grader.check(\"q3a\")"
   ]
  },
  {
   "cell_type": "markdown",
   "metadata": {},
   "source": [
    "Now, run the cell below to find the analytical solution for the `tips` dataset. Depending on the machine that you run your code on, **you should either see a singular matrix error or end up with some theta values that are nonsensical (magnitudes greater than $10^{15}$).** This is not good!"
   ]
  },
  {
   "cell_type": "code",
   "execution_count": 65,
   "metadata": {},
   "outputs": [
    {
     "name": "stdout",
     "output_type": "stream",
     "text": [
      "Traceback (most recent call last):\n",
      "  File \"C:\\Users\\LENOVO\\AppData\\Local\\Temp\\ipykernel_30172\\1502873220.py\", line 6, in <module>\n",
      "    model_analytical.fit(one_hot_X, tips)\n",
      "  File \"C:\\Users\\LENOVO\\AppData\\Local\\Temp\\ipykernel_30172\\82371170.py\", line 18, in fit\n",
      "    self._thetas = np.linalg.inv(X.T @ X) @ (X.T @ Y)\n",
      "                   ^^^^^^^^^^^^^^^^^^^^^^\n",
      "  File \"c:\\Users\\LENOVO\\AppData\\Local\\Programs\\Python\\Python312\\Lib\\site-packages\\numpy\\linalg\\_linalg.py\", line 608, in inv\n",
      "    ainv = _umath_linalg.inv(a, signature=signature)\n",
      "           ^^^^^^^^^^^^^^^^^^^^^^^^^^^^^^^^^^^^^^^^^\n",
      "  File \"c:\\Users\\LENOVO\\AppData\\Local\\Programs\\Python\\Python312\\Lib\\site-packages\\numpy\\linalg\\_linalg.py\", line 104, in _raise_linalgerror_singular\n",
      "    raise LinAlgError(\"Singular matrix\")\n",
      "numpy.linalg.LinAlgError: Singular matrix\n",
      "\n"
     ]
    }
   ],
   "source": [
    "# Run this cell to check the result, no further action needed.\n",
    "# The try-except block suppresses errors during submission\n",
    "import traceback\n",
    "try:\n",
    "    model_analytical = MyAnalyticallyFitOLSModel()\n",
    "    model_analytical.fit(one_hot_X, tips)\n",
    "    analytical_thetas = model_analytical._thetas\n",
    "    print(analytical_thetas)\n",
    "except Exception as e:\n",
    "    print(traceback.format_exc())"
   ]
  },
  {
   "cell_type": "markdown",
   "metadata": {
    "deletable": false,
    "editable": false
   },
   "source": [
    "<!-- BEGIN QUESTION -->\n",
    "\n",
    "<br>\n",
    "\n",
    "---\n",
    "\n",
    "### Question 3b"
   ]
  },
  {
   "cell_type": "markdown",
   "metadata": {
    "deletable": false,
    "editable": false
   },
   "source": [
    "In the cell below, explain why we got the error or nonsensical theta values above when trying to calculate the analytical solution for our one-hot encoded `tips` dataset.\n"
   ]
  },
  {
   "cell_type": "markdown",
   "metadata": {
    "tags": [
     "otter_answer_cell"
    ]
   },
   "source": [
    "_Type your answer here, replacing this text._"
   ]
  },
  {
   "cell_type": "markdown",
   "metadata": {
    "deletable": false,
    "editable": false
   },
   "source": [
    "<!-- END QUESTION -->\n",
    "\n",
    "<br>\n",
    "\n",
    "---\n",
    "### Question 3c: Fixing Our One-Hot Encoding\n",
    "\n",
    "Now, let's modify our one-hot encoding approach from earlier so we don't get the error we saw in the previous part. Complete the code below to one-hot-encode our dataset such that `one_hot_X_revised` has no redundant features. \n",
    "\n",
    "**Hint**: To identify redundancies in one-hot-encoded features, consider the number of boolean values that are required to uniquely express each possible option. For example, we only need one column to express whether an individual it's Lunch or Dinner time: If the value is 0 in the Lunch column, it tells us it must be Dinner time.\n",
    "\n",
    "**Note**: If you are running into a `matrices are not aligned` error, make sure to read the note in question 3a."
   ]
  },
  {
   "cell_type": "code",
   "execution_count": 68,
   "metadata": {
    "tags": [
     "otter_answer_cell"
    ]
   },
   "outputs": [
    {
     "data": {
      "text/html": [
       "<div>\n",
       "<style scoped>\n",
       "    .dataframe tbody tr th:only-of-type {\n",
       "        vertical-align: middle;\n",
       "    }\n",
       "\n",
       "    .dataframe tbody tr th {\n",
       "        vertical-align: top;\n",
       "    }\n",
       "\n",
       "    .dataframe thead th {\n",
       "        text-align: right;\n",
       "    }\n",
       "</style>\n",
       "<table border=\"1\" class=\"dataframe\">\n",
       "  <thead>\n",
       "    <tr style=\"text-align: right;\">\n",
       "      <th></th>\n",
       "      <th>bias</th>\n",
       "      <th>total_bill</th>\n",
       "      <th>size</th>\n",
       "      <th>day_Sat</th>\n",
       "      <th>day_Sun</th>\n",
       "      <th>day_Thur</th>\n",
       "      <th>sex_Male</th>\n",
       "      <th>smoker_Yes</th>\n",
       "      <th>time_Lunch</th>\n",
       "    </tr>\n",
       "  </thead>\n",
       "  <tbody>\n",
       "    <tr>\n",
       "      <th>0</th>\n",
       "      <td>1</td>\n",
       "      <td>16.99</td>\n",
       "      <td>2</td>\n",
       "      <td>0.0</td>\n",
       "      <td>1.0</td>\n",
       "      <td>0.0</td>\n",
       "      <td>0.0</td>\n",
       "      <td>0.0</td>\n",
       "      <td>0.0</td>\n",
       "    </tr>\n",
       "    <tr>\n",
       "      <th>1</th>\n",
       "      <td>1</td>\n",
       "      <td>10.34</td>\n",
       "      <td>3</td>\n",
       "      <td>0.0</td>\n",
       "      <td>1.0</td>\n",
       "      <td>0.0</td>\n",
       "      <td>1.0</td>\n",
       "      <td>0.0</td>\n",
       "      <td>0.0</td>\n",
       "    </tr>\n",
       "    <tr>\n",
       "      <th>2</th>\n",
       "      <td>1</td>\n",
       "      <td>21.01</td>\n",
       "      <td>3</td>\n",
       "      <td>0.0</td>\n",
       "      <td>1.0</td>\n",
       "      <td>0.0</td>\n",
       "      <td>1.0</td>\n",
       "      <td>0.0</td>\n",
       "      <td>0.0</td>\n",
       "    </tr>\n",
       "    <tr>\n",
       "      <th>3</th>\n",
       "      <td>1</td>\n",
       "      <td>23.68</td>\n",
       "      <td>2</td>\n",
       "      <td>0.0</td>\n",
       "      <td>1.0</td>\n",
       "      <td>0.0</td>\n",
       "      <td>1.0</td>\n",
       "      <td>0.0</td>\n",
       "      <td>0.0</td>\n",
       "    </tr>\n",
       "    <tr>\n",
       "      <th>4</th>\n",
       "      <td>1</td>\n",
       "      <td>24.59</td>\n",
       "      <td>4</td>\n",
       "      <td>0.0</td>\n",
       "      <td>1.0</td>\n",
       "      <td>0.0</td>\n",
       "      <td>0.0</td>\n",
       "      <td>0.0</td>\n",
       "      <td>0.0</td>\n",
       "    </tr>\n",
       "  </tbody>\n",
       "</table>\n",
       "</div>"
      ],
      "text/plain": [
       "   bias  total_bill  size  day_Sat  day_Sun  day_Thur  sex_Male  smoker_Yes  \\\n",
       "0     1       16.99     2      0.0      1.0       0.0       0.0         0.0   \n",
       "1     1       10.34     3      0.0      1.0       0.0       1.0         0.0   \n",
       "2     1       21.01     3      0.0      1.0       0.0       1.0         0.0   \n",
       "3     1       23.68     2      0.0      1.0       0.0       1.0         0.0   \n",
       "4     1       24.59     4      0.0      1.0       0.0       0.0         0.0   \n",
       "\n",
       "   time_Lunch  \n",
       "0         0.0  \n",
       "1         0.0  \n",
       "2         0.0  \n",
       "3         0.0  \n",
       "4         0.0  "
      ]
     },
     "metadata": {},
     "output_type": "display_data"
    },
    {
     "name": "stdout",
     "output_type": "stream",
     "text": [
      "Our scipy numerical model's loss is:  1.0103535612259997\n",
      "Our analytical model's loss is:  1.010353561225785\n"
     ]
    }
   ],
   "source": [
    "def one_hot_encode_revised(data):\n",
    "    \"\"\"\n",
    "    Return the one-hot encoded DataFrame of our input data, removing redundancies.\n",
    "    \n",
    "    Parameters\n",
    "    -----------\n",
    "    data: A DataFrame that may include non-numerical features.\n",
    "    \n",
    "    Returns\n",
    "    -----------\n",
    "    A one-hot encoded DataFrame that only contains numeric features without any redundancies.\n",
    "    \n",
    "    \"\"\"\n",
    "    data = one_hot_encode(data).drop(columns=['day_Fri','sex_Female','smoker_No','time_Dinner'])\n",
    "    return data\n",
    "one_hot_X_revised = one_hot_encode_revised(X)\n",
    "display(one_hot_X_revised.head())\n",
    "\n",
    "scipy_model = MyScipyLinearModel()\n",
    "scipy_model.fit(l2, one_hot_X_revised, tips)\n",
    "\n",
    "analytical_model = MyAnalyticallyFitOLSModel()\n",
    "analytical_model.fit(one_hot_X_revised, tips)\n",
    "\n",
    "print(\"Our scipy numerical model's loss is: \", mean_squared_error(scipy_model.predict(one_hot_X_revised), tips))\n",
    "print(\"Our analytical model's loss is: \", mean_squared_error(analytical_model.predict(one_hot_X_revised), tips))"
   ]
  },
  {
   "cell_type": "code",
   "execution_count": 69,
   "metadata": {
    "deletable": false,
    "editable": false
   },
   "outputs": [
    {
     "data": {
      "text/html": [
       "<p><strong><pre style='display: inline;'>q3c</pre></strong> passed! 🎉</p>"
      ],
      "text/plain": [
       "q3c results: All test cases passed!"
      ]
     },
     "execution_count": 69,
     "metadata": {},
     "output_type": "execute_result"
    }
   ],
   "source": [
    "grader.check(\"q3c\")"
   ]
  },
  {
   "cell_type": "markdown",
   "metadata": {},
   "source": [
    "We can check the rank of the matrix using the `NumPy` function `np.linalg.matrix_rank`. We have printed the rank of the data and number of columns for you below. "
   ]
  },
  {
   "cell_type": "code",
   "execution_count": 70,
   "metadata": {},
   "outputs": [
    {
     "name": "stdout",
     "output_type": "stream",
     "text": [
      "one_hot_X: \n",
      "\t number of columns: 13\trank: 9\n",
      "one_hot_X_revised: \n",
      "\t number of columns: 9\trank: 9\n"
     ]
    }
   ],
   "source": [
    "print(\"one_hot_X: \\n\"\n",
    "      + \"\\t number of columns: \" + str(len(one_hot_X.columns)) \\\n",
    "      + \"\\trank: \" + str(np.linalg.matrix_rank(one_hot_X)))\n",
    "print(\"one_hot_X_revised: \\n\"\n",
    "      + \"\\t number of columns: \" + str(len(one_hot_X_revised.columns)) \\\n",
    "      + \"\\trank: \" + str(np.linalg.matrix_rank(one_hot_X_revised)))"
   ]
  },
  {
   "cell_type": "markdown",
   "metadata": {
    "deletable": false,
    "editable": false
   },
   "source": [
    "<!-- BEGIN QUESTION -->\n",
    "\n",
    "<br>\n",
    "\n",
    "---\n",
    "### Question 3d: Analyzing our new One-Hot Encoding\n",
    "\n",
    "Why did removing redundancies in our one-hot encoding fix the problem we had in 3a?"
   ]
  },
  {
   "cell_type": "markdown",
   "metadata": {
    "tags": [
     "otter_answer_cell"
    ]
   },
   "source": [
    "_Type your answer here, replacing this text._"
   ]
  },
  {
   "cell_type": "markdown",
   "metadata": {
    "deletable": false,
    "editable": false
   },
   "source": [
    "<!-- END QUESTION -->\n",
    "\n",
    "\n",
    "Having linearly dependent columns means our system of linear equations is underdetermined, i.e. there are multiple solutions. There is no unique solution, hence there is no inverse. An alternate approach is to use `np.linalg.pinv` or `np.linalg.solve` instead of `np.linalg.inv`. They return **a** solution among the many possible solutions. Even with the redundant features, `np.linalg.solve` `np.linalg.pinv`  will work for the example above as a result. However, in general, it's best to drop redundant features for inference purposes and we will explore this further in Homework 7. "
   ]
  },
  {
   "cell_type": "markdown",
   "metadata": {},
   "source": [
    "<br/>\n",
    "<hr style=\"border: 5px solid #003262;\" />\n",
    "<hr style=\"border: 1px solid #fdb515;\" />\n",
    "\n",
    "\n",
    "# Gradient Descent\n",
    "\n",
    "You may be wondering why `scipy.optimize.minimize` or `sklearn.LinearRegression` works as well with redundant features when an analytical solution fails above. This is because `scipy.optimize.minimize` and `sklearn.LinearRegression` use numerical optimization techniques to find **a** solution---it does not require a unique solution through matrix inverses. \n",
    "\n",
    "Consider the models we crafted in `q2b` and `q2c`: even though we fit exactly the same model (Calling `.fit` with `fit_intercept=False` on data with a bias column is equivalent to calling `.fit` with `fit_intercept=True`) and achieved the same minimum MSE, the models arrived at very different coefficients. Below, we explore a numerical optimization method called **gradient descent**. It is a simpler version of the default solver used by `scipy.optimize.minimize` and `sklearn.LinearRegression`. "
   ]
  },
  {
   "cell_type": "markdown",
   "metadata": {},
   "source": [
    "<br/>\n",
    "<hr style=\"border: 1px solid #fdb515;\" />\n",
    "\n",
    "## Question 4: Sinusoidal Data\n"
   ]
  },
  {
   "cell_type": "code",
   "execution_count": 71,
   "metadata": {},
   "outputs": [
    {
     "data": {
      "text/html": [
       "<div>\n",
       "<style scoped>\n",
       "    .dataframe tbody tr th:only-of-type {\n",
       "        vertical-align: middle;\n",
       "    }\n",
       "\n",
       "    .dataframe tbody tr th {\n",
       "        vertical-align: top;\n",
       "    }\n",
       "\n",
       "    .dataframe thead th {\n",
       "        text-align: right;\n",
       "    }\n",
       "</style>\n",
       "<table border=\"1\" class=\"dataframe\">\n",
       "  <thead>\n",
       "    <tr style=\"text-align: right;\">\n",
       "      <th></th>\n",
       "      <th>x</th>\n",
       "      <th>y</th>\n",
       "    </tr>\n",
       "  </thead>\n",
       "  <tbody>\n",
       "    <tr>\n",
       "      <th>0</th>\n",
       "      <td>-5.000000</td>\n",
       "      <td>-7.672309</td>\n",
       "    </tr>\n",
       "    <tr>\n",
       "      <th>1</th>\n",
       "      <td>-4.966555</td>\n",
       "      <td>-7.779735</td>\n",
       "    </tr>\n",
       "    <tr>\n",
       "      <th>2</th>\n",
       "      <td>-4.933110</td>\n",
       "      <td>-7.995938</td>\n",
       "    </tr>\n",
       "    <tr>\n",
       "      <th>3</th>\n",
       "      <td>-4.899666</td>\n",
       "      <td>-8.197059</td>\n",
       "    </tr>\n",
       "    <tr>\n",
       "      <th>4</th>\n",
       "      <td>-4.866221</td>\n",
       "      <td>-8.183883</td>\n",
       "    </tr>\n",
       "  </tbody>\n",
       "</table>\n",
       "</div>"
      ],
      "text/plain": [
       "          x         y\n",
       "0 -5.000000 -7.672309\n",
       "1 -4.966555 -7.779735\n",
       "2 -4.933110 -7.995938\n",
       "3 -4.899666 -8.197059\n",
       "4 -4.866221 -8.183883"
      ]
     },
     "execution_count": 71,
     "metadata": {},
     "output_type": "execute_result"
    }
   ],
   "source": [
    "# Run this cell to load the data for this problem; no further action is needed.\n",
    "df = pd.read_csv(\"data/lab7_data.csv\", index_col=0)\n",
    "df.head()"
   ]
  },
  {
   "cell_type": "markdown",
   "metadata": {},
   "source": [
    "If we plot this data, we see that there is a clear sinusoidal relationship between `x` and `y`. Here we use `plotly` to plot a scatterplot showing the relationship between `x` and `y`. If you hover over points, you will be able to see the details of the data that's attributed to a data point."
   ]
  },
  {
   "cell_type": "code",
   "execution_count": 72,
   "metadata": {},
   "outputs": [
    {
     "data": {
      "application/vnd.plotly.v1+json": {
       "config": {
        "plotlyServerURL": "https://plot.ly"
       },
       "data": [
        {
         "hovertemplate": "x=%{x}<br>y=%{y}<extra></extra>",
         "legendgroup": "",
         "marker": {
          "color": "#636efa",
          "symbol": "circle"
         },
         "mode": "markers",
         "name": "",
         "orientation": "v",
         "showlegend": false,
         "type": "scatter",
         "x": {
          "bdata": "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",
          "dtype": "f8"
         },
         "xaxis": "x",
         "y": {
          "bdata": "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",
          "dtype": "f8"
         },
         "yaxis": "y"
        }
       ],
       "layout": {
        "height": 600,
        "legend": {
         "tracegroupgap": 0
        },
        "margin": {
         "t": 60
        },
        "template": {
         "data": {
          "bar": [
           {
            "error_x": {
             "color": "#2a3f5f"
            },
            "error_y": {
             "color": "#2a3f5f"
            },
            "marker": {
             "line": {
              "color": "#E5ECF6",
              "width": 0.5
             },
             "pattern": {
              "fillmode": "overlay",
              "size": 10,
              "solidity": 0.2
             }
            },
            "type": "bar"
           }
          ],
          "barpolar": [
           {
            "marker": {
             "line": {
              "color": "#E5ECF6",
              "width": 0.5
             },
             "pattern": {
              "fillmode": "overlay",
              "size": 10,
              "solidity": 0.2
             }
            },
            "type": "barpolar"
           }
          ],
          "carpet": [
           {
            "aaxis": {
             "endlinecolor": "#2a3f5f",
             "gridcolor": "white",
             "linecolor": "white",
             "minorgridcolor": "white",
             "startlinecolor": "#2a3f5f"
            },
            "baxis": {
             "endlinecolor": "#2a3f5f",
             "gridcolor": "white",
             "linecolor": "white",
             "minorgridcolor": "white",
             "startlinecolor": "#2a3f5f"
            },
            "type": "carpet"
           }
          ],
          "choropleth": [
           {
            "colorbar": {
             "outlinewidth": 0,
             "ticks": ""
            },
            "type": "choropleth"
           }
          ],
          "contour": [
           {
            "colorbar": {
             "outlinewidth": 0,
             "ticks": ""
            },
            "colorscale": [
             [
              0,
              "#0d0887"
             ],
             [
              0.1111111111111111,
              "#46039f"
             ],
             [
              0.2222222222222222,
              "#7201a8"
             ],
             [
              0.3333333333333333,
              "#9c179e"
             ],
             [
              0.4444444444444444,
              "#bd3786"
             ],
             [
              0.5555555555555556,
              "#d8576b"
             ],
             [
              0.6666666666666666,
              "#ed7953"
             ],
             [
              0.7777777777777778,
              "#fb9f3a"
             ],
             [
              0.8888888888888888,
              "#fdca26"
             ],
             [
              1,
              "#f0f921"
             ]
            ],
            "type": "contour"
           }
          ],
          "contourcarpet": [
           {
            "colorbar": {
             "outlinewidth": 0,
             "ticks": ""
            },
            "type": "contourcarpet"
           }
          ],
          "heatmap": [
           {
            "colorbar": {
             "outlinewidth": 0,
             "ticks": ""
            },
            "colorscale": [
             [
              0,
              "#0d0887"
             ],
             [
              0.1111111111111111,
              "#46039f"
             ],
             [
              0.2222222222222222,
              "#7201a8"
             ],
             [
              0.3333333333333333,
              "#9c179e"
             ],
             [
              0.4444444444444444,
              "#bd3786"
             ],
             [
              0.5555555555555556,
              "#d8576b"
             ],
             [
              0.6666666666666666,
              "#ed7953"
             ],
             [
              0.7777777777777778,
              "#fb9f3a"
             ],
             [
              0.8888888888888888,
              "#fdca26"
             ],
             [
              1,
              "#f0f921"
             ]
            ],
            "type": "heatmap"
           }
          ],
          "histogram": [
           {
            "marker": {
             "pattern": {
              "fillmode": "overlay",
              "size": 10,
              "solidity": 0.2
             }
            },
            "type": "histogram"
           }
          ],
          "histogram2d": [
           {
            "colorbar": {
             "outlinewidth": 0,
             "ticks": ""
            },
            "colorscale": [
             [
              0,
              "#0d0887"
             ],
             [
              0.1111111111111111,
              "#46039f"
             ],
             [
              0.2222222222222222,
              "#7201a8"
             ],
             [
              0.3333333333333333,
              "#9c179e"
             ],
             [
              0.4444444444444444,
              "#bd3786"
             ],
             [
              0.5555555555555556,
              "#d8576b"
             ],
             [
              0.6666666666666666,
              "#ed7953"
             ],
             [
              0.7777777777777778,
              "#fb9f3a"
             ],
             [
              0.8888888888888888,
              "#fdca26"
             ],
             [
              1,
              "#f0f921"
             ]
            ],
            "type": "histogram2d"
           }
          ],
          "histogram2dcontour": [
           {
            "colorbar": {
             "outlinewidth": 0,
             "ticks": ""
            },
            "colorscale": [
             [
              0,
              "#0d0887"
             ],
             [
              0.1111111111111111,
              "#46039f"
             ],
             [
              0.2222222222222222,
              "#7201a8"
             ],
             [
              0.3333333333333333,
              "#9c179e"
             ],
             [
              0.4444444444444444,
              "#bd3786"
             ],
             [
              0.5555555555555556,
              "#d8576b"
             ],
             [
              0.6666666666666666,
              "#ed7953"
             ],
             [
              0.7777777777777778,
              "#fb9f3a"
             ],
             [
              0.8888888888888888,
              "#fdca26"
             ],
             [
              1,
              "#f0f921"
             ]
            ],
            "type": "histogram2dcontour"
           }
          ],
          "mesh3d": [
           {
            "colorbar": {
             "outlinewidth": 0,
             "ticks": ""
            },
            "type": "mesh3d"
           }
          ],
          "parcoords": [
           {
            "line": {
             "colorbar": {
              "outlinewidth": 0,
              "ticks": ""
             }
            },
            "type": "parcoords"
           }
          ],
          "pie": [
           {
            "automargin": true,
            "type": "pie"
           }
          ],
          "scatter": [
           {
            "fillpattern": {
             "fillmode": "overlay",
             "size": 10,
             "solidity": 0.2
            },
            "type": "scatter"
           }
          ],
          "scatter3d": [
           {
            "line": {
             "colorbar": {
              "outlinewidth": 0,
              "ticks": ""
             }
            },
            "marker": {
             "colorbar": {
              "outlinewidth": 0,
              "ticks": ""
             }
            },
            "type": "scatter3d"
           }
          ],
          "scattercarpet": [
           {
            "marker": {
             "colorbar": {
              "outlinewidth": 0,
              "ticks": ""
             }
            },
            "type": "scattercarpet"
           }
          ],
          "scattergeo": [
           {
            "marker": {
             "colorbar": {
              "outlinewidth": 0,
              "ticks": ""
             }
            },
            "type": "scattergeo"
           }
          ],
          "scattergl": [
           {
            "marker": {
             "colorbar": {
              "outlinewidth": 0,
              "ticks": ""
             }
            },
            "type": "scattergl"
           }
          ],
          "scattermap": [
           {
            "marker": {
             "colorbar": {
              "outlinewidth": 0,
              "ticks": ""
             }
            },
            "type": "scattermap"
           }
          ],
          "scattermapbox": [
           {
            "marker": {
             "colorbar": {
              "outlinewidth": 0,
              "ticks": ""
             }
            },
            "type": "scattermapbox"
           }
          ],
          "scatterpolar": [
           {
            "marker": {
             "colorbar": {
              "outlinewidth": 0,
              "ticks": ""
             }
            },
            "type": "scatterpolar"
           }
          ],
          "scatterpolargl": [
           {
            "marker": {
             "colorbar": {
              "outlinewidth": 0,
              "ticks": ""
             }
            },
            "type": "scatterpolargl"
           }
          ],
          "scatterternary": [
           {
            "marker": {
             "colorbar": {
              "outlinewidth": 0,
              "ticks": ""
             }
            },
            "type": "scatterternary"
           }
          ],
          "surface": [
           {
            "colorbar": {
             "outlinewidth": 0,
             "ticks": ""
            },
            "colorscale": [
             [
              0,
              "#0d0887"
             ],
             [
              0.1111111111111111,
              "#46039f"
             ],
             [
              0.2222222222222222,
              "#7201a8"
             ],
             [
              0.3333333333333333,
              "#9c179e"
             ],
             [
              0.4444444444444444,
              "#bd3786"
             ],
             [
              0.5555555555555556,
              "#d8576b"
             ],
             [
              0.6666666666666666,
              "#ed7953"
             ],
             [
              0.7777777777777778,
              "#fb9f3a"
             ],
             [
              0.8888888888888888,
              "#fdca26"
             ],
             [
              1,
              "#f0f921"
             ]
            ],
            "type": "surface"
           }
          ],
          "table": [
           {
            "cells": {
             "fill": {
              "color": "#EBF0F8"
             },
             "line": {
              "color": "white"
             }
            },
            "header": {
             "fill": {
              "color": "#C8D4E3"
             },
             "line": {
              "color": "white"
             }
            },
            "type": "table"
           }
          ]
         },
         "layout": {
          "annotationdefaults": {
           "arrowcolor": "#2a3f5f",
           "arrowhead": 0,
           "arrowwidth": 1
          },
          "autotypenumbers": "strict",
          "coloraxis": {
           "colorbar": {
            "outlinewidth": 0,
            "ticks": ""
           }
          },
          "colorscale": {
           "diverging": [
            [
             0,
             "#8e0152"
            ],
            [
             0.1,
             "#c51b7d"
            ],
            [
             0.2,
             "#de77ae"
            ],
            [
             0.3,
             "#f1b6da"
            ],
            [
             0.4,
             "#fde0ef"
            ],
            [
             0.5,
             "#f7f7f7"
            ],
            [
             0.6,
             "#e6f5d0"
            ],
            [
             0.7,
             "#b8e186"
            ],
            [
             0.8,
             "#7fbc41"
            ],
            [
             0.9,
             "#4d9221"
            ],
            [
             1,
             "#276419"
            ]
           ],
           "sequential": [
            [
             0,
             "#0d0887"
            ],
            [
             0.1111111111111111,
             "#46039f"
            ],
            [
             0.2222222222222222,
             "#7201a8"
            ],
            [
             0.3333333333333333,
             "#9c179e"
            ],
            [
             0.4444444444444444,
             "#bd3786"
            ],
            [
             0.5555555555555556,
             "#d8576b"
            ],
            [
             0.6666666666666666,
             "#ed7953"
            ],
            [
             0.7777777777777778,
             "#fb9f3a"
            ],
            [
             0.8888888888888888,
             "#fdca26"
            ],
            [
             1,
             "#f0f921"
            ]
           ],
           "sequentialminus": [
            [
             0,
             "#0d0887"
            ],
            [
             0.1111111111111111,
             "#46039f"
            ],
            [
             0.2222222222222222,
             "#7201a8"
            ],
            [
             0.3333333333333333,
             "#9c179e"
            ],
            [
             0.4444444444444444,
             "#bd3786"
            ],
            [
             0.5555555555555556,
             "#d8576b"
            ],
            [
             0.6666666666666666,
             "#ed7953"
            ],
            [
             0.7777777777777778,
             "#fb9f3a"
            ],
            [
             0.8888888888888888,
             "#fdca26"
            ],
            [
             1,
             "#f0f921"
            ]
           ]
          },
          "colorway": [
           "#636efa",
           "#EF553B",
           "#00cc96",
           "#ab63fa",
           "#FFA15A",
           "#19d3f3",
           "#FF6692",
           "#B6E880",
           "#FF97FF",
           "#FECB52"
          ],
          "font": {
           "color": "#2a3f5f"
          },
          "geo": {
           "bgcolor": "white",
           "lakecolor": "white",
           "landcolor": "#E5ECF6",
           "showlakes": true,
           "showland": true,
           "subunitcolor": "white"
          },
          "hoverlabel": {
           "align": "left"
          },
          "hovermode": "closest",
          "mapbox": {
           "style": "light"
          },
          "paper_bgcolor": "white",
          "plot_bgcolor": "#E5ECF6",
          "polar": {
           "angularaxis": {
            "gridcolor": "white",
            "linecolor": "white",
            "ticks": ""
           },
           "bgcolor": "#E5ECF6",
           "radialaxis": {
            "gridcolor": "white",
            "linecolor": "white",
            "ticks": ""
           }
          },
          "scene": {
           "xaxis": {
            "backgroundcolor": "#E5ECF6",
            "gridcolor": "white",
            "gridwidth": 2,
            "linecolor": "white",
            "showbackground": true,
            "ticks": "",
            "zerolinecolor": "white"
           },
           "yaxis": {
            "backgroundcolor": "#E5ECF6",
            "gridcolor": "white",
            "gridwidth": 2,
            "linecolor": "white",
            "showbackground": true,
            "ticks": "",
            "zerolinecolor": "white"
           },
           "zaxis": {
            "backgroundcolor": "#E5ECF6",
            "gridcolor": "white",
            "gridwidth": 2,
            "linecolor": "white",
            "showbackground": true,
            "ticks": "",
            "zerolinecolor": "white"
           }
          },
          "shapedefaults": {
           "line": {
            "color": "#2a3f5f"
           }
          },
          "ternary": {
           "aaxis": {
            "gridcolor": "white",
            "linecolor": "white",
            "ticks": ""
           },
           "baxis": {
            "gridcolor": "white",
            "linecolor": "white",
            "ticks": ""
           },
           "bgcolor": "#E5ECF6",
           "caxis": {
            "gridcolor": "white",
            "linecolor": "white",
            "ticks": ""
           }
          },
          "title": {
           "x": 0.05
          },
          "xaxis": {
           "automargin": true,
           "gridcolor": "white",
           "linecolor": "white",
           "ticks": "",
           "title": {
            "standoff": 15
           },
           "zerolinecolor": "white",
           "zerolinewidth": 2
          },
          "yaxis": {
           "automargin": true,
           "gridcolor": "white",
           "linecolor": "white",
           "ticks": "",
           "title": {
            "standoff": 15
           },
           "zerolinecolor": "white",
           "zerolinewidth": 2
          }
         }
        },
        "width": 800,
        "xaxis": {
         "anchor": "y",
         "domain": [
          0,
          1
         ],
         "title": {
          "text": "x"
         }
        },
        "yaxis": {
         "anchor": "x",
         "domain": [
          0,
          1
         ],
         "title": {
          "text": "y"
         }
        }
       }
      }
     },
     "metadata": {},
     "output_type": "display_data"
    }
   ],
   "source": [
    "# Run this cell to plot the data; no further action is needed.\n",
    "import plotly.express as px\n",
    "px.scatter(df, x=\"x\", y=\"y\", width=800, height=600)"
   ]
  },
  {
   "cell_type": "markdown",
   "metadata": {},
   "source": [
    "In this exercise, we'll show gradient descent is so powerful it can even optimize a non-linear model (when the analytical solution is hard to derive). Specifically, we're going to model the relationship of our data by:\n",
    "\n",
    "$$\\Large{\n",
    "\\hat{y}_\\theta(x) = \\theta_1x + \\sin(\\theta_2x)\n",
    "}$$"
   ]
  },
  {
   "cell_type": "markdown",
   "metadata": {},
   "source": [
    "Our model is parameterized by $\\theta = \\begin{bmatrix} \\theta_1 \\\\ \\theta_2 \\end{bmatrix}$.\n",
    "\n",
    "Note that a general `sin` function $a\\sin(bx+c)$ has three parameters: amplitude scaling parameter $a$, frequency parameter $b$, and phase shifting parameter $c$. \n",
    "Here, we're assuming the amplitude $a$ is around 1, and the phase shifting parameter $c$ is around zero. We do not attempt to justify this assumption and you're welcome to see what happens if you ignore this assumption at the end of this lab."
   ]
  },
  {
   "cell_type": "markdown",
   "metadata": {
    "nbgrader": {
     "grade": false,
     "grade_id": "q3a",
     "locked": true,
     "schema_version": 2,
     "solution": false
    }
   },
   "source": [
    "We define the `sin_model` function below that outputs predictions $\\hat{\\mathbb{Y}}$ for the $y$-values $\\mathbb{Y}$ using $\\mathbb{X}$ (the $x$-values) based on our new equation."
   ]
  },
  {
   "cell_type": "code",
   "execution_count": 73,
   "metadata": {
    "nbgrader": {
     "grade": false,
     "grade_id": "q3a-answer",
     "locked": false,
     "schema_version": 2,
     "solution": true
    }
   },
   "outputs": [],
   "source": [
    "# Run this cell to define the model; no further action is needed.\n",
    "def sin_model(X, theta):\n",
    "    \"\"\"\n",
    "    Outputs predictions (Y-hat) given X, theta_1, theta_2.\n",
    "\n",
    "    Keyword arguments:\n",
    "    x -- The vector of values x.\n",
    "    theta -- A vector of length 2, where theta[0] = theta_1 and theta[1] = theta_2.\n",
    "    \"\"\"\n",
    "    theta_1 = theta[0]\n",
    "    theta_2 = theta[1]\n",
    "    return theta_1 * X + np.sin(theta_2 * X)"
   ]
  },
  {
   "cell_type": "markdown",
   "metadata": {},
   "source": [
    "You might ask - Why we don't just represent this as a linear model with a sinusoidal feature, just like we did earlier? The issue is that the theta is INSIDE the `sin` function, and hence this formulation is **not linear in theta**. In other words, linear models use their parameters to adjust the scale of each feature, but $\\theta_2$ in this model adjusts the frequency of the feature. There are tricks we could play to use our linear model framework here, but we won't attempt this in our lab."
   ]
  },
  {
   "cell_type": "markdown",
   "metadata": {},
   "source": [
    "### Terminology: Loss\n",
    "\n",
    "We use the word \"loss\" in two different (but very related) contexts in this course.\n",
    "* In general, the loss is the cost function that measures how far off a model's prediction(s) is(are) from the actual value(s).\n",
    "    * **Per-datapoint loss** is a cost function that measures the cost of $y$ vs $\\hat{y}$ for a particular datapoint. For example, $L(y, \\hat{y}) = (y - \\hat{y})^2$ is the L2 loss of the observed and predicted pair ($y$, $\\hat{y}$).\n",
    "    * **Loss** (without any adjectives) is generally a cost function measured across all data points. We often use this term interchangeably with **empirical risk** to denote the average per-datapoint loss. For example, MSE can be denoted as $MSE(\\theta) = L(\\theta) = R(\\theta) = \\frac{1}{n}\\sum_{i=1}^{n} (y_i - \\hat{y_i})^2$\n",
    "* If we're being particular about notation, we usually prioritize using the latter definition, because we don't particularly look at a given data point's loss when optimizing a model. In other words, the dataset-level loss is the **objective function** that we'd like to minimize.\n",
    "    * Example: \"gradient of L2 loss\" means gradient of Mean Squared Error, not per-datapoint L2 loss.\n",
    "* In this particular lab, however, we'll stick to using $L(\\theta)$ for consistency with the lecture. In future work, we will be clearer about the distinction."
   ]
  },
  {
   "cell_type": "markdown",
   "metadata": {
    "deletable": false,
    "editable": false
   },
   "source": [
    "<br>\n",
    "\n",
    "---\n",
    "### Question 4a: Computing the Gradient of the MSE With Respect to Theta on the Sine Model"
   ]
  },
  {
   "cell_type": "markdown",
   "metadata": {
    "deletable": false,
    "editable": false
   },
   "source": [
    "Recall $\\hat{\\theta}$ is the value of $\\theta$ that minimizes our loss function. One way to solve for $\\hat{\\theta}$ is by computing the gradient of our loss function with respect to $\\theta$, like we did in Lecture 13. Recall that the gradient is a column vector of partial derivatives (one partial derivative per parameter).\n",
    "\n",
    "**Task**: Write/derive the expressions for the following values and use them to fill in the functions below. Working out the partial derivatives on paper is a great starting point for implementing `sin_MSE_dt1` and `sin_MSE_dt2`!\n",
    "\n",
    "* $L(\\theta)$ as `sin_mse`: Our cost function, mean squared error, where `theta` represents $\\theta = \\begin{bmatrix} \\theta_1 \\\\ \\theta_2 \\end{bmatrix}$. \n",
    "Recall that $$L(\\vec{\\theta}, \\mathbb{X}, \\mathbb{Y}) = \\frac{1}{n} \\sum_{i=1}^{n} (y_i - \\hat{y}_i)^2.$$\n",
    "* $\\frac{\\partial L }{\\partial \\theta_1}$ as `sin_MSE_dt1`: The partial derivative of $L$ with respect to $\\theta_1$.\n",
    "* $\\frac{\\partial L }{\\partial \\theta_2}$ as `sin_MSE_dt2`: The partial derivative of $L$ with respect to $\\theta_2$.\n",
    "* We have completed for you `sin_MSE_gradient`, which computes $\\nabla_{\\vec{\\theta}} L(\\vec{\\theta}, \\mathbb{X}, \\mathbb{Y})$  by calling `dt1` and `dt2` and returns the gradient `dt`.\n",
    "\n",
    "**Notes:**\n",
    "* We are still working with the `DataFrame` `df`.\n",
    "* To keep our code more concise, use `np.mean` instead of taking `np.sum` and then dividing by the length of the `NumPy` array.\n",
    "* Another way to keep your code more concise is to use the function `sin_model` we defined which computes the output of the model.\n",
    "* Review the \"Terminology: Loss\" section above."
   ]
  },
  {
   "cell_type": "code",
   "execution_count": 122,
   "metadata": {
    "tags": [
     "otter_answer_cell"
    ]
   },
   "outputs": [],
   "source": [
    "def sin_MSE(theta, X, Y):\n",
    "    \"\"\"\n",
    "    Returns the numerical value of the l2 loss of our sinusoidal model given theta.\n",
    "\n",
    "    Keyword arguments:\n",
    "    theta -- The vector of values theta.\n",
    "    X     -- The vector of x values - note that sin_model only needs a vector of X values and handles the transformations.\n",
    "    Y     -- The vector of y values.\n",
    "    \"\"\"\n",
    "    return np.mean((sin_model(X, theta) - Y) ** 2)\n",
    "\n",
    "def sin_MSE_dt1(theta, X, Y):\n",
    "    \"\"\"\n",
    "    Returns the numerical value of the partial derivative of l2 loss with respect to theta_1.\n",
    "\n",
    "    Keyword arguments:\n",
    "    theta -- The vector of values theta.\n",
    "    X     -- The vector of x values.\n",
    "    Y     -- The vector of y values.\n",
    "    \"\"\"\n",
    "    error = Y - sin_model(X, theta)\n",
    "    return -2*np.mean(error*X).astype(float)\n",
    "    \n",
    "def sin_MSE_dt2(theta, X, Y):\n",
    "    \"\"\"\n",
    "    Returns the numerical value of the partial of l2 loss with respect to theta_2.\n",
    "\n",
    "    Keyword arguments:\n",
    "    theta -- The vector of values theta.\n",
    "    X     -- The vector of x values.\n",
    "    Y     -- The vector of y values.\n",
    "    \"\"\"\n",
    "    error = Y - sin_model(X, theta)\n",
    "    return -2*np.mean(error * X * np.cos(theta[1]*X)).astype(float)\n",
    "    \n",
    "# This function calls dt1 and dt2 and returns the gradient dt.\n",
    "# It is already implemented for you.\n",
    "def sin_MSE_gradient(theta, X, Y):\n",
    "    \"\"\"\n",
    "    Returns the gradient of l2 loss with respect to vector theta.\n",
    "\n",
    "    Keyword arguments:\n",
    "    theta -- The vector of values theta.\n",
    "    X     -- The vector of x values.\n",
    "    Y     -- The vector of y values.\n",
    "    \"\"\"\n",
    "    return np.array([sin_MSE_dt1(theta, X, Y), sin_MSE_dt2(theta, X, Y)]).astype(float)"
   ]
  },
  {
   "cell_type": "code",
   "execution_count": 123,
   "metadata": {
    "deletable": false,
    "editable": false
   },
   "outputs": [
    {
     "data": {
      "text/html": [
       "<p><strong><pre style='display: inline;'>q4a</pre></strong> passed! 🙌</p>"
      ],
      "text/plain": [
       "q4a results: All test cases passed!"
      ]
     },
     "execution_count": 123,
     "metadata": {},
     "output_type": "execute_result"
    }
   ],
   "source": [
    "grader.check(\"q4a\")"
   ]
  },
  {
   "cell_type": "markdown",
   "metadata": {
    "deletable": false,
    "editable": false
   },
   "source": [
    "<br>\n",
    "\n",
    "---\n",
    "### Question 4b: Implementing Gradient Descent and Using It to Optimize the Sine Model"
   ]
  },
  {
   "cell_type": "markdown",
   "metadata": {
    "deletable": false,
    "editable": false
   },
   "source": [
    "Let's now implement gradient descent. \n",
    "\n",
    "Recall that the gradient descent update function follows the form:\n",
    "\n",
    "$$\\large\n",
    "\\vec{\\theta}^{(t+1)} \\leftarrow \\vec{\\theta}^{(t)} - \\alpha \\left (\\nabla_{\\vec{\\theta}} L(\\vec{\\theta}, \\mathbb{X}, \\mathbb{Y}) \\right )\n",
    "$$\n",
    "where \n",
    "\n",
    "- $\\vec{\\theta}^{(t+1)}$: Our new coefficients after making an update.\n",
    "- $\\vec{\\theta}^{(t)}$: Our current coefficients.\n",
    "- $\\alpha$: Our step size or learning rate.\n",
    "- $\\nabla_{\\vec{\\theta}} L(\\vec{\\theta}, \\mathbb{X}, \\mathbb{Y})$: The gradient of our loss.\n",
    "\n",
    "At each time step, use the gradient and `alpha` to update your current `theta`. Save the current `theta` in `theta_history`, along with the average squared loss (computed with the current `theta`) in `loss_history`.\n",
    "\n",
    "After completing the function, the cell will output the trajectory from running gradient descent over time.\n",
    "\n",
    "\n",
    "Note that the function you're implementing here is somewhat different than the gradient descent function we created in the lecture. The version in the lecture was `gradient_descent(df, initial_guess, alpha, n)`, where `df` was the gradient of the function we are minimizing and `initial_guess` are the starting parameters for that function. Here our signature is a bit different (described below in docstring) than the `gradient_descent` implementation from the lecture.\n",
    "\n",
    "**Hints:**\n",
    "- Write out the gradient update equation (1 step). What variables will you need for each gradient update? Of these variables, which ones do you already have, and which ones will you need to recompute at each time step?\n",
    "- You may need a loop here to update `theta` several times. Take a look at `num_iter`.\n",
    "- Be sure to include the initial theta and loss into the trajectory because the test checks for this.\n",
    "- Don't forget that `sin_MSE` and `sin_MSE_gradient` require the $x$ and $y$ values to be supplied."
   ]
  },
  {
   "cell_type": "code",
   "execution_count": 134,
   "metadata": {
    "tags": [
     "otter_answer_cell"
    ]
   },
   "outputs": [
    {
     "name": "stdout",
     "output_type": "stream",
     "text": [
      "theta: [1.51625373 2.99448441], Loss: 20.859191416422235\n",
      "theta: [2.60105745 2.60105745], Loss: 9.285008173048666\n",
      "theta: [0.90342728 2.59100602], Loss: 4.680169273815357\n",
      "theta: [2.05633644 2.9631291 ], Loss: 2.6242517936325833\n",
      "theta: [1.15892347 2.86687431], Loss: 1.4765157174727774\n",
      "theta: [1.79388042 3.07275573], Loss: 0.9073271435862448\n",
      "theta: [1.32157494 3.00146569], Loss: 0.541531643291128\n",
      "theta: [1.64954491 3.02910866], Loss: 0.3775841142469479\n",
      "theta: [1.42325294 2.98820303], Loss: 0.2969750688130759\n",
      "theta: [1.58295041 3.01033846], Loss: 0.2590425421375732\n",
      "theta: [1.47097255 2.98926519], Loss: 0.23973439443291833\n",
      "theta: [1.55040965 3.0017442 ], Loss: 0.23034782416254634\n",
      "theta: [1.49439132 2.99135194], Loss: 0.2255775832667724\n",
      "theta: [1.5341564  2.99797824], Loss: 0.22321772191904068\n",
      "theta: [1.50603995 2.99286671], Loss: 0.22202363967204045\n",
      "theta: [1.52598919 2.99628665], Loss: 0.22142811500262397\n",
      "theta: [1.51186655 2.99375531], Loss: 0.22112776381775168\n",
      "theta: [1.52188208 2.99549617], Loss: 0.22097741373654575\n",
      "theta: [1.51478773 2.99423497], Loss: 0.22090173185683032\n",
      "theta: [1.51981739 2.99511516], Loss: 0.2208637810584589\n",
      "theta: [1.51625373 2.99448441], Loss: 0.2208446977760149\n"
     ]
    }
   ],
   "source": [
    "def init_theta():\n",
    "    \"\"\"Creates an initial theta [0, 0] of shape (2,) as a starting point for gradient descent.\"\"\"\n",
    "    return np.array([0, 0])\n",
    "\n",
    "def grad_desc(loss_f, gradient_loss_f, theta, data, num_iter=20, alpha=0.1):\n",
    "    \"\"\"\n",
    "    Run gradient descent update for a finite number of iterations and static learning rate.\n",
    "\n",
    "    Keyword arguments:\n",
    "    loss_f -- The loss function to be minimized (used for computing loss_history).\n",
    "    gradient_loss_f -- The gradient of the loss function to be minimized.\n",
    "    theta -- The vector of values theta to use at the first iteration.\n",
    "    data -- The data used in the model. \n",
    "    num_iter -- The max number of iterations.\n",
    "    alpha -- The learning rate (also called the step size).\n",
    "    \n",
    "    Return:\n",
    "    theta -- The optimal value of theta after num_iter of gradient descent.\n",
    "    theta_history -- The list of theta values over each iteration of gradient descent.\n",
    "    loss_history -- The list of loss values over each iteration of gradient descent.\n",
    "    \"\"\"\n",
    "    theta_history = []\n",
    "    loss_history = []\n",
    "    theta = theta.astype(float)\n",
    "    theta_history.append(theta)\n",
    "    loss_history.append(loss_f(theta, data['x'], data['y']))\n",
    "    for i in range(num_iter):\n",
    "        theta -= gradient_loss_f(theta, data['x'], data['y']) * alpha\n",
    "        theta_history.append(theta.copy())\n",
    "        loss_history.append(loss_f(theta, data['x'], data['y']))\n",
    "    return theta, theta_history, loss_history\n",
    "\n",
    "theta_start = init_theta()\n",
    "theta_hat, thetas_used, losses_calculated = grad_desc(\n",
    "    sin_MSE, sin_MSE_gradient, theta_start, df, num_iter=20, alpha=0.1\n",
    ")\n",
    "for b, l in zip(thetas_used, losses_calculated):\n",
    "    print(f\"theta: {b}, Loss: {l}\")"
   ]
  },
  {
   "cell_type": "code",
   "execution_count": 135,
   "metadata": {
    "deletable": false,
    "editable": false
   },
   "outputs": [
    {
     "data": {
      "text/html": [
       "<p><strong><pre style='display: inline;'>q4b</pre></strong> passed! 🎉</p>"
      ],
      "text/plain": [
       "q4b results: All test cases passed!"
      ]
     },
     "execution_count": 135,
     "metadata": {},
     "output_type": "execute_result"
    }
   ],
   "source": [
    "grader.check(\"q4b\")"
   ]
  },
  {
   "cell_type": "markdown",
   "metadata": {},
   "source": [
    "Let's visually inspect our results of running gradient descent to optimize $\\vec{\\theta}$. The code below plots our $x$-values with our model's predicted $\\hat{y}$-values over the original scatter plot. You should notice that gradient descent successfully optimized $\\vec{\\theta}$."
   ]
  },
  {
   "cell_type": "code",
   "execution_count": 136,
   "metadata": {},
   "outputs": [],
   "source": [
    "theta_init = init_theta()\n",
    "theta_est, thetas, loss = grad_desc(sin_MSE, sin_MSE_gradient, theta_init, df)"
   ]
  },
  {
   "cell_type": "markdown",
   "metadata": {},
   "source": [
    "Plotting our model output over our observations shows that gradient descent did  a great job finding both the overall increase (slope) of the data, as well as the oscillation frequency."
   ]
  },
  {
   "cell_type": "code",
   "execution_count": 137,
   "metadata": {},
   "outputs": [
    {
     "name": "stderr",
     "output_type": "stream",
     "text": [
      "<>:4: SyntaxWarning:\n",
      "\n",
      "invalid escape sequence '\\h'\n",
      "\n",
      "<>:4: SyntaxWarning:\n",
      "\n",
      "invalid escape sequence '\\h'\n",
      "\n",
      "C:\\Users\\LENOVO\\AppData\\Local\\Temp\\ipykernel_30172\\1106403361.py:4: SyntaxWarning:\n",
      "\n",
      "invalid escape sequence '\\h'\n",
      "\n"
     ]
    },
    {
     "data": {
      "image/png": "[encoded data removed]",
      "text/plain": [
       "<Figure size 640x480 with 1 Axes>"
      ]
     },
     "metadata": {},
     "output_type": "display_data"
    }
   ],
   "source": [
    "X, Y = df['x'], df['y']\n",
    "Y_pred = sin_model(X, theta_est)\n",
    "\n",
    "plt.plot(X, Y_pred, label='Model ($\\hat{y}$)')\n",
    "plt.scatter(X, Y, alpha=0.5, label='Observation ($y$)', color='gold')\n",
    "plt.legend();"
   ]
  },
  {
   "cell_type": "markdown",
   "metadata": {},
   "source": [
    "## Visualizing Loss\n",
    "\n",
    "Let's visualize our loss functions and gain some insight as to how gradient descent optimizes our model parameters.\n",
    "\n",
    "In the previous plot, we saw the loss decrease with each iteration. In this part, we'll see the trajectory of the algorithm as it travels the loss surface. Run the following cells to see a visualization of this trajectory. "
   ]
  },
  {
   "cell_type": "code",
   "execution_count": 138,
   "metadata": {},
   "outputs": [
    {
     "data": {
      "text/plain": [
       "array([[1.51625373, 2.99448441],\n",
       "       [2.60105745, 2.60105745],\n",
       "       [0.90342728, 2.59100602],\n",
       "       [2.05633644, 2.9631291 ],\n",
       "       [1.15892347, 2.86687431],\n",
       "       [1.79388042, 3.07275573],\n",
       "       [1.32157494, 3.00146569],\n",
       "       [1.64954491, 3.02910866],\n",
       "       [1.42325294, 2.98820303],\n",
       "       [1.58295041, 3.01033846],\n",
       "       [1.47097255, 2.98926519],\n",
       "       [1.55040965, 3.0017442 ],\n",
       "       [1.49439132, 2.99135194],\n",
       "       [1.5341564 , 2.99797824],\n",
       "       [1.50603995, 2.99286671],\n",
       "       [1.52598919, 2.99628665],\n",
       "       [1.51186655, 2.99375531],\n",
       "       [1.52188208, 2.99549617],\n",
       "       [1.51478773, 2.99423497],\n",
       "       [1.51981739, 2.99511516],\n",
       "       [1.51625373, 2.99448441]])"
      ]
     },
     "execution_count": 138,
     "metadata": {},
     "output_type": "execute_result"
    }
   ],
   "source": [
    "thetas = np.array(thetas).squeeze()\n",
    "loss = np.array(loss)\n",
    "thetas"
   ]
  },
  {
   "cell_type": "code",
   "execution_count": 139,
   "metadata": {},
   "outputs": [
    {
     "data": {
      "text/html": [
       "        <script type=\"text/javascript\">\n",
       "        window.PlotlyConfig = {MathJaxConfig: 'local'};\n",
       "        if (window.MathJax && window.MathJax.Hub && window.MathJax.Hub.Config) {window.MathJax.Hub.Config({SVG: {font: \"STIX-Web\"}});}\n",
       "        </script>\n",
       "        <script type=\"module\">import \"https://cdn.plot.ly/plotly-3.0.0.min\"</script>\n",
       "        "
      ]
     },
     "metadata": {},
     "output_type": "display_data"
    },
    {
     "data": {
      "application/vnd.plotly.v1+json": {
       "config": {
        "linkText": "Export to plot.ly",
        "plotlyServerURL": "https://plot.ly",
        "showLink": false
       },
       "data": [
        {
         "line": {
          "color": "rgb(50,170, 140)",
          "width": 3
         },
         "marker": {
          "color": {
           "bdata": "lIn69/PbNMBorFyX7JEiwMYfS0t+uBLAZfhwuXf+BMB5Nenxzp/3v4k7D+/SCO2/sec1KzpU4b9VgYuPVirYv4DjEbijAdO/ozqwKyeU0L90aujbna/Ov4LPvZkJfM2/arZr67nfzL/V08P3ZZLMv1VHqkdFa8y/BfQsqMFXzL+M3Oog6k3Mv5uZk+b8SMy/cjj6CIJGzL+TLEKuQ0XMv9SzOJmjRMy/",
           "dtype": "f8"
          },
          "colorscale": [
           [
            0,
            "#440154"
           ],
           [
            0.1111111111111111,
            "#482878"
           ],
           [
            0.2222222222222222,
            "#3e4989"
           ],
           [
            0.3333333333333333,
            "#31688e"
           ],
           [
            0.4444444444444444,
            "#26828e"
           ],
           [
            0.5555555555555556,
            "#1f9e89"
           ],
           [
            0.6666666666666666,
            "#35b779"
           ],
           [
            0.7777777777777778,
            "#6ece58"
           ],
           [
            0.8888888888888888,
            "#b5de2b"
           ],
           [
            1,
            "#fde725"
           ]
          ],
          "size": 4
         },
         "type": "scatter3d",
         "x": {
          "bdata": "slhbRJNC+D8QXfo1984EQFJCAFLg6Ow/YkkyhWBzAEDOOwhW84ryP+a7Z/S7s/w//uG3xCsl9T+pTks0iWT6P6sI1eCkxfY/wnpjzsNT+T/b7NODGon3P9CiKFp6zvg/NWgH3wbp9z912qyV54v4Pz1nDFq9GPg/VdKSo3Nq+D+T2Kz7mjD4P8yH7QWhWfg/64iQD5I8+D9AzlEKLFH4P7JYW0STQvg/",
          "dtype": "f8"
         },
         "y": {
          "bdata": "0DRzPrT0B0AQXfo1984EQLPMp11hugRAQlSSB320B0C4KS/MW+8GQIYPefQAlQhAancLcgADCEBIHiBSnTsIQES62/zW5wdA+YzdVCwVCEBY0IzdA+oHQKdxIHeSAwhAiPip7EnuB0CCX2wD3PsHQBCP8Blk8QdA5+pRImX4B0BJWkz8NfMHQMs+wrHG9gdAIzNadzH0B0B3kO/v/vUHQNA0cz609AdA",
          "dtype": "f8"
         },
         "z": {
          "bdata": "lIn69/PbNEBorFyX7JEiQMYfS0t+uBJAZfhwuXf+BEB5Nenxzp/3P4k7D+/SCO0/sec1KzpU4T9VgYuPVirYP4DjEbijAdM/ozqwKyeU0D90aujbna/OP4LPvZkJfM0/arZr67nfzD/V08P3ZZLMP1VHqkdFa8w/BfQsqMFXzD+M3Oog6k3MP5uZk+b8SMw/cjj6CIJGzD+TLEKuQ0XMP9SzOJmjRMw/",
          "dtype": "f8"
         }
        },
        {
         "type": "surface",
         "x": {
          "bdata": "Hw/NHq216T9Kn0HV7fLqP3YvtosuMOw/or8qQm9t7T/NT5/4r6ruP/jfE6/w5+8/EjjEspiS8D8ogP4NOTHxPz7IOGnZz/E/UxBzxHlu8j9pWK0fGg3zP3+g53q6q/M/lOgh1lpK9D+qMFwx++j0P8B4loybh/U/1sDQ5zsm9j/sCAtD3MT2PwJRRZ58Y/c/F5l/+RwC+D8s4blUvaD4P0Ip9K9dP/k/WHEuC/7d+T9uuWhmnnz6P4QBo8E+G/s/mkndHN+5+z+wkRd4f1j8P8bZUdMf9/w/2iGMLsCV/T/wacaJYDT+PwayAOUA0/4/HPo6QKFx/z8ZobrNIAgAQCTFV/twVwBAL+n0KMGmAEA6DZJWEfYAQEQxL4RhRQFAT1XMsbGUAUBaeWnfAeQBQGWdBg1SMwJAcMGjOqKCAkB75UBo8tECQIYJ3pVCIQNAkS17w5JwA0CbURjx4r8DQKZ1tR4zDwRAsZlSTINeBEC8ve95060EQMfhjKcj/QRA0gUq1XNMBUDdKccCxJsFQA==",
          "dtype": "f8"
         },
         "y": {
          "bdata": "5v/akJTtA0AioeceEwoEQF1C9KyRJgRAmeMAOxBDBEDVhA3Jjl8EQBAmGlcNfARATMcm5YuYBECIaDNzCrUEQMQJQAGJ0QRA/6pMjwfuBEA7TFkdhgoFQHftZasEJwVAso5yOYNDBUDuL3/HAWAFQCrRi1WAfAVAZXKY4/6YBUChE6VxfbUFQN20sf/70QVAGFa+jXruBUBU98ob+QoGQJCY16l3JwZAzDnkN/ZDBkAH2/DFdGAGQEN8/VPzfAZAfx0K4nGZBkC6vhZw8LUGQPZfI/5u0gZAMgEwjO3uBkBuojwabAsHQKlDSajqJwdA5eRVNmlEB0AghmLE52AHQFwnb1JmfQdAmMh74OSZB0DUaYhuY7YHQA8Llfzh0gdAS6yhimDvB0CHTa4Y3wsIQMLuuqZdKAhA/o/HNNxECEA6MdTCWmEIQHbS4FDZfQhAsXPt3leaCEDtFPps1rYIQCi2BvtU0whAZFcTidPvCECg+B8XUgwJQNyZLKXQKAlAGDs5M09FCUBT3EXBzWEJQA==",
          "dtype": "f8"
         },
         "z": {
          "bdata": "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",
          "dtype": "f8",
          "shape": "50, 50"
         }
        }
       ],
       "layout": {
        "autosize": true,
        "height": 700,
        "scene": {
         "aspectmode": "manual",
         "aspectratio": {
          "x": 1,
          "y": 1,
          "z": 0.7
         },
         "camera": {
          "eye": {
           "x": -1.7428,
           "y": 1.0707,
           "z": 0.71
          },
          "up": {
           "x": 0,
           "y": 0,
           "z": 1
          }
         },
         "xaxis": {
          "gridcolor": "rgb(255, 255, 255)",
          "showbackground": true,
          "zerolinecolor": "rgb(255, 255, 255)"
         },
         "yaxis": {
          "gridcolor": "rgb(255, 255, 255)",
          "showbackground": true,
          "zerolinecolor": "rgb(255, 255, 255)"
         },
         "zaxis": {
          "gridcolor": "rgb(255, 255, 255)",
          "showbackground": true,
          "zerolinecolor": "rgb(255, 255, 255)"
         }
        },
        "template": {
         "data": {
          "bar": [
           {
            "error_x": {
             "color": "#2a3f5f"
            },
            "error_y": {
             "color": "#2a3f5f"
            },
            "marker": {
             "line": {
              "color": "#E5ECF6",
              "width": 0.5
             },
             "pattern": {
              "fillmode": "overlay",
              "size": 10,
              "solidity": 0.2
             }
            },
            "type": "bar"
           }
          ],
          "barpolar": [
           {
            "marker": {
             "line": {
              "color": "#E5ECF6",
              "width": 0.5
             },
             "pattern": {
              "fillmode": "overlay",
              "size": 10,
              "solidity": 0.2
             }
            },
            "type": "barpolar"
           }
          ],
          "carpet": [
           {
            "aaxis": {
             "endlinecolor": "#2a3f5f",
             "gridcolor": "white",
             "linecolor": "white",
             "minorgridcolor": "white",
             "startlinecolor": "#2a3f5f"
            },
            "baxis": {
             "endlinecolor": "#2a3f5f",
             "gridcolor": "white",
             "linecolor": "white",
             "minorgridcolor": "white",
             "startlinecolor": "#2a3f5f"
            },
            "type": "carpet"
           }
          ],
          "choropleth": [
           {
            "colorbar": {
             "outlinewidth": 0,
             "ticks": ""
            },
            "type": "choropleth"
           }
          ],
          "contour": [
           {
            "colorbar": {
             "outlinewidth": 0,
             "ticks": ""
            },
            "colorscale": [
             [
              0,
              "#0d0887"
             ],
             [
              0.1111111111111111,
              "#46039f"
             ],
             [
              0.2222222222222222,
              "#7201a8"
             ],
             [
              0.3333333333333333,
              "#9c179e"
             ],
             [
              0.4444444444444444,
              "#bd3786"
             ],
             [
              0.5555555555555556,
              "#d8576b"
             ],
             [
              0.6666666666666666,
              "#ed7953"
             ],
             [
              0.7777777777777778,
              "#fb9f3a"
             ],
             [
              0.8888888888888888,
              "#fdca26"
             ],
             [
              1,
              "#f0f921"
             ]
            ],
            "type": "contour"
           }
          ],
          "contourcarpet": [
           {
            "colorbar": {
             "outlinewidth": 0,
             "ticks": ""
            },
            "type": "contourcarpet"
           }
          ],
          "heatmap": [
           {
            "colorbar": {
             "outlinewidth": 0,
             "ticks": ""
            },
            "colorscale": [
             [
              0,
              "#0d0887"
             ],
             [
              0.1111111111111111,
              "#46039f"
             ],
             [
              0.2222222222222222,
              "#7201a8"
             ],
             [
              0.3333333333333333,
              "#9c179e"
             ],
             [
              0.4444444444444444,
              "#bd3786"
             ],
             [
              0.5555555555555556,
              "#d8576b"
             ],
             [
              0.6666666666666666,
              "#ed7953"
             ],
             [
              0.7777777777777778,
              "#fb9f3a"
             ],
             [
              0.8888888888888888,
              "#fdca26"
             ],
             [
              1,
              "#f0f921"
             ]
            ],
            "type": "heatmap"
           }
          ],
          "histogram": [
           {
            "marker": {
             "pattern": {
              "fillmode": "overlay",
              "size": 10,
              "solidity": 0.2
             }
            },
            "type": "histogram"
           }
          ],
          "histogram2d": [
           {
            "colorbar": {
             "outlinewidth": 0,
             "ticks": ""
            },
            "colorscale": [
             [
              0,
              "#0d0887"
             ],
             [
              0.1111111111111111,
              "#46039f"
             ],
             [
              0.2222222222222222,
              "#7201a8"
             ],
             [
              0.3333333333333333,
              "#9c179e"
             ],
             [
              0.4444444444444444,
              "#bd3786"
             ],
             [
              0.5555555555555556,
              "#d8576b"
             ],
             [
              0.6666666666666666,
              "#ed7953"
             ],
             [
              0.7777777777777778,
              "#fb9f3a"
             ],
             [
              0.8888888888888888,
              "#fdca26"
             ],
             [
              1,
              "#f0f921"
             ]
            ],
            "type": "histogram2d"
           }
          ],
          "histogram2dcontour": [
           {
            "colorbar": {
             "outlinewidth": 0,
             "ticks": ""
            },
            "colorscale": [
             [
              0,
              "#0d0887"
             ],
             [
              0.1111111111111111,
              "#46039f"
             ],
             [
              0.2222222222222222,
              "#7201a8"
             ],
             [
              0.3333333333333333,
              "#9c179e"
             ],
             [
              0.4444444444444444,
              "#bd3786"
             ],
             [
              0.5555555555555556,
              "#d8576b"
             ],
             [
              0.6666666666666666,
              "#ed7953"
             ],
             [
              0.7777777777777778,
              "#fb9f3a"
             ],
             [
              0.8888888888888888,
              "#fdca26"
             ],
             [
              1,
              "#f0f921"
             ]
            ],
            "type": "histogram2dcontour"
           }
          ],
          "mesh3d": [
           {
            "colorbar": {
             "outlinewidth": 0,
             "ticks": ""
            },
            "type": "mesh3d"
           }
          ],
          "parcoords": [
           {
            "line": {
             "colorbar": {
              "outlinewidth": 0,
              "ticks": ""
             }
            },
            "type": "parcoords"
           }
          ],
          "pie": [
           {
            "automargin": true,
            "type": "pie"
           }
          ],
          "scatter": [
           {
            "fillpattern": {
             "fillmode": "overlay",
             "size": 10,
             "solidity": 0.2
            },
            "type": "scatter"
           }
          ],
          "scatter3d": [
           {
            "line": {
             "colorbar": {
              "outlinewidth": 0,
              "ticks": ""
             }
            },
            "marker": {
             "colorbar": {
              "outlinewidth": 0,
              "ticks": ""
             }
            },
            "type": "scatter3d"
           }
          ],
          "scattercarpet": [
           {
            "marker": {
             "colorbar": {
              "outlinewidth": 0,
              "ticks": ""
             }
            },
            "type": "scattercarpet"
           }
          ],
          "scattergeo": [
           {
            "marker": {
             "colorbar": {
              "outlinewidth": 0,
              "ticks": ""
             }
            },
            "type": "scattergeo"
           }
          ],
          "scattergl": [
           {
            "marker": {
             "colorbar": {
              "outlinewidth": 0,
              "ticks": ""
             }
            },
            "type": "scattergl"
           }
          ],
          "scattermap": [
           {
            "marker": {
             "colorbar": {
              "outlinewidth": 0,
              "ticks": ""
             }
            },
            "type": "scattermap"
           }
          ],
          "scattermapbox": [
           {
            "marker": {
             "colorbar": {
              "outlinewidth": 0,
              "ticks": ""
             }
            },
            "type": "scattermapbox"
           }
          ],
          "scatterpolar": [
           {
            "marker": {
             "colorbar": {
              "outlinewidth": 0,
              "ticks": ""
             }
            },
            "type": "scatterpolar"
           }
          ],
          "scatterpolargl": [
           {
            "marker": {
             "colorbar": {
              "outlinewidth": 0,
              "ticks": ""
             }
            },
            "type": "scatterpolargl"
           }
          ],
          "scatterternary": [
           {
            "marker": {
             "colorbar": {
              "outlinewidth": 0,
              "ticks": ""
             }
            },
            "type": "scatterternary"
           }
          ],
          "surface": [
           {
            "colorbar": {
             "outlinewidth": 0,
             "ticks": ""
            },
            "colorscale": [
             [
              0,
              "#0d0887"
             ],
             [
              0.1111111111111111,
              "#46039f"
             ],
             [
              0.2222222222222222,
              "#7201a8"
             ],
             [
              0.3333333333333333,
              "#9c179e"
             ],
             [
              0.4444444444444444,
              "#bd3786"
             ],
             [
              0.5555555555555556,
              "#d8576b"
             ],
             [
              0.6666666666666666,
              "#ed7953"
             ],
             [
              0.7777777777777778,
              "#fb9f3a"
             ],
             [
              0.8888888888888888,
              "#fdca26"
             ],
             [
              1,
              "#f0f921"
             ]
            ],
            "type": "surface"
           }
          ],
          "table": [
           {
            "cells": {
             "fill": {
              "color": "#EBF0F8"
             },
             "line": {
              "color": "white"
             }
            },
            "header": {
             "fill": {
              "color": "#C8D4E3"
             },
             "line": {
              "color": "white"
             }
            },
            "type": "table"
           }
          ]
         },
         "layout": {
          "annotationdefaults": {
           "arrowcolor": "#2a3f5f",
           "arrowhead": 0,
           "arrowwidth": 1
          },
          "autotypenumbers": "strict",
          "coloraxis": {
           "colorbar": {
            "outlinewidth": 0,
            "ticks": ""
           }
          },
          "colorscale": {
           "diverging": [
            [
             0,
             "#8e0152"
            ],
            [
             0.1,
             "#c51b7d"
            ],
            [
             0.2,
             "#de77ae"
            ],
            [
             0.3,
             "#f1b6da"
            ],
            [
             0.4,
             "#fde0ef"
            ],
            [
             0.5,
             "#f7f7f7"
            ],
            [
             0.6,
             "#e6f5d0"
            ],
            [
             0.7,
             "#b8e186"
            ],
            [
             0.8,
             "#7fbc41"
            ],
            [
             0.9,
             "#4d9221"
            ],
            [
             1,
             "#276419"
            ]
           ],
           "sequential": [
            [
             0,
             "#0d0887"
            ],
            [
             0.1111111111111111,
             "#46039f"
            ],
            [
             0.2222222222222222,
             "#7201a8"
            ],
            [
             0.3333333333333333,
             "#9c179e"
            ],
            [
             0.4444444444444444,
             "#bd3786"
            ],
            [
             0.5555555555555556,
             "#d8576b"
            ],
            [
             0.6666666666666666,
             "#ed7953"
            ],
            [
             0.7777777777777778,
             "#fb9f3a"
            ],
            [
             0.8888888888888888,
             "#fdca26"
            ],
            [
             1,
             "#f0f921"
            ]
           ],
           "sequentialminus": [
            [
             0,
             "#0d0887"
            ],
            [
             0.1111111111111111,
             "#46039f"
            ],
            [
             0.2222222222222222,
             "#7201a8"
            ],
            [
             0.3333333333333333,
             "#9c179e"
            ],
            [
             0.4444444444444444,
             "#bd3786"
            ],
            [
             0.5555555555555556,
             "#d8576b"
            ],
            [
             0.6666666666666666,
             "#ed7953"
            ],
            [
             0.7777777777777778,
             "#fb9f3a"
            ],
            [
             0.8888888888888888,
             "#fdca26"
            ],
            [
             1,
             "#f0f921"
            ]
           ]
          },
          "colorway": [
           "#636efa",
           "#EF553B",
           "#00cc96",
           "#ab63fa",
           "#FFA15A",
           "#19d3f3",
           "#FF6692",
           "#B6E880",
           "#FF97FF",
           "#FECB52"
          ],
          "font": {
           "color": "#2a3f5f"
          },
          "geo": {
           "bgcolor": "white",
           "lakecolor": "white",
           "landcolor": "#E5ECF6",
           "showlakes": true,
           "showland": true,
           "subunitcolor": "white"
          },
          "hoverlabel": {
           "align": "left"
          },
          "hovermode": "closest",
          "mapbox": {
           "style": "light"
          },
          "paper_bgcolor": "white",
          "plot_bgcolor": "#E5ECF6",
          "polar": {
           "angularaxis": {
            "gridcolor": "white",
            "linecolor": "white",
            "ticks": ""
           },
           "bgcolor": "#E5ECF6",
           "radialaxis": {
            "gridcolor": "white",
            "linecolor": "white",
            "ticks": ""
           }
          },
          "scene": {
           "xaxis": {
            "backgroundcolor": "#E5ECF6",
            "gridcolor": "white",
            "gridwidth": 2,
            "linecolor": "white",
            "showbackground": true,
            "ticks": "",
            "zerolinecolor": "white"
           },
           "yaxis": {
            "backgroundcolor": "#E5ECF6",
            "gridcolor": "white",
            "gridwidth": 2,
            "linecolor": "white",
            "showbackground": true,
            "ticks": "",
            "zerolinecolor": "white"
           },
           "zaxis": {
            "backgroundcolor": "#E5ECF6",
            "gridcolor": "white",
            "gridwidth": 2,
            "linecolor": "white",
            "showbackground": true,
            "ticks": "",
            "zerolinecolor": "white"
           }
          },
          "shapedefaults": {
           "line": {
            "color": "#2a3f5f"
           }
          },
          "ternary": {
           "aaxis": {
            "gridcolor": "white",
            "linecolor": "white",
            "ticks": ""
           },
           "baxis": {
            "gridcolor": "white",
            "linecolor": "white",
            "ticks": ""
           },
           "bgcolor": "#E5ECF6",
           "caxis": {
            "gridcolor": "white",
            "linecolor": "white",
            "ticks": ""
           }
          },
          "title": {
           "x": 0.05
          },
          "xaxis": {
           "automargin": true,
           "gridcolor": "white",
           "linecolor": "white",
           "ticks": "",
           "title": {
            "standoff": 15
           },
           "zerolinecolor": "white",
           "zerolinewidth": 2
          },
          "yaxis": {
           "automargin": true,
           "gridcolor": "white",
           "linecolor": "white",
           "ticks": "",
           "title": {
            "standoff": 15
           },
           "zerolinecolor": "white",
           "zerolinewidth": 2
          }
         }
        },
        "title": {
         "text": "Gradient Descent"
        },
        "width": 800
       }
      },
      "text/html": [
       "<div>            <script src=\"https://cdnjs.cloudflare.com/ajax/libs/mathjax/2.7.5/MathJax.js?config=TeX-AMS-MML_SVG\"></script><script type=\"text/javascript\">if (window.MathJax && window.MathJax.Hub && window.MathJax.Hub.Config) {window.MathJax.Hub.Config({SVG: {font: \"STIX-Web\"}});}</script>                <script type=\"text/javascript\">window.PlotlyConfig = {MathJaxConfig: 'local'};</script>\n",
       "        <script charset=\"utf-8\" src=\"https://cdn.plot.ly/plotly-3.0.0.min.js\"></script>                <div id=\"1c74eb65-9761-46a7-ad6a-e24d45d925c1\" class=\"plotly-graph-div\" style=\"height:700px; width:800px;\"></div>            <script type=\"text/javascript\">                window.PLOTLYENV=window.PLOTLYENV || {};                                if (document.getElementById(\"1c74eb65-9761-46a7-ad6a-e24d45d925c1\")) {                    Plotly.newPlot(                        \"1c74eb65-9761-46a7-ad6a-e24d45d925c1\",                        [{\"line\":{\"color\":\"rgb(50,170, 140)\",\"width\":3},\"marker\":{\"color\":{\"dtype\":\"f8\",\"bdata\":\"lIn69\\u002fPbNMBorFyX7JEiwMYfS0t+uBLAZfhwuXf+BMB5Nenxzp\\u002f3v4k7D+\\u002fSCO2\\u002fsec1KzpU4b9VgYuPVirYv4DjEbijAdO\\u002fozqwKyeU0L90aujbna\\u002fOv4LPvZkJfM2\\u002farZr67nfzL\\u002fV08P3ZZLMv1VHqkdFa8y\\u002fBfQsqMFXzL+M3Oog6k3Mv5uZk+b8SMy\\u002fcjj6CIJGzL+TLEKuQ0XMv9SzOJmjRMy\\u002f\"},\"colorscale\":[[0.0,\"#440154\"],[0.1111111111111111,\"#482878\"],[0.2222222222222222,\"#3e4989\"],[0.3333333333333333,\"#31688e\"],[0.4444444444444444,\"#26828e\"],[0.5555555555555556,\"#1f9e89\"],[0.6666666666666666,\"#35b779\"],[0.7777777777777778,\"#6ece58\"],[0.8888888888888888,\"#b5de2b\"],[1.0,\"#fde725\"]],\"size\":4},\"x\":{\"dtype\":\"f8\",\"bdata\":\"slhbRJNC+D8QXfo1984EQFJCAFLg6Ow\\u002fYkkyhWBzAEDOOwhW84ryP+a7Z\\u002fS7s\\u002fw\\u002f\\u002fuG3xCsl9T+pTks0iWT6P6sI1eCkxfY\\u002fwnpjzsNT+T\\u002fb7NODGon3P9CiKFp6zvg\\u002fNWgH3wbp9z912qyV54v4Pz1nDFq9GPg\\u002fVdKSo3Nq+D+T2Kz7mjD4P8yH7QWhWfg\\u002f64iQD5I8+D9AzlEKLFH4P7JYW0STQvg\\u002f\"},\"y\":{\"dtype\":\"f8\",\"bdata\":\"0DRzPrT0B0AQXfo1984EQLPMp11hugRAQlSSB320B0C4KS\\u002fMW+8GQIYPefQAlQhAancLcgADCEBIHiBSnTsIQES62\\u002fzW5wdA+YzdVCwVCEBY0IzdA+oHQKdxIHeSAwhAiPip7EnuB0CCX2wD3PsHQBCP8Blk8QdA5+pRImX4B0BJWkz8NfMHQMs+wrHG9gdAIzNadzH0B0B3kO\\u002fv\\u002fvUHQNA0cz609AdA\"},\"z\":{\"dtype\":\"f8\",\"bdata\":\"lIn69\\u002fPbNEBorFyX7JEiQMYfS0t+uBJAZfhwuXf+BEB5Nenxzp\\u002f3P4k7D+\\u002fSCO0\\u002fsec1KzpU4T9VgYuPVirYP4DjEbijAdM\\u002fozqwKyeU0D90aujbna\\u002fOP4LPvZkJfM0\\u002farZr67nfzD\\u002fV08P3ZZLMP1VHqkdFa8w\\u002fBfQsqMFXzD+M3Oog6k3MP5uZk+b8SMw\\u002fcjj6CIJGzD+TLEKuQ0XMP9SzOJmjRMw\\u002f\"},\"type\":\"scatter3d\"},{\"x\":{\"dtype\":\"f8\",\"bdata\":\"Hw\\u002fNHq216T9Kn0HV7fLqP3YvtosuMOw\\u002for8qQm9t7T\\u002fNT5\\u002f4r6ruP\\u002fjfE6\\u002fw5+8\\u002fEjjEspiS8D8ogP4NOTHxPz7IOGnZz\\u002fE\\u002fUxBzxHlu8j9pWK0fGg3zP3+g53q6q\\u002fM\\u002flOgh1lpK9D+qMFwx++j0P8B4loybh\\u002fU\\u002f1sDQ5zsm9j\\u002fsCAtD3MT2PwJRRZ58Y\\u002fc\\u002fF5l\\u002f+RwC+D8s4blUvaD4P0Ip9K9dP\\u002fk\\u002fWHEuC\\u002f7d+T9uuWhmnnz6P4QBo8E+G\\u002fs\\u002fmkndHN+5+z+wkRd4f1j8P8bZUdMf9\\u002fw\\u002f2iGMLsCV\\u002fT\\u002fwacaJYDT+PwayAOUA0\\u002f4\\u002fHPo6QKFx\\u002fz8ZobrNIAgAQCTFV\\u002ftwVwBAL+n0KMGmAEA6DZJWEfYAQEQxL4RhRQFAT1XMsbGUAUBaeWnfAeQBQGWdBg1SMwJAcMGjOqKCAkB75UBo8tECQIYJ3pVCIQNAkS17w5JwA0CbURjx4r8DQKZ1tR4zDwRAsZlSTINeBEC8ve95060EQMfhjKcj\\u002fQRA0gUq1XNMBUDdKccCxJsFQA==\"},\"y\":{\"dtype\":\"f8\",\"bdata\":\"5v\\u002fakJTtA0AioeceEwoEQF1C9KyRJgRAmeMAOxBDBEDVhA3Jjl8EQBAmGlcNfARATMcm5YuYBECIaDNzCrUEQMQJQAGJ0QRA\\u002f6pMjwfuBEA7TFkdhgoFQHftZasEJwVAso5yOYNDBUDuL3\\u002fHAWAFQCrRi1WAfAVAZXKY4\\u002f6YBUChE6VxfbUFQN20sf\\u002f70QVAGFa+jXruBUBU98ob+QoGQJCY16l3JwZAzDnkN\\u002fZDBkAH2\\u002fDFdGAGQEN8\\u002fVPzfAZAfx0K4nGZBkC6vhZw8LUGQPZfI\\u002f5u0gZAMgEwjO3uBkBuojwabAsHQKlDSajqJwdA5eRVNmlEB0AghmLE52AHQFwnb1JmfQdAmMh74OSZB0DUaYhuY7YHQA8Llfzh0gdAS6yhimDvB0CHTa4Y3wsIQMLuuqZdKAhA\\u002fo\\u002fHNNxECEA6MdTCWmEIQHbS4FDZfQhAsXPt3leaCEDtFPps1rYIQCi2BvtU0whAZFcTidPvCECg+B8XUgwJQNyZLKXQKAlAGDs5M09FCUBT3EXBzWEJQA==\"},\"z\":{\"dtype\":\"f8\",\"bdata\":\"PB95Y5UBGUC8pMdnmf0WQLNhkPFhExVAJlbTAO9CE0AUgpCVQIwRQPnKj1+t3g9AugDznmLYDEBupUrpoAUKQBi5lj5oZgdAuTvXnrj6BEBJLQwKksICQM+NNYD0vQBAlrqmAsDZ\\u002fT9xN8saqZ76PzOS2Eikyvc\\u002f3srOjLFd9T9x4a3m0FfzP+zVdVYCufE\\u002fUKgm3EWB8D84sYDvNmHvP53NhVIGju4\\u002f1KVc4fmI7j\\u002fXOQWcEVLvP9fEP8GmdPA\\u002fqcplylan8T9mrnTpGEHzPwpwbB7tQfU\\u002fjA9NadOp9z8AjRbKy3j6P1royEDWrv0\\u002fzxCyZvmlAEBlHPS3EKgCQO6WKhSx3QRAbIBVe9pGB0De2HTtjOMJQDqgiGrIswxAlNaQ8oy3D0DxvcZCbXcRQBNIv5HYLBNArQkyZgj8FEDDAh\\u002fA\\u002fOQWQFIzhp+15xhAWptnBDMEG0DXOsPudDodQNIRmV57ih9AJpD0KSP6IEAes1nn6jsiQNPxe+eUiiNARkxbKiHmJEB1wvevj04mQIfycJCW2hhAIPl0h+HWFkAzN\\u002fMD8ewUQL6s6wXFHBNAxllejV1mEUCOfJY0dZMPQIK0ZFm4jQxAaFsniYS7CUBEcd7D2RwHQBj2iQm4sQRA3OkpWh96AkCTTL61D3YAQII8jjgSS\\u002f0\\u002fwr2IGxcR+j\\u002fqHGwULj73P\\u002flZOCNX0vQ\\u002f8XTtR5LN8j\\u002fSbYuC3y\\u002fxPzeJJKZ98u8\\u002fmvIDc2BT7j\\u002fGF7VrZ4LtP8b4N5CSf+0\\u002flpWM4OFK7j817rJcVeTvP1OBVYL2JfE\\u002fc2k6bNTA8j99LwhsxML0P2TTvoHGK\\u002fc\\u002fPFVerdr7+T\\u002f9tObuADP9P1L5K6OcaABAGgfZ2UFrAkDVg3obcKEEQIdvEGgnCwdAK8qav2eoCUC6kxkiMXkMQEjMjI+DfQ9A4zn6g69aEUAdRajFYRATQNKH0IzY3xRAAAJz2RPJFkCos4+rE8wYQMucJgPY6BpAYL034GAfHUB2FcNCrm8fQINSZBXg7CBACDYkTMsuIkBJNaHFmH0jQElQ24FI2SRABofSgNpBJkCWTsyAa7AYQNn9\\u002fWYjrRZAlOSp0p\\u002fDFEDIAtDD4PMSQHdYcDrmPRFAQ8sVbWBDD0CJVD9wfT4MQMFMXX4jbQlA7bNvl1LPBkATina7CmUEQCfPcepLLgJAMYNhJBYrAEBgTIvS0rb8P0NwPHKLfvk\\u002fDHLWJ1at9j+\\u002fUVnzMkP0P1kPxdQhQPI\\u002f3KoZzCKk8D+TSK6ya97uPzj3+vi1Qu0\\u002frGEZayR17D\\u002fyhwkJt3XsPwNqy9JtRO0\\u002f7AdfyEjh7j\\u002fRMOL0I6bwP5S7fZu1QvI\\u002fPyQCWFlG9D\\u002fJam8qD7H2P0SPxRLXgvk\\u002fp5EEEbG7\\u002fD\\u002f5OJaSzi0AQBOYnqdNMQJAIGabx1VoBEAio4zy5tIGQBZPcigBcQlA92lMaaRCDEDU8xq10EcPQFT27gVDQBFANarKNmL2EkCTlSDtRcYUQGq48CjurxZAvBI76lqzGECFpP8wjNAaQMRtPv2BBx1Agm73TjxYH0BdUxWTXeEgQDcLbEF\\u002fIyJAzt5\\u002fMoNyI0AgzlBmac4kQDHZ3twxNyZAw0uqHEiDGEBa+yoBkoAWQGjiJWuglxRA8ACbWnPIEkDzVorPChMRQOPI55PN7g5A0FKvkw7rC0CwS2ue2BoJQISzG7QrfgZAUorA1AcVBEAO0FkAbd8BQH4Jz222uv8\\u002fzVDT8KQd\\u002fD\\u002f+dcCJpef4Pxh5lji4GPY\\u002fGlpV\\u002fdyw8z8DGf3XE7DxP9e1jchcFvA\\u002fJGEOnm\\u002fH7T9qEtPWSTDsP35\\u002faTtIZ+s\\u002fYajRy2ps6z8UjQuIsT\\u002fsP5otF3Ac4e0\\u002f90T6wVUo8D8K0dFhL8fxPwU7khcbzfM\\u002f34I74xg69j+qqM3EKA75P1ysSLxKSfw\\u002f9o2syX7r\\u002fz+8pnx2YvoBQHJ1F5OOMgRAG7OmukOeBkC5XyrtgT0JQEF7oipJEAxAxgUPc5kWD0Cg\\u002fzdjOSgRQNezYpLq3hJAiJ8HR2CvFECywiaBmpkWQFYdwECZnRhAdq\\u002fThVy7GkAHeWFQ5PIcQBp6aaAwRB9AVNn1uqDXIEBXEXRoCxoiQBhlr1hYaSNAlNSni4fFJEDPX10BmS4mQLhBRUJjUxhAp4grHWNRFkARB4x9J2kUQPO8ZmOwmhJAUaq7zv3lEEBSnhV\\u002fH5YOQPJWqGvMkwtAiH4vYwLFCEAQFatlwSkGQJEaG3MJwgNAA49\\u002fi9qNAUDQ5LBdaRr\\u002fP4eJS7ovgPs\\u002fIgzPLAhN+D+kbDu18oD1Pw+rkFPvG\\u002fM\\u002fYsfOB\\u002f4d8T86g+ujPQ7vP4MzC2Sjruw\\u002fm5\\u002f8Ty0d6z+Ax79n21nqPzSrVKutZOo\\u002fukq7GqQ96z8RpvO1vuTsPze9\\u002fXz9We8\\u002fF8jsN7BO8T97j0PHc1fzP700g2xJx\\u002fU\\u002f8berJzGe+D8KGb34Ktz7Pw5Yt982gf8\\u002ffTpNbqrGAUDmN7N3QgAEQESkDYxjbQZAln9cqw0OCUDUyZ\\u002fVQOILQA6D1wr96Q5AndWBJaESEUAuIRJLCMoSQDmkHPYzmxRAvV6hJiSGFkC9UKDc2IoYQDd6GRhSqRpAItsM2Y\\u002fhHECOc3ofkjMfQLshsXWszyBAbCViHnISIkDZRNAJGmIjQAOA+zekviRA7NbjqBAoJkA3oFlU9iAYQNwKst7OHxZA+6yE7ms4FECThtGDzWoSQKeXmJ7zthBAasCzfbw5DkB1wCrJGjkLQHYvlh8CbAhAag32gHLSBUBWWkrta2wDQDIWk2TuOQFAA4KgzfN1\\u002fj+UtQPoHN\\u002f6PwPHTxhYr\\u002fc\\u002fXbaEXqXm9D+eg6K6BIXyP8guqSx2ivA\\u002fsW8xafPt7T+nPeKkHpXrP2zHZAxuCuo\\u002f\\u002fQy5n+FN6T9gDt9eeV\\u002fpP5HL1kk1P+o\\u002flESgYBXt6z9oeTujGWnuPwU11Aih2fA\\u002fP4vzVcfl8j9Yv\\u002fu4\\u002f1j1P2HR7DFKM\\u002fg\\u002fUsHGwKZ0+z8sj4llFR3\\u002fP3edGhBLlgFATeJkeJTRA0AVlqPrZkAGQNK41mnC4ghAe0r+8qa4C0AfSxqHFMIOQFxdFZOF\\u002fxBAoswXaMW3EkBjc5TCyYkUQJ1Ri6KSdRZAUmf8ByB7GECBtOfycZoaQCI5TWOI0xxARPUsWWMmH0BxdENqgckgQPuJrWqzDCJARbvUrcdcI0BJCLkzvrkkQAxxWvyWIyZAps6qyTzsF0AauldXD+wVQAbdfmqmBRRAbDcgAwI5EkBOyTshIoYQQFIlo4kN2g1A\\u002fCbD21\\u002fbCkCYl9c4OxAIQCl34KCfeAVAscXdE40UA0Apg8+RA+QAQCxfazUGzv0\\u002f9JUgXRc7+j+dqr6aOg\\u002f3Py+dRe5vSvQ\\u002fqW21V7fs8T8UOByuIezvP6lQn9j4zOw\\u002fECX0LvR76j9GtRqxE\\u002fnoP0kBE19XROg\\u002fHAndOL9d6D+\\u002fzHg+S0XpPzNM5m\\u002f7+uo\\u002fd4clzc9+7T9HPxsrZGjwP7mYjIVyePI\\u002fDNDm9ZLv9D9N5Sl8xc33P3fYVRgKE\\u002fs\\u002fialqymC\\u002f\\u002fj9BLDTJZGkBQLNyJziipgNAGCgPsmgXBkBxTOs2uLsIQLXfu8aQkwtA9uGAYfKeDkCWKZ2D7u4QQKsZ9FsoqBJAOkHFuSZ7FEBBoBCd6WcWQMQ21gVxbhhAwwQW9LyOGkAzCtBnzcgcQCJHBGGiHB9Axl3Z7x3FIEC4s+3xzAgiQGglvzZeWSNA1LJNvtG2JED+W5mIJyEmQMP++b5ztRdAZo6aGmC2FUCCVbX7ENETQBhUSmKGBRJAJ4pZTsBTEEBl78V\\u002ffXcNQGw5zW0DewpAZvLIZhKyB0BVGrlqqhwFQDyxnXnLugJAE7d2k3WMAEC8V4hwUSP9Pz8fDNDJlPk\\u002fpcR4RVRt9j\\u002fxR87Q8KzzPyipDHKfU\\u002fE\\u002fjNBnUsDC7j+aCojsZazrP3oAerIvZOk\\u002fKLI9pB3q5z+jH9PBLz7nP\\u002fBIOgtmYOc\\u002fDC5zgMBQ6D\\u002f5zn0hPw\\u002fqP7crWu7hm+w\\u002fREQI56j27z9QDMQFyg\\u002fyP2DU7K1Ri\\u002fQ\\u002fXnr+a+tt9z9F\\u002fvg\\u002fl7f6PxNg3ClVaP4\\u002f5U\\u002fUlBJAAUC13q6fg38DQHfcfbV98gVAMElB1gCZCEDSJPkBDXMLQHFvpTiigA5AgxQjPeDgEEDGqG3jM5sSQIN0Mg9MbxRAvHdxwChdFkBtsir3yWQYQJokXrMvhhpAOM4L9VnBHEBXrzO8SBYfQPnjagR+wiBAAwx57bkGIkDJT0QZ2FcjQE+vzIfYtSRAjioSObsgJkC6YaeM2XwXQPbQqtX9fhVAqXcopOaaE0DXVSD4k9ARQIBrktEFIBBARnH9YHgSDUB9esopbhgKQKnyi\\u002f3sUQdAydlB3PS+BEDgL+zFhV8CQOf0irqfMwBAxlE8dIV2\\u002fD+rl0uJ3ez4P3K7Q7RHyvU\\u002fIL0k9cMO8z+4nO5LUrrwP3G0QnHlme0\\u002fQOt5dkqN6j\\u002fj3YKn007oP1SMXQSB3uY\\u002fkvYJjVI85j+iHIhBSGjmP4D+1yFiYuc\\u002fMJz5LaAq6T+x9exlAsHrPwALssmIJe8\\u002fEm6krBms8T+BtFgKgSz0P+DY9X36E\\u002fc\\u002fKdt7B4Zi+j9Zu+qmIxj+P7g8Ia5pGgFAuYrBk0pcA0CsR1aEtNEFQJRz33+neghAaA5dhiNXC0A4GM+XKGcOQH7IGlpb1RBAWjzI7eaQEkCx5+8GN2YUQIHKkaVLVRZAy+StySReGECPNkRzwoAaQMa\\u002fVKIkvRxAfoDfVksTH0BZPHJIm8EgQC7UMShzBiJAwoeuSi1YI0ARV+ivybYkQB9C31dIIiZAjBEWYa1CF0Dvyx3sJUYVQM29n\\u002fxiYxNAI+ebkmSaEUDqjyRcVdYPQILABZ5qqwxACmDb6gi0CUCIbqVCMPAGQPjrY6XgXwRAYdgWExoDAkB2Z3wXubP\\u002fPxH8sx5QyPs\\u002fmm7UO\\u002flD+D8Ev91utCb1P1ftz7eBcPI\\u002fk\\u002fmqFmEh8D9qx90WpXLsP4NXNyyscOk\\u002fbKNibdc85z8kq1\\u002faJtflP6luLnOaP+U\\u002fAO7ONzJ25T8mKUEo7nrmPxwghUTOTeg\\u002f49KajNLu6j97QYIA+13uP\\u002fG1HdCjTfE\\u002fBSnjNVzT8z8HepGxJsD2P\\u002fKoKEMDFPo\\u002fxrWo6vHO\\u002fT9B0AhUefgAQJO0sb0CPQNA2QdPMhW1BUATyuCxsGAIQDj7ZjzVPwtAWpvh0YJSDkA3VSi5XMwQQD0U2o48iRJAuwoG6uBfFEC2OKzKSVAWQCeezDB3WhhAFTtnHGl+GkB0D3yNH7wcQFUbC4SaEx9AWS8KAG3CIEDD7MsA7wciQOzFSkRTWiNAz7qGypm5JEBxy3+TwiUmQHf1xuAuBxdAxOV2GhYMFUCJDaHZwSoTQMdsRR4yYxFAAgfI0M1qD0Bqo\\u002flvwEIMQMSuHxo8TglADyk6z0CNBkBSEkmPzv8DQIpqTFrlpQFAZmOIYAr\\u002f\\u002fj+hz2AiXBn7P8kZIvq\\u002fmvc\\u002f1EHM5zWD9D\\u002fGR1\\u002frvdLxP0NXtgmwEu8\\u002fyNp\\u002faAhO6z8fGhvzhFfoP0gViKklL+Y\\u002fP8zGi+rU5D8DP9eZ00jkP5ptudPgiuQ\\u002f\\u002f1dtORKb5T82\\u002fvLKZ3nnPz1gSojhJeo\\u002fE35zcX+g7T\\u002feKzfDoPTwP5F2neMTgPM\\u002fM5\\u002fsGZly9j+9pSRmMMz5PzGKRcjZjP0\\u002fRqYnoEraAEBo9iBnsSEDQH61DjmhnAVAiePwFRpLCEB9gMf9Gy0LQG+MkvCmQg5AqwMpd93FEECX+IL7K4QSQP4kVwU\\u002fXBRA34illBZOFkA6JG6pslkYQA73sEMTfxpAVwFuYzi+HEAfQ6UIIhcfQDFeqxnoxCBAkDbBcSELIkCsKpQMPV4jQIM6JOo6viRAGmZxChsrJkBysffMncoWQFkgUR8M0RRAtsYk9z7xEkCPpHJUNisRQMNzdW7k\\u002fQ5AYA36PuXYC0DrFXMab+cIQGyN4ACCKQZA33NC8h2fA0BNyZjuQkgBQFAbx+vhSf4\\u002f8YFFEFBq+j+AxqxK0PH2P\\u002fHo\\u002fJpi4PM\\u002fSek1AQc28T8Uj6\\u002f6euXtP2oHxR4MLeo\\u002fjDusbsFC5z+DK2XqmiblP0jX75GY2OM\\u002f2j5MZbpY4z88YnpkAKfjP29Beo9qw+Q\\u002fctxL5vit5j9GM+9oq2bpP+pFZBeC7ew\\u002fMIrVeD6h8D9Jz+H7zTLzP1Py1pRvK\\u002fY\\u002fRPO0QyOL+T8f0nsI6VH9P3HHlXHgvwBAxhTiaVUKA0AP0SJtU4gFQEz8V3vaOQhAdJaBlOoeC0Can5+4gzcOQNkL2fPSwRBAX3\\u002fckKiBEkBgKlqzQlsUQNoMUluhThZAzybEiMRbGEA\\u002feLA7rIIaQB8BF3RYwxxAgsH3MckdH0CuXKk6\\u002f8ggQFr0Ex\\u002f8DyJAw6c7RttjI0DodiCwnMQkQMthwlxAMiZAWRxpsTmNFkDQRclrRZUUQMGmo6sVtxJALD\\u002f4cKryEEAiHo53B5AOQOEsIBhDbgtAkaqmwweACEA3lyF6VcUFQM\\u002fykDssPgNAYL30B4zqAEDB7Zm+6ZT9P6o+M4PNu\\u002fk\\u002fgm21XcNJ9j86eiBOyz7zP9xkdFTlmvA\\u002fzVpi4SK87D+xp61FnxDpP2awytU\\u002fM+Y\\u002f7XS5kQQk5D9D9Xl57eLiP2YxDI36b+I\\u002fWilwzCvL4j8f3aU3gfTjP7JMrc766+U\\u002fF3iGkZix6D9NXzGAWkXsPykBV02gU\\u002fA\\u002fjDB+cKXr8j\\u002fcPY6pvOr1Pxcph\\u002fjlUPk\\u002fOvJoXSEe\\u002fT+izBlsN6kAQByPczTn9gJAisDBByB4BUDrYATm4SwIQDhwO88sFQtAgu5mwwAxDkDfbUPhLsAQQPebTeahgRJAigHScNlcFECXntCA1VEWQB9zSRaWYBhAH388MRuJGkCTwqnRZMscQIc9kfdyJx9A+3d50aLOIEDvbOdpbhYiQKF9EkUcayNAD6r6YqzMJEA88p\\u002fDHjsmQGGexZlBTxZA79ud2\\u002f5YFED0UPCigHwSQHT9vO\\u002fGuRBA3sIHhKMhDkDI+YkzQgMLQKKfAO5pGAhAcbRrsxphBUA1OMuDVN0CQO8qH18XjQBAMxnPisbg\\u002fD9yukhtcA75P585q2Uso\\u002fU\\u002frJb2c\\u002fqe8j+k0SqY2gHwPwPVj6SZl+s\\u002fkMKbRKL55z\\u002fva3kQzynlPyDRKAggKOM\\u002fH\\u002fKpK5X04T\\u002frzvx6Lo\\u002fhP4lnIfbr9+E\\u002f9rsXnc0u4z8zzN9v0zPlP0GYeW79Bug\\u002fIiDlmEuo6z\\u002foMZH33gvwP5+xmDiqqvI\\u002fRA+Jj4ew9T\\u002fUSmL8dh35P0tkJH948fw\\u002f1a3nC0aWAEB4mDHjWOcCQBHyb8X0awVAnLqishkkCEAT8smqxw8LQImY5a3+Lg5A99b6Xd\\u002fAEEAlGX3qA4QSQM2SefzsYBRA70Pwk5pXFkCMLOGwDGgYQKFMTFNDkhpAKaQxez7WHEAzM5Eo\\u002fjMfQNx8tS3B1SBA2nvfiWUeIkCXlsYo7HMjQA\\u002fNagpV1iRARh\\u002fMLqBFJkB5EvTO8xAWQMQdTnV0HBRAiWAioblBEkDG2nBSw4AQQAIZcxIjsw1AaOv4ikiYCkC\\u002fLHMO97AHQAzd4Zwu\\u002fQRATfxENu98AkCFipzaODAAQFoP0RMXLvw\\u002fk+dRiM5i+D+4nbsSmP70P8IxDrNzAfI\\u002fZkeT0sLW7j8X59tqwnjqP5pC9i7m6OY\\u002f7VniHi4n5D8TLaA6mjPiPwe8L4IqDuE\\u002fyAaR9d624D9aDcSUty3hP7zPyF+0cuI\\u002f702fVtWF5D\\u002fyh0d5GmfnP8Z9wceDFus\\u002fbC8NQhGU7z9mThV04W\\u002fyPwjjDF3MfPU\\u002fkVXtW8nw+D8DprZw2Mv8Py5qtM38hgBAUPABbpbbAkBm5UMZuWMFQG1Jes9kHwhAYBylkJkOC0BSXsRcVzEOQJsH7BnPwxBAiRfwCreIEkDvXm6BY2cUQM\\u002fdZn3UXxZAKpTZ\\u002fglyGED+gcYFBJ4aQESnLZLC4xxADgQPpEVDH0ApTLWdRt4gQAcyIKzMJyJAozNI\\u002fTR+I0D7UC2Rf+EkQBCKz2esUSZA4yx4nI3SFUCglFUy4d8TQNczrU35BhJAhwp\\u002f7tVHEEBlMZYp7kQNQK+8IoG5LQpA6raj4w1KB0AaIBlR65kEQD74gslRHQJAtX7CmYKo\\u002fz\\u002fN6me2c337P8009uh2ufc\\u002fulxtMYxc9D+KYs2Ps2bxP4eMLAjar+0\\u002fyA+QHHFg6T\\u002fZTsVcLN\\u002flP7xJzMgLLOM\\u002fcAClYA9H4T\\u002fyck8kNzDgP4dClycGz98\\u002fZYsZL\\u002fNs4D9VMTl2h8DhPxiTKuk\\u002f4uM\\u002fqrDthxzS5j8NioJSHZDqPz8f6UhCHO8\\u002fGLiQtUU78j+CvpVcfE\\u002f1P9KigxnFyvg\\u002fCmVa7B+t\\u002fD+WAo1qRnsAQJtB4emF0wJAlO8pdE5fBUCCDGcJoB4IQFmYmKl6EQtALJO+VN43DkB7fmyF5cgQQNnq82WgjxJAsY71yx9wFEADanG3Y2oWQNF8ZyhsfhhAFsfXHjmsGkDQSMKayvMcQAoCJ5wgVR9AYPmCkR3oIEB3ja8XjTIiQEs9meDeiSNA3AhA7BLuJEAr8KM6KV8mQPnV1h1LlBVAB0t3z36jE0CM95EGd8wRQI7bJsMzDxBAEe5rCmrXDED9k36Z9cMJQNiohTMK5AZAqSyB2Kc3BEBtH3GIzr4BQFQCq4b88v4\\u002frKNcEm7P+j\\u002ftIvez8RL3PxuAemuHvfM\\u002fLLvmOC\\u002fP8D9LqHc40o\\u002fsPw6W8ypqT+g\\u002foD9BSSbd5D8FpWCTBjniPzvGUQkLY+A\\u002ffkYpVme23j8ieFLxAEPeP2ohH+Tia98\\u002fJ6FHl4YY4T9rbVHoP0njP3\\u002f1LGUdSOY\\u002fYznaDR8V6j8YOVniRLDuP0T6VHHHDPI\\u002f7zVmh34o9T+BT2CzR6v4P\\u002f1GQ\\u002fUilfw\\u002fLo6HJghzAEDU52HdB88CQG2wMJ+QXgVA+ufza6IhCEByjqtDPRgLQOijVyZhQg5AKBT8CQfQEEDXjUYGopgSQP4+C4gBexRAoidKjyV3FkC+RwMcDo0YQFWfNi67vBpAYC7kxSwGHUDo9AvjYmkfQHf51sIu8yBANxTlVo4+IkCzSrAt0JYjQOycOEf0+yRA4gp+o\\u002fptJkAmJswTZ1YVQHvM4qSFZxNASapzu2iSEUAgf\\u002f2uIK4PQKQYCPL4agxAHyEHQFpbCUCKmPqYRH8GQOh+4vy31gNAPNS+a7RhAUAOMR\\u002fLc0D+P4OXqdSQJPo\\u002f4Nsc9L9v9j8s\\u002fngpASLzP1n+vXRUO\\u002fA\\u002f3rjXq3N36z\\u002fbMAWaYkbnP6dkBLR14+M\\u002fRlTV+axO4T9q\\u002f+\\u002fWEBDfP+XN2BEQH90\\u002f\\u002fRNlpFfK3D+30ZSO5xHeP4kDNOjfeuA\\u002fBVrvNPC64j9UbHytJMnlP3E621F9pek\\u002fYMQLIvpP7j8GBQePTeTxP8wF8SKwB\\u002fU\\u002fe+TDzCSS+D8RoX+Mq4P8P8kdEjEibgBA\\u002fNnYpvfNAkAkBZQnVmEFQD+fQ7M9KAhARKjnSa4iC0BJIIDrp1AOQKCDBkwV2RBAli7HJ5ujEkAFEQKJ5YcUQO8qt2\\u002f0hRZAVHzm28edGEAxBZDNX88aQILFs0S8Gh1AUr1RQd1\\u002fH0BQ9rRhYf8gQLMpfmW2SyJA0ngErO2kI0Cw40c1BwslQElqSAEDfiZAi4L6wBoZFUC09NaFLCwTQFWeLdACWRFA4\\u002f78Pzs\\u002fD0ARMJPq+f8LQDXQHaBB9AhASN+cYBIcBkBQXRAsbHcDQEtKeAJPBgFAfkypx3WR\\u002fT9F4kqgX335P\\u002fVV1Y5b0PU\\u002fk6dIk2mK8j8krklbE1fvP\\u002fTI07t3Z+o\\u002flJ8vSABG5j8EMl0ArfLiP0aAXOR9beA\\u002fsRRb6OVs3T92oKBfGJvbP9SjiS6TZds\\u002f1B4WVVbM3D93EUbTYc\\u002ffP9y9jNRaN+I\\u002fzi5I6yhV5T+PW9UtG0HpPyBENJwx++0\\u002fOHQyG7bB8T9QpDN+5ez0P1CyHfcmf\\u002fg\\u002fOp7whXp4\\u002fD8FNFYVcGwAQOOHqPIr0AJAs0rv2nBnBUB2fCrOPjIIQCcdWsyVMAtA1Cx+1XViDkC5Vct07+MQQIPMUYRosBJAyHpSGaaWFECFYM0zqJYWQL99wtNusBhAcdIx+fnjGkCWXhukSTEdQD0if9RdmB9Aro4uRZsMIUD9p9ri6VkiQAXdQ8MatCNAzi1q5i0bJUBQmk1MI48mQOZxl82d3BRAs6pDp6jxEkD4GmoGeCARQHGFFdYX0g5A5UNLqsiWC0BPcXWJAo8IQKsNlHPFugVA+RinaBEaA0A9k65o5qwAQO\\u002f4VOeI5vw\\u002fRqk1E1fa+D+FN\\u002f9UNzX1P7Gjsawp9\\u002fE\\u002fftuZNFxA7j9sK6I7iWDpPys3fG7aTuU\\u002ft\\u002f4nzU8L4j8uBEuv0ivfP4+C6RtO3ds\\u002fjngr4BEr2j8o5hD8HRXaP2PLmW9ym9s\\u002fQSjGOg++3j9e\\u002fsouer7hP22kBOwQ7OQ\\u002fTQYQ1cvn6D\\u002f9I+3pqrHtP7X+TRXXpPE\\u002fWkmOy+rX9D\\u002fscbeXEHL4P2N4yXlIc\\u002fw\\u002fYS7iOMltAECFD9Q\\u002fd9UCQJ1fulGucAVAqR6Vbm4\\u002fCECgTGSWt0ELQJTpJ8mJdw5Avfpvg3LwEEArOMan5L4SQBStllEbpxRAdlnhgBapFkBSPaY11sQYQKhY5W9a+hpAcaueL6NJHUC4NdJ0sLIfQMD7vx\\u002fBGiFAXvjTRwxpIkC8EKWyOcQjQNREM2BJLCVAqpR+UDuhJkC2vnsxJqEUQDCnzIwtuBJAIseXbfnoEEAdPbqnE2cOQOtaOX+9LwtAsOesYfArCEBk4xRPrFsFQAxOcUfxvgJAqSfCSr9VAEB74A6yLED8P4NPguTsO\\u002fg\\u002fdJzeLL+e9D9UxyOLo2jxPyygo\\u002f4zM+0\\u002ffm3REkVj6D+i9tBSemHkP5Y7or7TLeE\\u002ftXiKrKKQ3T\\u002fk8XMz5mHaP6ziABJyz9g\\u002fFEsxSEbZ2D8aKwXWYn\\u002faP8OCfLvHwd0\\u002fB6lLfDpQ4T97zKpGtY3kP8Cr2zxUmeg\\u002f10beXhdz7T\\u002fVTllWf43xPy5YLBOFyPQ\\u002fcT\\u002fo5Zxq+D+dBI3OxnP8P9dTjWYBcgBAVZTIcKjdAkDGQ\\u002fiF2HwFQCtiHKaRTwhAe+800dNVC0DJ60EHn48OQIWrIaR5\\u002fhBAoJgcSujOEkAzvZF1G7kUQEMZgSYTvRZAzazqXM\\u002faGEDPd84YUBIbQER6LFqVYx1AOrQEIZ\\u002fOH0DXkqu2tikhQEvnkR8AeSJAflc1yyvVI0Bs45W5OT4lQBqLs+optCZAnebhI+hmFECD2nT77H8SQOEFgli2shBAdtESdoj+DUAcBhZGLcsKQLqpDSFbywdARrz5BhL\\u002fBEDJPdr3UWYCQD0ur\\u002fMaAQBAVRvx9Nme+z8RuGwYkKL3P7Uy0VFYDfQ\\u002fRoseoTLf8D9xg6kMPjDsPyes5wI7cOc\\u002fsJD3JFx+4z8GMdlyoVrgP14aGdkVCtw\\u002fUUojJDH72D\\u002fj8dDGlIjXPw8RIsFAstc\\u002f3qcWEzV42T9Ltq68cdrcPy4e9V577OA\\u002fCJ1kC+I55D+u16XjbFXoPynOuOcbP+0\\u002fLsDOi3d78T8696k5c770Py4Mbv2AaPg\\u002fCv8a16B5\\u002fD\\u002foZ1hj6XgAQD2\\u002fF2aL6AJAiIXLc7aLBUDGunOMamIIQO9eELCnbAtAFHKh3m2qDkAYehOM3g0RQJ9yUK5K4BJAn6IHVnvMFEAaCjmDcNIWQBGp5DUq8hhAgH8KbqgrG0Bhjaor634dQMTSxG7y6x9A0aesG185IUD9AbRCp4kiQOV3eKzR5iNAign6WN5QJUDttjhIzccmQMQiCBAWLhRAWl8k8RZJEkBp07pX3H0QQOj9lofMmA1A8cOsamlpCkDu+LZYj20HQNyctVE+pQRAv6+oVXYQAkAsYyDJbl7\\u002fP8lE2PwCA\\u002fs\\u002fRgR5RqkO9z+soQKmYYHzP\\u002f4cdRssW\\u002fA\\u002faeygTRE46z+lWimQ7ofmP7GEg\\u002f7vpeI\\u002fGtVeMSsk3z90GFq9vpjaP3LT+KCaqdc\\u002fDAY73L5W1j9DsCBvK6DWPxvSqVnghdg\\u002flGvWm90H3D9XPtOaEZPgP7QCjZNY8OM\\u002f4YIYuMMb6D\\u002fgvnUIUxXtP01bUkKDbvE\\u002fGrVSFm+59D\\u002fS7DsAbWv4P3ECDgB9hPw\\u002f+3rkik+CAECzY7ag6fUCQF67fMEMnQVA\\u002foE37bh3CECJt+Yj7oULQA9cimWsxw5AxTcR2XkeEUD+eNcE4vISQK\\u002fxF7YO4RRA2qHS7P\\u002foFkCAiQeptQoZQKCotuovRhtAM\\u002f\\u002ffsW6bHUCjxkH\\u002fOAUgQGypUOicSSFA76ccFOOaIkAvwqWCC\\u002fkjQC346zMWZCVA6EnvJwPcJkAr19qN4PYTQP96KqDZExJAS1b0N5dKEEAm0nCqMjYNQKhm7e+\\u002fCgpAIGpeQNYSB0CK3MObdU4EQOi9HQKevQFAchzY5p7A\\u002fj8Dm13fE236P3b3y+2agPY\\u002f0TEjEjT78j8zlMaYvrnvP4mAGDk5S+o\\u002frig8Bdiq5T+mjDH9mtjhP9dY8UEEqd0\\u002fBxAj4Ro92T\\u002faPvjXeW3WP0nlcCYhOtU\\u002fVAONzBCj1T8CmUzKSKjXP1Gmrx\\u002fJSds\\u002foBVb5shD4D\\u002fnE7Bo0bDjP\\u002f7N1hb+6+c\\u002f6EPP8E717D\\u002fGukz7YWbxP4mxGpQuufQ\\u002fNobRQg1z+D\\u002fJOHEH\\u002fpP8P6Lk\\u002fHAAjgBA1Zs16YoFA0D8wWJsnrAFQBVXhPo6jwhAG1uak2ChC0AbzqQ3D+cOQAnYUXMjMBFAfoBL0IMGE0BsYL+yqPYUQNV3rRqSABdAucYVCEAkGUAWTfh6smEbQOUKVXPpuB1AGwCWePIUIECClj56UlohQKRIpL6UrCJAhBbHRbkLJEAgAKcPwHclQHkFRByp8CZAsSzBXXbBE0DGNtJtYeARQFJ4XQMRGRBAs+LFPArXDEC3Q8V9e68JQK8Tucl1uwZAmFKhIPn6A0B2AH6CBW4BQI86nt41Kf4\\u002fIVIpznLd+T+TR53Twfj1P\\u002fAa+u4ie\\u002fI\\u002fb5h\\u002fQCzJ7j\\u002fFttzONmrpP+yQC4ll2eQ\\u002f4yYMb7gW4T9V8bwBX0TcP4UMBX2V99c\\u002fWZ\\u002fwTxRH1T\\u002fIqX962zLUP9UrsvzqutQ\\u002fgyWI1kLf1j\\u002fTlgEI45\\u002faP8N\\u002fHpHL\\u002fN8\\u002fKnDvOP564z9BXCHVusXnPywEJZ2b3uw\\u002f6DN9SNBi8T+rw1DYZL30P1cxDX4Lf\\u002fg\\u002f7HyyOcSn\\u002fD80U6CFx5sAQObWW\\u002fk1FwNAjskLeC3GBUAnK7ABrqgIQKv7SJa3vgtALDvWNUoID0DS9CvwskIRQIcD50oFGxNAtkkcKxwNFUBgx8uQ9xgXQIN89XuXPhlAIGmZ7Pt9G0AwjbfiJNcdQGD0Jy8JJSBA5j2xL2JrIUApo\\u002fdynb4iQCkk+\\u002fi6HiRA5cC7wbqLJUBeeTnNnAUnQDcioGYEjhNAZr8a89iuEUAbKB8K5NIPQFxA\\u002fTifewxAlsfPcuNXCUDEvZa3sGcGQOQiUgcHqwNA9\\u002fYBYuYhAUD9c0yPnZj9P\\u002fvXfXCAVPk\\u002f2hmYZ3V39T+hOZt0fAHyP6tuDi8r5e0\\u002f1yW4oIGV6D\\u002fVmDM+\\u002fBPkP6THgAebYOA\\u002fhWQ\\u002f+bv22j9jsSA7isjWP+Z1pdSgNtQ\\u002fA7LNxf9A0z+\\u002fZZkOp+fTPxuRCK+WKtY\\u002fGjQbp84J2j+4TtH2ToXfP3twFc+LTuM\\u002fa\\u002fWTTpSo5z8rNuT5wNDsP1QZg+iIY\\u002fE\\u002fg\\u002fX8acPF9D+ar18BEI\\u002f4P5pHq65uv\\u002fw\\u002fwd7vuG+rAECpiH4lsSoDQIWhAZ173QVAVSl5H8\\u002fDCEARIOWsq90LQMaFRUURKw9AOi1N9P9VEUAJz3HLOzATQFOoECg8JBVAGLkpCgEyF0BVAb1xilkZQA6Byl7YmhtAOjhS0er1HUByE6rkYDUgQIYmaKOufCFAVVXjpN7QIkDjnxvp8DEkQC0GEXDlnyVANIjDObwaJ0CTgCi1tVwTQEHypP5ofxFAyTY3m8F3D0AH+BhEOiQMQD0o7\\u002fc7BAlAZse5tsYXBkB\\u002f1XiA2l4DQI1SLFV32QBAIH2oaToP\\u002fT8TM+E+mNL4P+bGAioI\\u002ffQ\\u002fpDgNK4qO8T+aEAGEPA7tP7Nrud2Izec\\u002fnIJDY\\u002fla4z+uqj4pHG3fP8HHmeONwNk\\u002fd1yY9Uew1T\\u002fPaDpfSjzTP8PsfyCVZNI\\u002fVuhoOSgp0z+JW\\u002fWpA4rVP19GJXInh9k\\u002f1Kj4kZMg3z92wbcEJCvjP0\\u002fqRGwilOc\\u002f\\u002fc6j\\u002f0TL7D+xN2rfRWjxP9dl61T70fQ\\u002f5XFV4MKi+D\\u002faW6iBnNr8P9sRchzEvABAv2QEA8M\\u002fA0CWJov0SvYFQGBXBvFb4AhAFPd1+PX9C0DIBdoKGU8PQLdBGZTiaRFABbg\\u002fKP1FE0DNZeBB3DsVQA5L++B\\u002fSxdAymeQBeh0GUAAvJ+vFLgbQKdHKd8FFR5AaIUWyt1FIEC6glXnGo4hQMmbUUc64yJAlNAK6jtFJEAdIYHPH7QlQGONtPflLydAIrqJe7MtE0DbPO2WOFIRQBvulW8EIQ9ActFFvCDRC0DBI+oTxrQIQAXlgnb0ywVAOhUQ5KsWA0BhtJFc7JQAQP6ED8Brjfw\\u002fJn\\u002fk3BBY+D8uV6IPyIn0PyANSViRIvE\\u002f\\u002fUGxbdlE7D99JaJWtBLnP9DEZGuzruI\\u002f6D\\u002fyV60x3j\\u002fPbb4wPKLYP1cTLmETr9Q\\u002fgjBB6TJY0j9JxffImp3RP67RUQBLf9I\\u002ftVVPj0P91D9cUfB1hBfZP6TENLQNzt4\\u002fxlcOpW8Q4z8KCdSb\\u002fIfnPx92a76tzew\\u002feE9qhsFw8T\\u002fTwYdDvuH0PxQSjhbNufg\\u002fPUB9\\u002f+34\\u002fD8opip\\u002fkM8AQCYbiwkzVgNAF\\u002f\\u002ffnl4QBkD9USk\\u002fE\\u002f4IQMsTZ+pQHwxAmkSZoBd0D0As8t+wM34RQIh57RYgXBNAXDh1AtFTFUCrLndzRmUXQHNc82mAkBlAt8Hp5X7VG0BsXlrnQTQeQFCZIrdkViBAKR9VvYqfIUC\\u002fwEQGk\\u002fUiQBF+8ZF9WCRAIFdbYErIJUDtS4Jx+UQnQCGkrhAlARNA3vrz+2wnEUAiEmfZ8s4OQHud2sWUggtAzZdCvb9pCEATAZ+\\u002fc4QFQEnZ78yw0gJAdiA15XZUAEAprd0QjBP8P1X3OW085fc\\u002fYx9\\u002f3\\u002f4d9D9aJa1n073wP30SiAt0ies\\u002fCZaHc2Vl5j9m1VgHew\\u002fiPymh941pD90\\u002fJg\\u002fhZCWc1z\\u002fC9G2TKcXTPwJSnhl2itE\\u002f3SZy9wrs0D9Yc+ks6OnRP3I3BLoNhNQ\\u002fL3PCnnu62D+MJiTbMY3eP8WolDcY\\u002fuI\\u002fE\\u002fporbuD5z81Bw9Pg9fsPwhoQ463fPE\\u002fZiroir\\u002f09D+tynWd2dP4P95I7MUFGv0\\u002fetIlAqLjAEB770ksym0DQG97YmF7KwZAVXZvobUcCUAp4HDseEEMQPe4ZkLFmQ9AXoCoUc2SEUC525eHfHITQI9uAUPwaxVA4Djlgyh\\u002fF0CrOkNKJawZQO9zG5bm8htApuRtZ2xTHkBuRh1f22YgQEe2QM3isCFA3kEhfswHI0Ax6b5xmGskQEGsGahG3CVADosxIddZJ0BR2TjuL9cSQA+Fhqcp\\u002fxBAjtCczM+BDkDvBSFV1TgLQEiqmehjIwhAlL0Gh3tBBUDSP2gwHJMCQAUxvuRFGABAVSIRSPGh+z+RwI7caHr3P6489YbyufM\\u002fspZER45g8D9Hnfk6eNzqP+\\u002fIOxP4xeU\\u002fabBPF5x94T9lp2qOyAbcP5pl2UWhrtY\\u002fb5vrVMLy0j\\u002fmSKG7K9PQP\\u002fpt+nndT9A\\u002frAr3j9do0T8AH5f9GR7UP\\u002faq2sKkb9g\\u002fia7B33dd3j\\u002ffFCaqyfPiP0kOPZD7huc\\u002fhcMlolHo7D8\\u002fGvDv5YvxP6wwtiS1CvU\\u002fACVlb5bw+D899\\u002fzPiT39P7HTPqPH+ABAuppzaVOGA0Cz0Jw6aEcGQKJ1uhYGPAlAe4nM\\u002fSxkDEBSDNPv3L8PQA\\u002f\\u002fZvaKpxFAb69e+uuIE0BIl9CDEYQVQJq2vJL7mBdAaA0jJ6rHGUCxmwNBHRAcQGphXuBUch5AUq+Zgih3IECtScHXCMIhQMT\\u002fpW\\u002fLGSNAmtFHSnB+JEAsv6Zn9+8lQHvIwsdgbidA0AiErPevEkD9v29LkNkQQEldq9\\u002faOQ5Ai6lrMx70CkDDZCCS6uEHQO+Oyfs\\u002fAwVADShncB5YAkA9YPLfC8H\\u002fP0lO\\u002f\\u002fTsOPs\\u002fQxr1H+AX9z8exNNg5V3zP+JLm7f8CvA\\u002fJmOXSEw+6j9N6slNwzTlP0Qtzn5e+eA\\u002fGVhItzsY2z9JzZfIAtrVPxq6ijESONI\\u002fjx4h8mky0D9B9bUUFJLPP09OOHry+9A\\u002fnxm5QSPL0z+PXN1gnDbYPyIXpdddPt4\\u002fqSQI0zPx4j+TeQ\\u002fmXJHnP0+K6CSq\\u002f+w\\u002fYavJxw2e8T+N7weTWCP1P6ERL3S1D\\u002fk\\u002fnRE\\u002fayRj\\u002fT\\u002fC9xu80g4BQKfVjE2cnwNAgyLy6e5jBkBQ3kuRylsJQAoJmkMvhwxAv6LcAB3mD0C11YnkSbwRQISRH85JnxNAzoQvPQ6cFUCRr7kxl7IXQM8Rvqvk4hlAhas8q\\u002fYsHECufDUwzZAeQKxCVB00hyBAweJK5ePSIUCPnv7vdSsjQB12bz3qkCRAZmmdzUADJkBteIigeYInQDf\\u002fEvydixJA\\u002f63vzMC2EEB+KI1GUPcNQPJjL\\u002f6ntApAXA7GwIilB0C6J1GO8skEQAqw0GblIQJAnU6JlMJa\\u002fz8LG1pxzNj6P2rFE2TovfY\\u002fqk22bBYK8z+kZ4MWrXrvP8\\u002fva39Rr+k\\u002fvTMmFBqy5D9+M7LUBoPgPxzeH4IvRNo\\u002f4Mx+spke1T9CM4E6TJXRP48iTjSOUM8\\u002f0M3gohSvzj8pNF3gFaPQPwl57cbpitM\\u002fjDUhBQYP2D+uafiaai\\u002feP7iKOcQL9uI\\u002fapzIZoai5z\\u002ftaSk1JR3tP5X5rRf0svE\\u002fJhywqmc+9T+fHJtT7TD5P\\u002f76bhKFiv0\\u002fpNuVc5clAUC9qOhodbkDQMnkL2ncgAZAyo9rdMx7CUC1qZuKRaoMQE8Z4NUjBhBAPZXsa+nQEUCmSHOHc7UTQIczdCjCsxVA41XvTtXLF0C6r+T6rP0ZQAxBVCxJSRxAzQk+46muHkAJBdGP55YgQOggwHBc4yFAhFhslLM8I0Deq9X67KIkQPMa\\u002fKMIFiZAxqXfjwaWJ0CYR+SbQmoSQHbF9TzZlhBAmPUCx2i6DUA5zw4fqHoKQM8XD4JwbgdAW88D8MGVBEDX9exonPABQI8Wldn\\u002f\\u002ff4\\u002fWh8599iB+j8TBsYqxGz2P6zKO3TBvvI\\u002fXNo0p6Hv7j8328OR5C\\u002fpP9qXJKhLPuQ\\u002fTxBX6tYa4D8kibawDIvZP01pYuSzfNQ\\u002fFsGxb6MK0T8HIUmltmnOPxSvdRq39s0\\u002fMZZ0HyRe0D95zFEJNV3TP2N60kqO+Nc\\u002f7J\\u002f24y8w3j+KHl\\u002fqDALjP++olA4muuc\\u002fJu+bXmNA7T+MeDptYsrxP3TXD0GlW\\u002fU\\u002fSBTOKvpT+T8DL3UqYbP9P9OTAiDtPAFAGP++tbLTA0BR2W9WAZ4GQH4iFQLZmwlAltquuDnNDEDVgB69ERkQQNrLXyNL5RFAWk4bD0nLE0BSCFGAC8sVQMT5AHeS5BdAsSIr890XGkAYg8\\u002f07WQcQPIa7nvCyx5AJnVDxC2mIECQ+EyNXPMhQLiXE5ltTSNAnVKX52C0JEA9Kdh4NigmQJ0b1kzuqCdAmjZLTANMEkCx77jM9XkQQIXAQaVZgw1AmhAGvFBGCkCmz77d0DwHQKb9awraZgRAlpoNQmzEAUD2TEcJD6v+P6pCXKRXNPo\\u002fSxZaVbIk9j\\u002fNx0AcH3zyP2+uIPI7de4\\u002fHYmR113A6D+TH9Too9njP7Dj0Escgt8\\u002f2\\u002f+cHTnt2D+okwxHnvTTPxafH8hLmNA\\u002fS0SsQYOwzT+iOWCi\\u002f2jNPxuPLVkGLdA\\u002fB3nOONVB0z+U2hJw7PLXP8Oz+v5LQN4\\u002fSALD8vkU4z9+ZtoR8tfnP4eGw1wOae0\\u002fJTG\\u002faSfk8T\\u002f3fAW72Xr1P7OmNCKeePk\\u002fVa5Mn3Td\\u002fT\\u002fxySaZrlQBQKurm+0r7gNAWfwETTK7BkD7u2K3wbsJQIXqtCza7wxACcR91r0rEEBIShscU\\u002fkRQAAIM+es4BNAMf3EN8vhFUDgKdENrvwXQAeOV2lVMRpApylYSsF\\u002fHEC9\\u002fNKw8eceQKcDZE7ztCBAsaQbB9ACIkB0YZACj10jQPY5wkAwxSRANS6xwbM5JkAwPl2FGbsnQNlbC777MBJAs29pvjBgEEAKdoOIVFINQKJ7KJ\\u002fQFwpAM\\u002fDBwNUQB0C200\\u002ftYz0EQCom0iR7nQFAJs+RzjZi\\u002fj\\u002fgL2hpifD5P4luJxru5fU\\u002fEovP4GRC8j8HC8F62wvuP8S7tF8RYeg\\u002fSCh6cGuE4z83oSJa0+veP35p9CoYa9g\\u002fZqlpU6WG0z\\u002fxYILTej7QPzogfVYxJc0\\u002fzW08tf0FzT9NVaFhrQ\\u002fQP1XrR0CkONM\\u002fAPmRduP91z9Jfn8Ea1\\u002feP5o9CHWdLuM\\u002f33eik6n75z\\u002f2bQ7e2ZbtP+QPJioXAPI\\u002fvcYte9Ob9T+AWx7ioZ75PyvO916CCP4\\u002fXg\\u002fdeLpsAUCcpjLNvAgEQM6sfCxI2AZA9CG7llzbCUADBu4L+hENQImsCkYQPhBAio2YC+gMEkAEpqBWhPUTQPn1Iifl9xVAZn0ffQoUGEBQPJZY9EkaQLMyh7mimRxAiWDynxUDH0Dv4uuFJsMgQFmxm36kESJAfZsIugRtI0BgoTI4R9UkQP\\u002fCGflrSiZAXAC+\\u002fHLMJ0Cx\\u002fJZ9RRkSQP\\u002fJ21GiSRBAh501V4cnDUAGFqgVU+8JQHv9Dt+n6gZA5VNqs4UZBEA9GbqS7HsBQBub\\u002fPm4I\\u002f4\\u002foOFt5Kq2+T8TBsjkrrD1P2gIC\\u002fvEEfI\\u002fS9FtTtqz7T+dTZfSThLoP7iFkoLnPuM\\u002fRPO+vEhz3j+6UvzLCgXYP9Ip3TIVM9M\\u002fEfHC4s\\u002f6zz\\u002fDfRIPBsjMP675qOrMzcw\\u002fbDLDOhIG0D+iX9VXhkHTP3kEi8xCGdg\\u002f8SDkmEeN3j+EWnBeyk7jP2BgQBwVJeg\\u002fDiLiBYTJ7T+6z6qNCx7yP2BsTS5nvvU\\u002f7ubY5NTF+T9jP02xVDT+P+A61UnzhAFAA0X4RUUjBEAbvg9NIPUGQCamG1+E+glAG\\u002f0bfHEzDUCJYQjS808QQPn7fGvzHxJA6M1rircJFEBP19QuQA0WQDEYuFiNKhhAjpAVCJ9hGkBjQO08dbIcQKsnP\\u002fcPHR9AOqOFm7fQIEBbzih+yR8iQDsViaO9eyNA13emC5TkJEAw9oC2TFomQEaQGKTn3CdAbKF02vcEEkCJYC+tYDYQQDquyAocAw1AVAonxv\\u002fMCUBm1XmMbMoGQG8PwV1i+wNAZbj8OeFfAUCkoFlC0u\\u002f9P2auoib0hvk\\u002fFZrUICiF9T+mY+8wburxPz0W5q2Mbe0\\u002fByG\\u002fJWHU5z+Z52nJWQnjP\\u002fbTzDHtGN4\\u002fWlBpKG+71z9eRKl2OfrSPwdgGTmYqs8\\u002fmCYnNE6ZzD9g3HvelMDMP7PACxw2ENA\\u002f1wp9IGpc0z+bzJF85kTYPwIGSjCryd4\\u002fhdvSHVx14z\\u002fVb1LPBlToP\\u002f2\\u002fo6zVAO4\\u002f7WXjWuQ98j\\u002fOyV31b+L1P5gLwaUN7vk\\u002fSCsNbL1g\\u002fj9yFCGkP50BQDMCMJ2pPQRA514zoZwRB0CRKiuwGBkKQCJlF8odVA1AWgd891VhEECdk2aPYTISQFlXy6wxHRRAj1KqT8YhFkBAhQN4H0AYQGrv1iU9eBpAD5EkWR\\u002fKHEAmauwRxjUfQGA9F6iY3SBAaGH1iTAtIkAwoZCuqokjQLP86BUH8yRA8nP+v0VpJkDxBtGsZuwnQBoh88on9BFAZg6XwX8mEEBUZmp7OOUMQNAem376sAlAREbAjEWwBkCr3NmlGeMDQAPi58l2SQFAn6zU8bnG\\u002fT8gc8JlmGH5P5AXme+IY\\u002fU\\u002f4ZlYj4vM8T839AGKQDntP4BwJCGOp+c\\u002fk6gY5P\\u002fj4j\\u002fsOL2lK93dP1KY7Nqfjtc\\u002fW2+\\u002fZ1zc0j8HfGuYwozPP5sInxBdmcw\\u002fZoQZOIjezD+5d20HIi7QP+CkcUpIidM\\u002fp0kZ5baA2D8RZmTXbRTfPw19qZA2ouM\\u002f4YJyYVqI6D+HRA1eojzuP\\u002fTgPEOHX\\u002fI\\u002flv1bbc8H9j8g+GOtKRf6P5HQVAOWjf4\\u002fd0OXN4q1AUCYjXh40lcEQKxGTsSjLQdAt24YG\\u002f42CkCnBdd84XMNQM0FxfQmchBAQMCYsCFEEkAtsubx4C8UQJPbrrhkNRZAcjzxBK1UGEDP1K3WuY0aQKSk5C2L4BxA7KuVCiFNH0BadWC2vekgQHswMyrNOSJAWgfD4L6WI0D0+Q\\u002fakgAlQE0IGhZJdyZAYjLhlOH6J0DHOXbM5+YRQKrmjCwRGhBACZY7JP7NDECzzVH6YpsJQFR0XNtQnAZA54lbx8fQA0BtDk++xzgBQNADboChqP0\\u002frMgmmsVG+T92a8jJ+0v1PyLsUg9EuPE\\u002fbZWM1TwX7T9wDkW4FYznPzhDz8YSz+I\\u002foGdWAmjA3T90wLHO8n7XP+aQsPLF2dI\\u002f9LGl3MKhzz9jMTGDisjMPwWgA9niJ80\\u002f834O7+Vf0D+FpT7JIsjTP7dDEvunzNg\\u002fjFmJhHVt3z+A89GyRdXjPwr2MM\\u002f0weg\\u002fZrRhF8h87j89F7LF34LyPzoynJVtLvY\\u002fICtvew1B+j\\u002fsASt3v7r+P1DbZ8TBzQFAoKQu2KxxBEDj3On2IEkHQBqEmSAeVApAOpo9VaSSDUCsD2vKWYIQQLaJse8lVRJAOjtymrZBFEA3JK3KC0gWQK5EYoAlaBhAoJyRuwOiGkAKLDt8pvUcQOjyXsINYx9ApHj+xhz1IECRk4rvlEUiQDrK01rvoiNAoRzaCCwNJUDEip35SoQmQKYUHi1MCChAsOfGwEfdEUCrldsVJBEQQD321OCJvQxAGjDnoFSMCUDq2O1rqI4GQLHw6EGFxANAaXfYIustAUAp2ngdtJX9P2ijKQukNvk\\u002flkrDDqY+9T+lz0Uouq3xPzplYq\\u002fAB+0\\u002fAecKOjGC5z+RJIXwxcriP947oqX9wt0\\u002fP6bdwbeM1z8\\u002fiLw1uvLSP7\\u002fDfQIK6s8\\u002fRGbJSDAnzT8C+Fs+55zNP368mnGXpdA\\u002fnfSqmwMZ1D9fpF4duCjZP7\\u002fLtfa01N8\\u002fYDXYE30O5D+xQCfYwwDpP9QHSMguwe4\\u002fV0Ud8t6n8j+3ZP+VOFb2P\\u002f9hyk+ka\\u002fo\\u002fMD1+HyLo\\u002fj8ke40C2eUBQKVGUAAqiwRAGoEHCQRkB0CCKrMcZ3AKQNRCUztTsA1AEeVzMuSREEA0YLhMY2USQNASd+ymUhRA5vyvEa9ZFkB2HmO8e3oYQIJ3kOwMtRpABwg4omIJHUD+z1ndfHcfQLrn+s6t\\u002fyBAMwMGcn9QIkBpOs5XM64jQFyNU4DJGCVADvyV60GQJkB5hpWZnBQoQLik8chU1xFADBIHC8ULEECubS2l87MMQDsmQT\\u002fmgwlAvU1J5GGHBkAz5EWUZr4DQJrpNk\\u002f0KAFA7bs4KhaO\\u002fT+PguzLVTH5Px0niYOnO\\u002fU\\u002fjqkOUQut8T\\u002fNE\\u002fpoAgvtP1aQqFsSiuc\\u002fpsgoekbX4j+OefWIPeXdP3HZPHU2uNc\\u002f87AnuXcn0z8XALZUATPQP7iNz4+mtc0\\u002fewp6Jds9zj9AuzU1UP\\u002fQP+HoUS\\u002f7e9Q\\u002fJo4Rge6U2T+FVToVFSXgP8ifvRXXTeQ\\u002f2qUSQr1E6T+8ZzmaxwnvP6zyGA97zvI\\u002fbQ\\u002f+ZiR\\u002f9j8WCszU35b6P6figlitFf8\\u002fkUwRecb9AUDDltVQP6QEQOZPjjNBfgdAAHg7IcyLCkAAD90Z4MwNQIGKuY6+oBBA\\u002fMT+ldF0EkDvNr4iqWIUQF7g9zRFahZARsGrzKWLGECp2dnpysYaQIUpgoy0Gx1A17CktGKKH0DStyCxagkhQPgyrEqGWiJA2cn0JoS4I0B5fPpFZCMlQNVKvacmmyZA7zQ9TMsfKEAE3FgeGdURQOSkutj9CRBAd0otMU6xDEAbutm7KYIJQLeYelGOhgZAReYP8nu+A0DEopmd8ikBQHKcL6jkkf0\\u002fQ9EUK\\u002fY2+T8C5OLDGUP1P6LUmXJPtvE\\u002fV0Zzbi4h7T9Bn4Qj4qPnP\\u002fKzZwS69OI\\u002f6Ag5Imwn3j+MIUaTrAHYP9Kx9ls1eNM\\u002ft7lKfAaL0D97coToP3TOP8NguocDC88\\u002fJJ8b6ytt0T+Jhf1pHvHUP43jgkBZEdo\\u002fmtxVN+5m4D89Azz6U5PkP6\\u002fl8+jdjek\\u002f9IN9A4xW7z\\u002f5buwkr\\u002fbyP+r5Al4qqfY\\u002fw2ICrbfC+j+FqeoRV0P\\u002fPxfnXUaEFQJAYei6Dua8BECfWAzi0JcHQM83UsBEpgpA6IWMqUHoDUCBod3O464QQIc3b05rgxJACQV7U7dxFEACCgHex3kWQHdGAe6cmxhAZbp7gzbXGkDPZXCelCwdQKlI3z63mx9AgjFkMk8SIUBu2hUIpWMiQBafhCDdwSNAe3+we\\u002fcsJUCee5kZ9KQmQH6TP\\u002frSKShAY5W66pvWEUDeP\\u002fti1QsQQJ1DbMGmtQxAdnbWxyuHCUBEGDXZOYwGQAcpiPXQxANAuqjPHPEwAUDELheeNKH9P\\u002f7pdxiZR\\u002fk\\u002fJIPBqA9V9T8s+vNOmMnxPzieHhZmSu0\\u002f8wMnur\\u002fP5z9yJQGKPSPjP4cFWgu\\u002fid4\\u002fyTdVWktp2D+u4fMAIOXTPzEDNv88\\u002fdA\\u002frjg3qkRjzz8ZraQCUALQP3o10QdG79E\\u002ffTWhZIR41T8grRQZC57aPzHOlRLtr+A\\u002fpAFzxPje5D\\u002fl8CGiKNzpP\\u002fmboqt8p+8\\u002fY4F6cHog8z+8kgyhSNT2P\\u002f2Bh+co7\\u002fo\\u002fJk\\u002frQxtx\\u002fz8b\\u002fRvbDy0CQJrBNh8b1QRACvVFbq+wB0Bvl0nIzL8KQLyoQS1zAg5AhRSXTlG8EEAmjAeMLZESQD878k7OfxRA1CFXlzOIFkDhPzZlXaoYQGqVj7hL5hpAbSJjkf47HUDh5rDvdasfQGxxvOlYGiFAJotdHtlrIkCawLuVO8ojQMwR10+ANSVAvH6vTKetJkBoB0WMsDIoQNYk\\u002fR\\u002fh2xFAshfyfE8REEAOhMK+BMEMQK5HlY7zkglAQ3pcaWuYBkDLGxhPbNEDQEQsyD\\u002f2PQFAZVfZdhK8\\u002fT8pNAuESmP5P93uJaeUcfU\\u002fcIcp4PDm8T\\u002fa+ytevobtP6yk1ie\\u002fDeg\\u002fRAlTHeRi4z9aU0J9WgzfP88Lghc179g\\u002f4ztlCVhu1D+W4+tSw4nRP+0CFvR2QdA\\u002f35nj7HKV0D9xqFQ9t4XSP6QuaeVDEtY\\u002fdywh5Rg72z\\u002f2UD4eGwDhP4DHvfXNMOU\\u002f2\\u002fkO+aQv6j8H6DEooPzvP\\u002fZIk8HfS\\u002fM\\u002f3Hv2hIEA9z+ojEJeNRz7P1x7d037nv8\\u002f\\u002faNKqWlEAkBB+c223uwEQHe9Rc\\u002fcyAdAovCx8mPYCkC3khIhdBsOQOXRM60GyRBA6JFYzxeeEkBmifd27YwUQFy4EKSHlRZAzx6kVua3GEC6vLGOCfQaQB+SOUzxSR1A9547j525H0Cn8dsrhyEhQJIv19IhcyJAOYmPvJ7RI0Cd\\u002fgTp\\u002fTwlQL2PN1g\\u002ftSZAmzwnCmM6KECME6dQ6eQRQEMZNMFsGhBA5qx2bmnTDEA6lnllgqUJQITucGckqwZAxLVcdE\\u002fkA0Dy6zyMA1EBQDAiI16B4v0\\u002fYEq1uQ2K+T9\\u002fUDArrJj1P340lLJcDvI\\u002fz+zBnz7W7T93LC0G6F3oP+gnapi1s+M\\u002fUr7xrE6v3z92pLKAepPZPzgCF6zuE9U\\u002fndceL6sw0j+kJMoJsOnQP0TpGDz9PtE\\u002fhyULxpIw0z9o2aCncL7WP+wE2uCW6Ns\\u002fB1TbuIJX4T9rYRst3ojlP5wqLc1diOo\\u002f0FeIzAAr8D8v+GLI5HjzP4B2JtraLfc\\u002fudLSAeNJ+z\\u002faDGg\\u002f\\u002fcz\\u002fP3ESc8mUWwJAao0m\\u002fjMEBUBXd849XOAHQDjQaogN8ApAApj73UczDkBmZ0CfBdUQQEM6\\u002fdQrqhJAnUQ0kBaZFEBuhuXQxaEWQLr\\u002fEJc5xBhAg7C24nEAG0DDmNazblYdQHS4cAowxh9A1IdC89onIUAszwkkgHkiQEEyjpcH2CNAEbHPTXFDJUCgS85GvbsmQOwBioLrQChA0ifyibHxEUAttXZrKicQQAP06qTP7AxAoOzcfdO+CUAyVMNhYMQGQLoqnlB2\\u002fQNAMXBtShVqAUA8SWKeehT+P\\u002f6P0r3cu\\u002fk\\u002frLQr81DK9T89t20+1z\\u002fyP20vMT\\u002ffOO4\\u002fOKxYLTTA6D\\u002fK5FFHrRXkPy3ZHI1KOeA\\u002fvxJz\\u002fRdW2j\\u002fI6k8449XVP2460Mr28dI\\u002ftwH0tFKq0T+bQLv29v7RPyD3JZDj79M\\u002fRyU0gRh91z8Oy+XJlabcPzt0HbUttuE\\u002fvb4ZsTTn5T8RxefYX+bqP5zDQ5bXWfA\\u002fioL8VZGn8z9sH54rXVz3PzWaKBc7ePs\\u002f6PKbGCv7\\u002fz\\u002fBFPyXlnICQAKfnq4gGwVAOJg10DP3B0BgAMH8zwYLQHLXQDT1SQ5Aw45au1HgEEBE6Q5ibbUSQEJ7PY5NpBRAt0TmP\\u002fKsFkCpRQl3W88YQBR+pjOJCxtA+e29dXthHUBPlU89MtEfQBS6LcVWLSFAPcVwrvZ+IkAk7HDaeN0jQMguLkndSCVAJ42o+iPBJkBEB+DuTEYoQKsmcDAzAhJA7GepNII3EEBJwbl8Kw0NQLAhFZvb3glADPFkxBTkBkBcL6n41hwEQJ\\u002fc4TciiQFAq\\u002fEdBO1R\\u002fj8ACGGup\\u002fj5P0P8jG50BvY\\u002faM6hRFN78j\\u002fs\\u002fD5hiK7uP9wYDGWONOk\\u002flvCqlLiI5D8ghBvwBqvgP\\u002famu+7yNts\\u002fTb3jVCC01j9CS68Sls3TP9pQHihUg9I\\u002fDs4wlVrV0j\\u002fjwuZZqcPUP1gvQHZATtg\\u002fbRM96h913T+St+7aIxziPz2hkOzbS+Y\\u002fukYEKrhJ6z8D1KRJ3IrwP4diMJTu1\\u002fM\\u002f+86k9BKM9z9ZGQJrSaf7P88gpPvIFABA5qO7THaJAkDxlceorDEFQPH2xw9sDQhA5ca8gbQcC0C\\u002fBab+hV8OQM7ZQUPw6hBANeiqDOK\\u002fEkAWLo5bmK4UQHKr6y8TtxZASGDDiVLZGECYTBVpVhUbQGFw4c0eax1An8snuKvaH0AuL\\u002fST\\u002fjEhQEuUkY6JgyJAIhXsy\\u002fbhI0C4sQNMRk0lQApq2A54xSZAGz5qFIxKKEBrfDngYxYSQGMqbTJqSxBApx82FGo0DUB6WYbOiAUKQEYCy5MwCgdAAxoEZGFCBEC0oDE\\u002fG64BQLEsp0q8mv4\\u002f4\\u002fXTLFRA+j8Cnekk\\u002fkz2PwMi6DK6wPI\\u002f2QmfrRA37z+Diz8h0brpP\\u002fbIscC1DOU\\u002fOML1i74s4T+W7hYG1zXcP13Q5Ut5rtc\\u002fxClY6WPD1D\\u002fO+m3elnTTP3JDJysSwtM\\u002ftwOEz9Wr1T+cO4TL4THZPyTrJx82VN4\\u002fJok3ZWmJ4j+J2Kzm27bmP7zj85Nysus\\u002fYVWGtha+8D+\\u002flvs4Bgr0PxK2WdEHvfc\\u002fS7OgfxvX+z83R+ihICwAQLyj9I48oAJANW\\u002f1huFHBUCiqeqJDyMIQANT1JfGMQtAT2uysAZ0DkBLeULq5\\u002fQQQGr0pQGRyRJAA6eDnv63FEAUkdvAMMAWQKKyrWgn4hhAqQv6leIdG0ApnMBIYnMdQBtkAYGm4h9AyTFen9c1IUA\\u002fzfhAPociQHSEUCWH5SNAZldlTLJQJUAURje2v8gmQH9QxmKvTShAh1qaUTUuEkCRid+61GIQQCngPVNxYg1AJByxO8IyCkAWxxgvnDYHQPvgdC3\\u002fbQRA0mnFNuvYAUA6wxSWwO7+P7aQh9S8kvo\\u002fIjzjKMud9j9xxSeT6w\\u002fzP0tZqiY80u8\\u002fkOPWUsVS6j+cKdWqcqHlP3crpS5EvuE\\u002fSNKNvHNS3T9BxXRzp8TYP9sv\\u002f4Ej09U\\u002fFxIt6Od91D\\u002fua\\u002f6l9MTUP2Y9c7tJqNY\\u002ffoaLKOcn2j83R0ftzEPfP8g\\u002f04T9\\u002feI\\u002fxpfUvjgo5z+Tq6ckmCDsP5g9JtuN8\\u002fA\\u002fRIPhueE99D\\u002fjpoWuR+\\u002f3P2qoErm\\u002fB\\u002fw\\u002f7UPE7KRDAECXovMH87YCQDdwFy7KXQVAy6wvXyo4CEBSWDybE0YLQMNyPeKFhw5AGn4ZmkD+EEBLeo7IgtISQPetfXyJwBRAHRnntVTIFkC8u8p05OkYQNWVKLk4JRtAaqcAg1F6HUBx8FLSLukfQHy4j1PoOCFAfRSzgBuKIkA8jJPwMOgjQLcfMaMoUyVA7c6LmALLJkDjmaPQvk8oQDEUKkOVSRJAk4+mTbB9EEDghDq7H5cNQIlZHOZnZgpAK53yGzlpB0DBT71ck58EQEhxfKh2CQJAhQNg\\u002fsVN\\u002fz9kArDBsO\\u002f6PzHf6Jqt+PY\\u002f35kKirxo8z92MhWP3T\\u002fwP\\u002fFREVQh\\u002fOo\\u002fvfrJtatG5j9bX1RDWl\\u002fiP4\\u002f\\u002fYPlZjN4\\u002fDLi8w0f22T8n6LvlffzWP+aPXl\\u002f8ntU\\u002fQa+kMMPd1T86Ro5Z0rjXP9VUG9opMNs\\u002fiO0l2eQh4D937A\\u002fx2HnjPzWnyzTxn+c\\u002fwx1ZpC2U7D8RKNwfRyvxPx6fdIOJc\\u002fQ\\u002fHfT1\\u002fN0i+D8DJ2CMRDn8P+qb2ZheWwBARZN39qPNAkCV+QlfcnMFQNnOkNLJTAhAERMMUapZC0AzxnvaE5oOQCn0bzcDBxFAszwcB8HaEkC4vEJcQ8gUQDV04zaKzxZALGP+lpXwGECfiZN8ZSsbQIrnouf5fx1A6Hws2FLuH0DlJBgnODshQBEn1yQpjCJA\\u002fERTZfzpI0CifozosVQlQAfUgq5JzCZAKUU2t8NQKEA=\",\"shape\":\"50, 50\"},\"type\":\"surface\"}],                        {\"autosize\":true,\"height\":700,\"scene\":{\"aspectmode\":\"manual\",\"aspectratio\":{\"x\":1,\"y\":1,\"z\":0.7},\"camera\":{\"eye\":{\"x\":-1.7428,\"y\":1.0707,\"z\":0.71},\"up\":{\"x\":0,\"y\":0,\"z\":1}},\"xaxis\":{\"gridcolor\":\"rgb(255, 255, 255)\",\"showbackground\":true,\"zerolinecolor\":\"rgb(255, 255, 255)\"},\"yaxis\":{\"gridcolor\":\"rgb(255, 255, 255)\",\"showbackground\":true,\"zerolinecolor\":\"rgb(255, 255, 255)\"},\"zaxis\":{\"gridcolor\":\"rgb(255, 255, 255)\",\"showbackground\":true,\"zerolinecolor\":\"rgb(255, 255, 255)\"}},\"template\":{\"data\":{\"barpolar\":[{\"marker\":{\"line\":{\"color\":\"#E5ECF6\",\"width\":0.5},\"pattern\":{\"fillmode\":\"overlay\",\"size\":10,\"solidity\":0.2}},\"type\":\"barpolar\"}],\"bar\":[{\"error_x\":{\"color\":\"#2a3f5f\"},\"error_y\":{\"color\":\"#2a3f5f\"},\"marker\":{\"line\":{\"color\":\"#E5ECF6\",\"width\":0.5},\"pattern\":{\"fillmode\":\"overlay\",\"size\":10,\"solidity\":0.2}},\"type\":\"bar\"}],\"carpet\":[{\"aaxis\":{\"endlinecolor\":\"#2a3f5f\",\"gridcolor\":\"white\",\"linecolor\":\"white\",\"minorgridcolor\":\"white\",\"startlinecolor\":\"#2a3f5f\"},\"baxis\":{\"endlinecolor\":\"#2a3f5f\",\"gridcolor\":\"white\",\"linecolor\":\"white\",\"minorgridcolor\":\"white\",\"startlinecolor\":\"#2a3f5f\"},\"type\":\"carpet\"}],\"choropleth\":[{\"colorbar\":{\"outlinewidth\":0,\"ticks\":\"\"},\"type\":\"choropleth\"}],\"contourcarpet\":[{\"colorbar\":{\"outlinewidth\":0,\"ticks\":\"\"},\"type\":\"contourcarpet\"}],\"contour\":[{\"colorbar\":{\"outlinewidth\":0,\"ticks\":\"\"},\"colorscale\":[[0.0,\"#0d0887\"],[0.1111111111111111,\"#46039f\"],[0.2222222222222222,\"#7201a8\"],[0.3333333333333333,\"#9c179e\"],[0.4444444444444444,\"#bd3786\"],[0.5555555555555556,\"#d8576b\"],[0.6666666666666666,\"#ed7953\"],[0.7777777777777778,\"#fb9f3a\"],[0.8888888888888888,\"#fdca26\"],[1.0,\"#f0f921\"]],\"type\":\"contour\"}],\"heatmap\":[{\"colorbar\":{\"outlinewidth\":0,\"ticks\":\"\"},\"colorscale\":[[0.0,\"#0d0887\"],[0.1111111111111111,\"#46039f\"],[0.2222222222222222,\"#7201a8\"],[0.3333333333333333,\"#9c179e\"],[0.4444444444444444,\"#bd3786\"],[0.5555555555555556,\"#d8576b\"],[0.6666666666666666,\"#ed7953\"],[0.7777777777777778,\"#fb9f3a\"],[0.8888888888888888,\"#fdca26\"],[1.0,\"#f0f921\"]],\"type\":\"heatmap\"}],\"histogram2dcontour\":[{\"colorbar\":{\"outlinewidth\":0,\"ticks\":\"\"},\"colorscale\":[[0.0,\"#0d0887\"],[0.1111111111111111,\"#46039f\"],[0.2222222222222222,\"#7201a8\"],[0.3333333333333333,\"#9c179e\"],[0.4444444444444444,\"#bd3786\"],[0.5555555555555556,\"#d8576b\"],[0.6666666666666666,\"#ed7953\"],[0.7777777777777778,\"#fb9f3a\"],[0.8888888888888888,\"#fdca26\"],[1.0,\"#f0f921\"]],\"type\":\"histogram2dcontour\"}],\"histogram2d\":[{\"colorbar\":{\"outlinewidth\":0,\"ticks\":\"\"},\"colorscale\":[[0.0,\"#0d0887\"],[0.1111111111111111,\"#46039f\"],[0.2222222222222222,\"#7201a8\"],[0.3333333333333333,\"#9c179e\"],[0.4444444444444444,\"#bd3786\"],[0.5555555555555556,\"#d8576b\"],[0.6666666666666666,\"#ed7953\"],[0.7777777777777778,\"#fb9f3a\"],[0.8888888888888888,\"#fdca26\"],[1.0,\"#f0f921\"]],\"type\":\"histogram2d\"}],\"histogram\":[{\"marker\":{\"pattern\":{\"fillmode\":\"overlay\",\"size\":10,\"solidity\":0.2}},\"type\":\"histogram\"}],\"mesh3d\":[{\"colorbar\":{\"outlinewidth\":0,\"ticks\":\"\"},\"type\":\"mesh3d\"}],\"parcoords\":[{\"line\":{\"colorbar\":{\"outlinewidth\":0,\"ticks\":\"\"}},\"type\":\"parcoords\"}],\"pie\":[{\"automargin\":true,\"type\":\"pie\"}],\"scatter3d\":[{\"line\":{\"colorbar\":{\"outlinewidth\":0,\"ticks\":\"\"}},\"marker\":{\"colorbar\":{\"outlinewidth\":0,\"ticks\":\"\"}},\"type\":\"scatter3d\"}],\"scattercarpet\":[{\"marker\":{\"colorbar\":{\"outlinewidth\":0,\"ticks\":\"\"}},\"type\":\"scattercarpet\"}],\"scattergeo\":[{\"marker\":{\"colorbar\":{\"outlinewidth\":0,\"ticks\":\"\"}},\"type\":\"scattergeo\"}],\"scattergl\":[{\"marker\":{\"colorbar\":{\"outlinewidth\":0,\"ticks\":\"\"}},\"type\":\"scattergl\"}],\"scattermapbox\":[{\"marker\":{\"colorbar\":{\"outlinewidth\":0,\"ticks\":\"\"}},\"type\":\"scattermapbox\"}],\"scattermap\":[{\"marker\":{\"colorbar\":{\"outlinewidth\":0,\"ticks\":\"\"}},\"type\":\"scattermap\"}],\"scatterpolargl\":[{\"marker\":{\"colorbar\":{\"outlinewidth\":0,\"ticks\":\"\"}},\"type\":\"scatterpolargl\"}],\"scatterpolar\":[{\"marker\":{\"colorbar\":{\"outlinewidth\":0,\"ticks\":\"\"}},\"type\":\"scatterpolar\"}],\"scatter\":[{\"fillpattern\":{\"fillmode\":\"overlay\",\"size\":10,\"solidity\":0.2},\"type\":\"scatter\"}],\"scatterternary\":[{\"marker\":{\"colorbar\":{\"outlinewidth\":0,\"ticks\":\"\"}},\"type\":\"scatterternary\"}],\"surface\":[{\"colorbar\":{\"outlinewidth\":0,\"ticks\":\"\"},\"colorscale\":[[0.0,\"#0d0887\"],[0.1111111111111111,\"#46039f\"],[0.2222222222222222,\"#7201a8\"],[0.3333333333333333,\"#9c179e\"],[0.4444444444444444,\"#bd3786\"],[0.5555555555555556,\"#d8576b\"],[0.6666666666666666,\"#ed7953\"],[0.7777777777777778,\"#fb9f3a\"],[0.8888888888888888,\"#fdca26\"],[1.0,\"#f0f921\"]],\"type\":\"surface\"}],\"table\":[{\"cells\":{\"fill\":{\"color\":\"#EBF0F8\"},\"line\":{\"color\":\"white\"}},\"header\":{\"fill\":{\"color\":\"#C8D4E3\"},\"line\":{\"color\":\"white\"}},\"type\":\"table\"}]},\"layout\":{\"annotationdefaults\":{\"arrowcolor\":\"#2a3f5f\",\"arrowhead\":0,\"arrowwidth\":1},\"autotypenumbers\":\"strict\",\"coloraxis\":{\"colorbar\":{\"outlinewidth\":0,\"ticks\":\"\"}},\"colorscale\":{\"diverging\":[[0,\"#8e0152\"],[0.1,\"#c51b7d\"],[0.2,\"#de77ae\"],[0.3,\"#f1b6da\"],[0.4,\"#fde0ef\"],[0.5,\"#f7f7f7\"],[0.6,\"#e6f5d0\"],[0.7,\"#b8e186\"],[0.8,\"#7fbc41\"],[0.9,\"#4d9221\"],[1,\"#276419\"]],\"sequential\":[[0.0,\"#0d0887\"],[0.1111111111111111,\"#46039f\"],[0.2222222222222222,\"#7201a8\"],[0.3333333333333333,\"#9c179e\"],[0.4444444444444444,\"#bd3786\"],[0.5555555555555556,\"#d8576b\"],[0.6666666666666666,\"#ed7953\"],[0.7777777777777778,\"#fb9f3a\"],[0.8888888888888888,\"#fdca26\"],[1.0,\"#f0f921\"]],\"sequentialminus\":[[0.0,\"#0d0887\"],[0.1111111111111111,\"#46039f\"],[0.2222222222222222,\"#7201a8\"],[0.3333333333333333,\"#9c179e\"],[0.4444444444444444,\"#bd3786\"],[0.5555555555555556,\"#d8576b\"],[0.6666666666666666,\"#ed7953\"],[0.7777777777777778,\"#fb9f3a\"],[0.8888888888888888,\"#fdca26\"],[1.0,\"#f0f921\"]]},\"colorway\":[\"#636efa\",\"#EF553B\",\"#00cc96\",\"#ab63fa\",\"#FFA15A\",\"#19d3f3\",\"#FF6692\",\"#B6E880\",\"#FF97FF\",\"#FECB52\"],\"font\":{\"color\":\"#2a3f5f\"},\"geo\":{\"bgcolor\":\"white\",\"lakecolor\":\"white\",\"landcolor\":\"#E5ECF6\",\"showlakes\":true,\"showland\":true,\"subunitcolor\":\"white\"},\"hoverlabel\":{\"align\":\"left\"},\"hovermode\":\"closest\",\"mapbox\":{\"style\":\"light\"},\"paper_bgcolor\":\"white\",\"plot_bgcolor\":\"#E5ECF6\",\"polar\":{\"angularaxis\":{\"gridcolor\":\"white\",\"linecolor\":\"white\",\"ticks\":\"\"},\"bgcolor\":\"#E5ECF6\",\"radialaxis\":{\"gridcolor\":\"white\",\"linecolor\":\"white\",\"ticks\":\"\"}},\"scene\":{\"xaxis\":{\"backgroundcolor\":\"#E5ECF6\",\"gridcolor\":\"white\",\"gridwidth\":2,\"linecolor\":\"white\",\"showbackground\":true,\"ticks\":\"\",\"zerolinecolor\":\"white\"},\"yaxis\":{\"backgroundcolor\":\"#E5ECF6\",\"gridcolor\":\"white\",\"gridwidth\":2,\"linecolor\":\"white\",\"showbackground\":true,\"ticks\":\"\",\"zerolinecolor\":\"white\"},\"zaxis\":{\"backgroundcolor\":\"#E5ECF6\",\"gridcolor\":\"white\",\"gridwidth\":2,\"linecolor\":\"white\",\"showbackground\":true,\"ticks\":\"\",\"zerolinecolor\":\"white\"}},\"shapedefaults\":{\"line\":{\"color\":\"#2a3f5f\"}},\"ternary\":{\"aaxis\":{\"gridcolor\":\"white\",\"linecolor\":\"white\",\"ticks\":\"\"},\"baxis\":{\"gridcolor\":\"white\",\"linecolor\":\"white\",\"ticks\":\"\"},\"bgcolor\":\"#E5ECF6\",\"caxis\":{\"gridcolor\":\"white\",\"linecolor\":\"white\",\"ticks\":\"\"}},\"title\":{\"x\":0.05},\"xaxis\":{\"automargin\":true,\"gridcolor\":\"white\",\"linecolor\":\"white\",\"ticks\":\"\",\"title\":{\"standoff\":15},\"zerolinecolor\":\"white\",\"zerolinewidth\":2},\"yaxis\":{\"automargin\":true,\"gridcolor\":\"white\",\"linecolor\":\"white\",\"ticks\":\"\",\"title\":{\"standoff\":15},\"zerolinecolor\":\"white\",\"zerolinewidth\":2}}},\"title\":{\"text\":\"Gradient Descent\"},\"width\":800},                        {\"responsive\": true}                    ).then(function(){\n",
       "                            \n",
       "var gd = document.getElementById('1c74eb65-9761-46a7-ad6a-e24d45d925c1');\n",
       "var x = new MutationObserver(function (mutations, observer) {{\n",
       "        var display = window.getComputedStyle(gd).display;\n",
       "        if (!display || display === 'none') {{\n",
       "            console.log([gd, 'removed!']);\n",
       "            Plotly.purge(gd);\n",
       "            observer.disconnect();\n",
       "        }}\n",
       "}});\n",
       "\n",
       "// Listen for the removal of the full notebook cells\n",
       "var notebookContainer = gd.closest('#notebook-container');\n",
       "if (notebookContainer) {{\n",
       "    x.observe(notebookContainer, {childList: true});\n",
       "}}\n",
       "\n",
       "// Listen for the clearing of the current output cell\n",
       "var outputEl = gd.closest('.output');\n",
       "if (outputEl) {{\n",
       "    x.observe(outputEl, {childList: true});\n",
       "}}\n",
       "\n",
       "                        })                };            </script>        </div>"
      ]
     },
     "metadata": {},
     "output_type": "display_data"
    }
   ],
   "source": [
    "# Run this cell to see a 3D plot (gradient descent with static alpha).\n",
    "from lab7_utils import plot_3d\n",
    "plot_3d(thetas[:, 0], thetas[:, 1], loss, mean_squared_error, sin_model, X, Y)"
   ]
  },
  {
   "cell_type": "code",
   "execution_count": 140,
   "metadata": {},
   "outputs": [],
   "source": [
    "def contour_plot(title, theta_history, loss_function, model, X, Y):\n",
    "    \"\"\"\n",
    "    The function takes the following as argument:\n",
    "        theta_history: An (N, 2) array of theta history.\n",
    "        loss: A list or array of loss values.\n",
    "        loss_function: For example, l2_loss.\n",
    "        model: For example, sin_model.\n",
    "        X: The original X input.\n",
    "        Y: The original Y output.\n",
    "    \"\"\"\n",
    "    theta_1_series = theta_history[:,0] # A list or array of theta_1 value\n",
    "    theta_2_series = theta_history[:,1] # A list or array of theta_2 value\n",
    "\n",
    "    ## In the following block of code, we generate the z-value\n",
    "    ## across a 2D grid\n",
    "    theta1_s = np.linspace(np.min(theta_1_series) - 0.1, np.max(theta_1_series) + 0.1)\n",
    "    theta2_s = np.linspace(np.min(theta_2_series) - 0.1, np.max(theta_2_series) + 0.1)\n",
    "\n",
    "    x_s, y_s = np.meshgrid(theta1_s, theta2_s)\n",
    "    data = np.stack([x_s.flatten(), y_s.flatten()]).T\n",
    "    ls = []\n",
    "    for theta1, theta2 in data:\n",
    "        l = loss_function(model(X, np.array([theta1, theta2])), Y)\n",
    "        ls.append(l)\n",
    "    z = np.array(ls).reshape(50, 50)\n",
    "\n",
    "    fig1, ax = plt.subplots(figsize=(30, 10))\n",
    "    cs = ax.contourf(x_s, y_s, z, levels=20, cmap='viridis')\n",
    "    ax.scatter(theta_1_series, theta_2_series, c='w')\n",
    "    ax.plot(theta_1_series, theta_2_series, c='w')\n",
    "\n",
    "    cbar = fig1.colorbar(cs)\n",
    "\n",
    "    plt.title(title)"
   ]
  },
  {
   "cell_type": "code",
   "execution_count": 141,
   "metadata": {},
   "outputs": [
    {
     "data": {
      "image/png": "[encoded data removed]",
      "text/plain": [
       "<Figure size 3000x1000 with 2 Axes>"
      ]
     },
     "metadata": {},
     "output_type": "display_data"
    }
   ],
   "source": [
    "contour_plot('Gradient Descent with Static Learning Rate', thetas, mean_squared_error, sin_model, df[\"x\"], df[\"y\"])"
   ]
  },
  {
   "cell_type": "markdown",
   "metadata": {},
   "source": [
    "As we can see, gradient descent is able to navigate even this fairly complex loss space and find a nice minimum."
   ]
  },
  {
   "cell_type": "markdown",
   "metadata": {},
   "source": [
    "### Bonus:\n",
    "To save some computational time, you will often see two modifications in the standard library:\n",
    "\n",
    "* Instead of always making some fixed number of iterations, we can terminate early if we determine that `theta` already converges. Convergence is usually defined by $\\theta_{t+1} - \\theta_{t}$ is less than some number, and you can specify this in the `tol` argument in `scipy.optimize.minimize` function. The maximum iteration can be set using the `maxiter` parameter as well.\n",
    "* Instead of calculating the risk by averaging over all data points, we estimate the risk by averaging over some subsample of data points. This is known as stochastic gradient descent and is usually denoted as SGD. See the relevant lecture slides for a more precise definition of SGD in the context of Data 100.\n"
   ]
  },
  {
   "cell_type": "markdown",
   "metadata": {},
   "source": [
    "<br/><br/>\n",
    "<hr style=\"border: 5px solid #003262;\" />\n",
    "<hr style=\"border: 1px solid #fdb515;\" />\n",
    "\n",
    "# Ruby congratulates you for finishing Lab 07!"
   ]
  },
  {
   "cell_type": "markdown",
   "metadata": {},
   "source": [
    "<img src='ruby.jpeg' width=\"400px\" />"
   ]
  },
  {
   "cell_type": "markdown",
   "metadata": {},
   "source": [
    "### Course Content Feedback\n",
    "\n",
    "If you have any feedback about this assignment or about any of our other weekly, weekly assignments, lectures, or discussions, please fill out the [Course Content Feedback Form](https://docs.google.com/forms/d/e/1FAIpQLSenPfvkr0iHmkxD0v4bjEyo1iH2g0znEYe-OEkShrJikFkFfg/viewform). Your input is valuable in helping us improve the quality and relevance of our content to better meet your needs and expectations!"
   ]
  },
  {
   "cell_type": "markdown",
   "metadata": {},
   "source": [
    "### Submission Instructions\n",
    "\n",
    "Below, you will see a cell. Running this cell will automatically generate a zip file with your autograded answers. Submit this file to the Lab 07 assignment on Gradescope. If you run into any issues when running this cell, feel free to check this [section](https://ds100.org/debugging-guide/autograder_gradescope/autograder_gradescope.html#why-does-grader.exportrun_teststrue-fail-if-all-previous-tests-passed) in the Data 100 Debugging Guide."
   ]
  },
  {
   "cell_type": "markdown",
   "metadata": {
    "deletable": false,
    "editable": false
   },
   "source": [
    "## Submission\n",
    "\n",
    "Make sure you have run all cells in your notebook in order before running the cell below, so that all images/graphs appear in the output. The cell below will generate a zip file for you to submit. **Please save before exporting!**"
   ]
  },
  {
   "cell_type": "code",
   "execution_count": 142,
   "metadata": {
    "deletable": false,
    "editable": false
   },
   "outputs": [
    {
     "name": "stdout",
     "output_type": "stream",
     "text": [
      "Running your submission against local test cases...\n",
      "\n",
      "\n",
      "Your submission received the following results when run against available test cases:\n",
      "\n",
      "    q1 results: All test cases passed!\n",
      "\n",
      "    q2a results: All test cases passed!\n",
      "\n",
      "    q2b results: All test cases passed!\n",
      "\n",
      "    q2c results: All test cases passed!\n",
      "\n",
      "    q3a results: All test cases passed!\n",
      "\n",
      "    q3c results: All test cases passed!\n",
      "\n",
      "    q4a results: All test cases passed!\n",
      "\n",
      "    q4b results: All test cases passed!\n"
     ]
    },
    {
     "data": {
      "text/html": [
       "\n",
       "                    <p>\n",
       "                        Your submission has been exported. Click\n",
       "                        <a href=\"lab07_2025_03_16T12_12_54_429411.zip\" download=\"lab07_2025_03_16T12_12_54_429411.zip\" target=\"_blank\">here</a> to download\n",
       "                        the zip file.\n",
       "                    </p>\n",
       "                "
      ],
      "text/plain": [
       "<IPython.core.display.HTML object>"
      ]
     },
     "metadata": {},
     "output_type": "display_data"
    }
   ],
   "source": [
    "# Save your notebook first, then run this cell to export your submission.\n",
    "grader.export(pdf=False, run_tests=True)"
   ]
  },
  {
   "cell_type": "markdown",
   "metadata": {},
   "source": [
    " "
   ]
  }
 ],
 "metadata": {
  "celltoolbar": "Create Assignment",
  "kernelspec": {
   "display_name": "Python 3",
   "language": "python",
   "name": "python3"
  },
  "language_info": {
   "codemirror_mode": {
    "name": "ipython",
    "version": 3
   },
   "file_extension": ".py",
   "mimetype": "text/x-python",
   "name": "python",
   "nbconvert_exporter": "python",
   "pygments_lexer": "ipython3",
   "version": "3.12.1"
  },
  "otter": {
   "OK_FORMAT": true,
   "tests": {
    "q1": {
     "name": "q1",
     "points": 2,
     "suites": [
      {
       "cases": [
        {
         "code": ">>> one_hot_X.shape == (244, 13)\nTrue",
         "hidden": false,
         "locked": false
        },
        {
         "code": ">>> bool(np.all([np.issubdtype(one_hot_X[column].dtype, np.number) for column in one_hot_X]))\nTrue",
         "hidden": false,
         "locked": false
        }
       ],
       "scored": true,
       "setup": "",
       "teardown": "",
       "type": "doctest"
      }
     ]
    },
    "q2a": {
     "name": "q2a",
     "points": null,
     "suites": [
      {
       "cases": [
        {
         "code": ">>> len(model._thetas) == 13\nTrue",
         "hidden": false,
         "locked": false
        },
        {
         "code": ">>> len(model_l1._thetas) == 13\nTrue",
         "hidden": false,
         "locked": false
        },
        {
         "code": ">>> test_model = MyScipyLinearModel()\n>>> test_model.fit(l1, one_hot_X, tips)\n>>> len(model_l1.predict(one_hot_X)) == 244\nTrue",
         "hidden": false,
         "locked": false
        },
        {
         "code": ">>> test_model = MyScipyLinearModel()\n>>> test_model.fit(l2, one_hot_X, tips)\n>>> len(test_model.predict(one_hot_X)) == 244\nTrue",
         "hidden": false,
         "locked": false
        }
       ],
       "scored": true,
       "setup": "",
       "teardown": "",
       "type": "doctest"
      }
     ]
    },
    "q2b": {
     "name": "q2b",
     "points": null,
     "suites": [
      {
       "cases": [
        {
         "code": ">>> isinstance(sklearn_model, LinearRegression)\nTrue",
         "hidden": false,
         "locked": false
        },
        {
         "code": ">>> len(sklearn_model.coef_) == 13\nTrue",
         "hidden": false,
         "locked": false
        },
        {
         "code": ">>> len(sklearn_model.predict(one_hot_X)) == 244\nTrue",
         "hidden": false,
         "locked": false
        }
       ],
       "scored": true,
       "setup": "",
       "teardown": "",
       "type": "doctest"
      }
     ]
    },
    "q2c": {
     "name": "q2c",
     "points": null,
     "suites": [
      {
       "cases": [
        {
         "code": ">>> len(sklearn_model_intercept.coef_) == 12\nTrue",
         "hidden": false,
         "locked": false
        },
        {
         "code": ">>> bool(sklearn_model_intercept.intercept_ != 0)\nTrue",
         "hidden": false,
         "locked": false
        }
       ],
       "scored": true,
       "setup": "",
       "teardown": "",
       "type": "doctest"
      }
     ]
    },
    "q3a": {
     "name": "q3a",
     "points": null,
     "suites": [
      {
       "cases": [
        {
         "code": ">>> X_test = np.array([[1, 2], [-1, -9]])\n>>> Y_test = np.array([1, 3])\n>>> model_test = MyAnalyticallyFitOLSModel()\n>>> model_test.fit(X_test, Y_test)\n>>> assert isinstance(model_test._thetas, np.ndarray)\n>>> assert np.all(np.isclose(model_test._thetas, np.array([2.14285714, -0.57142857])))\n>>> assert len(model_test.predict(X_test)) == 2\n",
         "hidden": false,
         "locked": false
        },
        {
         "code": ">>> X_test = pd.DataFrame([[1, 2], [-1, -9]])\n>>> Y_test = pd.Series([1, 3])\n>>> model_test = MyAnalyticallyFitOLSModel()\n>>> model_test.fit(X_test, Y_test)\n>>> assert isinstance(model_test._thetas, np.ndarray)\n>>> assert np.all(np.isclose(model_test._thetas, np.array([2.14285714, -0.57142857])))\n>>> assert len(model_test.predict(X_test)) == 2\n",
         "hidden": false,
         "locked": false
        }
       ],
       "scored": true,
       "setup": "",
       "teardown": "",
       "type": "doctest"
      }
     ]
    },
    "q3c": {
     "name": "q3c",
     "points": null,
     "suites": [
      {
       "cases": [
        {
         "code": ">>> one_hot_X_revised.shape == (244, 9)\nTrue",
         "hidden": false,
         "locked": false
        },
        {
         "code": ">>> bool(np.isclose(mean_squared_error(scipy_model.predict(one_hot_X_revised), tips), 1.043942840612841, rtol=1))\nTrue",
         "hidden": false,
         "locked": false
        },
        {
         "code": ">>> bool(np.isclose(mean_squared_error(analytical_model.predict(one_hot_X_revised), tips), 1.043942840612841, rtol=1))\nTrue",
         "hidden": false,
         "locked": false
        }
       ],
       "scored": true,
       "setup": "",
       "teardown": "",
       "type": "doctest"
      }
     ]
    },
    "q4a": {
     "name": "q4a",
     "points": null,
     "suites": [
      {
       "cases": [
        {
         "code": ">>> X, Y = (df['x'], df['y'])\n>>> bool(np.isclose(sin_MSE([0, np.pi], X, Y), 19.49000412080223))\nTrue",
         "hidden": false,
         "locked": false
        },
        {
         "code": ">>> X, Y = (df['x'], df['y'])\n>>> bool(np.isclose(sin_MSE([0, np.pi / 2], X, Y), 20.954427404991762))\nTrue",
         "hidden": false,
         "locked": false
        },
        {
         "code": ">>> X, Y = (df['x'], df['y'])\n>>> bool(np.isclose(sin_MSE_dt1([0, np.pi], X, Y), -25.37666067092453))\nTrue",
         "hidden": false,
         "locked": false
        },
        {
         "code": ">>> X, Y = (df['x'], df['y'])\n>>> bool(np.isclose(sin_MSE_dt1([0, np.pi / 2], X, Y), -25.815630534245813))\nTrue",
         "hidden": false,
         "locked": false
        },
        {
         "code": ">>> X, Y = (df['x'], df['y'])\n>>> bool(np.isclose(sin_MSE_dt2([0, np.pi], X, Y), 1.9427210155296564))\nTrue",
         "hidden": false,
         "locked": false
        },
        {
         "code": ">>> X, Y = (df['x'], df['y'])\n>>> bool(np.isclose(sin_MSE_dt2([0, np.pi / 2], X, Y), -8.680852400281287))\nTrue",
         "hidden": false,
         "locked": false
        }
       ],
       "scored": true,
       "setup": "",
       "teardown": "",
       "type": "doctest"
      }
     ]
    },
    "q4b": {
     "name": "q4b",
     "points": null,
     "suites": [
      {
       "cases": [
        {
         "code": ">>> bool(np.isclose(np.round(theta_hat[0], 8), 1.51625373) and np.isclose(np.round(theta_hat[1], 8), 2.99448441))\nTrue",
         "hidden": false,
         "locked": false
        },
        {
         "code": ">>> bool(np.isclose(np.round(thetas_used[1][0], 8), 2.60105745) and np.isclose(np.round(thetas_used[1][1], 8), 2.60105745))\nTrue",
         "hidden": false,
         "locked": false
        },
        {
         "code": ">>> bool(np.isclose(np.round(thetas_used[3][0], 8), 2.05633644) and np.isclose(np.round(thetas_used[3][1], 7), 2.9631291))\nTrue",
         "hidden": false,
         "locked": false
        },
        {
         "code": ">>> bool(np.isclose(np.round(losses_calculated[5], 8), 0.90732714) and np.isclose(np.round(losses_calculated[8], 8), 0.29697507))\nTrue",
         "hidden": false,
         "locked": false
        }
       ],
       "scored": true,
       "setup": "",
       "teardown": "",
       "type": "doctest"
      }
     ]
    }
   }
  }
 },
 "nbformat": 4,
 "nbformat_minor": 4
}
